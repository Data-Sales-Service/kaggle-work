{
 "cells": [
  {
   "cell_type": "markdown",
   "id": "fe2b4ef0",
   "metadata": {
    "papermill": {
     "duration": 0.004048,
     "end_time": "2024-06-14T15:38:55.116044",
     "exception": false,
     "start_time": "2024-06-14T15:38:55.111996",
     "status": "completed"
    },
    "tags": []
   },
   "source": [
    "# Scraping Wheel Of Fortune Answers Data\n",
    "\n",
    "This Jupyter Notebook serves as a scraper for extracting puzzle data from the Wheel of Fortune Answers website. Using Python libraries such as Requests, BeautifulSoup, and Pandas, it retrieves information about various puzzle categories like \"Around the House\", \"Before and After\", \"Book Title\", and many more. Each category's data is parsed into a structured format and stored in a Pandas DataFrame for further analysis or usage.\n",
    "\n",
    "The script navigates through the website, identifies relevant HTML elements containing puzzle details, and organizes them into a tabular format. This data can be utilized for insights into the frequency of certain puzzles, their characteristics, and other analytical purposes.\n",
    "\n",
    "To use this notebook effectively, ensure that you have the necessary Python libraries installed and a stable internet connection for accessing the Wheel of Fortune Answers website. Simply run each cell sequentially to execute the scraping process and view the results in the DataFrame displayed.\n",
    "\n",
    "Will update it soone.\n",
    "\n",
    "Source: https://wheeloffortuneanswer.com"
   ]
  },
  {
   "cell_type": "code",
   "execution_count": 1,
   "id": "b94cacb5",
   "metadata": {
    "execution": {
     "iopub.execute_input": "2024-06-14T15:38:55.126032Z",
     "iopub.status.busy": "2024-06-14T15:38:55.124888Z",
     "iopub.status.idle": "2024-06-14T15:38:57.084836Z",
     "shell.execute_reply": "2024-06-14T15:38:57.083726Z"
    },
    "papermill": {
     "duration": 1.96823,
     "end_time": "2024-06-14T15:38:57.088024",
     "exception": false,
     "start_time": "2024-06-14T15:38:55.119794",
     "status": "completed"
    },
    "tags": []
   },
   "outputs": [],
   "source": [
    "import requests\n",
    "from bs4 import BeautifulSoup\n",
    "import pandas as pd\n",
    "\n",
    "url = \"https://wheeloffortuneanswer.com/around-the-house/\"\n",
    "response=requests.get(url)\n",
    "html_content=response.text\n",
    "\n",
    "soup = BeautifulSoup(html_content, 'html.parser')"
   ]
  },
  {
   "cell_type": "code",
   "execution_count": 2,
   "id": "949848c2",
   "metadata": {
    "execution": {
     "iopub.execute_input": "2024-06-14T15:38:57.098051Z",
     "iopub.status.busy": "2024-06-14T15:38:57.096814Z",
     "iopub.status.idle": "2024-06-14T15:38:57.150317Z",
     "shell.execute_reply": "2024-06-14T15:38:57.148940Z"
    },
    "papermill": {
     "duration": 0.06133,
     "end_time": "2024-06-14T15:38:57.153066",
     "exception": false,
     "start_time": "2024-06-14T15:38:57.091736",
     "status": "completed"
    },
    "tags": []
   },
   "outputs": [
    {
     "data": {
      "text/plain": [
       "['https://wheeloffortuneanswer.com/around-the-house/',\n",
       " 'https://wheeloffortuneanswer.com/before-and-after/',\n",
       " 'https://wheeloffortuneanswer.com/book-title/',\n",
       " 'https://wheeloffortuneanswer.com/classic-movie/',\n",
       " 'https://wheeloffortuneanswer.com/classic-tv/']"
      ]
     },
     "execution_count": 2,
     "metadata": {},
     "output_type": "execute_result"
    }
   ],
   "source": [
    "url_list = []\n",
    "\n",
    "tbody = soup.find('tbody', class_='row-hover')\n",
    "if tbody:\n",
    "    links = tbody.find_all('a')\n",
    "    for link in links:\n",
    "        url = link.get('href')\n",
    "        if url:\n",
    "            url_list.append(url)\n",
    "\n",
    "url_list = [link for link in url_list if 'filter' not in link]\n",
    "url_list[:5]"
   ]
  },
  {
   "cell_type": "code",
   "execution_count": 3,
   "id": "7354f6a9",
   "metadata": {
    "execution": {
     "iopub.execute_input": "2024-06-14T15:38:57.162788Z",
     "iopub.status.busy": "2024-06-14T15:38:57.161776Z",
     "iopub.status.idle": "2024-06-14T15:39:00.335771Z",
     "shell.execute_reply": "2024-06-14T15:39:00.334572Z"
    },
    "papermill": {
     "duration": 3.181829,
     "end_time": "2024-06-14T15:39:00.338588",
     "exception": false,
     "start_time": "2024-06-14T15:38:57.156759",
     "status": "completed"
    },
    "tags": []
   },
   "outputs": [],
   "source": [
    "rows = soup.find_all('tr', class_=['even', 'odd'])\n",
    "\n",
    "data = []\n",
    "\n",
    "for url in url_list:\n",
    "    \n",
    "    # get category\n",
    "    parts = url.split('.com/')\n",
    "    words = parts[1].split('-')\n",
    "    title_case_words = [word.capitalize() for word in words]\n",
    "    category = ' '.join(title_case_words).strip('/')\n",
    "\n",
    "    for row in rows:\n",
    "        columns=row.find_all('td')\n",
    "        if len(columns)== 4:\n",
    "            item = columns[0].text.strip()\n",
    "            num_words = int(columns[1].text.strip())\n",
    "            total_letters = int(columns[2].text.strip())\n",
    "            first_word_letters = int(columns[3].text.strip())\n",
    "\n",
    "            data.append({\n",
    "                'Category': category,\n",
    "                'Word To guess': item,\n",
    "                'Number of words': num_words,\n",
    "                'Total number of letters': total_letters,\n",
    "                'First word letters': first_word_letters\n",
    "            })"
   ]
  },
  {
   "cell_type": "code",
   "execution_count": 4,
   "id": "917f88e0",
   "metadata": {
    "execution": {
     "iopub.execute_input": "2024-06-14T15:39:00.347564Z",
     "iopub.status.busy": "2024-06-14T15:39:00.347129Z",
     "iopub.status.idle": "2024-06-14T15:39:00.591502Z",
     "shell.execute_reply": "2024-06-14T15:39:00.590221Z"
    },
    "papermill": {
     "duration": 0.251716,
     "end_time": "2024-06-14T15:39:00.594074",
     "exception": false,
     "start_time": "2024-06-14T15:39:00.342358",
     "status": "completed"
    },
    "tags": []
   },
   "outputs": [
    {
     "data": {
      "text/html": [
       "<div>\n",
       "<style scoped>\n",
       "    .dataframe tbody tr th:only-of-type {\n",
       "        vertical-align: middle;\n",
       "    }\n",
       "\n",
       "    .dataframe tbody tr th {\n",
       "        vertical-align: top;\n",
       "    }\n",
       "\n",
       "    .dataframe thead th {\n",
       "        text-align: right;\n",
       "    }\n",
       "</style>\n",
       "<table border=\"1\" class=\"dataframe\">\n",
       "  <thead>\n",
       "    <tr style=\"text-align: right;\">\n",
       "      <th></th>\n",
       "      <th>Category</th>\n",
       "      <th>Word To guess</th>\n",
       "      <th>Number of words</th>\n",
       "      <th>Total number of letters</th>\n",
       "      <th>First word letters</th>\n",
       "    </tr>\n",
       "  </thead>\n",
       "  <tbody>\n",
       "    <tr>\n",
       "      <th>0</th>\n",
       "      <td>Around The House</td>\n",
       "      <td>A Glass Of Bourbon</td>\n",
       "      <td>4</td>\n",
       "      <td>15</td>\n",
       "      <td>1</td>\n",
       "    </tr>\n",
       "    <tr>\n",
       "      <th>1</th>\n",
       "      <td>Around The House</td>\n",
       "      <td>A Nice Hot Shower</td>\n",
       "      <td>4</td>\n",
       "      <td>14</td>\n",
       "      <td>1</td>\n",
       "    </tr>\n",
       "    <tr>\n",
       "      <th>2</th>\n",
       "      <td>Around The House</td>\n",
       "      <td>A Pile Of Coats</td>\n",
       "      <td>4</td>\n",
       "      <td>12</td>\n",
       "      <td>1</td>\n",
       "    </tr>\n",
       "    <tr>\n",
       "      <th>3</th>\n",
       "      <td>Around The House</td>\n",
       "      <td>A Pile Of Coats On The Bed</td>\n",
       "      <td>7</td>\n",
       "      <td>20</td>\n",
       "      <td>1</td>\n",
       "    </tr>\n",
       "    <tr>\n",
       "      <th>4</th>\n",
       "      <td>Around The House</td>\n",
       "      <td>A Shelf Full Of Knickknacks</td>\n",
       "      <td>5</td>\n",
       "      <td>23</td>\n",
       "      <td>1</td>\n",
       "    </tr>\n",
       "  </tbody>\n",
       "</table>\n",
       "</div>"
      ],
      "text/plain": [
       "           Category                Word To guess  Number of words  \\\n",
       "0  Around The House           A Glass Of Bourbon                4   \n",
       "1  Around The House            A Nice Hot Shower                4   \n",
       "2  Around The House              A Pile Of Coats                4   \n",
       "3  Around The House   A Pile Of Coats On The Bed                7   \n",
       "4  Around The House  A Shelf Full Of Knickknacks                5   \n",
       "\n",
       "   Total number of letters  First word letters  \n",
       "0                       15                   1  \n",
       "1                       14                   1  \n",
       "2                       12                   1  \n",
       "3                       20                   1  \n",
       "4                       23                   1  "
      ]
     },
     "execution_count": 4,
     "metadata": {},
     "output_type": "execute_result"
    }
   ],
   "source": [
    "df = pd.DataFrame.from_dict(data)\n",
    "df.head()"
   ]
  },
  {
   "cell_type": "code",
   "execution_count": 5,
   "id": "846eec1e",
   "metadata": {
    "execution": {
     "iopub.execute_input": "2024-06-14T15:39:00.603588Z",
     "iopub.status.busy": "2024-06-14T15:39:00.603075Z",
     "iopub.status.idle": "2024-06-14T15:39:00.617688Z",
     "shell.execute_reply": "2024-06-14T15:39:00.616434Z"
    },
    "papermill": {
     "duration": 0.022113,
     "end_time": "2024-06-14T15:39:00.620017",
     "exception": false,
     "start_time": "2024-06-14T15:39:00.597904",
     "status": "completed"
    },
    "tags": []
   },
   "outputs": [
    {
     "data": {
      "text/html": [
       "<div>\n",
       "<style scoped>\n",
       "    .dataframe tbody tr th:only-of-type {\n",
       "        vertical-align: middle;\n",
       "    }\n",
       "\n",
       "    .dataframe tbody tr th {\n",
       "        vertical-align: top;\n",
       "    }\n",
       "\n",
       "    .dataframe thead th {\n",
       "        text-align: right;\n",
       "    }\n",
       "</style>\n",
       "<table border=\"1\" class=\"dataframe\">\n",
       "  <thead>\n",
       "    <tr style=\"text-align: right;\">\n",
       "      <th></th>\n",
       "      <th>Category</th>\n",
       "      <th>Word To guess</th>\n",
       "      <th>Number of words</th>\n",
       "      <th>Total number of letters</th>\n",
       "      <th>First word letters</th>\n",
       "    </tr>\n",
       "  </thead>\n",
       "  <tbody>\n",
       "    <tr>\n",
       "      <th>82095</th>\n",
       "      <td>Where Are We Going</td>\n",
       "      <td>Wraparound Window Seat</td>\n",
       "      <td>3</td>\n",
       "      <td>20</td>\n",
       "      <td>10</td>\n",
       "    </tr>\n",
       "    <tr>\n",
       "      <th>82096</th>\n",
       "      <td>Where Are We Going</td>\n",
       "      <td>Writing A Love Letter</td>\n",
       "      <td>4</td>\n",
       "      <td>18</td>\n",
       "      <td>7</td>\n",
       "    </tr>\n",
       "    <tr>\n",
       "      <th>82097</th>\n",
       "      <td>Where Are We Going</td>\n",
       "      <td>Writing Tablet</td>\n",
       "      <td>2</td>\n",
       "      <td>13</td>\n",
       "      <td>7</td>\n",
       "    </tr>\n",
       "    <tr>\n",
       "      <th>82098</th>\n",
       "      <td>Where Are We Going</td>\n",
       "      <td>Wrought-Iron Chandeliers</td>\n",
       "      <td>2</td>\n",
       "      <td>22</td>\n",
       "      <td>11</td>\n",
       "    </tr>\n",
       "    <tr>\n",
       "      <th>82099</th>\n",
       "      <td>Where Are We Going</td>\n",
       "      <td>Yellow Sundress</td>\n",
       "      <td>2</td>\n",
       "      <td>14</td>\n",
       "      <td>6</td>\n",
       "    </tr>\n",
       "  </tbody>\n",
       "</table>\n",
       "</div>"
      ],
      "text/plain": [
       "                 Category             Word To guess  Number of words  \\\n",
       "82095  Where Are We Going    Wraparound Window Seat                3   \n",
       "82096  Where Are We Going     Writing A Love Letter                4   \n",
       "82097  Where Are We Going            Writing Tablet                2   \n",
       "82098  Where Are We Going  Wrought-Iron Chandeliers                2   \n",
       "82099  Where Are We Going           Yellow Sundress                2   \n",
       "\n",
       "       Total number of letters  First word letters  \n",
       "82095                       20                  10  \n",
       "82096                       18                   7  \n",
       "82097                       13                   7  \n",
       "82098                       22                  11  \n",
       "82099                       14                   6  "
      ]
     },
     "execution_count": 5,
     "metadata": {},
     "output_type": "execute_result"
    }
   ],
   "source": [
    "df.tail()"
   ]
  },
  {
   "cell_type": "code",
   "execution_count": 6,
   "id": "939ddc1e",
   "metadata": {
    "execution": {
     "iopub.execute_input": "2024-06-14T15:39:00.629491Z",
     "iopub.status.busy": "2024-06-14T15:39:00.629080Z",
     "iopub.status.idle": "2024-06-14T15:39:00.638740Z",
     "shell.execute_reply": "2024-06-14T15:39:00.637738Z"
    },
    "papermill": {
     "duration": 0.016874,
     "end_time": "2024-06-14T15:39:00.640894",
     "exception": false,
     "start_time": "2024-06-14T15:39:00.624020",
     "status": "completed"
    },
    "tags": []
   },
   "outputs": [
    {
     "data": {
      "text/plain": [
       "(82100, 5)"
      ]
     },
     "execution_count": 6,
     "metadata": {},
     "output_type": "execute_result"
    }
   ],
   "source": [
    "df.shape"
   ]
  }
 ],
 "metadata": {
  "kaggle": {
   "accelerator": "none",
   "dataSources": [],
   "dockerImageVersionId": 30732,
   "isGpuEnabled": false,
   "isInternetEnabled": true,
   "language": "python",
   "sourceType": "notebook"
  },
  "kernelspec": {
   "display_name": "Python 3",
   "language": "python",
   "name": "python3"
  },
  "language_info": {
   "codemirror_mode": {
    "name": "ipython",
    "version": 3
   },
   "file_extension": ".py",
   "mimetype": "text/x-python",
   "name": "python",
   "nbconvert_exporter": "python",
   "pygments_lexer": "ipython3",
   "version": "3.10.13"
  },
  "papermill": {
   "default_parameters": {},
   "duration": 9.417001,
   "end_time": "2024-06-14T15:39:01.164629",
   "environment_variables": {},
   "exception": null,
   "input_path": "__notebook__.ipynb",
   "output_path": "__notebook__.ipynb",
   "parameters": {},
   "start_time": "2024-06-14T15:38:51.747628",
   "version": "2.5.0"
  }
 },
 "nbformat": 4,
 "nbformat_minor": 5
}
