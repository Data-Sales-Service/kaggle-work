{
 "cells": [
  {
   "cell_type": "markdown",
   "id": "4ff984ac",
   "metadata": {
    "papermill": {
     "duration": 0.11513,
     "end_time": "2024-06-25T02:03:59.650713",
     "exception": false,
     "start_time": "2024-06-25T02:03:59.535583",
     "status": "completed"
    },
    "tags": []
   },
   "source": [
    "## Introduction"
   ]
  },
  {
   "cell_type": "markdown",
   "id": "1e8e7c65",
   "metadata": {
    "papermill": {
     "duration": 0.112988,
     "end_time": "2024-06-25T02:03:59.878281",
     "exception": false,
     "start_time": "2024-06-25T02:03:59.765293",
     "status": "completed"
    },
    "tags": []
   },
   "source": [
    "In this notebook we're going to build and train a deep learning model \"from scratch\" -- by which I mean that we're not going to use any pre-built architecture, or optimizers, or data loading frameworks, etc.\n",
    "\n",
    "We'll be assuming you already know the basics of how a neural network works. If you don't, read this notebook first: [How does a neural net really work?\n",
    "](https://www.kaggle.com/code/jhoward/how-does-a-neural-net-really-work). We'll be using Kaggle's [Titanic](https://www.kaggle.com/competitions/titanic/) competition in this notebook, because it's very small and simple, but also has displays many of the tricky real-life issues that we need to handle in most practical projects. (Note, however, that this competition is a small \"learner\" competition on Kaggle, so don't expect to actually see much benefits from using a neural net just yet; that will come once we try our some real competitions!)\n",
    "\n",
    "It's great to be able to run the same notebook on your own machine or Colab, as well as Kaggle. To allow for this, we use this code to download the data as needed when not on Kaggle (see [this notebook](https://www.kaggle.com/code/jhoward/getting-started-with-nlp-for-absolute-beginners/) for details about this technique):"
   ]
  },
  {
   "cell_type": "code",
   "execution_count": 1,
   "id": "74532ec4",
   "metadata": {
    "execution": {
     "iopub.execute_input": "2024-06-25T02:04:00.106308Z",
     "iopub.status.busy": "2024-06-25T02:04:00.105271Z",
     "iopub.status.idle": "2024-06-25T02:04:00.120127Z",
     "shell.execute_reply": "2024-06-25T02:04:00.119227Z"
    },
    "papermill": {
     "duration": 0.131734,
     "end_time": "2024-06-25T02:04:00.122405",
     "exception": false,
     "start_time": "2024-06-25T02:03:59.990671",
     "status": "completed"
    },
    "tags": []
   },
   "outputs": [
    {
     "name": "stdout",
     "output_type": "stream",
     "text": [
      "creating neural network\n",
      "connected to github.cm\n"
     ]
    }
   ],
   "source": [
    "print('creating neural network')\n",
    "print('connected to github.cm')\n",
    "import os\n",
    "from pathlib import Path\n",
    "\n",
    "iskaggle = os.environ.get('KAGGLE_KERNEL_RUN_TYPE', '')\n",
    "if iskaggle: path = Path('../input/titanic')\n",
    "else:\n",
    "    path = Path('titanic')\n",
    "    if not path.exists():\n",
    "        import zipfile,kaggle\n",
    "        kaggle.api.competition_download_cli(str(path))\n",
    "        zipfile.ZipFile(f'{path}.zip').extractall(path)"
   ]
  },
  {
   "cell_type": "markdown",
   "id": "e78bdc16",
   "metadata": {
    "hidden": true,
    "papermill": {
     "duration": 0.115887,
     "end_time": "2024-06-25T02:04:00.352599",
     "exception": false,
     "start_time": "2024-06-25T02:04:00.236712",
     "status": "completed"
    },
    "tags": []
   },
   "source": [
    "Note that the data for Kaggle comps always lives in the `../input` folder. The easiest way to get the path is to click the \"K\" button in the top-right of the Kaggle notebook, click on the folder shown there, and click the copy button.\n",
    "\n",
    "We'll be using *numpy* and *pytorch* for array calculations in this notebook, and *pandas* for working with tabular data, so we'll import them and set them to display using a bit more space than they default to."
   ]
  },
  {
   "cell_type": "code",
   "execution_count": 2,
   "id": "b6e1dd29",
   "metadata": {
    "execution": {
     "iopub.execute_input": "2024-06-25T02:04:00.583718Z",
     "iopub.status.busy": "2024-06-25T02:04:00.583405Z",
     "iopub.status.idle": "2024-06-25T02:04:01.903496Z",
     "shell.execute_reply": "2024-06-25T02:04:01.902589Z"
    },
    "papermill": {
     "duration": 1.438216,
     "end_time": "2024-06-25T02:04:01.906015",
     "exception": false,
     "start_time": "2024-06-25T02:04:00.467799",
     "status": "completed"
    },
    "tags": []
   },
   "outputs": [],
   "source": [
    "import torch, numpy as np, pandas as pd\n",
    "np.set_printoptions(linewidth=140)\n",
    "torch.set_printoptions(linewidth=140, sci_mode=False, edgeitems=7)\n",
    "pd.set_option('display.width', 140)"
   ]
  },
  {
   "cell_type": "markdown",
   "id": "e15243e0",
   "metadata": {
    "heading_collapsed": true,
    "papermill": {
     "duration": 0.115127,
     "end_time": "2024-06-25T02:04:02.135119",
     "exception": false,
     "start_time": "2024-06-25T02:04:02.019992",
     "status": "completed"
    },
    "tags": []
   },
   "source": [
    "## Cleaning the data"
   ]
  },
  {
   "cell_type": "markdown",
   "id": "76c0670c",
   "metadata": {
    "hidden": true,
    "papermill": {
     "duration": 0.113527,
     "end_time": "2024-06-25T02:04:02.363904",
     "exception": false,
     "start_time": "2024-06-25T02:04:02.250377",
     "status": "completed"
    },
    "tags": []
   },
   "source": [
    "This is a *tabular data* competition -- the data is in the form of a table. It's provided as a Comma Separated Values (CSV) file. We can open it using the *pandas* library, which will create a `DataFrame`."
   ]
  },
  {
   "cell_type": "code",
   "execution_count": 3,
   "id": "e9fd04f9",
   "metadata": {
    "execution": {
     "iopub.execute_input": "2024-06-25T02:04:02.594885Z",
     "iopub.status.busy": "2024-06-25T02:04:02.594593Z",
     "iopub.status.idle": "2024-06-25T02:04:02.640187Z",
     "shell.execute_reply": "2024-06-25T02:04:02.639369Z"
    },
    "hidden": true,
    "papermill": {
     "duration": 0.163632,
     "end_time": "2024-06-25T02:04:02.642986",
     "exception": false,
     "start_time": "2024-06-25T02:04:02.479354",
     "status": "completed"
    },
    "scrolled": true,
    "tags": []
   },
   "outputs": [
    {
     "data": {
      "text/html": [
       "<div>\n",
       "<style scoped>\n",
       "    .dataframe tbody tr th:only-of-type {\n",
       "        vertical-align: middle;\n",
       "    }\n",
       "\n",
       "    .dataframe tbody tr th {\n",
       "        vertical-align: top;\n",
       "    }\n",
       "\n",
       "    .dataframe thead th {\n",
       "        text-align: right;\n",
       "    }\n",
       "</style>\n",
       "<table border=\"1\" class=\"dataframe\">\n",
       "  <thead>\n",
       "    <tr style=\"text-align: right;\">\n",
       "      <th></th>\n",
       "      <th>PassengerId</th>\n",
       "      <th>Survived</th>\n",
       "      <th>Pclass</th>\n",
       "      <th>Name</th>\n",
       "      <th>Sex</th>\n",
       "      <th>Age</th>\n",
       "      <th>SibSp</th>\n",
       "      <th>Parch</th>\n",
       "      <th>Ticket</th>\n",
       "      <th>Fare</th>\n",
       "      <th>Cabin</th>\n",
       "      <th>Embarked</th>\n",
       "    </tr>\n",
       "  </thead>\n",
       "  <tbody>\n",
       "    <tr>\n",
       "      <th>0</th>\n",
       "      <td>1</td>\n",
       "      <td>0</td>\n",
       "      <td>3</td>\n",
       "      <td>Braund, Mr. Owen Harris</td>\n",
       "      <td>male</td>\n",
       "      <td>22.0</td>\n",
       "      <td>1</td>\n",
       "      <td>0</td>\n",
       "      <td>A/5 21171</td>\n",
       "      <td>7.2500</td>\n",
       "      <td>NaN</td>\n",
       "      <td>S</td>\n",
       "    </tr>\n",
       "    <tr>\n",
       "      <th>1</th>\n",
       "      <td>2</td>\n",
       "      <td>1</td>\n",
       "      <td>1</td>\n",
       "      <td>Cumings, Mrs. John Bradley (Florence Briggs Th...</td>\n",
       "      <td>female</td>\n",
       "      <td>38.0</td>\n",
       "      <td>1</td>\n",
       "      <td>0</td>\n",
       "      <td>PC 17599</td>\n",
       "      <td>71.2833</td>\n",
       "      <td>C85</td>\n",
       "      <td>C</td>\n",
       "    </tr>\n",
       "    <tr>\n",
       "      <th>2</th>\n",
       "      <td>3</td>\n",
       "      <td>1</td>\n",
       "      <td>3</td>\n",
       "      <td>Heikkinen, Miss. Laina</td>\n",
       "      <td>female</td>\n",
       "      <td>26.0</td>\n",
       "      <td>0</td>\n",
       "      <td>0</td>\n",
       "      <td>STON/O2. 3101282</td>\n",
       "      <td>7.9250</td>\n",
       "      <td>NaN</td>\n",
       "      <td>S</td>\n",
       "    </tr>\n",
       "    <tr>\n",
       "      <th>3</th>\n",
       "      <td>4</td>\n",
       "      <td>1</td>\n",
       "      <td>1</td>\n",
       "      <td>Futrelle, Mrs. Jacques Heath (Lily May Peel)</td>\n",
       "      <td>female</td>\n",
       "      <td>35.0</td>\n",
       "      <td>1</td>\n",
       "      <td>0</td>\n",
       "      <td>113803</td>\n",
       "      <td>53.1000</td>\n",
       "      <td>C123</td>\n",
       "      <td>S</td>\n",
       "    </tr>\n",
       "    <tr>\n",
       "      <th>4</th>\n",
       "      <td>5</td>\n",
       "      <td>0</td>\n",
       "      <td>3</td>\n",
       "      <td>Allen, Mr. William Henry</td>\n",
       "      <td>male</td>\n",
       "      <td>35.0</td>\n",
       "      <td>0</td>\n",
       "      <td>0</td>\n",
       "      <td>373450</td>\n",
       "      <td>8.0500</td>\n",
       "      <td>NaN</td>\n",
       "      <td>S</td>\n",
       "    </tr>\n",
       "    <tr>\n",
       "      <th>...</th>\n",
       "      <td>...</td>\n",
       "      <td>...</td>\n",
       "      <td>...</td>\n",
       "      <td>...</td>\n",
       "      <td>...</td>\n",
       "      <td>...</td>\n",
       "      <td>...</td>\n",
       "      <td>...</td>\n",
       "      <td>...</td>\n",
       "      <td>...</td>\n",
       "      <td>...</td>\n",
       "      <td>...</td>\n",
       "    </tr>\n",
       "    <tr>\n",
       "      <th>886</th>\n",
       "      <td>887</td>\n",
       "      <td>0</td>\n",
       "      <td>2</td>\n",
       "      <td>Montvila, Rev. Juozas</td>\n",
       "      <td>male</td>\n",
       "      <td>27.0</td>\n",
       "      <td>0</td>\n",
       "      <td>0</td>\n",
       "      <td>211536</td>\n",
       "      <td>13.0000</td>\n",
       "      <td>NaN</td>\n",
       "      <td>S</td>\n",
       "    </tr>\n",
       "    <tr>\n",
       "      <th>887</th>\n",
       "      <td>888</td>\n",
       "      <td>1</td>\n",
       "      <td>1</td>\n",
       "      <td>Graham, Miss. Margaret Edith</td>\n",
       "      <td>female</td>\n",
       "      <td>19.0</td>\n",
       "      <td>0</td>\n",
       "      <td>0</td>\n",
       "      <td>112053</td>\n",
       "      <td>30.0000</td>\n",
       "      <td>B42</td>\n",
       "      <td>S</td>\n",
       "    </tr>\n",
       "    <tr>\n",
       "      <th>888</th>\n",
       "      <td>889</td>\n",
       "      <td>0</td>\n",
       "      <td>3</td>\n",
       "      <td>Johnston, Miss. Catherine Helen \"Carrie\"</td>\n",
       "      <td>female</td>\n",
       "      <td>NaN</td>\n",
       "      <td>1</td>\n",
       "      <td>2</td>\n",
       "      <td>W./C. 6607</td>\n",
       "      <td>23.4500</td>\n",
       "      <td>NaN</td>\n",
       "      <td>S</td>\n",
       "    </tr>\n",
       "    <tr>\n",
       "      <th>889</th>\n",
       "      <td>890</td>\n",
       "      <td>1</td>\n",
       "      <td>1</td>\n",
       "      <td>Behr, Mr. Karl Howell</td>\n",
       "      <td>male</td>\n",
       "      <td>26.0</td>\n",
       "      <td>0</td>\n",
       "      <td>0</td>\n",
       "      <td>111369</td>\n",
       "      <td>30.0000</td>\n",
       "      <td>C148</td>\n",
       "      <td>C</td>\n",
       "    </tr>\n",
       "    <tr>\n",
       "      <th>890</th>\n",
       "      <td>891</td>\n",
       "      <td>0</td>\n",
       "      <td>3</td>\n",
       "      <td>Dooley, Mr. Patrick</td>\n",
       "      <td>male</td>\n",
       "      <td>32.0</td>\n",
       "      <td>0</td>\n",
       "      <td>0</td>\n",
       "      <td>370376</td>\n",
       "      <td>7.7500</td>\n",
       "      <td>NaN</td>\n",
       "      <td>Q</td>\n",
       "    </tr>\n",
       "  </tbody>\n",
       "</table>\n",
       "<p>891 rows × 12 columns</p>\n",
       "</div>"
      ],
      "text/plain": [
       "     PassengerId  Survived  Pclass                                               Name     Sex   Age  SibSp  Parch            Ticket  \\\n",
       "0              1         0       3                            Braund, Mr. Owen Harris    male  22.0      1      0         A/5 21171   \n",
       "1              2         1       1  Cumings, Mrs. John Bradley (Florence Briggs Th...  female  38.0      1      0          PC 17599   \n",
       "2              3         1       3                             Heikkinen, Miss. Laina  female  26.0      0      0  STON/O2. 3101282   \n",
       "3              4         1       1       Futrelle, Mrs. Jacques Heath (Lily May Peel)  female  35.0      1      0            113803   \n",
       "4              5         0       3                           Allen, Mr. William Henry    male  35.0      0      0            373450   \n",
       "..           ...       ...     ...                                                ...     ...   ...    ...    ...               ...   \n",
       "886          887         0       2                              Montvila, Rev. Juozas    male  27.0      0      0            211536   \n",
       "887          888         1       1                       Graham, Miss. Margaret Edith  female  19.0      0      0            112053   \n",
       "888          889         0       3           Johnston, Miss. Catherine Helen \"Carrie\"  female   NaN      1      2        W./C. 6607   \n",
       "889          890         1       1                              Behr, Mr. Karl Howell    male  26.0      0      0            111369   \n",
       "890          891         0       3                                Dooley, Mr. Patrick    male  32.0      0      0            370376   \n",
       "\n",
       "        Fare Cabin Embarked  \n",
       "0     7.2500   NaN        S  \n",
       "1    71.2833   C85        C  \n",
       "2     7.9250   NaN        S  \n",
       "3    53.1000  C123        S  \n",
       "4     8.0500   NaN        S  \n",
       "..       ...   ...      ...  \n",
       "886  13.0000   NaN        S  \n",
       "887  30.0000   B42        S  \n",
       "888  23.4500   NaN        S  \n",
       "889  30.0000  C148        C  \n",
       "890   7.7500   NaN        Q  \n",
       "\n",
       "[891 rows x 12 columns]"
      ]
     },
     "execution_count": 3,
     "metadata": {},
     "output_type": "execute_result"
    }
   ],
   "source": [
    "df = pd.read_csv(path/'train.csv')\n",
    "df"
   ]
  },
  {
   "cell_type": "markdown",
   "id": "1d097ea1",
   "metadata": {
    "hidden": true,
    "papermill": {
     "duration": 0.114936,
     "end_time": "2024-06-25T02:04:02.873074",
     "exception": false,
     "start_time": "2024-06-25T02:04:02.758138",
     "status": "completed"
    },
    "tags": []
   },
   "source": [
    "As we learned in the *How does a neural net really work* notebook, we going to want to multiply each column by some coefficients. But we can see in the `Cabin` column that there are `NaN` values, which is how Pandas refers to missing values. We can't multiply something by a missing value!\n",
    "\n",
    "Let's check which columns contain `NaN` values. Pandas' `isna()` function returns `True` (which is treated as `1` when used as a number) for `NaN` values, so we can just add them up for each column:"
   ]
  },
  {
   "cell_type": "code",
   "execution_count": 4,
   "id": "912daf03",
   "metadata": {
    "execution": {
     "iopub.execute_input": "2024-06-25T02:04:03.103796Z",
     "iopub.status.busy": "2024-06-25T02:04:03.103492Z",
     "iopub.status.idle": "2024-06-25T02:04:03.112621Z",
     "shell.execute_reply": "2024-06-25T02:04:03.111807Z"
    },
    "hidden": true,
    "papermill": {
     "duration": 0.126659,
     "end_time": "2024-06-25T02:04:03.114727",
     "exception": false,
     "start_time": "2024-06-25T02:04:02.988068",
     "status": "completed"
    },
    "tags": []
   },
   "outputs": [
    {
     "data": {
      "text/plain": [
       "PassengerId      0\n",
       "Survived         0\n",
       "Pclass           0\n",
       "Name             0\n",
       "Sex              0\n",
       "Age            177\n",
       "SibSp            0\n",
       "Parch            0\n",
       "Ticket           0\n",
       "Fare             0\n",
       "Cabin          687\n",
       "Embarked         2\n",
       "dtype: int64"
      ]
     },
     "execution_count": 4,
     "metadata": {},
     "output_type": "execute_result"
    }
   ],
   "source": [
    "df.isna().sum()"
   ]
  },
  {
   "cell_type": "markdown",
   "id": "c9487eae",
   "metadata": {
    "hidden": true,
    "papermill": {
     "duration": 0.116147,
     "end_time": "2024-06-25T02:04:03.349130",
     "exception": false,
     "start_time": "2024-06-25T02:04:03.232983",
     "status": "completed"
    },
    "tags": []
   },
   "source": [
    "Notice that by default Pandas sums over columns.\n",
    "\n",
    "We'll need to replace the missing values with something. It doesn't generally matter too much what we choose. We'll use the most common value (the \"*mode*\"). We can use the `mode` function for that. One wrinkle is that it returns more than one row in the case of ties, so we just grab the first row with `iloc[0]`:"
   ]
  },
  {
   "cell_type": "code",
   "execution_count": 5,
   "id": "7a0a6005",
   "metadata": {
    "execution": {
     "iopub.execute_input": "2024-06-25T02:04:03.582805Z",
     "iopub.status.busy": "2024-06-25T02:04:03.582105Z",
     "iopub.status.idle": "2024-06-25T02:04:03.603276Z",
     "shell.execute_reply": "2024-06-25T02:04:03.602492Z"
    },
    "hidden": true,
    "papermill": {
     "duration": 0.139934,
     "end_time": "2024-06-25T02:04:03.605487",
     "exception": false,
     "start_time": "2024-06-25T02:04:03.465553",
     "status": "completed"
    },
    "tags": []
   },
   "outputs": [
    {
     "data": {
      "text/plain": [
       "PassengerId                      1\n",
       "Survived                       0.0\n",
       "Pclass                         3.0\n",
       "Name           Abbing, Mr. Anthony\n",
       "Sex                           male\n",
       "Age                           24.0\n",
       "SibSp                          0.0\n",
       "Parch                          0.0\n",
       "Ticket                        1601\n",
       "Fare                          8.05\n",
       "Cabin                      B96 B98\n",
       "Embarked                         S\n",
       "Name: 0, dtype: object"
      ]
     },
     "execution_count": 5,
     "metadata": {},
     "output_type": "execute_result"
    }
   ],
   "source": [
    "modes = df.mode().iloc[0]\n",
    "modes"
   ]
  },
  {
   "cell_type": "markdown",
   "id": "fb94f974",
   "metadata": {
    "hidden": true,
    "papermill": {
     "duration": 0.114948,
     "end_time": "2024-06-25T02:04:03.836508",
     "exception": false,
     "start_time": "2024-06-25T02:04:03.721560",
     "status": "completed"
    },
    "tags": []
   },
   "source": [
    "BTW, it's never a good idea to use functions without understanding them. So be sure to google for anything you're not familiar with. E.g if you want to learn about `iloc` (which is a very important function indeed!) then Google will give you a link to a [great tutorial](https://www.shanelynn.ie/pandas-iloc-loc-select-rows-and-columns-dataframe/).\n",
    "\n",
    "Now that we've got the mode of each column, we can use `fillna` to replace the missing values with the mode of each column. We'll do it \"in place\" -- meaning that we'll change the dataframe itself, rather than returning a new one."
   ]
  },
  {
   "cell_type": "code",
   "execution_count": 6,
   "id": "b57c279d",
   "metadata": {
    "execution": {
     "iopub.execute_input": "2024-06-25T02:04:04.071699Z",
     "iopub.status.busy": "2024-06-25T02:04:04.071412Z",
     "iopub.status.idle": "2024-06-25T02:04:04.082444Z",
     "shell.execute_reply": "2024-06-25T02:04:04.081611Z"
    },
    "hidden": true,
    "papermill": {
     "duration": 0.1294,
     "end_time": "2024-06-25T02:04:04.084630",
     "exception": false,
     "start_time": "2024-06-25T02:04:03.955230",
     "status": "completed"
    },
    "tags": []
   },
   "outputs": [],
   "source": [
    "df.fillna(modes, inplace=True)"
   ]
  },
  {
   "cell_type": "markdown",
   "id": "8e953b98",
   "metadata": {
    "hidden": true,
    "papermill": {
     "duration": 0.116764,
     "end_time": "2024-06-25T02:04:04.319142",
     "exception": false,
     "start_time": "2024-06-25T02:04:04.202378",
     "status": "completed"
    },
    "tags": []
   },
   "source": [
    "We can now check there's no missing values left:"
   ]
  },
  {
   "cell_type": "code",
   "execution_count": 7,
   "id": "546b6fb9",
   "metadata": {
    "execution": {
     "iopub.execute_input": "2024-06-25T02:04:04.553348Z",
     "iopub.status.busy": "2024-06-25T02:04:04.552505Z",
     "iopub.status.idle": "2024-06-25T02:04:04.561217Z",
     "shell.execute_reply": "2024-06-25T02:04:04.560406Z"
    },
    "hidden": true,
    "papermill": {
     "duration": 0.127408,
     "end_time": "2024-06-25T02:04:04.563468",
     "exception": false,
     "start_time": "2024-06-25T02:04:04.436060",
     "status": "completed"
    },
    "tags": []
   },
   "outputs": [
    {
     "data": {
      "text/plain": [
       "PassengerId    0\n",
       "Survived       0\n",
       "Pclass         0\n",
       "Name           0\n",
       "Sex            0\n",
       "Age            0\n",
       "SibSp          0\n",
       "Parch          0\n",
       "Ticket         0\n",
       "Fare           0\n",
       "Cabin          0\n",
       "Embarked       0\n",
       "dtype: int64"
      ]
     },
     "execution_count": 7,
     "metadata": {},
     "output_type": "execute_result"
    }
   ],
   "source": [
    "df.isna().sum()"
   ]
  },
  {
   "cell_type": "markdown",
   "id": "f5c35c24",
   "metadata": {
    "hidden": true,
    "papermill": {
     "duration": 0.115953,
     "end_time": "2024-06-25T02:04:04.795062",
     "exception": false,
     "start_time": "2024-06-25T02:04:04.679109",
     "status": "completed"
    },
    "tags": []
   },
   "source": [
    "Here's how we get a quick summary of all the numeric columns in the dataset:"
   ]
  },
  {
   "cell_type": "code",
   "execution_count": 8,
   "id": "3ca09f74",
   "metadata": {
    "execution": {
     "iopub.execute_input": "2024-06-25T02:04:05.029919Z",
     "iopub.status.busy": "2024-06-25T02:04:05.029128Z",
     "iopub.status.idle": "2024-06-25T02:04:05.063752Z",
     "shell.execute_reply": "2024-06-25T02:04:05.062816Z"
    },
    "hidden": true,
    "papermill": {
     "duration": 0.155239,
     "end_time": "2024-06-25T02:04:05.066441",
     "exception": false,
     "start_time": "2024-06-25T02:04:04.911202",
     "status": "completed"
    },
    "tags": []
   },
   "outputs": [
    {
     "data": {
      "text/html": [
       "<div>\n",
       "<style scoped>\n",
       "    .dataframe tbody tr th:only-of-type {\n",
       "        vertical-align: middle;\n",
       "    }\n",
       "\n",
       "    .dataframe tbody tr th {\n",
       "        vertical-align: top;\n",
       "    }\n",
       "\n",
       "    .dataframe thead th {\n",
       "        text-align: right;\n",
       "    }\n",
       "</style>\n",
       "<table border=\"1\" class=\"dataframe\">\n",
       "  <thead>\n",
       "    <tr style=\"text-align: right;\">\n",
       "      <th></th>\n",
       "      <th>PassengerId</th>\n",
       "      <th>Survived</th>\n",
       "      <th>Pclass</th>\n",
       "      <th>Age</th>\n",
       "      <th>SibSp</th>\n",
       "      <th>Parch</th>\n",
       "      <th>Fare</th>\n",
       "    </tr>\n",
       "  </thead>\n",
       "  <tbody>\n",
       "    <tr>\n",
       "      <th>count</th>\n",
       "      <td>891.000000</td>\n",
       "      <td>891.000000</td>\n",
       "      <td>891.000000</td>\n",
       "      <td>891.000000</td>\n",
       "      <td>891.000000</td>\n",
       "      <td>891.000000</td>\n",
       "      <td>891.000000</td>\n",
       "    </tr>\n",
       "    <tr>\n",
       "      <th>mean</th>\n",
       "      <td>446.000000</td>\n",
       "      <td>0.383838</td>\n",
       "      <td>2.308642</td>\n",
       "      <td>28.566970</td>\n",
       "      <td>0.523008</td>\n",
       "      <td>0.381594</td>\n",
       "      <td>32.204208</td>\n",
       "    </tr>\n",
       "    <tr>\n",
       "      <th>std</th>\n",
       "      <td>257.353842</td>\n",
       "      <td>0.486592</td>\n",
       "      <td>0.836071</td>\n",
       "      <td>13.199572</td>\n",
       "      <td>1.102743</td>\n",
       "      <td>0.806057</td>\n",
       "      <td>49.693429</td>\n",
       "    </tr>\n",
       "    <tr>\n",
       "      <th>min</th>\n",
       "      <td>1.000000</td>\n",
       "      <td>0.000000</td>\n",
       "      <td>1.000000</td>\n",
       "      <td>0.420000</td>\n",
       "      <td>0.000000</td>\n",
       "      <td>0.000000</td>\n",
       "      <td>0.000000</td>\n",
       "    </tr>\n",
       "    <tr>\n",
       "      <th>25%</th>\n",
       "      <td>223.500000</td>\n",
       "      <td>0.000000</td>\n",
       "      <td>2.000000</td>\n",
       "      <td>22.000000</td>\n",
       "      <td>0.000000</td>\n",
       "      <td>0.000000</td>\n",
       "      <td>7.910400</td>\n",
       "    </tr>\n",
       "    <tr>\n",
       "      <th>50%</th>\n",
       "      <td>446.000000</td>\n",
       "      <td>0.000000</td>\n",
       "      <td>3.000000</td>\n",
       "      <td>24.000000</td>\n",
       "      <td>0.000000</td>\n",
       "      <td>0.000000</td>\n",
       "      <td>14.454200</td>\n",
       "    </tr>\n",
       "    <tr>\n",
       "      <th>75%</th>\n",
       "      <td>668.500000</td>\n",
       "      <td>1.000000</td>\n",
       "      <td>3.000000</td>\n",
       "      <td>35.000000</td>\n",
       "      <td>1.000000</td>\n",
       "      <td>0.000000</td>\n",
       "      <td>31.000000</td>\n",
       "    </tr>\n",
       "    <tr>\n",
       "      <th>max</th>\n",
       "      <td>891.000000</td>\n",
       "      <td>1.000000</td>\n",
       "      <td>3.000000</td>\n",
       "      <td>80.000000</td>\n",
       "      <td>8.000000</td>\n",
       "      <td>6.000000</td>\n",
       "      <td>512.329200</td>\n",
       "    </tr>\n",
       "  </tbody>\n",
       "</table>\n",
       "</div>"
      ],
      "text/plain": [
       "       PassengerId    Survived      Pclass         Age       SibSp       Parch        Fare\n",
       "count   891.000000  891.000000  891.000000  891.000000  891.000000  891.000000  891.000000\n",
       "mean    446.000000    0.383838    2.308642   28.566970    0.523008    0.381594   32.204208\n",
       "std     257.353842    0.486592    0.836071   13.199572    1.102743    0.806057   49.693429\n",
       "min       1.000000    0.000000    1.000000    0.420000    0.000000    0.000000    0.000000\n",
       "25%     223.500000    0.000000    2.000000   22.000000    0.000000    0.000000    7.910400\n",
       "50%     446.000000    0.000000    3.000000   24.000000    0.000000    0.000000   14.454200\n",
       "75%     668.500000    1.000000    3.000000   35.000000    1.000000    0.000000   31.000000\n",
       "max     891.000000    1.000000    3.000000   80.000000    8.000000    6.000000  512.329200"
      ]
     },
     "execution_count": 8,
     "metadata": {},
     "output_type": "execute_result"
    }
   ],
   "source": [
    "import numpy as np\n",
    "\n",
    "df.describe(include=(np.number))"
   ]
  },
  {
   "cell_type": "markdown",
   "id": "b24d35eb",
   "metadata": {
    "execution": {
     "iopub.execute_input": "2022-05-13T11:02:34.328433Z",
     "iopub.status.busy": "2022-05-13T11:02:34.327999Z",
     "iopub.status.idle": "2022-05-13T11:02:34.336993Z",
     "shell.execute_reply": "2022-05-13T11:02:34.335466Z",
     "shell.execute_reply.started": "2022-05-13T11:02:34.32838Z"
    },
    "hidden": true,
    "papermill": {
     "duration": 0.117423,
     "end_time": "2024-06-25T02:04:05.302093",
     "exception": false,
     "start_time": "2024-06-25T02:04:05.184670",
     "status": "completed"
    },
    "tags": []
   },
   "source": [
    "We can see that `Fare` contains mainly values of around `0` to `30`, but there's a few really big ones. This is very common with fields contain monetary values, and it can cause problems for our model, because once that column is multiplied by a coefficient later, the few rows with really big values will dominate the result.\n",
    "\n",
    "You can see the issue most clearly visually by looking at a histogram, which shows a long tail to the right (and don't forget: if you're not entirely sure what a histogram is, Google \"[histogram tutorial](https://www.google.com/search?q=histogram+tutorial&oq=histogram+tutorial)\" and do a bit of reading before continuing on):"
   ]
  },
  {
   "cell_type": "code",
   "execution_count": 9,
   "id": "20e356ab",
   "metadata": {
    "execution": {
     "iopub.execute_input": "2024-06-25T02:04:05.538039Z",
     "iopub.status.busy": "2024-06-25T02:04:05.537165Z",
     "iopub.status.idle": "2024-06-25T02:04:05.791712Z",
     "shell.execute_reply": "2024-06-25T02:04:05.790886Z"
    },
    "hidden": true,
    "papermill": {
     "duration": 0.374156,
     "end_time": "2024-06-25T02:04:05.793802",
     "exception": false,
     "start_time": "2024-06-25T02:04:05.419646",
     "status": "completed"
    },
    "tags": []
   },
   "outputs": [
    {
     "data": {
      "image/png": "[encoded data removed]",
      "text/plain": [
       "<Figure size 432x288 with 1 Axes>"
      ]
     },
     "metadata": {
      "needs_background": "light"
     },
     "output_type": "display_data"
    }
   ],
   "source": [
    "df['Fare'].hist();"
   ]
  },
  {
   "cell_type": "markdown",
   "id": "2c8a4922",
   "metadata": {
    "execution": {
     "iopub.execute_input": "2022-05-13T11:02:34.328433Z",
     "iopub.status.busy": "2022-05-13T11:02:34.327999Z",
     "iopub.status.idle": "2022-05-13T11:02:34.336993Z",
     "shell.execute_reply": "2022-05-13T11:02:34.335466Z",
     "shell.execute_reply.started": "2022-05-13T11:02:34.32838Z"
    },
    "hidden": true,
    "papermill": {
     "duration": 0.116668,
     "end_time": "2024-06-25T02:04:06.028730",
     "exception": false,
     "start_time": "2024-06-25T02:04:05.912062",
     "status": "completed"
    },
    "tags": []
   },
   "source": [
    "To fix this, the most common approach is to take the logarithm, which squishes the big numbers and makes the distribution more reasonable. Note, however, that there are zeros in the `Fare` column, and `log(0)` is infinite -- to fix this, we'll simply add `1` to all values first:"
   ]
  },
  {
   "cell_type": "code",
   "execution_count": 10,
   "id": "bc295aa3",
   "metadata": {
    "execution": {
     "iopub.execute_input": "2024-06-25T02:04:06.266754Z",
     "iopub.status.busy": "2024-06-25T02:04:06.266448Z",
     "iopub.status.idle": "2024-06-25T02:04:06.272428Z",
     "shell.execute_reply": "2024-06-25T02:04:06.271560Z"
    },
    "hidden": true,
    "papermill": {
     "duration": 0.127183,
     "end_time": "2024-06-25T02:04:06.274676",
     "exception": false,
     "start_time": "2024-06-25T02:04:06.147493",
     "status": "completed"
    },
    "tags": []
   },
   "outputs": [],
   "source": [
    "df['LogFare'] = np.log(df['Fare']+1)"
   ]
  },
  {
   "cell_type": "markdown",
   "id": "8af1126f",
   "metadata": {
    "hidden": true,
    "papermill": {
     "duration": 0.118379,
     "end_time": "2024-06-25T02:04:06.510526",
     "exception": false,
     "start_time": "2024-06-25T02:04:06.392147",
     "status": "completed"
    },
    "tags": []
   },
   "source": [
    "The histogram now shows a more even distribution of values without the long tail:"
   ]
  },
  {
   "cell_type": "code",
   "execution_count": 11,
   "id": "62a9c33c",
   "metadata": {
    "execution": {
     "iopub.execute_input": "2024-06-25T02:04:06.748016Z",
     "iopub.status.busy": "2024-06-25T02:04:06.747333Z",
     "iopub.status.idle": "2024-06-25T02:04:06.963834Z",
     "shell.execute_reply": "2024-06-25T02:04:06.962921Z"
    },
    "hidden": true,
    "papermill": {
     "duration": 0.338631,
     "end_time": "2024-06-25T02:04:06.966262",
     "exception": false,
     "start_time": "2024-06-25T02:04:06.627631",
     "status": "completed"
    },
    "tags": []
   },
   "outputs": [
    {
     "data": {
      "image/png": "[encoded data removed]",
      "text/plain": [
       "<Figure size 432x288 with 1 Axes>"
      ]
     },
     "metadata": {
      "needs_background": "light"
     },
     "output_type": "display_data"
    }
   ],
   "source": [
    "df['LogFare'].hist();"
   ]
  },
  {
   "cell_type": "markdown",
   "id": "c16b4f13",
   "metadata": {
    "hidden": true,
    "papermill": {
     "duration": 0.118998,
     "end_time": "2024-06-25T02:04:07.203170",
     "exception": false,
     "start_time": "2024-06-25T02:04:07.084172",
     "status": "completed"
    },
    "tags": []
   },
   "source": [
    "It looks from the `describe()` output like `Pclass` contains just 3 values, which we can confirm by looking at the [Data Dictionary](https://www.kaggle.com/competitions/titanic/data) (which you should always study carefully for any project!) -- "
   ]
  },
  {
   "cell_type": "code",
   "execution_count": 12,
   "id": "1283b0d7",
   "metadata": {
    "execution": {
     "iopub.execute_input": "2024-06-25T02:04:07.447519Z",
     "iopub.status.busy": "2024-06-25T02:04:07.447226Z",
     "iopub.status.idle": "2024-06-25T02:04:07.453848Z",
     "shell.execute_reply": "2024-06-25T02:04:07.452990Z"
    },
    "hidden": true,
    "papermill": {
     "duration": 0.133918,
     "end_time": "2024-06-25T02:04:07.455839",
     "exception": false,
     "start_time": "2024-06-25T02:04:07.321921",
     "status": "completed"
    },
    "tags": []
   },
   "outputs": [
    {
     "data": {
      "text/plain": [
       "[1, 2, 3]"
      ]
     },
     "execution_count": 12,
     "metadata": {},
     "output_type": "execute_result"
    }
   ],
   "source": [
    "pclasses = sorted(df.Pclass.unique())\n",
    "pclasses"
   ]
  },
  {
   "cell_type": "markdown",
   "id": "65250369",
   "metadata": {
    "hidden": true,
    "papermill": {
     "duration": 0.118022,
     "end_time": "2024-06-25T02:04:07.710539",
     "exception": false,
     "start_time": "2024-06-25T02:04:07.592517",
     "status": "completed"
    },
    "tags": []
   },
   "source": [
    "Here's how we get a quick summary of all the non-numeric columns in the dataset:"
   ]
  },
  {
   "cell_type": "code",
   "execution_count": 13,
   "id": "04439957",
   "metadata": {
    "execution": {
     "iopub.execute_input": "2024-06-25T02:04:07.949794Z",
     "iopub.status.busy": "2024-06-25T02:04:07.948863Z",
     "iopub.status.idle": "2024-06-25T02:04:07.971371Z",
     "shell.execute_reply": "2024-06-25T02:04:07.970541Z"
    },
    "hidden": true,
    "papermill": {
     "duration": 0.144284,
     "end_time": "2024-06-25T02:04:07.973518",
     "exception": false,
     "start_time": "2024-06-25T02:04:07.829234",
     "status": "completed"
    },
    "tags": []
   },
   "outputs": [
    {
     "data": {
      "text/html": [
       "<div>\n",
       "<style scoped>\n",
       "    .dataframe tbody tr th:only-of-type {\n",
       "        vertical-align: middle;\n",
       "    }\n",
       "\n",
       "    .dataframe tbody tr th {\n",
       "        vertical-align: top;\n",
       "    }\n",
       "\n",
       "    .dataframe thead th {\n",
       "        text-align: right;\n",
       "    }\n",
       "</style>\n",
       "<table border=\"1\" class=\"dataframe\">\n",
       "  <thead>\n",
       "    <tr style=\"text-align: right;\">\n",
       "      <th></th>\n",
       "      <th>Name</th>\n",
       "      <th>Sex</th>\n",
       "      <th>Ticket</th>\n",
       "      <th>Cabin</th>\n",
       "      <th>Embarked</th>\n",
       "    </tr>\n",
       "  </thead>\n",
       "  <tbody>\n",
       "    <tr>\n",
       "      <th>count</th>\n",
       "      <td>891</td>\n",
       "      <td>891</td>\n",
       "      <td>891</td>\n",
       "      <td>891</td>\n",
       "      <td>891</td>\n",
       "    </tr>\n",
       "    <tr>\n",
       "      <th>unique</th>\n",
       "      <td>891</td>\n",
       "      <td>2</td>\n",
       "      <td>681</td>\n",
       "      <td>147</td>\n",
       "      <td>3</td>\n",
       "    </tr>\n",
       "    <tr>\n",
       "      <th>top</th>\n",
       "      <td>Braund, Mr. Owen Harris</td>\n",
       "      <td>male</td>\n",
       "      <td>347082</td>\n",
       "      <td>B96 B98</td>\n",
       "      <td>S</td>\n",
       "    </tr>\n",
       "    <tr>\n",
       "      <th>freq</th>\n",
       "      <td>1</td>\n",
       "      <td>577</td>\n",
       "      <td>7</td>\n",
       "      <td>691</td>\n",
       "      <td>646</td>\n",
       "    </tr>\n",
       "  </tbody>\n",
       "</table>\n",
       "</div>"
      ],
      "text/plain": [
       "                           Name   Sex  Ticket    Cabin Embarked\n",
       "count                       891   891     891      891      891\n",
       "unique                      891     2     681      147        3\n",
       "top     Braund, Mr. Owen Harris  male  347082  B96 B98        S\n",
       "freq                          1   577       7      691      646"
      ]
     },
     "execution_count": 13,
     "metadata": {},
     "output_type": "execute_result"
    }
   ],
   "source": [
    "df.describe(include=[object])"
   ]
  },
  {
   "cell_type": "markdown",
   "id": "63d3b3c8",
   "metadata": {
    "hidden": true,
    "papermill": {
     "duration": 0.120371,
     "end_time": "2024-06-25T02:04:08.212991",
     "exception": false,
     "start_time": "2024-06-25T02:04:08.092620",
     "status": "completed"
    },
    "tags": []
   },
   "source": [
    "Clearly we can't multiply strings like `male` or `S` by coefficients, so we need to replace those with numbers.\n",
    "\n",
    "We do that by creating new columns containing *dummy variables*. A dummy variable is a column that contains a `1` where a particular column contains a particular value, or a `0` otherwise. For instance, we could create a dummy variable for `Sex='male'`, which would be a new column containing `1` for rows where `Sex` is `'male'`, and 0 for rows where it isn't.\n",
    "\n",
    "Pandas can create these automatically using `get_dummies`, which also remove the original columns. We'll create dummy variables for `Pclass`, even although it's numeric, since the numbers `1`, `2`, and `3` correspond to first, second, and third class cabins - not to counts or measures that make sense to multiply by. We'll also create dummies for `Sex` and `Embarked` since we'll want to use those as predictors in our model. On the other hand, `Cabin`, `Name`, and `Ticket` have too many unique values for it to make sense creating dummy variables for them."
   ]
  },
  {
   "cell_type": "code",
   "execution_count": 14,
   "id": "1ba3c654",
   "metadata": {
    "execution": {
     "iopub.execute_input": "2024-06-25T02:04:08.453726Z",
     "iopub.status.busy": "2024-06-25T02:04:08.453424Z",
     "iopub.status.idle": "2024-06-25T02:04:08.467064Z",
     "shell.execute_reply": "2024-06-25T02:04:08.466189Z"
    },
    "hidden": true,
    "papermill": {
     "duration": 0.136369,
     "end_time": "2024-06-25T02:04:08.469158",
     "exception": false,
     "start_time": "2024-06-25T02:04:08.332789",
     "status": "completed"
    },
    "tags": []
   },
   "outputs": [
    {
     "data": {
      "text/plain": [
       "Index(['PassengerId', 'Survived', 'Name', 'Age', 'SibSp', 'Parch', 'Ticket', 'Fare', 'Cabin', 'LogFare', 'Sex_female', 'Sex_male',\n",
       "       'Pclass_1', 'Pclass_2', 'Pclass_3', 'Embarked_C', 'Embarked_Q', 'Embarked_S'],\n",
       "      dtype='object')"
      ]
     },
     "execution_count": 14,
     "metadata": {},
     "output_type": "execute_result"
    }
   ],
   "source": [
    "df = pd.get_dummies(df, columns=[\"Sex\",\"Pclass\",\"Embarked\"])\n",
    "df.columns"
   ]
  },
  {
   "cell_type": "markdown",
   "id": "d7de5a3e",
   "metadata": {
    "hidden": true,
    "papermill": {
     "duration": 0.119396,
     "end_time": "2024-06-25T02:04:08.708189",
     "exception": false,
     "start_time": "2024-06-25T02:04:08.588793",
     "status": "completed"
    },
    "tags": []
   },
   "source": [
    "We can see that 5 columns have been added to the end -- one for each of the possible values of each of the three columns we requested, and that those three requested columns have been removed.\n",
    "\n",
    "Here's what the first few rows of those newly added columns look like:"
   ]
  },
  {
   "cell_type": "code",
   "execution_count": 15,
   "id": "350f7c58",
   "metadata": {
    "execution": {
     "iopub.execute_input": "2024-06-25T02:04:08.949336Z",
     "iopub.status.busy": "2024-06-25T02:04:08.948618Z",
     "iopub.status.idle": "2024-06-25T02:04:08.962247Z",
     "shell.execute_reply": "2024-06-25T02:04:08.961299Z"
    },
    "hidden": true,
    "papermill": {
     "duration": 0.13716,
     "end_time": "2024-06-25T02:04:08.964460",
     "exception": false,
     "start_time": "2024-06-25T02:04:08.827300",
     "status": "completed"
    },
    "tags": []
   },
   "outputs": [
    {
     "data": {
      "text/html": [
       "<div>\n",
       "<style scoped>\n",
       "    .dataframe tbody tr th:only-of-type {\n",
       "        vertical-align: middle;\n",
       "    }\n",
       "\n",
       "    .dataframe tbody tr th {\n",
       "        vertical-align: top;\n",
       "    }\n",
       "\n",
       "    .dataframe thead th {\n",
       "        text-align: right;\n",
       "    }\n",
       "</style>\n",
       "<table border=\"1\" class=\"dataframe\">\n",
       "  <thead>\n",
       "    <tr style=\"text-align: right;\">\n",
       "      <th></th>\n",
       "      <th>Sex_male</th>\n",
       "      <th>Sex_female</th>\n",
       "      <th>Pclass_1</th>\n",
       "      <th>Pclass_2</th>\n",
       "      <th>Pclass_3</th>\n",
       "      <th>Embarked_C</th>\n",
       "      <th>Embarked_Q</th>\n",
       "      <th>Embarked_S</th>\n",
       "    </tr>\n",
       "  </thead>\n",
       "  <tbody>\n",
       "    <tr>\n",
       "      <th>0</th>\n",
       "      <td>1</td>\n",
       "      <td>0</td>\n",
       "      <td>0</td>\n",
       "      <td>0</td>\n",
       "      <td>1</td>\n",
       "      <td>0</td>\n",
       "      <td>0</td>\n",
       "      <td>1</td>\n",
       "    </tr>\n",
       "    <tr>\n",
       "      <th>1</th>\n",
       "      <td>0</td>\n",
       "      <td>1</td>\n",
       "      <td>1</td>\n",
       "      <td>0</td>\n",
       "      <td>0</td>\n",
       "      <td>1</td>\n",
       "      <td>0</td>\n",
       "      <td>0</td>\n",
       "    </tr>\n",
       "    <tr>\n",
       "      <th>2</th>\n",
       "      <td>0</td>\n",
       "      <td>1</td>\n",
       "      <td>0</td>\n",
       "      <td>0</td>\n",
       "      <td>1</td>\n",
       "      <td>0</td>\n",
       "      <td>0</td>\n",
       "      <td>1</td>\n",
       "    </tr>\n",
       "    <tr>\n",
       "      <th>3</th>\n",
       "      <td>0</td>\n",
       "      <td>1</td>\n",
       "      <td>1</td>\n",
       "      <td>0</td>\n",
       "      <td>0</td>\n",
       "      <td>0</td>\n",
       "      <td>0</td>\n",
       "      <td>1</td>\n",
       "    </tr>\n",
       "    <tr>\n",
       "      <th>4</th>\n",
       "      <td>1</td>\n",
       "      <td>0</td>\n",
       "      <td>0</td>\n",
       "      <td>0</td>\n",
       "      <td>1</td>\n",
       "      <td>0</td>\n",
       "      <td>0</td>\n",
       "      <td>1</td>\n",
       "    </tr>\n",
       "  </tbody>\n",
       "</table>\n",
       "</div>"
      ],
      "text/plain": [
       "   Sex_male  Sex_female  Pclass_1  Pclass_2  Pclass_3  Embarked_C  Embarked_Q  Embarked_S\n",
       "0         1           0         0         0         1           0           0           1\n",
       "1         0           1         1         0         0           1           0           0\n",
       "2         0           1         0         0         1           0           0           1\n",
       "3         0           1         1         0         0           0           0           1\n",
       "4         1           0         0         0         1           0           0           1"
      ]
     },
     "execution_count": 15,
     "metadata": {},
     "output_type": "execute_result"
    }
   ],
   "source": [
    "added_cols = ['Sex_male', 'Sex_female', 'Pclass_1', 'Pclass_2', 'Pclass_3', 'Embarked_C', 'Embarked_Q', 'Embarked_S']\n",
    "df[added_cols].head()"
   ]
  },
  {
   "cell_type": "markdown",
   "id": "69e86990",
   "metadata": {
    "hidden": true,
    "papermill": {
     "duration": 0.120553,
     "end_time": "2024-06-25T02:04:09.205472",
     "exception": false,
     "start_time": "2024-06-25T02:04:09.084919",
     "status": "completed"
    },
    "tags": []
   },
   "source": [
    "Now we can create our independent (predictors) and dependent (target) variables. They both need to be PyTorch tensors. Our dependent variable is `Survived`:"
   ]
  },
  {
   "cell_type": "code",
   "execution_count": 16,
   "id": "ea034382",
   "metadata": {
    "execution": {
     "iopub.execute_input": "2024-06-25T02:04:09.448846Z",
     "iopub.status.busy": "2024-06-25T02:04:09.448007Z",
     "iopub.status.idle": "2024-06-25T02:04:09.461340Z",
     "shell.execute_reply": "2024-06-25T02:04:09.460593Z"
    },
    "hidden": true,
    "papermill": {
     "duration": 0.137572,
     "end_time": "2024-06-25T02:04:09.463400",
     "exception": false,
     "start_time": "2024-06-25T02:04:09.325828",
     "status": "completed"
    },
    "tags": []
   },
   "outputs": [],
   "source": [
    "from torch import tensor\n",
    "\n",
    "t_dep = tensor(df.Survived)"
   ]
  },
  {
   "cell_type": "markdown",
   "id": "33b58e9e",
   "metadata": {
    "hidden": true,
    "papermill": {
     "duration": 0.119672,
     "end_time": "2024-06-25T02:04:09.702495",
     "exception": false,
     "start_time": "2024-06-25T02:04:09.582823",
     "status": "completed"
    },
    "tags": []
   },
   "source": [
    "Our independent variables are all the continuous variables of interest plus all the dummy variables we just created:"
   ]
  },
  {
   "cell_type": "code",
   "execution_count": 17,
   "id": "afe273ef",
   "metadata": {
    "execution": {
     "iopub.execute_input": "2024-06-25T02:04:09.945771Z",
     "iopub.status.busy": "2024-06-25T02:04:09.945480Z",
     "iopub.status.idle": "2024-06-25T02:04:10.031736Z",
     "shell.execute_reply": "2024-06-25T02:04:10.030955Z"
    },
    "hidden": true,
    "papermill": {
     "duration": 0.21133,
     "end_time": "2024-06-25T02:04:10.033902",
     "exception": false,
     "start_time": "2024-06-25T02:04:09.822572",
     "status": "completed"
    },
    "tags": []
   },
   "outputs": [
    {
     "data": {
      "text/plain": [
       "tensor([[22.0000,  1.0000,  0.0000,  2.1102,  1.0000,  0.0000,  0.0000,  0.0000,  1.0000,  0.0000,  0.0000,  1.0000],\n",
       "        [38.0000,  1.0000,  0.0000,  4.2806,  0.0000,  1.0000,  1.0000,  0.0000,  0.0000,  1.0000,  0.0000,  0.0000],\n",
       "        [26.0000,  0.0000,  0.0000,  2.1889,  0.0000,  1.0000,  0.0000,  0.0000,  1.0000,  0.0000,  0.0000,  1.0000],\n",
       "        [35.0000,  1.0000,  0.0000,  3.9908,  0.0000,  1.0000,  1.0000,  0.0000,  0.0000,  0.0000,  0.0000,  1.0000],\n",
       "        [35.0000,  0.0000,  0.0000,  2.2028,  1.0000,  0.0000,  0.0000,  0.0000,  1.0000,  0.0000,  0.0000,  1.0000],\n",
       "        [24.0000,  0.0000,  0.0000,  2.2469,  1.0000,  0.0000,  0.0000,  0.0000,  1.0000,  0.0000,  1.0000,  0.0000],\n",
       "        [54.0000,  0.0000,  0.0000,  3.9677,  1.0000,  0.0000,  1.0000,  0.0000,  0.0000,  0.0000,  0.0000,  1.0000],\n",
       "        ...,\n",
       "        [25.0000,  0.0000,  0.0000,  2.0857,  1.0000,  0.0000,  0.0000,  0.0000,  1.0000,  0.0000,  0.0000,  1.0000],\n",
       "        [39.0000,  0.0000,  5.0000,  3.4054,  0.0000,  1.0000,  0.0000,  0.0000,  1.0000,  0.0000,  1.0000,  0.0000],\n",
       "        [27.0000,  0.0000,  0.0000,  2.6391,  1.0000,  0.0000,  0.0000,  1.0000,  0.0000,  0.0000,  0.0000,  1.0000],\n",
       "        [19.0000,  0.0000,  0.0000,  3.4340,  0.0000,  1.0000,  1.0000,  0.0000,  0.0000,  0.0000,  0.0000,  1.0000],\n",
       "        [24.0000,  1.0000,  2.0000,  3.1966,  0.0000,  1.0000,  0.0000,  0.0000,  1.0000,  0.0000,  0.0000,  1.0000],\n",
       "        [26.0000,  0.0000,  0.0000,  3.4340,  1.0000,  0.0000,  1.0000,  0.0000,  0.0000,  1.0000,  0.0000,  0.0000],\n",
       "        [32.0000,  0.0000,  0.0000,  2.1691,  1.0000,  0.0000,  0.0000,  0.0000,  1.0000,  0.0000,  1.0000,  0.0000]])"
      ]
     },
     "execution_count": 17,
     "metadata": {},
     "output_type": "execute_result"
    }
   ],
   "source": [
    "indep_cols = ['Age', 'SibSp', 'Parch', 'LogFare'] + added_cols\n",
    "\n",
    "t_indep = tensor(df[indep_cols].values, dtype=torch.float)\n",
    "t_indep"
   ]
  },
  {
   "cell_type": "markdown",
   "id": "89146001",
   "metadata": {
    "hidden": true,
    "papermill": {
     "duration": 0.121877,
     "end_time": "2024-06-25T02:04:10.276481",
     "exception": false,
     "start_time": "2024-06-25T02:04:10.154604",
     "status": "completed"
    },
    "tags": []
   },
   "source": [
    "Here's the number of rows and columns we have for our independent variables:"
   ]
  },
  {
   "cell_type": "code",
   "execution_count": 18,
   "id": "d8811fb1",
   "metadata": {
    "execution": {
     "iopub.execute_input": "2024-06-25T02:04:10.519844Z",
     "iopub.status.busy": "2024-06-25T02:04:10.519055Z",
     "iopub.status.idle": "2024-06-25T02:04:10.524726Z",
     "shell.execute_reply": "2024-06-25T02:04:10.523925Z"
    },
    "hidden": true,
    "papermill": {
     "duration": 0.130665,
     "end_time": "2024-06-25T02:04:10.526863",
     "exception": false,
     "start_time": "2024-06-25T02:04:10.396198",
     "status": "completed"
    },
    "tags": []
   },
   "outputs": [
    {
     "data": {
      "text/plain": [
       "torch.Size([891, 12])"
      ]
     },
     "execution_count": 18,
     "metadata": {},
     "output_type": "execute_result"
    }
   ],
   "source": [
    "t_indep.shape"
   ]
  },
  {
   "cell_type": "markdown",
   "id": "dedab9be",
   "metadata": {
    "papermill": {
     "duration": 0.119502,
     "end_time": "2024-06-25T02:04:10.766668",
     "exception": false,
     "start_time": "2024-06-25T02:04:10.647166",
     "status": "completed"
    },
    "tags": []
   },
   "source": [
    "## Setting up a linear model"
   ]
  },
  {
   "cell_type": "markdown",
   "id": "46cbe8c2",
   "metadata": {
    "papermill": {
     "duration": 0.121735,
     "end_time": "2024-06-25T02:04:11.007849",
     "exception": false,
     "start_time": "2024-06-25T02:04:10.886114",
     "status": "completed"
    },
    "tags": []
   },
   "source": [
    "Now that we've got a matrix of independent variables and a dependent variable vector, we can work on calculating our predictions and our loss. In this section, we're going to manually do a single step of calculating predictions and loss for every row of our data.\n",
    "\n",
    "Our first model will be a simple linear model. We'll need a coefficient for each column in `t_indep`. We'll pick random numbers in the range `(-0.5,0.5)`, and set our manual seed so that my explanations in the prose in this notebook will be consistent with what you see when you run it."
   ]
  },
  {
   "cell_type": "code",
   "execution_count": 19,
   "id": "fe24bcb8",
   "metadata": {
    "execution": {
     "iopub.execute_input": "2024-06-25T02:04:11.251023Z",
     "iopub.status.busy": "2024-06-25T02:04:11.250217Z",
     "iopub.status.idle": "2024-06-25T02:04:11.266751Z",
     "shell.execute_reply": "2024-06-25T02:04:11.265983Z"
    },
    "papermill": {
     "duration": 0.140242,
     "end_time": "2024-06-25T02:04:11.268852",
     "exception": false,
     "start_time": "2024-06-25T02:04:11.128610",
     "status": "completed"
    },
    "tags": []
   },
   "outputs": [
    {
     "data": {
      "text/plain": [
       "tensor([-0.4629,  0.1386,  0.2409, -0.2262, -0.2632, -0.3147,  0.4876,  0.3136,  0.2799, -0.4392,  0.2103,  0.3625])"
      ]
     },
     "execution_count": 19,
     "metadata": {},
     "output_type": "execute_result"
    }
   ],
   "source": [
    "torch.manual_seed(442)\n",
    "\n",
    "n_coeff = t_indep.shape[1]\n",
    "coeffs = torch.rand(n_coeff)-0.5\n",
    "coeffs"
   ]
  },
  {
   "cell_type": "markdown",
   "id": "a619da7b",
   "metadata": {
    "papermill": {
     "duration": 0.121141,
     "end_time": "2024-06-25T02:04:11.510592",
     "exception": false,
     "start_time": "2024-06-25T02:04:11.389451",
     "status": "completed"
    },
    "tags": []
   },
   "source": [
    "Our predictions will be calculated by multiplying each row by the coefficients, and adding them up. One interesting point here is that we don't need a separate constant term (also known as a \"bias\" or \"intercept\" term), or a column of all `1`s to give the same effect has having a constant term. That's because our dummy variables already cover the entire dataset -- e.g. there's a column for \"male\" and a column for \"female\", and everyone in the dataset is in exactly one of these; therefore, we don't need a separate intercept term to cover rows that aren't otherwise part of a column.\n",
    "\n",
    "Here's what the multiplication looks like:"
   ]
  },
  {
   "cell_type": "code",
   "execution_count": 20,
   "id": "56d11f59",
   "metadata": {
    "execution": {
     "iopub.execute_input": "2024-06-25T02:04:11.753134Z",
     "iopub.status.busy": "2024-06-25T02:04:11.752410Z",
     "iopub.status.idle": "2024-06-25T02:04:11.760187Z",
     "shell.execute_reply": "2024-06-25T02:04:11.759296Z"
    },
    "papermill": {
     "duration": 0.131139,
     "end_time": "2024-06-25T02:04:11.762292",
     "exception": false,
     "start_time": "2024-06-25T02:04:11.631153",
     "status": "completed"
    },
    "tags": []
   },
   "outputs": [
    {
     "data": {
      "text/plain": [
       "tensor([[-10.1838,   0.1386,   0.0000,  -0.4772,  -0.2632,  -0.0000,   0.0000,   0.0000,   0.2799,  -0.0000,   0.0000,   0.3625],\n",
       "        [-17.5902,   0.1386,   0.0000,  -0.9681,  -0.0000,  -0.3147,   0.4876,   0.0000,   0.0000,  -0.4392,   0.0000,   0.0000],\n",
       "        [-12.0354,   0.0000,   0.0000,  -0.4950,  -0.0000,  -0.3147,   0.0000,   0.0000,   0.2799,  -0.0000,   0.0000,   0.3625],\n",
       "        [-16.2015,   0.1386,   0.0000,  -0.9025,  -0.0000,  -0.3147,   0.4876,   0.0000,   0.0000,  -0.0000,   0.0000,   0.3625],\n",
       "        [-16.2015,   0.0000,   0.0000,  -0.4982,  -0.2632,  -0.0000,   0.0000,   0.0000,   0.2799,  -0.0000,   0.0000,   0.3625],\n",
       "        [-11.1096,   0.0000,   0.0000,  -0.5081,  -0.2632,  -0.0000,   0.0000,   0.0000,   0.2799,  -0.0000,   0.2103,   0.0000],\n",
       "        [-24.9966,   0.0000,   0.0000,  -0.8973,  -0.2632,  -0.0000,   0.4876,   0.0000,   0.0000,  -0.0000,   0.0000,   0.3625],\n",
       "        ...,\n",
       "        [-11.5725,   0.0000,   0.0000,  -0.4717,  -0.2632,  -0.0000,   0.0000,   0.0000,   0.2799,  -0.0000,   0.0000,   0.3625],\n",
       "        [-18.0531,   0.0000,   1.2045,  -0.7701,  -0.0000,  -0.3147,   0.0000,   0.0000,   0.2799,  -0.0000,   0.2103,   0.0000],\n",
       "        [-12.4983,   0.0000,   0.0000,  -0.5968,  -0.2632,  -0.0000,   0.0000,   0.3136,   0.0000,  -0.0000,   0.0000,   0.3625],\n",
       "        [ -8.7951,   0.0000,   0.0000,  -0.7766,  -0.0000,  -0.3147,   0.4876,   0.0000,   0.0000,  -0.0000,   0.0000,   0.3625],\n",
       "        [-11.1096,   0.1386,   0.4818,  -0.7229,  -0.0000,  -0.3147,   0.0000,   0.0000,   0.2799,  -0.0000,   0.0000,   0.3625],\n",
       "        [-12.0354,   0.0000,   0.0000,  -0.7766,  -0.2632,  -0.0000,   0.4876,   0.0000,   0.0000,  -0.4392,   0.0000,   0.0000],\n",
       "        [-14.8128,   0.0000,   0.0000,  -0.4905,  -0.2632,  -0.0000,   0.0000,   0.0000,   0.2799,  -0.0000,   0.2103,   0.0000]])"
      ]
     },
     "execution_count": 20,
     "metadata": {},
     "output_type": "execute_result"
    }
   ],
   "source": [
    "t_indep*coeffs"
   ]
  },
  {
   "cell_type": "markdown",
   "id": "e4c81626",
   "metadata": {
    "papermill": {
     "duration": 0.122667,
     "end_time": "2024-06-25T02:04:12.006895",
     "exception": false,
     "start_time": "2024-06-25T02:04:11.884228",
     "status": "completed"
    },
    "tags": []
   },
   "source": [
    "We can see we've got a problem here. The sums of each row will be dominated by the first column, which is `Age`, since that's bigger on average than all the others.\n",
    "\n",
    "Let's make all the columns contain numbers from `0` to `1`, by dividing each column by its `max()`:"
   ]
  },
  {
   "cell_type": "code",
   "execution_count": 21,
   "id": "d492a880",
   "metadata": {
    "execution": {
     "iopub.execute_input": "2024-06-25T02:04:12.251687Z",
     "iopub.status.busy": "2024-06-25T02:04:12.251403Z",
     "iopub.status.idle": "2024-06-25T02:04:12.258098Z",
     "shell.execute_reply": "2024-06-25T02:04:12.257270Z"
    },
    "papermill": {
     "duration": 0.13164,
     "end_time": "2024-06-25T02:04:12.260308",
     "exception": false,
     "start_time": "2024-06-25T02:04:12.128668",
     "status": "completed"
    },
    "tags": []
   },
   "outputs": [],
   "source": [
    "vals,indices = t_indep.max(dim=0)\n",
    "t_indep = t_indep / vals"
   ]
  },
  {
   "cell_type": "markdown",
   "id": "709937f3",
   "metadata": {
    "papermill": {
     "duration": 0.126078,
     "end_time": "2024-06-25T02:04:12.510424",
     "exception": false,
     "start_time": "2024-06-25T02:04:12.384346",
     "status": "completed"
    },
    "tags": []
   },
   "source": [
    "As we see, that removes the problem of one column dominating all the others:"
   ]
  },
  {
   "cell_type": "code",
   "execution_count": 22,
   "id": "d2f9f7d9",
   "metadata": {
    "execution": {
     "iopub.execute_input": "2024-06-25T02:04:12.758136Z",
     "iopub.status.busy": "2024-06-25T02:04:12.757813Z",
     "iopub.status.idle": "2024-06-25T02:04:12.765014Z",
     "shell.execute_reply": "2024-06-25T02:04:12.764216Z"
    },
    "papermill": {
     "duration": 0.132874,
     "end_time": "2024-06-25T02:04:12.766927",
     "exception": false,
     "start_time": "2024-06-25T02:04:12.634053",
     "status": "completed"
    },
    "tags": []
   },
   "outputs": [
    {
     "data": {
      "text/plain": [
       "tensor([[-0.1273,  0.0173,  0.0000, -0.0765, -0.2632, -0.0000,  0.0000,  0.0000,  0.2799, -0.0000,  0.0000,  0.3625],\n",
       "        [-0.2199,  0.0173,  0.0000, -0.1551, -0.0000, -0.3147,  0.4876,  0.0000,  0.0000, -0.4392,  0.0000,  0.0000],\n",
       "        [-0.1504,  0.0000,  0.0000, -0.0793, -0.0000, -0.3147,  0.0000,  0.0000,  0.2799, -0.0000,  0.0000,  0.3625],\n",
       "        [-0.2025,  0.0173,  0.0000, -0.1446, -0.0000, -0.3147,  0.4876,  0.0000,  0.0000, -0.0000,  0.0000,  0.3625],\n",
       "        [-0.2025,  0.0000,  0.0000, -0.0798, -0.2632, -0.0000,  0.0000,  0.0000,  0.2799, -0.0000,  0.0000,  0.3625],\n",
       "        [-0.1389,  0.0000,  0.0000, -0.0814, -0.2632, -0.0000,  0.0000,  0.0000,  0.2799, -0.0000,  0.2103,  0.0000],\n",
       "        [-0.3125,  0.0000,  0.0000, -0.1438, -0.2632, -0.0000,  0.4876,  0.0000,  0.0000, -0.0000,  0.0000,  0.3625],\n",
       "        ...,\n",
       "        [-0.1447,  0.0000,  0.0000, -0.0756, -0.2632, -0.0000,  0.0000,  0.0000,  0.2799, -0.0000,  0.0000,  0.3625],\n",
       "        [-0.2257,  0.0000,  0.2008, -0.1234, -0.0000, -0.3147,  0.0000,  0.0000,  0.2799, -0.0000,  0.2103,  0.0000],\n",
       "        [-0.1562,  0.0000,  0.0000, -0.0956, -0.2632, -0.0000,  0.0000,  0.3136,  0.0000, -0.0000,  0.0000,  0.3625],\n",
       "        [-0.1099,  0.0000,  0.0000, -0.1244, -0.0000, -0.3147,  0.4876,  0.0000,  0.0000, -0.0000,  0.0000,  0.3625],\n",
       "        [-0.1389,  0.0173,  0.0803, -0.1158, -0.0000, -0.3147,  0.0000,  0.0000,  0.2799, -0.0000,  0.0000,  0.3625],\n",
       "        [-0.1504,  0.0000,  0.0000, -0.1244, -0.2632, -0.0000,  0.4876,  0.0000,  0.0000, -0.4392,  0.0000,  0.0000],\n",
       "        [-0.1852,  0.0000,  0.0000, -0.0786, -0.2632, -0.0000,  0.0000,  0.0000,  0.2799, -0.0000,  0.2103,  0.0000]])"
      ]
     },
     "execution_count": 22,
     "metadata": {},
     "output_type": "execute_result"
    }
   ],
   "source": [
    "t_indep*coeffs"
   ]
  },
  {
   "cell_type": "markdown",
   "id": "3deaaebe",
   "metadata": {
    "papermill": {
     "duration": 0.122328,
     "end_time": "2024-06-25T02:04:13.014298",
     "exception": false,
     "start_time": "2024-06-25T02:04:12.891970",
     "status": "completed"
    },
    "tags": []
   },
   "source": [
    "One thing you hopefully noticed is how amazingly cool this line of code is:\n",
    "\n",
    "    t_indep = t_indep / vals\n",
    "\n",
    "That is dividing a matrix by a vector -- what on earth does that mean?!? The trick here is that we're taking advantage of a technique in numpy and PyTorch (and many other languages, going all the way back to APL) called [broadcasting](https://numpy.org/doc/stable/user/basics.broadcasting.html). In short, this acts as if there's a separate copy of the vector for every row of the matrix, so it divides each row of the matrix by the vector. In practice, it doesn't actually make any copies, and does the whole thing in a highly optimized way, taking full advantage of modern CPUs (or, indeed, GPUs, if we're using them). Broadcasting is one of the most important techniques for making your code concise, maintainable, and fast, so it's well worth studying and practicing.\n",
    "\n",
    "We can now create predictions from our linear model, by adding up the rows of the product:"
   ]
  },
  {
   "cell_type": "code",
   "execution_count": 23,
   "id": "dcf52111",
   "metadata": {
    "execution": {
     "iopub.execute_input": "2024-06-25T02:04:13.260537Z",
     "iopub.status.busy": "2024-06-25T02:04:13.260259Z",
     "iopub.status.idle": "2024-06-25T02:04:13.267322Z",
     "shell.execute_reply": "2024-06-25T02:04:13.266665Z"
    },
    "papermill": {
     "duration": 0.133574,
     "end_time": "2024-06-25T02:04:13.269480",
     "exception": false,
     "start_time": "2024-06-25T02:04:13.135906",
     "status": "completed"
    },
    "tags": []
   },
   "outputs": [],
   "source": [
    "preds = (t_indep*coeffs).sum(axis=1)"
   ]
  },
  {
   "cell_type": "markdown",
   "id": "d45717c5",
   "metadata": {
    "papermill": {
     "duration": 0.122939,
     "end_time": "2024-06-25T02:04:13.513489",
     "exception": false,
     "start_time": "2024-06-25T02:04:13.390550",
     "status": "completed"
    },
    "tags": []
   },
   "source": [
    "Let's take a look at the first few:"
   ]
  },
  {
   "cell_type": "code",
   "execution_count": 24,
   "id": "fcd0308f",
   "metadata": {
    "execution": {
     "iopub.execute_input": "2024-06-25T02:04:13.783365Z",
     "iopub.status.busy": "2024-06-25T02:04:13.782403Z",
     "iopub.status.idle": "2024-06-25T02:04:13.791343Z",
     "shell.execute_reply": "2024-06-25T02:04:13.790444Z"
    },
    "papermill": {
     "duration": 0.140777,
     "end_time": "2024-06-25T02:04:13.793468",
     "exception": false,
     "start_time": "2024-06-25T02:04:13.652691",
     "status": "completed"
    },
    "tags": []
   },
   "outputs": [
    {
     "data": {
      "text/plain": [
       "tensor([ 0.1927, -0.6239,  0.0979,  0.2056,  0.0968,  0.0066,  0.1306,  0.3476,  0.1613, -0.6285])"
      ]
     },
     "execution_count": 24,
     "metadata": {},
     "output_type": "execute_result"
    }
   ],
   "source": [
    "preds[:10]"
   ]
  },
  {
   "cell_type": "markdown",
   "id": "a43fa718",
   "metadata": {
    "papermill": {
     "duration": 0.133448,
     "end_time": "2024-06-25T02:04:14.074433",
     "exception": false,
     "start_time": "2024-06-25T02:04:13.940985",
     "status": "completed"
    },
    "tags": []
   },
   "source": [
    "Of course, these predictions aren't going to be any use, since our coefficients are random -- they're just a starting point for our gradient descent process.\n",
    "\n",
    "To do gradient descent, we need a loss function. Taking the average error of the rows (i.e. the absolute value of the difference between the prediction and the dependent) is generally a reasonable approach:"
   ]
  },
  {
   "cell_type": "code",
   "execution_count": 25,
   "id": "080f5c21",
   "metadata": {
    "execution": {
     "iopub.execute_input": "2024-06-25T02:04:14.323012Z",
     "iopub.status.busy": "2024-06-25T02:04:14.322137Z",
     "iopub.status.idle": "2024-06-25T02:04:14.333852Z",
     "shell.execute_reply": "2024-06-25T02:04:14.333027Z"
    },
    "papermill": {
     "duration": 0.13862,
     "end_time": "2024-06-25T02:04:14.336469",
     "exception": false,
     "start_time": "2024-06-25T02:04:14.197849",
     "status": "completed"
    },
    "tags": []
   },
   "outputs": [
    {
     "data": {
      "text/plain": [
       "tensor(0.5382)"
      ]
     },
     "execution_count": 25,
     "metadata": {},
     "output_type": "execute_result"
    }
   ],
   "source": [
    "loss = torch.abs(preds-t_dep).mean()\n",
    "loss"
   ]
  },
  {
   "cell_type": "markdown",
   "id": "63131f01",
   "metadata": {
    "papermill": {
     "duration": 0.122545,
     "end_time": "2024-06-25T02:04:14.588245",
     "exception": false,
     "start_time": "2024-06-25T02:04:14.465700",
     "status": "completed"
    },
    "tags": []
   },
   "source": [
    "Now that we've tested out a way of calculating predictions, and loss, let's pop them into functions to make life easier:"
   ]
  },
  {
   "cell_type": "code",
   "execution_count": 26,
   "id": "ad41bb06",
   "metadata": {
    "execution": {
     "iopub.execute_input": "2024-06-25T02:04:14.836601Z",
     "iopub.status.busy": "2024-06-25T02:04:14.836301Z",
     "iopub.status.idle": "2024-06-25T02:04:14.841730Z",
     "shell.execute_reply": "2024-06-25T02:04:14.840813Z"
    },
    "papermill": {
     "duration": 0.130946,
     "end_time": "2024-06-25T02:04:14.843865",
     "exception": false,
     "start_time": "2024-06-25T02:04:14.712919",
     "status": "completed"
    },
    "tags": []
   },
   "outputs": [],
   "source": [
    "def calc_preds(coeffs, indeps): return (indeps*coeffs).sum(axis=1)\n",
    "def calc_loss(coeffs, indeps, deps): return torch.abs(calc_preds(coeffs, indeps)-deps).mean()"
   ]
  },
  {
   "cell_type": "markdown",
   "id": "3cb23fd8",
   "metadata": {
    "papermill": {
     "duration": 0.125331,
     "end_time": "2024-06-25T02:04:15.093961",
     "exception": false,
     "start_time": "2024-06-25T02:04:14.968630",
     "status": "completed"
    },
    "tags": []
   },
   "source": [
    "## Doing a gradient descent step"
   ]
  },
  {
   "cell_type": "markdown",
   "id": "a290becd",
   "metadata": {
    "papermill": {
     "duration": 0.122067,
     "end_time": "2024-06-25T02:04:15.340237",
     "exception": false,
     "start_time": "2024-06-25T02:04:15.218170",
     "status": "completed"
    },
    "tags": []
   },
   "source": [
    "In this section, we're going to do a single \"epoch\" of gradient descent manually. The only thing we're going to automate is calculating gradients, because let's face it that's pretty tedious and entirely pointless to do by hand! To get PyTorch to calculate gradients, we'll need to call `requires_grad_()` on our `coeffs` (if you're not sure why, review the previous notebook, [How does a neural net really work?](https://www.kaggle.com/code/jhoward/how-does-a-neural-net-really-work), before continuing):"
   ]
  },
  {
   "cell_type": "code",
   "execution_count": 27,
   "id": "a0b12d53",
   "metadata": {
    "execution": {
     "iopub.execute_input": "2024-06-25T02:04:15.588444Z",
     "iopub.status.busy": "2024-06-25T02:04:15.588019Z",
     "iopub.status.idle": "2024-06-25T02:04:15.594510Z",
     "shell.execute_reply": "2024-06-25T02:04:15.593724Z"
    },
    "papermill": {
     "duration": 0.132236,
     "end_time": "2024-06-25T02:04:15.596578",
     "exception": false,
     "start_time": "2024-06-25T02:04:15.464342",
     "status": "completed"
    },
    "tags": []
   },
   "outputs": [
    {
     "data": {
      "text/plain": [
       "tensor([-0.4629,  0.1386,  0.2409, -0.2262, -0.2632, -0.3147,  0.4876,  0.3136,  0.2799, -0.4392,  0.2103,  0.3625], requires_grad=True)"
      ]
     },
     "execution_count": 27,
     "metadata": {},
     "output_type": "execute_result"
    }
   ],
   "source": [
    "coeffs.requires_grad_()"
   ]
  },
  {
   "cell_type": "markdown",
   "id": "cc0fde72",
   "metadata": {
    "papermill": {
     "duration": 0.124665,
     "end_time": "2024-06-25T02:04:15.847207",
     "exception": false,
     "start_time": "2024-06-25T02:04:15.722542",
     "status": "completed"
    },
    "tags": []
   },
   "source": [
    "Now when we calculate our loss, PyTorch will keep track of all the steps, so we'll be able to get the gradients afterwards:"
   ]
  },
  {
   "cell_type": "code",
   "execution_count": 28,
   "id": "958a6b8e",
   "metadata": {
    "execution": {
     "iopub.execute_input": "2024-06-25T02:04:16.096915Z",
     "iopub.status.busy": "2024-06-25T02:04:16.096618Z",
     "iopub.status.idle": "2024-06-25T02:04:16.104067Z",
     "shell.execute_reply": "2024-06-25T02:04:16.103262Z"
    },
    "papermill": {
     "duration": 0.134864,
     "end_time": "2024-06-25T02:04:16.106113",
     "exception": false,
     "start_time": "2024-06-25T02:04:15.971249",
     "status": "completed"
    },
    "tags": []
   },
   "outputs": [
    {
     "data": {
      "text/plain": [
       "tensor(0.5382, grad_fn=<MeanBackward0>)"
      ]
     },
     "execution_count": 28,
     "metadata": {},
     "output_type": "execute_result"
    }
   ],
   "source": [
    "loss = calc_loss(coeffs, t_indep, t_dep)\n",
    "loss"
   ]
  },
  {
   "cell_type": "markdown",
   "id": "8f27ace8",
   "metadata": {
    "papermill": {
     "duration": 0.124014,
     "end_time": "2024-06-25T02:04:16.354168",
     "exception": false,
     "start_time": "2024-06-25T02:04:16.230154",
     "status": "completed"
    },
    "tags": []
   },
   "source": [
    "Use `backward()` to ask PyTorch to calculate gradients now:"
   ]
  },
  {
   "cell_type": "code",
   "execution_count": 29,
   "id": "e39ef55b",
   "metadata": {
    "execution": {
     "iopub.execute_input": "2024-06-25T02:04:16.604842Z",
     "iopub.status.busy": "2024-06-25T02:04:16.603903Z",
     "iopub.status.idle": "2024-06-25T02:04:16.617281Z",
     "shell.execute_reply": "2024-06-25T02:04:16.616248Z"
    },
    "papermill": {
     "duration": 0.14098,
     "end_time": "2024-06-25T02:04:16.619805",
     "exception": false,
     "start_time": "2024-06-25T02:04:16.478825",
     "status": "completed"
    },
    "tags": []
   },
   "outputs": [],
   "source": [
    "loss.backward()"
   ]
  },
  {
   "cell_type": "markdown",
   "id": "69c10487",
   "metadata": {
    "papermill": {
     "duration": 0.122987,
     "end_time": "2024-06-25T02:04:16.866044",
     "exception": false,
     "start_time": "2024-06-25T02:04:16.743057",
     "status": "completed"
    },
    "tags": []
   },
   "source": [
    "Let's see what they look like:"
   ]
  },
  {
   "cell_type": "code",
   "execution_count": 30,
   "id": "4886ae4d",
   "metadata": {
    "execution": {
     "iopub.execute_input": "2024-06-25T02:04:17.114752Z",
     "iopub.status.busy": "2024-06-25T02:04:17.114447Z",
     "iopub.status.idle": "2024-06-25T02:04:17.121180Z",
     "shell.execute_reply": "2024-06-25T02:04:17.120356Z"
    },
    "papermill": {
     "duration": 0.133921,
     "end_time": "2024-06-25T02:04:17.123310",
     "exception": false,
     "start_time": "2024-06-25T02:04:16.989389",
     "status": "completed"
    },
    "tags": []
   },
   "outputs": [
    {
     "data": {
      "text/plain": [
       "tensor([-0.0106,  0.0129, -0.0041, -0.0484,  0.2099, -0.2132, -0.1212, -0.0247,  0.1425, -0.1886, -0.0191,  0.2043])"
      ]
     },
     "execution_count": 30,
     "metadata": {},
     "output_type": "execute_result"
    }
   ],
   "source": [
    "coeffs.grad"
   ]
  },
  {
   "cell_type": "markdown",
   "id": "3b211cc9",
   "metadata": {
    "papermill": {
     "duration": 0.127323,
     "end_time": "2024-06-25T02:04:17.376178",
     "exception": false,
     "start_time": "2024-06-25T02:04:17.248855",
     "status": "completed"
    },
    "tags": []
   },
   "source": [
    "Note that each time we call `backward`, the gradients are actually *added* to whatever is in the `.grad` attribute. Let's try running the above steps again:"
   ]
  },
  {
   "cell_type": "code",
   "execution_count": 31,
   "id": "b7d8047a",
   "metadata": {
    "execution": {
     "iopub.execute_input": "2024-06-25T02:04:17.646911Z",
     "iopub.status.busy": "2024-06-25T02:04:17.646304Z",
     "iopub.status.idle": "2024-06-25T02:04:17.656066Z",
     "shell.execute_reply": "2024-06-25T02:04:17.655160Z"
    },
    "papermill": {
     "duration": 0.150595,
     "end_time": "2024-06-25T02:04:17.658265",
     "exception": false,
     "start_time": "2024-06-25T02:04:17.507670",
     "status": "completed"
    },
    "tags": []
   },
   "outputs": [
    {
     "data": {
      "text/plain": [
       "tensor([-0.0212,  0.0258, -0.0082, -0.0969,  0.4198, -0.4265, -0.2424, -0.0494,  0.2851, -0.3771, -0.0382,  0.4085])"
      ]
     },
     "execution_count": 31,
     "metadata": {},
     "output_type": "execute_result"
    }
   ],
   "source": [
    "loss = calc_loss(coeffs, t_indep, t_dep)\n",
    "loss.backward()\n",
    "coeffs.grad"
   ]
  },
  {
   "cell_type": "markdown",
   "id": "0935e09d",
   "metadata": {
    "papermill": {
     "duration": 0.125841,
     "end_time": "2024-06-25T02:04:17.910043",
     "exception": false,
     "start_time": "2024-06-25T02:04:17.784202",
     "status": "completed"
    },
    "tags": []
   },
   "source": [
    "As you see, our `.grad` values are have doubled. That's because it added the gradients a second time. For this reason, after we use the gradients to do a gradient descent step, we need to set them back to zero.\n",
    "\n",
    "We can now do one gradient descent step, and check that our loss decreases:"
   ]
  },
  {
   "cell_type": "code",
   "execution_count": 32,
   "id": "97055355",
   "metadata": {
    "execution": {
     "iopub.execute_input": "2024-06-25T02:04:18.162089Z",
     "iopub.status.busy": "2024-06-25T02:04:18.161409Z",
     "iopub.status.idle": "2024-06-25T02:04:18.168986Z",
     "shell.execute_reply": "2024-06-25T02:04:18.168148Z"
    },
    "papermill": {
     "duration": 0.135996,
     "end_time": "2024-06-25T02:04:18.171052",
     "exception": false,
     "start_time": "2024-06-25T02:04:18.035056",
     "status": "completed"
    },
    "tags": []
   },
   "outputs": [
    {
     "name": "stdout",
     "output_type": "stream",
     "text": [
      "tensor(0.4945)\n"
     ]
    }
   ],
   "source": [
    "loss = calc_loss(coeffs, t_indep, t_dep)\n",
    "loss.backward()\n",
    "with torch.no_grad():\n",
    "    coeffs.sub_(coeffs.grad * 0.1)\n",
    "    coeffs.grad.zero_()\n",
    "    print(calc_loss(coeffs, t_indep, t_dep))"
   ]
  },
  {
   "cell_type": "markdown",
   "id": "b08a7e8d",
   "metadata": {
    "papermill": {
     "duration": 0.124736,
     "end_time": "2024-06-25T02:04:18.420117",
     "exception": false,
     "start_time": "2024-06-25T02:04:18.295381",
     "status": "completed"
    },
    "tags": []
   },
   "source": [
    "Note that `a.sub_(b)` subtracts `b` from `a` in-place. In PyTorch, any method that ends in `_` changes its object in-place. Similarly, `a.zero_()` sets all elements of a tensor to zero."
   ]
  },
  {
   "cell_type": "markdown",
   "id": "faff5002",
   "metadata": {
    "papermill": {
     "duration": 0.124786,
     "end_time": "2024-06-25T02:04:18.672353",
     "exception": false,
     "start_time": "2024-06-25T02:04:18.547567",
     "status": "completed"
    },
    "tags": []
   },
   "source": [
    "## Training the linear model"
   ]
  },
  {
   "cell_type": "markdown",
   "id": "3c64f08c",
   "metadata": {
    "papermill": {
     "duration": 0.124837,
     "end_time": "2024-06-25T02:04:18.922028",
     "exception": false,
     "start_time": "2024-06-25T02:04:18.797191",
     "status": "completed"
    },
    "tags": []
   },
   "source": [
    "Before we begin training our model, we'll need to ensure that we hold out a validation set for calculating our metrics (for details on this, see \"[Getting started with NLP for absolute beginners](https://www.kaggle.com/code/jhoward/getting-started-with-nlp-for-absolute-beginners#Test-and-validation-sets)\".\n",
    "\n",
    "There's lots of different ways we can do this. In the next notebook we'll be comparing our approach here to what the fastai library does, so we'll want to ensure we split the data in the same way. So let's use `RandomSplitter` to get indices that will split our data into training and validation sets:"
   ]
  },
  {
   "cell_type": "code",
   "execution_count": 33,
   "id": "7563c167",
   "metadata": {
    "execution": {
     "iopub.execute_input": "2024-06-25T02:04:19.174973Z",
     "iopub.status.busy": "2024-06-25T02:04:19.174640Z",
     "iopub.status.idle": "2024-06-25T02:04:20.353774Z",
     "shell.execute_reply": "2024-06-25T02:04:20.352986Z"
    },
    "papermill": {
     "duration": 1.307015,
     "end_time": "2024-06-25T02:04:20.356247",
     "exception": false,
     "start_time": "2024-06-25T02:04:19.049232",
     "status": "completed"
    },
    "tags": []
   },
   "outputs": [],
   "source": [
    "from fastai.data.transforms import RandomSplitter\n",
    "trn_split,val_split=RandomSplitter(seed=42)(df)"
   ]
  },
  {
   "cell_type": "markdown",
   "id": "364710ee",
   "metadata": {
    "papermill": {
     "duration": 0.125171,
     "end_time": "2024-06-25T02:04:20.606419",
     "exception": false,
     "start_time": "2024-06-25T02:04:20.481248",
     "status": "completed"
    },
    "tags": []
   },
   "source": [
    "Now we can apply those indicies to our independent and dependent variables:"
   ]
  },
  {
   "cell_type": "code",
   "execution_count": 34,
   "id": "f84dd8ca",
   "metadata": {
    "execution": {
     "iopub.execute_input": "2024-06-25T02:04:20.855507Z",
     "iopub.status.busy": "2024-06-25T02:04:20.854786Z",
     "iopub.status.idle": "2024-06-25T02:04:20.865278Z",
     "shell.execute_reply": "2024-06-25T02:04:20.864427Z"
    },
    "papermill": {
     "duration": 0.137923,
     "end_time": "2024-06-25T02:04:20.867522",
     "exception": false,
     "start_time": "2024-06-25T02:04:20.729599",
     "status": "completed"
    },
    "tags": []
   },
   "outputs": [
    {
     "data": {
      "text/plain": [
       "(713, 178)"
      ]
     },
     "execution_count": 34,
     "metadata": {},
     "output_type": "execute_result"
    }
   ],
   "source": [
    "trn_indep,val_indep = t_indep[trn_split],t_indep[val_split]\n",
    "trn_dep,val_dep = t_dep[trn_split],t_dep[val_split]\n",
    "len(trn_indep),len(val_indep)"
   ]
  },
  {
   "cell_type": "markdown",
   "id": "b53068ce",
   "metadata": {
    "papermill": {
     "duration": 0.124873,
     "end_time": "2024-06-25T02:04:21.117570",
     "exception": false,
     "start_time": "2024-06-25T02:04:20.992697",
     "status": "completed"
    },
    "tags": []
   },
   "source": [
    "We'll create functions for the three things we did manually above: updating `coeffs`, doing one full gradient descent step, and initilising `coeffs` to random numbers:"
   ]
  },
  {
   "cell_type": "code",
   "execution_count": 35,
   "id": "cadf03b8",
   "metadata": {
    "execution": {
     "iopub.execute_input": "2024-06-25T02:04:21.369121Z",
     "iopub.status.busy": "2024-06-25T02:04:21.368429Z",
     "iopub.status.idle": "2024-06-25T02:04:21.372984Z",
     "shell.execute_reply": "2024-06-25T02:04:21.372258Z"
    },
    "papermill": {
     "duration": 0.132144,
     "end_time": "2024-06-25T02:04:21.374950",
     "exception": false,
     "start_time": "2024-06-25T02:04:21.242806",
     "status": "completed"
    },
    "tags": []
   },
   "outputs": [],
   "source": [
    "def update_coeffs(coeffs, lr):\n",
    "    coeffs.sub_(coeffs.grad * lr)\n",
    "    coeffs.grad.zero_()"
   ]
  },
  {
   "cell_type": "code",
   "execution_count": 36,
   "id": "d0ea533e",
   "metadata": {
    "execution": {
     "iopub.execute_input": "2024-06-25T02:04:21.625905Z",
     "iopub.status.busy": "2024-06-25T02:04:21.625603Z",
     "iopub.status.idle": "2024-06-25T02:04:21.630986Z",
     "shell.execute_reply": "2024-06-25T02:04:21.629998Z"
    },
    "papermill": {
     "duration": 0.132681,
     "end_time": "2024-06-25T02:04:21.633105",
     "exception": false,
     "start_time": "2024-06-25T02:04:21.500424",
     "status": "completed"
    },
    "tags": []
   },
   "outputs": [],
   "source": [
    "def one_epoch(coeffs, lr):\n",
    "    loss = calc_loss(coeffs, trn_indep, trn_dep)\n",
    "    loss.backward()\n",
    "    with torch.no_grad(): update_coeffs(coeffs, lr)\n",
    "    print(f\"{loss:.3f}\", end=\"; \")"
   ]
  },
  {
   "cell_type": "code",
   "execution_count": 37,
   "id": "86a894fb",
   "metadata": {
    "execution": {
     "iopub.execute_input": "2024-06-25T02:04:21.883201Z",
     "iopub.status.busy": "2024-06-25T02:04:21.882515Z",
     "iopub.status.idle": "2024-06-25T02:04:21.887042Z",
     "shell.execute_reply": "2024-06-25T02:04:21.886181Z"
    },
    "papermill": {
     "duration": 0.132027,
     "end_time": "2024-06-25T02:04:21.889147",
     "exception": false,
     "start_time": "2024-06-25T02:04:21.757120",
     "status": "completed"
    },
    "tags": []
   },
   "outputs": [],
   "source": [
    "def init_coeffs(): return (torch.rand(n_coeff)-0.5).requires_grad_()"
   ]
  },
  {
   "cell_type": "markdown",
   "id": "816e0552",
   "metadata": {
    "papermill": {
     "duration": 0.125092,
     "end_time": "2024-06-25T02:04:22.138540",
     "exception": false,
     "start_time": "2024-06-25T02:04:22.013448",
     "status": "completed"
    },
    "tags": []
   },
   "source": [
    "We can now use these functions to train our model:"
   ]
  },
  {
   "cell_type": "code",
   "execution_count": 38,
   "id": "2ddffbb3",
   "metadata": {
    "execution": {
     "iopub.execute_input": "2024-06-25T02:04:22.391624Z",
     "iopub.status.busy": "2024-06-25T02:04:22.390896Z",
     "iopub.status.idle": "2024-06-25T02:04:22.395901Z",
     "shell.execute_reply": "2024-06-25T02:04:22.395013Z"
    },
    "papermill": {
     "duration": 0.133019,
     "end_time": "2024-06-25T02:04:22.398077",
     "exception": false,
     "start_time": "2024-06-25T02:04:22.265058",
     "status": "completed"
    },
    "tags": []
   },
   "outputs": [],
   "source": [
    "def train_model(epochs=30, lr=0.01):\n",
    "    torch.manual_seed(442)\n",
    "    coeffs = init_coeffs()\n",
    "    for i in range(epochs): one_epoch(coeffs, lr=lr)\n",
    "    return coeffs"
   ]
  },
  {
   "cell_type": "markdown",
   "id": "8d443404",
   "metadata": {
    "papermill": {
     "duration": 0.123401,
     "end_time": "2024-06-25T02:04:22.646707",
     "exception": false,
     "start_time": "2024-06-25T02:04:22.523306",
     "status": "completed"
    },
    "tags": []
   },
   "source": [
    "Let's try it. Our loss will print at the end of every step, so we hope we'll see it going down:"
   ]
  },
  {
   "cell_type": "code",
   "execution_count": 39,
   "id": "db6524fb",
   "metadata": {
    "execution": {
     "iopub.execute_input": "2024-06-25T02:04:22.897858Z",
     "iopub.status.busy": "2024-06-25T02:04:22.897183Z",
     "iopub.status.idle": "2024-06-25T02:04:22.911401Z",
     "shell.execute_reply": "2024-06-25T02:04:22.910450Z"
    },
    "papermill": {
     "duration": 0.142124,
     "end_time": "2024-06-25T02:04:22.913467",
     "exception": false,
     "start_time": "2024-06-25T02:04:22.771343",
     "status": "completed"
    },
    "tags": []
   },
   "outputs": [
    {
     "name": "stdout",
     "output_type": "stream",
     "text": [
      "0.536; 0.502; 0.477; 0.454; 0.431; 0.409; 0.388; 0.367; 0.349; 0.336; 0.330; 0.326; 0.329; 0.304; 0.314; 0.296; 0.300; 0.289; "
     ]
    }
   ],
   "source": [
    "coeffs = train_model(18, lr=0.2)"
   ]
  },
  {
   "cell_type": "markdown",
   "id": "969bf46c",
   "metadata": {
    "papermill": {
     "duration": 0.124718,
     "end_time": "2024-06-25T02:04:23.163002",
     "exception": false,
     "start_time": "2024-06-25T02:04:23.038284",
     "status": "completed"
    },
    "tags": []
   },
   "source": [
    "It does!\n",
    "\n",
    "Let's take a look at the coefficients for each column:"
   ]
  },
  {
   "cell_type": "code",
   "execution_count": 40,
   "id": "4b2fcdb3",
   "metadata": {
    "execution": {
     "iopub.execute_input": "2024-06-25T02:04:23.415623Z",
     "iopub.status.busy": "2024-06-25T02:04:23.414885Z",
     "iopub.status.idle": "2024-06-25T02:04:23.425602Z",
     "shell.execute_reply": "2024-06-25T02:04:23.424801Z"
    },
    "papermill": {
     "duration": 0.138266,
     "end_time": "2024-06-25T02:04:23.427717",
     "exception": false,
     "start_time": "2024-06-25T02:04:23.289451",
     "status": "completed"
    },
    "tags": []
   },
   "outputs": [
    {
     "data": {
      "text/plain": [
       "{'Age': tensor(-0.2694),\n",
       " 'SibSp': tensor(0.0901),\n",
       " 'Parch': tensor(0.2359),\n",
       " 'LogFare': tensor(0.0280),\n",
       " 'Sex_male': tensor(-0.3990),\n",
       " 'Sex_female': tensor(0.2345),\n",
       " 'Pclass_1': tensor(0.7232),\n",
       " 'Pclass_2': tensor(0.4112),\n",
       " 'Pclass_3': tensor(0.3601),\n",
       " 'Embarked_C': tensor(0.0955),\n",
       " 'Embarked_Q': tensor(0.2395),\n",
       " 'Embarked_S': tensor(0.2122)}"
      ]
     },
     "execution_count": 40,
     "metadata": {},
     "output_type": "execute_result"
    }
   ],
   "source": [
    "def show_coeffs(): return dict(zip(indep_cols, coeffs.requires_grad_(False)))\n",
    "show_coeffs()"
   ]
  },
  {
   "cell_type": "markdown",
   "id": "b38443b0",
   "metadata": {
    "papermill": {
     "duration": 0.125398,
     "end_time": "2024-06-25T02:04:23.679403",
     "exception": false,
     "start_time": "2024-06-25T02:04:23.554005",
     "status": "completed"
    },
    "tags": []
   },
   "source": [
    "## Measuring accuracy"
   ]
  },
  {
   "cell_type": "markdown",
   "id": "25b76b85",
   "metadata": {
    "papermill": {
     "duration": 0.124624,
     "end_time": "2024-06-25T02:04:23.928501",
     "exception": false,
     "start_time": "2024-06-25T02:04:23.803877",
     "status": "completed"
    },
    "tags": []
   },
   "source": [
    "The Kaggle competition is not, however, scored by absolute error (which is our loss function). It's scored by *accuracy* -- the proportion of rows where we correctly predict survival. Let's see how accurate we were on the validation set. First, calculate the predictions:"
   ]
  },
  {
   "cell_type": "code",
   "execution_count": 41,
   "id": "297d7efd",
   "metadata": {
    "execution": {
     "iopub.execute_input": "2024-06-25T02:04:24.182989Z",
     "iopub.status.busy": "2024-06-25T02:04:24.182662Z",
     "iopub.status.idle": "2024-06-25T02:04:24.187347Z",
     "shell.execute_reply": "2024-06-25T02:04:24.186507Z"
    },
    "papermill": {
     "duration": 0.135268,
     "end_time": "2024-06-25T02:04:24.189355",
     "exception": false,
     "start_time": "2024-06-25T02:04:24.054087",
     "status": "completed"
    },
    "tags": []
   },
   "outputs": [],
   "source": [
    "preds = calc_preds(coeffs, val_indep)"
   ]
  },
  {
   "cell_type": "markdown",
   "id": "76315466",
   "metadata": {
    "papermill": {
     "duration": 0.128056,
     "end_time": "2024-06-25T02:04:24.445149",
     "exception": false,
     "start_time": "2024-06-25T02:04:24.317093",
     "status": "completed"
    },
    "tags": []
   },
   "source": [
    "We'll assume that any passenger with a score of over `0.5` is predicted to survive. So that means we're correct for each row where `preds>0.5` is the same as the dependent variable:"
   ]
  },
  {
   "cell_type": "code",
   "execution_count": 42,
   "id": "f0ee1a21",
   "metadata": {
    "execution": {
     "iopub.execute_input": "2024-06-25T02:04:24.698788Z",
     "iopub.status.busy": "2024-06-25T02:04:24.698103Z",
     "iopub.status.idle": "2024-06-25T02:04:24.704920Z",
     "shell.execute_reply": "2024-06-25T02:04:24.704110Z"
    },
    "papermill": {
     "duration": 0.135611,
     "end_time": "2024-06-25T02:04:24.707076",
     "exception": false,
     "start_time": "2024-06-25T02:04:24.571465",
     "status": "completed"
    },
    "tags": []
   },
   "outputs": [
    {
     "data": {
      "text/plain": [
       "tensor([ True,  True,  True,  True,  True,  True,  True,  True,  True,  True, False, False, False,  True,  True, False])"
      ]
     },
     "execution_count": 42,
     "metadata": {},
     "output_type": "execute_result"
    }
   ],
   "source": [
    "results = val_dep.bool()==(preds>0.5)\n",
    "results[:16]"
   ]
  },
  {
   "cell_type": "markdown",
   "id": "d7144c3e",
   "metadata": {
    "papermill": {
     "duration": 0.126782,
     "end_time": "2024-06-25T02:04:24.960623",
     "exception": false,
     "start_time": "2024-06-25T02:04:24.833841",
     "status": "completed"
    },
    "tags": []
   },
   "source": [
    "Let's see what our average accuracy is:"
   ]
  },
  {
   "cell_type": "code",
   "execution_count": 43,
   "id": "8c971987",
   "metadata": {
    "execution": {
     "iopub.execute_input": "2024-06-25T02:04:25.214881Z",
     "iopub.status.busy": "2024-06-25T02:04:25.214580Z",
     "iopub.status.idle": "2024-06-25T02:04:25.221153Z",
     "shell.execute_reply": "2024-06-25T02:04:25.220382Z"
    },
    "papermill": {
     "duration": 0.13651,
     "end_time": "2024-06-25T02:04:25.223334",
     "exception": false,
     "start_time": "2024-06-25T02:04:25.086824",
     "status": "completed"
    },
    "tags": []
   },
   "outputs": [
    {
     "data": {
      "text/plain": [
       "tensor(0.7865)"
      ]
     },
     "execution_count": 43,
     "metadata": {},
     "output_type": "execute_result"
    }
   ],
   "source": [
    "results.float().mean()"
   ]
  },
  {
   "cell_type": "markdown",
   "id": "3b853c04",
   "metadata": {
    "papermill": {
     "duration": 0.125911,
     "end_time": "2024-06-25T02:04:25.476520",
     "exception": false,
     "start_time": "2024-06-25T02:04:25.350609",
     "status": "completed"
    },
    "tags": []
   },
   "source": [
    "That's not a bad start at all! We'll create a function so we can calcuate the accuracy easy for other models we train:"
   ]
  },
  {
   "cell_type": "code",
   "execution_count": 44,
   "id": "b52d1a55",
   "metadata": {
    "execution": {
     "iopub.execute_input": "2024-06-25T02:04:25.732418Z",
     "iopub.status.busy": "2024-06-25T02:04:25.732123Z",
     "iopub.status.idle": "2024-06-25T02:04:25.739691Z",
     "shell.execute_reply": "2024-06-25T02:04:25.738773Z"
    },
    "papermill": {
     "duration": 0.137661,
     "end_time": "2024-06-25T02:04:25.741872",
     "exception": false,
     "start_time": "2024-06-25T02:04:25.604211",
     "status": "completed"
    },
    "tags": []
   },
   "outputs": [
    {
     "data": {
      "text/plain": [
       "tensor(0.7865)"
      ]
     },
     "execution_count": 44,
     "metadata": {},
     "output_type": "execute_result"
    }
   ],
   "source": [
    "def acc(coeffs): return (val_dep.bool()==(calc_preds(coeffs, val_indep)>0.5)).float().mean()\n",
    "acc(coeffs)"
   ]
  },
  {
   "cell_type": "markdown",
   "id": "d38b3f59",
   "metadata": {
    "papermill": {
     "duration": 0.125903,
     "end_time": "2024-06-25T02:04:25.996116",
     "exception": false,
     "start_time": "2024-06-25T02:04:25.870213",
     "status": "completed"
    },
    "tags": []
   },
   "source": [
    "## Using sigmoid"
   ]
  },
  {
   "cell_type": "markdown",
   "id": "5ba71854",
   "metadata": {
    "papermill": {
     "duration": 0.126339,
     "end_time": "2024-06-25T02:04:26.249623",
     "exception": false,
     "start_time": "2024-06-25T02:04:26.123284",
     "status": "completed"
    },
    "tags": []
   },
   "source": [
    "Looking at our predictions, there's one obvious problem -- some of our predictions of the probability of survival are `>1`, and some are `<0`:"
   ]
  },
  {
   "cell_type": "code",
   "execution_count": 45,
   "id": "ac4e9eac",
   "metadata": {
    "execution": {
     "iopub.execute_input": "2024-06-25T02:04:26.507677Z",
     "iopub.status.busy": "2024-06-25T02:04:26.507320Z",
     "iopub.status.idle": "2024-06-25T02:04:26.514580Z",
     "shell.execute_reply": "2024-06-25T02:04:26.513626Z"
    },
    "papermill": {
     "duration": 0.140285,
     "end_time": "2024-06-25T02:04:26.516753",
     "exception": false,
     "start_time": "2024-06-25T02:04:26.376468",
     "status": "completed"
    },
    "tags": []
   },
   "outputs": [
    {
     "data": {
      "text/plain": [
       "tensor([ 0.8160,  0.1295, -0.0148,  0.1831,  0.1520,  0.1350,  0.7279,  0.7754,  0.3222,  0.6740,  0.0753,  0.0389,  0.2216,  0.7631,\n",
       "         0.0678,  0.3997,  0.3324,  0.8278,  0.1078,  0.7126,  0.1023,  0.3627,  0.9937,  0.8050,  0.1153,  0.1455,  0.8652,  0.3425])"
      ]
     },
     "execution_count": 45,
     "metadata": {},
     "output_type": "execute_result"
    }
   ],
   "source": [
    "preds[:28]"
   ]
  },
  {
   "cell_type": "markdown",
   "id": "57f627f4",
   "metadata": {
    "papermill": {
     "duration": 0.126657,
     "end_time": "2024-06-25T02:04:26.770394",
     "exception": false,
     "start_time": "2024-06-25T02:04:26.643737",
     "status": "completed"
    },
    "tags": []
   },
   "source": [
    "To fix this, we should pass every prediction through the *sigmoid function*, which has a minimum at zero and maximum at one, and is defined as follows:"
   ]
  },
  {
   "cell_type": "code",
   "execution_count": 46,
   "id": "3d5f99e3",
   "metadata": {
    "execution": {
     "iopub.execute_input": "2024-06-25T02:04:27.025672Z",
     "iopub.status.busy": "2024-06-25T02:04:27.024895Z",
     "iopub.status.idle": "2024-06-25T02:04:28.159647Z",
     "shell.execute_reply": "2024-06-25T02:04:28.158675Z"
    },
    "papermill": {
     "duration": 1.265745,
     "end_time": "2024-06-25T02:04:28.161916",
     "exception": false,
     "start_time": "2024-06-25T02:04:26.896171",
     "status": "completed"
    },
    "tags": []
   },
   "outputs": [
    {
     "data": {
      "image/png": "[encoded data removed]",
      "text/plain": [
       "<Figure size 432x288 with 1 Axes>"
      ]
     },
     "metadata": {
      "needs_background": "light"
     },
     "output_type": "display_data"
    }
   ],
   "source": [
    "import sympy\n",
    "sympy.plot(\"1/(1+exp(-x))\", xlim=(-5,5));"
   ]
  },
  {
   "cell_type": "markdown",
   "id": "22f0b0b1",
   "metadata": {
    "papermill": {
     "duration": 0.128242,
     "end_time": "2024-06-25T02:04:28.419848",
     "exception": false,
     "start_time": "2024-06-25T02:04:28.291606",
     "status": "completed"
    },
    "tags": []
   },
   "source": [
    "PyTorch already defines that function for us, so we can modify `calc_preds` to use it:"
   ]
  },
  {
   "cell_type": "code",
   "execution_count": 47,
   "id": "58e4e6fe",
   "metadata": {
    "execution": {
     "iopub.execute_input": "2024-06-25T02:04:28.680159Z",
     "iopub.status.busy": "2024-06-25T02:04:28.679829Z",
     "iopub.status.idle": "2024-06-25T02:04:28.684631Z",
     "shell.execute_reply": "2024-06-25T02:04:28.683740Z"
    },
    "papermill": {
     "duration": 0.136525,
     "end_time": "2024-06-25T02:04:28.686740",
     "exception": false,
     "start_time": "2024-06-25T02:04:28.550215",
     "status": "completed"
    },
    "tags": []
   },
   "outputs": [],
   "source": [
    "def calc_preds(coeffs, indeps): return torch.sigmoid((indeps*coeffs).sum(axis=1))"
   ]
  },
  {
   "cell_type": "markdown",
   "id": "152d5443",
   "metadata": {
    "papermill": {
     "duration": 0.127534,
     "end_time": "2024-06-25T02:04:28.941880",
     "exception": false,
     "start_time": "2024-06-25T02:04:28.814346",
     "status": "completed"
    },
    "tags": []
   },
   "source": [
    "Let's train a new model now, using this updated function to calculate predictions:"
   ]
  },
  {
   "cell_type": "code",
   "execution_count": 48,
   "id": "04ad4f20",
   "metadata": {
    "execution": {
     "iopub.execute_input": "2024-06-25T02:04:29.205725Z",
     "iopub.status.busy": "2024-06-25T02:04:29.205400Z",
     "iopub.status.idle": "2024-06-25T02:04:29.226722Z",
     "shell.execute_reply": "2024-06-25T02:04:29.225741Z"
    },
    "papermill": {
     "duration": 0.15708,
     "end_time": "2024-06-25T02:04:29.228948",
     "exception": false,
     "start_time": "2024-06-25T02:04:29.071868",
     "status": "completed"
    },
    "tags": []
   },
   "outputs": [
    {
     "name": "stdout",
     "output_type": "stream",
     "text": [
      "0.510; 0.327; 0.294; 0.207; 0.201; 0.199; 0.198; 0.197; 0.196; 0.196; 0.196; 0.195; 0.195; 0.195; 0.195; 0.195; 0.195; 0.195; 0.194; 0.194; 0.194; 0.194; 0.194; 0.194; 0.194; 0.194; 0.194; 0.194; 0.194; 0.194; "
     ]
    }
   ],
   "source": [
    "coeffs = train_model(lr=100)"
   ]
  },
  {
   "cell_type": "markdown",
   "id": "55e38e05",
   "metadata": {
    "papermill": {
     "duration": 0.128647,
     "end_time": "2024-06-25T02:04:29.487564",
     "exception": false,
     "start_time": "2024-06-25T02:04:29.358917",
     "status": "completed"
    },
    "tags": []
   },
   "source": [
    "The loss has improved by a lot. Let's check the accuracy:"
   ]
  },
  {
   "cell_type": "code",
   "execution_count": 49,
   "id": "53e9ec9f",
   "metadata": {
    "execution": {
     "iopub.execute_input": "2024-06-25T02:04:29.749617Z",
     "iopub.status.busy": "2024-06-25T02:04:29.749331Z",
     "iopub.status.idle": "2024-06-25T02:04:29.756659Z",
     "shell.execute_reply": "2024-06-25T02:04:29.755659Z"
    },
    "papermill": {
     "duration": 0.140115,
     "end_time": "2024-06-25T02:04:29.758855",
     "exception": false,
     "start_time": "2024-06-25T02:04:29.618740",
     "status": "completed"
    },
    "tags": []
   },
   "outputs": [
    {
     "data": {
      "text/plain": [
       "tensor(0.8258)"
      ]
     },
     "execution_count": 49,
     "metadata": {},
     "output_type": "execute_result"
    }
   ],
   "source": [
    "acc(coeffs)"
   ]
  },
  {
   "cell_type": "markdown",
   "id": "86c13ac3",
   "metadata": {
    "papermill": {
     "duration": 0.131035,
     "end_time": "2024-06-25T02:04:30.018765",
     "exception": false,
     "start_time": "2024-06-25T02:04:29.887730",
     "status": "completed"
    },
    "tags": []
   },
   "source": [
    "That's improved too! Here's the coefficients of our trained model:"
   ]
  },
  {
   "cell_type": "code",
   "execution_count": 50,
   "id": "e19afa60",
   "metadata": {
    "execution": {
     "iopub.execute_input": "2024-06-25T02:04:30.279058Z",
     "iopub.status.busy": "2024-06-25T02:04:30.278731Z",
     "iopub.status.idle": "2024-06-25T02:04:30.288170Z",
     "shell.execute_reply": "2024-06-25T02:04:30.287329Z"
    },
    "papermill": {
     "duration": 0.142312,
     "end_time": "2024-06-25T02:04:30.290297",
     "exception": false,
     "start_time": "2024-06-25T02:04:30.147985",
     "status": "completed"
    },
    "tags": []
   },
   "outputs": [
    {
     "data": {
      "text/plain": [
       "{'Age': tensor(-1.5061),\n",
       " 'SibSp': tensor(-1.1575),\n",
       " 'Parch': tensor(-0.4267),\n",
       " 'LogFare': tensor(0.2543),\n",
       " 'Sex_male': tensor(-10.3320),\n",
       " 'Sex_female': tensor(8.4185),\n",
       " 'Pclass_1': tensor(3.8389),\n",
       " 'Pclass_2': tensor(2.1398),\n",
       " 'Pclass_3': tensor(-6.2331),\n",
       " 'Embarked_C': tensor(1.4771),\n",
       " 'Embarked_Q': tensor(2.1168),\n",
       " 'Embarked_S': tensor(-4.7958)}"
      ]
     },
     "execution_count": 50,
     "metadata": {},
     "output_type": "execute_result"
    }
   ],
   "source": [
    "show_coeffs()"
   ]
  },
  {
   "cell_type": "markdown",
   "id": "03c88eb7",
   "metadata": {
    "papermill": {
     "duration": 0.130856,
     "end_time": "2024-06-25T02:04:30.550704",
     "exception": false,
     "start_time": "2024-06-25T02:04:30.419848",
     "status": "completed"
    },
    "tags": []
   },
   "source": [
    "These coefficients seem reasonable -- in general, older people and males were less likely to survive, and first class passengers were more likely to survive."
   ]
  },
  {
   "cell_type": "markdown",
   "id": "8eb9e86d",
   "metadata": {
    "papermill": {
     "duration": 0.1306,
     "end_time": "2024-06-25T02:04:30.810462",
     "exception": false,
     "start_time": "2024-06-25T02:04:30.679862",
     "status": "completed"
    },
    "tags": []
   },
   "source": [
    "## Submitting to Kaggle"
   ]
  },
  {
   "cell_type": "markdown",
   "id": "19493691",
   "metadata": {
    "papermill": {
     "duration": 0.13103,
     "end_time": "2024-06-25T02:04:31.071130",
     "exception": false,
     "start_time": "2024-06-25T02:04:30.940100",
     "status": "completed"
    },
    "tags": []
   },
   "source": [
    "Now that we've got a trained model, we can prepare a submission to Kaggle. To do that, first we need to read the test set:"
   ]
  },
  {
   "cell_type": "code",
   "execution_count": 51,
   "id": "d1407dc8",
   "metadata": {
    "execution": {
     "iopub.execute_input": "2024-06-25T02:04:31.335999Z",
     "iopub.status.busy": "2024-06-25T02:04:31.335158Z",
     "iopub.status.idle": "2024-06-25T02:04:31.349335Z",
     "shell.execute_reply": "2024-06-25T02:04:31.348486Z"
    },
    "papermill": {
     "duration": 0.148132,
     "end_time": "2024-06-25T02:04:31.351572",
     "exception": false,
     "start_time": "2024-06-25T02:04:31.203440",
     "status": "completed"
    },
    "tags": []
   },
   "outputs": [],
   "source": [
    "tst_df = pd.read_csv(path/'test.csv')"
   ]
  },
  {
   "cell_type": "markdown",
   "id": "7a689989",
   "metadata": {
    "papermill": {
     "duration": 0.131059,
     "end_time": "2024-06-25T02:04:31.612102",
     "exception": false,
     "start_time": "2024-06-25T02:04:31.481043",
     "status": "completed"
    },
    "tags": []
   },
   "source": [
    "In this case, it turns out that the test set is missing `Fare` for one passenger. We'll just fill it with `0` to avoid problems:"
   ]
  },
  {
   "cell_type": "code",
   "execution_count": 52,
   "id": "f260e353",
   "metadata": {
    "execution": {
     "iopub.execute_input": "2024-06-25T02:04:31.872783Z",
     "iopub.status.busy": "2024-06-25T02:04:31.871925Z",
     "iopub.status.idle": "2024-06-25T02:04:31.877441Z",
     "shell.execute_reply": "2024-06-25T02:04:31.876477Z"
    },
    "papermill": {
     "duration": 0.138744,
     "end_time": "2024-06-25T02:04:31.879559",
     "exception": false,
     "start_time": "2024-06-25T02:04:31.740815",
     "status": "completed"
    },
    "tags": []
   },
   "outputs": [],
   "source": [
    "tst_df['Fare'] = tst_df.Fare.fillna(0)"
   ]
  },
  {
   "cell_type": "markdown",
   "id": "86f40903",
   "metadata": {
    "papermill": {
     "duration": 0.130296,
     "end_time": "2024-06-25T02:04:32.142389",
     "exception": false,
     "start_time": "2024-06-25T02:04:32.012093",
     "status": "completed"
    },
    "tags": []
   },
   "source": [
    "Now we can just copy the same steps we did to our training set and do the same exact things on our test set to preprocess the data:"
   ]
  },
  {
   "cell_type": "code",
   "execution_count": 53,
   "id": "3825cf0c",
   "metadata": {
    "execution": {
     "iopub.execute_input": "2024-06-25T02:04:32.404756Z",
     "iopub.status.busy": "2024-06-25T02:04:32.403902Z",
     "iopub.status.idle": "2024-06-25T02:04:32.424989Z",
     "shell.execute_reply": "2024-06-25T02:04:32.424177Z"
    },
    "papermill": {
     "duration": 0.153875,
     "end_time": "2024-06-25T02:04:32.427495",
     "exception": false,
     "start_time": "2024-06-25T02:04:32.273620",
     "status": "completed"
    },
    "tags": []
   },
   "outputs": [],
   "source": [
    "tst_df.fillna(modes, inplace=True)\n",
    "tst_df['LogFare'] = np.log(tst_df['Fare']+1)\n",
    "tst_df = pd.get_dummies(tst_df, columns=[\"Sex\",\"Pclass\",\"Embarked\"])\n",
    "\n",
    "tst_indep = tensor(tst_df[indep_cols].values, dtype=torch.float)\n",
    "tst_indep = tst_indep / vals"
   ]
  },
  {
   "cell_type": "markdown",
   "id": "2db2fe4a",
   "metadata": {
    "papermill": {
     "duration": 0.128773,
     "end_time": "2024-06-25T02:04:32.687266",
     "exception": false,
     "start_time": "2024-06-25T02:04:32.558493",
     "status": "completed"
    },
    "tags": []
   },
   "source": [
    "Let's calculate our predictions of which passengers survived in the test set:"
   ]
  },
  {
   "cell_type": "code",
   "execution_count": 54,
   "id": "cddd8c87",
   "metadata": {
    "execution": {
     "iopub.execute_input": "2024-06-25T02:04:32.948203Z",
     "iopub.status.busy": "2024-06-25T02:04:32.947880Z",
     "iopub.status.idle": "2024-06-25T02:04:32.953539Z",
     "shell.execute_reply": "2024-06-25T02:04:32.952689Z"
    },
    "papermill": {
     "duration": 0.138757,
     "end_time": "2024-06-25T02:04:32.955776",
     "exception": false,
     "start_time": "2024-06-25T02:04:32.817019",
     "status": "completed"
    },
    "tags": []
   },
   "outputs": [],
   "source": [
    "tst_df['Survived'] = (calc_preds(tst_indep, coeffs)>0.5).int()"
   ]
  },
  {
   "cell_type": "markdown",
   "id": "90124188",
   "metadata": {
    "papermill": {
     "duration": 0.193466,
     "end_time": "2024-06-25T02:04:33.281603",
     "exception": false,
     "start_time": "2024-06-25T02:04:33.088137",
     "status": "completed"
    },
    "tags": []
   },
   "source": [
    "The sample submission on the Kaggle competition site shows that we're expected to upload a CSV with just `PassengerId` and `Survived`, so let's create that and save it:"
   ]
  },
  {
   "cell_type": "code",
   "execution_count": 55,
   "id": "29a2aa34",
   "metadata": {
    "execution": {
     "iopub.execute_input": "2024-06-25T02:04:33.544037Z",
     "iopub.status.busy": "2024-06-25T02:04:33.543307Z",
     "iopub.status.idle": "2024-06-25T02:04:33.553582Z",
     "shell.execute_reply": "2024-06-25T02:04:33.552721Z"
    },
    "papermill": {
     "duration": 0.144125,
     "end_time": "2024-06-25T02:04:33.555918",
     "exception": false,
     "start_time": "2024-06-25T02:04:33.411793",
     "status": "completed"
    },
    "tags": []
   },
   "outputs": [],
   "source": [
    "sub_df = tst_df[['PassengerId','Survived']]\n",
    "sub_df.to_csv('sub.csv', index=False)"
   ]
  },
  {
   "cell_type": "markdown",
   "id": "9aec3f64",
   "metadata": {
    "papermill": {
     "duration": 0.128637,
     "end_time": "2024-06-25T02:04:33.814965",
     "exception": false,
     "start_time": "2024-06-25T02:04:33.686328",
     "status": "completed"
    },
    "tags": []
   },
   "source": [
    "We can check the first few rows of the file to make sure it looks reasonable:"
   ]
  },
  {
   "cell_type": "code",
   "execution_count": 56,
   "id": "ddf2e2d9",
   "metadata": {
    "execution": {
     "iopub.execute_input": "2024-06-25T02:04:34.075588Z",
     "iopub.status.busy": "2024-06-25T02:04:34.074645Z",
     "iopub.status.idle": "2024-06-25T02:04:35.092608Z",
     "shell.execute_reply": "2024-06-25T02:04:35.091376Z"
    },
    "papermill": {
     "duration": 1.15032,
     "end_time": "2024-06-25T02:04:35.095279",
     "exception": false,
     "start_time": "2024-06-25T02:04:33.944959",
     "status": "completed"
    },
    "tags": []
   },
   "outputs": [
    {
     "name": "stdout",
     "output_type": "stream",
     "text": [
      "PassengerId,Survived\r\n",
      "892,0\r\n",
      "893,0\r\n",
      "894,0\r\n",
      "895,0\r\n",
      "896,0\r\n",
      "897,0\r\n",
      "898,1\r\n",
      "899,0\r\n",
      "900,1\r\n"
     ]
    }
   ],
   "source": [
    "!head sub.csv"
   ]
  },
  {
   "cell_type": "markdown",
   "id": "ba27eebb",
   "metadata": {
    "papermill": {
     "duration": 0.129731,
     "end_time": "2024-06-25T02:04:35.357396",
     "exception": false,
     "start_time": "2024-06-25T02:04:35.227665",
     "status": "completed"
    },
    "tags": []
   },
   "source": [
    "When you click \"save version\" in Kaggle, and wait for the notebook to run, you'll see that `sub.csv` appears in the \"Data\" tab. Clicking on that file will show a *Submit* button, which allows you to submit to the competition."
   ]
  },
  {
   "cell_type": "markdown",
   "id": "9b3b87f5",
   "metadata": {
    "papermill": {
     "duration": 0.131259,
     "end_time": "2024-06-25T02:04:35.619245",
     "exception": false,
     "start_time": "2024-06-25T02:04:35.487986",
     "status": "completed"
    },
    "tags": []
   },
   "source": [
    "## Using matrix product"
   ]
  },
  {
   "cell_type": "markdown",
   "id": "f12e7f9f",
   "metadata": {
    "papermill": {
     "duration": 0.130367,
     "end_time": "2024-06-25T02:04:35.881282",
     "exception": false,
     "start_time": "2024-06-25T02:04:35.750915",
     "status": "completed"
    },
    "tags": []
   },
   "source": [
    "We can make things quite a bit neater...\n",
    "\n",
    "Take a look at the inner-most calculation we're doing to get the predictions:"
   ]
  },
  {
   "cell_type": "code",
   "execution_count": 57,
   "id": "f91f9cb4",
   "metadata": {
    "execution": {
     "iopub.execute_input": "2024-06-25T02:04:36.147005Z",
     "iopub.status.busy": "2024-06-25T02:04:36.146326Z",
     "iopub.status.idle": "2024-06-25T02:04:36.156534Z",
     "shell.execute_reply": "2024-06-25T02:04:36.155749Z"
    },
    "papermill": {
     "duration": 0.145099,
     "end_time": "2024-06-25T02:04:36.158646",
     "exception": false,
     "start_time": "2024-06-25T02:04:36.013547",
     "status": "completed"
    },
    "tags": []
   },
   "outputs": [
    {
     "data": {
      "text/plain": [
       "tensor([ 12.3288, -14.8119, -15.4540, -13.1513, -13.3512, -13.6469,   3.6248,   5.3429, -22.0878,   3.1233, -21.8742, -15.6421, -21.5504,\n",
       "          3.9393, -21.9190, -12.0010, -12.3775,   5.3550, -13.5880,  -3.1015, -21.7237, -12.2081,  12.9767,   4.7427, -21.6525, -14.9135,\n",
       "         -2.7433, -12.3210, -21.5886,   3.9387,   5.3890,  -3.6196, -21.6296, -21.8454,  12.2159,  -3.2275, -12.0289,  13.4560, -21.7230,\n",
       "         -3.1366, -13.2462, -21.7230, -13.6831,  13.3092, -21.6477,  -3.5868, -21.6854, -21.8316, -14.8158,  -2.9386,  -5.3103, -22.2384,\n",
       "        -22.1097, -21.7466, -13.3780, -13.4909, -14.8119, -22.0690, -21.6666, -21.7818,  -5.4439, -21.7407, -12.6551, -21.6671,   4.9238,\n",
       "        -11.5777, -13.3323, -21.9638, -15.3030,   5.0243, -21.7614,   3.1820, -13.4721, -21.7170, -11.6066, -21.5737, -21.7230, -11.9652,\n",
       "        -13.2382, -13.7599, -13.2170,  13.1347, -21.7049, -21.7268,   4.9207,  -7.3198,  -5.3081,   7.1065,  11.4948, -13.3135, -21.8723,\n",
       "        -21.7230,  13.3603, -15.5670,   3.4105,  -7.2857, -13.7197,   3.6909,   3.9763, -14.7227, -21.8268,   3.9387, -21.8743, -21.8367,\n",
       "        -11.8518, -13.6712, -21.8299,   4.9440,  -5.4471, -21.9666,   5.1333,  -3.2187, -11.6008,  13.7920, -21.7230,  12.6369,  -3.7268,\n",
       "        -14.8119, -22.0637,  12.9468, -22.1610,  -6.1827, -14.8119,  -3.2838, -15.4540, -11.6950,  -2.9926,  -3.0110, -21.5664, -13.8268,\n",
       "          7.3426, -21.8418,   5.0744,   5.2582,  13.3415, -21.6289, -13.9898, -21.8112,  -7.3316,   5.2296, -13.4453,  12.7891, -22.1235,\n",
       "        -14.9625,  -3.4339,   6.3089, -21.9839,   3.1968,   7.2400,   2.8558,  -3.1187,   3.7965,   5.4667, -15.1101, -15.0597, -22.9391,\n",
       "        -21.7230,  -3.0346, -13.5206, -21.7011,  13.4425,  -7.2690, -21.8335, -12.0582,  13.0489,   6.7993,   5.2160,   5.0794, -12.6957,\n",
       "        -12.1838,  -3.0873, -21.6070,   7.0744, -21.7170, -22.1001,   6.8159, -11.6002, -21.6310])"
      ]
     },
     "execution_count": 57,
     "metadata": {},
     "output_type": "execute_result"
    }
   ],
   "source": [
    "(val_indep*coeffs).sum(axis=1)"
   ]
  },
  {
   "cell_type": "markdown",
   "id": "5359e972",
   "metadata": {
    "papermill": {
     "duration": 0.130196,
     "end_time": "2024-06-25T02:04:36.420510",
     "exception": false,
     "start_time": "2024-06-25T02:04:36.290314",
     "status": "completed"
    },
    "tags": []
   },
   "source": [
    "Multiplying elements together and then adding across rows is identical to doing a matrix-vector product! Python uses the `@` operator to indicate matrix products, and is supported by PyTorch tensors. Therefore, we can replicate the above calculate more simply like so:"
   ]
  },
  {
   "cell_type": "code",
   "execution_count": 58,
   "id": "1a7f0622",
   "metadata": {
    "execution": {
     "iopub.execute_input": "2024-06-25T02:04:36.685264Z",
     "iopub.status.busy": "2024-06-25T02:04:36.684986Z",
     "iopub.status.idle": "2024-06-25T02:04:36.697518Z",
     "shell.execute_reply": "2024-06-25T02:04:36.696647Z"
    },
    "papermill": {
     "duration": 0.146505,
     "end_time": "2024-06-25T02:04:36.699784",
     "exception": false,
     "start_time": "2024-06-25T02:04:36.553279",
     "status": "completed"
    },
    "tags": []
   },
   "outputs": [
    {
     "data": {
      "text/plain": [
       "tensor([ 12.3288, -14.8119, -15.4540, -13.1513, -13.3511, -13.6468,   3.6248,   5.3429, -22.0878,   3.1233, -21.8742, -15.6421, -21.5504,\n",
       "          3.9393, -21.9190, -12.0010, -12.3775,   5.3550, -13.5880,  -3.1015, -21.7237, -12.2081,  12.9767,   4.7427, -21.6525, -14.9135,\n",
       "         -2.7433, -12.3210, -21.5886,   3.9387,   5.3890,  -3.6196, -21.6296, -21.8454,  12.2159,  -3.2275, -12.0289,  13.4560, -21.7230,\n",
       "         -3.1366, -13.2462, -21.7230, -13.6831,  13.3092, -21.6477,  -3.5868, -21.6854, -21.8316, -14.8158,  -2.9386,  -5.3103, -22.2384,\n",
       "        -22.1097, -21.7466, -13.3780, -13.4909, -14.8119, -22.0690, -21.6666, -21.7818,  -5.4439, -21.7407, -12.6551, -21.6671,   4.9238,\n",
       "        -11.5777, -13.3323, -21.9638, -15.3030,   5.0243, -21.7614,   3.1820, -13.4721, -21.7170, -11.6066, -21.5737, -21.7230, -11.9652,\n",
       "        -13.2382, -13.7599, -13.2170,  13.1347, -21.7049, -21.7268,   4.9207,  -7.3198,  -5.3081,   7.1065,  11.4948, -13.3135, -21.8723,\n",
       "        -21.7230,  13.3603, -15.5670,   3.4105,  -7.2857, -13.7197,   3.6909,   3.9763, -14.7227, -21.8268,   3.9387, -21.8743, -21.8367,\n",
       "        -11.8518, -13.6712, -21.8299,   4.9440,  -5.4471, -21.9666,   5.1333,  -3.2187, -11.6008,  13.7920, -21.7230,  12.6369,  -3.7268,\n",
       "        -14.8119, -22.0637,  12.9468, -22.1610,  -6.1827, -14.8119,  -3.2838, -15.4540, -11.6950,  -2.9926,  -3.0110, -21.5664, -13.8268,\n",
       "          7.3426, -21.8418,   5.0744,   5.2582,  13.3415, -21.6289, -13.9898, -21.8112,  -7.3316,   5.2296, -13.4453,  12.7891, -22.1235,\n",
       "        -14.9625,  -3.4339,   6.3089, -21.9839,   3.1968,   7.2400,   2.8558,  -3.1187,   3.7965,   5.4667, -15.1101, -15.0597, -22.9391,\n",
       "        -21.7230,  -3.0346, -13.5206, -21.7011,  13.4425,  -7.2690, -21.8335, -12.0582,  13.0489,   6.7993,   5.2160,   5.0794, -12.6957,\n",
       "        -12.1838,  -3.0873, -21.6070,   7.0744, -21.7170, -22.1001,   6.8159, -11.6002, -21.6310])"
      ]
     },
     "execution_count": 58,
     "metadata": {},
     "output_type": "execute_result"
    }
   ],
   "source": [
    "val_indep@coeffs"
   ]
  },
  {
   "cell_type": "markdown",
   "id": "150bccd5",
   "metadata": {
    "papermill": {
     "duration": 0.132024,
     "end_time": "2024-06-25T02:04:36.963034",
     "exception": false,
     "start_time": "2024-06-25T02:04:36.831010",
     "status": "completed"
    },
    "tags": []
   },
   "source": [
    "It also turns out that this is much faster, because matrix products in PyTorch are very highly optimised.\n",
    "\n",
    "Let's use this to replace how `calc_preds` works:"
   ]
  },
  {
   "cell_type": "code",
   "execution_count": 59,
   "id": "417cbb79",
   "metadata": {
    "execution": {
     "iopub.execute_input": "2024-06-25T02:04:37.231665Z",
     "iopub.status.busy": "2024-06-25T02:04:37.230911Z",
     "iopub.status.idle": "2024-06-25T02:04:37.235856Z",
     "shell.execute_reply": "2024-06-25T02:04:37.234986Z"
    },
    "papermill": {
     "duration": 0.142905,
     "end_time": "2024-06-25T02:04:37.238132",
     "exception": false,
     "start_time": "2024-06-25T02:04:37.095227",
     "status": "completed"
    },
    "tags": []
   },
   "outputs": [],
   "source": [
    "def calc_preds(coeffs, indeps): return torch.sigmoid(indeps@coeffs)"
   ]
  },
  {
   "cell_type": "markdown",
   "id": "496faeab",
   "metadata": {
    "papermill": {
     "duration": 0.141106,
     "end_time": "2024-06-25T02:04:37.514601",
     "exception": false,
     "start_time": "2024-06-25T02:04:37.373495",
     "status": "completed"
    },
    "tags": []
   },
   "source": [
    "In order to do matrix-matrix products (which we'll need in the next section), we need to turn `coeffs` into a column vector (i.e. a matrix with a single column), which we can do by passing a second argument `1` to `torch.rand()`, indicating that we want our coefficients to have one column:"
   ]
  },
  {
   "cell_type": "code",
   "execution_count": 60,
   "id": "d35eaa7a",
   "metadata": {
    "execution": {
     "iopub.execute_input": "2024-06-25T02:04:37.791242Z",
     "iopub.status.busy": "2024-06-25T02:04:37.790373Z",
     "iopub.status.idle": "2024-06-25T02:04:37.795415Z",
     "shell.execute_reply": "2024-06-25T02:04:37.794604Z"
    },
    "papermill": {
     "duration": 0.13864,
     "end_time": "2024-06-25T02:04:37.797487",
     "exception": false,
     "start_time": "2024-06-25T02:04:37.658847",
     "status": "completed"
    },
    "tags": []
   },
   "outputs": [],
   "source": [
    "def init_coeffs(): return (torch.rand(n_coeff, 1)*0.1).requires_grad_()"
   ]
  },
  {
   "cell_type": "markdown",
   "id": "aa0442bc",
   "metadata": {
    "papermill": {
     "duration": 0.129796,
     "end_time": "2024-06-25T02:04:38.057791",
     "exception": false,
     "start_time": "2024-06-25T02:04:37.927995",
     "status": "completed"
    },
    "tags": []
   },
   "source": [
    "We'll also need to turn our dependent variable into a column vector, which we can do by indexing the column dimension with the special value `None`, which tells PyTorch to add a new dimension in this position:"
   ]
  },
  {
   "cell_type": "code",
   "execution_count": 61,
   "id": "a7391fd6",
   "metadata": {
    "execution": {
     "iopub.execute_input": "2024-06-25T02:04:38.324798Z",
     "iopub.status.busy": "2024-06-25T02:04:38.323878Z",
     "iopub.status.idle": "2024-06-25T02:04:38.328693Z",
     "shell.execute_reply": "2024-06-25T02:04:38.327749Z"
    },
    "papermill": {
     "duration": 0.141948,
     "end_time": "2024-06-25T02:04:38.330927",
     "exception": false,
     "start_time": "2024-06-25T02:04:38.188979",
     "status": "completed"
    },
    "tags": []
   },
   "outputs": [],
   "source": [
    "trn_dep = trn_dep[:,None]\n",
    "val_dep = val_dep[:,None]"
   ]
  },
  {
   "cell_type": "markdown",
   "id": "c9ac4ba3",
   "metadata": {
    "papermill": {
     "duration": 0.135546,
     "end_time": "2024-06-25T02:04:38.599562",
     "exception": false,
     "start_time": "2024-06-25T02:04:38.464016",
     "status": "completed"
    },
    "tags": []
   },
   "source": [
    "We can now train our model as before and confirm we get identical outputs...:"
   ]
  },
  {
   "cell_type": "code",
   "execution_count": 62,
   "id": "0effb502",
   "metadata": {
    "execution": {
     "iopub.execute_input": "2024-06-25T02:04:38.863490Z",
     "iopub.status.busy": "2024-06-25T02:04:38.862668Z",
     "iopub.status.idle": "2024-06-25T02:04:38.885014Z",
     "shell.execute_reply": "2024-06-25T02:04:38.883930Z"
    },
    "papermill": {
     "duration": 0.155797,
     "end_time": "2024-06-25T02:04:38.887480",
     "exception": false,
     "start_time": "2024-06-25T02:04:38.731683",
     "status": "completed"
    },
    "tags": []
   },
   "outputs": [
    {
     "name": "stdout",
     "output_type": "stream",
     "text": [
      "0.512; 0.323; 0.290; 0.205; 0.200; 0.198; 0.197; 0.197; 0.196; 0.196; 0.196; 0.195; 0.195; 0.195; 0.195; 0.195; 0.195; 0.194; 0.194; 0.194; 0.194; 0.194; 0.194; 0.194; 0.194; 0.194; 0.194; 0.194; 0.194; 0.194; "
     ]
    }
   ],
   "source": [
    "coeffs = train_model(lr=100)"
   ]
  },
  {
   "cell_type": "markdown",
   "id": "d8006ee2",
   "metadata": {
    "papermill": {
     "duration": 0.130231,
     "end_time": "2024-06-25T02:04:39.148410",
     "exception": false,
     "start_time": "2024-06-25T02:04:39.018179",
     "status": "completed"
    },
    "tags": []
   },
   "source": [
    "...and identical accuracy:"
   ]
  },
  {
   "cell_type": "code",
   "execution_count": 63,
   "id": "798893b3",
   "metadata": {
    "execution": {
     "iopub.execute_input": "2024-06-25T02:04:39.416592Z",
     "iopub.status.busy": "2024-06-25T02:04:39.416273Z",
     "iopub.status.idle": "2024-06-25T02:04:39.423062Z",
     "shell.execute_reply": "2024-06-25T02:04:39.422261Z"
    },
    "papermill": {
     "duration": 0.142341,
     "end_time": "2024-06-25T02:04:39.425080",
     "exception": false,
     "start_time": "2024-06-25T02:04:39.282739",
     "status": "completed"
    },
    "tags": []
   },
   "outputs": [
    {
     "data": {
      "text/plain": [
       "tensor(0.8258)"
      ]
     },
     "execution_count": 63,
     "metadata": {},
     "output_type": "execute_result"
    }
   ],
   "source": [
    "acc(coeffs)"
   ]
  },
  {
   "cell_type": "markdown",
   "id": "e15b2b68",
   "metadata": {
    "papermill": {
     "duration": 0.130662,
     "end_time": "2024-06-25T02:04:39.688394",
     "exception": false,
     "start_time": "2024-06-25T02:04:39.557732",
     "status": "completed"
    },
    "tags": []
   },
   "source": [
    "## A neural network"
   ]
  },
  {
   "cell_type": "markdown",
   "id": "f5406ff1",
   "metadata": {
    "papermill": {
     "duration": 0.130803,
     "end_time": "2024-06-25T02:04:39.950628",
     "exception": false,
     "start_time": "2024-06-25T02:04:39.819825",
     "status": "completed"
    },
    "tags": []
   },
   "source": [
    "We've now got what we need to implement our neural network.\n",
    "\n",
    "First, we'll need to create coefficients for each of our layers. Our first set of coefficients will take our `n_coeff` inputs, and create `n_hidden` outputs. We can choose whatever `n_hidden` we like -- a higher number gives our network more flexibility, but makes it slower and harder to train. So we need a matrix of size `n_coeff` by `n_hidden`. We'll divide these coefficients by `n_hidden` so that when we sum them up in the next layer we'll end up with similar magnitude numbers to what we started with.\n",
    "\n",
    "Then our second layer will need to take the `n_hidden` inputs and create a single output, so that means we need a `n_hidden` by `1` matrix there. The second layer will also need a constant term added."
   ]
  },
  {
   "cell_type": "code",
   "execution_count": 64,
   "id": "5fbf3d68",
   "metadata": {
    "execution": {
     "iopub.execute_input": "2024-06-25T02:04:40.216493Z",
     "iopub.status.busy": "2024-06-25T02:04:40.216169Z",
     "iopub.status.idle": "2024-06-25T02:04:40.221617Z",
     "shell.execute_reply": "2024-06-25T02:04:40.220780Z"
    },
    "papermill": {
     "duration": 0.141169,
     "end_time": "2024-06-25T02:04:40.223758",
     "exception": false,
     "start_time": "2024-06-25T02:04:40.082589",
     "status": "completed"
    },
    "tags": []
   },
   "outputs": [],
   "source": [
    "def init_coeffs(n_hidden=20):\n",
    "    layer1 = (torch.rand(n_coeff, n_hidden)-0.5)/n_hidden\n",
    "    layer2 = torch.rand(n_hidden, 1)-0.3\n",
    "    const = torch.rand(1)[0]\n",
    "    return layer1.requires_grad_(),layer2.requires_grad_(),const.requires_grad_()"
   ]
  },
  {
   "cell_type": "markdown",
   "id": "5c04b16e",
   "metadata": {
    "papermill": {
     "duration": 0.130872,
     "end_time": "2024-06-25T02:04:40.486410",
     "exception": false,
     "start_time": "2024-06-25T02:04:40.355538",
     "status": "completed"
    },
    "tags": []
   },
   "source": [
    "Now we have our coefficients, we can create our neural net. The key steps are the two matrix products, `indeps@l1` and `res@l2` (where `res` is the output of the first layer). The first layer output is passed to `F.relu` (that's our non-linearity), and the second is passed to `torch.sigmoid` as before."
   ]
  },
  {
   "cell_type": "code",
   "execution_count": 65,
   "id": "212209e2",
   "metadata": {
    "execution": {
     "iopub.execute_input": "2024-06-25T02:04:40.752564Z",
     "iopub.status.busy": "2024-06-25T02:04:40.751753Z",
     "iopub.status.idle": "2024-06-25T02:04:40.757028Z",
     "shell.execute_reply": "2024-06-25T02:04:40.756241Z"
    },
    "papermill": {
     "duration": 0.139519,
     "end_time": "2024-06-25T02:04:40.759611",
     "exception": false,
     "start_time": "2024-06-25T02:04:40.620092",
     "status": "completed"
    },
    "tags": []
   },
   "outputs": [],
   "source": [
    "import torch.nn.functional as F\n",
    "\n",
    "def calc_preds(coeffs, indeps):\n",
    "    l1,l2,const = coeffs\n",
    "    res = F.relu(indeps@l1)\n",
    "    res = res@l2 + const\n",
    "    return torch.sigmoid(res)"
   ]
  },
  {
   "cell_type": "markdown",
   "id": "01d8c767",
   "metadata": {
    "papermill": {
     "duration": 0.129877,
     "end_time": "2024-06-25T02:04:41.022087",
     "exception": false,
     "start_time": "2024-06-25T02:04:40.892210",
     "status": "completed"
    },
    "tags": []
   },
   "source": [
    "Finally, now that we have more than one set of coefficients, we need to add a loop to update each one:"
   ]
  },
  {
   "cell_type": "code",
   "execution_count": 66,
   "id": "05b3dd66",
   "metadata": {
    "execution": {
     "iopub.execute_input": "2024-06-25T02:04:41.289618Z",
     "iopub.status.busy": "2024-06-25T02:04:41.289316Z",
     "iopub.status.idle": "2024-06-25T02:04:41.293984Z",
     "shell.execute_reply": "2024-06-25T02:04:41.293181Z"
    },
    "papermill": {
     "duration": 0.141988,
     "end_time": "2024-06-25T02:04:41.296105",
     "exception": false,
     "start_time": "2024-06-25T02:04:41.154117",
     "status": "completed"
    },
    "tags": []
   },
   "outputs": [],
   "source": [
    "def update_coeffs(coeffs, lr):\n",
    "    for layer in coeffs:\n",
    "        layer.sub_(layer.grad * lr)\n",
    "        layer.grad.zero_()"
   ]
  },
  {
   "cell_type": "markdown",
   "id": "c1ce8d44",
   "metadata": {
    "papermill": {
     "duration": 0.134793,
     "end_time": "2024-06-25T02:04:41.562187",
     "exception": false,
     "start_time": "2024-06-25T02:04:41.427394",
     "status": "completed"
    },
    "tags": []
   },
   "source": [
    "That's it -- we're now ready to train our model!"
   ]
  },
  {
   "cell_type": "code",
   "execution_count": 67,
   "id": "e381a3c2",
   "metadata": {
    "execution": {
     "iopub.execute_input": "2024-06-25T02:04:41.827716Z",
     "iopub.status.busy": "2024-06-25T02:04:41.827404Z",
     "iopub.status.idle": "2024-06-25T02:04:41.860110Z",
     "shell.execute_reply": "2024-06-25T02:04:41.859088Z"
    },
    "papermill": {
     "duration": 0.166889,
     "end_time": "2024-06-25T02:04:41.862383",
     "exception": false,
     "start_time": "2024-06-25T02:04:41.695494",
     "status": "completed"
    },
    "tags": []
   },
   "outputs": [
    {
     "name": "stdout",
     "output_type": "stream",
     "text": [
      "0.543; 0.532; 0.520; 0.505; 0.487; 0.466; 0.439; 0.407; 0.373; 0.343; 0.319; 0.301; 0.286; 0.274; 0.264; 0.256; 0.250; 0.245; 0.240; 0.237; 0.234; 0.231; 0.229; 0.227; 0.226; 0.224; 0.223; 0.222; 0.221; 0.220; "
     ]
    }
   ],
   "source": [
    "coeffs = train_model(lr=1.4)"
   ]
  },
  {
   "cell_type": "code",
   "execution_count": 68,
   "id": "81226858",
   "metadata": {
    "execution": {
     "iopub.execute_input": "2024-06-25T02:04:42.127522Z",
     "iopub.status.busy": "2024-06-25T02:04:42.127235Z",
     "iopub.status.idle": "2024-06-25T02:04:42.149031Z",
     "shell.execute_reply": "2024-06-25T02:04:42.148159Z"
    },
    "papermill": {
     "duration": 0.158009,
     "end_time": "2024-06-25T02:04:42.151338",
     "exception": false,
     "start_time": "2024-06-25T02:04:41.993329",
     "status": "completed"
    },
    "tags": []
   },
   "outputs": [
    {
     "name": "stdout",
     "output_type": "stream",
     "text": [
      "0.543; 0.400; 0.260; 0.390; 0.221; 0.211; 0.197; 0.195; 0.193; 0.193; 0.193; 0.193; 0.193; 0.193; 0.193; 0.193; 0.193; 0.192; 0.192; 0.192; 0.192; 0.192; 0.192; 0.192; 0.192; 0.192; 0.192; 0.192; 0.192; 0.192; "
     ]
    }
   ],
   "source": [
    "coeffs = train_model(lr=20)"
   ]
  },
  {
   "cell_type": "markdown",
   "id": "7d83fbc2",
   "metadata": {
    "papermill": {
     "duration": 0.132403,
     "end_time": "2024-06-25T02:04:42.418432",
     "exception": false,
     "start_time": "2024-06-25T02:04:42.286029",
     "status": "completed"
    },
    "tags": []
   },
   "source": [
    "It's looking good -- our loss is lower than before. Let's see if that translates to a better result on the validation set:"
   ]
  },
  {
   "cell_type": "code",
   "execution_count": 69,
   "id": "c0a62e23",
   "metadata": {
    "execution": {
     "iopub.execute_input": "2024-06-25T02:04:42.685585Z",
     "iopub.status.busy": "2024-06-25T02:04:42.684829Z",
     "iopub.status.idle": "2024-06-25T02:04:42.691384Z",
     "shell.execute_reply": "2024-06-25T02:04:42.690580Z"
    },
    "papermill": {
     "duration": 0.141574,
     "end_time": "2024-06-25T02:04:42.693372",
     "exception": false,
     "start_time": "2024-06-25T02:04:42.551798",
     "status": "completed"
    },
    "tags": []
   },
   "outputs": [
    {
     "data": {
      "text/plain": [
       "tensor(0.8258)"
      ]
     },
     "execution_count": 69,
     "metadata": {},
     "output_type": "execute_result"
    }
   ],
   "source": [
    "acc(coeffs)"
   ]
  },
  {
   "cell_type": "markdown",
   "id": "4dc27ca8",
   "metadata": {
    "papermill": {
     "duration": 0.132865,
     "end_time": "2024-06-25T02:04:42.958604",
     "exception": false,
     "start_time": "2024-06-25T02:04:42.825739",
     "status": "completed"
    },
    "tags": []
   },
   "source": [
    "In this case our neural net isn't showing better results than the linear model. That's not surprising; this dataset is very small and very simple, and isn't the kind of thing we'd expect to see neural networks excel at. Furthermore, our validation set is too small to reliably see much accuracy difference. But the key thing is that we now know exactly what a real neural net looks like!"
   ]
  },
  {
   "cell_type": "markdown",
   "id": "9dca0e9e",
   "metadata": {
    "papermill": {
     "duration": 0.135127,
     "end_time": "2024-06-25T02:04:43.228758",
     "exception": false,
     "start_time": "2024-06-25T02:04:43.093631",
     "status": "completed"
    },
    "tags": []
   },
   "source": [
    "## Deep learning"
   ]
  },
  {
   "cell_type": "markdown",
   "id": "9f9f1557",
   "metadata": {
    "papermill": {
     "duration": 0.131757,
     "end_time": "2024-06-25T02:04:43.495632",
     "exception": false,
     "start_time": "2024-06-25T02:04:43.363875",
     "status": "completed"
    },
    "tags": []
   },
   "source": [
    "The neural net in the previous section only uses one hidden layer, so it doesn't count as \"deep\" learning. But we can use the exact same technique to make our neural net deep, by adding more matrix multiplications.\n",
    "\n",
    "First, we'll need to create additional coefficients for each layer:"
   ]
  },
  {
   "cell_type": "code",
   "execution_count": 70,
   "id": "8e2167af",
   "metadata": {
    "execution": {
     "iopub.execute_input": "2024-06-25T02:04:43.763693Z",
     "iopub.status.busy": "2024-06-25T02:04:43.763093Z",
     "iopub.status.idle": "2024-06-25T02:04:43.769965Z",
     "shell.execute_reply": "2024-06-25T02:04:43.769152Z"
    },
    "papermill": {
     "duration": 0.142406,
     "end_time": "2024-06-25T02:04:43.771963",
     "exception": false,
     "start_time": "2024-06-25T02:04:43.629557",
     "status": "completed"
    },
    "tags": []
   },
   "outputs": [],
   "source": [
    "def init_coeffs():\n",
    "    hiddens = [10, 10]  # <-- set this to the size of each hidden layer you want\n",
    "    sizes = [n_coeff] + hiddens + [1]\n",
    "    n = len(sizes)\n",
    "    layers = [(torch.rand(sizes[i], sizes[i+1])-0.3)/sizes[i+1]*4 for i in range(n-1)]\n",
    "    consts = [(torch.rand(1)[0]-0.5)*0.1 for i in range(n-1)]\n",
    "    for l in layers+consts: l.requires_grad_()\n",
    "    return layers,consts"
   ]
  },
  {
   "cell_type": "markdown",
   "id": "78b8df04",
   "metadata": {
    "papermill": {
     "duration": 0.132195,
     "end_time": "2024-06-25T02:04:44.036513",
     "exception": false,
     "start_time": "2024-06-25T02:04:43.904318",
     "status": "completed"
    },
    "tags": []
   },
   "source": [
    "You'll notice here that there's a lot of messy constants to get the random numbers in just the right ranges. When you train the model in a moment, you'll see that the tiniest changes to these initialisations can cause our model to fail to train at all! This is a key reason that deep learning failed to make much progress in the early days -- it's very finicky to get a good starting point for our coefficients. Nowadays, we have ways to deal with that, which we'll learn about in other notebooks.\n",
    "\n",
    "Our deep learning `calc_preds` looks much the same as before, but now we loop through each layer, instead of listing them separately:"
   ]
  },
  {
   "cell_type": "code",
   "execution_count": 71,
   "id": "a4598ed5",
   "metadata": {
    "execution": {
     "iopub.execute_input": "2024-06-25T02:04:44.310556Z",
     "iopub.status.busy": "2024-06-25T02:04:44.310262Z",
     "iopub.status.idle": "2024-06-25T02:04:44.316547Z",
     "shell.execute_reply": "2024-06-25T02:04:44.315560Z"
    },
    "papermill": {
     "duration": 0.146503,
     "end_time": "2024-06-25T02:04:44.318635",
     "exception": false,
     "start_time": "2024-06-25T02:04:44.172132",
     "status": "completed"
    },
    "tags": []
   },
   "outputs": [],
   "source": [
    "import torch.nn.functional as F\n",
    "\n",
    "def calc_preds(coeffs, indeps):\n",
    "    layers,consts = coeffs\n",
    "    n = len(layers)\n",
    "    res = indeps\n",
    "    for i,l in enumerate(layers):\n",
    "        res = res@l + consts[i]\n",
    "        if i!=n-1: res = F.relu(res)\n",
    "    return torch.sigmoid(res)"
   ]
  },
  {
   "cell_type": "markdown",
   "id": "0e7e6f32",
   "metadata": {
    "papermill": {
     "duration": 0.131831,
     "end_time": "2024-06-25T02:04:44.582901",
     "exception": false,
     "start_time": "2024-06-25T02:04:44.451070",
     "status": "completed"
    },
    "tags": []
   },
   "source": [
    "We also need a minor update to `update_coeffs` since we've got `layers` and `consts` separated now:"
   ]
  },
  {
   "cell_type": "code",
   "execution_count": 72,
   "id": "62b5a3ac",
   "metadata": {
    "execution": {
     "iopub.execute_input": "2024-06-25T02:04:44.857705Z",
     "iopub.status.busy": "2024-06-25T02:04:44.856805Z",
     "iopub.status.idle": "2024-06-25T02:04:44.862745Z",
     "shell.execute_reply": "2024-06-25T02:04:44.861827Z"
    },
    "papermill": {
     "duration": 0.15035,
     "end_time": "2024-06-25T02:04:44.864860",
     "exception": false,
     "start_time": "2024-06-25T02:04:44.714510",
     "status": "completed"
    },
    "tags": []
   },
   "outputs": [],
   "source": [
    "def update_coeffs(coeffs, lr):\n",
    "    layers,consts = coeffs\n",
    "    for layer in layers+consts:\n",
    "        layer.sub_(layer.grad * lr)\n",
    "        layer.grad.zero_()"
   ]
  },
  {
   "cell_type": "markdown",
   "id": "64653106",
   "metadata": {
    "papermill": {
     "duration": 0.138199,
     "end_time": "2024-06-25T02:04:45.142584",
     "exception": false,
     "start_time": "2024-06-25T02:04:45.004385",
     "status": "completed"
    },
    "tags": []
   },
   "source": [
    "Let's train our model..."
   ]
  },
  {
   "cell_type": "code",
   "execution_count": 73,
   "id": "3039def1",
   "metadata": {
    "execution": {
     "iopub.execute_input": "2024-06-25T02:04:45.417394Z",
     "iopub.status.busy": "2024-06-25T02:04:45.417080Z",
     "iopub.status.idle": "2024-06-25T02:04:45.451957Z",
     "shell.execute_reply": "2024-06-25T02:04:45.451003Z"
    },
    "papermill": {
     "duration": 0.173354,
     "end_time": "2024-06-25T02:04:45.454200",
     "exception": false,
     "start_time": "2024-06-25T02:04:45.280846",
     "status": "completed"
    },
    "tags": []
   },
   "outputs": [
    {
     "name": "stdout",
     "output_type": "stream",
     "text": [
      "0.521; 0.483; 0.427; 0.379; 0.379; 0.379; 0.379; 0.378; 0.378; 0.378; 0.378; 0.378; 0.378; 0.378; 0.378; 0.378; 0.377; 0.376; 0.371; 0.333; 0.239; 0.224; 0.208; 0.204; 0.203; 0.203; 0.207; 0.197; 0.196; 0.195; "
     ]
    }
   ],
   "source": [
    "coeffs = train_model(lr=4)"
   ]
  },
  {
   "cell_type": "markdown",
   "id": "5ff74c74",
   "metadata": {
    "papermill": {
     "duration": 0.131658,
     "end_time": "2024-06-25T02:04:45.719333",
     "exception": false,
     "start_time": "2024-06-25T02:04:45.587675",
     "status": "completed"
    },
    "tags": []
   },
   "source": [
    "...and check its accuracy:"
   ]
  },
  {
   "cell_type": "code",
   "execution_count": 74,
   "id": "f4d00ca3",
   "metadata": {
    "execution": {
     "iopub.execute_input": "2024-06-25T02:04:45.991690Z",
     "iopub.status.busy": "2024-06-25T02:04:45.990951Z",
     "iopub.status.idle": "2024-06-25T02:04:45.998741Z",
     "shell.execute_reply": "2024-06-25T02:04:45.997963Z"
    },
    "papermill": {
     "duration": 0.147688,
     "end_time": "2024-06-25T02:04:46.000865",
     "exception": false,
     "start_time": "2024-06-25T02:04:45.853177",
     "status": "completed"
    },
    "tags": []
   },
   "outputs": [
    {
     "data": {
      "text/plain": [
       "tensor(0.8258)"
      ]
     },
     "execution_count": 74,
     "metadata": {},
     "output_type": "execute_result"
    }
   ],
   "source": [
    "acc(coeffs)"
   ]
  },
  {
   "cell_type": "markdown",
   "id": "362f63fd",
   "metadata": {
    "papermill": {
     "duration": 0.133458,
     "end_time": "2024-06-25T02:04:46.269222",
     "exception": false,
     "start_time": "2024-06-25T02:04:46.135764",
     "status": "completed"
    },
    "tags": []
   },
   "source": [
    "## Final thoughts"
   ]
  },
  {
   "cell_type": "markdown",
   "id": "bba18324",
   "metadata": {
    "papermill": {
     "duration": 0.132705,
     "end_time": "2024-06-25T02:04:46.534723",
     "exception": false,
     "start_time": "2024-06-25T02:04:46.402018",
     "status": "completed"
    },
    "tags": []
   },
   "source": [
    "It's actually pretty cool that we've managed to create a real deep learning model from scratch and trained it to get over 80% accuracy on this task, all in the course of a single notebook!\n",
    "\n",
    "The \"real\" deep learning models that are used in research and industry look very similar to this, and in fact if you look inside the source code of any deep learning model you'll recognise the basic steps are the same.\n",
    "\n",
    "The biggest differences in practical models to what we have above are:\n",
    "\n",
    "- How initialisation and normalisation is done to ensure the model trains correctly every time\n",
    "- Regularization (to avoid over-fitting)\n",
    "- Modifying the neural net itself to take advantage of knowledge of the problem domain\n",
    "- Doing gradient descent steps on smaller batches, rather than the whole dataset.\n",
    "\n",
    "I'll be adding notebooks about all these later, and will add links here once they're ready.\n",
    "\n",
    "If you found this notebook useful, please remember to click the little up-arrow at the top to upvote it, since I like to know when people have found my work useful, and it helps others find it too. (BTW, be sure you're looking at my [original notebook here](https://www.kaggle.com/code/jhoward/linear-model-and-neural-net-from-scratch) when you do that, and are not on your own copy of it, otherwise your upvote won't get counted!) And if you have any questions or comments, please pop them below -- I read every comment I receive!"
   ]
  },
  {
   "cell_type": "code",
   "execution_count": null,
   "id": "bf02618a",
   "metadata": {
    "papermill": {
     "duration": 0.131645,
     "end_time": "2024-06-25T02:04:46.803232",
     "exception": false,
     "start_time": "2024-06-25T02:04:46.671587",
     "status": "completed"
    },
    "tags": []
   },
   "outputs": [],
   "source": []
  }
 ],
 "metadata": {
  "kaggle": {
   "accelerator": "none",
   "dataSources": [
    {
     "databundleVersionId": 26502,
     "sourceId": 3136,
     "sourceType": "competition"
    }
   ],
   "dockerImageVersionId": 30184,
   "isGpuEnabled": false,
   "isInternetEnabled": true,
   "language": "python",
   "sourceType": "notebook"
  },
  "kernelspec": {
   "display_name": "Python 3",
   "language": "python",
   "name": "python3"
  },
  "language_info": {
   "codemirror_mode": {
    "name": "ipython",
    "version": 3
   },
   "file_extension": ".py",
   "mimetype": "text/x-python",
   "name": "python",
   "nbconvert_exporter": "python",
   "pygments_lexer": "ipython3",
   "version": "3.7.12"
  },
  "papermill": {
   "default_parameters": {},
   "duration": 57.760945,
   "end_time": "2024-06-25T02:04:47.959205",
   "environment_variables": {},
   "exception": null,
   "input_path": "__notebook__.ipynb",
   "output_path": "__notebook__.ipynb",
   "parameters": {},
   "start_time": "2024-06-25T02:03:50.198260",
   "version": "2.3.4"
  }
 },
 "nbformat": 4,
 "nbformat_minor": 5
}
