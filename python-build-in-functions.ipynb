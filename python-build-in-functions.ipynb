{
 "cells": [
  {
   "cell_type": "markdown",
   "id": "8502d6f9",
   "metadata": {
    "papermill": {
     "duration": 0.003527,
     "end_time": "2023-02-08T12:40:14.571659",
     "exception": false,
     "start_time": "2023-02-08T12:40:14.568132",
     "status": "completed"
    },
    "tags": []
   },
   "source": [
    "# پائیتھون بیلٹ ان فنکشنز\n",
    "<b style='color: blue'>Note: This note book is for Urdu reader, for English reader please consider the English version. Thank you</b>\n",
    "\n",
    "پائیتھون میں تقریبا ۵۰ سے زائد بلٹ ان فنکشنز ہیں۔ اس نوٹ بک کا مقصد اردو زبان کے قارئین کے لیے پائتھون کے بنیادی بلٹ ان فنکشنز کو تفصیل سے سادہ انداز میں بیان کرنا ہے۔ \n",
    "اگر آپ اس نوٹ بک سے استفادہ حاصل کریں یا یہ کاوش پسند آئے تو کمنٹ سیکشن میں حوصلہ افزائی فرمائیں اور اردو زبان کے قارئین تک بھیجیں تاکہ اس تحریر کا زیادہ سے زیادہ فائدہ ہو سکے۔ شکریہ"
   ]
  },
  {
   "cell_type": "markdown",
   "id": "149912c1",
   "metadata": {
    "papermill": {
     "duration": 0.002142,
     "end_time": "2023-02-08T12:40:14.576444",
     "exception": false,
     "start_time": "2023-02-08T12:40:14.574302",
     "status": "completed"
    },
    "tags": []
   },
   "source": [
    " ## 1. abs()\n",
    " یہ فنکشن کسی بھی انٹیجر کو مطلق قیمت واپس کرتا ہے۔ مطلق قیمت سے مراد اس انٹیجر یا اعشاری ہندسے کی مثبت قیمت ہوتی ہے۔ مثلا منفی دس کی مطلق قیمت ۱۰ ہو گی، اور مثبت دس کی مطلق قیمت بھی دس ہی ہو گی۔ "
   ]
  },
  {
   "cell_type": "code",
   "execution_count": 1,
   "id": "f4948fcb",
   "metadata": {
    "_cell_guid": "b1076dfc-b9ad-4769-8c92-a6c4dae69d19",
    "_uuid": "8f2839f25d086af736a60e9eeb907d3b93b6e0e5",
    "execution": {
     "iopub.execute_input": "2023-02-08T12:40:14.584148Z",
     "iopub.status.busy": "2023-02-08T12:40:14.583544Z",
     "iopub.status.idle": "2023-02-08T12:40:14.599693Z",
     "shell.execute_reply": "2023-02-08T12:40:14.598243Z"
    },
    "papermill": {
     "duration": 0.023807,
     "end_time": "2023-02-08T12:40:14.602664",
     "exception": false,
     "start_time": "2023-02-08T12:40:14.578857",
     "status": "completed"
    },
    "tags": []
   },
   "outputs": [
    {
     "name": "stdout",
     "output_type": "stream",
     "text": [
      "منفی ۱۰ کی مطلق قیمت ۱۰ ہے: 10\n",
      "مثبت ۱۰ کی مطلق قیمت ۱۰ ہے: 10\n"
     ]
    }
   ],
   "source": [
    "print(\"منفی ۱۰ کی مطلق قیمت ۱۰ ہے:\",abs(10))\n",
    "print(\"مثبت ۱۰ کی مطلق قیمت ۱۰ ہے:\",abs(-10))"
   ]
  },
  {
   "cell_type": "code",
   "execution_count": 2,
   "id": "2c4bcead",
   "metadata": {
    "execution": {
     "iopub.execute_input": "2023-02-08T12:40:14.609583Z",
     "iopub.status.busy": "2023-02-08T12:40:14.609144Z",
     "iopub.status.idle": "2023-02-08T12:40:14.614647Z",
     "shell.execute_reply": "2023-02-08T12:40:14.613540Z"
    },
    "papermill": {
     "duration": 0.012055,
     "end_time": "2023-02-08T12:40:14.617334",
     "exception": false,
     "start_time": "2023-02-08T12:40:14.605279",
     "status": "completed"
    },
    "tags": []
   },
   "outputs": [
    {
     "name": "stdout",
     "output_type": "stream",
     "text": [
      "منفی پ۵۔۵ کی مطلق قیمت ۵۔۵ ہے: 5.5\n",
      "مثبت ۷۔۱ کی مطلق قیمت ۷۔۱ ہے: 7.1\n"
     ]
    }
   ],
   "source": [
    "print(\"منفی پ۵۔۵ کی مطلق قیمت ۵۔۵ ہے:\",abs(-5.5))\n",
    "print(\"مثبت ۷۔۱ کی مطلق قیمت ۷۔۱ ہے:\",abs(7.1))"
   ]
  },
  {
   "cell_type": "markdown",
   "id": "c099d8f1",
   "metadata": {
    "papermill": {
     "duration": 0.002304,
     "end_time": "2023-02-08T12:40:14.622154",
     "exception": false,
     "start_time": "2023-02-08T12:40:14.619850",
     "status": "completed"
    },
    "tags": []
   },
   "source": [
    "## 2. any()"
   ]
  },
  {
   "cell_type": "code",
   "execution_count": null,
   "id": "fd62b02d",
   "metadata": {
    "papermill": {
     "duration": 0.002096,
     "end_time": "2023-02-08T12:40:14.626720",
     "exception": false,
     "start_time": "2023-02-08T12:40:14.624624",
     "status": "completed"
    },
    "tags": []
   },
   "outputs": [],
   "source": []
  },
  {
   "cell_type": "markdown",
   "id": "5592b1fa",
   "metadata": {
    "papermill": {
     "duration": 0.002051,
     "end_time": "2023-02-08T12:40:14.631058",
     "exception": false,
     "start_time": "2023-02-08T12:40:14.629007",
     "status": "completed"
    },
    "tags": []
   },
   "source": [
    "## جاری ہے۔۔۔"
   ]
  }
 ],
 "metadata": {
  "kernelspec": {
   "display_name": "Python 3",
   "language": "python",
   "name": "python3"
  },
  "language_info": {
   "codemirror_mode": {
    "name": "ipython",
    "version": 3
   },
   "file_extension": ".py",
   "mimetype": "text/x-python",
   "name": "python",
   "nbconvert_exporter": "python",
   "pygments_lexer": "ipython3",
   "version": "3.7.12"
  },
  "papermill": {
   "default_parameters": {},
   "duration": 9.591475,
   "end_time": "2023-02-08T12:40:15.255385",
   "environment_variables": {},
   "exception": null,
   "input_path": "__notebook__.ipynb",
   "output_path": "__notebook__.ipynb",
   "parameters": {},
   "start_time": "2023-02-08T12:40:05.663910",
   "version": "2.3.4"
  }
 },
 "nbformat": 4,
 "nbformat_minor": 5
}
