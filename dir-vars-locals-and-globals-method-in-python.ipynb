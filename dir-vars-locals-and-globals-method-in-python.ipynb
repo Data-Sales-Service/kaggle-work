{
 "cells": [
  {
   "cell_type": "markdown",
   "id": "7a182446",
   "metadata": {
    "_cell_guid": "b1076dfc-b9ad-4769-8c92-a6c4dae69d19",
    "_uuid": "8f2839f25d086af736a60e9eeb907d3b93b6e0e5",
    "papermill": {
     "duration": 0.005284,
     "end_time": "2023-02-24T15:28:40.600166",
     "exception": false,
     "start_time": "2023-02-24T15:28:40.594882",
     "status": "completed"
    },
    "tags": []
   },
   "source": [
    "# Some useful debug methods in Python\n",
    "In Python, **dir(), locals(), globals(), and vars()** are built-in functions used for different purposes.\n",
    "\n",
    "- **dir() function** returns a sorted list of attributes and methods of any object (if no object is provided, it returns the attributes and methods of the current scope).\n",
    "\n",
    "- **locals() function** returns a dictionary containing the current local symbol table.\n",
    "\n",
    "- **globals() function** returns a dictionary containing the current global symbol table.\n",
    "\n",
    "- **vars() function** returns the __dict__ attribute of an object, which contains the object's instance variables.\n",
    "\n",
    "Here's an example that shows the difference between these functions:"
   ]
  },
  {
   "cell_type": "code",
   "execution_count": 1,
   "id": "665c4ba5",
   "metadata": {
    "execution": {
     "iopub.execute_input": "2023-02-24T15:28:40.610562Z",
     "iopub.status.busy": "2023-02-24T15:28:40.610104Z",
     "iopub.status.idle": "2023-02-24T15:28:40.623132Z",
     "shell.execute_reply": "2023-02-24T15:28:40.621790Z"
    },
    "papermill": {
     "duration": 0.021644,
     "end_time": "2023-02-24T15:28:40.625892",
     "exception": false,
     "start_time": "2023-02-24T15:28:40.604248",
     "status": "completed"
    },
    "tags": []
   },
   "outputs": [
    {
     "name": "stdout",
     "output_type": "stream",
     "text": [
      "dir():- \t ['x', 'y']\n",
      "\n",
      "locals():- \t {'x': 10, 'y': 15}\n",
      "\n",
      "globals():- \t {'__name__': '__main__', '__doc__': 'Automatically created module for IPython interactive environment', '__package__': None, '__loader__': None, '__spec__': None, '__builtin__': <module 'builtins' (built-in)>, '__builtins__': <module 'builtins' (built-in)>, '_ih': ['', \"a = 10\\nb = 'hello'\\n\\ndef my_func(x):\\n    y = x + 5\\n    print('dir():- \\\\t', dir(), end='\\\\n\\\\n')\\n    print('locals():- \\\\t', locals(), end='\\\\n\\\\n')\\n    print('globals():- \\\\t', globals(), end='\\\\n\\\\n')\\n    print('vars():- \\\\t', vars(), end='\\\\n\\\\n')\\n\\nmy_func(a)\"], '_oh': {}, '_dh': ['/kaggle/working'], 'In': ['', \"a = 10\\nb = 'hello'\\n\\ndef my_func(x):\\n    y = x + 5\\n    print('dir():- \\\\t', dir(), end='\\\\n\\\\n')\\n    print('locals():- \\\\t', locals(), end='\\\\n\\\\n')\\n    print('globals():- \\\\t', globals(), end='\\\\n\\\\n')\\n    print('vars():- \\\\t', vars(), end='\\\\n\\\\n')\\n\\nmy_func(a)\"], 'Out': {}, 'get_ipython': <bound method InteractiveShell.get_ipython of <ipykernel.zmqshell.ZMQInteractiveShell object at 0x7fafd5b43690>>, 'exit': <IPython.core.autocall.ZMQExitAutocall object at 0x7fafd5b05c50>, 'quit': <IPython.core.autocall.ZMQExitAutocall object at 0x7fafd5b05c50>, '_': '', '__': '', '___': '', '_i': '', '_ii': '', '_iii': '', '_i1': \"a = 10\\nb = 'hello'\\n\\ndef my_func(x):\\n    y = x + 5\\n    print('dir():- \\\\t', dir(), end='\\\\n\\\\n')\\n    print('locals():- \\\\t', locals(), end='\\\\n\\\\n')\\n    print('globals():- \\\\t', globals(), end='\\\\n\\\\n')\\n    print('vars():- \\\\t', vars(), end='\\\\n\\\\n')\\n\\nmy_func(a)\", 'a': 10, 'b': 'hello', 'my_func': <function my_func at 0x7faf98622440>}\n",
      "\n",
      "vars():- \t {'x': 10, 'y': 15}\n",
      "\n"
     ]
    }
   ],
   "source": [
    "a = 10\n",
    "b = 'hello'\n",
    "\n",
    "def my_func(x):\n",
    "    y = x + 5\n",
    "    print('dir():- \\t', dir(), end='\\n\\n')\n",
    "    print('locals():- \\t', locals(), end='\\n\\n')\n",
    "    print('globals():- \\t', globals(), end='\\n\\n')\n",
    "    print('vars():- \\t', vars(), end='\\n\\n')\n",
    "\n",
    "my_func(a)"
   ]
  },
  {
   "cell_type": "markdown",
   "id": "a00bcc71",
   "metadata": {
    "papermill": {
     "duration": 0.003734,
     "end_time": "2023-02-24T15:28:40.633820",
     "exception": false,
     "start_time": "2023-02-24T15:28:40.630086",
     "status": "completed"
    },
    "tags": []
   },
   "source": [
    "In the above example, the dir() function returns the list of attributes and methods in the current scope (including the my_func() function), while the locals() function returns a dictionary containing only the local variables (x and y) defined within the my_func() function. The globals() function returns a dictionary containing all the global variables (a and b), as well as the built-in Python functions and modules. Finally, the vars() function returns the __dict__ attribute of the my_func() function, which contains its instance variables.\n",
    "\n",
    "Overall, dir(), locals(), globals(), and vars() functions are useful for introspection and debugging purposes in Python."
   ]
  },
  {
   "cell_type": "markdown",
   "id": "7abba2e2",
   "metadata": {
    "papermill": {
     "duration": 0.003552,
     "end_time": "2023-02-24T15:28:40.641482",
     "exception": false,
     "start_time": "2023-02-24T15:28:40.637930",
     "status": "completed"
    },
    "tags": []
   },
   "source": [
    "## 1. dir()\n",
    "Using dir() to list all the attributes and methods of a Python module:"
   ]
  },
  {
   "cell_type": "code",
   "execution_count": 2,
   "id": "b9ee7299",
   "metadata": {
    "execution": {
     "iopub.execute_input": "2023-02-24T15:28:40.651933Z",
     "iopub.status.busy": "2023-02-24T15:28:40.651088Z",
     "iopub.status.idle": "2023-02-24T15:28:40.657631Z",
     "shell.execute_reply": "2023-02-24T15:28:40.655879Z"
    },
    "papermill": {
     "duration": 0.014607,
     "end_time": "2023-02-24T15:28:40.659904",
     "exception": false,
     "start_time": "2023-02-24T15:28:40.645297",
     "status": "completed"
    },
    "tags": []
   },
   "outputs": [
    {
     "name": "stdout",
     "output_type": "stream",
     "text": [
      "['__doc__', '__file__', '__loader__', '__name__', '__package__', '__spec__', 'acos', 'acosh', 'asin', 'asinh', 'atan', 'atan2', 'atanh', 'ceil', 'copysign', 'cos', 'cosh', 'degrees', 'e', 'erf', 'erfc', 'exp', 'expm1', 'fabs', 'factorial', 'floor', 'fmod', 'frexp', 'fsum', 'gamma', 'gcd', 'hypot', 'inf', 'isclose', 'isfinite', 'isinf', 'isnan', 'ldexp', 'lgamma', 'log', 'log10', 'log1p', 'log2', 'modf', 'nan', 'pi', 'pow', 'radians', 'remainder', 'sin', 'sinh', 'sqrt', 'tan', 'tanh', 'tau', 'trunc']\n"
     ]
    }
   ],
   "source": [
    "import math\n",
    "print(dir(math))"
   ]
  },
  {
   "cell_type": "markdown",
   "id": "0e3b14b5",
   "metadata": {
    "execution": {
     "iopub.execute_input": "2023-02-24T15:25:09.442702Z",
     "iopub.status.busy": "2023-02-24T15:25:09.442241Z",
     "iopub.status.idle": "2023-02-24T15:25:09.451135Z",
     "shell.execute_reply": "2023-02-24T15:25:09.448778Z",
     "shell.execute_reply.started": "2023-02-24T15:25:09.442642Z"
    },
    "papermill": {
     "duration": 0.003634,
     "end_time": "2023-02-24T15:28:40.667680",
     "exception": false,
     "start_time": "2023-02-24T15:28:40.664046",
     "status": "completed"
    },
    "tags": []
   },
   "source": [
    "## 2. locals()\n",
    "Using locals() to access the local variables within a function:"
   ]
  },
  {
   "cell_type": "code",
   "execution_count": 3,
   "id": "d3775bfd",
   "metadata": {
    "execution": {
     "iopub.execute_input": "2023-02-24T15:28:40.677678Z",
     "iopub.status.busy": "2023-02-24T15:28:40.677157Z",
     "iopub.status.idle": "2023-02-24T15:28:40.684346Z",
     "shell.execute_reply": "2023-02-24T15:28:40.682784Z"
    },
    "papermill": {
     "duration": 0.01552,
     "end_time": "2023-02-24T15:28:40.687033",
     "exception": false,
     "start_time": "2023-02-24T15:28:40.671513",
     "status": "completed"
    },
    "tags": []
   },
   "outputs": [
    {
     "name": "stdout",
     "output_type": "stream",
     "text": [
      "{'x': 5, 'y': 10}\n"
     ]
    }
   ],
   "source": [
    "def my_function():\n",
    "    x = 5\n",
    "    y = 10\n",
    "    print(locals())\n",
    "\n",
    "my_function()"
   ]
  },
  {
   "cell_type": "markdown",
   "id": "69efffe6",
   "metadata": {
    "papermill": {
     "duration": 0.003711,
     "end_time": "2023-02-24T15:28:40.694755",
     "exception": false,
     "start_time": "2023-02-24T15:28:40.691044",
     "status": "completed"
    },
    "tags": []
   },
   "source": [
    "## 3. globals()\n",
    "Using globals() to access the global variables in the current scope:"
   ]
  },
  {
   "cell_type": "code",
   "execution_count": 4,
   "id": "51860170",
   "metadata": {
    "execution": {
     "iopub.execute_input": "2023-02-24T15:28:40.704805Z",
     "iopub.status.busy": "2023-02-24T15:28:40.704350Z",
     "iopub.status.idle": "2023-02-24T15:28:40.711689Z",
     "shell.execute_reply": "2023-02-24T15:28:40.710156Z"
    },
    "papermill": {
     "duration": 0.015781,
     "end_time": "2023-02-24T15:28:40.714351",
     "exception": false,
     "start_time": "2023-02-24T15:28:40.698570",
     "status": "completed"
    },
    "tags": []
   },
   "outputs": [
    {
     "name": "stdout",
     "output_type": "stream",
     "text": [
      "{'__name__': '__main__', '__doc__': 'Automatically created module for IPython interactive environment', '__package__': None, '__loader__': None, '__spec__': None, '__builtin__': <module 'builtins' (built-in)>, '__builtins__': <module 'builtins' (built-in)>, '_ih': ['', \"a = 10\\nb = 'hello'\\n\\ndef my_func(x):\\n    y = x + 5\\n    print('dir():- \\\\t', dir(), end='\\\\n\\\\n')\\n    print('locals():- \\\\t', locals(), end='\\\\n\\\\n')\\n    print('globals():- \\\\t', globals(), end='\\\\n\\\\n')\\n    print('vars():- \\\\t', vars(), end='\\\\n\\\\n')\\n\\nmy_func(a)\", 'import math\\nprint(dir(math))', 'def my_function():\\n    x = 5\\n    y = 10\\n    print(locals())\\n\\nmy_function()', 'x = 5\\ny = 10\\n\\ndef my_function():\\n    print(globals())\\n\\nmy_function()'], '_oh': {}, '_dh': ['/kaggle/working'], 'In': ['', \"a = 10\\nb = 'hello'\\n\\ndef my_func(x):\\n    y = x + 5\\n    print('dir():- \\\\t', dir(), end='\\\\n\\\\n')\\n    print('locals():- \\\\t', locals(), end='\\\\n\\\\n')\\n    print('globals():- \\\\t', globals(), end='\\\\n\\\\n')\\n    print('vars():- \\\\t', vars(), end='\\\\n\\\\n')\\n\\nmy_func(a)\", 'import math\\nprint(dir(math))', 'def my_function():\\n    x = 5\\n    y = 10\\n    print(locals())\\n\\nmy_function()', 'x = 5\\ny = 10\\n\\ndef my_function():\\n    print(globals())\\n\\nmy_function()'], 'Out': {}, 'get_ipython': <bound method InteractiveShell.get_ipython of <ipykernel.zmqshell.ZMQInteractiveShell object at 0x7fafd5b43690>>, 'exit': <IPython.core.autocall.ZMQExitAutocall object at 0x7fafd5b05c50>, 'quit': <IPython.core.autocall.ZMQExitAutocall object at 0x7fafd5b05c50>, '_': '', '__': '', '___': '', '_i': 'def my_function():\\n    x = 5\\n    y = 10\\n    print(locals())\\n\\nmy_function()', '_ii': 'import math\\nprint(dir(math))', '_iii': \"a = 10\\nb = 'hello'\\n\\ndef my_func(x):\\n    y = x + 5\\n    print('dir():- \\\\t', dir(), end='\\\\n\\\\n')\\n    print('locals():- \\\\t', locals(), end='\\\\n\\\\n')\\n    print('globals():- \\\\t', globals(), end='\\\\n\\\\n')\\n    print('vars():- \\\\t', vars(), end='\\\\n\\\\n')\\n\\nmy_func(a)\", '_i1': \"a = 10\\nb = 'hello'\\n\\ndef my_func(x):\\n    y = x + 5\\n    print('dir():- \\\\t', dir(), end='\\\\n\\\\n')\\n    print('locals():- \\\\t', locals(), end='\\\\n\\\\n')\\n    print('globals():- \\\\t', globals(), end='\\\\n\\\\n')\\n    print('vars():- \\\\t', vars(), end='\\\\n\\\\n')\\n\\nmy_func(a)\", 'a': 10, 'b': 'hello', 'my_func': <function my_func at 0x7faf98622440>, '_i2': 'import math\\nprint(dir(math))', 'math': <module 'math' from '/opt/conda/lib/python3.7/lib-dynload/math.cpython-37m-x86_64-linux-gnu.so'>, '_i3': 'def my_function():\\n    x = 5\\n    y = 10\\n    print(locals())\\n\\nmy_function()', 'my_function': <function my_function at 0x7faf98610dd0>, '_i4': 'x = 5\\ny = 10\\n\\ndef my_function():\\n    print(globals())\\n\\nmy_function()', 'x': 5, 'y': 10}\n"
     ]
    }
   ],
   "source": [
    "x = 5\n",
    "y = 10\n",
    "\n",
    "def my_function():\n",
    "    print(globals())\n",
    "\n",
    "my_function()"
   ]
  },
  {
   "cell_type": "markdown",
   "id": "3a6c3b8f",
   "metadata": {
    "execution": {
     "iopub.execute_input": "2023-02-24T15:26:33.072873Z",
     "iopub.status.busy": "2023-02-24T15:26:33.072201Z",
     "iopub.status.idle": "2023-02-24T15:26:33.083274Z",
     "shell.execute_reply": "2023-02-24T15:26:33.081043Z",
     "shell.execute_reply.started": "2023-02-24T15:26:33.072810Z"
    },
    "papermill": {
     "duration": 0.003848,
     "end_time": "2023-02-24T15:28:40.722305",
     "exception": false,
     "start_time": "2023-02-24T15:28:40.718457",
     "status": "completed"
    },
    "tags": []
   },
   "source": [
    "## 4. vars()\n",
    "Using vars() to get the attributes and values of an object:"
   ]
  },
  {
   "cell_type": "code",
   "execution_count": 5,
   "id": "2ebf153e",
   "metadata": {
    "execution": {
     "iopub.execute_input": "2023-02-24T15:28:40.732865Z",
     "iopub.status.busy": "2023-02-24T15:28:40.732417Z",
     "iopub.status.idle": "2023-02-24T15:28:40.740094Z",
     "shell.execute_reply": "2023-02-24T15:28:40.738332Z"
    },
    "papermill": {
     "duration": 0.016855,
     "end_time": "2023-02-24T15:28:40.743293",
     "exception": false,
     "start_time": "2023-02-24T15:28:40.726438",
     "status": "completed"
    },
    "tags": []
   },
   "outputs": [
    {
     "name": "stdout",
     "output_type": "stream",
     "text": [
      "{'name': 'John', 'age': 35}\n"
     ]
    }
   ],
   "source": [
    "class Person:\n",
    "    def __init__(self, name, age):\n",
    "        self.name = name\n",
    "        self.age = age\n",
    "\n",
    "person = Person(\"John\", 35)\n",
    "print(vars(person))"
   ]
  },
  {
   "cell_type": "markdown",
   "id": "d8d8ede0",
   "metadata": {
    "papermill": {
     "duration": 0.003956,
     "end_time": "2023-02-24T15:28:40.752072",
     "exception": false,
     "start_time": "2023-02-24T15:28:40.748116",
     "status": "completed"
    },
    "tags": []
   },
   "source": [
    "## 5. dir() and vars()\n",
    "Using dir() and vars() together to list all the attributes and values of an object:"
   ]
  },
  {
   "cell_type": "code",
   "execution_count": 6,
   "id": "452a2b79",
   "metadata": {
    "execution": {
     "iopub.execute_input": "2023-02-24T15:28:40.762735Z",
     "iopub.status.busy": "2023-02-24T15:28:40.762294Z",
     "iopub.status.idle": "2023-02-24T15:28:40.770491Z",
     "shell.execute_reply": "2023-02-24T15:28:40.768546Z"
    },
    "papermill": {
     "duration": 0.017356,
     "end_time": "2023-02-24T15:28:40.773486",
     "exception": false,
     "start_time": "2023-02-24T15:28:40.756130",
     "status": "completed"
    },
    "tags": []
   },
   "outputs": [
    {
     "name": "stdout",
     "output_type": "stream",
     "text": [
      "['__class__', '__delattr__', '__dict__', '__dir__', '__doc__', '__eq__', '__format__', '__ge__', '__getattribute__', '__gt__', '__hash__', '__init__', '__init_subclass__', '__le__', '__lt__', '__module__', '__ne__', '__new__', '__reduce__', '__reduce_ex__', '__repr__', '__setattr__', '__sizeof__', '__str__', '__subclasshook__', '__weakref__', 'age', 'name']\n",
      "{'name': 'John', 'age': 35}\n"
     ]
    }
   ],
   "source": [
    "class Person:\n",
    "    def __init__(self, name, age):\n",
    "        self.name = name\n",
    "        self.age = age\n",
    "\n",
    "person = Person(\"John\", 35)\n",
    "print(dir(person))\n",
    "print(vars(person))"
   ]
  },
  {
   "cell_type": "code",
   "execution_count": null,
   "id": "db12789f",
   "metadata": {
    "papermill": {
     "duration": 0.00394,
     "end_time": "2023-02-24T15:28:40.782060",
     "exception": false,
     "start_time": "2023-02-24T15:28:40.778120",
     "status": "completed"
    },
    "tags": []
   },
   "outputs": [],
   "source": []
  }
 ],
 "metadata": {
  "kernelspec": {
   "display_name": "Python 3",
   "language": "python",
   "name": "python3"
  },
  "language_info": {
   "codemirror_mode": {
    "name": "ipython",
    "version": 3
   },
   "file_extension": ".py",
   "mimetype": "text/x-python",
   "name": "python",
   "nbconvert_exporter": "python",
   "pygments_lexer": "ipython3",
   "version": "3.7.12"
  },
  "papermill": {
   "default_parameters": {},
   "duration": 12.630332,
   "end_time": "2023-02-24T15:28:41.713808",
   "environment_variables": {},
   "exception": null,
   "input_path": "__notebook__.ipynb",
   "output_path": "__notebook__.ipynb",
   "parameters": {},
   "start_time": "2023-02-24T15:28:29.083476",
   "version": "2.4.0"
  }
 },
 "nbformat": 4,
 "nbformat_minor": 5
}
