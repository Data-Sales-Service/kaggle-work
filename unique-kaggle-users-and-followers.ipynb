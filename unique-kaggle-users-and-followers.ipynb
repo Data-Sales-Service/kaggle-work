{
 "cells": [
  {
   "cell_type": "markdown",
   "id": "4f9e866d",
   "metadata": {
    "papermill": {
     "duration": 0.020278,
     "end_time": "2022-06-11T14:24:56.042259",
     "exception": false,
     "start_time": "2022-06-11T14:24:56.021981",
     "status": "completed"
    },
    "tags": []
   },
   "source": [
    "### Loading Liberaties"
   ]
  },
  {
   "cell_type": "code",
   "execution_count": 1,
   "id": "e29d211a",
   "metadata": {
    "execution": {
     "iopub.execute_input": "2022-06-11T14:24:56.096297Z",
     "iopub.status.busy": "2022-06-11T14:24:56.095339Z",
     "iopub.status.idle": "2022-06-11T14:24:57.415205Z",
     "shell.execute_reply": "2022-06-11T14:24:57.415820Z",
     "shell.execute_reply.started": "2022-06-11T14:19:06.483602Z"
    },
    "papermill": {
     "duration": 1.354226,
     "end_time": "2022-06-11T14:24:57.416145",
     "exception": false,
     "start_time": "2022-06-11T14:24:56.061919",
     "status": "completed"
    },
    "tags": []
   },
   "outputs": [],
   "source": [
    "import pandas as pd\n",
    "import numpy as np\n",
    "import seaborn as sns\n",
    "import matplotlib.pyplot as plt"
   ]
  },
  {
   "cell_type": "markdown",
   "id": "456f30d4",
   "metadata": {
    "papermill": {
     "duration": 0.0205,
     "end_time": "2022-06-11T14:24:57.459489",
     "exception": false,
     "start_time": "2022-06-11T14:24:57.438989",
     "status": "completed"
    },
    "tags": []
   },
   "source": [
    "Loading users and followers data"
   ]
  },
  {
   "cell_type": "code",
   "execution_count": 2,
   "id": "65e3192c",
   "metadata": {
    "_cell_guid": "b1076dfc-b9ad-4769-8c92-a6c4dae69d19",
    "_uuid": "8f2839f25d086af736a60e9eeb907d3b93b6e0e5",
    "execution": {
     "iopub.execute_input": "2022-06-11T14:24:57.511262Z",
     "iopub.status.busy": "2022-06-11T14:24:57.510483Z",
     "iopub.status.idle": "2022-06-11T14:25:25.391658Z",
     "shell.execute_reply": "2022-06-11T14:25:25.390534Z",
     "shell.execute_reply.started": "2022-06-11T14:19:06.782482Z"
    },
    "papermill": {
     "duration": 27.909504,
     "end_time": "2022-06-11T14:25:25.391810",
     "exception": false,
     "start_time": "2022-06-11T14:24:57.482306",
     "status": "completed"
    },
    "tags": []
   },
   "outputs": [],
   "source": [
    "users = pd.read_csv(\"../input/d/kaggle/meta-kaggle/Users.csv\")\n",
    "followers = pd.read_csv('../input/d/kaggle/meta-kaggle/UserFollowers.csv')"
   ]
  },
  {
   "cell_type": "code",
   "execution_count": 3,
   "id": "1db2270c",
   "metadata": {
    "execution": {
     "iopub.execute_input": "2022-06-11T14:25:25.433442Z",
     "iopub.status.busy": "2022-06-11T14:25:25.431967Z",
     "iopub.status.idle": "2022-06-11T14:25:25.434205Z",
     "shell.execute_reply": "2022-06-11T14:25:25.434743Z",
     "shell.execute_reply.started": "2022-06-11T14:19:26.031985Z"
    },
    "papermill": {
     "duration": 0.026188,
     "end_time": "2022-06-11T14:25:25.434918",
     "exception": false,
     "start_time": "2022-06-11T14:25:25.408730",
     "status": "completed"
    },
    "tags": []
   },
   "outputs": [],
   "source": [
    "path = \"../input/d/kaggle/meta-kaggle/\""
   ]
  },
  {
   "cell_type": "code",
   "execution_count": 4,
   "id": "e7711e11",
   "metadata": {
    "_cell_guid": "b1076dfc-b9ad-4769-8c92-a6c4dae69d19",
    "_uuid": "8f2839f25d086af736a60e9eeb907d3b93b6e0e5",
    "execution": {
     "iopub.execute_input": "2022-06-11T14:25:25.473445Z",
     "iopub.status.busy": "2022-06-11T14:25:25.472740Z",
     "iopub.status.idle": "2022-06-11T14:25:27.774455Z",
     "shell.execute_reply": "2022-06-11T14:25:27.774951Z",
     "shell.execute_reply.started": "2022-06-11T14:19:26.038049Z"
    },
    "papermill": {
     "duration": 2.323031,
     "end_time": "2022-06-11T14:25:27.775136",
     "exception": false,
     "start_time": "2022-06-11T14:25:25.452105",
     "status": "completed"
    },
    "tags": []
   },
   "outputs": [],
   "source": [
    "kernalvotes = pd.read_csv('../input/d/kaggle/meta-kaggle/KernelVotes.csv')"
   ]
  },
  {
   "cell_type": "code",
   "execution_count": 5,
   "id": "ae413e1a",
   "metadata": {
    "execution": {
     "iopub.execute_input": "2022-06-11T14:25:27.812912Z",
     "iopub.status.busy": "2022-06-11T14:25:27.812232Z",
     "iopub.status.idle": "2022-06-11T14:25:30.060490Z",
     "shell.execute_reply": "2022-06-11T14:25:30.059931Z",
     "shell.execute_reply.started": "2022-06-11T14:19:27.758208Z"
    },
    "papermill": {
     "duration": 2.268895,
     "end_time": "2022-06-11T14:25:30.060657",
     "exception": false,
     "start_time": "2022-06-11T14:25:27.791762",
     "status": "completed"
    },
    "tags": []
   },
   "outputs": [
    {
     "data": {
      "text/html": [
       "<div>\n",
       "<style scoped>\n",
       "    .dataframe tbody tr th:only-of-type {\n",
       "        vertical-align: middle;\n",
       "    }\n",
       "\n",
       "    .dataframe tbody tr th {\n",
       "        vertical-align: top;\n",
       "    }\n",
       "\n",
       "    .dataframe thead th {\n",
       "        text-align: right;\n",
       "    }\n",
       "</style>\n",
       "<table border=\"1\" class=\"dataframe\">\n",
       "  <thead>\n",
       "    <tr style=\"text-align: right;\">\n",
       "      <th></th>\n",
       "      <th>DisplayName</th>\n",
       "      <th>UserName</th>\n",
       "    </tr>\n",
       "  </thead>\n",
       "  <tbody>\n",
       "    <tr>\n",
       "      <th>0</th>\n",
       "      <td>NaN</td>\n",
       "      <td>NaN</td>\n",
       "    </tr>\n",
       "    <tr>\n",
       "      <th>1</th>\n",
       "      <td>NaN</td>\n",
       "      <td>NaN</td>\n",
       "    </tr>\n",
       "    <tr>\n",
       "      <th>2</th>\n",
       "      <td>NaN</td>\n",
       "      <td>NaN</td>\n",
       "    </tr>\n",
       "    <tr>\n",
       "      <th>3</th>\n",
       "      <td>NaN</td>\n",
       "      <td>NaN</td>\n",
       "    </tr>\n",
       "    <tr>\n",
       "      <th>4</th>\n",
       "      <td>NaN</td>\n",
       "      <td>NaN</td>\n",
       "    </tr>\n",
       "  </tbody>\n",
       "</table>\n",
       "</div>"
      ],
      "text/plain": [
       "  DisplayName UserName\n",
       "0         NaN      NaN\n",
       "1         NaN      NaN\n",
       "2         NaN      NaN\n",
       "3         NaN      NaN\n",
       "4         NaN      NaN"
      ]
     },
     "execution_count": 5,
     "metadata": {},
     "output_type": "execute_result"
    }
   ],
   "source": [
    "users[[\"DisplayName\",\"UserName\"]].where(users['UserName']==\"muhammedtausif\").head()"
   ]
  },
  {
   "cell_type": "code",
   "execution_count": 6,
   "id": "030ba1fa",
   "metadata": {
    "execution": {
     "iopub.execute_input": "2022-06-11T14:25:31.582957Z",
     "iopub.status.busy": "2022-06-11T14:25:31.582208Z",
     "iopub.status.idle": "2022-06-11T14:25:31.615350Z",
     "shell.execute_reply": "2022-06-11T14:25:31.614800Z",
     "shell.execute_reply.started": "2022-06-11T14:19:29.132896Z"
    },
    "papermill": {
     "duration": 1.537159,
     "end_time": "2022-06-11T14:25:31.615488",
     "exception": false,
     "start_time": "2022-06-11T14:25:30.078329",
     "status": "completed"
    },
    "tags": []
   },
   "outputs": [
    {
     "data": {
      "text/html": [
       "<div>\n",
       "<style scoped>\n",
       "    .dataframe tbody tr th:only-of-type {\n",
       "        vertical-align: middle;\n",
       "    }\n",
       "\n",
       "    .dataframe tbody tr th {\n",
       "        vertical-align: top;\n",
       "    }\n",
       "\n",
       "    .dataframe thead th {\n",
       "        text-align: right;\n",
       "    }\n",
       "</style>\n",
       "<table border=\"1\" class=\"dataframe\">\n",
       "  <thead>\n",
       "    <tr style=\"text-align: right;\">\n",
       "      <th></th>\n",
       "      <th>Id</th>\n",
       "      <th>UserName</th>\n",
       "      <th>DisplayName</th>\n",
       "      <th>RegisterDate</th>\n",
       "      <th>PerformanceTier</th>\n",
       "    </tr>\n",
       "  </thead>\n",
       "  <tbody>\n",
       "    <tr>\n",
       "      <th>3693088</th>\n",
       "      <td>4034364</td>\n",
       "      <td>muhammedtausif</td>\n",
       "      <td>Muhammed Tausif</td>\n",
       "      <td>11/14/2019</td>\n",
       "      <td>2</td>\n",
       "    </tr>\n",
       "  </tbody>\n",
       "</table>\n",
       "</div>"
      ],
      "text/plain": [
       "              Id        UserName      DisplayName RegisterDate  \\\n",
       "3693088  4034364  muhammedtausif  Muhammed Tausif   11/14/2019   \n",
       "\n",
       "         PerformanceTier  \n",
       "3693088                2  "
      ]
     },
     "execution_count": 6,
     "metadata": {},
     "output_type": "execute_result"
    }
   ],
   "source": [
    "df = users\n",
    "df.loc[df['UserName'] == 'muhammedtausif']"
   ]
  },
  {
   "cell_type": "code",
   "execution_count": 7,
   "id": "974a0677",
   "metadata": {
    "execution": {
     "iopub.execute_input": "2022-06-11T14:25:31.660428Z",
     "iopub.status.busy": "2022-06-11T14:25:31.659708Z",
     "iopub.status.idle": "2022-06-11T14:25:31.675620Z",
     "shell.execute_reply": "2022-06-11T14:25:31.675031Z",
     "shell.execute_reply.started": "2022-06-11T14:19:29.790521Z"
    },
    "papermill": {
     "duration": 0.042588,
     "end_time": "2022-06-11T14:25:31.675826",
     "exception": false,
     "start_time": "2022-06-11T14:25:31.633238",
     "status": "completed"
    },
    "tags": []
   },
   "outputs": [
    {
     "data": {
      "text/html": [
       "<div>\n",
       "<style scoped>\n",
       "    .dataframe tbody tr th:only-of-type {\n",
       "        vertical-align: middle;\n",
       "    }\n",
       "\n",
       "    .dataframe tbody tr th {\n",
       "        vertical-align: top;\n",
       "    }\n",
       "\n",
       "    .dataframe thead th {\n",
       "        text-align: right;\n",
       "    }\n",
       "</style>\n",
       "<table border=\"1\" class=\"dataframe\">\n",
       "  <thead>\n",
       "    <tr style=\"text-align: right;\">\n",
       "      <th></th>\n",
       "      <th>Id</th>\n",
       "      <th>UserId</th>\n",
       "      <th>KernelVersionId</th>\n",
       "      <th>VoteDate</th>\n",
       "    </tr>\n",
       "  </thead>\n",
       "  <tbody>\n",
       "    <tr>\n",
       "      <th>2116198</th>\n",
       "      <td>3498519</td>\n",
       "      <td>4034364</td>\n",
       "      <td>5552423</td>\n",
       "      <td>04/05/2022</td>\n",
       "    </tr>\n",
       "    <tr>\n",
       "      <th>2116544</th>\n",
       "      <td>3557146</td>\n",
       "      <td>4034364</td>\n",
       "      <td>10431564</td>\n",
       "      <td>04/24/2022</td>\n",
       "    </tr>\n",
       "    <tr>\n",
       "      <th>2121294</th>\n",
       "      <td>3491820</td>\n",
       "      <td>4034364</td>\n",
       "      <td>81262312</td>\n",
       "      <td>04/03/2022</td>\n",
       "    </tr>\n",
       "    <tr>\n",
       "      <th>2123073</th>\n",
       "      <td>3498573</td>\n",
       "      <td>4034364</td>\n",
       "      <td>48249495</td>\n",
       "      <td>04/05/2022</td>\n",
       "    </tr>\n",
       "    <tr>\n",
       "      <th>2123675</th>\n",
       "      <td>3601923</td>\n",
       "      <td>4034364</td>\n",
       "      <td>41875008</td>\n",
       "      <td>05/09/2022</td>\n",
       "    </tr>\n",
       "    <tr>\n",
       "      <th>...</th>\n",
       "      <td>...</td>\n",
       "      <td>...</td>\n",
       "      <td>...</td>\n",
       "      <td>...</td>\n",
       "    </tr>\n",
       "    <tr>\n",
       "      <th>2585175</th>\n",
       "      <td>3494830</td>\n",
       "      <td>4034364</td>\n",
       "      <td>92095256</td>\n",
       "      <td>04/04/2022</td>\n",
       "    </tr>\n",
       "    <tr>\n",
       "      <th>2585348</th>\n",
       "      <td>3494724</td>\n",
       "      <td>4034364</td>\n",
       "      <td>92108330</td>\n",
       "      <td>04/04/2022</td>\n",
       "    </tr>\n",
       "    <tr>\n",
       "      <th>2585565</th>\n",
       "      <td>3494819</td>\n",
       "      <td>4034364</td>\n",
       "      <td>92066884</td>\n",
       "      <td>04/04/2022</td>\n",
       "    </tr>\n",
       "    <tr>\n",
       "      <th>2585628</th>\n",
       "      <td>3639036</td>\n",
       "      <td>4034364</td>\n",
       "      <td>96230330</td>\n",
       "      <td>05/21/2022</td>\n",
       "    </tr>\n",
       "    <tr>\n",
       "      <th>2585824</th>\n",
       "      <td>3636709</td>\n",
       "      <td>4034364</td>\n",
       "      <td>96147150</td>\n",
       "      <td>05/21/2022</td>\n",
       "    </tr>\n",
       "  </tbody>\n",
       "</table>\n",
       "<p>636 rows × 4 columns</p>\n",
       "</div>"
      ],
      "text/plain": [
       "              Id   UserId  KernelVersionId    VoteDate\n",
       "2116198  3498519  4034364          5552423  04/05/2022\n",
       "2116544  3557146  4034364         10431564  04/24/2022\n",
       "2121294  3491820  4034364         81262312  04/03/2022\n",
       "2123073  3498573  4034364         48249495  04/05/2022\n",
       "2123675  3601923  4034364         41875008  05/09/2022\n",
       "...          ...      ...              ...         ...\n",
       "2585175  3494830  4034364         92095256  04/04/2022\n",
       "2585348  3494724  4034364         92108330  04/04/2022\n",
       "2585565  3494819  4034364         92066884  04/04/2022\n",
       "2585628  3639036  4034364         96230330  05/21/2022\n",
       "2585824  3636709  4034364         96147150  05/21/2022\n",
       "\n",
       "[636 rows x 4 columns]"
      ]
     },
     "execution_count": 7,
     "metadata": {},
     "output_type": "execute_result"
    }
   ],
   "source": [
    "df = kernalvotes\n",
    "df.loc[df['UserId'] == 4034364]"
   ]
  },
  {
   "cell_type": "code",
   "execution_count": 8,
   "id": "188a1bcf",
   "metadata": {
    "execution": {
     "iopub.execute_input": "2022-06-11T14:25:31.719944Z",
     "iopub.status.busy": "2022-06-11T14:25:31.719241Z",
     "iopub.status.idle": "2022-06-11T14:25:32.658993Z",
     "shell.execute_reply": "2022-06-11T14:25:32.659443Z",
     "shell.execute_reply.started": "2022-06-11T14:19:29.815082Z"
    },
    "papermill": {
     "duration": 0.965461,
     "end_time": "2022-06-11T14:25:32.659633",
     "exception": false,
     "start_time": "2022-06-11T14:25:31.694172",
     "status": "completed"
    },
    "tags": []
   },
   "outputs": [
    {
     "data": {
      "text/plain": [
       "9942702"
      ]
     },
     "execution_count": 8,
     "metadata": {},
     "output_type": "execute_result"
    }
   ],
   "source": [
    "users['Id'].nunique()"
   ]
  },
  {
   "cell_type": "markdown",
   "id": "ea8eb126",
   "metadata": {
    "papermill": {
     "duration": 0.01824,
     "end_time": "2022-06-11T14:25:32.696638",
     "exception": false,
     "start_time": "2022-06-11T14:25:32.678398",
     "status": "completed"
    },
    "tags": []
   },
   "source": []
  },
  {
   "cell_type": "markdown",
   "id": "9fbd71f2",
   "metadata": {
    "papermill": {
     "duration": 0.018123,
     "end_time": "2022-06-11T14:25:32.733989",
     "exception": false,
     "start_time": "2022-06-11T14:25:32.715866",
     "status": "completed"
    },
    "tags": []
   },
   "source": [
    "Total Number of kagglers being followed"
   ]
  },
  {
   "cell_type": "code",
   "execution_count": 9,
   "id": "869b5f08",
   "metadata": {
    "execution": {
     "iopub.execute_input": "2022-06-11T14:25:32.777166Z",
     "iopub.status.busy": "2022-06-11T14:25:32.774607Z",
     "iopub.status.idle": "2022-06-11T14:25:32.800440Z",
     "shell.execute_reply": "2022-06-11T14:25:32.800980Z",
     "shell.execute_reply.started": "2022-06-11T14:19:30.699727Z"
    },
    "papermill": {
     "duration": 0.048262,
     "end_time": "2022-06-11T14:25:32.801168",
     "exception": false,
     "start_time": "2022-06-11T14:25:32.752906",
     "status": "completed"
    },
    "tags": []
   },
   "outputs": [
    {
     "data": {
      "text/plain": [
       "155056"
      ]
     },
     "execution_count": 9,
     "metadata": {},
     "output_type": "execute_result"
    }
   ],
   "source": [
    "len(followers['FollowingUserId'].unique())"
   ]
  },
  {
   "cell_type": "markdown",
   "id": "2fdd45c1",
   "metadata": {
    "papermill": {
     "duration": 0.018399,
     "end_time": "2022-06-11T14:25:32.838301",
     "exception": false,
     "start_time": "2022-06-11T14:25:32.819902",
     "status": "completed"
    },
    "tags": []
   },
   "source": []
  },
  {
   "cell_type": "markdown",
   "id": "f08c5ca2",
   "metadata": {
    "papermill": {
     "duration": 0.018381,
     "end_time": "2022-06-11T14:25:32.875881",
     "exception": false,
     "start_time": "2022-06-11T14:25:32.857500",
     "status": "completed"
    },
    "tags": []
   },
   "source": [
    "Total users following some one"
   ]
  },
  {
   "cell_type": "code",
   "execution_count": 10,
   "id": "743917ed",
   "metadata": {
    "execution": {
     "iopub.execute_input": "2022-06-11T14:25:32.916875Z",
     "iopub.status.busy": "2022-06-11T14:25:32.916131Z",
     "iopub.status.idle": "2022-06-11T14:25:32.943853Z",
     "shell.execute_reply": "2022-06-11T14:25:32.943219Z",
     "shell.execute_reply.started": "2022-06-11T14:19:30.726355Z"
    },
    "papermill": {
     "duration": 0.049452,
     "end_time": "2022-06-11T14:25:32.943996",
     "exception": false,
     "start_time": "2022-06-11T14:25:32.894544",
     "status": "completed"
    },
    "tags": []
   },
   "outputs": [
    {
     "data": {
      "text/plain": [
       "304881"
      ]
     },
     "execution_count": 10,
     "metadata": {},
     "output_type": "execute_result"
    }
   ],
   "source": [
    "len(followers.UserId.unique())"
   ]
  },
  {
   "cell_type": "markdown",
   "id": "68606ae7",
   "metadata": {
    "papermill": {
     "duration": 0.019011,
     "end_time": "2022-06-11T14:25:32.982123",
     "exception": false,
     "start_time": "2022-06-11T14:25:32.963112",
     "status": "completed"
    },
    "tags": []
   },
   "source": [
    "### Top 5 Kagglers being Followed"
   ]
  },
  {
   "cell_type": "code",
   "execution_count": 11,
   "id": "29f18048",
   "metadata": {
    "execution": {
     "iopub.execute_input": "2022-06-11T14:25:33.026143Z",
     "iopub.status.busy": "2022-06-11T14:25:33.025493Z",
     "iopub.status.idle": "2022-06-11T14:25:33.110150Z",
     "shell.execute_reply": "2022-06-11T14:25:33.109470Z",
     "shell.execute_reply.started": "2022-06-11T14:19:30.755286Z"
    },
    "papermill": {
     "duration": 0.10863,
     "end_time": "2022-06-11T14:25:33.110297",
     "exception": false,
     "start_time": "2022-06-11T14:25:33.001667",
     "status": "completed"
    },
    "tags": []
   },
   "outputs": [
    {
     "data": {
      "text/plain": [
       "FollowingUserId\n",
       "9028        8307\n",
       "417337      8476\n",
       "4476084     8560\n",
       "1014468     8690\n",
       "1162990     8839\n",
       "54836      10650\n",
       "1723677    11387\n",
       "708283     13159\n",
       "71388      13670\n",
       "5309       16645\n",
       "dtype: int64"
      ]
     },
     "execution_count": 11,
     "metadata": {},
     "output_type": "execute_result"
    }
   ],
   "source": [
    "followers.groupby('FollowingUserId').size().sort_values().tail(10)"
   ]
  },
  {
   "cell_type": "markdown",
   "id": "84c33afa",
   "metadata": {
    "papermill": {
     "duration": 0.019244,
     "end_time": "2022-06-11T14:25:33.148999",
     "exception": false,
     "start_time": "2022-06-11T14:25:33.129755",
     "status": "completed"
    },
    "tags": []
   },
   "source": []
  },
  {
   "cell_type": "code",
   "execution_count": 12,
   "id": "4851df9a",
   "metadata": {
    "execution": {
     "iopub.execute_input": "2022-06-11T14:25:33.193201Z",
     "iopub.status.busy": "2022-06-11T14:25:33.192550Z",
     "iopub.status.idle": "2022-06-11T14:26:55.410113Z",
     "shell.execute_reply": "2022-06-11T14:26:55.410711Z",
     "shell.execute_reply.started": "2022-06-11T14:19:30.842350Z"
    },
    "papermill": {
     "duration": 82.24289,
     "end_time": "2022-06-11T14:26:55.411049",
     "exception": false,
     "start_time": "2022-06-11T14:25:33.168159",
     "status": "completed"
    },
    "tags": []
   },
   "outputs": [
    {
     "data": {
      "text/html": [
       "<div>\n",
       "<style scoped>\n",
       "    .dataframe tbody tr th:only-of-type {\n",
       "        vertical-align: middle;\n",
       "    }\n",
       "\n",
       "    .dataframe tbody tr th {\n",
       "        vertical-align: top;\n",
       "    }\n",
       "\n",
       "    .dataframe thead th {\n",
       "        text-align: right;\n",
       "    }\n",
       "</style>\n",
       "<table border=\"1\" class=\"dataframe\">\n",
       "  <thead>\n",
       "    <tr style=\"text-align: right;\">\n",
       "      <th></th>\n",
       "      <th>Id</th>\n",
       "      <th>UserId</th>\n",
       "      <th>AchievementType</th>\n",
       "      <th>Tier</th>\n",
       "      <th>TierAchievementDate</th>\n",
       "      <th>Points</th>\n",
       "      <th>CurrentRanking</th>\n",
       "      <th>HighestRanking</th>\n",
       "      <th>TotalGold</th>\n",
       "      <th>TotalSilver</th>\n",
       "      <th>TotalBronze</th>\n",
       "    </tr>\n",
       "  </thead>\n",
       "  <tbody>\n",
       "    <tr>\n",
       "      <th>14772352</th>\n",
       "      <td>142309632</td>\n",
       "      <td>4034364</td>\n",
       "      <td>Datasets</td>\n",
       "      <td>2</td>\n",
       "      <td>04/11/2022</td>\n",
       "      <td>106</td>\n",
       "      <td>116.0</td>\n",
       "      <td>114.0</td>\n",
       "      <td>0</td>\n",
       "      <td>1</td>\n",
       "      <td>10</td>\n",
       "    </tr>\n",
       "    <tr>\n",
       "      <th>14772353</th>\n",
       "      <td>142308903</td>\n",
       "      <td>4034364</td>\n",
       "      <td>Discussion</td>\n",
       "      <td>2</td>\n",
       "      <td>03/12/2022</td>\n",
       "      <td>614</td>\n",
       "      <td>90.0</td>\n",
       "      <td>90.0</td>\n",
       "      <td>6</td>\n",
       "      <td>14</td>\n",
       "      <td>383</td>\n",
       "    </tr>\n",
       "    <tr>\n",
       "      <th>14772354</th>\n",
       "      <td>142308178</td>\n",
       "      <td>4034364</td>\n",
       "      <td>Scripts</td>\n",
       "      <td>2</td>\n",
       "      <td>04/06/2022</td>\n",
       "      <td>209</td>\n",
       "      <td>405.0</td>\n",
       "      <td>403.0</td>\n",
       "      <td>0</td>\n",
       "      <td>1</td>\n",
       "      <td>23</td>\n",
       "    </tr>\n",
       "    <tr>\n",
       "      <th>14772355</th>\n",
       "      <td>142307453</td>\n",
       "      <td>4034364</td>\n",
       "      <td>Competitions</td>\n",
       "      <td>1</td>\n",
       "      <td>02/16/2022</td>\n",
       "      <td>0</td>\n",
       "      <td>NaN</td>\n",
       "      <td>NaN</td>\n",
       "      <td>0</td>\n",
       "      <td>0</td>\n",
       "      <td>0</td>\n",
       "    </tr>\n",
       "  </tbody>\n",
       "</table>\n",
       "</div>"
      ],
      "text/plain": [
       "                 Id   UserId AchievementType  Tier TierAchievementDate  \\\n",
       "14772352  142309632  4034364        Datasets     2          04/11/2022   \n",
       "14772353  142308903  4034364      Discussion     2          03/12/2022   \n",
       "14772354  142308178  4034364         Scripts     2          04/06/2022   \n",
       "14772355  142307453  4034364    Competitions     1          02/16/2022   \n",
       "\n",
       "          Points  CurrentRanking  HighestRanking  TotalGold  TotalSilver  \\\n",
       "14772352     106           116.0           114.0          0            1   \n",
       "14772353     614            90.0            90.0          6           14   \n",
       "14772354     209           405.0           403.0          0            1   \n",
       "14772355       0             NaN             NaN          0            0   \n",
       "\n",
       "          TotalBronze  \n",
       "14772352           10  \n",
       "14772353          383  \n",
       "14772354           23  \n",
       "14772355            0  "
      ]
     },
     "execution_count": 12,
     "metadata": {},
     "output_type": "execute_result"
    }
   ],
   "source": [
    "usera = pd.read_csv(path+'UserAchievements.csv')\n",
    "df = usera\n",
    "df.loc[df['UserId'] == 4034364]"
   ]
  },
  {
   "cell_type": "code",
   "execution_count": 13,
   "id": "e3b55411",
   "metadata": {
    "execution": {
     "iopub.execute_input": "2022-06-11T14:26:57.155054Z",
     "iopub.status.busy": "2022-06-11T14:26:57.154233Z",
     "iopub.status.idle": "2022-06-11T14:26:57.166544Z",
     "shell.execute_reply": "2022-06-11T14:26:57.165867Z",
     "shell.execute_reply.started": "2022-06-11T14:20:26.785161Z"
    },
    "papermill": {
     "duration": 1.735571,
     "end_time": "2022-06-11T14:26:57.166717",
     "exception": false,
     "start_time": "2022-06-11T14:26:55.431146",
     "status": "completed"
    },
    "tags": []
   },
   "outputs": [
    {
     "data": {
      "text/html": [
       "<div>\n",
       "<style scoped>\n",
       "    .dataframe tbody tr th:only-of-type {\n",
       "        vertical-align: middle;\n",
       "    }\n",
       "\n",
       "    .dataframe tbody tr th {\n",
       "        vertical-align: top;\n",
       "    }\n",
       "\n",
       "    .dataframe thead th {\n",
       "        text-align: right;\n",
       "    }\n",
       "</style>\n",
       "<table border=\"1\" class=\"dataframe\">\n",
       "  <thead>\n",
       "    <tr style=\"text-align: right;\">\n",
       "      <th></th>\n",
       "      <th>Id</th>\n",
       "      <th>UserName</th>\n",
       "      <th>DisplayName</th>\n",
       "      <th>RegisterDate</th>\n",
       "      <th>PerformanceTier</th>\n",
       "    </tr>\n",
       "  </thead>\n",
       "  <tbody>\n",
       "    <tr>\n",
       "      <th>8827214</th>\n",
       "      <td>9590174</td>\n",
       "      <td>surajjha101</td>\n",
       "      <td>Suraj Jha</td>\n",
       "      <td>02/06/2022</td>\n",
       "      <td>4</td>\n",
       "    </tr>\n",
       "  </tbody>\n",
       "</table>\n",
       "</div>"
      ],
      "text/plain": [
       "              Id     UserName DisplayName RegisterDate  PerformanceTier\n",
       "8827214  9590174  surajjha101   Suraj Jha   02/06/2022                4"
      ]
     },
     "execution_count": 13,
     "metadata": {},
     "output_type": "execute_result"
    }
   ],
   "source": [
    "users.loc[users['UserName'] == 'surajjha101']"
   ]
  },
  {
   "cell_type": "code",
   "execution_count": 14,
   "id": "f0cf2bad",
   "metadata": {
    "execution": {
     "iopub.execute_input": "2022-06-11T14:26:57.228144Z",
     "iopub.status.busy": "2022-06-11T14:26:57.227037Z",
     "iopub.status.idle": "2022-06-11T14:26:57.255725Z",
     "shell.execute_reply": "2022-06-11T14:26:57.255130Z",
     "shell.execute_reply.started": "2022-06-11T14:22:09.050235Z"
    },
    "papermill": {
     "duration": 0.068734,
     "end_time": "2022-06-11T14:26:57.255887",
     "exception": false,
     "start_time": "2022-06-11T14:26:57.187153",
     "status": "completed"
    },
    "tags": []
   },
   "outputs": [
    {
     "data": {
      "text/html": [
       "<div>\n",
       "<style scoped>\n",
       "    .dataframe tbody tr th:only-of-type {\n",
       "        vertical-align: middle;\n",
       "    }\n",
       "\n",
       "    .dataframe tbody tr th {\n",
       "        vertical-align: top;\n",
       "    }\n",
       "\n",
       "    .dataframe thead th {\n",
       "        text-align: right;\n",
       "    }\n",
       "</style>\n",
       "<table border=\"1\" class=\"dataframe\">\n",
       "  <thead>\n",
       "    <tr style=\"text-align: right;\">\n",
       "      <th></th>\n",
       "      <th>Id</th>\n",
       "      <th>UserId</th>\n",
       "      <th>AchievementType</th>\n",
       "      <th>Tier</th>\n",
       "      <th>TierAchievementDate</th>\n",
       "      <th>Points</th>\n",
       "      <th>CurrentRanking</th>\n",
       "      <th>HighestRanking</th>\n",
       "      <th>TotalGold</th>\n",
       "      <th>TotalSilver</th>\n",
       "      <th>TotalBronze</th>\n",
       "    </tr>\n",
       "  </thead>\n",
       "  <tbody>\n",
       "    <tr>\n",
       "      <th>35308856</th>\n",
       "      <td>165192096</td>\n",
       "      <td>9590174</td>\n",
       "      <td>Datasets</td>\n",
       "      <td>4</td>\n",
       "      <td>06/02/2022</td>\n",
       "      <td>385</td>\n",
       "      <td>20.0</td>\n",
       "      <td>20.0</td>\n",
       "      <td>5</td>\n",
       "      <td>5</td>\n",
       "      <td>0</td>\n",
       "    </tr>\n",
       "    <tr>\n",
       "      <th>35308857</th>\n",
       "      <td>165192097</td>\n",
       "      <td>9590174</td>\n",
       "      <td>Discussion</td>\n",
       "      <td>2</td>\n",
       "      <td>03/08/2022</td>\n",
       "      <td>1031</td>\n",
       "      <td>35.0</td>\n",
       "      <td>35.0</td>\n",
       "      <td>16</td>\n",
       "      <td>15</td>\n",
       "      <td>739</td>\n",
       "    </tr>\n",
       "    <tr>\n",
       "      <th>35308858</th>\n",
       "      <td>165192098</td>\n",
       "      <td>9590174</td>\n",
       "      <td>Scripts</td>\n",
       "      <td>1</td>\n",
       "      <td>03/03/2022</td>\n",
       "      <td>256</td>\n",
       "      <td>NaN</td>\n",
       "      <td>NaN</td>\n",
       "      <td>3</td>\n",
       "      <td>0</td>\n",
       "      <td>0</td>\n",
       "    </tr>\n",
       "    <tr>\n",
       "      <th>35308859</th>\n",
       "      <td>165192099</td>\n",
       "      <td>9590174</td>\n",
       "      <td>Competitions</td>\n",
       "      <td>1</td>\n",
       "      <td>03/03/2022</td>\n",
       "      <td>0</td>\n",
       "      <td>NaN</td>\n",
       "      <td>NaN</td>\n",
       "      <td>0</td>\n",
       "      <td>0</td>\n",
       "      <td>0</td>\n",
       "    </tr>\n",
       "  </tbody>\n",
       "</table>\n",
       "</div>"
      ],
      "text/plain": [
       "                 Id   UserId AchievementType  Tier TierAchievementDate  \\\n",
       "35308856  165192096  9590174        Datasets     4          06/02/2022   \n",
       "35308857  165192097  9590174      Discussion     2          03/08/2022   \n",
       "35308858  165192098  9590174         Scripts     1          03/03/2022   \n",
       "35308859  165192099  9590174    Competitions     1          03/03/2022   \n",
       "\n",
       "          Points  CurrentRanking  HighestRanking  TotalGold  TotalSilver  \\\n",
       "35308856     385            20.0            20.0          5            5   \n",
       "35308857    1031            35.0            35.0         16           15   \n",
       "35308858     256             NaN             NaN          3            0   \n",
       "35308859       0             NaN             NaN          0            0   \n",
       "\n",
       "          TotalBronze  \n",
       "35308856            0  \n",
       "35308857          739  \n",
       "35308858            0  \n",
       "35308859            0  "
      ]
     },
     "execution_count": 14,
     "metadata": {},
     "output_type": "execute_result"
    }
   ],
   "source": [
    "usera.loc[usera['UserId'] == 9590174]"
   ]
  },
  {
   "cell_type": "code",
   "execution_count": 15,
   "id": "73e770f3",
   "metadata": {
    "execution": {
     "iopub.execute_input": "2022-06-11T14:26:57.301354Z",
     "iopub.status.busy": "2022-06-11T14:26:57.300411Z",
     "iopub.status.idle": "2022-06-11T14:26:58.784673Z",
     "shell.execute_reply": "2022-06-11T14:26:58.784021Z",
     "shell.execute_reply.started": "2022-06-11T14:24:08.075497Z"
    },
    "papermill": {
     "duration": 1.508052,
     "end_time": "2022-06-11T14:26:58.784823",
     "exception": false,
     "start_time": "2022-06-11T14:26:57.276771",
     "status": "completed"
    },
    "tags": []
   },
   "outputs": [
    {
     "data": {
      "text/plain": [
       "8827214    9590174\n",
       "Name: Id, dtype: int64"
      ]
     },
     "execution_count": 15,
     "metadata": {},
     "output_type": "execute_result"
    }
   ],
   "source": [
    "# usera.loc[usera['UserId'] == 9590174]\n",
    "users.loc[users['UserName'] == 'surajjha101']['Id']\n"
   ]
  }
 ],
 "metadata": {
  "kernelspec": {
   "display_name": "Python 3",
   "language": "python",
   "name": "python3"
  },
  "language_info": {
   "codemirror_mode": {
    "name": "ipython",
    "version": 3
   },
   "file_extension": ".py",
   "mimetype": "text/x-python",
   "name": "python",
   "nbconvert_exporter": "python",
   "pygments_lexer": "ipython3",
   "version": "3.7.10"
  },
  "papermill": {
   "default_parameters": {},
   "duration": 137.28917,
   "end_time": "2022-06-11T14:27:01.733152",
   "environment_variables": {},
   "exception": null,
   "input_path": "__notebook__.ipynb",
   "output_path": "__notebook__.ipynb",
   "parameters": {},
   "start_time": "2022-06-11T14:24:44.443982",
   "version": "2.3.3"
  }
 },
 "nbformat": 4,
 "nbformat_minor": 5
}
