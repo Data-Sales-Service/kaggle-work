{
 "cells": [
  {
   "cell_type": "markdown",
   "id": "667818f8",
   "metadata": {
    "papermill": {
     "duration": 0.030324,
     "end_time": "2024-07-20T18:54:53.494870",
     "exception": false,
     "start_time": "2024-07-20T18:54:53.464546",
     "status": "completed"
    },
    "tags": []
   },
   "source": [
    "<div style=\"color:white;background-color:Black;padding:3%;border-radius:150px 150px;font-size:2.5em;text-align:center\">Pandas toolkit Part 2</div>\n",
    "\n",
    "Pandas"
   ]
  },
  {
   "cell_type": "markdown",
   "id": "a5a063d7",
   "metadata": {
    "papermill": {
     "duration": 0.030494,
     "end_time": "2024-07-20T18:54:53.557440",
     "exception": false,
     "start_time": "2024-07-20T18:54:53.526946",
     "status": "completed"
    },
    "tags": []
   },
   "source": [
    "<center>\n",
    "<img src=\"https://i1.wp.com/www.datascienceexamples.com/wp-content/uploads/2019/10/python-and-pandas.jpg?resize=800%2C286&ssl=1\" width=1200>\n",
    "</center>"
   ]
  },
  {
   "cell_type": "code",
   "execution_count": 1,
   "id": "f8cbce4d",
   "metadata": {
    "execution": {
     "iopub.execute_input": "2024-07-20T18:54:53.621231Z",
     "iopub.status.busy": "2024-07-20T18:54:53.620784Z",
     "iopub.status.idle": "2024-07-20T18:54:53.632683Z",
     "shell.execute_reply": "2024-07-20T18:54:53.631342Z"
    },
    "papermill": {
     "duration": 0.047934,
     "end_time": "2024-07-20T18:54:53.635435",
     "exception": false,
     "start_time": "2024-07-20T18:54:53.587501",
     "status": "completed"
    },
    "tags": []
   },
   "outputs": [],
   "source": [
    "import pandas as pd \n",
    "import numpy as np "
   ]
  },
  {
   "cell_type": "code",
   "execution_count": 2,
   "id": "6088bec2",
   "metadata": {
    "execution": {
     "iopub.execute_input": "2024-07-20T18:54:53.701248Z",
     "iopub.status.busy": "2024-07-20T18:54:53.700205Z",
     "iopub.status.idle": "2024-07-20T18:54:53.714059Z",
     "shell.execute_reply": "2024-07-20T18:54:53.712872Z"
    },
    "papermill": {
     "duration": 0.047581,
     "end_time": "2024-07-20T18:54:53.716561",
     "exception": false,
     "start_time": "2024-07-20T18:54:53.668980",
     "status": "completed"
    },
    "tags": []
   },
   "outputs": [
    {
     "data": {
      "text/plain": [
       "0    0\n",
       "1    1\n",
       "2    5\n",
       "3    2\n",
       "4    5\n",
       "5    6\n",
       "6    0\n",
       "7    2\n",
       "8    3\n",
       "9    0\n",
       "dtype: int64"
      ]
     },
     "execution_count": 2,
     "metadata": {},
     "output_type": "execute_result"
    }
   ],
   "source": [
    "s = pd.Series(np.random.randint(0, 7, size=10))\n",
    "s"
   ]
  },
  {
   "cell_type": "code",
   "execution_count": 3,
   "id": "fdfaec2e",
   "metadata": {
    "execution": {
     "iopub.execute_input": "2024-07-20T18:54:53.779745Z",
     "iopub.status.busy": "2024-07-20T18:54:53.779347Z",
     "iopub.status.idle": "2024-07-20T18:54:53.796213Z",
     "shell.execute_reply": "2024-07-20T18:54:53.794898Z"
    },
    "papermill": {
     "duration": 0.052247,
     "end_time": "2024-07-20T18:54:53.798848",
     "exception": false,
     "start_time": "2024-07-20T18:54:53.746601",
     "status": "completed"
    },
    "tags": []
   },
   "outputs": [
    {
     "data": {
      "text/plain": [
       "0    3\n",
       "5    2\n",
       "2    2\n",
       "1    1\n",
       "6    1\n",
       "3    1\n",
       "dtype: int64"
      ]
     },
     "execution_count": 3,
     "metadata": {},
     "output_type": "execute_result"
    }
   ],
   "source": [
    "s.value_counts()"
   ]
  },
  {
   "cell_type": "code",
   "execution_count": 4,
   "id": "9df05481",
   "metadata": {
    "execution": {
     "iopub.execute_input": "2024-07-20T18:54:53.862020Z",
     "iopub.status.busy": "2024-07-20T18:54:53.861622Z",
     "iopub.status.idle": "2024-07-20T18:54:53.873209Z",
     "shell.execute_reply": "2024-07-20T18:54:53.872074Z"
    },
    "papermill": {
     "duration": 0.046601,
     "end_time": "2024-07-20T18:54:53.875631",
     "exception": false,
     "start_time": "2024-07-20T18:54:53.829030",
     "status": "completed"
    },
    "tags": []
   },
   "outputs": [
    {
     "data": {
      "text/plain": [
       "0       a\n",
       "1       b\n",
       "2       c\n",
       "3    aaba\n",
       "4    baca\n",
       "5     NaN\n",
       "6    caba\n",
       "7     dog\n",
       "8     cat\n",
       "dtype: object"
      ]
     },
     "execution_count": 4,
     "metadata": {},
     "output_type": "execute_result"
    }
   ],
   "source": [
    "s = pd.Series([\"A\", \"B\", \"C\", \"Aaba\", \"Baca\", np.nan, \"CABA\", \"dog\", \"cat\"])\n",
    "s.str.lower()"
   ]
  },
  {
   "cell_type": "code",
   "execution_count": 5,
   "id": "0b2cbad3",
   "metadata": {
    "execution": {
     "iopub.execute_input": "2024-07-20T18:54:53.940416Z",
     "iopub.status.busy": "2024-07-20T18:54:53.940001Z",
     "iopub.status.idle": "2024-07-20T18:54:53.959332Z",
     "shell.execute_reply": "2024-07-20T18:54:53.958059Z"
    },
    "papermill": {
     "duration": 0.054807,
     "end_time": "2024-07-20T18:54:53.962002",
     "exception": false,
     "start_time": "2024-07-20T18:54:53.907195",
     "status": "completed"
    },
    "tags": []
   },
   "outputs": [
    {
     "data": {
      "text/html": [
       "<div>\n",
       "<style scoped>\n",
       "    .dataframe tbody tr th:only-of-type {\n",
       "        vertical-align: middle;\n",
       "    }\n",
       "\n",
       "    .dataframe tbody tr th {\n",
       "        vertical-align: top;\n",
       "    }\n",
       "\n",
       "    .dataframe thead th {\n",
       "        text-align: right;\n",
       "    }\n",
       "</style>\n",
       "<table border=\"1\" class=\"dataframe\">\n",
       "  <thead>\n",
       "    <tr style=\"text-align: right;\">\n",
       "      <th></th>\n",
       "      <th>0</th>\n",
       "      <th>1</th>\n",
       "      <th>2</th>\n",
       "      <th>3</th>\n",
       "    </tr>\n",
       "  </thead>\n",
       "  <tbody>\n",
       "    <tr>\n",
       "      <th>0</th>\n",
       "      <td>-0.068815</td>\n",
       "      <td>0.673521</td>\n",
       "      <td>1.012656</td>\n",
       "      <td>-0.364331</td>\n",
       "    </tr>\n",
       "    <tr>\n",
       "      <th>1</th>\n",
       "      <td>0.784435</td>\n",
       "      <td>0.488602</td>\n",
       "      <td>-0.569797</td>\n",
       "      <td>-0.761582</td>\n",
       "    </tr>\n",
       "    <tr>\n",
       "      <th>2</th>\n",
       "      <td>1.329406</td>\n",
       "      <td>0.421736</td>\n",
       "      <td>-0.648960</td>\n",
       "      <td>0.433888</td>\n",
       "    </tr>\n",
       "    <tr>\n",
       "      <th>3</th>\n",
       "      <td>-0.549131</td>\n",
       "      <td>-0.707169</td>\n",
       "      <td>0.171735</td>\n",
       "      <td>0.866205</td>\n",
       "    </tr>\n",
       "    <tr>\n",
       "      <th>4</th>\n",
       "      <td>0.142445</td>\n",
       "      <td>1.402472</td>\n",
       "      <td>1.098459</td>\n",
       "      <td>0.050017</td>\n",
       "    </tr>\n",
       "    <tr>\n",
       "      <th>5</th>\n",
       "      <td>0.736217</td>\n",
       "      <td>-0.076936</td>\n",
       "      <td>-2.265664</td>\n",
       "      <td>-0.142741</td>\n",
       "    </tr>\n",
       "    <tr>\n",
       "      <th>6</th>\n",
       "      <td>1.551464</td>\n",
       "      <td>0.522575</td>\n",
       "      <td>1.702323</td>\n",
       "      <td>1.130319</td>\n",
       "    </tr>\n",
       "    <tr>\n",
       "      <th>7</th>\n",
       "      <td>0.129066</td>\n",
       "      <td>-1.015991</td>\n",
       "      <td>0.392683</td>\n",
       "      <td>-0.460993</td>\n",
       "    </tr>\n",
       "    <tr>\n",
       "      <th>8</th>\n",
       "      <td>0.502011</td>\n",
       "      <td>-0.720044</td>\n",
       "      <td>-0.361592</td>\n",
       "      <td>0.509013</td>\n",
       "    </tr>\n",
       "    <tr>\n",
       "      <th>9</th>\n",
       "      <td>0.608325</td>\n",
       "      <td>-1.122808</td>\n",
       "      <td>-1.052589</td>\n",
       "      <td>-0.374906</td>\n",
       "    </tr>\n",
       "  </tbody>\n",
       "</table>\n",
       "</div>"
      ],
      "text/plain": [
       "          0         1         2         3\n",
       "0 -0.068815  0.673521  1.012656 -0.364331\n",
       "1  0.784435  0.488602 -0.569797 -0.761582\n",
       "2  1.329406  0.421736 -0.648960  0.433888\n",
       "3 -0.549131 -0.707169  0.171735  0.866205\n",
       "4  0.142445  1.402472  1.098459  0.050017\n",
       "5  0.736217 -0.076936 -2.265664 -0.142741\n",
       "6  1.551464  0.522575  1.702323  1.130319\n",
       "7  0.129066 -1.015991  0.392683 -0.460993\n",
       "8  0.502011 -0.720044 -0.361592  0.509013\n",
       "9  0.608325 -1.122808 -1.052589 -0.374906"
      ]
     },
     "execution_count": 5,
     "metadata": {},
     "output_type": "execute_result"
    }
   ],
   "source": [
    "df = pd.DataFrame(np.random.randn(10, 4))\n",
    "df"
   ]
  },
  {
   "cell_type": "code",
   "execution_count": 6,
   "id": "b23927ff",
   "metadata": {
    "execution": {
     "iopub.execute_input": "2024-07-20T18:54:54.023956Z",
     "iopub.status.busy": "2024-07-20T18:54:54.023584Z",
     "iopub.status.idle": "2024-07-20T18:54:54.038146Z",
     "shell.execute_reply": "2024-07-20T18:54:54.036724Z"
    },
    "papermill": {
     "duration": 0.048185,
     "end_time": "2024-07-20T18:54:54.040574",
     "exception": false,
     "start_time": "2024-07-20T18:54:53.992389",
     "status": "completed"
    },
    "tags": []
   },
   "outputs": [
    {
     "data": {
      "text/html": [
       "<div>\n",
       "<style scoped>\n",
       "    .dataframe tbody tr th:only-of-type {\n",
       "        vertical-align: middle;\n",
       "    }\n",
       "\n",
       "    .dataframe tbody tr th {\n",
       "        vertical-align: top;\n",
       "    }\n",
       "\n",
       "    .dataframe thead th {\n",
       "        text-align: right;\n",
       "    }\n",
       "</style>\n",
       "<table border=\"1\" class=\"dataframe\">\n",
       "  <thead>\n",
       "    <tr style=\"text-align: right;\">\n",
       "      <th></th>\n",
       "      <th>0</th>\n",
       "      <th>1</th>\n",
       "      <th>2</th>\n",
       "      <th>3</th>\n",
       "    </tr>\n",
       "  </thead>\n",
       "  <tbody>\n",
       "    <tr>\n",
       "      <th>0</th>\n",
       "      <td>-0.068815</td>\n",
       "      <td>0.673521</td>\n",
       "      <td>1.012656</td>\n",
       "      <td>-0.364331</td>\n",
       "    </tr>\n",
       "    <tr>\n",
       "      <th>1</th>\n",
       "      <td>0.784435</td>\n",
       "      <td>0.488602</td>\n",
       "      <td>-0.569797</td>\n",
       "      <td>-0.761582</td>\n",
       "    </tr>\n",
       "    <tr>\n",
       "      <th>2</th>\n",
       "      <td>1.329406</td>\n",
       "      <td>0.421736</td>\n",
       "      <td>-0.648960</td>\n",
       "      <td>0.433888</td>\n",
       "    </tr>\n",
       "    <tr>\n",
       "      <th>3</th>\n",
       "      <td>-0.549131</td>\n",
       "      <td>-0.707169</td>\n",
       "      <td>0.171735</td>\n",
       "      <td>0.866205</td>\n",
       "    </tr>\n",
       "    <tr>\n",
       "      <th>4</th>\n",
       "      <td>0.142445</td>\n",
       "      <td>1.402472</td>\n",
       "      <td>1.098459</td>\n",
       "      <td>0.050017</td>\n",
       "    </tr>\n",
       "    <tr>\n",
       "      <th>5</th>\n",
       "      <td>0.736217</td>\n",
       "      <td>-0.076936</td>\n",
       "      <td>-2.265664</td>\n",
       "      <td>-0.142741</td>\n",
       "    </tr>\n",
       "    <tr>\n",
       "      <th>6</th>\n",
       "      <td>1.551464</td>\n",
       "      <td>0.522575</td>\n",
       "      <td>1.702323</td>\n",
       "      <td>1.130319</td>\n",
       "    </tr>\n",
       "    <tr>\n",
       "      <th>7</th>\n",
       "      <td>0.129066</td>\n",
       "      <td>-1.015991</td>\n",
       "      <td>0.392683</td>\n",
       "      <td>-0.460993</td>\n",
       "    </tr>\n",
       "    <tr>\n",
       "      <th>8</th>\n",
       "      <td>0.502011</td>\n",
       "      <td>-0.720044</td>\n",
       "      <td>-0.361592</td>\n",
       "      <td>0.509013</td>\n",
       "    </tr>\n",
       "    <tr>\n",
       "      <th>9</th>\n",
       "      <td>0.608325</td>\n",
       "      <td>-1.122808</td>\n",
       "      <td>-1.052589</td>\n",
       "      <td>-0.374906</td>\n",
       "    </tr>\n",
       "  </tbody>\n",
       "</table>\n",
       "</div>"
      ],
      "text/plain": [
       "          0         1         2         3\n",
       "0 -0.068815  0.673521  1.012656 -0.364331\n",
       "1  0.784435  0.488602 -0.569797 -0.761582\n",
       "2  1.329406  0.421736 -0.648960  0.433888\n",
       "3 -0.549131 -0.707169  0.171735  0.866205\n",
       "4  0.142445  1.402472  1.098459  0.050017\n",
       "5  0.736217 -0.076936 -2.265664 -0.142741\n",
       "6  1.551464  0.522575  1.702323  1.130319\n",
       "7  0.129066 -1.015991  0.392683 -0.460993\n",
       "8  0.502011 -0.720044 -0.361592  0.509013\n",
       "9  0.608325 -1.122808 -1.052589 -0.374906"
      ]
     },
     "execution_count": 6,
     "metadata": {},
     "output_type": "execute_result"
    }
   ],
   "source": [
    "pieces = [df[:3], df[3:7], df[7:]]\n",
    "pd.concat(pieces)"
   ]
  },
  {
   "cell_type": "code",
   "execution_count": 7,
   "id": "f2df7a72",
   "metadata": {
    "execution": {
     "iopub.execute_input": "2024-07-20T18:54:54.105502Z",
     "iopub.status.busy": "2024-07-20T18:54:54.105079Z",
     "iopub.status.idle": "2024-07-20T18:54:54.124120Z",
     "shell.execute_reply": "2024-07-20T18:54:54.122482Z"
    },
    "papermill": {
     "duration": 0.054672,
     "end_time": "2024-07-20T18:54:54.126778",
     "exception": false,
     "start_time": "2024-07-20T18:54:54.072106",
     "status": "completed"
    },
    "tags": []
   },
   "outputs": [
    {
     "data": {
      "text/html": [
       "<div>\n",
       "<style scoped>\n",
       "    .dataframe tbody tr th:only-of-type {\n",
       "        vertical-align: middle;\n",
       "    }\n",
       "\n",
       "    .dataframe tbody tr th {\n",
       "        vertical-align: top;\n",
       "    }\n",
       "\n",
       "    .dataframe thead th {\n",
       "        text-align: right;\n",
       "    }\n",
       "</style>\n",
       "<table border=\"1\" class=\"dataframe\">\n",
       "  <thead>\n",
       "    <tr style=\"text-align: right;\">\n",
       "      <th></th>\n",
       "      <th>key</th>\n",
       "      <th>lval</th>\n",
       "    </tr>\n",
       "  </thead>\n",
       "  <tbody>\n",
       "    <tr>\n",
       "      <th>0</th>\n",
       "      <td>foo</td>\n",
       "      <td>1</td>\n",
       "    </tr>\n",
       "    <tr>\n",
       "      <th>1</th>\n",
       "      <td>foo</td>\n",
       "      <td>2</td>\n",
       "    </tr>\n",
       "  </tbody>\n",
       "</table>\n",
       "</div>"
      ],
      "text/plain": [
       "   key  lval\n",
       "0  foo     1\n",
       "1  foo     2"
      ]
     },
     "execution_count": 7,
     "metadata": {},
     "output_type": "execute_result"
    }
   ],
   "source": [
    "left = pd.DataFrame({\"key\": [\"foo\", \"foo\"], \"lval\": [1, 2]})\n",
    "right = pd.DataFrame({\"key\": [\"foo\", \"foo\"], \"rval\": [4, 5]})\n",
    "left"
   ]
  },
  {
   "cell_type": "code",
   "execution_count": 8,
   "id": "88a35c72",
   "metadata": {
    "execution": {
     "iopub.execute_input": "2024-07-20T18:54:54.192143Z",
     "iopub.status.busy": "2024-07-20T18:54:54.191732Z",
     "iopub.status.idle": "2024-07-20T18:54:54.217940Z",
     "shell.execute_reply": "2024-07-20T18:54:54.216388Z"
    },
    "papermill": {
     "duration": 0.061831,
     "end_time": "2024-07-20T18:54:54.220601",
     "exception": false,
     "start_time": "2024-07-20T18:54:54.158770",
     "status": "completed"
    },
    "tags": []
   },
   "outputs": [
    {
     "data": {
      "text/html": [
       "<div>\n",
       "<style scoped>\n",
       "    .dataframe tbody tr th:only-of-type {\n",
       "        vertical-align: middle;\n",
       "    }\n",
       "\n",
       "    .dataframe tbody tr th {\n",
       "        vertical-align: top;\n",
       "    }\n",
       "\n",
       "    .dataframe thead th {\n",
       "        text-align: right;\n",
       "    }\n",
       "</style>\n",
       "<table border=\"1\" class=\"dataframe\">\n",
       "  <thead>\n",
       "    <tr style=\"text-align: right;\">\n",
       "      <th></th>\n",
       "      <th>key</th>\n",
       "      <th>lval</th>\n",
       "      <th>rval</th>\n",
       "    </tr>\n",
       "  </thead>\n",
       "  <tbody>\n",
       "    <tr>\n",
       "      <th>0</th>\n",
       "      <td>foo</td>\n",
       "      <td>1</td>\n",
       "      <td>4</td>\n",
       "    </tr>\n",
       "    <tr>\n",
       "      <th>1</th>\n",
       "      <td>foo</td>\n",
       "      <td>1</td>\n",
       "      <td>5</td>\n",
       "    </tr>\n",
       "    <tr>\n",
       "      <th>2</th>\n",
       "      <td>foo</td>\n",
       "      <td>2</td>\n",
       "      <td>4</td>\n",
       "    </tr>\n",
       "    <tr>\n",
       "      <th>3</th>\n",
       "      <td>foo</td>\n",
       "      <td>2</td>\n",
       "      <td>5</td>\n",
       "    </tr>\n",
       "  </tbody>\n",
       "</table>\n",
       "</div>"
      ],
      "text/plain": [
       "   key  lval  rval\n",
       "0  foo     1     4\n",
       "1  foo     1     5\n",
       "2  foo     2     4\n",
       "3  foo     2     5"
      ]
     },
     "execution_count": 8,
     "metadata": {},
     "output_type": "execute_result"
    }
   ],
   "source": [
    "pd.merge(left, right, on=\"key\")"
   ]
  },
  {
   "cell_type": "code",
   "execution_count": 9,
   "id": "91a12dbc",
   "metadata": {
    "execution": {
     "iopub.execute_input": "2024-07-20T18:54:54.289006Z",
     "iopub.status.busy": "2024-07-20T18:54:54.288562Z",
     "iopub.status.idle": "2024-07-20T18:54:54.302661Z",
     "shell.execute_reply": "2024-07-20T18:54:54.301368Z"
    },
    "papermill": {
     "duration": 0.050053,
     "end_time": "2024-07-20T18:54:54.305232",
     "exception": false,
     "start_time": "2024-07-20T18:54:54.255179",
     "status": "completed"
    },
    "tags": []
   },
   "outputs": [
    {
     "data": {
      "text/html": [
       "<div>\n",
       "<style scoped>\n",
       "    .dataframe tbody tr th:only-of-type {\n",
       "        vertical-align: middle;\n",
       "    }\n",
       "\n",
       "    .dataframe tbody tr th {\n",
       "        vertical-align: top;\n",
       "    }\n",
       "\n",
       "    .dataframe thead th {\n",
       "        text-align: right;\n",
       "    }\n",
       "</style>\n",
       "<table border=\"1\" class=\"dataframe\">\n",
       "  <thead>\n",
       "    <tr style=\"text-align: right;\">\n",
       "      <th></th>\n",
       "      <th>key</th>\n",
       "      <th>lval</th>\n",
       "    </tr>\n",
       "  </thead>\n",
       "  <tbody>\n",
       "    <tr>\n",
       "      <th>0</th>\n",
       "      <td>foo</td>\n",
       "      <td>1</td>\n",
       "    </tr>\n",
       "    <tr>\n",
       "      <th>1</th>\n",
       "      <td>bar</td>\n",
       "      <td>2</td>\n",
       "    </tr>\n",
       "  </tbody>\n",
       "</table>\n",
       "</div>"
      ],
      "text/plain": [
       "   key  lval\n",
       "0  foo     1\n",
       "1  bar     2"
      ]
     },
     "execution_count": 9,
     "metadata": {},
     "output_type": "execute_result"
    }
   ],
   "source": [
    "left = pd.DataFrame({\"key\": [\"foo\", \"bar\"], \"lval\": [1, 2]})\n",
    "right = pd.DataFrame({\"key\": [\"foo\", \"bar\"], \"rval\": [4, 5]})\n",
    "left"
   ]
  },
  {
   "cell_type": "code",
   "execution_count": 10,
   "id": "235873c4",
   "metadata": {
    "execution": {
     "iopub.execute_input": "2024-07-20T18:54:54.369946Z",
     "iopub.status.busy": "2024-07-20T18:54:54.369528Z",
     "iopub.status.idle": "2024-07-20T18:54:54.383246Z",
     "shell.execute_reply": "2024-07-20T18:54:54.382101Z"
    },
    "papermill": {
     "duration": 0.048605,
     "end_time": "2024-07-20T18:54:54.386056",
     "exception": false,
     "start_time": "2024-07-20T18:54:54.337451",
     "status": "completed"
    },
    "tags": []
   },
   "outputs": [
    {
     "data": {
      "text/html": [
       "<div>\n",
       "<style scoped>\n",
       "    .dataframe tbody tr th:only-of-type {\n",
       "        vertical-align: middle;\n",
       "    }\n",
       "\n",
       "    .dataframe tbody tr th {\n",
       "        vertical-align: top;\n",
       "    }\n",
       "\n",
       "    .dataframe thead th {\n",
       "        text-align: right;\n",
       "    }\n",
       "</style>\n",
       "<table border=\"1\" class=\"dataframe\">\n",
       "  <thead>\n",
       "    <tr style=\"text-align: right;\">\n",
       "      <th></th>\n",
       "      <th>key</th>\n",
       "      <th>lval</th>\n",
       "      <th>rval</th>\n",
       "    </tr>\n",
       "  </thead>\n",
       "  <tbody>\n",
       "    <tr>\n",
       "      <th>0</th>\n",
       "      <td>foo</td>\n",
       "      <td>1</td>\n",
       "      <td>4</td>\n",
       "    </tr>\n",
       "    <tr>\n",
       "      <th>1</th>\n",
       "      <td>bar</td>\n",
       "      <td>2</td>\n",
       "      <td>5</td>\n",
       "    </tr>\n",
       "  </tbody>\n",
       "</table>\n",
       "</div>"
      ],
      "text/plain": [
       "   key  lval  rval\n",
       "0  foo     1     4\n",
       "1  bar     2     5"
      ]
     },
     "execution_count": 10,
     "metadata": {},
     "output_type": "execute_result"
    }
   ],
   "source": [
    "pd.merge(left, right, on=\"key\")"
   ]
  },
  {
   "cell_type": "code",
   "execution_count": 11,
   "id": "2995162d",
   "metadata": {
    "execution": {
     "iopub.execute_input": "2024-07-20T18:54:54.451246Z",
     "iopub.status.busy": "2024-07-20T18:54:54.450805Z",
     "iopub.status.idle": "2024-07-20T18:54:54.468737Z",
     "shell.execute_reply": "2024-07-20T18:54:54.467233Z"
    },
    "papermill": {
     "duration": 0.054664,
     "end_time": "2024-07-20T18:54:54.471577",
     "exception": false,
     "start_time": "2024-07-20T18:54:54.416913",
     "status": "completed"
    },
    "tags": []
   },
   "outputs": [
    {
     "data": {
      "text/html": [
       "<div>\n",
       "<style scoped>\n",
       "    .dataframe tbody tr th:only-of-type {\n",
       "        vertical-align: middle;\n",
       "    }\n",
       "\n",
       "    .dataframe tbody tr th {\n",
       "        vertical-align: top;\n",
       "    }\n",
       "\n",
       "    .dataframe thead th {\n",
       "        text-align: right;\n",
       "    }\n",
       "</style>\n",
       "<table border=\"1\" class=\"dataframe\">\n",
       "  <thead>\n",
       "    <tr style=\"text-align: right;\">\n",
       "      <th></th>\n",
       "      <th>A</th>\n",
       "      <th>B</th>\n",
       "      <th>C</th>\n",
       "      <th>D</th>\n",
       "    </tr>\n",
       "  </thead>\n",
       "  <tbody>\n",
       "    <tr>\n",
       "      <th>0</th>\n",
       "      <td>foo</td>\n",
       "      <td>one</td>\n",
       "      <td>0.505649</td>\n",
       "      <td>-0.260319</td>\n",
       "    </tr>\n",
       "    <tr>\n",
       "      <th>1</th>\n",
       "      <td>bar</td>\n",
       "      <td>one</td>\n",
       "      <td>0.600184</td>\n",
       "      <td>0.193859</td>\n",
       "    </tr>\n",
       "    <tr>\n",
       "      <th>2</th>\n",
       "      <td>foo</td>\n",
       "      <td>two</td>\n",
       "      <td>-1.956291</td>\n",
       "      <td>1.553813</td>\n",
       "    </tr>\n",
       "    <tr>\n",
       "      <th>3</th>\n",
       "      <td>bar</td>\n",
       "      <td>three</td>\n",
       "      <td>0.272403</td>\n",
       "      <td>0.446928</td>\n",
       "    </tr>\n",
       "    <tr>\n",
       "      <th>4</th>\n",
       "      <td>foo</td>\n",
       "      <td>two</td>\n",
       "      <td>-1.811527</td>\n",
       "      <td>0.435463</td>\n",
       "    </tr>\n",
       "    <tr>\n",
       "      <th>5</th>\n",
       "      <td>bar</td>\n",
       "      <td>two</td>\n",
       "      <td>-2.195349</td>\n",
       "      <td>0.383274</td>\n",
       "    </tr>\n",
       "    <tr>\n",
       "      <th>6</th>\n",
       "      <td>foo</td>\n",
       "      <td>one</td>\n",
       "      <td>0.865699</td>\n",
       "      <td>-1.578711</td>\n",
       "    </tr>\n",
       "    <tr>\n",
       "      <th>7</th>\n",
       "      <td>foo</td>\n",
       "      <td>three</td>\n",
       "      <td>-0.794270</td>\n",
       "      <td>-1.726390</td>\n",
       "    </tr>\n",
       "  </tbody>\n",
       "</table>\n",
       "</div>"
      ],
      "text/plain": [
       "     A      B         C         D\n",
       "0  foo    one  0.505649 -0.260319\n",
       "1  bar    one  0.600184  0.193859\n",
       "2  foo    two -1.956291  1.553813\n",
       "3  bar  three  0.272403  0.446928\n",
       "4  foo    two -1.811527  0.435463\n",
       "5  bar    two -2.195349  0.383274\n",
       "6  foo    one  0.865699 -1.578711\n",
       "7  foo  three -0.794270 -1.726390"
      ]
     },
     "execution_count": 11,
     "metadata": {},
     "output_type": "execute_result"
    }
   ],
   "source": [
    "df = pd.DataFrame({\n",
    "    \n",
    "\"A\": [\"foo\", \"bar\", \"foo\", \"bar\", \"foo\", \"bar\", \"foo\", \"foo\"],\n",
    "\"B\": [\"one\", \"one\", \"two\", \"three\", \"two\", \"two\", \"one\", \"three\"],\n",
    "\"C\": np.random.randn(8),\n",
    "\"D\": np.random.randn(8)\n",
    "    \n",
    "     })\n",
    "df"
   ]
  },
  {
   "cell_type": "code",
   "execution_count": 12,
   "id": "f3a19b35",
   "metadata": {
    "execution": {
     "iopub.execute_input": "2024-07-20T18:54:54.538950Z",
     "iopub.status.busy": "2024-07-20T18:54:54.538568Z",
     "iopub.status.idle": "2024-07-20T18:54:54.557749Z",
     "shell.execute_reply": "2024-07-20T18:54:54.556542Z"
    },
    "papermill": {
     "duration": 0.055204,
     "end_time": "2024-07-20T18:54:54.560036",
     "exception": false,
     "start_time": "2024-07-20T18:54:54.504832",
     "status": "completed"
    },
    "tags": []
   },
   "outputs": [
    {
     "name": "stderr",
     "output_type": "stream",
     "text": [
      "/tmp/ipykernel_20/10288373.py:1: FutureWarning: The default value of numeric_only in DataFrameGroupBy.sum is deprecated. In a future version, numeric_only will default to False. Either specify numeric_only or select only columns which should be valid for the function.\n",
      "  df.groupby(\"A\").sum()\n"
     ]
    },
    {
     "data": {
      "text/html": [
       "<div>\n",
       "<style scoped>\n",
       "    .dataframe tbody tr th:only-of-type {\n",
       "        vertical-align: middle;\n",
       "    }\n",
       "\n",
       "    .dataframe tbody tr th {\n",
       "        vertical-align: top;\n",
       "    }\n",
       "\n",
       "    .dataframe thead th {\n",
       "        text-align: right;\n",
       "    }\n",
       "</style>\n",
       "<table border=\"1\" class=\"dataframe\">\n",
       "  <thead>\n",
       "    <tr style=\"text-align: right;\">\n",
       "      <th></th>\n",
       "      <th>C</th>\n",
       "      <th>D</th>\n",
       "    </tr>\n",
       "    <tr>\n",
       "      <th>A</th>\n",
       "      <th></th>\n",
       "      <th></th>\n",
       "    </tr>\n",
       "  </thead>\n",
       "  <tbody>\n",
       "    <tr>\n",
       "      <th>bar</th>\n",
       "      <td>-1.322761</td>\n",
       "      <td>1.024061</td>\n",
       "    </tr>\n",
       "    <tr>\n",
       "      <th>foo</th>\n",
       "      <td>-3.190741</td>\n",
       "      <td>-1.576144</td>\n",
       "    </tr>\n",
       "  </tbody>\n",
       "</table>\n",
       "</div>"
      ],
      "text/plain": [
       "            C         D\n",
       "A                      \n",
       "bar -1.322761  1.024061\n",
       "foo -3.190741 -1.576144"
      ]
     },
     "execution_count": 12,
     "metadata": {},
     "output_type": "execute_result"
    }
   ],
   "source": [
    "df.groupby(\"A\").sum()"
   ]
  },
  {
   "cell_type": "code",
   "execution_count": 13,
   "id": "97fa6c0d",
   "metadata": {
    "execution": {
     "iopub.execute_input": "2024-07-20T18:54:54.628636Z",
     "iopub.status.busy": "2024-07-20T18:54:54.628179Z",
     "iopub.status.idle": "2024-07-20T18:54:54.643714Z",
     "shell.execute_reply": "2024-07-20T18:54:54.642622Z"
    },
    "papermill": {
     "duration": 0.054342,
     "end_time": "2024-07-20T18:54:54.646566",
     "exception": false,
     "start_time": "2024-07-20T18:54:54.592224",
     "status": "completed"
    },
    "tags": []
   },
   "outputs": [
    {
     "data": {
      "text/html": [
       "<div>\n",
       "<style scoped>\n",
       "    .dataframe tbody tr th:only-of-type {\n",
       "        vertical-align: middle;\n",
       "    }\n",
       "\n",
       "    .dataframe tbody tr th {\n",
       "        vertical-align: top;\n",
       "    }\n",
       "\n",
       "    .dataframe thead th {\n",
       "        text-align: right;\n",
       "    }\n",
       "</style>\n",
       "<table border=\"1\" class=\"dataframe\">\n",
       "  <thead>\n",
       "    <tr style=\"text-align: right;\">\n",
       "      <th></th>\n",
       "      <th></th>\n",
       "      <th>C</th>\n",
       "      <th>D</th>\n",
       "    </tr>\n",
       "    <tr>\n",
       "      <th>A</th>\n",
       "      <th>B</th>\n",
       "      <th></th>\n",
       "      <th></th>\n",
       "    </tr>\n",
       "  </thead>\n",
       "  <tbody>\n",
       "    <tr>\n",
       "      <th rowspan=\"3\" valign=\"top\">bar</th>\n",
       "      <th>one</th>\n",
       "      <td>0.600184</td>\n",
       "      <td>0.193859</td>\n",
       "    </tr>\n",
       "    <tr>\n",
       "      <th>three</th>\n",
       "      <td>0.272403</td>\n",
       "      <td>0.446928</td>\n",
       "    </tr>\n",
       "    <tr>\n",
       "      <th>two</th>\n",
       "      <td>-2.195349</td>\n",
       "      <td>0.383274</td>\n",
       "    </tr>\n",
       "    <tr>\n",
       "      <th rowspan=\"3\" valign=\"top\">foo</th>\n",
       "      <th>one</th>\n",
       "      <td>1.371348</td>\n",
       "      <td>-1.839030</td>\n",
       "    </tr>\n",
       "    <tr>\n",
       "      <th>three</th>\n",
       "      <td>-0.794270</td>\n",
       "      <td>-1.726390</td>\n",
       "    </tr>\n",
       "    <tr>\n",
       "      <th>two</th>\n",
       "      <td>-3.767819</td>\n",
       "      <td>1.989276</td>\n",
       "    </tr>\n",
       "  </tbody>\n",
       "</table>\n",
       "</div>"
      ],
      "text/plain": [
       "                  C         D\n",
       "A   B                        \n",
       "bar one    0.600184  0.193859\n",
       "    three  0.272403  0.446928\n",
       "    two   -2.195349  0.383274\n",
       "foo one    1.371348 -1.839030\n",
       "    three -0.794270 -1.726390\n",
       "    two   -3.767819  1.989276"
      ]
     },
     "execution_count": 13,
     "metadata": {},
     "output_type": "execute_result"
    }
   ],
   "source": [
    "df.groupby([\"A\", \"B\"]).sum()"
   ]
  },
  {
   "cell_type": "code",
   "execution_count": 14,
   "id": "b771decb",
   "metadata": {
    "execution": {
     "iopub.execute_input": "2024-07-20T18:54:54.717593Z",
     "iopub.status.busy": "2024-07-20T18:54:54.717180Z",
     "iopub.status.idle": "2024-07-20T18:54:54.733532Z",
     "shell.execute_reply": "2024-07-20T18:54:54.732364Z"
    },
    "papermill": {
     "duration": 0.05614,
     "end_time": "2024-07-20T18:54:54.737179",
     "exception": false,
     "start_time": "2024-07-20T18:54:54.681039",
     "status": "completed"
    },
    "tags": []
   },
   "outputs": [
    {
     "data": {
      "text/html": [
       "<div>\n",
       "<style scoped>\n",
       "    .dataframe tbody tr th:only-of-type {\n",
       "        vertical-align: middle;\n",
       "    }\n",
       "\n",
       "    .dataframe tbody tr th {\n",
       "        vertical-align: top;\n",
       "    }\n",
       "\n",
       "    .dataframe thead th {\n",
       "        text-align: right;\n",
       "    }\n",
       "</style>\n",
       "<table border=\"1\" class=\"dataframe\">\n",
       "  <thead>\n",
       "    <tr style=\"text-align: right;\">\n",
       "      <th></th>\n",
       "      <th></th>\n",
       "      <th>A</th>\n",
       "      <th>B</th>\n",
       "    </tr>\n",
       "    <tr>\n",
       "      <th>first</th>\n",
       "      <th>second</th>\n",
       "      <th></th>\n",
       "      <th></th>\n",
       "    </tr>\n",
       "  </thead>\n",
       "  <tbody>\n",
       "    <tr>\n",
       "      <th rowspan=\"2\" valign=\"top\">bar</th>\n",
       "      <th>one</th>\n",
       "      <td>-1.016804</td>\n",
       "      <td>0.170623</td>\n",
       "    </tr>\n",
       "    <tr>\n",
       "      <th>two</th>\n",
       "      <td>0.243215</td>\n",
       "      <td>0.034271</td>\n",
       "    </tr>\n",
       "    <tr>\n",
       "      <th rowspan=\"2\" valign=\"top\">baz</th>\n",
       "      <th>one</th>\n",
       "      <td>0.503628</td>\n",
       "      <td>0.160551</td>\n",
       "    </tr>\n",
       "    <tr>\n",
       "      <th>two</th>\n",
       "      <td>-1.057154</td>\n",
       "      <td>-0.981320</td>\n",
       "    </tr>\n",
       "  </tbody>\n",
       "</table>\n",
       "</div>"
      ],
      "text/plain": [
       "                     A         B\n",
       "first second                    \n",
       "bar   one    -1.016804  0.170623\n",
       "      two     0.243215  0.034271\n",
       "baz   one     0.503628  0.160551\n",
       "      two    -1.057154 -0.981320"
      ]
     },
     "execution_count": 14,
     "metadata": {},
     "output_type": "execute_result"
    }
   ],
   "source": [
    "tuples = list(zip(*[\n",
    "[\"bar\", \"bar\", \"baz\", \"baz\", \"foo\", \"foo\", \"qux\", \"qux\"],\n",
    "[\"one\", \"two\", \"one\", \"two\", \"one\", \"two\", \"one\", \"two\"]\n",
    "]))\n",
    "\n",
    "index = pd.MultiIndex.from_tuples(tuples, names=[\"first\", \"second\"])\n",
    "df = pd.DataFrame(np.random.randn(8, 2), index=index, columns=[\"A\", \"B\"])\n",
    "df2 = df[:4]\n",
    "df2"
   ]
  },
  {
   "cell_type": "code",
   "execution_count": 15,
   "id": "ed791dfc",
   "metadata": {
    "execution": {
     "iopub.execute_input": "2024-07-20T18:54:54.807235Z",
     "iopub.status.busy": "2024-07-20T18:54:54.806300Z",
     "iopub.status.idle": "2024-07-20T18:54:54.819447Z",
     "shell.execute_reply": "2024-07-20T18:54:54.818161Z"
    },
    "papermill": {
     "duration": 0.051218,
     "end_time": "2024-07-20T18:54:54.822172",
     "exception": false,
     "start_time": "2024-07-20T18:54:54.770954",
     "status": "completed"
    },
    "tags": []
   },
   "outputs": [
    {
     "data": {
      "text/plain": [
       "first  second   \n",
       "bar    one     A   -1.016804\n",
       "               B    0.170623\n",
       "       two     A    0.243215\n",
       "               B    0.034271\n",
       "baz    one     A    0.503628\n",
       "               B    0.160551\n",
       "       two     A   -1.057154\n",
       "               B   -0.981320\n",
       "dtype: float64"
      ]
     },
     "execution_count": 15,
     "metadata": {},
     "output_type": "execute_result"
    }
   ],
   "source": [
    "stacked = df2.stack()\n",
    "stacked"
   ]
  },
  {
   "cell_type": "code",
   "execution_count": 16,
   "id": "9d2379ab",
   "metadata": {
    "execution": {
     "iopub.execute_input": "2024-07-20T18:54:54.891077Z",
     "iopub.status.busy": "2024-07-20T18:54:54.890672Z",
     "iopub.status.idle": "2024-07-20T18:54:54.908764Z",
     "shell.execute_reply": "2024-07-20T18:54:54.907650Z"
    },
    "papermill": {
     "duration": 0.056135,
     "end_time": "2024-07-20T18:54:54.911080",
     "exception": false,
     "start_time": "2024-07-20T18:54:54.854945",
     "status": "completed"
    },
    "tags": []
   },
   "outputs": [
    {
     "data": {
      "text/html": [
       "<div>\n",
       "<style scoped>\n",
       "    .dataframe tbody tr th:only-of-type {\n",
       "        vertical-align: middle;\n",
       "    }\n",
       "\n",
       "    .dataframe tbody tr th {\n",
       "        vertical-align: top;\n",
       "    }\n",
       "\n",
       "    .dataframe thead th {\n",
       "        text-align: right;\n",
       "    }\n",
       "</style>\n",
       "<table border=\"1\" class=\"dataframe\">\n",
       "  <thead>\n",
       "    <tr style=\"text-align: right;\">\n",
       "      <th></th>\n",
       "      <th></th>\n",
       "      <th>A</th>\n",
       "      <th>B</th>\n",
       "    </tr>\n",
       "    <tr>\n",
       "      <th>first</th>\n",
       "      <th>second</th>\n",
       "      <th></th>\n",
       "      <th></th>\n",
       "    </tr>\n",
       "  </thead>\n",
       "  <tbody>\n",
       "    <tr>\n",
       "      <th rowspan=\"2\" valign=\"top\">bar</th>\n",
       "      <th>one</th>\n",
       "      <td>-1.016804</td>\n",
       "      <td>0.170623</td>\n",
       "    </tr>\n",
       "    <tr>\n",
       "      <th>two</th>\n",
       "      <td>0.243215</td>\n",
       "      <td>0.034271</td>\n",
       "    </tr>\n",
       "    <tr>\n",
       "      <th rowspan=\"2\" valign=\"top\">baz</th>\n",
       "      <th>one</th>\n",
       "      <td>0.503628</td>\n",
       "      <td>0.160551</td>\n",
       "    </tr>\n",
       "    <tr>\n",
       "      <th>two</th>\n",
       "      <td>-1.057154</td>\n",
       "      <td>-0.981320</td>\n",
       "    </tr>\n",
       "  </tbody>\n",
       "</table>\n",
       "</div>"
      ],
      "text/plain": [
       "                     A         B\n",
       "first second                    \n",
       "bar   one    -1.016804  0.170623\n",
       "      two     0.243215  0.034271\n",
       "baz   one     0.503628  0.160551\n",
       "      two    -1.057154 -0.981320"
      ]
     },
     "execution_count": 16,
     "metadata": {},
     "output_type": "execute_result"
    }
   ],
   "source": [
    "stacked.unstack()"
   ]
  },
  {
   "cell_type": "code",
   "execution_count": 17,
   "id": "e328ed52",
   "metadata": {
    "execution": {
     "iopub.execute_input": "2024-07-20T18:54:54.981098Z",
     "iopub.status.busy": "2024-07-20T18:54:54.980631Z",
     "iopub.status.idle": "2024-07-20T18:54:54.994887Z",
     "shell.execute_reply": "2024-07-20T18:54:54.993624Z"
    },
    "papermill": {
     "duration": 0.051701,
     "end_time": "2024-07-20T18:54:54.997441",
     "exception": false,
     "start_time": "2024-07-20T18:54:54.945740",
     "status": "completed"
    },
    "tags": []
   },
   "outputs": [
    {
     "data": {
      "text/html": [
       "<div>\n",
       "<style scoped>\n",
       "    .dataframe tbody tr th:only-of-type {\n",
       "        vertical-align: middle;\n",
       "    }\n",
       "\n",
       "    .dataframe tbody tr th {\n",
       "        vertical-align: top;\n",
       "    }\n",
       "\n",
       "    .dataframe thead th {\n",
       "        text-align: right;\n",
       "    }\n",
       "</style>\n",
       "<table border=\"1\" class=\"dataframe\">\n",
       "  <thead>\n",
       "    <tr style=\"text-align: right;\">\n",
       "      <th></th>\n",
       "      <th>second</th>\n",
       "      <th>one</th>\n",
       "      <th>two</th>\n",
       "    </tr>\n",
       "    <tr>\n",
       "      <th>first</th>\n",
       "      <th></th>\n",
       "      <th></th>\n",
       "      <th></th>\n",
       "    </tr>\n",
       "  </thead>\n",
       "  <tbody>\n",
       "    <tr>\n",
       "      <th rowspan=\"2\" valign=\"top\">bar</th>\n",
       "      <th>A</th>\n",
       "      <td>-1.016804</td>\n",
       "      <td>0.243215</td>\n",
       "    </tr>\n",
       "    <tr>\n",
       "      <th>B</th>\n",
       "      <td>0.170623</td>\n",
       "      <td>0.034271</td>\n",
       "    </tr>\n",
       "    <tr>\n",
       "      <th rowspan=\"2\" valign=\"top\">baz</th>\n",
       "      <th>A</th>\n",
       "      <td>0.503628</td>\n",
       "      <td>-1.057154</td>\n",
       "    </tr>\n",
       "    <tr>\n",
       "      <th>B</th>\n",
       "      <td>0.160551</td>\n",
       "      <td>-0.981320</td>\n",
       "    </tr>\n",
       "  </tbody>\n",
       "</table>\n",
       "</div>"
      ],
      "text/plain": [
       "second        one       two\n",
       "first                      \n",
       "bar   A -1.016804  0.243215\n",
       "      B  0.170623  0.034271\n",
       "baz   A  0.503628 -1.057154\n",
       "      B  0.160551 -0.981320"
      ]
     },
     "execution_count": 17,
     "metadata": {},
     "output_type": "execute_result"
    }
   ],
   "source": [
    "stacked.unstack(1)"
   ]
  },
  {
   "cell_type": "code",
   "execution_count": 18,
   "id": "4cce5819",
   "metadata": {
    "execution": {
     "iopub.execute_input": "2024-07-20T18:54:55.068504Z",
     "iopub.status.busy": "2024-07-20T18:54:55.068077Z",
     "iopub.status.idle": "2024-07-20T18:54:55.087466Z",
     "shell.execute_reply": "2024-07-20T18:54:55.085376Z"
    },
    "papermill": {
     "duration": 0.058126,
     "end_time": "2024-07-20T18:54:55.090090",
     "exception": false,
     "start_time": "2024-07-20T18:54:55.031964",
     "status": "completed"
    },
    "tags": []
   },
   "outputs": [
    {
     "data": {
      "text/html": [
       "<div>\n",
       "<style scoped>\n",
       "    .dataframe tbody tr th:only-of-type {\n",
       "        vertical-align: middle;\n",
       "    }\n",
       "\n",
       "    .dataframe tbody tr th {\n",
       "        vertical-align: top;\n",
       "    }\n",
       "\n",
       "    .dataframe thead th {\n",
       "        text-align: right;\n",
       "    }\n",
       "</style>\n",
       "<table border=\"1\" class=\"dataframe\">\n",
       "  <thead>\n",
       "    <tr style=\"text-align: right;\">\n",
       "      <th></th>\n",
       "      <th>A</th>\n",
       "      <th>B</th>\n",
       "      <th>C</th>\n",
       "      <th>D</th>\n",
       "      <th>E</th>\n",
       "    </tr>\n",
       "  </thead>\n",
       "  <tbody>\n",
       "    <tr>\n",
       "      <th>0</th>\n",
       "      <td>one</td>\n",
       "      <td>A</td>\n",
       "      <td>foo</td>\n",
       "      <td>-2.299961</td>\n",
       "      <td>0.333089</td>\n",
       "    </tr>\n",
       "    <tr>\n",
       "      <th>1</th>\n",
       "      <td>one</td>\n",
       "      <td>B</td>\n",
       "      <td>foo</td>\n",
       "      <td>-0.224804</td>\n",
       "      <td>1.717136</td>\n",
       "    </tr>\n",
       "    <tr>\n",
       "      <th>2</th>\n",
       "      <td>two</td>\n",
       "      <td>C</td>\n",
       "      <td>foo</td>\n",
       "      <td>-0.034556</td>\n",
       "      <td>1.157822</td>\n",
       "    </tr>\n",
       "    <tr>\n",
       "      <th>3</th>\n",
       "      <td>three</td>\n",
       "      <td>A</td>\n",
       "      <td>bar</td>\n",
       "      <td>-1.233576</td>\n",
       "      <td>-0.194941</td>\n",
       "    </tr>\n",
       "    <tr>\n",
       "      <th>4</th>\n",
       "      <td>one</td>\n",
       "      <td>B</td>\n",
       "      <td>bar</td>\n",
       "      <td>-0.250912</td>\n",
       "      <td>0.552956</td>\n",
       "    </tr>\n",
       "    <tr>\n",
       "      <th>5</th>\n",
       "      <td>one</td>\n",
       "      <td>C</td>\n",
       "      <td>bar</td>\n",
       "      <td>0.240696</td>\n",
       "      <td>-0.621469</td>\n",
       "    </tr>\n",
       "    <tr>\n",
       "      <th>6</th>\n",
       "      <td>two</td>\n",
       "      <td>A</td>\n",
       "      <td>foo</td>\n",
       "      <td>0.188029</td>\n",
       "      <td>2.194071</td>\n",
       "    </tr>\n",
       "    <tr>\n",
       "      <th>7</th>\n",
       "      <td>three</td>\n",
       "      <td>B</td>\n",
       "      <td>foo</td>\n",
       "      <td>-0.318821</td>\n",
       "      <td>2.520378</td>\n",
       "    </tr>\n",
       "    <tr>\n",
       "      <th>8</th>\n",
       "      <td>one</td>\n",
       "      <td>C</td>\n",
       "      <td>foo</td>\n",
       "      <td>-1.088277</td>\n",
       "      <td>-0.831787</td>\n",
       "    </tr>\n",
       "    <tr>\n",
       "      <th>9</th>\n",
       "      <td>one</td>\n",
       "      <td>A</td>\n",
       "      <td>bar</td>\n",
       "      <td>-0.343089</td>\n",
       "      <td>0.419499</td>\n",
       "    </tr>\n",
       "    <tr>\n",
       "      <th>10</th>\n",
       "      <td>two</td>\n",
       "      <td>B</td>\n",
       "      <td>bar</td>\n",
       "      <td>0.343656</td>\n",
       "      <td>1.596561</td>\n",
       "    </tr>\n",
       "    <tr>\n",
       "      <th>11</th>\n",
       "      <td>three</td>\n",
       "      <td>C</td>\n",
       "      <td>bar</td>\n",
       "      <td>0.800277</td>\n",
       "      <td>0.212959</td>\n",
       "    </tr>\n",
       "  </tbody>\n",
       "</table>\n",
       "</div>"
      ],
      "text/plain": [
       "        A  B    C         D         E\n",
       "0     one  A  foo -2.299961  0.333089\n",
       "1     one  B  foo -0.224804  1.717136\n",
       "2     two  C  foo -0.034556  1.157822\n",
       "3   three  A  bar -1.233576 -0.194941\n",
       "4     one  B  bar -0.250912  0.552956\n",
       "5     one  C  bar  0.240696 -0.621469\n",
       "6     two  A  foo  0.188029  2.194071\n",
       "7   three  B  foo -0.318821  2.520378\n",
       "8     one  C  foo -1.088277 -0.831787\n",
       "9     one  A  bar -0.343089  0.419499\n",
       "10    two  B  bar  0.343656  1.596561\n",
       "11  three  C  bar  0.800277  0.212959"
      ]
     },
     "execution_count": 18,
     "metadata": {},
     "output_type": "execute_result"
    }
   ],
   "source": [
    "df = pd.DataFrame({\n",
    "    \n",
    "\"A\": [\"one\", \"one\", \"two\", \"three\"] * 3,\n",
    "\"B\": [\"A\", \"B\", \"C\"] * 4,\n",
    "\"C\": [\"foo\", \"foo\", \"foo\", \"bar\", \"bar\", \"bar\"] * 2,\n",
    "\"D\": np.random.randn(12),\n",
    "\"E\": np.random.randn(12)\n",
    "    \n",
    "})\n",
    "df"
   ]
  },
  {
   "cell_type": "code",
   "execution_count": 19,
   "id": "b0d1f8a5",
   "metadata": {
    "execution": {
     "iopub.execute_input": "2024-07-20T18:54:55.174139Z",
     "iopub.status.busy": "2024-07-20T18:54:55.173704Z",
     "iopub.status.idle": "2024-07-20T18:54:55.206834Z",
     "shell.execute_reply": "2024-07-20T18:54:55.204766Z"
    },
    "papermill": {
     "duration": 0.079188,
     "end_time": "2024-07-20T18:54:55.209700",
     "exception": false,
     "start_time": "2024-07-20T18:54:55.130512",
     "status": "completed"
    },
    "tags": []
   },
   "outputs": [
    {
     "data": {
      "text/html": [
       "<div>\n",
       "<style scoped>\n",
       "    .dataframe tbody tr th:only-of-type {\n",
       "        vertical-align: middle;\n",
       "    }\n",
       "\n",
       "    .dataframe tbody tr th {\n",
       "        vertical-align: top;\n",
       "    }\n",
       "\n",
       "    .dataframe thead th {\n",
       "        text-align: right;\n",
       "    }\n",
       "</style>\n",
       "<table border=\"1\" class=\"dataframe\">\n",
       "  <thead>\n",
       "    <tr style=\"text-align: right;\">\n",
       "      <th></th>\n",
       "      <th>C</th>\n",
       "      <th>bar</th>\n",
       "      <th>foo</th>\n",
       "    </tr>\n",
       "    <tr>\n",
       "      <th>A</th>\n",
       "      <th>B</th>\n",
       "      <th></th>\n",
       "      <th></th>\n",
       "    </tr>\n",
       "  </thead>\n",
       "  <tbody>\n",
       "    <tr>\n",
       "      <th rowspan=\"3\" valign=\"top\">one</th>\n",
       "      <th>A</th>\n",
       "      <td>-0.343089</td>\n",
       "      <td>-2.299961</td>\n",
       "    </tr>\n",
       "    <tr>\n",
       "      <th>B</th>\n",
       "      <td>-0.250912</td>\n",
       "      <td>-0.224804</td>\n",
       "    </tr>\n",
       "    <tr>\n",
       "      <th>C</th>\n",
       "      <td>0.240696</td>\n",
       "      <td>-1.088277</td>\n",
       "    </tr>\n",
       "    <tr>\n",
       "      <th rowspan=\"3\" valign=\"top\">three</th>\n",
       "      <th>A</th>\n",
       "      <td>-1.233576</td>\n",
       "      <td>NaN</td>\n",
       "    </tr>\n",
       "    <tr>\n",
       "      <th>B</th>\n",
       "      <td>NaN</td>\n",
       "      <td>-0.318821</td>\n",
       "    </tr>\n",
       "    <tr>\n",
       "      <th>C</th>\n",
       "      <td>0.800277</td>\n",
       "      <td>NaN</td>\n",
       "    </tr>\n",
       "    <tr>\n",
       "      <th rowspan=\"3\" valign=\"top\">two</th>\n",
       "      <th>A</th>\n",
       "      <td>NaN</td>\n",
       "      <td>0.188029</td>\n",
       "    </tr>\n",
       "    <tr>\n",
       "      <th>B</th>\n",
       "      <td>0.343656</td>\n",
       "      <td>NaN</td>\n",
       "    </tr>\n",
       "    <tr>\n",
       "      <th>C</th>\n",
       "      <td>NaN</td>\n",
       "      <td>-0.034556</td>\n",
       "    </tr>\n",
       "  </tbody>\n",
       "</table>\n",
       "</div>"
      ],
      "text/plain": [
       "C             bar       foo\n",
       "A     B                    \n",
       "one   A -0.343089 -2.299961\n",
       "      B -0.250912 -0.224804\n",
       "      C  0.240696 -1.088277\n",
       "three A -1.233576       NaN\n",
       "      B       NaN -0.318821\n",
       "      C  0.800277       NaN\n",
       "two   A       NaN  0.188029\n",
       "      B  0.343656       NaN\n",
       "      C       NaN -0.034556"
      ]
     },
     "execution_count": 19,
     "metadata": {},
     "output_type": "execute_result"
    }
   ],
   "source": [
    "pd.pivot_table(df, values=\"D\", index=[\"A\", \"B\"], columns=[\"C\"])"
   ]
  },
  {
   "cell_type": "code",
   "execution_count": 20,
   "id": "bf0559f4",
   "metadata": {
    "execution": {
     "iopub.execute_input": "2024-07-20T18:54:55.279691Z",
     "iopub.status.busy": "2024-07-20T18:54:55.279249Z",
     "iopub.status.idle": "2024-07-20T18:54:55.303795Z",
     "shell.execute_reply": "2024-07-20T18:54:55.301940Z"
    },
    "papermill": {
     "duration": 0.063064,
     "end_time": "2024-07-20T18:54:55.306766",
     "exception": false,
     "start_time": "2024-07-20T18:54:55.243702",
     "status": "completed"
    },
    "tags": []
   },
   "outputs": [
    {
     "data": {
      "text/plain": [
       "2012-01-01    24675\n",
       "Freq: 5T, dtype: int64"
      ]
     },
     "execution_count": 20,
     "metadata": {},
     "output_type": "execute_result"
    }
   ],
   "source": [
    "rng = pd.date_range(\"1/1/2012\", periods=100, freq=\"S\")\n",
    "ts = pd.Series(np.random.randint(0, 500, len(rng)), index=rng)\n",
    "ts.resample(\"5Min\").sum()"
   ]
  },
  {
   "cell_type": "code",
   "execution_count": 21,
   "id": "50be9086",
   "metadata": {
    "execution": {
     "iopub.execute_input": "2024-07-20T18:54:55.380389Z",
     "iopub.status.busy": "2024-07-20T18:54:55.379955Z",
     "iopub.status.idle": "2024-07-20T18:54:55.392047Z",
     "shell.execute_reply": "2024-07-20T18:54:55.390734Z"
    },
    "papermill": {
     "duration": 0.049915,
     "end_time": "2024-07-20T18:54:55.394819",
     "exception": false,
     "start_time": "2024-07-20T18:54:55.344904",
     "status": "completed"
    },
    "tags": []
   },
   "outputs": [
    {
     "data": {
      "text/plain": [
       "2012-03-06    0.731052\n",
       "2012-03-07    0.879285\n",
       "2012-03-08    0.934368\n",
       "2012-03-09   -0.000108\n",
       "2012-03-10    1.410146\n",
       "Freq: D, dtype: float64"
      ]
     },
     "execution_count": 21,
     "metadata": {},
     "output_type": "execute_result"
    }
   ],
   "source": [
    "rng = pd.date_range(\"3/6/2012 00:00\", periods=5, freq=\"D\")\n",
    "ts = pd.Series(np.random.randn(len(rng)), rng)\n",
    "ts"
   ]
  },
  {
   "cell_type": "code",
   "execution_count": 22,
   "id": "1e20add1",
   "metadata": {
    "execution": {
     "iopub.execute_input": "2024-07-20T18:54:55.466412Z",
     "iopub.status.busy": "2024-07-20T18:54:55.465900Z",
     "iopub.status.idle": "2024-07-20T18:54:55.475435Z",
     "shell.execute_reply": "2024-07-20T18:54:55.474060Z"
    },
    "papermill": {
     "duration": 0.048776,
     "end_time": "2024-07-20T18:54:55.478539",
     "exception": false,
     "start_time": "2024-07-20T18:54:55.429763",
     "status": "completed"
    },
    "tags": []
   },
   "outputs": [
    {
     "data": {
      "text/plain": [
       "2012-03-06 00:00:00+00:00    0.731052\n",
       "2012-03-07 00:00:00+00:00    0.879285\n",
       "2012-03-08 00:00:00+00:00    0.934368\n",
       "2012-03-09 00:00:00+00:00   -0.000108\n",
       "2012-03-10 00:00:00+00:00    1.410146\n",
       "Freq: D, dtype: float64"
      ]
     },
     "execution_count": 22,
     "metadata": {},
     "output_type": "execute_result"
    }
   ],
   "source": [
    "ts_utc = ts.tz_localize(\"UTC\")\n",
    "ts_utc"
   ]
  },
  {
   "cell_type": "code",
   "execution_count": 23,
   "id": "f56dd436",
   "metadata": {
    "execution": {
     "iopub.execute_input": "2024-07-20T18:54:55.552211Z",
     "iopub.status.busy": "2024-07-20T18:54:55.551811Z",
     "iopub.status.idle": "2024-07-20T18:54:55.561690Z",
     "shell.execute_reply": "2024-07-20T18:54:55.560443Z"
    },
    "papermill": {
     "duration": 0.046937,
     "end_time": "2024-07-20T18:54:55.564141",
     "exception": false,
     "start_time": "2024-07-20T18:54:55.517204",
     "status": "completed"
    },
    "tags": []
   },
   "outputs": [
    {
     "data": {
      "text/plain": [
       "2012-01-31    0.018115\n",
       "2012-02-29    0.868672\n",
       "2012-03-31    0.723367\n",
       "2012-04-30   -0.947665\n",
       "2012-05-31   -1.058658\n",
       "Freq: M, dtype: float64"
      ]
     },
     "execution_count": 23,
     "metadata": {},
     "output_type": "execute_result"
    }
   ],
   "source": [
    "rng = pd.date_range(\"1/1/2012\", periods=5, freq=\"M\")\n",
    "ts = pd.Series(np.random.randn(len(rng)), index=rng)\n",
    "ts"
   ]
  },
  {
   "cell_type": "code",
   "execution_count": 24,
   "id": "48d4b984",
   "metadata": {
    "execution": {
     "iopub.execute_input": "2024-07-20T18:54:55.637259Z",
     "iopub.status.busy": "2024-07-20T18:54:55.636130Z",
     "iopub.status.idle": "2024-07-20T18:54:55.646035Z",
     "shell.execute_reply": "2024-07-20T18:54:55.644609Z"
    },
    "papermill": {
     "duration": 0.049545,
     "end_time": "2024-07-20T18:54:55.648534",
     "exception": false,
     "start_time": "2024-07-20T18:54:55.598989",
     "status": "completed"
    },
    "tags": []
   },
   "outputs": [
    {
     "data": {
      "text/plain": [
       "2012-01    0.018115\n",
       "2012-02    0.868672\n",
       "2012-03    0.723367\n",
       "2012-04   -0.947665\n",
       "2012-05   -1.058658\n",
       "Freq: M, dtype: float64"
      ]
     },
     "execution_count": 24,
     "metadata": {},
     "output_type": "execute_result"
    }
   ],
   "source": [
    "ps = ts.to_period()\n",
    "ps"
   ]
  },
  {
   "cell_type": "code",
   "execution_count": 25,
   "id": "a63b0f45",
   "metadata": {
    "execution": {
     "iopub.execute_input": "2024-07-20T18:54:55.718468Z",
     "iopub.status.busy": "2024-07-20T18:54:55.718060Z",
     "iopub.status.idle": "2024-07-20T18:54:55.730426Z",
     "shell.execute_reply": "2024-07-20T18:54:55.729255Z"
    },
    "papermill": {
     "duration": 0.049776,
     "end_time": "2024-07-20T18:54:55.733017",
     "exception": false,
     "start_time": "2024-07-20T18:54:55.683241",
     "status": "completed"
    },
    "tags": []
   },
   "outputs": [
    {
     "data": {
      "text/plain": [
       "2012-01-01    0.018115\n",
       "2012-02-01    0.868672\n",
       "2012-03-01    0.723367\n",
       "2012-04-01   -0.947665\n",
       "2012-05-01   -1.058658\n",
       "Freq: MS, dtype: float64"
      ]
     },
     "execution_count": 25,
     "metadata": {},
     "output_type": "execute_result"
    }
   ],
   "source": [
    "ps.to_timestamp()"
   ]
  },
  {
   "cell_type": "code",
   "execution_count": 26,
   "id": "4e19a8a1",
   "metadata": {
    "execution": {
     "iopub.execute_input": "2024-07-20T18:54:55.805444Z",
     "iopub.status.busy": "2024-07-20T18:54:55.804253Z",
     "iopub.status.idle": "2024-07-20T18:54:55.817184Z",
     "shell.execute_reply": "2024-07-20T18:54:55.816048Z"
    },
    "papermill": {
     "duration": 0.051788,
     "end_time": "2024-07-20T18:54:55.819417",
     "exception": false,
     "start_time": "2024-07-20T18:54:55.767629",
     "status": "completed"
    },
    "tags": []
   },
   "outputs": [
    {
     "data": {
      "text/plain": [
       "1990-03-01 09:00   -0.890295\n",
       "1990-06-01 09:00   -2.364116\n",
       "1990-09-01 09:00    0.976915\n",
       "1990-12-01 09:00   -1.051940\n",
       "1991-03-01 09:00   -1.552272\n",
       "Freq: H, dtype: float64"
      ]
     },
     "execution_count": 26,
     "metadata": {},
     "output_type": "execute_result"
    }
   ],
   "source": [
    "prng = pd.period_range(\"1990Q1\", \"2000Q4\", freq=\"Q-NOV\")\n",
    "ts = pd.Series(np.random.randn(len(prng)), prng)\n",
    "ts.index = (prng.asfreq(\"M\", \"e\") + 1).asfreq(\"H\", \"s\") + 9\n",
    "ts.head()"
   ]
  },
  {
   "cell_type": "code",
   "execution_count": 27,
   "id": "2cb3853d",
   "metadata": {
    "execution": {
     "iopub.execute_input": "2024-07-20T18:54:55.888313Z",
     "iopub.status.busy": "2024-07-20T18:54:55.887896Z",
     "iopub.status.idle": "2024-07-20T18:54:55.900321Z",
     "shell.execute_reply": "2024-07-20T18:54:55.899075Z"
    },
    "papermill": {
     "duration": 0.050414,
     "end_time": "2024-07-20T18:54:55.902799",
     "exception": false,
     "start_time": "2024-07-20T18:54:55.852385",
     "status": "completed"
    },
    "tags": []
   },
   "outputs": [
    {
     "data": {
      "text/html": [
       "<div>\n",
       "<style scoped>\n",
       "    .dataframe tbody tr th:only-of-type {\n",
       "        vertical-align: middle;\n",
       "    }\n",
       "\n",
       "    .dataframe tbody tr th {\n",
       "        vertical-align: top;\n",
       "    }\n",
       "\n",
       "    .dataframe thead th {\n",
       "        text-align: right;\n",
       "    }\n",
       "</style>\n",
       "<table border=\"1\" class=\"dataframe\">\n",
       "  <thead>\n",
       "    <tr style=\"text-align: right;\">\n",
       "      <th></th>\n",
       "      <th>id</th>\n",
       "      <th>raw_grade</th>\n",
       "    </tr>\n",
       "  </thead>\n",
       "  <tbody>\n",
       "    <tr>\n",
       "      <th>0</th>\n",
       "      <td>1</td>\n",
       "      <td>a</td>\n",
       "    </tr>\n",
       "    <tr>\n",
       "      <th>1</th>\n",
       "      <td>2</td>\n",
       "      <td>b</td>\n",
       "    </tr>\n",
       "    <tr>\n",
       "      <th>2</th>\n",
       "      <td>3</td>\n",
       "      <td>b</td>\n",
       "    </tr>\n",
       "    <tr>\n",
       "      <th>3</th>\n",
       "      <td>4</td>\n",
       "      <td>a</td>\n",
       "    </tr>\n",
       "    <tr>\n",
       "      <th>4</th>\n",
       "      <td>5</td>\n",
       "      <td>a</td>\n",
       "    </tr>\n",
       "  </tbody>\n",
       "</table>\n",
       "</div>"
      ],
      "text/plain": [
       "   id raw_grade\n",
       "0   1         a\n",
       "1   2         b\n",
       "2   3         b\n",
       "3   4         a\n",
       "4   5         a"
      ]
     },
     "execution_count": 27,
     "metadata": {},
     "output_type": "execute_result"
    }
   ],
   "source": [
    "df = pd.DataFrame({\"id\": [1, 2, 3, 4, 5, 6], \"raw_grade\": [\"a\", \"b\", \"b\", \"a\", \"a\", \"e\"]})\n",
    "df.head()"
   ]
  },
  {
   "cell_type": "code",
   "execution_count": 28,
   "id": "84f73f37",
   "metadata": {
    "execution": {
     "iopub.execute_input": "2024-07-20T18:54:55.976125Z",
     "iopub.status.busy": "2024-07-20T18:54:55.975218Z",
     "iopub.status.idle": "2024-07-20T18:54:55.985811Z",
     "shell.execute_reply": "2024-07-20T18:54:55.984667Z"
    },
    "papermill": {
     "duration": 0.04916,
     "end_time": "2024-07-20T18:54:55.988236",
     "exception": false,
     "start_time": "2024-07-20T18:54:55.939076",
     "status": "completed"
    },
    "tags": []
   },
   "outputs": [
    {
     "data": {
      "text/plain": [
       "0    a\n",
       "1    b\n",
       "2    b\n",
       "3    a\n",
       "4    a\n",
       "5    e\n",
       "Name: grade, dtype: category\n",
       "Categories (3, object): ['a', 'b', 'e']"
      ]
     },
     "execution_count": 28,
     "metadata": {},
     "output_type": "execute_result"
    }
   ],
   "source": [
    "df[\"grade\"] = df[\"raw_grade\"].astype(\"category\")\n",
    "In [125]: df[\"grade\"]"
   ]
  },
  {
   "cell_type": "code",
   "execution_count": 29,
   "id": "23fc9f55",
   "metadata": {
    "execution": {
     "iopub.execute_input": "2024-07-20T18:54:56.056707Z",
     "iopub.status.busy": "2024-07-20T18:54:56.056323Z",
     "iopub.status.idle": "2024-07-20T18:54:56.063411Z",
     "shell.execute_reply": "2024-07-20T18:54:56.061910Z"
    },
    "papermill": {
     "duration": 0.044955,
     "end_time": "2024-07-20T18:54:56.066693",
     "exception": false,
     "start_time": "2024-07-20T18:54:56.021738",
     "status": "completed"
    },
    "tags": []
   },
   "outputs": [
    {
     "name": "stderr",
     "output_type": "stream",
     "text": [
      "/tmp/ipykernel_20/2985790766.py:1: FutureWarning: Setting categories in-place is deprecated and will raise in a future version. Use rename_categories instead.\n",
      "  df[\"grade\"].cat.categories = [\"very good\", \"good\", \"very bad\"]\n"
     ]
    }
   ],
   "source": [
    "df[\"grade\"].cat.categories = [\"very good\", \"good\", \"very bad\"]"
   ]
  },
  {
   "cell_type": "code",
   "execution_count": 30,
   "id": "45a37813",
   "metadata": {
    "execution": {
     "iopub.execute_input": "2024-07-20T18:54:56.138582Z",
     "iopub.status.busy": "2024-07-20T18:54:56.138177Z",
     "iopub.status.idle": "2024-07-20T18:54:56.148834Z",
     "shell.execute_reply": "2024-07-20T18:54:56.147584Z"
    },
    "papermill": {
     "duration": 0.050473,
     "end_time": "2024-07-20T18:54:56.151802",
     "exception": false,
     "start_time": "2024-07-20T18:54:56.101329",
     "status": "completed"
    },
    "tags": []
   },
   "outputs": [
    {
     "data": {
      "text/plain": [
       "0    very good\n",
       "1         good\n",
       "2         good\n",
       "3    very good\n",
       "4    very good\n",
       "5     very bad\n",
       "Name: grade, dtype: category\n",
       "Categories (5, object): ['very bad', 'bad', 'medium', 'good', 'very good']"
      ]
     },
     "execution_count": 30,
     "metadata": {},
     "output_type": "execute_result"
    }
   ],
   "source": [
    "df[\"grade\"] = df[\"grade\"].cat.set_categories([\"very bad\", \"bad\", \"medium\", \"good\", \"very good\"])\n",
    "\n",
    "df[\"grade\"]"
   ]
  },
  {
   "cell_type": "code",
   "execution_count": 31,
   "id": "f970d4ac",
   "metadata": {
    "execution": {
     "iopub.execute_input": "2024-07-20T18:54:56.229487Z",
     "iopub.status.busy": "2024-07-20T18:54:56.229051Z",
     "iopub.status.idle": "2024-07-20T18:54:56.243481Z",
     "shell.execute_reply": "2024-07-20T18:54:56.242358Z"
    },
    "papermill": {
     "duration": 0.056274,
     "end_time": "2024-07-20T18:54:56.245929",
     "exception": false,
     "start_time": "2024-07-20T18:54:56.189655",
     "status": "completed"
    },
    "tags": []
   },
   "outputs": [
    {
     "data": {
      "text/html": [
       "<div>\n",
       "<style scoped>\n",
       "    .dataframe tbody tr th:only-of-type {\n",
       "        vertical-align: middle;\n",
       "    }\n",
       "\n",
       "    .dataframe tbody tr th {\n",
       "        vertical-align: top;\n",
       "    }\n",
       "\n",
       "    .dataframe thead th {\n",
       "        text-align: right;\n",
       "    }\n",
       "</style>\n",
       "<table border=\"1\" class=\"dataframe\">\n",
       "  <thead>\n",
       "    <tr style=\"text-align: right;\">\n",
       "      <th></th>\n",
       "      <th>id</th>\n",
       "      <th>raw_grade</th>\n",
       "      <th>grade</th>\n",
       "    </tr>\n",
       "  </thead>\n",
       "  <tbody>\n",
       "    <tr>\n",
       "      <th>5</th>\n",
       "      <td>6</td>\n",
       "      <td>e</td>\n",
       "      <td>very bad</td>\n",
       "    </tr>\n",
       "    <tr>\n",
       "      <th>1</th>\n",
       "      <td>2</td>\n",
       "      <td>b</td>\n",
       "      <td>good</td>\n",
       "    </tr>\n",
       "    <tr>\n",
       "      <th>2</th>\n",
       "      <td>3</td>\n",
       "      <td>b</td>\n",
       "      <td>good</td>\n",
       "    </tr>\n",
       "    <tr>\n",
       "      <th>0</th>\n",
       "      <td>1</td>\n",
       "      <td>a</td>\n",
       "      <td>very good</td>\n",
       "    </tr>\n",
       "    <tr>\n",
       "      <th>3</th>\n",
       "      <td>4</td>\n",
       "      <td>a</td>\n",
       "      <td>very good</td>\n",
       "    </tr>\n",
       "    <tr>\n",
       "      <th>4</th>\n",
       "      <td>5</td>\n",
       "      <td>a</td>\n",
       "      <td>very good</td>\n",
       "    </tr>\n",
       "  </tbody>\n",
       "</table>\n",
       "</div>"
      ],
      "text/plain": [
       "   id raw_grade      grade\n",
       "5   6         e   very bad\n",
       "1   2         b       good\n",
       "2   3         b       good\n",
       "0   1         a  very good\n",
       "3   4         a  very good\n",
       "4   5         a  very good"
      ]
     },
     "execution_count": 31,
     "metadata": {},
     "output_type": "execute_result"
    }
   ],
   "source": [
    "df.sort_values(by=\"grade\")"
   ]
  },
  {
   "cell_type": "code",
   "execution_count": 32,
   "id": "aa8e0200",
   "metadata": {
    "execution": {
     "iopub.execute_input": "2024-07-20T18:54:56.317176Z",
     "iopub.status.busy": "2024-07-20T18:54:56.316711Z",
     "iopub.status.idle": "2024-07-20T18:54:56.327170Z",
     "shell.execute_reply": "2024-07-20T18:54:56.325985Z"
    },
    "papermill": {
     "duration": 0.04973,
     "end_time": "2024-07-20T18:54:56.329674",
     "exception": false,
     "start_time": "2024-07-20T18:54:56.279944",
     "status": "completed"
    },
    "tags": []
   },
   "outputs": [
    {
     "data": {
      "text/plain": [
       "grade\n",
       "very bad     1\n",
       "bad          0\n",
       "medium       0\n",
       "good         2\n",
       "very good    3\n",
       "dtype: int64"
      ]
     },
     "execution_count": 32,
     "metadata": {},
     "output_type": "execute_result"
    }
   ],
   "source": [
    "df.groupby(\"grade\").size()"
   ]
  },
  {
   "cell_type": "code",
   "execution_count": 33,
   "id": "2e4f0700",
   "metadata": {
    "execution": {
     "iopub.execute_input": "2024-07-20T18:54:56.401157Z",
     "iopub.status.busy": "2024-07-20T18:54:56.400136Z",
     "iopub.status.idle": "2024-07-20T18:54:56.406002Z",
     "shell.execute_reply": "2024-07-20T18:54:56.404735Z"
    },
    "papermill": {
     "duration": 0.043823,
     "end_time": "2024-07-20T18:54:56.408587",
     "exception": false,
     "start_time": "2024-07-20T18:54:56.364764",
     "status": "completed"
    },
    "tags": []
   },
   "outputs": [],
   "source": [
    "import matplotlib.pyplot as plt\n",
    "plt.close(\"all\")"
   ]
  },
  {
   "cell_type": "code",
   "execution_count": 34,
   "id": "c36cd89e",
   "metadata": {
    "execution": {
     "iopub.execute_input": "2024-07-20T18:54:56.484507Z",
     "iopub.status.busy": "2024-07-20T18:54:56.484098Z",
     "iopub.status.idle": "2024-07-20T18:54:56.864529Z",
     "shell.execute_reply": "2024-07-20T18:54:56.863312Z"
    },
    "papermill": {
     "duration": 0.423297,
     "end_time": "2024-07-20T18:54:56.867173",
     "exception": false,
     "start_time": "2024-07-20T18:54:56.443876",
     "status": "completed"
    },
    "tags": []
   },
   "outputs": [
    {
     "data": {
      "image/png": "[encoded data removed]",
      "text/plain": [
       "<Figure size 640x480 with 1 Axes>"
      ]
     },
     "metadata": {},
     "output_type": "display_data"
    }
   ],
   "source": [
    "ts = pd.Series(np.random.randn(1000), index=pd.date_range(\"1/1/2000\",periods=1000))\n",
    "ts = ts.cumsum()\n",
    "ts.plot();"
   ]
  },
  {
   "cell_type": "code",
   "execution_count": 35,
   "id": "8260ef2e",
   "metadata": {
    "execution": {
     "iopub.execute_input": "2024-07-20T18:54:56.939042Z",
     "iopub.status.busy": "2024-07-20T18:54:56.938166Z",
     "iopub.status.idle": "2024-07-20T18:54:57.555794Z",
     "shell.execute_reply": "2024-07-20T18:54:57.554620Z"
    },
    "papermill": {
     "duration": 0.656686,
     "end_time": "2024-07-20T18:54:57.558399",
     "exception": false,
     "start_time": "2024-07-20T18:54:56.901713",
     "status": "completed"
    },
    "tags": []
   },
   "outputs": [
    {
     "data": {
      "text/plain": [
       "<Figure size 640x480 with 0 Axes>"
      ]
     },
     "metadata": {},
     "output_type": "display_data"
    },
    {
     "data": {
      "image/png": "[encoded data removed]",
      "text/plain": [
       "<Figure size 640x480 with 1 Axes>"
      ]
     },
     "metadata": {},
     "output_type": "display_data"
    }
   ],
   "source": [
    "df = pd.DataFrame(np.random.randn(1000, 4), index=ts.index, columns=[\"A\", \"B\", \"C\", \"D\"])\n",
    "df = df.cumsum()\n",
    "plt.figure();\n",
    "df.plot();\n",
    "plt.legend(loc='best');"
   ]
  },
  {
   "cell_type": "code",
   "execution_count": 36,
   "id": "822e65eb",
   "metadata": {
    "execution": {
     "iopub.execute_input": "2024-07-20T18:54:57.634959Z",
     "iopub.status.busy": "2024-07-20T18:54:57.634558Z",
     "iopub.status.idle": "2024-07-20T18:54:57.669526Z",
     "shell.execute_reply": "2024-07-20T18:54:57.668235Z"
    },
    "papermill": {
     "duration": 0.077857,
     "end_time": "2024-07-20T18:54:57.672260",
     "exception": false,
     "start_time": "2024-07-20T18:54:57.594403",
     "status": "completed"
    },
    "tags": []
   },
   "outputs": [
    {
     "data": {
      "text/html": [
       "<div>\n",
       "<style scoped>\n",
       "    .dataframe tbody tr th:only-of-type {\n",
       "        vertical-align: middle;\n",
       "    }\n",
       "\n",
       "    .dataframe tbody tr th {\n",
       "        vertical-align: top;\n",
       "    }\n",
       "\n",
       "    .dataframe thead th {\n",
       "        text-align: right;\n",
       "    }\n",
       "</style>\n",
       "<table border=\"1\" class=\"dataframe\">\n",
       "  <thead>\n",
       "    <tr style=\"text-align: right;\">\n",
       "      <th></th>\n",
       "      <th>Unnamed: 0</th>\n",
       "      <th>A</th>\n",
       "      <th>B</th>\n",
       "      <th>C</th>\n",
       "      <th>D</th>\n",
       "    </tr>\n",
       "  </thead>\n",
       "  <tbody>\n",
       "    <tr>\n",
       "      <th>0</th>\n",
       "      <td>2000-01-01</td>\n",
       "      <td>0.115798</td>\n",
       "      <td>1.342987</td>\n",
       "      <td>-1.762367</td>\n",
       "      <td>-0.531869</td>\n",
       "    </tr>\n",
       "    <tr>\n",
       "      <th>1</th>\n",
       "      <td>2000-01-02</td>\n",
       "      <td>-0.843187</td>\n",
       "      <td>0.937486</td>\n",
       "      <td>-1.903901</td>\n",
       "      <td>0.548560</td>\n",
       "    </tr>\n",
       "    <tr>\n",
       "      <th>2</th>\n",
       "      <td>2000-01-03</td>\n",
       "      <td>-1.734581</td>\n",
       "      <td>0.501802</td>\n",
       "      <td>-3.882135</td>\n",
       "      <td>0.523417</td>\n",
       "    </tr>\n",
       "    <tr>\n",
       "      <th>3</th>\n",
       "      <td>2000-01-04</td>\n",
       "      <td>-1.896296</td>\n",
       "      <td>0.286051</td>\n",
       "      <td>-3.039623</td>\n",
       "      <td>-0.076931</td>\n",
       "    </tr>\n",
       "    <tr>\n",
       "      <th>4</th>\n",
       "      <td>2000-01-05</td>\n",
       "      <td>-1.856498</td>\n",
       "      <td>0.353754</td>\n",
       "      <td>-3.117196</td>\n",
       "      <td>0.694536</td>\n",
       "    </tr>\n",
       "    <tr>\n",
       "      <th>...</th>\n",
       "      <td>...</td>\n",
       "      <td>...</td>\n",
       "      <td>...</td>\n",
       "      <td>...</td>\n",
       "      <td>...</td>\n",
       "    </tr>\n",
       "    <tr>\n",
       "      <th>995</th>\n",
       "      <td>2002-09-22</td>\n",
       "      <td>-60.953215</td>\n",
       "      <td>1.803217</td>\n",
       "      <td>20.177934</td>\n",
       "      <td>40.833027</td>\n",
       "    </tr>\n",
       "    <tr>\n",
       "      <th>996</th>\n",
       "      <td>2002-09-23</td>\n",
       "      <td>-59.861464</td>\n",
       "      <td>2.935109</td>\n",
       "      <td>19.347777</td>\n",
       "      <td>40.487630</td>\n",
       "    </tr>\n",
       "    <tr>\n",
       "      <th>997</th>\n",
       "      <td>2002-09-24</td>\n",
       "      <td>-60.816954</td>\n",
       "      <td>3.746188</td>\n",
       "      <td>18.223747</td>\n",
       "      <td>41.848614</td>\n",
       "    </tr>\n",
       "    <tr>\n",
       "      <th>998</th>\n",
       "      <td>2002-09-25</td>\n",
       "      <td>-60.144360</td>\n",
       "      <td>4.719265</td>\n",
       "      <td>18.509990</td>\n",
       "      <td>42.081331</td>\n",
       "    </tr>\n",
       "    <tr>\n",
       "      <th>999</th>\n",
       "      <td>2002-09-26</td>\n",
       "      <td>-61.305038</td>\n",
       "      <td>4.701173</td>\n",
       "      <td>18.925438</td>\n",
       "      <td>43.503352</td>\n",
       "    </tr>\n",
       "  </tbody>\n",
       "</table>\n",
       "<p>1000 rows × 5 columns</p>\n",
       "</div>"
      ],
      "text/plain": [
       "     Unnamed: 0          A         B          C          D\n",
       "0    2000-01-01   0.115798  1.342987  -1.762367  -0.531869\n",
       "1    2000-01-02  -0.843187  0.937486  -1.903901   0.548560\n",
       "2    2000-01-03  -1.734581  0.501802  -3.882135   0.523417\n",
       "3    2000-01-04  -1.896296  0.286051  -3.039623  -0.076931\n",
       "4    2000-01-05  -1.856498  0.353754  -3.117196   0.694536\n",
       "..          ...        ...       ...        ...        ...\n",
       "995  2002-09-22 -60.953215  1.803217  20.177934  40.833027\n",
       "996  2002-09-23 -59.861464  2.935109  19.347777  40.487630\n",
       "997  2002-09-24 -60.816954  3.746188  18.223747  41.848614\n",
       "998  2002-09-25 -60.144360  4.719265  18.509990  42.081331\n",
       "999  2002-09-26 -61.305038  4.701173  18.925438  43.503352\n",
       "\n",
       "[1000 rows x 5 columns]"
      ]
     },
     "execution_count": 36,
     "metadata": {},
     "output_type": "execute_result"
    }
   ],
   "source": [
    "df.to_csv(\"foo.csv\")\n",
    "pd.read_csv(\"foo.csv\")"
   ]
  },
  {
   "cell_type": "code",
   "execution_count": 37,
   "id": "944f280a",
   "metadata": {
    "execution": {
     "iopub.execute_input": "2024-07-20T18:54:57.761236Z",
     "iopub.status.busy": "2024-07-20T18:54:57.759785Z",
     "iopub.status.idle": "2024-07-20T18:54:57.993436Z",
     "shell.execute_reply": "2024-07-20T18:54:57.992220Z"
    },
    "papermill": {
     "duration": 0.286376,
     "end_time": "2024-07-20T18:54:57.996044",
     "exception": false,
     "start_time": "2024-07-20T18:54:57.709668",
     "status": "completed"
    },
    "tags": []
   },
   "outputs": [
    {
     "data": {
      "text/html": [
       "<div>\n",
       "<style scoped>\n",
       "    .dataframe tbody tr th:only-of-type {\n",
       "        vertical-align: middle;\n",
       "    }\n",
       "\n",
       "    .dataframe tbody tr th {\n",
       "        vertical-align: top;\n",
       "    }\n",
       "\n",
       "    .dataframe thead th {\n",
       "        text-align: right;\n",
       "    }\n",
       "</style>\n",
       "<table border=\"1\" class=\"dataframe\">\n",
       "  <thead>\n",
       "    <tr style=\"text-align: right;\">\n",
       "      <th></th>\n",
       "      <th>A</th>\n",
       "      <th>B</th>\n",
       "      <th>C</th>\n",
       "      <th>D</th>\n",
       "    </tr>\n",
       "  </thead>\n",
       "  <tbody>\n",
       "    <tr>\n",
       "      <th>2000-01-01</th>\n",
       "      <td>0.115798</td>\n",
       "      <td>1.342987</td>\n",
       "      <td>-1.762367</td>\n",
       "      <td>-0.531869</td>\n",
       "    </tr>\n",
       "    <tr>\n",
       "      <th>2000-01-02</th>\n",
       "      <td>-0.843187</td>\n",
       "      <td>0.937486</td>\n",
       "      <td>-1.903901</td>\n",
       "      <td>0.548560</td>\n",
       "    </tr>\n",
       "    <tr>\n",
       "      <th>2000-01-03</th>\n",
       "      <td>-1.734581</td>\n",
       "      <td>0.501802</td>\n",
       "      <td>-3.882135</td>\n",
       "      <td>0.523417</td>\n",
       "    </tr>\n",
       "    <tr>\n",
       "      <th>2000-01-04</th>\n",
       "      <td>-1.896296</td>\n",
       "      <td>0.286051</td>\n",
       "      <td>-3.039623</td>\n",
       "      <td>-0.076931</td>\n",
       "    </tr>\n",
       "    <tr>\n",
       "      <th>2000-01-05</th>\n",
       "      <td>-1.856498</td>\n",
       "      <td>0.353754</td>\n",
       "      <td>-3.117196</td>\n",
       "      <td>0.694536</td>\n",
       "    </tr>\n",
       "    <tr>\n",
       "      <th>...</th>\n",
       "      <td>...</td>\n",
       "      <td>...</td>\n",
       "      <td>...</td>\n",
       "      <td>...</td>\n",
       "    </tr>\n",
       "    <tr>\n",
       "      <th>2002-09-22</th>\n",
       "      <td>-60.953215</td>\n",
       "      <td>1.803217</td>\n",
       "      <td>20.177934</td>\n",
       "      <td>40.833027</td>\n",
       "    </tr>\n",
       "    <tr>\n",
       "      <th>2002-09-23</th>\n",
       "      <td>-59.861464</td>\n",
       "      <td>2.935109</td>\n",
       "      <td>19.347777</td>\n",
       "      <td>40.487630</td>\n",
       "    </tr>\n",
       "    <tr>\n",
       "      <th>2002-09-24</th>\n",
       "      <td>-60.816954</td>\n",
       "      <td>3.746188</td>\n",
       "      <td>18.223747</td>\n",
       "      <td>41.848614</td>\n",
       "    </tr>\n",
       "    <tr>\n",
       "      <th>2002-09-25</th>\n",
       "      <td>-60.144360</td>\n",
       "      <td>4.719265</td>\n",
       "      <td>18.509990</td>\n",
       "      <td>42.081331</td>\n",
       "    </tr>\n",
       "    <tr>\n",
       "      <th>2002-09-26</th>\n",
       "      <td>-61.305038</td>\n",
       "      <td>4.701173</td>\n",
       "      <td>18.925438</td>\n",
       "      <td>43.503352</td>\n",
       "    </tr>\n",
       "  </tbody>\n",
       "</table>\n",
       "<p>1000 rows × 4 columns</p>\n",
       "</div>"
      ],
      "text/plain": [
       "                    A         B          C          D\n",
       "2000-01-01   0.115798  1.342987  -1.762367  -0.531869\n",
       "2000-01-02  -0.843187  0.937486  -1.903901   0.548560\n",
       "2000-01-03  -1.734581  0.501802  -3.882135   0.523417\n",
       "2000-01-04  -1.896296  0.286051  -3.039623  -0.076931\n",
       "2000-01-05  -1.856498  0.353754  -3.117196   0.694536\n",
       "...               ...       ...        ...        ...\n",
       "2002-09-22 -60.953215  1.803217  20.177934  40.833027\n",
       "2002-09-23 -59.861464  2.935109  19.347777  40.487630\n",
       "2002-09-24 -60.816954  3.746188  18.223747  41.848614\n",
       "2002-09-25 -60.144360  4.719265  18.509990  42.081331\n",
       "2002-09-26 -61.305038  4.701173  18.925438  43.503352\n",
       "\n",
       "[1000 rows x 4 columns]"
      ]
     },
     "execution_count": 37,
     "metadata": {},
     "output_type": "execute_result"
    }
   ],
   "source": [
    "df.to_hdf(\"foo.h5\", \"df\")\n",
    "pd.read_hdf(\"foo.h5\", \"df\")"
   ]
  },
  {
   "cell_type": "code",
   "execution_count": 38,
   "id": "6bea094b",
   "metadata": {
    "execution": {
     "iopub.execute_input": "2024-07-20T18:54:58.073410Z",
     "iopub.status.busy": "2024-07-20T18:54:58.072926Z",
     "iopub.status.idle": "2024-07-20T18:54:58.792892Z",
     "shell.execute_reply": "2024-07-20T18:54:58.791778Z"
    },
    "papermill": {
     "duration": 0.761266,
     "end_time": "2024-07-20T18:54:58.795272",
     "exception": false,
     "start_time": "2024-07-20T18:54:58.034006",
     "status": "completed"
    },
    "tags": []
   },
   "outputs": [
    {
     "data": {
      "text/html": [
       "<div>\n",
       "<style scoped>\n",
       "    .dataframe tbody tr th:only-of-type {\n",
       "        vertical-align: middle;\n",
       "    }\n",
       "\n",
       "    .dataframe tbody tr th {\n",
       "        vertical-align: top;\n",
       "    }\n",
       "\n",
       "    .dataframe thead th {\n",
       "        text-align: right;\n",
       "    }\n",
       "</style>\n",
       "<table border=\"1\" class=\"dataframe\">\n",
       "  <thead>\n",
       "    <tr style=\"text-align: right;\">\n",
       "      <th></th>\n",
       "      <th>Unnamed: 0</th>\n",
       "      <th>A</th>\n",
       "      <th>B</th>\n",
       "      <th>C</th>\n",
       "      <th>D</th>\n",
       "    </tr>\n",
       "  </thead>\n",
       "  <tbody>\n",
       "    <tr>\n",
       "      <th>0</th>\n",
       "      <td>2000-01-01</td>\n",
       "      <td>0.115798</td>\n",
       "      <td>1.342987</td>\n",
       "      <td>-1.762367</td>\n",
       "      <td>-0.531869</td>\n",
       "    </tr>\n",
       "    <tr>\n",
       "      <th>1</th>\n",
       "      <td>2000-01-02</td>\n",
       "      <td>-0.843187</td>\n",
       "      <td>0.937486</td>\n",
       "      <td>-1.903901</td>\n",
       "      <td>0.548560</td>\n",
       "    </tr>\n",
       "    <tr>\n",
       "      <th>2</th>\n",
       "      <td>2000-01-03</td>\n",
       "      <td>-1.734581</td>\n",
       "      <td>0.501802</td>\n",
       "      <td>-3.882135</td>\n",
       "      <td>0.523417</td>\n",
       "    </tr>\n",
       "    <tr>\n",
       "      <th>3</th>\n",
       "      <td>2000-01-04</td>\n",
       "      <td>-1.896296</td>\n",
       "      <td>0.286051</td>\n",
       "      <td>-3.039623</td>\n",
       "      <td>-0.076931</td>\n",
       "    </tr>\n",
       "    <tr>\n",
       "      <th>4</th>\n",
       "      <td>2000-01-05</td>\n",
       "      <td>-1.856498</td>\n",
       "      <td>0.353754</td>\n",
       "      <td>-3.117196</td>\n",
       "      <td>0.694536</td>\n",
       "    </tr>\n",
       "    <tr>\n",
       "      <th>...</th>\n",
       "      <td>...</td>\n",
       "      <td>...</td>\n",
       "      <td>...</td>\n",
       "      <td>...</td>\n",
       "      <td>...</td>\n",
       "    </tr>\n",
       "    <tr>\n",
       "      <th>995</th>\n",
       "      <td>2002-09-22</td>\n",
       "      <td>-60.953215</td>\n",
       "      <td>1.803217</td>\n",
       "      <td>20.177934</td>\n",
       "      <td>40.833027</td>\n",
       "    </tr>\n",
       "    <tr>\n",
       "      <th>996</th>\n",
       "      <td>2002-09-23</td>\n",
       "      <td>-59.861464</td>\n",
       "      <td>2.935109</td>\n",
       "      <td>19.347777</td>\n",
       "      <td>40.487630</td>\n",
       "    </tr>\n",
       "    <tr>\n",
       "      <th>997</th>\n",
       "      <td>2002-09-24</td>\n",
       "      <td>-60.816954</td>\n",
       "      <td>3.746188</td>\n",
       "      <td>18.223747</td>\n",
       "      <td>41.848614</td>\n",
       "    </tr>\n",
       "    <tr>\n",
       "      <th>998</th>\n",
       "      <td>2002-09-25</td>\n",
       "      <td>-60.144360</td>\n",
       "      <td>4.719265</td>\n",
       "      <td>18.509990</td>\n",
       "      <td>42.081331</td>\n",
       "    </tr>\n",
       "    <tr>\n",
       "      <th>999</th>\n",
       "      <td>2002-09-26</td>\n",
       "      <td>-61.305038</td>\n",
       "      <td>4.701173</td>\n",
       "      <td>18.925438</td>\n",
       "      <td>43.503352</td>\n",
       "    </tr>\n",
       "  </tbody>\n",
       "</table>\n",
       "<p>1000 rows × 5 columns</p>\n",
       "</div>"
      ],
      "text/plain": [
       "    Unnamed: 0          A         B          C          D\n",
       "0   2000-01-01   0.115798  1.342987  -1.762367  -0.531869\n",
       "1   2000-01-02  -0.843187  0.937486  -1.903901   0.548560\n",
       "2   2000-01-03  -1.734581  0.501802  -3.882135   0.523417\n",
       "3   2000-01-04  -1.896296  0.286051  -3.039623  -0.076931\n",
       "4   2000-01-05  -1.856498  0.353754  -3.117196   0.694536\n",
       "..         ...        ...       ...        ...        ...\n",
       "995 2002-09-22 -60.953215  1.803217  20.177934  40.833027\n",
       "996 2002-09-23 -59.861464  2.935109  19.347777  40.487630\n",
       "997 2002-09-24 -60.816954  3.746188  18.223747  41.848614\n",
       "998 2002-09-25 -60.144360  4.719265  18.509990  42.081331\n",
       "999 2002-09-26 -61.305038  4.701173  18.925438  43.503352\n",
       "\n",
       "[1000 rows x 5 columns]"
      ]
     },
     "execution_count": 38,
     "metadata": {},
     "output_type": "execute_result"
    }
   ],
   "source": [
    "df.to_excel(\"foo.xlsx\", sheet_name=\"Sheet1\")\n",
    "pd.read_excel(\"foo.xlsx\", \"Sheet1\", index_col=None, na_values=[\"NA\"])"
   ]
  },
  {
   "cell_type": "code",
   "execution_count": 39,
   "id": "32066626",
   "metadata": {
    "execution": {
     "iopub.execute_input": "2024-07-20T18:54:58.871763Z",
     "iopub.status.busy": "2024-07-20T18:54:58.871122Z",
     "iopub.status.idle": "2024-07-20T18:54:58.881334Z",
     "shell.execute_reply": "2024-07-20T18:54:58.879770Z"
    },
    "papermill": {
     "duration": 0.051967,
     "end_time": "2024-07-20T18:54:58.884463",
     "exception": false,
     "start_time": "2024-07-20T18:54:58.832496",
     "status": "completed"
    },
    "tags": []
   },
   "outputs": [
    {
     "data": {
      "text/plain": [
       "a    0.940277\n",
       "b   -2.003233\n",
       "c   -0.369212\n",
       "d   -0.834211\n",
       "e    1.183209\n",
       "dtype: float64"
      ]
     },
     "execution_count": 39,
     "metadata": {},
     "output_type": "execute_result"
    }
   ],
   "source": [
    "s = pd.Series(np.random.randn(5), index=[\"a\", \"b\", \"c\", \"d\", \"e\"])\n",
    "s"
   ]
  },
  {
   "cell_type": "code",
   "execution_count": 40,
   "id": "6801df0d",
   "metadata": {
    "execution": {
     "iopub.execute_input": "2024-07-20T18:54:58.960439Z",
     "iopub.status.busy": "2024-07-20T18:54:58.959253Z",
     "iopub.status.idle": "2024-07-20T18:54:58.968108Z",
     "shell.execute_reply": "2024-07-20T18:54:58.967036Z"
    },
    "papermill": {
     "duration": 0.049895,
     "end_time": "2024-07-20T18:54:58.971110",
     "exception": false,
     "start_time": "2024-07-20T18:54:58.921215",
     "status": "completed"
    },
    "tags": []
   },
   "outputs": [
    {
     "data": {
      "text/plain": [
       "b    1\n",
       "a    0\n",
       "c    2\n",
       "dtype: int64"
      ]
     },
     "execution_count": 40,
     "metadata": {},
     "output_type": "execute_result"
    }
   ],
   "source": [
    "d = {\"b\": 1, \"a\": 0, \"c\": 2}\n",
    "pd.Series(d)"
   ]
  },
  {
   "cell_type": "code",
   "execution_count": 41,
   "id": "ce295395",
   "metadata": {
    "execution": {
     "iopub.execute_input": "2024-07-20T18:54:59.046714Z",
     "iopub.status.busy": "2024-07-20T18:54:59.046312Z",
     "iopub.status.idle": "2024-07-20T18:54:59.055250Z",
     "shell.execute_reply": "2024-07-20T18:54:59.054097Z"
    },
    "papermill": {
     "duration": 0.049474,
     "end_time": "2024-07-20T18:54:59.057651",
     "exception": false,
     "start_time": "2024-07-20T18:54:59.008177",
     "status": "completed"
    },
    "tags": []
   },
   "outputs": [
    {
     "data": {
      "text/plain": [
       "a    0.0\n",
       "b    1.0\n",
       "c    2.0\n",
       "dtype: float64"
      ]
     },
     "execution_count": 41,
     "metadata": {},
     "output_type": "execute_result"
    }
   ],
   "source": [
    "d = {\"a\": 0.0, \"b\": 1.0, \"c\": 2.0}\n",
    "pd.Series(d)"
   ]
  },
  {
   "cell_type": "code",
   "execution_count": 42,
   "id": "4ca52b24",
   "metadata": {
    "execution": {
     "iopub.execute_input": "2024-07-20T18:54:59.134172Z",
     "iopub.status.busy": "2024-07-20T18:54:59.133760Z",
     "iopub.status.idle": "2024-07-20T18:54:59.143915Z",
     "shell.execute_reply": "2024-07-20T18:54:59.142552Z"
    },
    "papermill": {
     "duration": 0.052247,
     "end_time": "2024-07-20T18:54:59.147077",
     "exception": false,
     "start_time": "2024-07-20T18:54:59.094830",
     "status": "completed"
    },
    "tags": []
   },
   "outputs": [
    {
     "data": {
      "text/plain": [
       "b    1.0\n",
       "c    2.0\n",
       "d    NaN\n",
       "a    0.0\n",
       "dtype: float64"
      ]
     },
     "execution_count": 42,
     "metadata": {},
     "output_type": "execute_result"
    }
   ],
   "source": [
    "pd.Series(d, index=[\"b\", \"c\", \"d\", \"a\"])"
   ]
  },
  {
   "cell_type": "code",
   "execution_count": 43,
   "id": "61f9d592",
   "metadata": {
    "execution": {
     "iopub.execute_input": "2024-07-20T18:54:59.227090Z",
     "iopub.status.busy": "2024-07-20T18:54:59.226693Z",
     "iopub.status.idle": "2024-07-20T18:54:59.236507Z",
     "shell.execute_reply": "2024-07-20T18:54:59.235211Z"
    },
    "papermill": {
     "duration": 0.051449,
     "end_time": "2024-07-20T18:54:59.238848",
     "exception": false,
     "start_time": "2024-07-20T18:54:59.187399",
     "status": "completed"
    },
    "tags": []
   },
   "outputs": [
    {
     "data": {
      "text/plain": [
       "a    5.0\n",
       "b    5.0\n",
       "c    5.0\n",
       "d    5.0\n",
       "e    5.0\n",
       "dtype: float64"
      ]
     },
     "execution_count": 43,
     "metadata": {},
     "output_type": "execute_result"
    }
   ],
   "source": [
    "pd.Series(5.0, index=[\"a\", \"b\", \"c\", \"d\", \"e\"])"
   ]
  },
  {
   "cell_type": "code",
   "execution_count": 44,
   "id": "51023582",
   "metadata": {
    "execution": {
     "iopub.execute_input": "2024-07-20T18:54:59.317840Z",
     "iopub.status.busy": "2024-07-20T18:54:59.317425Z",
     "iopub.status.idle": "2024-07-20T18:54:59.324636Z",
     "shell.execute_reply": "2024-07-20T18:54:59.323503Z"
    },
    "papermill": {
     "duration": 0.050599,
     "end_time": "2024-07-20T18:54:59.326871",
     "exception": false,
     "start_time": "2024-07-20T18:54:59.276272",
     "status": "completed"
    },
    "tags": []
   },
   "outputs": [
    {
     "data": {
      "text/plain": [
       "0.9402771424395787"
      ]
     },
     "execution_count": 44,
     "metadata": {},
     "output_type": "execute_result"
    }
   ],
   "source": [
    "s[0]"
   ]
  },
  {
   "cell_type": "code",
   "execution_count": 45,
   "id": "c4550225",
   "metadata": {
    "execution": {
     "iopub.execute_input": "2024-07-20T18:54:59.403718Z",
     "iopub.status.busy": "2024-07-20T18:54:59.403267Z",
     "iopub.status.idle": "2024-07-20T18:54:59.411426Z",
     "shell.execute_reply": "2024-07-20T18:54:59.410297Z"
    },
    "papermill": {
     "duration": 0.04925,
     "end_time": "2024-07-20T18:54:59.413681",
     "exception": false,
     "start_time": "2024-07-20T18:54:59.364431",
     "status": "completed"
    },
    "tags": []
   },
   "outputs": [
    {
     "data": {
      "text/plain": [
       "a    0.940277\n",
       "b   -2.003233\n",
       "c   -0.369212\n",
       "dtype: float64"
      ]
     },
     "execution_count": 45,
     "metadata": {},
     "output_type": "execute_result"
    }
   ],
   "source": [
    "s[:3]"
   ]
  },
  {
   "cell_type": "code",
   "execution_count": 46,
   "id": "f57436f0",
   "metadata": {
    "execution": {
     "iopub.execute_input": "2024-07-20T18:54:59.495528Z",
     "iopub.status.busy": "2024-07-20T18:54:59.495121Z",
     "iopub.status.idle": "2024-07-20T18:54:59.506966Z",
     "shell.execute_reply": "2024-07-20T18:54:59.505392Z"
    },
    "papermill": {
     "duration": 0.058814,
     "end_time": "2024-07-20T18:54:59.510056",
     "exception": false,
     "start_time": "2024-07-20T18:54:59.451242",
     "status": "completed"
    },
    "tags": []
   },
   "outputs": [
    {
     "data": {
      "text/plain": [
       "a    0.940277\n",
       "e    1.183209\n",
       "dtype: float64"
      ]
     },
     "execution_count": 46,
     "metadata": {},
     "output_type": "execute_result"
    }
   ],
   "source": [
    "s[s > s.median()]"
   ]
  },
  {
   "cell_type": "code",
   "execution_count": 47,
   "id": "ba576a70",
   "metadata": {
    "execution": {
     "iopub.execute_input": "2024-07-20T18:54:59.590421Z",
     "iopub.status.busy": "2024-07-20T18:54:59.589987Z",
     "iopub.status.idle": "2024-07-20T18:54:59.599490Z",
     "shell.execute_reply": "2024-07-20T18:54:59.598119Z"
    },
    "papermill": {
     "duration": 0.052783,
     "end_time": "2024-07-20T18:54:59.601841",
     "exception": false,
     "start_time": "2024-07-20T18:54:59.549058",
     "status": "completed"
    },
    "tags": []
   },
   "outputs": [
    {
     "data": {
      "text/plain": [
       "e    1.183209\n",
       "d   -0.834211\n",
       "b   -2.003233\n",
       "dtype: float64"
      ]
     },
     "execution_count": 47,
     "metadata": {},
     "output_type": "execute_result"
    }
   ],
   "source": [
    "s[[4, 3, 1]]"
   ]
  },
  {
   "cell_type": "code",
   "execution_count": 48,
   "id": "b5e5f11d",
   "metadata": {
    "execution": {
     "iopub.execute_input": "2024-07-20T18:54:59.684679Z",
     "iopub.status.busy": "2024-07-20T18:54:59.684250Z",
     "iopub.status.idle": "2024-07-20T18:54:59.693139Z",
     "shell.execute_reply": "2024-07-20T18:54:59.691944Z"
    },
    "papermill": {
     "duration": 0.053071,
     "end_time": "2024-07-20T18:54:59.695680",
     "exception": false,
     "start_time": "2024-07-20T18:54:59.642609",
     "status": "completed"
    },
    "tags": []
   },
   "outputs": [
    {
     "data": {
      "text/plain": [
       "a    2.560691\n",
       "b    0.134898\n",
       "c    0.691279\n",
       "d    0.434217\n",
       "e    3.264834\n",
       "dtype: float64"
      ]
     },
     "execution_count": 48,
     "metadata": {},
     "output_type": "execute_result"
    }
   ],
   "source": [
    "np.exp(s)"
   ]
  },
  {
   "cell_type": "code",
   "execution_count": 49,
   "id": "8a4a895a",
   "metadata": {
    "execution": {
     "iopub.execute_input": "2024-07-20T18:54:59.776543Z",
     "iopub.status.busy": "2024-07-20T18:54:59.775604Z",
     "iopub.status.idle": "2024-07-20T18:54:59.784633Z",
     "shell.execute_reply": "2024-07-20T18:54:59.782951Z"
    },
    "papermill": {
     "duration": 0.054565,
     "end_time": "2024-07-20T18:54:59.787978",
     "exception": false,
     "start_time": "2024-07-20T18:54:59.733413",
     "status": "completed"
    },
    "tags": []
   },
   "outputs": [
    {
     "data": {
      "text/plain": [
       "<PandasArray>\n",
       "[ 0.9402771424395787, -2.0032334122765687,  -0.369211802449559,\n",
       " -0.8342109639916006,   1.183208990570327]\n",
       "Length: 5, dtype: float64"
      ]
     },
     "execution_count": 49,
     "metadata": {},
     "output_type": "execute_result"
    }
   ],
   "source": [
    "s.array"
   ]
  },
  {
   "cell_type": "code",
   "execution_count": 50,
   "id": "ad272369",
   "metadata": {
    "execution": {
     "iopub.execute_input": "2024-07-20T18:54:59.866952Z",
     "iopub.status.busy": "2024-07-20T18:54:59.865854Z",
     "iopub.status.idle": "2024-07-20T18:54:59.874220Z",
     "shell.execute_reply": "2024-07-20T18:54:59.872987Z"
    },
    "papermill": {
     "duration": 0.050376,
     "end_time": "2024-07-20T18:54:59.876624",
     "exception": false,
     "start_time": "2024-07-20T18:54:59.826248",
     "status": "completed"
    },
    "tags": []
   },
   "outputs": [
    {
     "data": {
      "text/plain": [
       "array([ 0.94027714, -2.00323341, -0.3692118 , -0.83421096,  1.18320899])"
      ]
     },
     "execution_count": 50,
     "metadata": {},
     "output_type": "execute_result"
    }
   ],
   "source": [
    "s.to_numpy()"
   ]
  },
  {
   "cell_type": "code",
   "execution_count": 51,
   "id": "861e965a",
   "metadata": {
    "execution": {
     "iopub.execute_input": "2024-07-20T18:55:00.024475Z",
     "iopub.status.busy": "2024-07-20T18:55:00.023808Z",
     "iopub.status.idle": "2024-07-20T18:55:00.031471Z",
     "shell.execute_reply": "2024-07-20T18:55:00.030193Z"
    },
    "papermill": {
     "duration": 0.117162,
     "end_time": "2024-07-20T18:55:00.033850",
     "exception": false,
     "start_time": "2024-07-20T18:54:59.916688",
     "status": "completed"
    },
    "tags": []
   },
   "outputs": [
    {
     "data": {
      "text/plain": [
       "0.9402771424395787"
      ]
     },
     "execution_count": 51,
     "metadata": {},
     "output_type": "execute_result"
    }
   ],
   "source": [
    "s[\"a\"]"
   ]
  },
  {
   "cell_type": "code",
   "execution_count": 52,
   "id": "0ff92616",
   "metadata": {
    "execution": {
     "iopub.execute_input": "2024-07-20T18:55:00.113703Z",
     "iopub.status.busy": "2024-07-20T18:55:00.113296Z",
     "iopub.status.idle": "2024-07-20T18:55:00.122299Z",
     "shell.execute_reply": "2024-07-20T18:55:00.121133Z"
    },
    "papermill": {
     "duration": 0.052739,
     "end_time": "2024-07-20T18:55:00.125375",
     "exception": false,
     "start_time": "2024-07-20T18:55:00.072636",
     "status": "completed"
    },
    "tags": []
   },
   "outputs": [
    {
     "data": {
      "text/plain": [
       "a     0.940277\n",
       "b    -2.003233\n",
       "c    -0.369212\n",
       "d    -0.834211\n",
       "e    12.000000\n",
       "dtype: float64"
      ]
     },
     "execution_count": 52,
     "metadata": {},
     "output_type": "execute_result"
    }
   ],
   "source": [
    "s[\"e\"] = 12.0\n",
    "s"
   ]
  },
  {
   "cell_type": "code",
   "execution_count": 53,
   "id": "96e94045",
   "metadata": {
    "execution": {
     "iopub.execute_input": "2024-07-20T18:55:00.206987Z",
     "iopub.status.busy": "2024-07-20T18:55:00.206556Z",
     "iopub.status.idle": "2024-07-20T18:55:00.215571Z",
     "shell.execute_reply": "2024-07-20T18:55:00.214379Z"
    },
    "papermill": {
     "duration": 0.052968,
     "end_time": "2024-07-20T18:55:00.218113",
     "exception": false,
     "start_time": "2024-07-20T18:55:00.165145",
     "status": "completed"
    },
    "tags": []
   },
   "outputs": [
    {
     "data": {
      "text/plain": [
       "a         2.560691\n",
       "b         0.134898\n",
       "c         0.691279\n",
       "d         0.434217\n",
       "e    162754.791419\n",
       "dtype: float64"
      ]
     },
     "execution_count": 53,
     "metadata": {},
     "output_type": "execute_result"
    }
   ],
   "source": [
    "np.exp(s)"
   ]
  },
  {
   "cell_type": "code",
   "execution_count": 54,
   "id": "23d2e8e8",
   "metadata": {
    "execution": {
     "iopub.execute_input": "2024-07-20T18:55:00.299141Z",
     "iopub.status.busy": "2024-07-20T18:55:00.298709Z",
     "iopub.status.idle": "2024-07-20T18:55:00.310336Z",
     "shell.execute_reply": "2024-07-20T18:55:00.309098Z"
    },
    "papermill": {
     "duration": 0.053768,
     "end_time": "2024-07-20T18:55:00.312556",
     "exception": false,
     "start_time": "2024-07-20T18:55:00.258788",
     "status": "completed"
    },
    "tags": []
   },
   "outputs": [
    {
     "data": {
      "text/plain": [
       "a         NaN\n",
       "b   -4.006467\n",
       "c   -0.738424\n",
       "d   -1.668422\n",
       "e         NaN\n",
       "dtype: float64"
      ]
     },
     "execution_count": 54,
     "metadata": {},
     "output_type": "execute_result"
    }
   ],
   "source": [
    "s[1:] + s[:-1]"
   ]
  },
  {
   "cell_type": "code",
   "execution_count": 55,
   "id": "6e1b4c35",
   "metadata": {
    "execution": {
     "iopub.execute_input": "2024-07-20T18:55:00.393216Z",
     "iopub.status.busy": "2024-07-20T18:55:00.392800Z",
     "iopub.status.idle": "2024-07-20T18:55:00.401734Z",
     "shell.execute_reply": "2024-07-20T18:55:00.400372Z"
    },
    "papermill": {
     "duration": 0.052394,
     "end_time": "2024-07-20T18:55:00.404122",
     "exception": false,
     "start_time": "2024-07-20T18:55:00.351728",
     "status": "completed"
    },
    "tags": []
   },
   "outputs": [
    {
     "data": {
      "text/plain": [
       "0   -1.080851\n",
       "1    0.329664\n",
       "2    2.184577\n",
       "3   -1.196873\n",
       "4   -0.568847\n",
       "Name: something, dtype: float64"
      ]
     },
     "execution_count": 55,
     "metadata": {},
     "output_type": "execute_result"
    }
   ],
   "source": [
    "s = pd.Series(np.random.randn(5), name=\"something\")\n",
    "s"
   ]
  },
  {
   "cell_type": "code",
   "execution_count": 56,
   "id": "24287ab1",
   "metadata": {
    "execution": {
     "iopub.execute_input": "2024-07-20T18:55:00.484601Z",
     "iopub.status.busy": "2024-07-20T18:55:00.484179Z",
     "iopub.status.idle": "2024-07-20T18:55:00.491453Z",
     "shell.execute_reply": "2024-07-20T18:55:00.490247Z"
    },
    "papermill": {
     "duration": 0.049982,
     "end_time": "2024-07-20T18:55:00.493862",
     "exception": false,
     "start_time": "2024-07-20T18:55:00.443880",
     "status": "completed"
    },
    "tags": []
   },
   "outputs": [
    {
     "data": {
      "text/plain": [
       "'different'"
      ]
     },
     "execution_count": 56,
     "metadata": {},
     "output_type": "execute_result"
    }
   ],
   "source": [
    "s2 = s.rename(\"different\")\n",
    "s2.name"
   ]
  },
  {
   "cell_type": "code",
   "execution_count": 57,
   "id": "3e0f2b04",
   "metadata": {
    "execution": {
     "iopub.execute_input": "2024-07-20T18:55:00.574718Z",
     "iopub.status.busy": "2024-07-20T18:55:00.574319Z",
     "iopub.status.idle": "2024-07-20T18:55:00.589195Z",
     "shell.execute_reply": "2024-07-20T18:55:00.587839Z"
    },
    "papermill": {
     "duration": 0.058351,
     "end_time": "2024-07-20T18:55:00.591750",
     "exception": false,
     "start_time": "2024-07-20T18:55:00.533399",
     "status": "completed"
    },
    "tags": []
   },
   "outputs": [
    {
     "data": {
      "text/html": [
       "<div>\n",
       "<style scoped>\n",
       "    .dataframe tbody tr th:only-of-type {\n",
       "        vertical-align: middle;\n",
       "    }\n",
       "\n",
       "    .dataframe tbody tr th {\n",
       "        vertical-align: top;\n",
       "    }\n",
       "\n",
       "    .dataframe thead th {\n",
       "        text-align: right;\n",
       "    }\n",
       "</style>\n",
       "<table border=\"1\" class=\"dataframe\">\n",
       "  <thead>\n",
       "    <tr style=\"text-align: right;\">\n",
       "      <th></th>\n",
       "      <th>one</th>\n",
       "      <th>two</th>\n",
       "    </tr>\n",
       "  </thead>\n",
       "  <tbody>\n",
       "    <tr>\n",
       "      <th>a</th>\n",
       "      <td>1.0</td>\n",
       "      <td>1.0</td>\n",
       "    </tr>\n",
       "    <tr>\n",
       "      <th>b</th>\n",
       "      <td>2.0</td>\n",
       "      <td>2.0</td>\n",
       "    </tr>\n",
       "    <tr>\n",
       "      <th>c</th>\n",
       "      <td>3.0</td>\n",
       "      <td>3.0</td>\n",
       "    </tr>\n",
       "    <tr>\n",
       "      <th>d</th>\n",
       "      <td>NaN</td>\n",
       "      <td>4.0</td>\n",
       "    </tr>\n",
       "  </tbody>\n",
       "</table>\n",
       "</div>"
      ],
      "text/plain": [
       "   one  two\n",
       "a  1.0  1.0\n",
       "b  2.0  2.0\n",
       "c  3.0  3.0\n",
       "d  NaN  4.0"
      ]
     },
     "execution_count": 57,
     "metadata": {},
     "output_type": "execute_result"
    }
   ],
   "source": [
    "d = {\n",
    "\"one\": pd.Series([1.0, 2.0, 3.0], index=[\"a\", \"b\", \"c\"]),\n",
    "\"two\": pd.Series([1.0, 2.0, 3.0, 4.0], index=[\"a\", \"b\", \"c\", \"d\"]),\n",
    "}\n",
    "\n",
    "df = pd.DataFrame(d)\n",
    "df"
   ]
  },
  {
   "cell_type": "code",
   "execution_count": 58,
   "id": "7af7e92a",
   "metadata": {
    "execution": {
     "iopub.execute_input": "2024-07-20T18:55:00.678310Z",
     "iopub.status.busy": "2024-07-20T18:55:00.677881Z",
     "iopub.status.idle": "2024-07-20T18:55:00.691197Z",
     "shell.execute_reply": "2024-07-20T18:55:00.689934Z"
    },
    "papermill": {
     "duration": 0.05972,
     "end_time": "2024-07-20T18:55:00.693633",
     "exception": false,
     "start_time": "2024-07-20T18:55:00.633913",
     "status": "completed"
    },
    "tags": []
   },
   "outputs": [
    {
     "data": {
      "text/html": [
       "<div>\n",
       "<style scoped>\n",
       "    .dataframe tbody tr th:only-of-type {\n",
       "        vertical-align: middle;\n",
       "    }\n",
       "\n",
       "    .dataframe tbody tr th {\n",
       "        vertical-align: top;\n",
       "    }\n",
       "\n",
       "    .dataframe thead th {\n",
       "        text-align: right;\n",
       "    }\n",
       "</style>\n",
       "<table border=\"1\" class=\"dataframe\">\n",
       "  <thead>\n",
       "    <tr style=\"text-align: right;\">\n",
       "      <th></th>\n",
       "      <th>one</th>\n",
       "      <th>two</th>\n",
       "    </tr>\n",
       "  </thead>\n",
       "  <tbody>\n",
       "    <tr>\n",
       "      <th>d</th>\n",
       "      <td>NaN</td>\n",
       "      <td>4.0</td>\n",
       "    </tr>\n",
       "    <tr>\n",
       "      <th>b</th>\n",
       "      <td>2.0</td>\n",
       "      <td>2.0</td>\n",
       "    </tr>\n",
       "    <tr>\n",
       "      <th>a</th>\n",
       "      <td>1.0</td>\n",
       "      <td>1.0</td>\n",
       "    </tr>\n",
       "  </tbody>\n",
       "</table>\n",
       "</div>"
      ],
      "text/plain": [
       "   one  two\n",
       "d  NaN  4.0\n",
       "b  2.0  2.0\n",
       "a  1.0  1.0"
      ]
     },
     "execution_count": 58,
     "metadata": {},
     "output_type": "execute_result"
    }
   ],
   "source": [
    "pd.DataFrame(d, index=[\"d\", \"b\", \"a\"])"
   ]
  },
  {
   "cell_type": "code",
   "execution_count": 59,
   "id": "57c43707",
   "metadata": {
    "execution": {
     "iopub.execute_input": "2024-07-20T18:55:00.778481Z",
     "iopub.status.busy": "2024-07-20T18:55:00.777381Z",
     "iopub.status.idle": "2024-07-20T18:55:00.791446Z",
     "shell.execute_reply": "2024-07-20T18:55:00.790221Z"
    },
    "papermill": {
     "duration": 0.058948,
     "end_time": "2024-07-20T18:55:00.793910",
     "exception": false,
     "start_time": "2024-07-20T18:55:00.734962",
     "status": "completed"
    },
    "tags": []
   },
   "outputs": [
    {
     "data": {
      "text/html": [
       "<div>\n",
       "<style scoped>\n",
       "    .dataframe tbody tr th:only-of-type {\n",
       "        vertical-align: middle;\n",
       "    }\n",
       "\n",
       "    .dataframe tbody tr th {\n",
       "        vertical-align: top;\n",
       "    }\n",
       "\n",
       "    .dataframe thead th {\n",
       "        text-align: right;\n",
       "    }\n",
       "</style>\n",
       "<table border=\"1\" class=\"dataframe\">\n",
       "  <thead>\n",
       "    <tr style=\"text-align: right;\">\n",
       "      <th></th>\n",
       "      <th>two</th>\n",
       "      <th>three</th>\n",
       "    </tr>\n",
       "  </thead>\n",
       "  <tbody>\n",
       "    <tr>\n",
       "      <th>d</th>\n",
       "      <td>4.0</td>\n",
       "      <td>NaN</td>\n",
       "    </tr>\n",
       "    <tr>\n",
       "      <th>b</th>\n",
       "      <td>2.0</td>\n",
       "      <td>NaN</td>\n",
       "    </tr>\n",
       "    <tr>\n",
       "      <th>a</th>\n",
       "      <td>1.0</td>\n",
       "      <td>NaN</td>\n",
       "    </tr>\n",
       "  </tbody>\n",
       "</table>\n",
       "</div>"
      ],
      "text/plain": [
       "   two three\n",
       "d  4.0   NaN\n",
       "b  2.0   NaN\n",
       "a  1.0   NaN"
      ]
     },
     "execution_count": 59,
     "metadata": {},
     "output_type": "execute_result"
    }
   ],
   "source": [
    "pd.DataFrame(d, index=[\"d\", \"b\", \"a\"], columns=[\"two\", \"three\"])"
   ]
  },
  {
   "cell_type": "code",
   "execution_count": 60,
   "id": "fc7e744a",
   "metadata": {
    "execution": {
     "iopub.execute_input": "2024-07-20T18:55:00.876867Z",
     "iopub.status.busy": "2024-07-20T18:55:00.876467Z",
     "iopub.status.idle": "2024-07-20T18:55:00.884170Z",
     "shell.execute_reply": "2024-07-20T18:55:00.882840Z"
    },
    "papermill": {
     "duration": 0.052065,
     "end_time": "2024-07-20T18:55:00.886927",
     "exception": false,
     "start_time": "2024-07-20T18:55:00.834862",
     "status": "completed"
    },
    "tags": []
   },
   "outputs": [
    {
     "data": {
      "text/plain": [
       "Index(['a', 'b', 'c', 'd'], dtype='object')"
      ]
     },
     "execution_count": 60,
     "metadata": {},
     "output_type": "execute_result"
    }
   ],
   "source": [
    "df.index"
   ]
  },
  {
   "cell_type": "code",
   "execution_count": 61,
   "id": "822ff5d7",
   "metadata": {
    "execution": {
     "iopub.execute_input": "2024-07-20T18:55:00.969687Z",
     "iopub.status.busy": "2024-07-20T18:55:00.969246Z",
     "iopub.status.idle": "2024-07-20T18:55:00.976547Z",
     "shell.execute_reply": "2024-07-20T18:55:00.975476Z"
    },
    "papermill": {
     "duration": 0.050986,
     "end_time": "2024-07-20T18:55:00.978807",
     "exception": false,
     "start_time": "2024-07-20T18:55:00.927821",
     "status": "completed"
    },
    "tags": []
   },
   "outputs": [
    {
     "data": {
      "text/plain": [
       "Index(['one', 'two'], dtype='object')"
      ]
     },
     "execution_count": 61,
     "metadata": {},
     "output_type": "execute_result"
    }
   ],
   "source": [
    "df.columns"
   ]
  },
  {
   "cell_type": "code",
   "execution_count": 62,
   "id": "323ba8b2",
   "metadata": {
    "execution": {
     "iopub.execute_input": "2024-07-20T18:55:01.060821Z",
     "iopub.status.busy": "2024-07-20T18:55:01.060420Z",
     "iopub.status.idle": "2024-07-20T18:55:01.073668Z",
     "shell.execute_reply": "2024-07-20T18:55:01.072156Z"
    },
    "papermill": {
     "duration": 0.057523,
     "end_time": "2024-07-20T18:55:01.076465",
     "exception": false,
     "start_time": "2024-07-20T18:55:01.018942",
     "status": "completed"
    },
    "tags": []
   },
   "outputs": [
    {
     "data": {
      "text/html": [
       "<div>\n",
       "<style scoped>\n",
       "    .dataframe tbody tr th:only-of-type {\n",
       "        vertical-align: middle;\n",
       "    }\n",
       "\n",
       "    .dataframe tbody tr th {\n",
       "        vertical-align: top;\n",
       "    }\n",
       "\n",
       "    .dataframe thead th {\n",
       "        text-align: right;\n",
       "    }\n",
       "</style>\n",
       "<table border=\"1\" class=\"dataframe\">\n",
       "  <thead>\n",
       "    <tr style=\"text-align: right;\">\n",
       "      <th></th>\n",
       "      <th>one</th>\n",
       "      <th>two</th>\n",
       "    </tr>\n",
       "  </thead>\n",
       "  <tbody>\n",
       "    <tr>\n",
       "      <th>0</th>\n",
       "      <td>1.0</td>\n",
       "      <td>4.0</td>\n",
       "    </tr>\n",
       "    <tr>\n",
       "      <th>1</th>\n",
       "      <td>2.0</td>\n",
       "      <td>3.0</td>\n",
       "    </tr>\n",
       "    <tr>\n",
       "      <th>2</th>\n",
       "      <td>3.0</td>\n",
       "      <td>2.0</td>\n",
       "    </tr>\n",
       "    <tr>\n",
       "      <th>3</th>\n",
       "      <td>4.0</td>\n",
       "      <td>1.0</td>\n",
       "    </tr>\n",
       "  </tbody>\n",
       "</table>\n",
       "</div>"
      ],
      "text/plain": [
       "   one  two\n",
       "0  1.0  4.0\n",
       "1  2.0  3.0\n",
       "2  3.0  2.0\n",
       "3  4.0  1.0"
      ]
     },
     "execution_count": 62,
     "metadata": {},
     "output_type": "execute_result"
    }
   ],
   "source": [
    "d = {\"one\": [1.0, 2.0, 3.0, 4.0], \"two\": [4.0, 3.0, 2.0, 1.0]}\n",
    "pd.DataFrame(d)"
   ]
  },
  {
   "cell_type": "code",
   "execution_count": 63,
   "id": "d3b8c56c",
   "metadata": {
    "execution": {
     "iopub.execute_input": "2024-07-20T18:55:01.161675Z",
     "iopub.status.busy": "2024-07-20T18:55:01.161199Z",
     "iopub.status.idle": "2024-07-20T18:55:01.174244Z",
     "shell.execute_reply": "2024-07-20T18:55:01.173167Z"
    },
    "papermill": {
     "duration": 0.058855,
     "end_time": "2024-07-20T18:55:01.176804",
     "exception": false,
     "start_time": "2024-07-20T18:55:01.117949",
     "status": "completed"
    },
    "tags": []
   },
   "outputs": [
    {
     "data": {
      "text/html": [
       "<div>\n",
       "<style scoped>\n",
       "    .dataframe tbody tr th:only-of-type {\n",
       "        vertical-align: middle;\n",
       "    }\n",
       "\n",
       "    .dataframe tbody tr th {\n",
       "        vertical-align: top;\n",
       "    }\n",
       "\n",
       "    .dataframe thead th {\n",
       "        text-align: right;\n",
       "    }\n",
       "</style>\n",
       "<table border=\"1\" class=\"dataframe\">\n",
       "  <thead>\n",
       "    <tr style=\"text-align: right;\">\n",
       "      <th></th>\n",
       "      <th>one</th>\n",
       "      <th>two</th>\n",
       "    </tr>\n",
       "  </thead>\n",
       "  <tbody>\n",
       "    <tr>\n",
       "      <th>a</th>\n",
       "      <td>1.0</td>\n",
       "      <td>4.0</td>\n",
       "    </tr>\n",
       "    <tr>\n",
       "      <th>b</th>\n",
       "      <td>2.0</td>\n",
       "      <td>3.0</td>\n",
       "    </tr>\n",
       "    <tr>\n",
       "      <th>c</th>\n",
       "      <td>3.0</td>\n",
       "      <td>2.0</td>\n",
       "    </tr>\n",
       "    <tr>\n",
       "      <th>d</th>\n",
       "      <td>4.0</td>\n",
       "      <td>1.0</td>\n",
       "    </tr>\n",
       "  </tbody>\n",
       "</table>\n",
       "</div>"
      ],
      "text/plain": [
       "   one  two\n",
       "a  1.0  4.0\n",
       "b  2.0  3.0\n",
       "c  3.0  2.0\n",
       "d  4.0  1.0"
      ]
     },
     "execution_count": 63,
     "metadata": {},
     "output_type": "execute_result"
    }
   ],
   "source": [
    "pd.DataFrame(d, index=[\"a\", \"b\", \"c\", \"d\"])"
   ]
  },
  {
   "cell_type": "code",
   "execution_count": 64,
   "id": "4580313e",
   "metadata": {
    "execution": {
     "iopub.execute_input": "2024-07-20T18:55:01.258890Z",
     "iopub.status.busy": "2024-07-20T18:55:01.258491Z",
     "iopub.status.idle": "2024-07-20T18:55:01.271233Z",
     "shell.execute_reply": "2024-07-20T18:55:01.270066Z"
    },
    "papermill": {
     "duration": 0.056574,
     "end_time": "2024-07-20T18:55:01.273681",
     "exception": false,
     "start_time": "2024-07-20T18:55:01.217107",
     "status": "completed"
    },
    "tags": []
   },
   "outputs": [
    {
     "data": {
      "text/html": [
       "<div>\n",
       "<style scoped>\n",
       "    .dataframe tbody tr th:only-of-type {\n",
       "        vertical-align: middle;\n",
       "    }\n",
       "\n",
       "    .dataframe tbody tr th {\n",
       "        vertical-align: top;\n",
       "    }\n",
       "\n",
       "    .dataframe thead th {\n",
       "        text-align: right;\n",
       "    }\n",
       "</style>\n",
       "<table border=\"1\" class=\"dataframe\">\n",
       "  <thead>\n",
       "    <tr style=\"text-align: right;\">\n",
       "      <th></th>\n",
       "      <th>A</th>\n",
       "      <th>B</th>\n",
       "      <th>C</th>\n",
       "    </tr>\n",
       "  </thead>\n",
       "  <tbody>\n",
       "    <tr>\n",
       "      <th>0</th>\n",
       "      <td>1</td>\n",
       "      <td>2.0</td>\n",
       "      <td>b'Hello'</td>\n",
       "    </tr>\n",
       "    <tr>\n",
       "      <th>1</th>\n",
       "      <td>2</td>\n",
       "      <td>3.0</td>\n",
       "      <td>b'World'</td>\n",
       "    </tr>\n",
       "  </tbody>\n",
       "</table>\n",
       "</div>"
      ],
      "text/plain": [
       "   A    B         C\n",
       "0  1  2.0  b'Hello'\n",
       "1  2  3.0  b'World'"
      ]
     },
     "execution_count": 64,
     "metadata": {},
     "output_type": "execute_result"
    }
   ],
   "source": [
    "data = np.zeros((2,), dtype=[(\"A\", \"i4\"), (\"B\", \"f4\"), (\"C\", \"a10\")])\n",
    "data[:] = [(1, 2.0, \"Hello\"), (2, 3.0, \"World\")]\n",
    "pd.DataFrame(data)"
   ]
  },
  {
   "cell_type": "code",
   "execution_count": 65,
   "id": "bc17b0be",
   "metadata": {
    "execution": {
     "iopub.execute_input": "2024-07-20T18:55:01.359826Z",
     "iopub.status.busy": "2024-07-20T18:55:01.359429Z",
     "iopub.status.idle": "2024-07-20T18:55:01.371387Z",
     "shell.execute_reply": "2024-07-20T18:55:01.370154Z"
    },
    "papermill": {
     "duration": 0.059638,
     "end_time": "2024-07-20T18:55:01.373812",
     "exception": false,
     "start_time": "2024-07-20T18:55:01.314174",
     "status": "completed"
    },
    "tags": []
   },
   "outputs": [
    {
     "data": {
      "text/html": [
       "<div>\n",
       "<style scoped>\n",
       "    .dataframe tbody tr th:only-of-type {\n",
       "        vertical-align: middle;\n",
       "    }\n",
       "\n",
       "    .dataframe tbody tr th {\n",
       "        vertical-align: top;\n",
       "    }\n",
       "\n",
       "    .dataframe thead th {\n",
       "        text-align: right;\n",
       "    }\n",
       "</style>\n",
       "<table border=\"1\" class=\"dataframe\">\n",
       "  <thead>\n",
       "    <tr style=\"text-align: right;\">\n",
       "      <th></th>\n",
       "      <th>A</th>\n",
       "      <th>B</th>\n",
       "      <th>C</th>\n",
       "    </tr>\n",
       "  </thead>\n",
       "  <tbody>\n",
       "    <tr>\n",
       "      <th>first</th>\n",
       "      <td>1</td>\n",
       "      <td>2.0</td>\n",
       "      <td>b'Hello'</td>\n",
       "    </tr>\n",
       "    <tr>\n",
       "      <th>second</th>\n",
       "      <td>2</td>\n",
       "      <td>3.0</td>\n",
       "      <td>b'World'</td>\n",
       "    </tr>\n",
       "  </tbody>\n",
       "</table>\n",
       "</div>"
      ],
      "text/plain": [
       "        A    B         C\n",
       "first   1  2.0  b'Hello'\n",
       "second  2  3.0  b'World'"
      ]
     },
     "execution_count": 65,
     "metadata": {},
     "output_type": "execute_result"
    }
   ],
   "source": [
    "pd.DataFrame(data, index=[\"first\", \"second\"])"
   ]
  },
  {
   "cell_type": "code",
   "execution_count": 66,
   "id": "c57aa83a",
   "metadata": {
    "execution": {
     "iopub.execute_input": "2024-07-20T18:55:01.459926Z",
     "iopub.status.busy": "2024-07-20T18:55:01.459525Z",
     "iopub.status.idle": "2024-07-20T18:55:01.471910Z",
     "shell.execute_reply": "2024-07-20T18:55:01.470798Z"
    },
    "papermill": {
     "duration": 0.05948,
     "end_time": "2024-07-20T18:55:01.474598",
     "exception": false,
     "start_time": "2024-07-20T18:55:01.415118",
     "status": "completed"
    },
    "tags": []
   },
   "outputs": [
    {
     "data": {
      "text/html": [
       "<div>\n",
       "<style scoped>\n",
       "    .dataframe tbody tr th:only-of-type {\n",
       "        vertical-align: middle;\n",
       "    }\n",
       "\n",
       "    .dataframe tbody tr th {\n",
       "        vertical-align: top;\n",
       "    }\n",
       "\n",
       "    .dataframe thead th {\n",
       "        text-align: right;\n",
       "    }\n",
       "</style>\n",
       "<table border=\"1\" class=\"dataframe\">\n",
       "  <thead>\n",
       "    <tr style=\"text-align: right;\">\n",
       "      <th></th>\n",
       "      <th>C</th>\n",
       "      <th>A</th>\n",
       "      <th>B</th>\n",
       "    </tr>\n",
       "  </thead>\n",
       "  <tbody>\n",
       "    <tr>\n",
       "      <th>0</th>\n",
       "      <td>b'Hello'</td>\n",
       "      <td>1</td>\n",
       "      <td>2.0</td>\n",
       "    </tr>\n",
       "    <tr>\n",
       "      <th>1</th>\n",
       "      <td>b'World'</td>\n",
       "      <td>2</td>\n",
       "      <td>3.0</td>\n",
       "    </tr>\n",
       "  </tbody>\n",
       "</table>\n",
       "</div>"
      ],
      "text/plain": [
       "          C  A    B\n",
       "0  b'Hello'  1  2.0\n",
       "1  b'World'  2  3.0"
      ]
     },
     "execution_count": 66,
     "metadata": {},
     "output_type": "execute_result"
    }
   ],
   "source": [
    "pd.DataFrame(data, columns=[\"C\", \"A\", \"B\"])"
   ]
  },
  {
   "cell_type": "code",
   "execution_count": 67,
   "id": "f76015eb",
   "metadata": {
    "execution": {
     "iopub.execute_input": "2024-07-20T18:55:01.561630Z",
     "iopub.status.busy": "2024-07-20T18:55:01.561213Z",
     "iopub.status.idle": "2024-07-20T18:55:01.574096Z",
     "shell.execute_reply": "2024-07-20T18:55:01.572706Z"
    },
    "papermill": {
     "duration": 0.059226,
     "end_time": "2024-07-20T18:55:01.576952",
     "exception": false,
     "start_time": "2024-07-20T18:55:01.517726",
     "status": "completed"
    },
    "tags": []
   },
   "outputs": [
    {
     "data": {
      "text/html": [
       "<div>\n",
       "<style scoped>\n",
       "    .dataframe tbody tr th:only-of-type {\n",
       "        vertical-align: middle;\n",
       "    }\n",
       "\n",
       "    .dataframe tbody tr th {\n",
       "        vertical-align: top;\n",
       "    }\n",
       "\n",
       "    .dataframe thead th {\n",
       "        text-align: right;\n",
       "    }\n",
       "</style>\n",
       "<table border=\"1\" class=\"dataframe\">\n",
       "  <thead>\n",
       "    <tr style=\"text-align: right;\">\n",
       "      <th></th>\n",
       "      <th>a</th>\n",
       "      <th>b</th>\n",
       "      <th>c</th>\n",
       "    </tr>\n",
       "  </thead>\n",
       "  <tbody>\n",
       "    <tr>\n",
       "      <th>0</th>\n",
       "      <td>1</td>\n",
       "      <td>2</td>\n",
       "      <td>NaN</td>\n",
       "    </tr>\n",
       "    <tr>\n",
       "      <th>1</th>\n",
       "      <td>5</td>\n",
       "      <td>10</td>\n",
       "      <td>20.0</td>\n",
       "    </tr>\n",
       "  </tbody>\n",
       "</table>\n",
       "</div>"
      ],
      "text/plain": [
       "   a   b     c\n",
       "0  1   2   NaN\n",
       "1  5  10  20.0"
      ]
     },
     "execution_count": 67,
     "metadata": {},
     "output_type": "execute_result"
    }
   ],
   "source": [
    "data2 = [{\"a\": 1, \"b\": 2}, {\"a\": 5, \"b\": 10, \"c\": 20}]\n",
    "pd.DataFrame(data2)"
   ]
  },
  {
   "cell_type": "code",
   "execution_count": 68,
   "id": "899259f2",
   "metadata": {
    "execution": {
     "iopub.execute_input": "2024-07-20T18:55:01.666356Z",
     "iopub.status.busy": "2024-07-20T18:55:01.665914Z",
     "iopub.status.idle": "2024-07-20T18:55:01.677803Z",
     "shell.execute_reply": "2024-07-20T18:55:01.676634Z"
    },
    "papermill": {
     "duration": 0.060283,
     "end_time": "2024-07-20T18:55:01.680104",
     "exception": false,
     "start_time": "2024-07-20T18:55:01.619821",
     "status": "completed"
    },
    "tags": []
   },
   "outputs": [
    {
     "data": {
      "text/html": [
       "<div>\n",
       "<style scoped>\n",
       "    .dataframe tbody tr th:only-of-type {\n",
       "        vertical-align: middle;\n",
       "    }\n",
       "\n",
       "    .dataframe tbody tr th {\n",
       "        vertical-align: top;\n",
       "    }\n",
       "\n",
       "    .dataframe thead th {\n",
       "        text-align: right;\n",
       "    }\n",
       "</style>\n",
       "<table border=\"1\" class=\"dataframe\">\n",
       "  <thead>\n",
       "    <tr style=\"text-align: right;\">\n",
       "      <th></th>\n",
       "      <th>a</th>\n",
       "      <th>b</th>\n",
       "      <th>c</th>\n",
       "    </tr>\n",
       "  </thead>\n",
       "  <tbody>\n",
       "    <tr>\n",
       "      <th>first</th>\n",
       "      <td>1</td>\n",
       "      <td>2</td>\n",
       "      <td>NaN</td>\n",
       "    </tr>\n",
       "    <tr>\n",
       "      <th>second</th>\n",
       "      <td>5</td>\n",
       "      <td>10</td>\n",
       "      <td>20.0</td>\n",
       "    </tr>\n",
       "  </tbody>\n",
       "</table>\n",
       "</div>"
      ],
      "text/plain": [
       "        a   b     c\n",
       "first   1   2   NaN\n",
       "second  5  10  20.0"
      ]
     },
     "execution_count": 68,
     "metadata": {},
     "output_type": "execute_result"
    }
   ],
   "source": [
    "pd.DataFrame(data2, index=[\"first\", \"second\"])"
   ]
  },
  {
   "cell_type": "code",
   "execution_count": 69,
   "id": "8a78f967",
   "metadata": {
    "execution": {
     "iopub.execute_input": "2024-07-20T18:55:01.767471Z",
     "iopub.status.busy": "2024-07-20T18:55:01.766673Z",
     "iopub.status.idle": "2024-07-20T18:55:01.777089Z",
     "shell.execute_reply": "2024-07-20T18:55:01.775892Z"
    },
    "papermill": {
     "duration": 0.05571,
     "end_time": "2024-07-20T18:55:01.779327",
     "exception": false,
     "start_time": "2024-07-20T18:55:01.723617",
     "status": "completed"
    },
    "tags": []
   },
   "outputs": [
    {
     "data": {
      "text/html": [
       "<div>\n",
       "<style scoped>\n",
       "    .dataframe tbody tr th:only-of-type {\n",
       "        vertical-align: middle;\n",
       "    }\n",
       "\n",
       "    .dataframe tbody tr th {\n",
       "        vertical-align: top;\n",
       "    }\n",
       "\n",
       "    .dataframe thead th {\n",
       "        text-align: right;\n",
       "    }\n",
       "</style>\n",
       "<table border=\"1\" class=\"dataframe\">\n",
       "  <thead>\n",
       "    <tr style=\"text-align: right;\">\n",
       "      <th></th>\n",
       "      <th>a</th>\n",
       "      <th>b</th>\n",
       "    </tr>\n",
       "  </thead>\n",
       "  <tbody>\n",
       "    <tr>\n",
       "      <th>0</th>\n",
       "      <td>1</td>\n",
       "      <td>2</td>\n",
       "    </tr>\n",
       "    <tr>\n",
       "      <th>1</th>\n",
       "      <td>5</td>\n",
       "      <td>10</td>\n",
       "    </tr>\n",
       "  </tbody>\n",
       "</table>\n",
       "</div>"
      ],
      "text/plain": [
       "   a   b\n",
       "0  1   2\n",
       "1  5  10"
      ]
     },
     "execution_count": 69,
     "metadata": {},
     "output_type": "execute_result"
    }
   ],
   "source": [
    "pd.DataFrame(data2, columns=[\"a\", \"b\"])"
   ]
  },
  {
   "cell_type": "code",
   "execution_count": 70,
   "id": "24f4afd5",
   "metadata": {
    "execution": {
     "iopub.execute_input": "2024-07-20T18:55:01.865428Z",
     "iopub.status.busy": "2024-07-20T18:55:01.864980Z",
     "iopub.status.idle": "2024-07-20T18:55:01.886903Z",
     "shell.execute_reply": "2024-07-20T18:55:01.885598Z"
    },
    "papermill": {
     "duration": 0.067735,
     "end_time": "2024-07-20T18:55:01.889263",
     "exception": false,
     "start_time": "2024-07-20T18:55:01.821528",
     "status": "completed"
    },
    "tags": []
   },
   "outputs": [
    {
     "data": {
      "text/html": [
       "<div>\n",
       "<style scoped>\n",
       "    .dataframe tbody tr th:only-of-type {\n",
       "        vertical-align: middle;\n",
       "    }\n",
       "\n",
       "    .dataframe tbody tr th {\n",
       "        vertical-align: top;\n",
       "    }\n",
       "\n",
       "    .dataframe thead tr th {\n",
       "        text-align: left;\n",
       "    }\n",
       "</style>\n",
       "<table border=\"1\" class=\"dataframe\">\n",
       "  <thead>\n",
       "    <tr>\n",
       "      <th></th>\n",
       "      <th></th>\n",
       "      <th colspan=\"3\" halign=\"left\">a</th>\n",
       "      <th colspan=\"2\" halign=\"left\">b</th>\n",
       "    </tr>\n",
       "    <tr>\n",
       "      <th></th>\n",
       "      <th></th>\n",
       "      <th>b</th>\n",
       "      <th>a</th>\n",
       "      <th>c</th>\n",
       "      <th>a</th>\n",
       "      <th>b</th>\n",
       "    </tr>\n",
       "  </thead>\n",
       "  <tbody>\n",
       "    <tr>\n",
       "      <th rowspan=\"3\" valign=\"top\">A</th>\n",
       "      <th>B</th>\n",
       "      <td>1.0</td>\n",
       "      <td>4.0</td>\n",
       "      <td>5.0</td>\n",
       "      <td>8.0</td>\n",
       "      <td>10.0</td>\n",
       "    </tr>\n",
       "    <tr>\n",
       "      <th>C</th>\n",
       "      <td>2.0</td>\n",
       "      <td>3.0</td>\n",
       "      <td>6.0</td>\n",
       "      <td>7.0</td>\n",
       "      <td>NaN</td>\n",
       "    </tr>\n",
       "    <tr>\n",
       "      <th>D</th>\n",
       "      <td>NaN</td>\n",
       "      <td>NaN</td>\n",
       "      <td>NaN</td>\n",
       "      <td>NaN</td>\n",
       "      <td>9.0</td>\n",
       "    </tr>\n",
       "  </tbody>\n",
       "</table>\n",
       "</div>"
      ],
      "text/plain": [
       "       a              b      \n",
       "       b    a    c    a     b\n",
       "A B  1.0  4.0  5.0  8.0  10.0\n",
       "  C  2.0  3.0  6.0  7.0   NaN\n",
       "  D  NaN  NaN  NaN  NaN   9.0"
      ]
     },
     "execution_count": 70,
     "metadata": {},
     "output_type": "execute_result"
    }
   ],
   "source": [
    "pd.DataFrame({\n",
    "    \n",
    "(\"a\", \"b\"): {(\"A\", \"B\"): 1, (\"A\", \"C\"): 2},\n",
    "(\"a\", \"a\"): {(\"A\", \"C\"): 3, (\"A\", \"B\"): 4},\n",
    "(\"a\", \"c\"): {(\"A\", \"B\"): 5, (\"A\", \"C\"): 6},\n",
    "(\"b\", \"a\"): {(\"A\", \"C\"): 7, (\"A\", \"B\"): 8},\n",
    "(\"b\", \"b\"): {(\"A\", \"D\"): 9, (\"A\", \"B\"): 10}\n",
    "    \n",
    "})"
   ]
  },
  {
   "cell_type": "code",
   "execution_count": 71,
   "id": "62d2ab29",
   "metadata": {
    "execution": {
     "iopub.execute_input": "2024-07-20T18:55:01.974768Z",
     "iopub.status.busy": "2024-07-20T18:55:01.974369Z",
     "iopub.status.idle": "2024-07-20T18:55:01.985887Z",
     "shell.execute_reply": "2024-07-20T18:55:01.984872Z"
    },
    "papermill": {
     "duration": 0.056283,
     "end_time": "2024-07-20T18:55:01.988041",
     "exception": false,
     "start_time": "2024-07-20T18:55:01.931758",
     "status": "completed"
    },
    "tags": []
   },
   "outputs": [
    {
     "data": {
      "text/html": [
       "<div>\n",
       "<style scoped>\n",
       "    .dataframe tbody tr th:only-of-type {\n",
       "        vertical-align: middle;\n",
       "    }\n",
       "\n",
       "    .dataframe tbody tr th {\n",
       "        vertical-align: top;\n",
       "    }\n",
       "\n",
       "    .dataframe thead th {\n",
       "        text-align: right;\n",
       "    }\n",
       "</style>\n",
       "<table border=\"1\" class=\"dataframe\">\n",
       "  <thead>\n",
       "    <tr style=\"text-align: right;\">\n",
       "      <th></th>\n",
       "      <th>x</th>\n",
       "      <th>y</th>\n",
       "    </tr>\n",
       "  </thead>\n",
       "  <tbody>\n",
       "    <tr>\n",
       "      <th>0</th>\n",
       "      <td>0</td>\n",
       "      <td>0</td>\n",
       "    </tr>\n",
       "    <tr>\n",
       "      <th>1</th>\n",
       "      <td>0</td>\n",
       "      <td>3</td>\n",
       "    </tr>\n",
       "    <tr>\n",
       "      <th>2</th>\n",
       "      <td>2</td>\n",
       "      <td>3</td>\n",
       "    </tr>\n",
       "  </tbody>\n",
       "</table>\n",
       "</div>"
      ],
      "text/plain": [
       "   x  y\n",
       "0  0  0\n",
       "1  0  3\n",
       "2  2  3"
      ]
     },
     "execution_count": 71,
     "metadata": {},
     "output_type": "execute_result"
    }
   ],
   "source": [
    "from collections import namedtuple\n",
    "Point = namedtuple(\"Point\", \"x y\")\n",
    "pd.DataFrame([Point(0, 0), Point(0, 3), (2, 3)])"
   ]
  },
  {
   "cell_type": "code",
   "execution_count": 72,
   "id": "a3c440c5",
   "metadata": {
    "execution": {
     "iopub.execute_input": "2024-07-20T18:55:02.072494Z",
     "iopub.status.busy": "2024-07-20T18:55:02.072087Z",
     "iopub.status.idle": "2024-07-20T18:55:02.078000Z",
     "shell.execute_reply": "2024-07-20T18:55:02.076606Z"
    },
    "papermill": {
     "duration": 0.051121,
     "end_time": "2024-07-20T18:55:02.080563",
     "exception": false,
     "start_time": "2024-07-20T18:55:02.029442",
     "status": "completed"
    },
    "tags": []
   },
   "outputs": [],
   "source": [
    "Point3D = namedtuple(\"Point3D\", \"x y z\")"
   ]
  },
  {
   "cell_type": "code",
   "execution_count": 73,
   "id": "e55cd4ce",
   "metadata": {
    "execution": {
     "iopub.execute_input": "2024-07-20T18:55:02.165423Z",
     "iopub.status.busy": "2024-07-20T18:55:02.164995Z",
     "iopub.status.idle": "2024-07-20T18:55:02.177221Z",
     "shell.execute_reply": "2024-07-20T18:55:02.176121Z"
    },
    "papermill": {
     "duration": 0.057525,
     "end_time": "2024-07-20T18:55:02.179513",
     "exception": false,
     "start_time": "2024-07-20T18:55:02.121988",
     "status": "completed"
    },
    "tags": []
   },
   "outputs": [
    {
     "data": {
      "text/html": [
       "<div>\n",
       "<style scoped>\n",
       "    .dataframe tbody tr th:only-of-type {\n",
       "        vertical-align: middle;\n",
       "    }\n",
       "\n",
       "    .dataframe tbody tr th {\n",
       "        vertical-align: top;\n",
       "    }\n",
       "\n",
       "    .dataframe thead th {\n",
       "        text-align: right;\n",
       "    }\n",
       "</style>\n",
       "<table border=\"1\" class=\"dataframe\">\n",
       "  <thead>\n",
       "    <tr style=\"text-align: right;\">\n",
       "      <th></th>\n",
       "      <th>x</th>\n",
       "      <th>y</th>\n",
       "      <th>z</th>\n",
       "    </tr>\n",
       "  </thead>\n",
       "  <tbody>\n",
       "    <tr>\n",
       "      <th>0</th>\n",
       "      <td>0</td>\n",
       "      <td>0</td>\n",
       "      <td>0.0</td>\n",
       "    </tr>\n",
       "    <tr>\n",
       "      <th>1</th>\n",
       "      <td>0</td>\n",
       "      <td>3</td>\n",
       "      <td>5.0</td>\n",
       "    </tr>\n",
       "    <tr>\n",
       "      <th>2</th>\n",
       "      <td>2</td>\n",
       "      <td>3</td>\n",
       "      <td>NaN</td>\n",
       "    </tr>\n",
       "  </tbody>\n",
       "</table>\n",
       "</div>"
      ],
      "text/plain": [
       "   x  y    z\n",
       "0  0  0  0.0\n",
       "1  0  3  5.0\n",
       "2  2  3  NaN"
      ]
     },
     "execution_count": 73,
     "metadata": {},
     "output_type": "execute_result"
    }
   ],
   "source": [
    "pd.DataFrame([Point3D(0, 0, 0), Point3D(0, 3, 5), Point(2, 3)])"
   ]
  },
  {
   "cell_type": "code",
   "execution_count": 74,
   "id": "138efc99",
   "metadata": {
    "execution": {
     "iopub.execute_input": "2024-07-20T18:55:02.268152Z",
     "iopub.status.busy": "2024-07-20T18:55:02.267735Z",
     "iopub.status.idle": "2024-07-20T18:55:02.279714Z",
     "shell.execute_reply": "2024-07-20T18:55:02.278518Z"
    },
    "papermill": {
     "duration": 0.059837,
     "end_time": "2024-07-20T18:55:02.282089",
     "exception": false,
     "start_time": "2024-07-20T18:55:02.222252",
     "status": "completed"
    },
    "tags": []
   },
   "outputs": [
    {
     "data": {
      "text/html": [
       "<div>\n",
       "<style scoped>\n",
       "    .dataframe tbody tr th:only-of-type {\n",
       "        vertical-align: middle;\n",
       "    }\n",
       "\n",
       "    .dataframe tbody tr th {\n",
       "        vertical-align: top;\n",
       "    }\n",
       "\n",
       "    .dataframe thead th {\n",
       "        text-align: right;\n",
       "    }\n",
       "</style>\n",
       "<table border=\"1\" class=\"dataframe\">\n",
       "  <thead>\n",
       "    <tr style=\"text-align: right;\">\n",
       "      <th></th>\n",
       "      <th>x</th>\n",
       "      <th>y</th>\n",
       "    </tr>\n",
       "  </thead>\n",
       "  <tbody>\n",
       "    <tr>\n",
       "      <th>0</th>\n",
       "      <td>0</td>\n",
       "      <td>0</td>\n",
       "    </tr>\n",
       "    <tr>\n",
       "      <th>1</th>\n",
       "      <td>0</td>\n",
       "      <td>3</td>\n",
       "    </tr>\n",
       "    <tr>\n",
       "      <th>2</th>\n",
       "      <td>2</td>\n",
       "      <td>3</td>\n",
       "    </tr>\n",
       "  </tbody>\n",
       "</table>\n",
       "</div>"
      ],
      "text/plain": [
       "   x  y\n",
       "0  0  0\n",
       "1  0  3\n",
       "2  2  3"
      ]
     },
     "execution_count": 74,
     "metadata": {},
     "output_type": "execute_result"
    }
   ],
   "source": [
    "from dataclasses import make_dataclass\n",
    "Point = make_dataclass(\"Point\", [(\"x\", int), (\"y\", int)])\n",
    "pd.DataFrame([Point(0, 0), Point(0, 3), Point(2, 3)])"
   ]
  },
  {
   "cell_type": "code",
   "execution_count": 75,
   "id": "0cf4e1b2",
   "metadata": {
    "execution": {
     "iopub.execute_input": "2024-07-20T18:55:02.369411Z",
     "iopub.status.busy": "2024-07-20T18:55:02.368972Z",
     "iopub.status.idle": "2024-07-20T18:55:02.379889Z",
     "shell.execute_reply": "2024-07-20T18:55:02.378732Z"
    },
    "papermill": {
     "duration": 0.057223,
     "end_time": "2024-07-20T18:55:02.382223",
     "exception": false,
     "start_time": "2024-07-20T18:55:02.325000",
     "status": "completed"
    },
    "tags": []
   },
   "outputs": [
    {
     "data": {
      "text/html": [
       "<div>\n",
       "<style scoped>\n",
       "    .dataframe tbody tr th:only-of-type {\n",
       "        vertical-align: middle;\n",
       "    }\n",
       "\n",
       "    .dataframe tbody tr th {\n",
       "        vertical-align: top;\n",
       "    }\n",
       "\n",
       "    .dataframe thead th {\n",
       "        text-align: right;\n",
       "    }\n",
       "</style>\n",
       "<table border=\"1\" class=\"dataframe\">\n",
       "  <thead>\n",
       "    <tr style=\"text-align: right;\">\n",
       "      <th></th>\n",
       "      <th>A</th>\n",
       "      <th>B</th>\n",
       "    </tr>\n",
       "  </thead>\n",
       "  <tbody>\n",
       "    <tr>\n",
       "      <th>0</th>\n",
       "      <td>1</td>\n",
       "      <td>4</td>\n",
       "    </tr>\n",
       "    <tr>\n",
       "      <th>1</th>\n",
       "      <td>2</td>\n",
       "      <td>5</td>\n",
       "    </tr>\n",
       "    <tr>\n",
       "      <th>2</th>\n",
       "      <td>3</td>\n",
       "      <td>6</td>\n",
       "    </tr>\n",
       "  </tbody>\n",
       "</table>\n",
       "</div>"
      ],
      "text/plain": [
       "   A  B\n",
       "0  1  4\n",
       "1  2  5\n",
       "2  3  6"
      ]
     },
     "execution_count": 75,
     "metadata": {},
     "output_type": "execute_result"
    }
   ],
   "source": [
    "pd.DataFrame.from_dict(dict([(\"A\", [1, 2, 3]), (\"B\", [4, 5, 6])]))"
   ]
  },
  {
   "cell_type": "code",
   "execution_count": 76,
   "id": "3a76e9fb",
   "metadata": {
    "execution": {
     "iopub.execute_input": "2024-07-20T18:55:02.470513Z",
     "iopub.status.busy": "2024-07-20T18:55:02.470124Z",
     "iopub.status.idle": "2024-07-20T18:55:02.482008Z",
     "shell.execute_reply": "2024-07-20T18:55:02.480771Z"
    },
    "papermill": {
     "duration": 0.059912,
     "end_time": "2024-07-20T18:55:02.484591",
     "exception": false,
     "start_time": "2024-07-20T18:55:02.424679",
     "status": "completed"
    },
    "tags": []
   },
   "outputs": [
    {
     "data": {
      "text/html": [
       "<div>\n",
       "<style scoped>\n",
       "    .dataframe tbody tr th:only-of-type {\n",
       "        vertical-align: middle;\n",
       "    }\n",
       "\n",
       "    .dataframe tbody tr th {\n",
       "        vertical-align: top;\n",
       "    }\n",
       "\n",
       "    .dataframe thead th {\n",
       "        text-align: right;\n",
       "    }\n",
       "</style>\n",
       "<table border=\"1\" class=\"dataframe\">\n",
       "  <thead>\n",
       "    <tr style=\"text-align: right;\">\n",
       "      <th></th>\n",
       "      <th>one</th>\n",
       "      <th>two</th>\n",
       "      <th>three</th>\n",
       "    </tr>\n",
       "  </thead>\n",
       "  <tbody>\n",
       "    <tr>\n",
       "      <th>A</th>\n",
       "      <td>1</td>\n",
       "      <td>2</td>\n",
       "      <td>3</td>\n",
       "    </tr>\n",
       "    <tr>\n",
       "      <th>B</th>\n",
       "      <td>4</td>\n",
       "      <td>5</td>\n",
       "      <td>6</td>\n",
       "    </tr>\n",
       "  </tbody>\n",
       "</table>\n",
       "</div>"
      ],
      "text/plain": [
       "   one  two  three\n",
       "A    1    2      3\n",
       "B    4    5      6"
      ]
     },
     "execution_count": 76,
     "metadata": {},
     "output_type": "execute_result"
    }
   ],
   "source": [
    "pd.DataFrame.from_dict(\n",
    "dict([(\"A\", [1, 2, 3]), (\"B\", [4, 5, 6])]),\n",
    "orient=\"index\",\n",
    "columns=[\"one\", \"two\", \"three\"],\n",
    ")"
   ]
  },
  {
   "cell_type": "code",
   "execution_count": 77,
   "id": "783d362c",
   "metadata": {
    "execution": {
     "iopub.execute_input": "2024-07-20T18:55:02.572465Z",
     "iopub.status.busy": "2024-07-20T18:55:02.572068Z",
     "iopub.status.idle": "2024-07-20T18:55:02.583324Z",
     "shell.execute_reply": "2024-07-20T18:55:02.582236Z"
    },
    "papermill": {
     "duration": 0.0571,
     "end_time": "2024-07-20T18:55:02.585602",
     "exception": false,
     "start_time": "2024-07-20T18:55:02.528502",
     "status": "completed"
    },
    "tags": []
   },
   "outputs": [
    {
     "data": {
      "text/html": [
       "<div>\n",
       "<style scoped>\n",
       "    .dataframe tbody tr th:only-of-type {\n",
       "        vertical-align: middle;\n",
       "    }\n",
       "\n",
       "    .dataframe tbody tr th {\n",
       "        vertical-align: top;\n",
       "    }\n",
       "\n",
       "    .dataframe thead th {\n",
       "        text-align: right;\n",
       "    }\n",
       "</style>\n",
       "<table border=\"1\" class=\"dataframe\">\n",
       "  <thead>\n",
       "    <tr style=\"text-align: right;\">\n",
       "      <th></th>\n",
       "      <th>A</th>\n",
       "      <th>B</th>\n",
       "    </tr>\n",
       "    <tr>\n",
       "      <th>C</th>\n",
       "      <th></th>\n",
       "      <th></th>\n",
       "    </tr>\n",
       "  </thead>\n",
       "  <tbody>\n",
       "    <tr>\n",
       "      <th>b'Hello'</th>\n",
       "      <td>1</td>\n",
       "      <td>2.0</td>\n",
       "    </tr>\n",
       "    <tr>\n",
       "      <th>b'World'</th>\n",
       "      <td>2</td>\n",
       "      <td>3.0</td>\n",
       "    </tr>\n",
       "  </tbody>\n",
       "</table>\n",
       "</div>"
      ],
      "text/plain": [
       "          A    B\n",
       "C               \n",
       "b'Hello'  1  2.0\n",
       "b'World'  2  3.0"
      ]
     },
     "execution_count": 77,
     "metadata": {},
     "output_type": "execute_result"
    }
   ],
   "source": [
    "pd.DataFrame.from_records(data, index=\"C\")"
   ]
  },
  {
   "cell_type": "code",
   "execution_count": 78,
   "id": "2c4c739d",
   "metadata": {
    "execution": {
     "iopub.execute_input": "2024-07-20T18:55:02.677219Z",
     "iopub.status.busy": "2024-07-20T18:55:02.676832Z",
     "iopub.status.idle": "2024-07-20T18:55:02.691383Z",
     "shell.execute_reply": "2024-07-20T18:55:02.690262Z"
    },
    "papermill": {
     "duration": 0.064793,
     "end_time": "2024-07-20T18:55:02.693915",
     "exception": false,
     "start_time": "2024-07-20T18:55:02.629122",
     "status": "completed"
    },
    "tags": []
   },
   "outputs": [
    {
     "data": {
      "text/html": [
       "<div>\n",
       "<style scoped>\n",
       "    .dataframe tbody tr th:only-of-type {\n",
       "        vertical-align: middle;\n",
       "    }\n",
       "\n",
       "    .dataframe tbody tr th {\n",
       "        vertical-align: top;\n",
       "    }\n",
       "\n",
       "    .dataframe thead th {\n",
       "        text-align: right;\n",
       "    }\n",
       "</style>\n",
       "<table border=\"1\" class=\"dataframe\">\n",
       "  <thead>\n",
       "    <tr style=\"text-align: right;\">\n",
       "      <th></th>\n",
       "      <th>one</th>\n",
       "      <th>two</th>\n",
       "      <th>three</th>\n",
       "      <th>flag</th>\n",
       "    </tr>\n",
       "  </thead>\n",
       "  <tbody>\n",
       "    <tr>\n",
       "      <th>a</th>\n",
       "      <td>1.0</td>\n",
       "      <td>1.0</td>\n",
       "      <td>1.0</td>\n",
       "      <td>False</td>\n",
       "    </tr>\n",
       "    <tr>\n",
       "      <th>b</th>\n",
       "      <td>2.0</td>\n",
       "      <td>2.0</td>\n",
       "      <td>4.0</td>\n",
       "      <td>False</td>\n",
       "    </tr>\n",
       "    <tr>\n",
       "      <th>c</th>\n",
       "      <td>3.0</td>\n",
       "      <td>3.0</td>\n",
       "      <td>9.0</td>\n",
       "      <td>True</td>\n",
       "    </tr>\n",
       "    <tr>\n",
       "      <th>d</th>\n",
       "      <td>NaN</td>\n",
       "      <td>4.0</td>\n",
       "      <td>NaN</td>\n",
       "      <td>False</td>\n",
       "    </tr>\n",
       "  </tbody>\n",
       "</table>\n",
       "</div>"
      ],
      "text/plain": [
       "   one  two  three   flag\n",
       "a  1.0  1.0    1.0  False\n",
       "b  2.0  2.0    4.0  False\n",
       "c  3.0  3.0    9.0   True\n",
       "d  NaN  4.0    NaN  False"
      ]
     },
     "execution_count": 78,
     "metadata": {},
     "output_type": "execute_result"
    }
   ],
   "source": [
    "df[\"three\"] = df[\"one\"] * df[\"two\"]\n",
    "df[\"flag\"] = df[\"one\"] > 2\n",
    "df"
   ]
  },
  {
   "cell_type": "code",
   "execution_count": 79,
   "id": "d845641a",
   "metadata": {
    "execution": {
     "iopub.execute_input": "2024-07-20T18:55:02.783807Z",
     "iopub.status.busy": "2024-07-20T18:55:02.783398Z",
     "iopub.status.idle": "2024-07-20T18:55:02.795113Z",
     "shell.execute_reply": "2024-07-20T18:55:02.794024Z"
    },
    "papermill": {
     "duration": 0.059987,
     "end_time": "2024-07-20T18:55:02.797422",
     "exception": false,
     "start_time": "2024-07-20T18:55:02.737435",
     "status": "completed"
    },
    "tags": []
   },
   "outputs": [
    {
     "data": {
      "text/html": [
       "<div>\n",
       "<style scoped>\n",
       "    .dataframe tbody tr th:only-of-type {\n",
       "        vertical-align: middle;\n",
       "    }\n",
       "\n",
       "    .dataframe tbody tr th {\n",
       "        vertical-align: top;\n",
       "    }\n",
       "\n",
       "    .dataframe thead th {\n",
       "        text-align: right;\n",
       "    }\n",
       "</style>\n",
       "<table border=\"1\" class=\"dataframe\">\n",
       "  <thead>\n",
       "    <tr style=\"text-align: right;\">\n",
       "      <th></th>\n",
       "      <th>one</th>\n",
       "      <th>flag</th>\n",
       "    </tr>\n",
       "  </thead>\n",
       "  <tbody>\n",
       "    <tr>\n",
       "      <th>a</th>\n",
       "      <td>1.0</td>\n",
       "      <td>False</td>\n",
       "    </tr>\n",
       "    <tr>\n",
       "      <th>b</th>\n",
       "      <td>2.0</td>\n",
       "      <td>False</td>\n",
       "    </tr>\n",
       "    <tr>\n",
       "      <th>c</th>\n",
       "      <td>3.0</td>\n",
       "      <td>True</td>\n",
       "    </tr>\n",
       "    <tr>\n",
       "      <th>d</th>\n",
       "      <td>NaN</td>\n",
       "      <td>False</td>\n",
       "    </tr>\n",
       "  </tbody>\n",
       "</table>\n",
       "</div>"
      ],
      "text/plain": [
       "   one   flag\n",
       "a  1.0  False\n",
       "b  2.0  False\n",
       "c  3.0   True\n",
       "d  NaN  False"
      ]
     },
     "execution_count": 79,
     "metadata": {},
     "output_type": "execute_result"
    }
   ],
   "source": [
    "del df[\"two\"]\n",
    "three = df.pop(\"three\")\n",
    "df"
   ]
  },
  {
   "cell_type": "code",
   "execution_count": 80,
   "id": "010098f1",
   "metadata": {
    "execution": {
     "iopub.execute_input": "2024-07-20T18:55:02.887196Z",
     "iopub.status.busy": "2024-07-20T18:55:02.886795Z",
     "iopub.status.idle": "2024-07-20T18:55:02.899113Z",
     "shell.execute_reply": "2024-07-20T18:55:02.897911Z"
    },
    "papermill": {
     "duration": 0.060505,
     "end_time": "2024-07-20T18:55:02.901458",
     "exception": false,
     "start_time": "2024-07-20T18:55:02.840953",
     "status": "completed"
    },
    "tags": []
   },
   "outputs": [
    {
     "data": {
      "text/html": [
       "<div>\n",
       "<style scoped>\n",
       "    .dataframe tbody tr th:only-of-type {\n",
       "        vertical-align: middle;\n",
       "    }\n",
       "\n",
       "    .dataframe tbody tr th {\n",
       "        vertical-align: top;\n",
       "    }\n",
       "\n",
       "    .dataframe thead th {\n",
       "        text-align: right;\n",
       "    }\n",
       "</style>\n",
       "<table border=\"1\" class=\"dataframe\">\n",
       "  <thead>\n",
       "    <tr style=\"text-align: right;\">\n",
       "      <th></th>\n",
       "      <th>one</th>\n",
       "      <th>flag</th>\n",
       "      <th>foo</th>\n",
       "    </tr>\n",
       "  </thead>\n",
       "  <tbody>\n",
       "    <tr>\n",
       "      <th>a</th>\n",
       "      <td>1.0</td>\n",
       "      <td>False</td>\n",
       "      <td>bar</td>\n",
       "    </tr>\n",
       "    <tr>\n",
       "      <th>b</th>\n",
       "      <td>2.0</td>\n",
       "      <td>False</td>\n",
       "      <td>bar</td>\n",
       "    </tr>\n",
       "    <tr>\n",
       "      <th>c</th>\n",
       "      <td>3.0</td>\n",
       "      <td>True</td>\n",
       "      <td>bar</td>\n",
       "    </tr>\n",
       "    <tr>\n",
       "      <th>d</th>\n",
       "      <td>NaN</td>\n",
       "      <td>False</td>\n",
       "      <td>bar</td>\n",
       "    </tr>\n",
       "  </tbody>\n",
       "</table>\n",
       "</div>"
      ],
      "text/plain": [
       "   one   flag  foo\n",
       "a  1.0  False  bar\n",
       "b  2.0  False  bar\n",
       "c  3.0   True  bar\n",
       "d  NaN  False  bar"
      ]
     },
     "execution_count": 80,
     "metadata": {},
     "output_type": "execute_result"
    }
   ],
   "source": [
    "df[\"foo\"] = \"bar\"\n",
    "df"
   ]
  },
  {
   "cell_type": "code",
   "execution_count": 81,
   "id": "d33f0a29",
   "metadata": {
    "execution": {
     "iopub.execute_input": "2024-07-20T18:55:02.992709Z",
     "iopub.status.busy": "2024-07-20T18:55:02.992315Z",
     "iopub.status.idle": "2024-07-20T18:55:03.006066Z",
     "shell.execute_reply": "2024-07-20T18:55:03.004928Z"
    },
    "papermill": {
     "duration": 0.062329,
     "end_time": "2024-07-20T18:55:03.008657",
     "exception": false,
     "start_time": "2024-07-20T18:55:02.946328",
     "status": "completed"
    },
    "tags": []
   },
   "outputs": [
    {
     "data": {
      "text/html": [
       "<div>\n",
       "<style scoped>\n",
       "    .dataframe tbody tr th:only-of-type {\n",
       "        vertical-align: middle;\n",
       "    }\n",
       "\n",
       "    .dataframe tbody tr th {\n",
       "        vertical-align: top;\n",
       "    }\n",
       "\n",
       "    .dataframe thead th {\n",
       "        text-align: right;\n",
       "    }\n",
       "</style>\n",
       "<table border=\"1\" class=\"dataframe\">\n",
       "  <thead>\n",
       "    <tr style=\"text-align: right;\">\n",
       "      <th></th>\n",
       "      <th>one</th>\n",
       "      <th>flag</th>\n",
       "      <th>foo</th>\n",
       "      <th>one_trunc</th>\n",
       "    </tr>\n",
       "  </thead>\n",
       "  <tbody>\n",
       "    <tr>\n",
       "      <th>a</th>\n",
       "      <td>1.0</td>\n",
       "      <td>False</td>\n",
       "      <td>bar</td>\n",
       "      <td>1.0</td>\n",
       "    </tr>\n",
       "    <tr>\n",
       "      <th>b</th>\n",
       "      <td>2.0</td>\n",
       "      <td>False</td>\n",
       "      <td>bar</td>\n",
       "      <td>2.0</td>\n",
       "    </tr>\n",
       "    <tr>\n",
       "      <th>c</th>\n",
       "      <td>3.0</td>\n",
       "      <td>True</td>\n",
       "      <td>bar</td>\n",
       "      <td>NaN</td>\n",
       "    </tr>\n",
       "    <tr>\n",
       "      <th>d</th>\n",
       "      <td>NaN</td>\n",
       "      <td>False</td>\n",
       "      <td>bar</td>\n",
       "      <td>NaN</td>\n",
       "    </tr>\n",
       "  </tbody>\n",
       "</table>\n",
       "</div>"
      ],
      "text/plain": [
       "   one   flag  foo  one_trunc\n",
       "a  1.0  False  bar        1.0\n",
       "b  2.0  False  bar        2.0\n",
       "c  3.0   True  bar        NaN\n",
       "d  NaN  False  bar        NaN"
      ]
     },
     "execution_count": 81,
     "metadata": {},
     "output_type": "execute_result"
    }
   ],
   "source": [
    "df[\"one_trunc\"] = df[\"one\"][:2]\n",
    "df"
   ]
  },
  {
   "cell_type": "code",
   "execution_count": 82,
   "id": "f7941d30",
   "metadata": {
    "execution": {
     "iopub.execute_input": "2024-07-20T18:55:03.096361Z",
     "iopub.status.busy": "2024-07-20T18:55:03.095895Z",
     "iopub.status.idle": "2024-07-20T18:55:03.110135Z",
     "shell.execute_reply": "2024-07-20T18:55:03.108975Z"
    },
    "papermill": {
     "duration": 0.061068,
     "end_time": "2024-07-20T18:55:03.112610",
     "exception": false,
     "start_time": "2024-07-20T18:55:03.051542",
     "status": "completed"
    },
    "tags": []
   },
   "outputs": [
    {
     "data": {
      "text/html": [
       "<div>\n",
       "<style scoped>\n",
       "    .dataframe tbody tr th:only-of-type {\n",
       "        vertical-align: middle;\n",
       "    }\n",
       "\n",
       "    .dataframe tbody tr th {\n",
       "        vertical-align: top;\n",
       "    }\n",
       "\n",
       "    .dataframe thead th {\n",
       "        text-align: right;\n",
       "    }\n",
       "</style>\n",
       "<table border=\"1\" class=\"dataframe\">\n",
       "  <thead>\n",
       "    <tr style=\"text-align: right;\">\n",
       "      <th></th>\n",
       "      <th>one</th>\n",
       "      <th>bar</th>\n",
       "      <th>flag</th>\n",
       "      <th>foo</th>\n",
       "      <th>one_trunc</th>\n",
       "    </tr>\n",
       "  </thead>\n",
       "  <tbody>\n",
       "    <tr>\n",
       "      <th>a</th>\n",
       "      <td>1.0</td>\n",
       "      <td>1.0</td>\n",
       "      <td>False</td>\n",
       "      <td>bar</td>\n",
       "      <td>1.0</td>\n",
       "    </tr>\n",
       "    <tr>\n",
       "      <th>b</th>\n",
       "      <td>2.0</td>\n",
       "      <td>2.0</td>\n",
       "      <td>False</td>\n",
       "      <td>bar</td>\n",
       "      <td>2.0</td>\n",
       "    </tr>\n",
       "    <tr>\n",
       "      <th>c</th>\n",
       "      <td>3.0</td>\n",
       "      <td>3.0</td>\n",
       "      <td>True</td>\n",
       "      <td>bar</td>\n",
       "      <td>NaN</td>\n",
       "    </tr>\n",
       "    <tr>\n",
       "      <th>d</th>\n",
       "      <td>NaN</td>\n",
       "      <td>NaN</td>\n",
       "      <td>False</td>\n",
       "      <td>bar</td>\n",
       "      <td>NaN</td>\n",
       "    </tr>\n",
       "  </tbody>\n",
       "</table>\n",
       "</div>"
      ],
      "text/plain": [
       "   one  bar   flag  foo  one_trunc\n",
       "a  1.0  1.0  False  bar        1.0\n",
       "b  2.0  2.0  False  bar        2.0\n",
       "c  3.0  3.0   True  bar        NaN\n",
       "d  NaN  NaN  False  bar        NaN"
      ]
     },
     "execution_count": 82,
     "metadata": {},
     "output_type": "execute_result"
    }
   ],
   "source": [
    "df.insert(1, \"bar\", df[\"one\"])\n",
    "df"
   ]
  },
  {
   "cell_type": "code",
   "execution_count": 83,
   "id": "4a4d683f",
   "metadata": {
    "execution": {
     "iopub.execute_input": "2024-07-20T18:55:03.203962Z",
     "iopub.status.busy": "2024-07-20T18:55:03.203526Z",
     "iopub.status.idle": "2024-07-20T18:55:03.228425Z",
     "shell.execute_reply": "2024-07-20T18:55:03.227163Z"
    },
    "papermill": {
     "duration": 0.074129,
     "end_time": "2024-07-20T18:55:03.231302",
     "exception": false,
     "start_time": "2024-07-20T18:55:03.157173",
     "status": "completed"
    },
    "tags": []
   },
   "outputs": [
    {
     "data": {
      "text/html": [
       "<div>\n",
       "<style scoped>\n",
       "    .dataframe tbody tr th:only-of-type {\n",
       "        vertical-align: middle;\n",
       "    }\n",
       "\n",
       "    .dataframe tbody tr th {\n",
       "        vertical-align: top;\n",
       "    }\n",
       "\n",
       "    .dataframe thead th {\n",
       "        text-align: right;\n",
       "    }\n",
       "</style>\n",
       "<table border=\"1\" class=\"dataframe\">\n",
       "  <thead>\n",
       "    <tr style=\"text-align: right;\">\n",
       "      <th></th>\n",
       "      <th>Id</th>\n",
       "      <th>SepalLengthCm</th>\n",
       "      <th>SepalWidthCm</th>\n",
       "      <th>PetalLengthCm</th>\n",
       "      <th>PetalWidthCm</th>\n",
       "      <th>Species</th>\n",
       "    </tr>\n",
       "  </thead>\n",
       "  <tbody>\n",
       "    <tr>\n",
       "      <th>0</th>\n",
       "      <td>1</td>\n",
       "      <td>5.1</td>\n",
       "      <td>3.5</td>\n",
       "      <td>1.4</td>\n",
       "      <td>0.2</td>\n",
       "      <td>Iris-setosa</td>\n",
       "    </tr>\n",
       "    <tr>\n",
       "      <th>1</th>\n",
       "      <td>2</td>\n",
       "      <td>4.9</td>\n",
       "      <td>3.0</td>\n",
       "      <td>1.4</td>\n",
       "      <td>0.2</td>\n",
       "      <td>Iris-setosa</td>\n",
       "    </tr>\n",
       "    <tr>\n",
       "      <th>2</th>\n",
       "      <td>3</td>\n",
       "      <td>4.7</td>\n",
       "      <td>3.2</td>\n",
       "      <td>1.3</td>\n",
       "      <td>0.2</td>\n",
       "      <td>Iris-setosa</td>\n",
       "    </tr>\n",
       "    <tr>\n",
       "      <th>3</th>\n",
       "      <td>4</td>\n",
       "      <td>4.6</td>\n",
       "      <td>3.1</td>\n",
       "      <td>1.5</td>\n",
       "      <td>0.2</td>\n",
       "      <td>Iris-setosa</td>\n",
       "    </tr>\n",
       "    <tr>\n",
       "      <th>4</th>\n",
       "      <td>5</td>\n",
       "      <td>5.0</td>\n",
       "      <td>3.6</td>\n",
       "      <td>1.4</td>\n",
       "      <td>0.2</td>\n",
       "      <td>Iris-setosa</td>\n",
       "    </tr>\n",
       "  </tbody>\n",
       "</table>\n",
       "</div>"
      ],
      "text/plain": [
       "   Id  SepalLengthCm  SepalWidthCm  PetalLengthCm  PetalWidthCm      Species\n",
       "0   1            5.1           3.5            1.4           0.2  Iris-setosa\n",
       "1   2            4.9           3.0            1.4           0.2  Iris-setosa\n",
       "2   3            4.7           3.2            1.3           0.2  Iris-setosa\n",
       "3   4            4.6           3.1            1.5           0.2  Iris-setosa\n",
       "4   5            5.0           3.6            1.4           0.2  Iris-setosa"
      ]
     },
     "execution_count": 83,
     "metadata": {},
     "output_type": "execute_result"
    }
   ],
   "source": [
    "iris = pd.read_csv(\"/kaggle/input/iris/Iris.csv\")\n",
    "iris.head()"
   ]
  },
  {
   "cell_type": "code",
   "execution_count": 84,
   "id": "5b191f8c",
   "metadata": {
    "execution": {
     "iopub.execute_input": "2024-07-20T18:55:03.320091Z",
     "iopub.status.busy": "2024-07-20T18:55:03.319705Z",
     "iopub.status.idle": "2024-07-20T18:55:03.336584Z",
     "shell.execute_reply": "2024-07-20T18:55:03.335544Z"
    },
    "papermill": {
     "duration": 0.063837,
     "end_time": "2024-07-20T18:55:03.338924",
     "exception": false,
     "start_time": "2024-07-20T18:55:03.275087",
     "status": "completed"
    },
    "tags": []
   },
   "outputs": [
    {
     "data": {
      "text/html": [
       "<div>\n",
       "<style scoped>\n",
       "    .dataframe tbody tr th:only-of-type {\n",
       "        vertical-align: middle;\n",
       "    }\n",
       "\n",
       "    .dataframe tbody tr th {\n",
       "        vertical-align: top;\n",
       "    }\n",
       "\n",
       "    .dataframe thead th {\n",
       "        text-align: right;\n",
       "    }\n",
       "</style>\n",
       "<table border=\"1\" class=\"dataframe\">\n",
       "  <thead>\n",
       "    <tr style=\"text-align: right;\">\n",
       "      <th></th>\n",
       "      <th>Id</th>\n",
       "      <th>SepalLengthCm</th>\n",
       "      <th>SepalWidthCm</th>\n",
       "      <th>PetalLengthCm</th>\n",
       "      <th>PetalWidthCm</th>\n",
       "      <th>Species</th>\n",
       "      <th>sepal_ratio</th>\n",
       "    </tr>\n",
       "  </thead>\n",
       "  <tbody>\n",
       "    <tr>\n",
       "      <th>0</th>\n",
       "      <td>1</td>\n",
       "      <td>5.1</td>\n",
       "      <td>3.5</td>\n",
       "      <td>1.4</td>\n",
       "      <td>0.2</td>\n",
       "      <td>Iris-setosa</td>\n",
       "      <td>0.686275</td>\n",
       "    </tr>\n",
       "    <tr>\n",
       "      <th>1</th>\n",
       "      <td>2</td>\n",
       "      <td>4.9</td>\n",
       "      <td>3.0</td>\n",
       "      <td>1.4</td>\n",
       "      <td>0.2</td>\n",
       "      <td>Iris-setosa</td>\n",
       "      <td>0.612245</td>\n",
       "    </tr>\n",
       "    <tr>\n",
       "      <th>2</th>\n",
       "      <td>3</td>\n",
       "      <td>4.7</td>\n",
       "      <td>3.2</td>\n",
       "      <td>1.3</td>\n",
       "      <td>0.2</td>\n",
       "      <td>Iris-setosa</td>\n",
       "      <td>0.680851</td>\n",
       "    </tr>\n",
       "    <tr>\n",
       "      <th>3</th>\n",
       "      <td>4</td>\n",
       "      <td>4.6</td>\n",
       "      <td>3.1</td>\n",
       "      <td>1.5</td>\n",
       "      <td>0.2</td>\n",
       "      <td>Iris-setosa</td>\n",
       "      <td>0.673913</td>\n",
       "    </tr>\n",
       "    <tr>\n",
       "      <th>4</th>\n",
       "      <td>5</td>\n",
       "      <td>5.0</td>\n",
       "      <td>3.6</td>\n",
       "      <td>1.4</td>\n",
       "      <td>0.2</td>\n",
       "      <td>Iris-setosa</td>\n",
       "      <td>0.720000</td>\n",
       "    </tr>\n",
       "  </tbody>\n",
       "</table>\n",
       "</div>"
      ],
      "text/plain": [
       "   Id  SepalLengthCm  SepalWidthCm  PetalLengthCm  PetalWidthCm      Species  \\\n",
       "0   1            5.1           3.5            1.4           0.2  Iris-setosa   \n",
       "1   2            4.9           3.0            1.4           0.2  Iris-setosa   \n",
       "2   3            4.7           3.2            1.3           0.2  Iris-setosa   \n",
       "3   4            4.6           3.1            1.5           0.2  Iris-setosa   \n",
       "4   5            5.0           3.6            1.4           0.2  Iris-setosa   \n",
       "\n",
       "   sepal_ratio  \n",
       "0     0.686275  \n",
       "1     0.612245  \n",
       "2     0.680851  \n",
       "3     0.673913  \n",
       "4     0.720000  "
      ]
     },
     "execution_count": 84,
     "metadata": {},
     "output_type": "execute_result"
    }
   ],
   "source": [
    "iris.assign(sepal_ratio=iris[\"SepalWidthCm\"] / iris[\"SepalLengthCm\"]).head()"
   ]
  },
  {
   "cell_type": "code",
   "execution_count": 85,
   "id": "014e2ed5",
   "metadata": {
    "execution": {
     "iopub.execute_input": "2024-07-20T18:55:03.429339Z",
     "iopub.status.busy": "2024-07-20T18:55:03.428203Z",
     "iopub.status.idle": "2024-07-20T18:55:03.445003Z",
     "shell.execute_reply": "2024-07-20T18:55:03.443846Z"
    },
    "papermill": {
     "duration": 0.064247,
     "end_time": "2024-07-20T18:55:03.447520",
     "exception": false,
     "start_time": "2024-07-20T18:55:03.383273",
     "status": "completed"
    },
    "tags": []
   },
   "outputs": [
    {
     "data": {
      "text/html": [
       "<div>\n",
       "<style scoped>\n",
       "    .dataframe tbody tr th:only-of-type {\n",
       "        vertical-align: middle;\n",
       "    }\n",
       "\n",
       "    .dataframe tbody tr th {\n",
       "        vertical-align: top;\n",
       "    }\n",
       "\n",
       "    .dataframe thead th {\n",
       "        text-align: right;\n",
       "    }\n",
       "</style>\n",
       "<table border=\"1\" class=\"dataframe\">\n",
       "  <thead>\n",
       "    <tr style=\"text-align: right;\">\n",
       "      <th></th>\n",
       "      <th>Id</th>\n",
       "      <th>SepalLengthCm</th>\n",
       "      <th>SepalWidthCm</th>\n",
       "      <th>PetalLengthCm</th>\n",
       "      <th>PetalWidthCm</th>\n",
       "      <th>Species</th>\n",
       "      <th>sepal_ratio</th>\n",
       "    </tr>\n",
       "  </thead>\n",
       "  <tbody>\n",
       "    <tr>\n",
       "      <th>0</th>\n",
       "      <td>1</td>\n",
       "      <td>5.1</td>\n",
       "      <td>3.5</td>\n",
       "      <td>1.4</td>\n",
       "      <td>0.2</td>\n",
       "      <td>Iris-setosa</td>\n",
       "      <td>0.686275</td>\n",
       "    </tr>\n",
       "    <tr>\n",
       "      <th>1</th>\n",
       "      <td>2</td>\n",
       "      <td>4.9</td>\n",
       "      <td>3.0</td>\n",
       "      <td>1.4</td>\n",
       "      <td>0.2</td>\n",
       "      <td>Iris-setosa</td>\n",
       "      <td>0.612245</td>\n",
       "    </tr>\n",
       "    <tr>\n",
       "      <th>2</th>\n",
       "      <td>3</td>\n",
       "      <td>4.7</td>\n",
       "      <td>3.2</td>\n",
       "      <td>1.3</td>\n",
       "      <td>0.2</td>\n",
       "      <td>Iris-setosa</td>\n",
       "      <td>0.680851</td>\n",
       "    </tr>\n",
       "    <tr>\n",
       "      <th>3</th>\n",
       "      <td>4</td>\n",
       "      <td>4.6</td>\n",
       "      <td>3.1</td>\n",
       "      <td>1.5</td>\n",
       "      <td>0.2</td>\n",
       "      <td>Iris-setosa</td>\n",
       "      <td>0.673913</td>\n",
       "    </tr>\n",
       "    <tr>\n",
       "      <th>4</th>\n",
       "      <td>5</td>\n",
       "      <td>5.0</td>\n",
       "      <td>3.6</td>\n",
       "      <td>1.4</td>\n",
       "      <td>0.2</td>\n",
       "      <td>Iris-setosa</td>\n",
       "      <td>0.720000</td>\n",
       "    </tr>\n",
       "  </tbody>\n",
       "</table>\n",
       "</div>"
      ],
      "text/plain": [
       "   Id  SepalLengthCm  SepalWidthCm  PetalLengthCm  PetalWidthCm      Species  \\\n",
       "0   1            5.1           3.5            1.4           0.2  Iris-setosa   \n",
       "1   2            4.9           3.0            1.4           0.2  Iris-setosa   \n",
       "2   3            4.7           3.2            1.3           0.2  Iris-setosa   \n",
       "3   4            4.6           3.1            1.5           0.2  Iris-setosa   \n",
       "4   5            5.0           3.6            1.4           0.2  Iris-setosa   \n",
       "\n",
       "   sepal_ratio  \n",
       "0     0.686275  \n",
       "1     0.612245  \n",
       "2     0.680851  \n",
       "3     0.673913  \n",
       "4     0.720000  "
      ]
     },
     "execution_count": 85,
     "metadata": {},
     "output_type": "execute_result"
    }
   ],
   "source": [
    "iris.assign(sepal_ratio=lambda x: (x[\"SepalWidthCm\"] / x[\"SepalLengthCm\"])).head()"
   ]
  },
  {
   "cell_type": "code",
   "execution_count": 86,
   "id": "a05a1f9e",
   "metadata": {
    "execution": {
     "iopub.execute_input": "2024-07-20T18:55:03.537119Z",
     "iopub.status.busy": "2024-07-20T18:55:03.536734Z",
     "iopub.status.idle": "2024-07-20T18:55:03.838736Z",
     "shell.execute_reply": "2024-07-20T18:55:03.837624Z"
    },
    "papermill": {
     "duration": 0.349686,
     "end_time": "2024-07-20T18:55:03.841579",
     "exception": false,
     "start_time": "2024-07-20T18:55:03.491893",
     "status": "completed"
    },
    "tags": []
   },
   "outputs": [
    {
     "data": {
      "image/png": "[encoded data removed]",
      "text/plain": [
       "<Figure size 640x480 with 1 Axes>"
      ]
     },
     "metadata": {},
     "output_type": "display_data"
    }
   ],
   "source": [
    "(iris.query(\"SepalLengthCm > 5\").assign(\n",
    "SepalRatio=lambda x: x.SepalWidthCm / x.SepalLengthCm,\n",
    "PetalRatio=lambda x: x.PetalWidthCm / x.PetalLengthCm,\n",
    ").plot(kind=\"scatter\", x=\"SepalRatio\", y=\"PetalRatio\"));"
   ]
  },
  {
   "cell_type": "code",
   "execution_count": 87,
   "id": "47b715d1",
   "metadata": {
    "execution": {
     "iopub.execute_input": "2024-07-20T18:55:03.936929Z",
     "iopub.status.busy": "2024-07-20T18:55:03.936152Z",
     "iopub.status.idle": "2024-07-20T18:55:03.950021Z",
     "shell.execute_reply": "2024-07-20T18:55:03.948963Z"
    },
    "papermill": {
     "duration": 0.065296,
     "end_time": "2024-07-20T18:55:03.952492",
     "exception": false,
     "start_time": "2024-07-20T18:55:03.887196",
     "status": "completed"
    },
    "tags": []
   },
   "outputs": [
    {
     "data": {
      "text/html": [
       "<div>\n",
       "<style scoped>\n",
       "    .dataframe tbody tr th:only-of-type {\n",
       "        vertical-align: middle;\n",
       "    }\n",
       "\n",
       "    .dataframe tbody tr th {\n",
       "        vertical-align: top;\n",
       "    }\n",
       "\n",
       "    .dataframe thead th {\n",
       "        text-align: right;\n",
       "    }\n",
       "</style>\n",
       "<table border=\"1\" class=\"dataframe\">\n",
       "  <thead>\n",
       "    <tr style=\"text-align: right;\">\n",
       "      <th></th>\n",
       "      <th>A</th>\n",
       "      <th>B</th>\n",
       "      <th>C</th>\n",
       "      <th>D</th>\n",
       "    </tr>\n",
       "  </thead>\n",
       "  <tbody>\n",
       "    <tr>\n",
       "      <th>0</th>\n",
       "      <td>1</td>\n",
       "      <td>4</td>\n",
       "      <td>5</td>\n",
       "      <td>6</td>\n",
       "    </tr>\n",
       "    <tr>\n",
       "      <th>1</th>\n",
       "      <td>2</td>\n",
       "      <td>5</td>\n",
       "      <td>7</td>\n",
       "      <td>9</td>\n",
       "    </tr>\n",
       "    <tr>\n",
       "      <th>2</th>\n",
       "      <td>3</td>\n",
       "      <td>6</td>\n",
       "      <td>9</td>\n",
       "      <td>12</td>\n",
       "    </tr>\n",
       "  </tbody>\n",
       "</table>\n",
       "</div>"
      ],
      "text/plain": [
       "   A  B  C   D\n",
       "0  1  4  5   6\n",
       "1  2  5  7   9\n",
       "2  3  6  9  12"
      ]
     },
     "execution_count": 87,
     "metadata": {},
     "output_type": "execute_result"
    }
   ],
   "source": [
    "dfa = pd.DataFrame({\"A\": [1, 2, 3], \"B\": [4, 5, 6]})\n",
    "dfa.assign(C=lambda x: x[\"A\"] + x[\"B\"], D=lambda x: x[\"A\"] + x[\"C\"])"
   ]
  },
  {
   "cell_type": "code",
   "execution_count": 88,
   "id": "51462773",
   "metadata": {
    "execution": {
     "iopub.execute_input": "2024-07-20T18:55:04.046063Z",
     "iopub.status.busy": "2024-07-20T18:55:04.045687Z",
     "iopub.status.idle": "2024-07-20T18:55:04.063029Z",
     "shell.execute_reply": "2024-07-20T18:55:04.061783Z"
    },
    "papermill": {
     "duration": 0.065126,
     "end_time": "2024-07-20T18:55:04.065380",
     "exception": false,
     "start_time": "2024-07-20T18:55:04.000254",
     "status": "completed"
    },
    "tags": []
   },
   "outputs": [
    {
     "data": {
      "text/html": [
       "<div>\n",
       "<style scoped>\n",
       "    .dataframe tbody tr th:only-of-type {\n",
       "        vertical-align: middle;\n",
       "    }\n",
       "\n",
       "    .dataframe tbody tr th {\n",
       "        vertical-align: top;\n",
       "    }\n",
       "\n",
       "    .dataframe thead th {\n",
       "        text-align: right;\n",
       "    }\n",
       "</style>\n",
       "<table border=\"1\" class=\"dataframe\">\n",
       "  <thead>\n",
       "    <tr style=\"text-align: right;\">\n",
       "      <th></th>\n",
       "      <th>A</th>\n",
       "      <th>B</th>\n",
       "      <th>C</th>\n",
       "      <th>D</th>\n",
       "    </tr>\n",
       "  </thead>\n",
       "  <tbody>\n",
       "    <tr>\n",
       "      <th>0</th>\n",
       "      <td>-0.694752</td>\n",
       "      <td>1.022956</td>\n",
       "      <td>2.784821</td>\n",
       "      <td>NaN</td>\n",
       "    </tr>\n",
       "    <tr>\n",
       "      <th>1</th>\n",
       "      <td>-2.065189</td>\n",
       "      <td>1.648572</td>\n",
       "      <td>-1.589570</td>\n",
       "      <td>NaN</td>\n",
       "    </tr>\n",
       "    <tr>\n",
       "      <th>2</th>\n",
       "      <td>3.232590</td>\n",
       "      <td>-0.381577</td>\n",
       "      <td>-1.590541</td>\n",
       "      <td>NaN</td>\n",
       "    </tr>\n",
       "    <tr>\n",
       "      <th>3</th>\n",
       "      <td>0.914759</td>\n",
       "      <td>0.327970</td>\n",
       "      <td>0.645201</td>\n",
       "      <td>NaN</td>\n",
       "    </tr>\n",
       "    <tr>\n",
       "      <th>4</th>\n",
       "      <td>1.362235</td>\n",
       "      <td>-0.402413</td>\n",
       "      <td>-0.836598</td>\n",
       "      <td>NaN</td>\n",
       "    </tr>\n",
       "    <tr>\n",
       "      <th>5</th>\n",
       "      <td>2.259290</td>\n",
       "      <td>-0.652522</td>\n",
       "      <td>0.192210</td>\n",
       "      <td>NaN</td>\n",
       "    </tr>\n",
       "    <tr>\n",
       "      <th>6</th>\n",
       "      <td>0.196668</td>\n",
       "      <td>-0.228691</td>\n",
       "      <td>-0.376418</td>\n",
       "      <td>NaN</td>\n",
       "    </tr>\n",
       "    <tr>\n",
       "      <th>7</th>\n",
       "      <td>NaN</td>\n",
       "      <td>NaN</td>\n",
       "      <td>NaN</td>\n",
       "      <td>NaN</td>\n",
       "    </tr>\n",
       "    <tr>\n",
       "      <th>8</th>\n",
       "      <td>NaN</td>\n",
       "      <td>NaN</td>\n",
       "      <td>NaN</td>\n",
       "      <td>NaN</td>\n",
       "    </tr>\n",
       "    <tr>\n",
       "      <th>9</th>\n",
       "      <td>NaN</td>\n",
       "      <td>NaN</td>\n",
       "      <td>NaN</td>\n",
       "      <td>NaN</td>\n",
       "    </tr>\n",
       "  </tbody>\n",
       "</table>\n",
       "</div>"
      ],
      "text/plain": [
       "          A         B         C   D\n",
       "0 -0.694752  1.022956  2.784821 NaN\n",
       "1 -2.065189  1.648572 -1.589570 NaN\n",
       "2  3.232590 -0.381577 -1.590541 NaN\n",
       "3  0.914759  0.327970  0.645201 NaN\n",
       "4  1.362235 -0.402413 -0.836598 NaN\n",
       "5  2.259290 -0.652522  0.192210 NaN\n",
       "6  0.196668 -0.228691 -0.376418 NaN\n",
       "7       NaN       NaN       NaN NaN\n",
       "8       NaN       NaN       NaN NaN\n",
       "9       NaN       NaN       NaN NaN"
      ]
     },
     "execution_count": 88,
     "metadata": {},
     "output_type": "execute_result"
    }
   ],
   "source": [
    "df = pd.DataFrame(np.random.randn(10, 4), columns=[\"A\", \"B\", \"C\", \"D\"])\n",
    "df2 = pd.DataFrame(np.random.randn(7, 3), columns=[\"A\", \"B\", \"C\"])\n",
    "df + df2"
   ]
  },
  {
   "cell_type": "code",
   "execution_count": 89,
   "id": "0ee14482",
   "metadata": {
    "execution": {
     "iopub.execute_input": "2024-07-20T18:55:04.156045Z",
     "iopub.status.busy": "2024-07-20T18:55:04.155636Z",
     "iopub.status.idle": "2024-07-20T18:55:04.168515Z",
     "shell.execute_reply": "2024-07-20T18:55:04.167313Z"
    },
    "papermill": {
     "duration": 0.061035,
     "end_time": "2024-07-20T18:55:04.170846",
     "exception": false,
     "start_time": "2024-07-20T18:55:04.109811",
     "status": "completed"
    },
    "tags": []
   },
   "outputs": [
    {
     "data": {
      "text/html": [
       "<div>\n",
       "<style scoped>\n",
       "    .dataframe tbody tr th:only-of-type {\n",
       "        vertical-align: middle;\n",
       "    }\n",
       "\n",
       "    .dataframe tbody tr th {\n",
       "        vertical-align: top;\n",
       "    }\n",
       "\n",
       "    .dataframe thead th {\n",
       "        text-align: right;\n",
       "    }\n",
       "</style>\n",
       "<table border=\"1\" class=\"dataframe\">\n",
       "  <thead>\n",
       "    <tr style=\"text-align: right;\">\n",
       "      <th></th>\n",
       "      <th>a</th>\n",
       "      <th>b</th>\n",
       "    </tr>\n",
       "  </thead>\n",
       "  <tbody>\n",
       "    <tr>\n",
       "      <th>0</th>\n",
       "      <td>False</td>\n",
       "      <td>False</td>\n",
       "    </tr>\n",
       "    <tr>\n",
       "      <th>1</th>\n",
       "      <td>False</td>\n",
       "      <td>True</td>\n",
       "    </tr>\n",
       "    <tr>\n",
       "      <th>2</th>\n",
       "      <td>True</td>\n",
       "      <td>False</td>\n",
       "    </tr>\n",
       "  </tbody>\n",
       "</table>\n",
       "</div>"
      ],
      "text/plain": [
       "       a      b\n",
       "0  False  False\n",
       "1  False   True\n",
       "2   True  False"
      ]
     },
     "execution_count": 89,
     "metadata": {},
     "output_type": "execute_result"
    }
   ],
   "source": [
    "df1 = pd.DataFrame({\"a\": [1, 0, 1], \"b\": [0, 1, 1]}, dtype=bool)\n",
    "df2 = pd.DataFrame({\"a\": [0, 1, 1], \"b\": [1, 1, 0]}, dtype=bool)\n",
    "df1 & df2"
   ]
  },
  {
   "cell_type": "code",
   "execution_count": 90,
   "id": "424b20fd",
   "metadata": {
    "execution": {
     "iopub.execute_input": "2024-07-20T18:55:04.265726Z",
     "iopub.status.busy": "2024-07-20T18:55:04.265321Z",
     "iopub.status.idle": "2024-07-20T18:55:04.276105Z",
     "shell.execute_reply": "2024-07-20T18:55:04.274897Z"
    },
    "papermill": {
     "duration": 0.062537,
     "end_time": "2024-07-20T18:55:04.278865",
     "exception": false,
     "start_time": "2024-07-20T18:55:04.216328",
     "status": "completed"
    },
    "tags": []
   },
   "outputs": [
    {
     "data": {
      "text/html": [
       "<div>\n",
       "<style scoped>\n",
       "    .dataframe tbody tr th:only-of-type {\n",
       "        vertical-align: middle;\n",
       "    }\n",
       "\n",
       "    .dataframe tbody tr th {\n",
       "        vertical-align: top;\n",
       "    }\n",
       "\n",
       "    .dataframe thead th {\n",
       "        text-align: right;\n",
       "    }\n",
       "</style>\n",
       "<table border=\"1\" class=\"dataframe\">\n",
       "  <thead>\n",
       "    <tr style=\"text-align: right;\">\n",
       "      <th></th>\n",
       "      <th>a</th>\n",
       "      <th>b</th>\n",
       "    </tr>\n",
       "  </thead>\n",
       "  <tbody>\n",
       "    <tr>\n",
       "      <th>0</th>\n",
       "      <td>True</td>\n",
       "      <td>True</td>\n",
       "    </tr>\n",
       "    <tr>\n",
       "      <th>1</th>\n",
       "      <td>True</td>\n",
       "      <td>True</td>\n",
       "    </tr>\n",
       "    <tr>\n",
       "      <th>2</th>\n",
       "      <td>True</td>\n",
       "      <td>True</td>\n",
       "    </tr>\n",
       "  </tbody>\n",
       "</table>\n",
       "</div>"
      ],
      "text/plain": [
       "      a     b\n",
       "0  True  True\n",
       "1  True  True\n",
       "2  True  True"
      ]
     },
     "execution_count": 90,
     "metadata": {},
     "output_type": "execute_result"
    }
   ],
   "source": [
    "df1 | df2"
   ]
  },
  {
   "cell_type": "code",
   "execution_count": 91,
   "id": "43391488",
   "metadata": {
    "execution": {
     "iopub.execute_input": "2024-07-20T18:55:04.371973Z",
     "iopub.status.busy": "2024-07-20T18:55:04.371571Z",
     "iopub.status.idle": "2024-07-20T18:55:04.382191Z",
     "shell.execute_reply": "2024-07-20T18:55:04.381070Z"
    },
    "papermill": {
     "duration": 0.059697,
     "end_time": "2024-07-20T18:55:04.384419",
     "exception": false,
     "start_time": "2024-07-20T18:55:04.324722",
     "status": "completed"
    },
    "tags": []
   },
   "outputs": [
    {
     "data": {
      "text/html": [
       "<div>\n",
       "<style scoped>\n",
       "    .dataframe tbody tr th:only-of-type {\n",
       "        vertical-align: middle;\n",
       "    }\n",
       "\n",
       "    .dataframe tbody tr th {\n",
       "        vertical-align: top;\n",
       "    }\n",
       "\n",
       "    .dataframe thead th {\n",
       "        text-align: right;\n",
       "    }\n",
       "</style>\n",
       "<table border=\"1\" class=\"dataframe\">\n",
       "  <thead>\n",
       "    <tr style=\"text-align: right;\">\n",
       "      <th></th>\n",
       "      <th>a</th>\n",
       "      <th>b</th>\n",
       "    </tr>\n",
       "  </thead>\n",
       "  <tbody>\n",
       "    <tr>\n",
       "      <th>0</th>\n",
       "      <td>True</td>\n",
       "      <td>True</td>\n",
       "    </tr>\n",
       "    <tr>\n",
       "      <th>1</th>\n",
       "      <td>True</td>\n",
       "      <td>False</td>\n",
       "    </tr>\n",
       "    <tr>\n",
       "      <th>2</th>\n",
       "      <td>False</td>\n",
       "      <td>True</td>\n",
       "    </tr>\n",
       "  </tbody>\n",
       "</table>\n",
       "</div>"
      ],
      "text/plain": [
       "       a      b\n",
       "0   True   True\n",
       "1   True  False\n",
       "2  False   True"
      ]
     },
     "execution_count": 91,
     "metadata": {},
     "output_type": "execute_result"
    }
   ],
   "source": [
    "df1 ^ df2"
   ]
  },
  {
   "cell_type": "code",
   "execution_count": 92,
   "id": "defdf6f1",
   "metadata": {
    "execution": {
     "iopub.execute_input": "2024-07-20T18:55:04.476588Z",
     "iopub.status.busy": "2024-07-20T18:55:04.476141Z",
     "iopub.status.idle": "2024-07-20T18:55:04.486682Z",
     "shell.execute_reply": "2024-07-20T18:55:04.485517Z"
    },
    "papermill": {
     "duration": 0.059605,
     "end_time": "2024-07-20T18:55:04.489249",
     "exception": false,
     "start_time": "2024-07-20T18:55:04.429644",
     "status": "completed"
    },
    "tags": []
   },
   "outputs": [
    {
     "data": {
      "text/html": [
       "<div>\n",
       "<style scoped>\n",
       "    .dataframe tbody tr th:only-of-type {\n",
       "        vertical-align: middle;\n",
       "    }\n",
       "\n",
       "    .dataframe tbody tr th {\n",
       "        vertical-align: top;\n",
       "    }\n",
       "\n",
       "    .dataframe thead th {\n",
       "        text-align: right;\n",
       "    }\n",
       "</style>\n",
       "<table border=\"1\" class=\"dataframe\">\n",
       "  <thead>\n",
       "    <tr style=\"text-align: right;\">\n",
       "      <th></th>\n",
       "      <th>a</th>\n",
       "      <th>b</th>\n",
       "    </tr>\n",
       "  </thead>\n",
       "  <tbody>\n",
       "    <tr>\n",
       "      <th>0</th>\n",
       "      <td>False</td>\n",
       "      <td>True</td>\n",
       "    </tr>\n",
       "    <tr>\n",
       "      <th>1</th>\n",
       "      <td>True</td>\n",
       "      <td>False</td>\n",
       "    </tr>\n",
       "    <tr>\n",
       "      <th>2</th>\n",
       "      <td>False</td>\n",
       "      <td>False</td>\n",
       "    </tr>\n",
       "  </tbody>\n",
       "</table>\n",
       "</div>"
      ],
      "text/plain": [
       "       a      b\n",
       "0  False   True\n",
       "1   True  False\n",
       "2  False  False"
      ]
     },
     "execution_count": 92,
     "metadata": {},
     "output_type": "execute_result"
    }
   ],
   "source": [
    "-df1"
   ]
  },
  {
   "cell_type": "code",
   "execution_count": 93,
   "id": "8abe40b0",
   "metadata": {
    "execution": {
     "iopub.execute_input": "2024-07-20T18:55:04.583359Z",
     "iopub.status.busy": "2024-07-20T18:55:04.582936Z",
     "iopub.status.idle": "2024-07-20T18:55:04.597001Z",
     "shell.execute_reply": "2024-07-20T18:55:04.595812Z"
    },
    "papermill": {
     "duration": 0.063932,
     "end_time": "2024-07-20T18:55:04.599422",
     "exception": false,
     "start_time": "2024-07-20T18:55:04.535490",
     "status": "completed"
    },
    "tags": []
   },
   "outputs": [
    {
     "data": {
      "text/html": [
       "<div>\n",
       "<style scoped>\n",
       "    .dataframe tbody tr th:only-of-type {\n",
       "        vertical-align: middle;\n",
       "    }\n",
       "\n",
       "    .dataframe tbody tr th {\n",
       "        vertical-align: top;\n",
       "    }\n",
       "\n",
       "    .dataframe thead th {\n",
       "        text-align: right;\n",
       "    }\n",
       "</style>\n",
       "<table border=\"1\" class=\"dataframe\">\n",
       "  <thead>\n",
       "    <tr style=\"text-align: right;\">\n",
       "      <th></th>\n",
       "      <th>A</th>\n",
       "      <th>B</th>\n",
       "      <th>C</th>\n",
       "      <th>D</th>\n",
       "    </tr>\n",
       "  </thead>\n",
       "  <tbody>\n",
       "    <tr>\n",
       "      <th>0</th>\n",
       "      <td>0.398760</td>\n",
       "      <td>3.118393</td>\n",
       "      <td>4.399479</td>\n",
       "      <td>0.673198</td>\n",
       "    </tr>\n",
       "    <tr>\n",
       "      <th>1</th>\n",
       "      <td>0.359383</td>\n",
       "      <td>2.603556</td>\n",
       "      <td>0.363580</td>\n",
       "      <td>0.311560</td>\n",
       "    </tr>\n",
       "    <tr>\n",
       "      <th>2</th>\n",
       "      <td>8.916438</td>\n",
       "      <td>0.327805</td>\n",
       "      <td>0.543810</td>\n",
       "      <td>0.989345</td>\n",
       "    </tr>\n",
       "    <tr>\n",
       "      <th>3</th>\n",
       "      <td>1.835526</td>\n",
       "      <td>0.483326</td>\n",
       "      <td>17.055312</td>\n",
       "      <td>0.344737</td>\n",
       "    </tr>\n",
       "    <tr>\n",
       "      <th>4</th>\n",
       "      <td>1.911707</td>\n",
       "      <td>0.409194</td>\n",
       "      <td>0.216461</td>\n",
       "      <td>0.590296</td>\n",
       "    </tr>\n",
       "    <tr>\n",
       "      <th>5</th>\n",
       "      <td>0.927895</td>\n",
       "      <td>0.413001</td>\n",
       "      <td>1.266892</td>\n",
       "      <td>0.580170</td>\n",
       "    </tr>\n",
       "    <tr>\n",
       "      <th>6</th>\n",
       "      <td>1.038060</td>\n",
       "      <td>1.633353</td>\n",
       "      <td>0.493416</td>\n",
       "      <td>1.923136</td>\n",
       "    </tr>\n",
       "    <tr>\n",
       "      <th>7</th>\n",
       "      <td>2.527417</td>\n",
       "      <td>0.677450</td>\n",
       "      <td>5.601381</td>\n",
       "      <td>0.452689</td>\n",
       "    </tr>\n",
       "    <tr>\n",
       "      <th>8</th>\n",
       "      <td>1.779148</td>\n",
       "      <td>1.762000</td>\n",
       "      <td>1.006370</td>\n",
       "      <td>3.441888</td>\n",
       "    </tr>\n",
       "    <tr>\n",
       "      <th>9</th>\n",
       "      <td>0.683019</td>\n",
       "      <td>10.344068</td>\n",
       "      <td>0.353381</td>\n",
       "      <td>1.548381</td>\n",
       "    </tr>\n",
       "  </tbody>\n",
       "</table>\n",
       "</div>"
      ],
      "text/plain": [
       "          A          B          C         D\n",
       "0  0.398760   3.118393   4.399479  0.673198\n",
       "1  0.359383   2.603556   0.363580  0.311560\n",
       "2  8.916438   0.327805   0.543810  0.989345\n",
       "3  1.835526   0.483326  17.055312  0.344737\n",
       "4  1.911707   0.409194   0.216461  0.590296\n",
       "5  0.927895   0.413001   1.266892  0.580170\n",
       "6  1.038060   1.633353   0.493416  1.923136\n",
       "7  2.527417   0.677450   5.601381  0.452689\n",
       "8  1.779148   1.762000   1.006370  3.441888\n",
       "9  0.683019  10.344068   0.353381  1.548381"
      ]
     },
     "execution_count": 93,
     "metadata": {},
     "output_type": "execute_result"
    }
   ],
   "source": [
    "np.exp(df)"
   ]
  },
  {
   "cell_type": "code",
   "execution_count": 94,
   "id": "03e5578f",
   "metadata": {
    "execution": {
     "iopub.execute_input": "2024-07-20T18:55:04.700493Z",
     "iopub.status.busy": "2024-07-20T18:55:04.700074Z",
     "iopub.status.idle": "2024-07-20T18:55:04.709791Z",
     "shell.execute_reply": "2024-07-20T18:55:04.708350Z"
    },
    "papermill": {
     "duration": 0.066374,
     "end_time": "2024-07-20T18:55:04.712345",
     "exception": false,
     "start_time": "2024-07-20T18:55:04.645971",
     "status": "completed"
    },
    "tags": []
   },
   "outputs": [
    {
     "data": {
      "text/plain": [
       "0     2.718282\n",
       "1     7.389056\n",
       "2    20.085537\n",
       "3    54.598150\n",
       "dtype: float64"
      ]
     },
     "execution_count": 94,
     "metadata": {},
     "output_type": "execute_result"
    }
   ],
   "source": [
    "ser = pd.Series([1, 2, 3, 4])\n",
    "np.exp(ser)"
   ]
  },
  {
   "cell_type": "code",
   "execution_count": 95,
   "id": "8f82ba64",
   "metadata": {
    "execution": {
     "iopub.execute_input": "2024-07-20T18:55:04.808743Z",
     "iopub.status.busy": "2024-07-20T18:55:04.808355Z",
     "iopub.status.idle": "2024-07-20T18:55:04.818644Z",
     "shell.execute_reply": "2024-07-20T18:55:04.817355Z"
    },
    "papermill": {
     "duration": 0.063288,
     "end_time": "2024-07-20T18:55:04.821336",
     "exception": false,
     "start_time": "2024-07-20T18:55:04.758048",
     "status": "completed"
    },
    "tags": []
   },
   "outputs": [
    {
     "data": {
      "text/plain": [
       "a    1\n",
       "b    2\n",
       "c    3\n",
       "dtype: int64"
      ]
     },
     "execution_count": 95,
     "metadata": {},
     "output_type": "execute_result"
    }
   ],
   "source": [
    "ser1 = pd.Series([1, 2, 3], index=[\"a\", \"b\", \"c\"])\n",
    "ser2 = pd.Series([1, 3, 5], index=[\"b\", \"a\", \"c\"])\n",
    "ser1"
   ]
  },
  {
   "cell_type": "code",
   "execution_count": 96,
   "id": "182420ec",
   "metadata": {
    "execution": {
     "iopub.execute_input": "2024-07-20T18:55:04.918577Z",
     "iopub.status.busy": "2024-07-20T18:55:04.917164Z",
     "iopub.status.idle": "2024-07-20T18:55:04.927659Z",
     "shell.execute_reply": "2024-07-20T18:55:04.926644Z"
    },
    "papermill": {
     "duration": 0.060412,
     "end_time": "2024-07-20T18:55:04.930179",
     "exception": false,
     "start_time": "2024-07-20T18:55:04.869767",
     "status": "completed"
    },
    "tags": []
   },
   "outputs": [
    {
     "data": {
      "text/plain": [
       "a    1\n",
       "b    0\n",
       "c    3\n",
       "dtype: int64"
      ]
     },
     "execution_count": 96,
     "metadata": {},
     "output_type": "execute_result"
    }
   ],
   "source": [
    "np.remainder(ser1, ser2)"
   ]
  },
  {
   "cell_type": "code",
   "execution_count": 97,
   "id": "3845368e",
   "metadata": {
    "execution": {
     "iopub.execute_input": "2024-07-20T18:55:05.024990Z",
     "iopub.status.busy": "2024-07-20T18:55:05.024443Z",
     "iopub.status.idle": "2024-07-20T18:55:05.035474Z",
     "shell.execute_reply": "2024-07-20T18:55:05.034292Z"
    },
    "papermill": {
     "duration": 0.061863,
     "end_time": "2024-07-20T18:55:05.037879",
     "exception": false,
     "start_time": "2024-07-20T18:55:04.976016",
     "status": "completed"
    },
    "tags": []
   },
   "outputs": [
    {
     "data": {
      "text/plain": [
       "a    NaN\n",
       "b    0.0\n",
       "c    3.0\n",
       "d    NaN\n",
       "dtype: float64"
      ]
     },
     "execution_count": 97,
     "metadata": {},
     "output_type": "execute_result"
    }
   ],
   "source": [
    "ser3 = pd.Series([2, 4, 6], index=[\"b\", \"c\", \"d\"])\n",
    "np.remainder(ser1, ser3)"
   ]
  },
  {
   "cell_type": "code",
   "execution_count": 98,
   "id": "4fa581e2",
   "metadata": {
    "execution": {
     "iopub.execute_input": "2024-07-20T18:55:05.137319Z",
     "iopub.status.busy": "2024-07-20T18:55:05.136258Z",
     "iopub.status.idle": "2024-07-20T18:55:05.148812Z",
     "shell.execute_reply": "2024-07-20T18:55:05.146899Z"
    },
    "papermill": {
     "duration": 0.069019,
     "end_time": "2024-07-20T18:55:05.153728",
     "exception": false,
     "start_time": "2024-07-20T18:55:05.084709",
     "status": "completed"
    },
    "tags": []
   },
   "outputs": [
    {
     "data": {
      "text/plain": [
       "0    4\n",
       "1    5\n",
       "2    6\n",
       "dtype: int64"
      ]
     },
     "execution_count": 98,
     "metadata": {},
     "output_type": "execute_result"
    }
   ],
   "source": [
    "ser = pd.Series([1, 2, 3])\n",
    "idx = pd.Index([4, 5, 6])\n",
    "np.maximum(ser, idx)"
   ]
  },
  {
   "cell_type": "code",
   "execution_count": 99,
   "id": "0b8d8192",
   "metadata": {
    "execution": {
     "iopub.execute_input": "2024-07-20T18:55:05.276275Z",
     "iopub.status.busy": "2024-07-20T18:55:05.275740Z",
     "iopub.status.idle": "2024-07-20T18:55:05.295555Z",
     "shell.execute_reply": "2024-07-20T18:55:05.294098Z"
    },
    "papermill": {
     "duration": 0.087632,
     "end_time": "2024-07-20T18:55:05.298070",
     "exception": false,
     "start_time": "2024-07-20T18:55:05.210438",
     "status": "completed"
    },
    "tags": []
   },
   "outputs": [
    {
     "data": {
      "text/html": [
       "<div>\n",
       "<style scoped>\n",
       "    .dataframe tbody tr th:only-of-type {\n",
       "        vertical-align: middle;\n",
       "    }\n",
       "\n",
       "    .dataframe tbody tr th {\n",
       "        vertical-align: top;\n",
       "    }\n",
       "\n",
       "    .dataframe thead th {\n",
       "        text-align: right;\n",
       "    }\n",
       "</style>\n",
       "<table border=\"1\" class=\"dataframe\">\n",
       "  <thead>\n",
       "    <tr style=\"text-align: right;\">\n",
       "      <th></th>\n",
       "      <th>0</th>\n",
       "      <th>1</th>\n",
       "      <th>2</th>\n",
       "      <th>3</th>\n",
       "      <th>4</th>\n",
       "      <th>5</th>\n",
       "      <th>6</th>\n",
       "      <th>7</th>\n",
       "      <th>8</th>\n",
       "      <th>9</th>\n",
       "      <th>10</th>\n",
       "      <th>11</th>\n",
       "    </tr>\n",
       "  </thead>\n",
       "  <tbody>\n",
       "    <tr>\n",
       "      <th>0</th>\n",
       "      <td>-0.447161</td>\n",
       "      <td>0.933261</td>\n",
       "      <td>-1.934250</td>\n",
       "      <td>-0.126126</td>\n",
       "      <td>1.238725</td>\n",
       "      <td>-1.825639</td>\n",
       "      <td>0.250469</td>\n",
       "      <td>-1.588384</td>\n",
       "      <td>1.492282</td>\n",
       "      <td>0.236705</td>\n",
       "      <td>-0.131273</td>\n",
       "      <td>-1.378702</td>\n",
       "    </tr>\n",
       "    <tr>\n",
       "      <th>1</th>\n",
       "      <td>1.559921</td>\n",
       "      <td>-1.235095</td>\n",
       "      <td>-1.259417</td>\n",
       "      <td>0.896727</td>\n",
       "      <td>-1.005432</td>\n",
       "      <td>1.328071</td>\n",
       "      <td>-2.188901</td>\n",
       "      <td>-0.667045</td>\n",
       "      <td>0.710610</td>\n",
       "      <td>-2.145473</td>\n",
       "      <td>0.284789</td>\n",
       "      <td>-0.414535</td>\n",
       "    </tr>\n",
       "    <tr>\n",
       "      <th>2</th>\n",
       "      <td>0.579909</td>\n",
       "      <td>-0.588480</td>\n",
       "      <td>0.487699</td>\n",
       "      <td>-0.780761</td>\n",
       "      <td>-0.270559</td>\n",
       "      <td>-1.365715</td>\n",
       "      <td>-0.929236</td>\n",
       "      <td>0.151742</td>\n",
       "      <td>-0.391556</td>\n",
       "      <td>-0.026845</td>\n",
       "      <td>0.772137</td>\n",
       "      <td>-1.003883</td>\n",
       "    </tr>\n",
       "  </tbody>\n",
       "</table>\n",
       "</div>"
      ],
      "text/plain": [
       "         0         1         2         3         4         5         6   \\\n",
       "0 -0.447161  0.933261 -1.934250 -0.126126  1.238725 -1.825639  0.250469   \n",
       "1  1.559921 -1.235095 -1.259417  0.896727 -1.005432  1.328071 -2.188901   \n",
       "2  0.579909 -0.588480  0.487699 -0.780761 -0.270559 -1.365715 -0.929236   \n",
       "\n",
       "         7         8         9         10        11  \n",
       "0 -1.588384  1.492282  0.236705 -0.131273 -1.378702  \n",
       "1 -0.667045  0.710610 -2.145473  0.284789 -0.414535  \n",
       "2  0.151742 -0.391556 -0.026845  0.772137 -1.003883  "
      ]
     },
     "execution_count": 99,
     "metadata": {},
     "output_type": "execute_result"
    }
   ],
   "source": [
    "pd.DataFrame(np.random.randn(3, 12))"
   ]
  },
  {
   "cell_type": "code",
   "execution_count": 100,
   "id": "ef7f7541",
   "metadata": {
    "execution": {
     "iopub.execute_input": "2024-07-20T18:55:05.401438Z",
     "iopub.status.busy": "2024-07-20T18:55:05.400521Z",
     "iopub.status.idle": "2024-07-20T18:55:05.418961Z",
     "shell.execute_reply": "2024-07-20T18:55:05.417804Z"
    },
    "papermill": {
     "duration": 0.071521,
     "end_time": "2024-07-20T18:55:05.421432",
     "exception": false,
     "start_time": "2024-07-20T18:55:05.349911",
     "status": "completed"
    },
    "tags": []
   },
   "outputs": [
    {
     "data": {
      "text/html": [
       "<div>\n",
       "<style scoped>\n",
       "    .dataframe tbody tr th:only-of-type {\n",
       "        vertical-align: middle;\n",
       "    }\n",
       "\n",
       "    .dataframe tbody tr th {\n",
       "        vertical-align: top;\n",
       "    }\n",
       "\n",
       "    .dataframe thead th {\n",
       "        text-align: right;\n",
       "    }\n",
       "</style>\n",
       "<table border=\"1\" class=\"dataframe\">\n",
       "  <thead>\n",
       "    <tr style=\"text-align: right;\">\n",
       "      <th></th>\n",
       "      <th>0</th>\n",
       "      <th>1</th>\n",
       "      <th>2</th>\n",
       "      <th>3</th>\n",
       "      <th>4</th>\n",
       "      <th>5</th>\n",
       "      <th>6</th>\n",
       "      <th>7</th>\n",
       "      <th>8</th>\n",
       "      <th>9</th>\n",
       "      <th>10</th>\n",
       "      <th>11</th>\n",
       "    </tr>\n",
       "  </thead>\n",
       "  <tbody>\n",
       "    <tr>\n",
       "      <th>0</th>\n",
       "      <td>0.121577</td>\n",
       "      <td>1.353987</td>\n",
       "      <td>-1.721269</td>\n",
       "      <td>-1.327970</td>\n",
       "      <td>1.544226</td>\n",
       "      <td>-0.466348</td>\n",
       "      <td>-0.410339</td>\n",
       "      <td>-0.485569</td>\n",
       "      <td>0.538453</td>\n",
       "      <td>0.427194</td>\n",
       "      <td>0.988240</td>\n",
       "      <td>-0.196444</td>\n",
       "    </tr>\n",
       "    <tr>\n",
       "      <th>1</th>\n",
       "      <td>0.792236</td>\n",
       "      <td>-0.457809</td>\n",
       "      <td>-0.489410</td>\n",
       "      <td>1.791125</td>\n",
       "      <td>-0.414894</td>\n",
       "      <td>-1.059892</td>\n",
       "      <td>0.617498</td>\n",
       "      <td>0.534035</td>\n",
       "      <td>0.526338</td>\n",
       "      <td>0.397094</td>\n",
       "      <td>2.055410</td>\n",
       "      <td>-1.130384</td>\n",
       "    </tr>\n",
       "    <tr>\n",
       "      <th>2</th>\n",
       "      <td>0.641827</td>\n",
       "      <td>1.351979</td>\n",
       "      <td>0.354020</td>\n",
       "      <td>1.737896</td>\n",
       "      <td>1.010427</td>\n",
       "      <td>0.650302</td>\n",
       "      <td>-0.896380</td>\n",
       "      <td>0.775551</td>\n",
       "      <td>0.052178</td>\n",
       "      <td>-1.752171</td>\n",
       "      <td>1.011437</td>\n",
       "      <td>-0.866978</td>\n",
       "    </tr>\n",
       "  </tbody>\n",
       "</table>\n",
       "</div>"
      ],
      "text/plain": [
       "         0         1         2   \\\n",
       "0  0.121577  1.353987 -1.721269   \n",
       "1  0.792236 -0.457809 -0.489410   \n",
       "2  0.641827  1.351979  0.354020   \n",
       "\n",
       "         3         4         5   \\\n",
       "0 -1.327970  1.544226 -0.466348   \n",
       "1  1.791125 -0.414894 -1.059892   \n",
       "2  1.737896  1.010427  0.650302   \n",
       "\n",
       "         6         7         8   \\\n",
       "0 -0.410339 -0.485569  0.538453   \n",
       "1  0.617498  0.534035  0.526338   \n",
       "2 -0.896380  0.775551  0.052178   \n",
       "\n",
       "         9         10        11  \n",
       "0  0.427194  0.988240 -0.196444  \n",
       "1  0.397094  2.055410 -1.130384  \n",
       "2 -1.752171  1.011437 -0.866978  "
      ]
     },
     "execution_count": 100,
     "metadata": {},
     "output_type": "execute_result"
    }
   ],
   "source": [
    "pd.set_option(\"display.width\", 40) # default is 80\n",
    "pd.DataFrame(np.random.randn(3, 12))"
   ]
  },
  {
   "cell_type": "code",
   "execution_count": 101,
   "id": "099aaafd",
   "metadata": {
    "execution": {
     "iopub.execute_input": "2024-07-20T18:55:05.520399Z",
     "iopub.status.busy": "2024-07-20T18:55:05.519253Z",
     "iopub.status.idle": "2024-07-20T18:55:05.531533Z",
     "shell.execute_reply": "2024-07-20T18:55:05.530253Z"
    },
    "papermill": {
     "duration": 0.064605,
     "end_time": "2024-07-20T18:55:05.534096",
     "exception": false,
     "start_time": "2024-07-20T18:55:05.469491",
     "status": "completed"
    },
    "tags": []
   },
   "outputs": [
    {
     "data": {
      "text/html": [
       "<div>\n",
       "<style scoped>\n",
       "    .dataframe tbody tr th:only-of-type {\n",
       "        vertical-align: middle;\n",
       "    }\n",
       "\n",
       "    .dataframe tbody tr th {\n",
       "        vertical-align: top;\n",
       "    }\n",
       "\n",
       "    .dataframe thead th {\n",
       "        text-align: right;\n",
       "    }\n",
       "</style>\n",
       "<table border=\"1\" class=\"dataframe\">\n",
       "  <thead>\n",
       "    <tr style=\"text-align: right;\">\n",
       "      <th></th>\n",
       "      <th>filename</th>\n",
       "      <th>path</th>\n",
       "    </tr>\n",
       "  </thead>\n",
       "  <tbody>\n",
       "    <tr>\n",
       "      <th>0</th>\n",
       "      <td>filename_01</td>\n",
       "      <td>media/user_name/storage/fo...</td>\n",
       "    </tr>\n",
       "    <tr>\n",
       "      <th>1</th>\n",
       "      <td>filename_02</td>\n",
       "      <td>media/user_name/storage/fo...</td>\n",
       "    </tr>\n",
       "  </tbody>\n",
       "</table>\n",
       "</div>"
      ],
      "text/plain": [
       "      filename  \\\n",
       "0  filename_01   \n",
       "1  filename_02   \n",
       "\n",
       "                            path  \n",
       "0  media/user_name/storage/fo...  \n",
       "1  media/user_name/storage/fo...  "
      ]
     },
     "execution_count": 101,
     "metadata": {},
     "output_type": "execute_result"
    }
   ],
   "source": [
    "datafile = {\n",
    "\"filename\": [\"filename_01\", \"filename_02\"],\n",
    "\"path\": [\n",
    "\"media/user_name/storage/folder_01/filename_01\",\n",
    "\"media/user_name/storage/folder_02/filename_02\",]\n",
    "}\n",
    "\n",
    "pd.set_option(\"display.max_colwidth\", 30)\n",
    "pd.DataFrame(datafile)"
   ]
  },
  {
   "cell_type": "code",
   "execution_count": 102,
   "id": "c300ebf5",
   "metadata": {
    "execution": {
     "iopub.execute_input": "2024-07-20T18:55:05.629424Z",
     "iopub.status.busy": "2024-07-20T18:55:05.628990Z",
     "iopub.status.idle": "2024-07-20T18:55:05.640044Z",
     "shell.execute_reply": "2024-07-20T18:55:05.638926Z"
    },
    "papermill": {
     "duration": 0.061652,
     "end_time": "2024-07-20T18:55:05.642713",
     "exception": false,
     "start_time": "2024-07-20T18:55:05.581061",
     "status": "completed"
    },
    "tags": []
   },
   "outputs": [
    {
     "data": {
      "text/html": [
       "<div>\n",
       "<style scoped>\n",
       "    .dataframe tbody tr th:only-of-type {\n",
       "        vertical-align: middle;\n",
       "    }\n",
       "\n",
       "    .dataframe tbody tr th {\n",
       "        vertical-align: top;\n",
       "    }\n",
       "\n",
       "    .dataframe thead th {\n",
       "        text-align: right;\n",
       "    }\n",
       "</style>\n",
       "<table border=\"1\" class=\"dataframe\">\n",
       "  <thead>\n",
       "    <tr style=\"text-align: right;\">\n",
       "      <th></th>\n",
       "      <th>filename</th>\n",
       "      <th>path</th>\n",
       "    </tr>\n",
       "  </thead>\n",
       "  <tbody>\n",
       "    <tr>\n",
       "      <th>0</th>\n",
       "      <td>filename_01</td>\n",
       "      <td>media/user_name/storage/folder_01/filename_01</td>\n",
       "    </tr>\n",
       "    <tr>\n",
       "      <th>1</th>\n",
       "      <td>filename_02</td>\n",
       "      <td>media/user_name/storage/folder_02/filename_02</td>\n",
       "    </tr>\n",
       "  </tbody>\n",
       "</table>\n",
       "</div>"
      ],
      "text/plain": [
       "      filename  \\\n",
       "0  filename_01   \n",
       "1  filename_02   \n",
       "\n",
       "                                            path  \n",
       "0  media/user_name/storage/folder_01/filename_01  \n",
       "1  media/user_name/storage/folder_02/filename_02  "
      ]
     },
     "execution_count": 102,
     "metadata": {},
     "output_type": "execute_result"
    }
   ],
   "source": [
    "pd.set_option(\"display.max_colwidth\", 100)\n",
    "pd.DataFrame(datafile)"
   ]
  },
  {
   "cell_type": "code",
   "execution_count": 103,
   "id": "ff329719",
   "metadata": {
    "execution": {
     "iopub.execute_input": "2024-07-20T18:55:05.741498Z",
     "iopub.status.busy": "2024-07-20T18:55:05.741054Z",
     "iopub.status.idle": "2024-07-20T18:55:05.753571Z",
     "shell.execute_reply": "2024-07-20T18:55:05.752083Z"
    },
    "papermill": {
     "duration": 0.064915,
     "end_time": "2024-07-20T18:55:05.756129",
     "exception": false,
     "start_time": "2024-07-20T18:55:05.691214",
     "status": "completed"
    },
    "tags": []
   },
   "outputs": [
    {
     "data": {
      "text/html": [
       "<div>\n",
       "<style scoped>\n",
       "    .dataframe tbody tr th:only-of-type {\n",
       "        vertical-align: middle;\n",
       "    }\n",
       "\n",
       "    .dataframe tbody tr th {\n",
       "        vertical-align: top;\n",
       "    }\n",
       "\n",
       "    .dataframe thead th {\n",
       "        text-align: right;\n",
       "    }\n",
       "</style>\n",
       "<table border=\"1\" class=\"dataframe\">\n",
       "  <thead>\n",
       "    <tr style=\"text-align: right;\">\n",
       "      <th></th>\n",
       "      <th>foo1</th>\n",
       "      <th>foo2</th>\n",
       "    </tr>\n",
       "  </thead>\n",
       "  <tbody>\n",
       "    <tr>\n",
       "      <th>0</th>\n",
       "      <td>-0.005058</td>\n",
       "      <td>-1.313017</td>\n",
       "    </tr>\n",
       "    <tr>\n",
       "      <th>1</th>\n",
       "      <td>-0.121580</td>\n",
       "      <td>-0.279533</td>\n",
       "    </tr>\n",
       "    <tr>\n",
       "      <th>2</th>\n",
       "      <td>1.175663</td>\n",
       "      <td>-0.036851</td>\n",
       "    </tr>\n",
       "    <tr>\n",
       "      <th>3</th>\n",
       "      <td>0.623517</td>\n",
       "      <td>-0.044475</td>\n",
       "    </tr>\n",
       "    <tr>\n",
       "      <th>4</th>\n",
       "      <td>-0.807418</td>\n",
       "      <td>0.283939</td>\n",
       "    </tr>\n",
       "  </tbody>\n",
       "</table>\n",
       "</div>"
      ],
      "text/plain": [
       "       foo1      foo2\n",
       "0 -0.005058 -1.313017\n",
       "1 -0.121580 -0.279533\n",
       "2  1.175663 -0.036851\n",
       "3  0.623517 -0.044475\n",
       "4 -0.807418  0.283939"
      ]
     },
     "execution_count": 103,
     "metadata": {},
     "output_type": "execute_result"
    }
   ],
   "source": [
    "df = pd.DataFrame({\"foo1\": np.random.randn(5), \"foo2\": np.random.randn(5)})\n",
    "df"
   ]
  },
  {
   "cell_type": "code",
   "execution_count": 104,
   "id": "2db14e9a",
   "metadata": {
    "execution": {
     "iopub.execute_input": "2024-07-20T18:55:05.853236Z",
     "iopub.status.busy": "2024-07-20T18:55:05.852827Z",
     "iopub.status.idle": "2024-07-20T18:55:05.861386Z",
     "shell.execute_reply": "2024-07-20T18:55:05.859971Z"
    },
    "papermill": {
     "duration": 0.06065,
     "end_time": "2024-07-20T18:55:05.864080",
     "exception": false,
     "start_time": "2024-07-20T18:55:05.803430",
     "status": "completed"
    },
    "tags": []
   },
   "outputs": [],
   "source": [
    "index = pd.date_range(\"1/1/2000\", periods=8)\n",
    "s = pd.Series(np.random.randn(5), index=[\"a\", \"b\", \"c\", \"d\", \"e\"])\n",
    "df = pd.DataFrame(np.random.randn(8, 3), index=index, columns=[\"A\", \"B\", \"C\"])"
   ]
  },
  {
   "cell_type": "code",
   "execution_count": 105,
   "id": "91df757e",
   "metadata": {
    "execution": {
     "iopub.execute_input": "2024-07-20T18:55:05.963735Z",
     "iopub.status.busy": "2024-07-20T18:55:05.963300Z",
     "iopub.status.idle": "2024-07-20T18:55:05.972351Z",
     "shell.execute_reply": "2024-07-20T18:55:05.971270Z"
    },
    "papermill": {
     "duration": 0.061401,
     "end_time": "2024-07-20T18:55:05.974714",
     "exception": false,
     "start_time": "2024-07-20T18:55:05.913313",
     "status": "completed"
    },
    "tags": []
   },
   "outputs": [
    {
     "data": {
      "text/plain": [
       "0    0.090152\n",
       "1    1.131645\n",
       "2   -2.492089\n",
       "3   -0.231828\n",
       "4    0.588287\n",
       "dtype: float64"
      ]
     },
     "execution_count": 105,
     "metadata": {},
     "output_type": "execute_result"
    }
   ],
   "source": [
    "long_series = pd.Series(np.random.randn(1000))\n",
    "long_series.head()"
   ]
  },
  {
   "cell_type": "code",
   "execution_count": 106,
   "id": "5c39738f",
   "metadata": {
    "execution": {
     "iopub.execute_input": "2024-07-20T18:55:06.071166Z",
     "iopub.status.busy": "2024-07-20T18:55:06.070716Z",
     "iopub.status.idle": "2024-07-20T18:55:06.082959Z",
     "shell.execute_reply": "2024-07-20T18:55:06.081693Z"
    },
    "papermill": {
     "duration": 0.062929,
     "end_time": "2024-07-20T18:55:06.085403",
     "exception": false,
     "start_time": "2024-07-20T18:55:06.022474",
     "status": "completed"
    },
    "tags": []
   },
   "outputs": [
    {
     "data": {
      "text/html": [
       "<div>\n",
       "<style scoped>\n",
       "    .dataframe tbody tr th:only-of-type {\n",
       "        vertical-align: middle;\n",
       "    }\n",
       "\n",
       "    .dataframe tbody tr th {\n",
       "        vertical-align: top;\n",
       "    }\n",
       "\n",
       "    .dataframe thead th {\n",
       "        text-align: right;\n",
       "    }\n",
       "</style>\n",
       "<table border=\"1\" class=\"dataframe\">\n",
       "  <thead>\n",
       "    <tr style=\"text-align: right;\">\n",
       "      <th></th>\n",
       "      <th>A</th>\n",
       "      <th>B</th>\n",
       "      <th>C</th>\n",
       "    </tr>\n",
       "  </thead>\n",
       "  <tbody>\n",
       "    <tr>\n",
       "      <th>2000-01-01</th>\n",
       "      <td>2.456382</td>\n",
       "      <td>0.307317</td>\n",
       "      <td>0.605127</td>\n",
       "    </tr>\n",
       "    <tr>\n",
       "      <th>2000-01-02</th>\n",
       "      <td>-0.165136</td>\n",
       "      <td>1.083023</td>\n",
       "      <td>1.410186</td>\n",
       "    </tr>\n",
       "  </tbody>\n",
       "</table>\n",
       "</div>"
      ],
      "text/plain": [
       "                   A         B  \\\n",
       "2000-01-01  2.456382  0.307317   \n",
       "2000-01-02 -0.165136  1.083023   \n",
       "\n",
       "                   C  \n",
       "2000-01-01  0.605127  \n",
       "2000-01-02  1.410186  "
      ]
     },
     "execution_count": 106,
     "metadata": {},
     "output_type": "execute_result"
    }
   ],
   "source": [
    "df[:2]"
   ]
  },
  {
   "cell_type": "code",
   "execution_count": 107,
   "id": "185dacba",
   "metadata": {
    "execution": {
     "iopub.execute_input": "2024-07-20T18:55:06.186308Z",
     "iopub.status.busy": "2024-07-20T18:55:06.185870Z",
     "iopub.status.idle": "2024-07-20T18:55:06.198759Z",
     "shell.execute_reply": "2024-07-20T18:55:06.197496Z"
    },
    "papermill": {
     "duration": 0.066169,
     "end_time": "2024-07-20T18:55:06.201311",
     "exception": false,
     "start_time": "2024-07-20T18:55:06.135142",
     "status": "completed"
    },
    "tags": []
   },
   "outputs": [
    {
     "data": {
      "text/html": [
       "<div>\n",
       "<style scoped>\n",
       "    .dataframe tbody tr th:only-of-type {\n",
       "        vertical-align: middle;\n",
       "    }\n",
       "\n",
       "    .dataframe tbody tr th {\n",
       "        vertical-align: top;\n",
       "    }\n",
       "\n",
       "    .dataframe thead th {\n",
       "        text-align: right;\n",
       "    }\n",
       "</style>\n",
       "<table border=\"1\" class=\"dataframe\">\n",
       "  <thead>\n",
       "    <tr style=\"text-align: right;\">\n",
       "      <th></th>\n",
       "      <th>a</th>\n",
       "      <th>b</th>\n",
       "      <th>c</th>\n",
       "    </tr>\n",
       "  </thead>\n",
       "  <tbody>\n",
       "    <tr>\n",
       "      <th>2000-01-01</th>\n",
       "      <td>2.456382</td>\n",
       "      <td>0.307317</td>\n",
       "      <td>0.605127</td>\n",
       "    </tr>\n",
       "    <tr>\n",
       "      <th>2000-01-02</th>\n",
       "      <td>-0.165136</td>\n",
       "      <td>1.083023</td>\n",
       "      <td>1.410186</td>\n",
       "    </tr>\n",
       "    <tr>\n",
       "      <th>2000-01-03</th>\n",
       "      <td>0.098288</td>\n",
       "      <td>-0.969582</td>\n",
       "      <td>-0.510968</td>\n",
       "    </tr>\n",
       "    <tr>\n",
       "      <th>2000-01-04</th>\n",
       "      <td>0.113361</td>\n",
       "      <td>-0.092133</td>\n",
       "      <td>-0.427600</td>\n",
       "    </tr>\n",
       "    <tr>\n",
       "      <th>2000-01-05</th>\n",
       "      <td>0.607143</td>\n",
       "      <td>-0.552850</td>\n",
       "      <td>0.056693</td>\n",
       "    </tr>\n",
       "    <tr>\n",
       "      <th>2000-01-06</th>\n",
       "      <td>1.693715</td>\n",
       "      <td>-0.463951</td>\n",
       "      <td>0.569550</td>\n",
       "    </tr>\n",
       "    <tr>\n",
       "      <th>2000-01-07</th>\n",
       "      <td>-0.417196</td>\n",
       "      <td>0.348843</td>\n",
       "      <td>-0.731802</td>\n",
       "    </tr>\n",
       "    <tr>\n",
       "      <th>2000-01-08</th>\n",
       "      <td>0.390654</td>\n",
       "      <td>0.838946</td>\n",
       "      <td>0.278512</td>\n",
       "    </tr>\n",
       "  </tbody>\n",
       "</table>\n",
       "</div>"
      ],
      "text/plain": [
       "                   a         b  \\\n",
       "2000-01-01  2.456382  0.307317   \n",
       "2000-01-02 -0.165136  1.083023   \n",
       "2000-01-03  0.098288 -0.969582   \n",
       "2000-01-04  0.113361 -0.092133   \n",
       "2000-01-05  0.607143 -0.552850   \n",
       "2000-01-06  1.693715 -0.463951   \n",
       "2000-01-07 -0.417196  0.348843   \n",
       "2000-01-08  0.390654  0.838946   \n",
       "\n",
       "                   c  \n",
       "2000-01-01  0.605127  \n",
       "2000-01-02  1.410186  \n",
       "2000-01-03 -0.510968  \n",
       "2000-01-04 -0.427600  \n",
       "2000-01-05  0.056693  \n",
       "2000-01-06  0.569550  \n",
       "2000-01-07 -0.731802  \n",
       "2000-01-08  0.278512  "
      ]
     },
     "execution_count": 107,
     "metadata": {},
     "output_type": "execute_result"
    }
   ],
   "source": [
    "df.columns = [x.lower() for x in df.columns]\n",
    "df"
   ]
  },
  {
   "cell_type": "code",
   "execution_count": 108,
   "id": "412d267d",
   "metadata": {
    "execution": {
     "iopub.execute_input": "2024-07-20T18:55:06.300564Z",
     "iopub.status.busy": "2024-07-20T18:55:06.299367Z",
     "iopub.status.idle": "2024-07-20T18:55:06.307510Z",
     "shell.execute_reply": "2024-07-20T18:55:06.306357Z"
    },
    "papermill": {
     "duration": 0.059526,
     "end_time": "2024-07-20T18:55:06.310150",
     "exception": false,
     "start_time": "2024-07-20T18:55:06.250624",
     "status": "completed"
    },
    "tags": []
   },
   "outputs": [
    {
     "data": {
      "text/plain": [
       "<PandasArray>\n",
       "[ 0.2708092623757875,\n",
       "  1.5159349324961227,\n",
       "  1.1574030121708565,\n",
       " -0.3707601320485294,\n",
       " -1.0838091093563624]\n",
       "Length: 5, dtype: float64"
      ]
     },
     "execution_count": 108,
     "metadata": {},
     "output_type": "execute_result"
    }
   ],
   "source": [
    "s.array"
   ]
  },
  {
   "cell_type": "code",
   "execution_count": 109,
   "id": "3c0cc26e",
   "metadata": {
    "execution": {
     "iopub.execute_input": "2024-07-20T18:55:06.408180Z",
     "iopub.status.busy": "2024-07-20T18:55:06.407767Z",
     "iopub.status.idle": "2024-07-20T18:55:06.415364Z",
     "shell.execute_reply": "2024-07-20T18:55:06.414236Z"
    },
    "papermill": {
     "duration": 0.059633,
     "end_time": "2024-07-20T18:55:06.417481",
     "exception": false,
     "start_time": "2024-07-20T18:55:06.357848",
     "status": "completed"
    },
    "tags": []
   },
   "outputs": [
    {
     "data": {
      "text/plain": [
       "<PandasArray>\n",
       "['a', 'b', 'c', 'd', 'e']\n",
       "Length: 5, dtype: object"
      ]
     },
     "execution_count": 109,
     "metadata": {},
     "output_type": "execute_result"
    }
   ],
   "source": [
    "s.index.array"
   ]
  },
  {
   "cell_type": "code",
   "execution_count": 110,
   "id": "346c0618",
   "metadata": {
    "execution": {
     "iopub.execute_input": "2024-07-20T18:55:06.516203Z",
     "iopub.status.busy": "2024-07-20T18:55:06.515812Z",
     "iopub.status.idle": "2024-07-20T18:55:06.523081Z",
     "shell.execute_reply": "2024-07-20T18:55:06.521985Z"
    },
    "papermill": {
     "duration": 0.059062,
     "end_time": "2024-07-20T18:55:06.525411",
     "exception": false,
     "start_time": "2024-07-20T18:55:06.466349",
     "status": "completed"
    },
    "tags": []
   },
   "outputs": [
    {
     "data": {
      "text/plain": [
       "array([ 0.27080926,  1.51593493,  1.15740301, -0.37076013, -1.08380911])"
      ]
     },
     "execution_count": 110,
     "metadata": {},
     "output_type": "execute_result"
    }
   ],
   "source": [
    "s.to_numpy()"
   ]
  },
  {
   "cell_type": "code",
   "execution_count": 111,
   "id": "8d181c0c",
   "metadata": {
    "execution": {
     "iopub.execute_input": "2024-07-20T18:55:06.626247Z",
     "iopub.status.busy": "2024-07-20T18:55:06.625839Z",
     "iopub.status.idle": "2024-07-20T18:55:06.633687Z",
     "shell.execute_reply": "2024-07-20T18:55:06.632497Z"
    },
    "papermill": {
     "duration": 0.06278,
     "end_time": "2024-07-20T18:55:06.636240",
     "exception": false,
     "start_time": "2024-07-20T18:55:06.573460",
     "status": "completed"
    },
    "tags": []
   },
   "outputs": [
    {
     "data": {
      "text/plain": [
       "array([ 0.27080926,  1.51593493,  1.15740301, -0.37076013, -1.08380911])"
      ]
     },
     "execution_count": 111,
     "metadata": {},
     "output_type": "execute_result"
    }
   ],
   "source": [
    "np.asarray(s)"
   ]
  },
  {
   "cell_type": "code",
   "execution_count": 112,
   "id": "51990505",
   "metadata": {
    "execution": {
     "iopub.execute_input": "2024-07-20T18:55:06.734972Z",
     "iopub.status.busy": "2024-07-20T18:55:06.734584Z",
     "iopub.status.idle": "2024-07-20T18:55:06.790360Z",
     "shell.execute_reply": "2024-07-20T18:55:06.789082Z"
    },
    "papermill": {
     "duration": 0.107052,
     "end_time": "2024-07-20T18:55:06.792953",
     "exception": false,
     "start_time": "2024-07-20T18:55:06.685901",
     "status": "completed"
    },
    "tags": []
   },
   "outputs": [
    {
     "data": {
      "text/plain": [
       "array([Timestamp('2000-01-01 00:00:00+0100', tz='CET'),\n",
       "       Timestamp('2000-01-02 00:00:00+0100', tz='CET')], dtype=object)"
      ]
     },
     "execution_count": 112,
     "metadata": {},
     "output_type": "execute_result"
    }
   ],
   "source": [
    "ser = pd.Series(pd.date_range(\"2000\", periods=2, tz=\"CET\"))\n",
    "ser.to_numpy(dtype=object)"
   ]
  },
  {
   "cell_type": "code",
   "execution_count": 113,
   "id": "1f18aefd",
   "metadata": {
    "execution": {
     "iopub.execute_input": "2024-07-20T18:55:06.890898Z",
     "iopub.status.busy": "2024-07-20T18:55:06.890513Z",
     "iopub.status.idle": "2024-07-20T18:55:06.896053Z",
     "shell.execute_reply": "2024-07-20T18:55:06.894744Z"
    },
    "papermill": {
     "duration": 0.05792,
     "end_time": "2024-07-20T18:55:06.898388",
     "exception": false,
     "start_time": "2024-07-20T18:55:06.840468",
     "status": "completed"
    },
    "tags": []
   },
   "outputs": [],
   "source": [
    "pd.set_option(\"compute.use_bottleneck\", False)\n",
    "pd.set_option(\"compute.use_numexpr\", False)"
   ]
  },
  {
   "cell_type": "code",
   "execution_count": 114,
   "id": "65be4a80",
   "metadata": {
    "execution": {
     "iopub.execute_input": "2024-07-20T18:55:06.997148Z",
     "iopub.status.busy": "2024-07-20T18:55:06.996764Z",
     "iopub.status.idle": "2024-07-20T18:55:07.012233Z",
     "shell.execute_reply": "2024-07-20T18:55:07.011055Z"
    },
    "papermill": {
     "duration": 0.067691,
     "end_time": "2024-07-20T18:55:07.014766",
     "exception": false,
     "start_time": "2024-07-20T18:55:06.947075",
     "status": "completed"
    },
    "tags": []
   },
   "outputs": [
    {
     "data": {
      "text/html": [
       "<div>\n",
       "<style scoped>\n",
       "    .dataframe tbody tr th:only-of-type {\n",
       "        vertical-align: middle;\n",
       "    }\n",
       "\n",
       "    .dataframe tbody tr th {\n",
       "        vertical-align: top;\n",
       "    }\n",
       "\n",
       "    .dataframe thead th {\n",
       "        text-align: right;\n",
       "    }\n",
       "</style>\n",
       "<table border=\"1\" class=\"dataframe\">\n",
       "  <thead>\n",
       "    <tr style=\"text-align: right;\">\n",
       "      <th></th>\n",
       "      <th>one</th>\n",
       "      <th>two</th>\n",
       "      <th>three</th>\n",
       "    </tr>\n",
       "  </thead>\n",
       "  <tbody>\n",
       "    <tr>\n",
       "      <th>a</th>\n",
       "      <td>1.945301</td>\n",
       "      <td>-0.985192</td>\n",
       "      <td>NaN</td>\n",
       "    </tr>\n",
       "    <tr>\n",
       "      <th>b</th>\n",
       "      <td>-1.609825</td>\n",
       "      <td>0.233019</td>\n",
       "      <td>0.563090</td>\n",
       "    </tr>\n",
       "    <tr>\n",
       "      <th>c</th>\n",
       "      <td>2.194108</td>\n",
       "      <td>2.255466</td>\n",
       "      <td>-0.743941</td>\n",
       "    </tr>\n",
       "    <tr>\n",
       "      <th>d</th>\n",
       "      <td>NaN</td>\n",
       "      <td>-1.001394</td>\n",
       "      <td>-0.035130</td>\n",
       "    </tr>\n",
       "  </tbody>\n",
       "</table>\n",
       "</div>"
      ],
      "text/plain": [
       "        one       two     three\n",
       "a  1.945301 -0.985192       NaN\n",
       "b -1.609825  0.233019  0.563090\n",
       "c  2.194108  2.255466 -0.743941\n",
       "d       NaN -1.001394 -0.035130"
      ]
     },
     "execution_count": 114,
     "metadata": {},
     "output_type": "execute_result"
    }
   ],
   "source": [
    "df = pd.DataFrame({\n",
    "\"one\": pd.Series(np.random.randn(3), index=[\"a\", \"b\", \"c\"]),\n",
    "\"two\": pd.Series(np.random.randn(4), index=[\"a\", \"b\", \"c\", \"d\"]),\n",
    "\"three\": pd.Series(np.random.randn(3), index=[\"b\", \"c\", \"d\"]),\n",
    "})\n",
    "\n",
    "df"
   ]
  },
  {
   "cell_type": "code",
   "execution_count": 115,
   "id": "91cbab12",
   "metadata": {
    "execution": {
     "iopub.execute_input": "2024-07-20T18:55:07.114501Z",
     "iopub.status.busy": "2024-07-20T18:55:07.114053Z",
     "iopub.status.idle": "2024-07-20T18:55:07.127798Z",
     "shell.execute_reply": "2024-07-20T18:55:07.126665Z"
    },
    "papermill": {
     "duration": 0.06638,
     "end_time": "2024-07-20T18:55:07.130271",
     "exception": false,
     "start_time": "2024-07-20T18:55:07.063891",
     "status": "completed"
    },
    "tags": []
   },
   "outputs": [
    {
     "data": {
      "text/html": [
       "<div>\n",
       "<style scoped>\n",
       "    .dataframe tbody tr th:only-of-type {\n",
       "        vertical-align: middle;\n",
       "    }\n",
       "\n",
       "    .dataframe tbody tr th {\n",
       "        vertical-align: top;\n",
       "    }\n",
       "\n",
       "    .dataframe thead th {\n",
       "        text-align: right;\n",
       "    }\n",
       "</style>\n",
       "<table border=\"1\" class=\"dataframe\">\n",
       "  <thead>\n",
       "    <tr style=\"text-align: right;\">\n",
       "      <th></th>\n",
       "      <th>one</th>\n",
       "      <th>two</th>\n",
       "      <th>three</th>\n",
       "    </tr>\n",
       "  </thead>\n",
       "  <tbody>\n",
       "    <tr>\n",
       "      <th>a</th>\n",
       "      <td>3.555126</td>\n",
       "      <td>-1.218212</td>\n",
       "      <td>NaN</td>\n",
       "    </tr>\n",
       "    <tr>\n",
       "      <th>b</th>\n",
       "      <td>0.000000</td>\n",
       "      <td>0.000000</td>\n",
       "      <td>0.000000</td>\n",
       "    </tr>\n",
       "    <tr>\n",
       "      <th>c</th>\n",
       "      <td>3.803933</td>\n",
       "      <td>2.022447</td>\n",
       "      <td>-1.307031</td>\n",
       "    </tr>\n",
       "    <tr>\n",
       "      <th>d</th>\n",
       "      <td>NaN</td>\n",
       "      <td>-1.234414</td>\n",
       "      <td>-0.598221</td>\n",
       "    </tr>\n",
       "  </tbody>\n",
       "</table>\n",
       "</div>"
      ],
      "text/plain": [
       "        one       two     three\n",
       "a  3.555126 -1.218212       NaN\n",
       "b  0.000000  0.000000  0.000000\n",
       "c  3.803933  2.022447 -1.307031\n",
       "d       NaN -1.234414 -0.598221"
      ]
     },
     "execution_count": 115,
     "metadata": {},
     "output_type": "execute_result"
    }
   ],
   "source": [
    "row = df.iloc[1]\n",
    "column = df[\"two\"]\n",
    "df.sub(row, axis=\"columns\")"
   ]
  },
  {
   "cell_type": "code",
   "execution_count": 116,
   "id": "c74acc74",
   "metadata": {
    "execution": {
     "iopub.execute_input": "2024-07-20T18:55:07.231464Z",
     "iopub.status.busy": "2024-07-20T18:55:07.231012Z",
     "iopub.status.idle": "2024-07-20T18:55:07.244523Z",
     "shell.execute_reply": "2024-07-20T18:55:07.243246Z"
    },
    "papermill": {
     "duration": 0.068329,
     "end_time": "2024-07-20T18:55:07.247080",
     "exception": false,
     "start_time": "2024-07-20T18:55:07.178751",
     "status": "completed"
    },
    "tags": []
   },
   "outputs": [
    {
     "data": {
      "text/html": [
       "<div>\n",
       "<style scoped>\n",
       "    .dataframe tbody tr th:only-of-type {\n",
       "        vertical-align: middle;\n",
       "    }\n",
       "\n",
       "    .dataframe tbody tr th {\n",
       "        vertical-align: top;\n",
       "    }\n",
       "\n",
       "    .dataframe thead th {\n",
       "        text-align: right;\n",
       "    }\n",
       "</style>\n",
       "<table border=\"1\" class=\"dataframe\">\n",
       "  <thead>\n",
       "    <tr style=\"text-align: right;\">\n",
       "      <th></th>\n",
       "      <th>one</th>\n",
       "      <th>two</th>\n",
       "      <th>three</th>\n",
       "    </tr>\n",
       "  </thead>\n",
       "  <tbody>\n",
       "    <tr>\n",
       "      <th>a</th>\n",
       "      <td>3.555126</td>\n",
       "      <td>-1.218212</td>\n",
       "      <td>NaN</td>\n",
       "    </tr>\n",
       "    <tr>\n",
       "      <th>b</th>\n",
       "      <td>0.000000</td>\n",
       "      <td>0.000000</td>\n",
       "      <td>0.000000</td>\n",
       "    </tr>\n",
       "    <tr>\n",
       "      <th>c</th>\n",
       "      <td>3.803933</td>\n",
       "      <td>2.022447</td>\n",
       "      <td>-1.307031</td>\n",
       "    </tr>\n",
       "    <tr>\n",
       "      <th>d</th>\n",
       "      <td>NaN</td>\n",
       "      <td>-1.234414</td>\n",
       "      <td>-0.598221</td>\n",
       "    </tr>\n",
       "  </tbody>\n",
       "</table>\n",
       "</div>"
      ],
      "text/plain": [
       "        one       two     three\n",
       "a  3.555126 -1.218212       NaN\n",
       "b  0.000000  0.000000  0.000000\n",
       "c  3.803933  2.022447 -1.307031\n",
       "d       NaN -1.234414 -0.598221"
      ]
     },
     "execution_count": 116,
     "metadata": {},
     "output_type": "execute_result"
    }
   ],
   "source": [
    "df.sub(row, axis=1)"
   ]
  },
  {
   "cell_type": "code",
   "execution_count": 117,
   "id": "622df4e3",
   "metadata": {
    "execution": {
     "iopub.execute_input": "2024-07-20T18:55:07.411811Z",
     "iopub.status.busy": "2024-07-20T18:55:07.411424Z",
     "iopub.status.idle": "2024-07-20T18:55:07.424463Z",
     "shell.execute_reply": "2024-07-20T18:55:07.423232Z"
    },
    "papermill": {
     "duration": 0.066155,
     "end_time": "2024-07-20T18:55:07.426750",
     "exception": false,
     "start_time": "2024-07-20T18:55:07.360595",
     "status": "completed"
    },
    "tags": []
   },
   "outputs": [
    {
     "data": {
      "text/html": [
       "<div>\n",
       "<style scoped>\n",
       "    .dataframe tbody tr th:only-of-type {\n",
       "        vertical-align: middle;\n",
       "    }\n",
       "\n",
       "    .dataframe tbody tr th {\n",
       "        vertical-align: top;\n",
       "    }\n",
       "\n",
       "    .dataframe thead th {\n",
       "        text-align: right;\n",
       "    }\n",
       "</style>\n",
       "<table border=\"1\" class=\"dataframe\">\n",
       "  <thead>\n",
       "    <tr style=\"text-align: right;\">\n",
       "      <th></th>\n",
       "      <th>one</th>\n",
       "      <th>two</th>\n",
       "      <th>three</th>\n",
       "    </tr>\n",
       "  </thead>\n",
       "  <tbody>\n",
       "    <tr>\n",
       "      <th>a</th>\n",
       "      <td>2.930493</td>\n",
       "      <td>0.0</td>\n",
       "      <td>NaN</td>\n",
       "    </tr>\n",
       "    <tr>\n",
       "      <th>b</th>\n",
       "      <td>-1.842844</td>\n",
       "      <td>0.0</td>\n",
       "      <td>0.330071</td>\n",
       "    </tr>\n",
       "    <tr>\n",
       "      <th>c</th>\n",
       "      <td>-0.061358</td>\n",
       "      <td>0.0</td>\n",
       "      <td>-2.999407</td>\n",
       "    </tr>\n",
       "    <tr>\n",
       "      <th>d</th>\n",
       "      <td>NaN</td>\n",
       "      <td>0.0</td>\n",
       "      <td>0.966264</td>\n",
       "    </tr>\n",
       "  </tbody>\n",
       "</table>\n",
       "</div>"
      ],
      "text/plain": [
       "        one  two     three\n",
       "a  2.930493  0.0       NaN\n",
       "b -1.842844  0.0  0.330071\n",
       "c -0.061358  0.0 -2.999407\n",
       "d       NaN  0.0  0.966264"
      ]
     },
     "execution_count": 117,
     "metadata": {},
     "output_type": "execute_result"
    }
   ],
   "source": [
    "df.sub(column, axis=\"index\")"
   ]
  },
  {
   "cell_type": "code",
   "execution_count": 118,
   "id": "cfbc3f07",
   "metadata": {
    "execution": {
     "iopub.execute_input": "2024-07-20T18:55:07.527857Z",
     "iopub.status.busy": "2024-07-20T18:55:07.527432Z",
     "iopub.status.idle": "2024-07-20T18:55:07.542248Z",
     "shell.execute_reply": "2024-07-20T18:55:07.540303Z"
    },
    "papermill": {
     "duration": 0.069046,
     "end_time": "2024-07-20T18:55:07.545206",
     "exception": false,
     "start_time": "2024-07-20T18:55:07.476160",
     "status": "completed"
    },
    "tags": []
   },
   "outputs": [
    {
     "data": {
      "text/html": [
       "<div>\n",
       "<style scoped>\n",
       "    .dataframe tbody tr th:only-of-type {\n",
       "        vertical-align: middle;\n",
       "    }\n",
       "\n",
       "    .dataframe tbody tr th {\n",
       "        vertical-align: top;\n",
       "    }\n",
       "\n",
       "    .dataframe thead th {\n",
       "        text-align: right;\n",
       "    }\n",
       "</style>\n",
       "<table border=\"1\" class=\"dataframe\">\n",
       "  <thead>\n",
       "    <tr style=\"text-align: right;\">\n",
       "      <th></th>\n",
       "      <th>one</th>\n",
       "      <th>two</th>\n",
       "      <th>three</th>\n",
       "    </tr>\n",
       "  </thead>\n",
       "  <tbody>\n",
       "    <tr>\n",
       "      <th>a</th>\n",
       "      <td>2.930493</td>\n",
       "      <td>0.0</td>\n",
       "      <td>NaN</td>\n",
       "    </tr>\n",
       "    <tr>\n",
       "      <th>b</th>\n",
       "      <td>-1.842844</td>\n",
       "      <td>0.0</td>\n",
       "      <td>0.330071</td>\n",
       "    </tr>\n",
       "    <tr>\n",
       "      <th>c</th>\n",
       "      <td>-0.061358</td>\n",
       "      <td>0.0</td>\n",
       "      <td>-2.999407</td>\n",
       "    </tr>\n",
       "    <tr>\n",
       "      <th>d</th>\n",
       "      <td>NaN</td>\n",
       "      <td>0.0</td>\n",
       "      <td>0.966264</td>\n",
       "    </tr>\n",
       "  </tbody>\n",
       "</table>\n",
       "</div>"
      ],
      "text/plain": [
       "        one  two     three\n",
       "a  2.930493  0.0       NaN\n",
       "b -1.842844  0.0  0.330071\n",
       "c -0.061358  0.0 -2.999407\n",
       "d       NaN  0.0  0.966264"
      ]
     },
     "execution_count": 118,
     "metadata": {},
     "output_type": "execute_result"
    }
   ],
   "source": [
    "df.sub(column, axis=0)"
   ]
  },
  {
   "cell_type": "code",
   "execution_count": 119,
   "id": "20c605cf",
   "metadata": {
    "execution": {
     "iopub.execute_input": "2024-07-20T18:55:07.648527Z",
     "iopub.status.busy": "2024-07-20T18:55:07.648097Z",
     "iopub.status.idle": "2024-07-20T18:55:07.668357Z",
     "shell.execute_reply": "2024-07-20T18:55:07.666725Z"
    },
    "papermill": {
     "duration": 0.075442,
     "end_time": "2024-07-20T18:55:07.672032",
     "exception": false,
     "start_time": "2024-07-20T18:55:07.596590",
     "status": "completed"
    },
    "tags": []
   },
   "outputs": [
    {
     "data": {
      "text/html": [
       "<div>\n",
       "<style scoped>\n",
       "    .dataframe tbody tr th:only-of-type {\n",
       "        vertical-align: middle;\n",
       "    }\n",
       "\n",
       "    .dataframe tbody tr th {\n",
       "        vertical-align: top;\n",
       "    }\n",
       "\n",
       "    .dataframe thead th {\n",
       "        text-align: right;\n",
       "    }\n",
       "</style>\n",
       "<table border=\"1\" class=\"dataframe\">\n",
       "  <thead>\n",
       "    <tr style=\"text-align: right;\">\n",
       "      <th></th>\n",
       "      <th></th>\n",
       "      <th>one</th>\n",
       "      <th>two</th>\n",
       "      <th>three</th>\n",
       "    </tr>\n",
       "    <tr>\n",
       "      <th>first</th>\n",
       "      <th>second</th>\n",
       "      <th></th>\n",
       "      <th></th>\n",
       "      <th></th>\n",
       "    </tr>\n",
       "  </thead>\n",
       "  <tbody>\n",
       "    <tr>\n",
       "      <th rowspan=\"3\" valign=\"top\">1</th>\n",
       "      <th>a</th>\n",
       "      <td>2.930493</td>\n",
       "      <td>0.000000</td>\n",
       "      <td>NaN</td>\n",
       "    </tr>\n",
       "    <tr>\n",
       "      <th>b</th>\n",
       "      <td>-1.842844</td>\n",
       "      <td>0.000000</td>\n",
       "      <td>0.330071</td>\n",
       "    </tr>\n",
       "    <tr>\n",
       "      <th>c</th>\n",
       "      <td>-0.061358</td>\n",
       "      <td>0.000000</td>\n",
       "      <td>-2.999407</td>\n",
       "    </tr>\n",
       "    <tr>\n",
       "      <th>2</th>\n",
       "      <th>a</th>\n",
       "      <td>NaN</td>\n",
       "      <td>-0.016202</td>\n",
       "      <td>0.950062</td>\n",
       "    </tr>\n",
       "  </tbody>\n",
       "</table>\n",
       "</div>"
      ],
      "text/plain": [
       "                   one       two  \\\n",
       "first second                       \n",
       "1     a       2.930493  0.000000   \n",
       "      b      -1.842844  0.000000   \n",
       "      c      -0.061358  0.000000   \n",
       "2     a            NaN -0.016202   \n",
       "\n",
       "                 three  \n",
       "first second            \n",
       "1     a            NaN  \n",
       "      b       0.330071  \n",
       "      c      -2.999407  \n",
       "2     a       0.950062  "
      ]
     },
     "execution_count": 119,
     "metadata": {},
     "output_type": "execute_result"
    }
   ],
   "source": [
    "dfmi = df.copy()\n",
    "In [27]: dfmi.index = pd.MultiIndex.from_tuples(\n",
    "[(1, \"a\"), (1, \"b\"), (1, \"c\"), (2, \"a\")], names=[\"first\", \"second\"]\n",
    ")\n",
    "\n",
    "dfmi.sub(column, axis=0, level=\"second\")"
   ]
  },
  {
   "cell_type": "code",
   "execution_count": 120,
   "id": "f363c7f4",
   "metadata": {
    "execution": {
     "iopub.execute_input": "2024-07-20T18:55:07.795336Z",
     "iopub.status.busy": "2024-07-20T18:55:07.794765Z",
     "iopub.status.idle": "2024-07-20T18:55:07.807350Z",
     "shell.execute_reply": "2024-07-20T18:55:07.806019Z"
    },
    "papermill": {
     "duration": 0.087651,
     "end_time": "2024-07-20T18:55:07.809945",
     "exception": false,
     "start_time": "2024-07-20T18:55:07.722294",
     "status": "completed"
    },
    "tags": []
   },
   "outputs": [
    {
     "data": {
      "text/plain": [
       "0    0\n",
       "1    1\n",
       "2    2\n",
       "3    3\n",
       "4    4\n",
       "5    5\n",
       "6    6\n",
       "7    7\n",
       "8    8\n",
       "9    9\n",
       "dtype: int64"
      ]
     },
     "execution_count": 120,
     "metadata": {},
     "output_type": "execute_result"
    }
   ],
   "source": [
    "pd.Series(np.arange(10))"
   ]
  },
  {
   "cell_type": "code",
   "execution_count": 121,
   "id": "37fda48d",
   "metadata": {
    "execution": {
     "iopub.execute_input": "2024-07-20T18:55:07.914857Z",
     "iopub.status.busy": "2024-07-20T18:55:07.914461Z",
     "iopub.status.idle": "2024-07-20T18:55:07.927341Z",
     "shell.execute_reply": "2024-07-20T18:55:07.926112Z"
    },
    "papermill": {
     "duration": 0.067149,
     "end_time": "2024-07-20T18:55:07.929913",
     "exception": false,
     "start_time": "2024-07-20T18:55:07.862764",
     "status": "completed"
    },
    "tags": []
   },
   "outputs": [
    {
     "data": {
      "text/html": [
       "<div>\n",
       "<style scoped>\n",
       "    .dataframe tbody tr th:only-of-type {\n",
       "        vertical-align: middle;\n",
       "    }\n",
       "\n",
       "    .dataframe tbody tr th {\n",
       "        vertical-align: top;\n",
       "    }\n",
       "\n",
       "    .dataframe thead th {\n",
       "        text-align: right;\n",
       "    }\n",
       "</style>\n",
       "<table border=\"1\" class=\"dataframe\">\n",
       "  <thead>\n",
       "    <tr style=\"text-align: right;\">\n",
       "      <th></th>\n",
       "      <th>one</th>\n",
       "      <th>two</th>\n",
       "      <th>three</th>\n",
       "    </tr>\n",
       "  </thead>\n",
       "  <tbody>\n",
       "    <tr>\n",
       "      <th>a</th>\n",
       "      <td>0.0</td>\n",
       "      <td>-1.0</td>\n",
       "      <td>NaN</td>\n",
       "    </tr>\n",
       "    <tr>\n",
       "      <th>b</th>\n",
       "      <td>-1.0</td>\n",
       "      <td>0.0</td>\n",
       "      <td>0.0</td>\n",
       "    </tr>\n",
       "    <tr>\n",
       "      <th>c</th>\n",
       "      <td>0.0</td>\n",
       "      <td>0.0</td>\n",
       "      <td>-1.0</td>\n",
       "    </tr>\n",
       "    <tr>\n",
       "      <th>d</th>\n",
       "      <td>NaN</td>\n",
       "      <td>-1.0</td>\n",
       "      <td>-1.0</td>\n",
       "    </tr>\n",
       "  </tbody>\n",
       "</table>\n",
       "</div>"
      ],
      "text/plain": [
       "   one  two  three\n",
       "a  0.0 -1.0    NaN\n",
       "b -1.0  0.0    0.0\n",
       "c  0.0  0.0   -1.0\n",
       "d  NaN -1.0   -1.0"
      ]
     },
     "execution_count": 121,
     "metadata": {},
     "output_type": "execute_result"
    }
   ],
   "source": [
    "div, rem = divmod(df,3)\n",
    "div"
   ]
  },
  {
   "cell_type": "code",
   "execution_count": 122,
   "id": "858e5070",
   "metadata": {
    "execution": {
     "iopub.execute_input": "2024-07-20T18:55:08.031035Z",
     "iopub.status.busy": "2024-07-20T18:55:08.030609Z",
     "iopub.status.idle": "2024-07-20T18:55:08.038985Z",
     "shell.execute_reply": "2024-07-20T18:55:08.037605Z"
    },
    "papermill": {
     "duration": 0.061287,
     "end_time": "2024-07-20T18:55:08.041533",
     "exception": false,
     "start_time": "2024-07-20T18:55:07.980246",
     "status": "completed"
    },
    "tags": []
   },
   "outputs": [
    {
     "data": {
      "text/plain": [
       "Int64Index([0, 1, 2, 3, 4, 5, 6, 7, 8,\n",
       "            9],\n",
       "           dtype='int64')"
      ]
     },
     "execution_count": 122,
     "metadata": {},
     "output_type": "execute_result"
    }
   ],
   "source": [
    "idx = pd.Index(np.arange(10))\n",
    "idx"
   ]
  },
  {
   "cell_type": "code",
   "execution_count": 123,
   "id": "e80a7acb",
   "metadata": {
    "execution": {
     "iopub.execute_input": "2024-07-20T18:55:08.146626Z",
     "iopub.status.busy": "2024-07-20T18:55:08.146184Z",
     "iopub.status.idle": "2024-07-20T18:55:08.156153Z",
     "shell.execute_reply": "2024-07-20T18:55:08.154900Z"
    },
    "papermill": {
     "duration": 0.066306,
     "end_time": "2024-07-20T18:55:08.158852",
     "exception": false,
     "start_time": "2024-07-20T18:55:08.092546",
     "status": "completed"
    },
    "tags": []
   },
   "outputs": [
    {
     "data": {
      "text/plain": [
       "Int64Index([0, 0, 0, 1, 1, 1, 2, 2, 2,\n",
       "            3],\n",
       "           dtype='int64')"
      ]
     },
     "execution_count": 123,
     "metadata": {},
     "output_type": "execute_result"
    }
   ],
   "source": [
    "div, rem = divmod(idx, 3)\n",
    "div"
   ]
  },
  {
   "cell_type": "code",
   "execution_count": 124,
   "id": "6d5360e8",
   "metadata": {
    "execution": {
     "iopub.execute_input": "2024-07-20T18:55:08.267826Z",
     "iopub.status.busy": "2024-07-20T18:55:08.267420Z",
     "iopub.status.idle": "2024-07-20T18:55:08.279461Z",
     "shell.execute_reply": "2024-07-20T18:55:08.278083Z"
    },
    "papermill": {
     "duration": 0.070498,
     "end_time": "2024-07-20T18:55:08.282175",
     "exception": false,
     "start_time": "2024-07-20T18:55:08.211677",
     "status": "completed"
    },
    "tags": []
   },
   "outputs": [
    {
     "data": {
      "text/html": [
       "<div>\n",
       "<style scoped>\n",
       "    .dataframe tbody tr th:only-of-type {\n",
       "        vertical-align: middle;\n",
       "    }\n",
       "\n",
       "    .dataframe tbody tr th {\n",
       "        vertical-align: top;\n",
       "    }\n",
       "\n",
       "    .dataframe thead th {\n",
       "        text-align: right;\n",
       "    }\n",
       "</style>\n",
       "<table border=\"1\" class=\"dataframe\">\n",
       "  <thead>\n",
       "    <tr style=\"text-align: right;\">\n",
       "      <th></th>\n",
       "      <th>one</th>\n",
       "      <th>two</th>\n",
       "      <th>three</th>\n",
       "    </tr>\n",
       "  </thead>\n",
       "  <tbody>\n",
       "    <tr>\n",
       "      <th>a</th>\n",
       "      <td>False</td>\n",
       "      <td>False</td>\n",
       "      <td>False</td>\n",
       "    </tr>\n",
       "    <tr>\n",
       "      <th>b</th>\n",
       "      <td>False</td>\n",
       "      <td>False</td>\n",
       "      <td>False</td>\n",
       "    </tr>\n",
       "    <tr>\n",
       "      <th>c</th>\n",
       "      <td>False</td>\n",
       "      <td>False</td>\n",
       "      <td>False</td>\n",
       "    </tr>\n",
       "    <tr>\n",
       "      <th>d</th>\n",
       "      <td>False</td>\n",
       "      <td>False</td>\n",
       "      <td>False</td>\n",
       "    </tr>\n",
       "  </tbody>\n",
       "</table>\n",
       "</div>"
      ],
      "text/plain": [
       "     one    two  three\n",
       "a  False  False  False\n",
       "b  False  False  False\n",
       "c  False  False  False\n",
       "d  False  False  False"
      ]
     },
     "execution_count": 124,
     "metadata": {},
     "output_type": "execute_result"
    }
   ],
   "source": [
    "df.gt(df)"
   ]
  },
  {
   "cell_type": "code",
   "execution_count": 125,
   "id": "d88b5954",
   "metadata": {
    "execution": {
     "iopub.execute_input": "2024-07-20T18:55:08.387693Z",
     "iopub.status.busy": "2024-07-20T18:55:08.387272Z",
     "iopub.status.idle": "2024-07-20T18:55:08.397304Z",
     "shell.execute_reply": "2024-07-20T18:55:08.396141Z"
    },
    "papermill": {
     "duration": 0.064837,
     "end_time": "2024-07-20T18:55:08.399692",
     "exception": false,
     "start_time": "2024-07-20T18:55:08.334855",
     "status": "completed"
    },
    "tags": []
   },
   "outputs": [
    {
     "data": {
      "text/plain": [
       "one      False\n",
       "two      False\n",
       "three    False\n",
       "dtype: bool"
      ]
     },
     "execution_count": 125,
     "metadata": {},
     "output_type": "execute_result"
    }
   ],
   "source": [
    "(df > 0).all()"
   ]
  },
  {
   "cell_type": "code",
   "execution_count": 126,
   "id": "f5bc17f2",
   "metadata": {
    "execution": {
     "iopub.execute_input": "2024-07-20T18:55:08.503802Z",
     "iopub.status.busy": "2024-07-20T18:55:08.503387Z",
     "iopub.status.idle": "2024-07-20T18:55:08.513385Z",
     "shell.execute_reply": "2024-07-20T18:55:08.512016Z"
    },
    "papermill": {
     "duration": 0.064897,
     "end_time": "2024-07-20T18:55:08.516014",
     "exception": false,
     "start_time": "2024-07-20T18:55:08.451117",
     "status": "completed"
    },
    "tags": []
   },
   "outputs": [
    {
     "data": {
      "text/plain": [
       "one      True\n",
       "two      True\n",
       "three    True\n",
       "dtype: bool"
      ]
     },
     "execution_count": 126,
     "metadata": {},
     "output_type": "execute_result"
    }
   ],
   "source": [
    "(df > 0).any()"
   ]
  },
  {
   "cell_type": "code",
   "execution_count": 127,
   "id": "cb5a97f6",
   "metadata": {
    "execution": {
     "iopub.execute_input": "2024-07-20T18:55:08.619225Z",
     "iopub.status.busy": "2024-07-20T18:55:08.618822Z",
     "iopub.status.idle": "2024-07-20T18:55:08.627432Z",
     "shell.execute_reply": "2024-07-20T18:55:08.626264Z"
    },
    "papermill": {
     "duration": 0.063251,
     "end_time": "2024-07-20T18:55:08.629763",
     "exception": false,
     "start_time": "2024-07-20T18:55:08.566512",
     "status": "completed"
    },
    "tags": []
   },
   "outputs": [
    {
     "data": {
      "text/plain": [
       "True"
      ]
     },
     "execution_count": 127,
     "metadata": {},
     "output_type": "execute_result"
    }
   ],
   "source": [
    "(df > 0).any().any()"
   ]
  },
  {
   "cell_type": "code",
   "execution_count": 128,
   "id": "65bfd636",
   "metadata": {
    "execution": {
     "iopub.execute_input": "2024-07-20T18:55:08.733389Z",
     "iopub.status.busy": "2024-07-20T18:55:08.732982Z",
     "iopub.status.idle": "2024-07-20T18:55:08.742243Z",
     "shell.execute_reply": "2024-07-20T18:55:08.741135Z"
    },
    "papermill": {
     "duration": 0.062537,
     "end_time": "2024-07-20T18:55:08.744489",
     "exception": false,
     "start_time": "2024-07-20T18:55:08.681952",
     "status": "completed"
    },
    "tags": []
   },
   "outputs": [
    {
     "data": {
      "text/plain": [
       "True"
      ]
     },
     "execution_count": 128,
     "metadata": {},
     "output_type": "execute_result"
    }
   ],
   "source": [
    "pd.DataFrame(columns=list(\"ABC\")).empty"
   ]
  },
  {
   "cell_type": "code",
   "execution_count": 129,
   "id": "86335575",
   "metadata": {
    "execution": {
     "iopub.execute_input": "2024-07-20T18:55:08.848486Z",
     "iopub.status.busy": "2024-07-20T18:55:08.848084Z",
     "iopub.status.idle": "2024-07-20T18:55:08.858760Z",
     "shell.execute_reply": "2024-07-20T18:55:08.857370Z"
    },
    "papermill": {
     "duration": 0.066089,
     "end_time": "2024-07-20T18:55:08.861577",
     "exception": false,
     "start_time": "2024-07-20T18:55:08.795488",
     "status": "completed"
    },
    "tags": []
   },
   "outputs": [
    {
     "data": {
      "text/plain": [
       "one      False\n",
       "two       True\n",
       "three    False\n",
       "dtype: bool"
      ]
     },
     "execution_count": 129,
     "metadata": {},
     "output_type": "execute_result"
    }
   ],
   "source": [
    "(df + df == df * 2).all()"
   ]
  },
  {
   "cell_type": "code",
   "execution_count": 130,
   "id": "027fc04b",
   "metadata": {
    "execution": {
     "iopub.execute_input": "2024-07-20T18:55:08.970139Z",
     "iopub.status.busy": "2024-07-20T18:55:08.969642Z",
     "iopub.status.idle": "2024-07-20T18:55:08.978525Z",
     "shell.execute_reply": "2024-07-20T18:55:08.977358Z"
    },
    "papermill": {
     "duration": 0.067219,
     "end_time": "2024-07-20T18:55:08.981104",
     "exception": false,
     "start_time": "2024-07-20T18:55:08.913885",
     "status": "completed"
    },
    "tags": []
   },
   "outputs": [
    {
     "data": {
      "text/plain": [
       "True"
      ]
     },
     "execution_count": 130,
     "metadata": {},
     "output_type": "execute_result"
    }
   ],
   "source": [
    "(df + df).equals(df * 2)"
   ]
  },
  {
   "cell_type": "code",
   "execution_count": 131,
   "id": "2c891ee5",
   "metadata": {
    "execution": {
     "iopub.execute_input": "2024-07-20T18:55:09.087299Z",
     "iopub.status.busy": "2024-07-20T18:55:09.086909Z",
     "iopub.status.idle": "2024-07-20T18:55:09.096482Z",
     "shell.execute_reply": "2024-07-20T18:55:09.095340Z"
    },
    "papermill": {
     "duration": 0.064428,
     "end_time": "2024-07-20T18:55:09.098931",
     "exception": false,
     "start_time": "2024-07-20T18:55:09.034503",
     "status": "completed"
    },
    "tags": []
   },
   "outputs": [
    {
     "data": {
      "text/plain": [
       "False"
      ]
     },
     "execution_count": 131,
     "metadata": {},
     "output_type": "execute_result"
    }
   ],
   "source": [
    "df1 = pd.DataFrame({\"col\": [\"foo\", 0, np.nan]})\n",
    "df2 = pd.DataFrame({\"col\": [np.nan, 0, \"foo\"]}, index=[2, 1, 0])\n",
    "df1.equals(df2)"
   ]
  },
  {
   "cell_type": "code",
   "execution_count": 132,
   "id": "ebef2cfb",
   "metadata": {
    "execution": {
     "iopub.execute_input": "2024-07-20T18:55:09.201910Z",
     "iopub.status.busy": "2024-07-20T18:55:09.201164Z",
     "iopub.status.idle": "2024-07-20T18:55:09.209648Z",
     "shell.execute_reply": "2024-07-20T18:55:09.208532Z"
    },
    "papermill": {
     "duration": 0.061871,
     "end_time": "2024-07-20T18:55:09.212010",
     "exception": false,
     "start_time": "2024-07-20T18:55:09.150139",
     "status": "completed"
    },
    "tags": []
   },
   "outputs": [
    {
     "data": {
      "text/plain": [
       "0     True\n",
       "1    False\n",
       "2    False\n",
       "dtype: bool"
      ]
     },
     "execution_count": 132,
     "metadata": {},
     "output_type": "execute_result"
    }
   ],
   "source": [
    "pd.Series([\"foo\", \"bar\", \"baz\"]) == \"foo\""
   ]
  },
  {
   "cell_type": "code",
   "execution_count": 133,
   "id": "429e5580",
   "metadata": {
    "execution": {
     "iopub.execute_input": "2024-07-20T18:55:09.318799Z",
     "iopub.status.busy": "2024-07-20T18:55:09.318416Z",
     "iopub.status.idle": "2024-07-20T18:55:09.325698Z",
     "shell.execute_reply": "2024-07-20T18:55:09.324627Z"
    },
    "papermill": {
     "duration": 0.063097,
     "end_time": "2024-07-20T18:55:09.328085",
     "exception": false,
     "start_time": "2024-07-20T18:55:09.264988",
     "status": "completed"
    },
    "tags": []
   },
   "outputs": [
    {
     "data": {
      "text/plain": [
       "array([ True, False, False])"
      ]
     },
     "execution_count": 133,
     "metadata": {},
     "output_type": "execute_result"
    }
   ],
   "source": [
    "pd.Index([\"foo\", \"bar\", \"baz\"]) == \"foo\""
   ]
  },
  {
   "cell_type": "code",
   "execution_count": 134,
   "id": "2a665428",
   "metadata": {
    "execution": {
     "iopub.execute_input": "2024-07-20T18:55:09.430226Z",
     "iopub.status.busy": "2024-07-20T18:55:09.429791Z",
     "iopub.status.idle": "2024-07-20T18:55:09.439219Z",
     "shell.execute_reply": "2024-07-20T18:55:09.438118Z"
    },
    "papermill": {
     "duration": 0.063598,
     "end_time": "2024-07-20T18:55:09.441545",
     "exception": false,
     "start_time": "2024-07-20T18:55:09.377947",
     "status": "completed"
    },
    "tags": []
   },
   "outputs": [
    {
     "data": {
      "text/plain": [
       "0     True\n",
       "1     True\n",
       "2    False\n",
       "dtype: bool"
      ]
     },
     "execution_count": 134,
     "metadata": {},
     "output_type": "execute_result"
    }
   ],
   "source": [
    "pd.Series([\"foo\", \"bar\", \"baz\"]) == pd.Index([\"foo\", \"bar\", \"qux\"])"
   ]
  },
  {
   "cell_type": "code",
   "execution_count": 135,
   "id": "cb63c141",
   "metadata": {
    "execution": {
     "iopub.execute_input": "2024-07-20T18:55:09.548959Z",
     "iopub.status.busy": "2024-07-20T18:55:09.548542Z",
     "iopub.status.idle": "2024-07-20T18:55:09.557948Z",
     "shell.execute_reply": "2024-07-20T18:55:09.556754Z"
    },
    "papermill": {
     "duration": 0.065916,
     "end_time": "2024-07-20T18:55:09.560300",
     "exception": false,
     "start_time": "2024-07-20T18:55:09.494384",
     "status": "completed"
    },
    "tags": []
   },
   "outputs": [
    {
     "data": {
      "text/plain": [
       "0     True\n",
       "1     True\n",
       "2    False\n",
       "dtype: bool"
      ]
     },
     "execution_count": 135,
     "metadata": {},
     "output_type": "execute_result"
    }
   ],
   "source": [
    "pd.Series([\"foo\", \"bar\", \"baz\"]) == np.array([\"foo\", \"bar\", \"qux\"])"
   ]
  },
  {
   "cell_type": "code",
   "execution_count": 136,
   "id": "33a273d6",
   "metadata": {
    "execution": {
     "iopub.execute_input": "2024-07-20T18:55:09.667620Z",
     "iopub.status.busy": "2024-07-20T18:55:09.667135Z",
     "iopub.status.idle": "2024-07-20T18:55:09.675423Z",
     "shell.execute_reply": "2024-07-20T18:55:09.673700Z"
    },
    "papermill": {
     "duration": 0.06588,
     "end_time": "2024-07-20T18:55:09.678441",
     "exception": false,
     "start_time": "2024-07-20T18:55:09.612561",
     "status": "completed"
    },
    "tags": []
   },
   "outputs": [
    {
     "data": {
      "text/plain": [
       "array([False,  True, False])"
      ]
     },
     "execution_count": 136,
     "metadata": {},
     "output_type": "execute_result"
    }
   ],
   "source": [
    "np.array([1, 2, 3]) == np.array([2])"
   ]
  },
  {
   "cell_type": "code",
   "execution_count": 137,
   "id": "984741f7",
   "metadata": {
    "execution": {
     "iopub.execute_input": "2024-07-20T18:55:09.784358Z",
     "iopub.status.busy": "2024-07-20T18:55:09.783921Z",
     "iopub.status.idle": "2024-07-20T18:55:09.799297Z",
     "shell.execute_reply": "2024-07-20T18:55:09.798141Z"
    },
    "papermill": {
     "duration": 0.071848,
     "end_time": "2024-07-20T18:55:09.801815",
     "exception": false,
     "start_time": "2024-07-20T18:55:09.729967",
     "status": "completed"
    },
    "tags": []
   },
   "outputs": [
    {
     "data": {
      "text/html": [
       "<div>\n",
       "<style scoped>\n",
       "    .dataframe tbody tr th:only-of-type {\n",
       "        vertical-align: middle;\n",
       "    }\n",
       "\n",
       "    .dataframe tbody tr th {\n",
       "        vertical-align: top;\n",
       "    }\n",
       "\n",
       "    .dataframe thead th {\n",
       "        text-align: right;\n",
       "    }\n",
       "</style>\n",
       "<table border=\"1\" class=\"dataframe\">\n",
       "  <thead>\n",
       "    <tr style=\"text-align: right;\">\n",
       "      <th></th>\n",
       "      <th>A</th>\n",
       "      <th>B</th>\n",
       "    </tr>\n",
       "  </thead>\n",
       "  <tbody>\n",
       "    <tr>\n",
       "      <th>0</th>\n",
       "      <td>1.0</td>\n",
       "      <td>NaN</td>\n",
       "    </tr>\n",
       "    <tr>\n",
       "      <th>1</th>\n",
       "      <td>NaN</td>\n",
       "      <td>2.0</td>\n",
       "    </tr>\n",
       "    <tr>\n",
       "      <th>2</th>\n",
       "      <td>3.0</td>\n",
       "      <td>3.0</td>\n",
       "    </tr>\n",
       "    <tr>\n",
       "      <th>3</th>\n",
       "      <td>5.0</td>\n",
       "      <td>NaN</td>\n",
       "    </tr>\n",
       "    <tr>\n",
       "      <th>4</th>\n",
       "      <td>NaN</td>\n",
       "      <td>6.0</td>\n",
       "    </tr>\n",
       "  </tbody>\n",
       "</table>\n",
       "</div>"
      ],
      "text/plain": [
       "     A    B\n",
       "0  1.0  NaN\n",
       "1  NaN  2.0\n",
       "2  3.0  3.0\n",
       "3  5.0  NaN\n",
       "4  NaN  6.0"
      ]
     },
     "execution_count": 137,
     "metadata": {},
     "output_type": "execute_result"
    }
   ],
   "source": [
    "df1 = pd.DataFrame(\n",
    "{\"A\": [1.0, np.nan, 3.0, 5.0, np.nan], \"B\": [np.nan, 2.0, 3.0, np.nan, 6.0]}\n",
    ")\n",
    "\n",
    "df2 = pd.DataFrame({\n",
    "\"A\": [5.0, 2.0, 4.0, np.nan, 3.0, 7.0],\n",
    "\"B\": [np.nan, np.nan, 3.0, 4.0, 6.0, 8.0],\n",
    "})\n",
    "\n",
    "df1"
   ]
  },
  {
   "cell_type": "code",
   "execution_count": 138,
   "id": "3909c67c",
   "metadata": {
    "execution": {
     "iopub.execute_input": "2024-07-20T18:55:09.907942Z",
     "iopub.status.busy": "2024-07-20T18:55:09.907535Z",
     "iopub.status.idle": "2024-07-20T18:55:09.922509Z",
     "shell.execute_reply": "2024-07-20T18:55:09.920974Z"
    },
    "papermill": {
     "duration": 0.071054,
     "end_time": "2024-07-20T18:55:09.925082",
     "exception": false,
     "start_time": "2024-07-20T18:55:09.854028",
     "status": "completed"
    },
    "tags": []
   },
   "outputs": [
    {
     "data": {
      "text/html": [
       "<div>\n",
       "<style scoped>\n",
       "    .dataframe tbody tr th:only-of-type {\n",
       "        vertical-align: middle;\n",
       "    }\n",
       "\n",
       "    .dataframe tbody tr th {\n",
       "        vertical-align: top;\n",
       "    }\n",
       "\n",
       "    .dataframe thead th {\n",
       "        text-align: right;\n",
       "    }\n",
       "</style>\n",
       "<table border=\"1\" class=\"dataframe\">\n",
       "  <thead>\n",
       "    <tr style=\"text-align: right;\">\n",
       "      <th></th>\n",
       "      <th>A</th>\n",
       "      <th>B</th>\n",
       "    </tr>\n",
       "  </thead>\n",
       "  <tbody>\n",
       "    <tr>\n",
       "      <th>0</th>\n",
       "      <td>1.0</td>\n",
       "      <td>NaN</td>\n",
       "    </tr>\n",
       "    <tr>\n",
       "      <th>1</th>\n",
       "      <td>2.0</td>\n",
       "      <td>2.0</td>\n",
       "    </tr>\n",
       "    <tr>\n",
       "      <th>2</th>\n",
       "      <td>3.0</td>\n",
       "      <td>3.0</td>\n",
       "    </tr>\n",
       "    <tr>\n",
       "      <th>3</th>\n",
       "      <td>5.0</td>\n",
       "      <td>4.0</td>\n",
       "    </tr>\n",
       "    <tr>\n",
       "      <th>4</th>\n",
       "      <td>3.0</td>\n",
       "      <td>6.0</td>\n",
       "    </tr>\n",
       "    <tr>\n",
       "      <th>5</th>\n",
       "      <td>7.0</td>\n",
       "      <td>8.0</td>\n",
       "    </tr>\n",
       "  </tbody>\n",
       "</table>\n",
       "</div>"
      ],
      "text/plain": [
       "     A    B\n",
       "0  1.0  NaN\n",
       "1  2.0  2.0\n",
       "2  3.0  3.0\n",
       "3  5.0  4.0\n",
       "4  3.0  6.0\n",
       "5  7.0  8.0"
      ]
     },
     "execution_count": 138,
     "metadata": {},
     "output_type": "execute_result"
    }
   ],
   "source": [
    "df1.combine_first(df2)"
   ]
  },
  {
   "cell_type": "code",
   "execution_count": 139,
   "id": "fef2412e",
   "metadata": {
    "execution": {
     "iopub.execute_input": "2024-07-20T18:55:10.030747Z",
     "iopub.status.busy": "2024-07-20T18:55:10.030306Z",
     "iopub.status.idle": "2024-07-20T18:55:10.045502Z",
     "shell.execute_reply": "2024-07-20T18:55:10.044362Z"
    },
    "papermill": {
     "duration": 0.071332,
     "end_time": "2024-07-20T18:55:10.047967",
     "exception": false,
     "start_time": "2024-07-20T18:55:09.976635",
     "status": "completed"
    },
    "tags": []
   },
   "outputs": [
    {
     "data": {
      "text/html": [
       "<div>\n",
       "<style scoped>\n",
       "    .dataframe tbody tr th:only-of-type {\n",
       "        vertical-align: middle;\n",
       "    }\n",
       "\n",
       "    .dataframe tbody tr th {\n",
       "        vertical-align: top;\n",
       "    }\n",
       "\n",
       "    .dataframe thead th {\n",
       "        text-align: right;\n",
       "    }\n",
       "</style>\n",
       "<table border=\"1\" class=\"dataframe\">\n",
       "  <thead>\n",
       "    <tr style=\"text-align: right;\">\n",
       "      <th></th>\n",
       "      <th>A</th>\n",
       "      <th>B</th>\n",
       "    </tr>\n",
       "  </thead>\n",
       "  <tbody>\n",
       "    <tr>\n",
       "      <th>0</th>\n",
       "      <td>1.0</td>\n",
       "      <td>NaN</td>\n",
       "    </tr>\n",
       "    <tr>\n",
       "      <th>1</th>\n",
       "      <td>2.0</td>\n",
       "      <td>2.0</td>\n",
       "    </tr>\n",
       "    <tr>\n",
       "      <th>2</th>\n",
       "      <td>3.0</td>\n",
       "      <td>3.0</td>\n",
       "    </tr>\n",
       "    <tr>\n",
       "      <th>3</th>\n",
       "      <td>5.0</td>\n",
       "      <td>4.0</td>\n",
       "    </tr>\n",
       "    <tr>\n",
       "      <th>4</th>\n",
       "      <td>3.0</td>\n",
       "      <td>6.0</td>\n",
       "    </tr>\n",
       "    <tr>\n",
       "      <th>5</th>\n",
       "      <td>7.0</td>\n",
       "      <td>8.0</td>\n",
       "    </tr>\n",
       "  </tbody>\n",
       "</table>\n",
       "</div>"
      ],
      "text/plain": [
       "     A    B\n",
       "0  1.0  NaN\n",
       "1  2.0  2.0\n",
       "2  3.0  3.0\n",
       "3  5.0  4.0\n",
       "4  3.0  6.0\n",
       "5  7.0  8.0"
      ]
     },
     "execution_count": 139,
     "metadata": {},
     "output_type": "execute_result"
    }
   ],
   "source": [
    "def combiner(x, y):\n",
    "    return np.where(pd.isna(x), y, x)\n",
    "df1.combine(df2, combiner)"
   ]
  },
  {
   "cell_type": "code",
   "execution_count": 140,
   "id": "f55c9213",
   "metadata": {
    "execution": {
     "iopub.execute_input": "2024-07-20T18:55:10.153077Z",
     "iopub.status.busy": "2024-07-20T18:55:10.152698Z",
     "iopub.status.idle": "2024-07-20T18:55:10.162521Z",
     "shell.execute_reply": "2024-07-20T18:55:10.161235Z"
    },
    "papermill": {
     "duration": 0.065231,
     "end_time": "2024-07-20T18:55:10.164884",
     "exception": false,
     "start_time": "2024-07-20T18:55:10.099653",
     "status": "completed"
    },
    "tags": []
   },
   "outputs": [
    {
     "data": {
      "text/plain": [
       "one           NaN\n",
       "two      0.501898\n",
       "three         NaN\n",
       "dtype: float64"
      ]
     },
     "execution_count": 140,
     "metadata": {},
     "output_type": "execute_result"
    }
   ],
   "source": [
    "df.sum(0, skipna=False)"
   ]
  },
  {
   "cell_type": "code",
   "execution_count": 141,
   "id": "0e281b9f",
   "metadata": {
    "execution": {
     "iopub.execute_input": "2024-07-20T18:55:10.271442Z",
     "iopub.status.busy": "2024-07-20T18:55:10.271030Z",
     "iopub.status.idle": "2024-07-20T18:55:10.280363Z",
     "shell.execute_reply": "2024-07-20T18:55:10.279037Z"
    },
    "papermill": {
     "duration": 0.065259,
     "end_time": "2024-07-20T18:55:10.282917",
     "exception": false,
     "start_time": "2024-07-20T18:55:10.217658",
     "status": "completed"
    },
    "tags": []
   },
   "outputs": [
    {
     "data": {
      "text/plain": [
       "a    0.960109\n",
       "b   -0.813715\n",
       "c    3.705633\n",
       "d   -1.036525\n",
       "dtype: float64"
      ]
     },
     "execution_count": 141,
     "metadata": {},
     "output_type": "execute_result"
    }
   ],
   "source": [
    "df.sum(axis=1, skipna=True)"
   ]
  },
  {
   "cell_type": "code",
   "execution_count": 142,
   "id": "36aa5cd4",
   "metadata": {
    "execution": {
     "iopub.execute_input": "2024-07-20T18:55:10.387739Z",
     "iopub.status.busy": "2024-07-20T18:55:10.387330Z",
     "iopub.status.idle": "2024-07-20T18:55:10.399743Z",
     "shell.execute_reply": "2024-07-20T18:55:10.398582Z"
    },
    "papermill": {
     "duration": 0.067635,
     "end_time": "2024-07-20T18:55:10.402160",
     "exception": false,
     "start_time": "2024-07-20T18:55:10.334525",
     "status": "completed"
    },
    "tags": []
   },
   "outputs": [
    {
     "data": {
      "text/plain": [
       "one      1.0\n",
       "two      1.0\n",
       "three    1.0\n",
       "dtype: float64"
      ]
     },
     "execution_count": 142,
     "metadata": {},
     "output_type": "execute_result"
    }
   ],
   "source": [
    "ts_stand = (df - df.mean()) / df.std()\n",
    "ts_stand.std()"
   ]
  },
  {
   "cell_type": "code",
   "execution_count": 143,
   "id": "de1fa13f",
   "metadata": {
    "execution": {
     "iopub.execute_input": "2024-07-20T18:55:10.508721Z",
     "iopub.status.busy": "2024-07-20T18:55:10.508326Z",
     "iopub.status.idle": "2024-07-20T18:55:10.520531Z",
     "shell.execute_reply": "2024-07-20T18:55:10.519174Z"
    },
    "papermill": {
     "duration": 0.067566,
     "end_time": "2024-07-20T18:55:10.522879",
     "exception": false,
     "start_time": "2024-07-20T18:55:10.455313",
     "status": "completed"
    },
    "tags": []
   },
   "outputs": [
    {
     "data": {
      "text/plain": [
       "a    1.0\n",
       "b    1.0\n",
       "c    1.0\n",
       "d    1.0\n",
       "dtype: float64"
      ]
     },
     "execution_count": 143,
     "metadata": {},
     "output_type": "execute_result"
    }
   ],
   "source": [
    "xs_stand = df.sub(df.mean(1), axis=0).div(df.std(1), axis=0)\n",
    "xs_stand.std(1)"
   ]
  },
  {
   "cell_type": "code",
   "execution_count": 144,
   "id": "e949809b",
   "metadata": {
    "execution": {
     "iopub.execute_input": "2024-07-20T18:55:10.628349Z",
     "iopub.status.busy": "2024-07-20T18:55:10.627769Z",
     "iopub.status.idle": "2024-07-20T18:55:10.636785Z",
     "shell.execute_reply": "2024-07-20T18:55:10.635232Z"
    },
    "papermill": {
     "duration": 0.065551,
     "end_time": "2024-07-20T18:55:10.639685",
     "exception": false,
     "start_time": "2024-07-20T18:55:10.574134",
     "status": "completed"
    },
    "tags": []
   },
   "outputs": [
    {
     "data": {
      "text/plain": [
       "0.8431945999072331"
      ]
     },
     "execution_count": 144,
     "metadata": {},
     "output_type": "execute_result"
    }
   ],
   "source": [
    "np.mean(df[\"one\"])"
   ]
  },
  {
   "cell_type": "code",
   "execution_count": 145,
   "id": "5b776730",
   "metadata": {
    "execution": {
     "iopub.execute_input": "2024-07-20T18:55:10.749236Z",
     "iopub.status.busy": "2024-07-20T18:55:10.748823Z",
     "iopub.status.idle": "2024-07-20T18:55:10.756946Z",
     "shell.execute_reply": "2024-07-20T18:55:10.755780Z"
    },
    "papermill": {
     "duration": 0.065355,
     "end_time": "2024-07-20T18:55:10.759357",
     "exception": false,
     "start_time": "2024-07-20T18:55:10.694002",
     "status": "completed"
    },
    "tags": []
   },
   "outputs": [
    {
     "data": {
      "text/plain": [
       "nan"
      ]
     },
     "execution_count": 145,
     "metadata": {},
     "output_type": "execute_result"
    }
   ],
   "source": [
    "np.mean(df[\"one\"].to_numpy())"
   ]
  },
  {
   "cell_type": "code",
   "execution_count": 146,
   "id": "ba1fda2e",
   "metadata": {
    "execution": {
     "iopub.execute_input": "2024-07-20T18:55:10.866771Z",
     "iopub.status.busy": "2024-07-20T18:55:10.866343Z",
     "iopub.status.idle": "2024-07-20T18:55:10.875072Z",
     "shell.execute_reply": "2024-07-20T18:55:10.873816Z"
    },
    "papermill": {
     "duration": 0.065381,
     "end_time": "2024-07-20T18:55:10.877500",
     "exception": false,
     "start_time": "2024-07-20T18:55:10.812119",
     "status": "completed"
    },
    "tags": []
   },
   "outputs": [
    {
     "data": {
      "text/plain": [
       "11"
      ]
     },
     "execution_count": 146,
     "metadata": {},
     "output_type": "execute_result"
    }
   ],
   "source": [
    "series = pd.Series(np.random.randn(500))\n",
    "series[20:500] = np.nan\n",
    "series[10:20] = 5\n",
    "series.nunique()"
   ]
  },
  {
   "cell_type": "code",
   "execution_count": 147,
   "id": "f5751ba7",
   "metadata": {
    "execution": {
     "iopub.execute_input": "2024-07-20T18:55:10.984161Z",
     "iopub.status.busy": "2024-07-20T18:55:10.983745Z",
     "iopub.status.idle": "2024-07-20T18:55:10.996655Z",
     "shell.execute_reply": "2024-07-20T18:55:10.995496Z"
    },
    "papermill": {
     "duration": 0.069232,
     "end_time": "2024-07-20T18:55:10.999056",
     "exception": false,
     "start_time": "2024-07-20T18:55:10.929824",
     "status": "completed"
    },
    "tags": []
   },
   "outputs": [
    {
     "data": {
      "text/plain": [
       "count    500.000000\n",
       "mean       0.050981\n",
       "std        1.014269\n",
       "min       -3.114899\n",
       "25%       -0.655405\n",
       "50%        0.071710\n",
       "75%        0.770582\n",
       "max        3.912072\n",
       "dtype: float64"
      ]
     },
     "execution_count": 147,
     "metadata": {},
     "output_type": "execute_result"
    }
   ],
   "source": [
    "series = pd.Series(np.random.randn(1000))\n",
    "series[::2] = np.nan\n",
    "series.describe()"
   ]
  },
  {
   "cell_type": "code",
   "execution_count": 148,
   "id": "56a1c8a8",
   "metadata": {
    "execution": {
     "iopub.execute_input": "2024-07-20T18:55:11.104798Z",
     "iopub.status.busy": "2024-07-20T18:55:11.104420Z",
     "iopub.status.idle": "2024-07-20T18:55:11.136553Z",
     "shell.execute_reply": "2024-07-20T18:55:11.135129Z"
    },
    "papermill": {
     "duration": 0.087911,
     "end_time": "2024-07-20T18:55:11.139212",
     "exception": false,
     "start_time": "2024-07-20T18:55:11.051301",
     "status": "completed"
    },
    "tags": []
   },
   "outputs": [
    {
     "data": {
      "text/html": [
       "<div>\n",
       "<style scoped>\n",
       "    .dataframe tbody tr th:only-of-type {\n",
       "        vertical-align: middle;\n",
       "    }\n",
       "\n",
       "    .dataframe tbody tr th {\n",
       "        vertical-align: top;\n",
       "    }\n",
       "\n",
       "    .dataframe thead th {\n",
       "        text-align: right;\n",
       "    }\n",
       "</style>\n",
       "<table border=\"1\" class=\"dataframe\">\n",
       "  <thead>\n",
       "    <tr style=\"text-align: right;\">\n",
       "      <th></th>\n",
       "      <th>a</th>\n",
       "      <th>b</th>\n",
       "      <th>c</th>\n",
       "      <th>d</th>\n",
       "      <th>e</th>\n",
       "    </tr>\n",
       "  </thead>\n",
       "  <tbody>\n",
       "    <tr>\n",
       "      <th>count</th>\n",
       "      <td>500.000000</td>\n",
       "      <td>500.000000</td>\n",
       "      <td>500.000000</td>\n",
       "      <td>500.000000</td>\n",
       "      <td>500.000000</td>\n",
       "    </tr>\n",
       "    <tr>\n",
       "      <th>mean</th>\n",
       "      <td>-0.029211</td>\n",
       "      <td>-0.045227</td>\n",
       "      <td>-0.010432</td>\n",
       "      <td>0.028397</td>\n",
       "      <td>-0.054193</td>\n",
       "    </tr>\n",
       "    <tr>\n",
       "      <th>std</th>\n",
       "      <td>1.011470</td>\n",
       "      <td>1.052294</td>\n",
       "      <td>1.029197</td>\n",
       "      <td>0.965827</td>\n",
       "      <td>0.962754</td>\n",
       "    </tr>\n",
       "    <tr>\n",
       "      <th>min</th>\n",
       "      <td>-2.886883</td>\n",
       "      <td>-3.003317</td>\n",
       "      <td>-3.097442</td>\n",
       "      <td>-2.443731</td>\n",
       "      <td>-2.933896</td>\n",
       "    </tr>\n",
       "    <tr>\n",
       "      <th>25%</th>\n",
       "      <td>-0.698098</td>\n",
       "      <td>-0.802570</td>\n",
       "      <td>-0.661432</td>\n",
       "      <td>-0.647993</td>\n",
       "      <td>-0.776210</td>\n",
       "    </tr>\n",
       "    <tr>\n",
       "      <th>50%</th>\n",
       "      <td>-0.035102</td>\n",
       "      <td>-0.057570</td>\n",
       "      <td>-0.020024</td>\n",
       "      <td>0.088003</td>\n",
       "      <td>0.018505</td>\n",
       "    </tr>\n",
       "    <tr>\n",
       "      <th>75%</th>\n",
       "      <td>0.640028</td>\n",
       "      <td>0.701849</td>\n",
       "      <td>0.705793</td>\n",
       "      <td>0.723307</td>\n",
       "      <td>0.573564</td>\n",
       "    </tr>\n",
       "    <tr>\n",
       "      <th>max</th>\n",
       "      <td>3.320750</td>\n",
       "      <td>2.574310</td>\n",
       "      <td>3.723489</td>\n",
       "      <td>4.247136</td>\n",
       "      <td>2.336101</td>\n",
       "    </tr>\n",
       "  </tbody>\n",
       "</table>\n",
       "</div>"
      ],
      "text/plain": [
       "                a           b  \\\n",
       "count  500.000000  500.000000   \n",
       "mean    -0.029211   -0.045227   \n",
       "std      1.011470    1.052294   \n",
       "min     -2.886883   -3.003317   \n",
       "25%     -0.698098   -0.802570   \n",
       "50%     -0.035102   -0.057570   \n",
       "75%      0.640028    0.701849   \n",
       "max      3.320750    2.574310   \n",
       "\n",
       "                c           d  \\\n",
       "count  500.000000  500.000000   \n",
       "mean    -0.010432    0.028397   \n",
       "std      1.029197    0.965827   \n",
       "min     -3.097442   -2.443731   \n",
       "25%     -0.661432   -0.647993   \n",
       "50%     -0.020024    0.088003   \n",
       "75%      0.705793    0.723307   \n",
       "max      3.723489    4.247136   \n",
       "\n",
       "                e  \n",
       "count  500.000000  \n",
       "mean    -0.054193  \n",
       "std      0.962754  \n",
       "min     -2.933896  \n",
       "25%     -0.776210  \n",
       "50%      0.018505  \n",
       "75%      0.573564  \n",
       "max      2.336101  "
      ]
     },
     "execution_count": 148,
     "metadata": {},
     "output_type": "execute_result"
    }
   ],
   "source": [
    "frame = pd.DataFrame(np.random.randn(1000, 5), columns=[\"a\", \"b\", \"c\", \"d\", \"e\"])\n",
    "frame.iloc[::2] = np.nan\n",
    "frame.describe()"
   ]
  },
  {
   "cell_type": "code",
   "execution_count": 149,
   "id": "33fda799",
   "metadata": {
    "execution": {
     "iopub.execute_input": "2024-07-20T18:55:11.247195Z",
     "iopub.status.busy": "2024-07-20T18:55:11.246783Z",
     "iopub.status.idle": "2024-07-20T18:55:11.259669Z",
     "shell.execute_reply": "2024-07-20T18:55:11.258554Z"
    },
    "papermill": {
     "duration": 0.069284,
     "end_time": "2024-07-20T18:55:11.262128",
     "exception": false,
     "start_time": "2024-07-20T18:55:11.192844",
     "status": "completed"
    },
    "tags": []
   },
   "outputs": [
    {
     "data": {
      "text/plain": [
       "count    500.000000\n",
       "mean       0.050981\n",
       "std        1.014269\n",
       "min       -3.114899\n",
       "5%        -1.644732\n",
       "25%       -0.655405\n",
       "50%        0.071710\n",
       "75%        0.770582\n",
       "95%        1.602408\n",
       "max        3.912072\n",
       "dtype: float64"
      ]
     },
     "execution_count": 149,
     "metadata": {},
     "output_type": "execute_result"
    }
   ],
   "source": [
    "series.describe(percentiles=[0.05, 0.25, 0.75, 0.95])"
   ]
  },
  {
   "cell_type": "code",
   "execution_count": 150,
   "id": "27a0e128",
   "metadata": {
    "execution": {
     "iopub.execute_input": "2024-07-20T18:55:11.369331Z",
     "iopub.status.busy": "2024-07-20T18:55:11.368267Z",
     "iopub.status.idle": "2024-07-20T18:55:11.378879Z",
     "shell.execute_reply": "2024-07-20T18:55:11.377850Z"
    },
    "papermill": {
     "duration": 0.066619,
     "end_time": "2024-07-20T18:55:11.381171",
     "exception": false,
     "start_time": "2024-07-20T18:55:11.314552",
     "status": "completed"
    },
    "tags": []
   },
   "outputs": [
    {
     "data": {
      "text/plain": [
       "count     9\n",
       "unique    4\n",
       "top       a\n",
       "freq      5\n",
       "dtype: object"
      ]
     },
     "execution_count": 150,
     "metadata": {},
     "output_type": "execute_result"
    }
   ],
   "source": [
    "s = pd.Series([\"a\", \"a\", \"b\", \"b\", \"a\", \"a\", np.nan, \"c\", \"d\", \"a\"])\n",
    "s.describe()"
   ]
  }
 ],
 "metadata": {
  "kaggle": {
   "accelerator": "none",
   "dataSources": [
    {
     "datasetId": 19,
     "sourceId": 420,
     "sourceType": "datasetVersion"
    }
   ],
   "dockerImageVersionId": 30527,
   "isGpuEnabled": false,
   "isInternetEnabled": true,
   "language": "python",
   "sourceType": "notebook"
  },
  "kernelspec": {
   "display_name": "Python 3",
   "language": "python",
   "name": "python3"
  },
  "language_info": {
   "codemirror_mode": {
    "name": "ipython",
    "version": 3
   },
   "file_extension": ".py",
   "mimetype": "text/x-python",
   "name": "python",
   "nbconvert_exporter": "python",
   "pygments_lexer": "ipython3",
   "version": "3.10.12"
  },
  "papermill": {
   "default_parameters": {},
   "duration": 31.308272,
   "end_time": "2024-07-20T18:55:12.356792",
   "environment_variables": {},
   "exception": null,
   "input_path": "__notebook__.ipynb",
   "output_path": "__notebook__.ipynb",
   "parameters": {},
   "start_time": "2024-07-20T18:54:41.048520",
   "version": "2.4.0"
  }
 },
 "nbformat": 4,
 "nbformat_minor": 5
}
