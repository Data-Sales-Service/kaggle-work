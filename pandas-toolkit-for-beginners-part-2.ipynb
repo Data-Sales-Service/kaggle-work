{
 "cells": [
  {
   "cell_type": "markdown",
   "id": "49a3b80e",
   "metadata": {
    "papermill": {
     "duration": 0.046573,
     "end_time": "2024-07-20T19:16:09.820347",
     "exception": false,
     "start_time": "2024-07-20T19:16:09.773774",
     "status": "completed"
    },
    "tags": []
   },
   "source": [
    "<div style=\"color:white;background-color:Black;padding:3%;border-radius:150px 150px;font-size:2.5em;text-align:center\">Pandas toolkit Part 2</div>\n",
    "\n",
    "Pandas"
   ]
  },
  {
   "cell_type": "markdown",
   "id": "47c5b3ca",
   "metadata": {
    "papermill": {
     "duration": 0.045209,
     "end_time": "2024-07-20T19:16:09.911217",
     "exception": false,
     "start_time": "2024-07-20T19:16:09.866008",
     "status": "completed"
    },
    "tags": []
   },
   "source": [
    "<center>\n",
    "<img src=\"https://i1.wp.com/www.datascienceexamples.com/wp-content/uploads/2019/10/python-and-pandas.jpg?resize=800%2C286&ssl=1\" width=1200>\n",
    "</center>"
   ]
  },
  {
   "cell_type": "code",
   "execution_count": 1,
   "id": "68ce738a",
   "metadata": {
    "execution": {
     "iopub.execute_input": "2024-07-20T19:16:10.003318Z",
     "iopub.status.busy": "2024-07-20T19:16:10.002842Z",
     "iopub.status.idle": "2024-07-20T19:16:10.016002Z",
     "shell.execute_reply": "2024-07-20T19:16:10.014783Z"
    },
    "papermill": {
     "duration": 0.06385,
     "end_time": "2024-07-20T19:16:10.018926",
     "exception": false,
     "start_time": "2024-07-20T19:16:09.955076",
     "status": "completed"
    },
    "tags": []
   },
   "outputs": [],
   "source": [
    "import pandas as pd \n",
    "import numpy as np "
   ]
  },
  {
   "cell_type": "code",
   "execution_count": 2,
   "id": "c43564dc",
   "metadata": {
    "execution": {
     "iopub.execute_input": "2024-07-20T19:16:10.108871Z",
     "iopub.status.busy": "2024-07-20T19:16:10.108431Z",
     "iopub.status.idle": "2024-07-20T19:16:10.125735Z",
     "shell.execute_reply": "2024-07-20T19:16:10.124266Z"
    },
    "papermill": {
     "duration": 0.065681,
     "end_time": "2024-07-20T19:16:10.128694",
     "exception": false,
     "start_time": "2024-07-20T19:16:10.063013",
     "status": "completed"
    },
    "tags": []
   },
   "outputs": [
    {
     "data": {
      "text/plain": [
       "0    3\n",
       "1    1\n",
       "2    6\n",
       "3    4\n",
       "4    4\n",
       "5    2\n",
       "6    3\n",
       "7    5\n",
       "8    4\n",
       "9    6\n",
       "dtype: int64"
      ]
     },
     "execution_count": 2,
     "metadata": {},
     "output_type": "execute_result"
    }
   ],
   "source": [
    "s = pd.Series(np.random.randint(0, 7, size=10))\n",
    "s"
   ]
  },
  {
   "cell_type": "code",
   "execution_count": 3,
   "id": "6e45417d",
   "metadata": {
    "execution": {
     "iopub.execute_input": "2024-07-20T19:16:10.220465Z",
     "iopub.status.busy": "2024-07-20T19:16:10.220006Z",
     "iopub.status.idle": "2024-07-20T19:16:10.236892Z",
     "shell.execute_reply": "2024-07-20T19:16:10.235710Z"
    },
    "papermill": {
     "duration": 0.065941,
     "end_time": "2024-07-20T19:16:10.239699",
     "exception": false,
     "start_time": "2024-07-20T19:16:10.173758",
     "status": "completed"
    },
    "tags": []
   },
   "outputs": [
    {
     "data": {
      "text/plain": [
       "4    3\n",
       "3    2\n",
       "6    2\n",
       "1    1\n",
       "2    1\n",
       "5    1\n",
       "dtype: int64"
      ]
     },
     "execution_count": 3,
     "metadata": {},
     "output_type": "execute_result"
    }
   ],
   "source": [
    "s.value_counts()"
   ]
  },
  {
   "cell_type": "code",
   "execution_count": 4,
   "id": "cb2ef238",
   "metadata": {
    "execution": {
     "iopub.execute_input": "2024-07-20T19:16:10.330945Z",
     "iopub.status.busy": "2024-07-20T19:16:10.330524Z",
     "iopub.status.idle": "2024-07-20T19:16:10.342148Z",
     "shell.execute_reply": "2024-07-20T19:16:10.340938Z"
    },
    "papermill": {
     "duration": 0.061212,
     "end_time": "2024-07-20T19:16:10.344868",
     "exception": false,
     "start_time": "2024-07-20T19:16:10.283656",
     "status": "completed"
    },
    "tags": []
   },
   "outputs": [
    {
     "data": {
      "text/plain": [
       "0       a\n",
       "1       b\n",
       "2       c\n",
       "3    aaba\n",
       "4    baca\n",
       "5     NaN\n",
       "6    caba\n",
       "7     dog\n",
       "8     cat\n",
       "dtype: object"
      ]
     },
     "execution_count": 4,
     "metadata": {},
     "output_type": "execute_result"
    }
   ],
   "source": [
    "s = pd.Series([\"A\", \"B\", \"C\", \"Aaba\", \"Baca\", np.nan, \"CABA\", \"dog\", \"cat\"])\n",
    "s.str.lower()"
   ]
  },
  {
   "cell_type": "code",
   "execution_count": 5,
   "id": "691eedad",
   "metadata": {
    "execution": {
     "iopub.execute_input": "2024-07-20T19:16:10.439243Z",
     "iopub.status.busy": "2024-07-20T19:16:10.438788Z",
     "iopub.status.idle": "2024-07-20T19:16:10.458961Z",
     "shell.execute_reply": "2024-07-20T19:16:10.457770Z"
    },
    "papermill": {
     "duration": 0.07203,
     "end_time": "2024-07-20T19:16:10.461894",
     "exception": false,
     "start_time": "2024-07-20T19:16:10.389864",
     "status": "completed"
    },
    "tags": []
   },
   "outputs": [
    {
     "data": {
      "text/html": [
       "<div>\n",
       "<style scoped>\n",
       "    .dataframe tbody tr th:only-of-type {\n",
       "        vertical-align: middle;\n",
       "    }\n",
       "\n",
       "    .dataframe tbody tr th {\n",
       "        vertical-align: top;\n",
       "    }\n",
       "\n",
       "    .dataframe thead th {\n",
       "        text-align: right;\n",
       "    }\n",
       "</style>\n",
       "<table border=\"1\" class=\"dataframe\">\n",
       "  <thead>\n",
       "    <tr style=\"text-align: right;\">\n",
       "      <th></th>\n",
       "      <th>0</th>\n",
       "      <th>1</th>\n",
       "      <th>2</th>\n",
       "      <th>3</th>\n",
       "    </tr>\n",
       "  </thead>\n",
       "  <tbody>\n",
       "    <tr>\n",
       "      <th>0</th>\n",
       "      <td>0.031303</td>\n",
       "      <td>0.609210</td>\n",
       "      <td>-0.823136</td>\n",
       "      <td>0.778197</td>\n",
       "    </tr>\n",
       "    <tr>\n",
       "      <th>1</th>\n",
       "      <td>0.031146</td>\n",
       "      <td>0.353173</td>\n",
       "      <td>0.215949</td>\n",
       "      <td>2.026113</td>\n",
       "    </tr>\n",
       "    <tr>\n",
       "      <th>2</th>\n",
       "      <td>0.049626</td>\n",
       "      <td>0.303040</td>\n",
       "      <td>0.618071</td>\n",
       "      <td>0.697783</td>\n",
       "    </tr>\n",
       "    <tr>\n",
       "      <th>3</th>\n",
       "      <td>0.981011</td>\n",
       "      <td>-0.297492</td>\n",
       "      <td>-1.231440</td>\n",
       "      <td>-0.020695</td>\n",
       "    </tr>\n",
       "    <tr>\n",
       "      <th>4</th>\n",
       "      <td>0.268867</td>\n",
       "      <td>-0.543009</td>\n",
       "      <td>-0.360949</td>\n",
       "      <td>0.869697</td>\n",
       "    </tr>\n",
       "    <tr>\n",
       "      <th>5</th>\n",
       "      <td>1.184060</td>\n",
       "      <td>0.160834</td>\n",
       "      <td>-1.153305</td>\n",
       "      <td>-0.008718</td>\n",
       "    </tr>\n",
       "    <tr>\n",
       "      <th>6</th>\n",
       "      <td>-0.357355</td>\n",
       "      <td>2.430143</td>\n",
       "      <td>0.071413</td>\n",
       "      <td>0.351957</td>\n",
       "    </tr>\n",
       "    <tr>\n",
       "      <th>7</th>\n",
       "      <td>0.646935</td>\n",
       "      <td>-0.996372</td>\n",
       "      <td>2.338840</td>\n",
       "      <td>1.361334</td>\n",
       "    </tr>\n",
       "    <tr>\n",
       "      <th>8</th>\n",
       "      <td>-2.158100</td>\n",
       "      <td>0.012826</td>\n",
       "      <td>-0.450350</td>\n",
       "      <td>-2.112151</td>\n",
       "    </tr>\n",
       "    <tr>\n",
       "      <th>9</th>\n",
       "      <td>-2.134192</td>\n",
       "      <td>1.482367</td>\n",
       "      <td>0.761954</td>\n",
       "      <td>-0.363071</td>\n",
       "    </tr>\n",
       "  </tbody>\n",
       "</table>\n",
       "</div>"
      ],
      "text/plain": [
       "          0         1         2         3\n",
       "0  0.031303  0.609210 -0.823136  0.778197\n",
       "1  0.031146  0.353173  0.215949  2.026113\n",
       "2  0.049626  0.303040  0.618071  0.697783\n",
       "3  0.981011 -0.297492 -1.231440 -0.020695\n",
       "4  0.268867 -0.543009 -0.360949  0.869697\n",
       "5  1.184060  0.160834 -1.153305 -0.008718\n",
       "6 -0.357355  2.430143  0.071413  0.351957\n",
       "7  0.646935 -0.996372  2.338840  1.361334\n",
       "8 -2.158100  0.012826 -0.450350 -2.112151\n",
       "9 -2.134192  1.482367  0.761954 -0.363071"
      ]
     },
     "execution_count": 5,
     "metadata": {},
     "output_type": "execute_result"
    }
   ],
   "source": [
    "df = pd.DataFrame(np.random.randn(10, 4))\n",
    "df"
   ]
  },
  {
   "cell_type": "code",
   "execution_count": 6,
   "id": "99602722",
   "metadata": {
    "execution": {
     "iopub.execute_input": "2024-07-20T19:16:10.555674Z",
     "iopub.status.busy": "2024-07-20T19:16:10.554823Z",
     "iopub.status.idle": "2024-07-20T19:16:10.570129Z",
     "shell.execute_reply": "2024-07-20T19:16:10.568855Z"
    },
    "papermill": {
     "duration": 0.064093,
     "end_time": "2024-07-20T19:16:10.572676",
     "exception": false,
     "start_time": "2024-07-20T19:16:10.508583",
     "status": "completed"
    },
    "tags": []
   },
   "outputs": [
    {
     "data": {
      "text/html": [
       "<div>\n",
       "<style scoped>\n",
       "    .dataframe tbody tr th:only-of-type {\n",
       "        vertical-align: middle;\n",
       "    }\n",
       "\n",
       "    .dataframe tbody tr th {\n",
       "        vertical-align: top;\n",
       "    }\n",
       "\n",
       "    .dataframe thead th {\n",
       "        text-align: right;\n",
       "    }\n",
       "</style>\n",
       "<table border=\"1\" class=\"dataframe\">\n",
       "  <thead>\n",
       "    <tr style=\"text-align: right;\">\n",
       "      <th></th>\n",
       "      <th>0</th>\n",
       "      <th>1</th>\n",
       "      <th>2</th>\n",
       "      <th>3</th>\n",
       "    </tr>\n",
       "  </thead>\n",
       "  <tbody>\n",
       "    <tr>\n",
       "      <th>0</th>\n",
       "      <td>0.031303</td>\n",
       "      <td>0.609210</td>\n",
       "      <td>-0.823136</td>\n",
       "      <td>0.778197</td>\n",
       "    </tr>\n",
       "    <tr>\n",
       "      <th>1</th>\n",
       "      <td>0.031146</td>\n",
       "      <td>0.353173</td>\n",
       "      <td>0.215949</td>\n",
       "      <td>2.026113</td>\n",
       "    </tr>\n",
       "    <tr>\n",
       "      <th>2</th>\n",
       "      <td>0.049626</td>\n",
       "      <td>0.303040</td>\n",
       "      <td>0.618071</td>\n",
       "      <td>0.697783</td>\n",
       "    </tr>\n",
       "    <tr>\n",
       "      <th>3</th>\n",
       "      <td>0.981011</td>\n",
       "      <td>-0.297492</td>\n",
       "      <td>-1.231440</td>\n",
       "      <td>-0.020695</td>\n",
       "    </tr>\n",
       "    <tr>\n",
       "      <th>4</th>\n",
       "      <td>0.268867</td>\n",
       "      <td>-0.543009</td>\n",
       "      <td>-0.360949</td>\n",
       "      <td>0.869697</td>\n",
       "    </tr>\n",
       "    <tr>\n",
       "      <th>5</th>\n",
       "      <td>1.184060</td>\n",
       "      <td>0.160834</td>\n",
       "      <td>-1.153305</td>\n",
       "      <td>-0.008718</td>\n",
       "    </tr>\n",
       "    <tr>\n",
       "      <th>6</th>\n",
       "      <td>-0.357355</td>\n",
       "      <td>2.430143</td>\n",
       "      <td>0.071413</td>\n",
       "      <td>0.351957</td>\n",
       "    </tr>\n",
       "    <tr>\n",
       "      <th>7</th>\n",
       "      <td>0.646935</td>\n",
       "      <td>-0.996372</td>\n",
       "      <td>2.338840</td>\n",
       "      <td>1.361334</td>\n",
       "    </tr>\n",
       "    <tr>\n",
       "      <th>8</th>\n",
       "      <td>-2.158100</td>\n",
       "      <td>0.012826</td>\n",
       "      <td>-0.450350</td>\n",
       "      <td>-2.112151</td>\n",
       "    </tr>\n",
       "    <tr>\n",
       "      <th>9</th>\n",
       "      <td>-2.134192</td>\n",
       "      <td>1.482367</td>\n",
       "      <td>0.761954</td>\n",
       "      <td>-0.363071</td>\n",
       "    </tr>\n",
       "  </tbody>\n",
       "</table>\n",
       "</div>"
      ],
      "text/plain": [
       "          0         1         2         3\n",
       "0  0.031303  0.609210 -0.823136  0.778197\n",
       "1  0.031146  0.353173  0.215949  2.026113\n",
       "2  0.049626  0.303040  0.618071  0.697783\n",
       "3  0.981011 -0.297492 -1.231440 -0.020695\n",
       "4  0.268867 -0.543009 -0.360949  0.869697\n",
       "5  1.184060  0.160834 -1.153305 -0.008718\n",
       "6 -0.357355  2.430143  0.071413  0.351957\n",
       "7  0.646935 -0.996372  2.338840  1.361334\n",
       "8 -2.158100  0.012826 -0.450350 -2.112151\n",
       "9 -2.134192  1.482367  0.761954 -0.363071"
      ]
     },
     "execution_count": 6,
     "metadata": {},
     "output_type": "execute_result"
    }
   ],
   "source": [
    "pieces = [df[:3], df[3:7], df[7:]]\n",
    "pd.concat(pieces)"
   ]
  },
  {
   "cell_type": "code",
   "execution_count": 7,
   "id": "de2aace4",
   "metadata": {
    "execution": {
     "iopub.execute_input": "2024-07-20T19:16:10.692886Z",
     "iopub.status.busy": "2024-07-20T19:16:10.691095Z",
     "iopub.status.idle": "2024-07-20T19:16:10.711197Z",
     "shell.execute_reply": "2024-07-20T19:16:10.710146Z"
    },
    "papermill": {
     "duration": 0.084388,
     "end_time": "2024-07-20T19:16:10.713779",
     "exception": false,
     "start_time": "2024-07-20T19:16:10.629391",
     "status": "completed"
    },
    "tags": []
   },
   "outputs": [
    {
     "data": {
      "text/html": [
       "<div>\n",
       "<style scoped>\n",
       "    .dataframe tbody tr th:only-of-type {\n",
       "        vertical-align: middle;\n",
       "    }\n",
       "\n",
       "    .dataframe tbody tr th {\n",
       "        vertical-align: top;\n",
       "    }\n",
       "\n",
       "    .dataframe thead th {\n",
       "        text-align: right;\n",
       "    }\n",
       "</style>\n",
       "<table border=\"1\" class=\"dataframe\">\n",
       "  <thead>\n",
       "    <tr style=\"text-align: right;\">\n",
       "      <th></th>\n",
       "      <th>key</th>\n",
       "      <th>lval</th>\n",
       "    </tr>\n",
       "  </thead>\n",
       "  <tbody>\n",
       "    <tr>\n",
       "      <th>0</th>\n",
       "      <td>foo</td>\n",
       "      <td>1</td>\n",
       "    </tr>\n",
       "    <tr>\n",
       "      <th>1</th>\n",
       "      <td>foo</td>\n",
       "      <td>2</td>\n",
       "    </tr>\n",
       "  </tbody>\n",
       "</table>\n",
       "</div>"
      ],
      "text/plain": [
       "   key  lval\n",
       "0  foo     1\n",
       "1  foo     2"
      ]
     },
     "execution_count": 7,
     "metadata": {},
     "output_type": "execute_result"
    }
   ],
   "source": [
    "left = pd.DataFrame({\"key\": [\"foo\", \"foo\"], \"lval\": [1, 2]})\n",
    "right = pd.DataFrame({\"key\": [\"foo\", \"foo\"], \"rval\": [4, 5]})\n",
    "left"
   ]
  },
  {
   "cell_type": "code",
   "execution_count": 8,
   "id": "9a8fdc9c",
   "metadata": {
    "execution": {
     "iopub.execute_input": "2024-07-20T19:16:10.811431Z",
     "iopub.status.busy": "2024-07-20T19:16:10.810828Z",
     "iopub.status.idle": "2024-07-20T19:16:10.840538Z",
     "shell.execute_reply": "2024-07-20T19:16:10.839349Z"
    },
    "papermill": {
     "duration": 0.081046,
     "end_time": "2024-07-20T19:16:10.842964",
     "exception": false,
     "start_time": "2024-07-20T19:16:10.761918",
     "status": "completed"
    },
    "tags": []
   },
   "outputs": [
    {
     "data": {
      "text/html": [
       "<div>\n",
       "<style scoped>\n",
       "    .dataframe tbody tr th:only-of-type {\n",
       "        vertical-align: middle;\n",
       "    }\n",
       "\n",
       "    .dataframe tbody tr th {\n",
       "        vertical-align: top;\n",
       "    }\n",
       "\n",
       "    .dataframe thead th {\n",
       "        text-align: right;\n",
       "    }\n",
       "</style>\n",
       "<table border=\"1\" class=\"dataframe\">\n",
       "  <thead>\n",
       "    <tr style=\"text-align: right;\">\n",
       "      <th></th>\n",
       "      <th>key</th>\n",
       "      <th>lval</th>\n",
       "      <th>rval</th>\n",
       "    </tr>\n",
       "  </thead>\n",
       "  <tbody>\n",
       "    <tr>\n",
       "      <th>0</th>\n",
       "      <td>foo</td>\n",
       "      <td>1</td>\n",
       "      <td>4</td>\n",
       "    </tr>\n",
       "    <tr>\n",
       "      <th>1</th>\n",
       "      <td>foo</td>\n",
       "      <td>1</td>\n",
       "      <td>5</td>\n",
       "    </tr>\n",
       "    <tr>\n",
       "      <th>2</th>\n",
       "      <td>foo</td>\n",
       "      <td>2</td>\n",
       "      <td>4</td>\n",
       "    </tr>\n",
       "    <tr>\n",
       "      <th>3</th>\n",
       "      <td>foo</td>\n",
       "      <td>2</td>\n",
       "      <td>5</td>\n",
       "    </tr>\n",
       "  </tbody>\n",
       "</table>\n",
       "</div>"
      ],
      "text/plain": [
       "   key  lval  rval\n",
       "0  foo     1     4\n",
       "1  foo     1     5\n",
       "2  foo     2     4\n",
       "3  foo     2     5"
      ]
     },
     "execution_count": 8,
     "metadata": {},
     "output_type": "execute_result"
    }
   ],
   "source": [
    "pd.merge(left, right, on=\"key\")"
   ]
  },
  {
   "cell_type": "code",
   "execution_count": 9,
   "id": "bfb84fd9",
   "metadata": {
    "execution": {
     "iopub.execute_input": "2024-07-20T19:16:10.936740Z",
     "iopub.status.busy": "2024-07-20T19:16:10.936252Z",
     "iopub.status.idle": "2024-07-20T19:16:10.949245Z",
     "shell.execute_reply": "2024-07-20T19:16:10.948045Z"
    },
    "papermill": {
     "duration": 0.062971,
     "end_time": "2024-07-20T19:16:10.951843",
     "exception": false,
     "start_time": "2024-07-20T19:16:10.888872",
     "status": "completed"
    },
    "tags": []
   },
   "outputs": [
    {
     "data": {
      "text/html": [
       "<div>\n",
       "<style scoped>\n",
       "    .dataframe tbody tr th:only-of-type {\n",
       "        vertical-align: middle;\n",
       "    }\n",
       "\n",
       "    .dataframe tbody tr th {\n",
       "        vertical-align: top;\n",
       "    }\n",
       "\n",
       "    .dataframe thead th {\n",
       "        text-align: right;\n",
       "    }\n",
       "</style>\n",
       "<table border=\"1\" class=\"dataframe\">\n",
       "  <thead>\n",
       "    <tr style=\"text-align: right;\">\n",
       "      <th></th>\n",
       "      <th>key</th>\n",
       "      <th>lval</th>\n",
       "    </tr>\n",
       "  </thead>\n",
       "  <tbody>\n",
       "    <tr>\n",
       "      <th>0</th>\n",
       "      <td>foo</td>\n",
       "      <td>1</td>\n",
       "    </tr>\n",
       "    <tr>\n",
       "      <th>1</th>\n",
       "      <td>bar</td>\n",
       "      <td>2</td>\n",
       "    </tr>\n",
       "  </tbody>\n",
       "</table>\n",
       "</div>"
      ],
      "text/plain": [
       "   key  lval\n",
       "0  foo     1\n",
       "1  bar     2"
      ]
     },
     "execution_count": 9,
     "metadata": {},
     "output_type": "execute_result"
    }
   ],
   "source": [
    "left = pd.DataFrame({\"key\": [\"foo\", \"bar\"], \"lval\": [1, 2]})\n",
    "right = pd.DataFrame({\"key\": [\"foo\", \"bar\"], \"rval\": [4, 5]})\n",
    "left"
   ]
  },
  {
   "cell_type": "code",
   "execution_count": 10,
   "id": "d246bc42",
   "metadata": {
    "execution": {
     "iopub.execute_input": "2024-07-20T19:16:11.044902Z",
     "iopub.status.busy": "2024-07-20T19:16:11.044438Z",
     "iopub.status.idle": "2024-07-20T19:16:11.060450Z",
     "shell.execute_reply": "2024-07-20T19:16:11.059294Z"
    },
    "papermill": {
     "duration": 0.065131,
     "end_time": "2024-07-20T19:16:11.062976",
     "exception": false,
     "start_time": "2024-07-20T19:16:10.997845",
     "status": "completed"
    },
    "tags": []
   },
   "outputs": [
    {
     "data": {
      "text/html": [
       "<div>\n",
       "<style scoped>\n",
       "    .dataframe tbody tr th:only-of-type {\n",
       "        vertical-align: middle;\n",
       "    }\n",
       "\n",
       "    .dataframe tbody tr th {\n",
       "        vertical-align: top;\n",
       "    }\n",
       "\n",
       "    .dataframe thead th {\n",
       "        text-align: right;\n",
       "    }\n",
       "</style>\n",
       "<table border=\"1\" class=\"dataframe\">\n",
       "  <thead>\n",
       "    <tr style=\"text-align: right;\">\n",
       "      <th></th>\n",
       "      <th>key</th>\n",
       "      <th>lval</th>\n",
       "      <th>rval</th>\n",
       "    </tr>\n",
       "  </thead>\n",
       "  <tbody>\n",
       "    <tr>\n",
       "      <th>0</th>\n",
       "      <td>foo</td>\n",
       "      <td>1</td>\n",
       "      <td>4</td>\n",
       "    </tr>\n",
       "    <tr>\n",
       "      <th>1</th>\n",
       "      <td>bar</td>\n",
       "      <td>2</td>\n",
       "      <td>5</td>\n",
       "    </tr>\n",
       "  </tbody>\n",
       "</table>\n",
       "</div>"
      ],
      "text/plain": [
       "   key  lval  rval\n",
       "0  foo     1     4\n",
       "1  bar     2     5"
      ]
     },
     "execution_count": 10,
     "metadata": {},
     "output_type": "execute_result"
    }
   ],
   "source": [
    "pd.merge(left, right, on=\"key\")"
   ]
  },
  {
   "cell_type": "code",
   "execution_count": 11,
   "id": "4d23a26f",
   "metadata": {
    "execution": {
     "iopub.execute_input": "2024-07-20T19:16:11.159018Z",
     "iopub.status.busy": "2024-07-20T19:16:11.158602Z",
     "iopub.status.idle": "2024-07-20T19:16:11.175212Z",
     "shell.execute_reply": "2024-07-20T19:16:11.173858Z"
    },
    "papermill": {
     "duration": 0.067036,
     "end_time": "2024-07-20T19:16:11.178041",
     "exception": false,
     "start_time": "2024-07-20T19:16:11.111005",
     "status": "completed"
    },
    "tags": []
   },
   "outputs": [
    {
     "data": {
      "text/html": [
       "<div>\n",
       "<style scoped>\n",
       "    .dataframe tbody tr th:only-of-type {\n",
       "        vertical-align: middle;\n",
       "    }\n",
       "\n",
       "    .dataframe tbody tr th {\n",
       "        vertical-align: top;\n",
       "    }\n",
       "\n",
       "    .dataframe thead th {\n",
       "        text-align: right;\n",
       "    }\n",
       "</style>\n",
       "<table border=\"1\" class=\"dataframe\">\n",
       "  <thead>\n",
       "    <tr style=\"text-align: right;\">\n",
       "      <th></th>\n",
       "      <th>A</th>\n",
       "      <th>B</th>\n",
       "      <th>C</th>\n",
       "      <th>D</th>\n",
       "    </tr>\n",
       "  </thead>\n",
       "  <tbody>\n",
       "    <tr>\n",
       "      <th>0</th>\n",
       "      <td>foo</td>\n",
       "      <td>one</td>\n",
       "      <td>-0.861342</td>\n",
       "      <td>0.906620</td>\n",
       "    </tr>\n",
       "    <tr>\n",
       "      <th>1</th>\n",
       "      <td>bar</td>\n",
       "      <td>one</td>\n",
       "      <td>-0.111113</td>\n",
       "      <td>-0.261550</td>\n",
       "    </tr>\n",
       "    <tr>\n",
       "      <th>2</th>\n",
       "      <td>foo</td>\n",
       "      <td>two</td>\n",
       "      <td>-0.262672</td>\n",
       "      <td>1.043294</td>\n",
       "    </tr>\n",
       "    <tr>\n",
       "      <th>3</th>\n",
       "      <td>bar</td>\n",
       "      <td>three</td>\n",
       "      <td>-1.115744</td>\n",
       "      <td>-0.302421</td>\n",
       "    </tr>\n",
       "    <tr>\n",
       "      <th>4</th>\n",
       "      <td>foo</td>\n",
       "      <td>two</td>\n",
       "      <td>0.846745</td>\n",
       "      <td>-0.636924</td>\n",
       "    </tr>\n",
       "    <tr>\n",
       "      <th>5</th>\n",
       "      <td>bar</td>\n",
       "      <td>two</td>\n",
       "      <td>-1.285921</td>\n",
       "      <td>0.767787</td>\n",
       "    </tr>\n",
       "    <tr>\n",
       "      <th>6</th>\n",
       "      <td>foo</td>\n",
       "      <td>one</td>\n",
       "      <td>-0.397579</td>\n",
       "      <td>0.469513</td>\n",
       "    </tr>\n",
       "    <tr>\n",
       "      <th>7</th>\n",
       "      <td>foo</td>\n",
       "      <td>three</td>\n",
       "      <td>1.086323</td>\n",
       "      <td>1.284010</td>\n",
       "    </tr>\n",
       "  </tbody>\n",
       "</table>\n",
       "</div>"
      ],
      "text/plain": [
       "     A      B         C         D\n",
       "0  foo    one -0.861342  0.906620\n",
       "1  bar    one -0.111113 -0.261550\n",
       "2  foo    two -0.262672  1.043294\n",
       "3  bar  three -1.115744 -0.302421\n",
       "4  foo    two  0.846745 -0.636924\n",
       "5  bar    two -1.285921  0.767787\n",
       "6  foo    one -0.397579  0.469513\n",
       "7  foo  three  1.086323  1.284010"
      ]
     },
     "execution_count": 11,
     "metadata": {},
     "output_type": "execute_result"
    }
   ],
   "source": [
    "df = pd.DataFrame({\n",
    "    \n",
    "\"A\": [\"foo\", \"bar\", \"foo\", \"bar\", \"foo\", \"bar\", \"foo\", \"foo\"],\n",
    "\"B\": [\"one\", \"one\", \"two\", \"three\", \"two\", \"two\", \"one\", \"three\"],\n",
    "\"C\": np.random.randn(8),\n",
    "\"D\": np.random.randn(8)\n",
    "    \n",
    "     })\n",
    "df"
   ]
  },
  {
   "cell_type": "code",
   "execution_count": 12,
   "id": "2be3b9e9",
   "metadata": {
    "execution": {
     "iopub.execute_input": "2024-07-20T19:16:11.274455Z",
     "iopub.status.busy": "2024-07-20T19:16:11.273990Z",
     "iopub.status.idle": "2024-07-20T19:16:11.292717Z",
     "shell.execute_reply": "2024-07-20T19:16:11.291072Z"
    },
    "papermill": {
     "duration": 0.070257,
     "end_time": "2024-07-20T19:16:11.295319",
     "exception": false,
     "start_time": "2024-07-20T19:16:11.225062",
     "status": "completed"
    },
    "tags": []
   },
   "outputs": [
    {
     "name": "stderr",
     "output_type": "stream",
     "text": [
      "/tmp/ipykernel_19/10288373.py:1: FutureWarning: The default value of numeric_only in DataFrameGroupBy.sum is deprecated. In a future version, numeric_only will default to False. Either specify numeric_only or select only columns which should be valid for the function.\n",
      "  df.groupby(\"A\").sum()\n"
     ]
    },
    {
     "data": {
      "text/html": [
       "<div>\n",
       "<style scoped>\n",
       "    .dataframe tbody tr th:only-of-type {\n",
       "        vertical-align: middle;\n",
       "    }\n",
       "\n",
       "    .dataframe tbody tr th {\n",
       "        vertical-align: top;\n",
       "    }\n",
       "\n",
       "    .dataframe thead th {\n",
       "        text-align: right;\n",
       "    }\n",
       "</style>\n",
       "<table border=\"1\" class=\"dataframe\">\n",
       "  <thead>\n",
       "    <tr style=\"text-align: right;\">\n",
       "      <th></th>\n",
       "      <th>C</th>\n",
       "      <th>D</th>\n",
       "    </tr>\n",
       "    <tr>\n",
       "      <th>A</th>\n",
       "      <th></th>\n",
       "      <th></th>\n",
       "    </tr>\n",
       "  </thead>\n",
       "  <tbody>\n",
       "    <tr>\n",
       "      <th>bar</th>\n",
       "      <td>-2.512778</td>\n",
       "      <td>0.203817</td>\n",
       "    </tr>\n",
       "    <tr>\n",
       "      <th>foo</th>\n",
       "      <td>0.411475</td>\n",
       "      <td>3.066514</td>\n",
       "    </tr>\n",
       "  </tbody>\n",
       "</table>\n",
       "</div>"
      ],
      "text/plain": [
       "            C         D\n",
       "A                      \n",
       "bar -2.512778  0.203817\n",
       "foo  0.411475  3.066514"
      ]
     },
     "execution_count": 12,
     "metadata": {},
     "output_type": "execute_result"
    }
   ],
   "source": [
    "df.groupby(\"A\").sum()"
   ]
  },
  {
   "cell_type": "code",
   "execution_count": 13,
   "id": "60b8c58f",
   "metadata": {
    "execution": {
     "iopub.execute_input": "2024-07-20T19:16:11.390274Z",
     "iopub.status.busy": "2024-07-20T19:16:11.389828Z",
     "iopub.status.idle": "2024-07-20T19:16:11.407394Z",
     "shell.execute_reply": "2024-07-20T19:16:11.405862Z"
    },
    "papermill": {
     "duration": 0.068869,
     "end_time": "2024-07-20T19:16:11.410136",
     "exception": false,
     "start_time": "2024-07-20T19:16:11.341267",
     "status": "completed"
    },
    "tags": []
   },
   "outputs": [
    {
     "data": {
      "text/html": [
       "<div>\n",
       "<style scoped>\n",
       "    .dataframe tbody tr th:only-of-type {\n",
       "        vertical-align: middle;\n",
       "    }\n",
       "\n",
       "    .dataframe tbody tr th {\n",
       "        vertical-align: top;\n",
       "    }\n",
       "\n",
       "    .dataframe thead th {\n",
       "        text-align: right;\n",
       "    }\n",
       "</style>\n",
       "<table border=\"1\" class=\"dataframe\">\n",
       "  <thead>\n",
       "    <tr style=\"text-align: right;\">\n",
       "      <th></th>\n",
       "      <th></th>\n",
       "      <th>C</th>\n",
       "      <th>D</th>\n",
       "    </tr>\n",
       "    <tr>\n",
       "      <th>A</th>\n",
       "      <th>B</th>\n",
       "      <th></th>\n",
       "      <th></th>\n",
       "    </tr>\n",
       "  </thead>\n",
       "  <tbody>\n",
       "    <tr>\n",
       "      <th rowspan=\"3\" valign=\"top\">bar</th>\n",
       "      <th>one</th>\n",
       "      <td>-0.111113</td>\n",
       "      <td>-0.261550</td>\n",
       "    </tr>\n",
       "    <tr>\n",
       "      <th>three</th>\n",
       "      <td>-1.115744</td>\n",
       "      <td>-0.302421</td>\n",
       "    </tr>\n",
       "    <tr>\n",
       "      <th>two</th>\n",
       "      <td>-1.285921</td>\n",
       "      <td>0.767787</td>\n",
       "    </tr>\n",
       "    <tr>\n",
       "      <th rowspan=\"3\" valign=\"top\">foo</th>\n",
       "      <th>one</th>\n",
       "      <td>-1.258921</td>\n",
       "      <td>1.376134</td>\n",
       "    </tr>\n",
       "    <tr>\n",
       "      <th>three</th>\n",
       "      <td>1.086323</td>\n",
       "      <td>1.284010</td>\n",
       "    </tr>\n",
       "    <tr>\n",
       "      <th>two</th>\n",
       "      <td>0.584073</td>\n",
       "      <td>0.406370</td>\n",
       "    </tr>\n",
       "  </tbody>\n",
       "</table>\n",
       "</div>"
      ],
      "text/plain": [
       "                  C         D\n",
       "A   B                        \n",
       "bar one   -0.111113 -0.261550\n",
       "    three -1.115744 -0.302421\n",
       "    two   -1.285921  0.767787\n",
       "foo one   -1.258921  1.376134\n",
       "    three  1.086323  1.284010\n",
       "    two    0.584073  0.406370"
      ]
     },
     "execution_count": 13,
     "metadata": {},
     "output_type": "execute_result"
    }
   ],
   "source": [
    "df.groupby([\"A\", \"B\"]).sum()"
   ]
  },
  {
   "cell_type": "code",
   "execution_count": 14,
   "id": "01892f18",
   "metadata": {
    "execution": {
     "iopub.execute_input": "2024-07-20T19:16:11.507888Z",
     "iopub.status.busy": "2024-07-20T19:16:11.507445Z",
     "iopub.status.idle": "2024-07-20T19:16:11.525636Z",
     "shell.execute_reply": "2024-07-20T19:16:11.524369Z"
    },
    "papermill": {
     "duration": 0.071159,
     "end_time": "2024-07-20T19:16:11.528236",
     "exception": false,
     "start_time": "2024-07-20T19:16:11.457077",
     "status": "completed"
    },
    "tags": []
   },
   "outputs": [
    {
     "data": {
      "text/html": [
       "<div>\n",
       "<style scoped>\n",
       "    .dataframe tbody tr th:only-of-type {\n",
       "        vertical-align: middle;\n",
       "    }\n",
       "\n",
       "    .dataframe tbody tr th {\n",
       "        vertical-align: top;\n",
       "    }\n",
       "\n",
       "    .dataframe thead th {\n",
       "        text-align: right;\n",
       "    }\n",
       "</style>\n",
       "<table border=\"1\" class=\"dataframe\">\n",
       "  <thead>\n",
       "    <tr style=\"text-align: right;\">\n",
       "      <th></th>\n",
       "      <th></th>\n",
       "      <th>A</th>\n",
       "      <th>B</th>\n",
       "    </tr>\n",
       "    <tr>\n",
       "      <th>first</th>\n",
       "      <th>second</th>\n",
       "      <th></th>\n",
       "      <th></th>\n",
       "    </tr>\n",
       "  </thead>\n",
       "  <tbody>\n",
       "    <tr>\n",
       "      <th rowspan=\"2\" valign=\"top\">bar</th>\n",
       "      <th>one</th>\n",
       "      <td>-1.358925</td>\n",
       "      <td>-1.380228</td>\n",
       "    </tr>\n",
       "    <tr>\n",
       "      <th>two</th>\n",
       "      <td>0.016147</td>\n",
       "      <td>0.458244</td>\n",
       "    </tr>\n",
       "    <tr>\n",
       "      <th rowspan=\"2\" valign=\"top\">baz</th>\n",
       "      <th>one</th>\n",
       "      <td>-0.917716</td>\n",
       "      <td>0.903255</td>\n",
       "    </tr>\n",
       "    <tr>\n",
       "      <th>two</th>\n",
       "      <td>-1.872614</td>\n",
       "      <td>-1.585080</td>\n",
       "    </tr>\n",
       "  </tbody>\n",
       "</table>\n",
       "</div>"
      ],
      "text/plain": [
       "                     A         B\n",
       "first second                    \n",
       "bar   one    -1.358925 -1.380228\n",
       "      two     0.016147  0.458244\n",
       "baz   one    -0.917716  0.903255\n",
       "      two    -1.872614 -1.585080"
      ]
     },
     "execution_count": 14,
     "metadata": {},
     "output_type": "execute_result"
    }
   ],
   "source": [
    "tuples = list(zip(*[\n",
    "[\"bar\", \"bar\", \"baz\", \"baz\", \"foo\", \"foo\", \"qux\", \"qux\"],\n",
    "[\"one\", \"two\", \"one\", \"two\", \"one\", \"two\", \"one\", \"two\"]\n",
    "]))\n",
    "\n",
    "index = pd.MultiIndex.from_tuples(tuples, names=[\"first\", \"second\"])\n",
    "df = pd.DataFrame(np.random.randn(8, 2), index=index, columns=[\"A\", \"B\"])\n",
    "df2 = df[:4]\n",
    "df2"
   ]
  },
  {
   "cell_type": "code",
   "execution_count": 15,
   "id": "5171bac2",
   "metadata": {
    "execution": {
     "iopub.execute_input": "2024-07-20T19:16:11.625223Z",
     "iopub.status.busy": "2024-07-20T19:16:11.624772Z",
     "iopub.status.idle": "2024-07-20T19:16:11.637174Z",
     "shell.execute_reply": "2024-07-20T19:16:11.635964Z"
    },
    "papermill": {
     "duration": 0.064412,
     "end_time": "2024-07-20T19:16:11.639832",
     "exception": false,
     "start_time": "2024-07-20T19:16:11.575420",
     "status": "completed"
    },
    "tags": []
   },
   "outputs": [
    {
     "data": {
      "text/plain": [
       "first  second   \n",
       "bar    one     A   -1.358925\n",
       "               B   -1.380228\n",
       "       two     A    0.016147\n",
       "               B    0.458244\n",
       "baz    one     A   -0.917716\n",
       "               B    0.903255\n",
       "       two     A   -1.872614\n",
       "               B   -1.585080\n",
       "dtype: float64"
      ]
     },
     "execution_count": 15,
     "metadata": {},
     "output_type": "execute_result"
    }
   ],
   "source": [
    "stacked = df2.stack()\n",
    "stacked"
   ]
  },
  {
   "cell_type": "code",
   "execution_count": 16,
   "id": "c8ccd12d",
   "metadata": {
    "execution": {
     "iopub.execute_input": "2024-07-20T19:16:11.738481Z",
     "iopub.status.busy": "2024-07-20T19:16:11.737084Z",
     "iopub.status.idle": "2024-07-20T19:16:11.755326Z",
     "shell.execute_reply": "2024-07-20T19:16:11.753930Z"
    },
    "papermill": {
     "duration": 0.069674,
     "end_time": "2024-07-20T19:16:11.758460",
     "exception": false,
     "start_time": "2024-07-20T19:16:11.688786",
     "status": "completed"
    },
    "tags": []
   },
   "outputs": [
    {
     "data": {
      "text/html": [
       "<div>\n",
       "<style scoped>\n",
       "    .dataframe tbody tr th:only-of-type {\n",
       "        vertical-align: middle;\n",
       "    }\n",
       "\n",
       "    .dataframe tbody tr th {\n",
       "        vertical-align: top;\n",
       "    }\n",
       "\n",
       "    .dataframe thead th {\n",
       "        text-align: right;\n",
       "    }\n",
       "</style>\n",
       "<table border=\"1\" class=\"dataframe\">\n",
       "  <thead>\n",
       "    <tr style=\"text-align: right;\">\n",
       "      <th></th>\n",
       "      <th></th>\n",
       "      <th>A</th>\n",
       "      <th>B</th>\n",
       "    </tr>\n",
       "    <tr>\n",
       "      <th>first</th>\n",
       "      <th>second</th>\n",
       "      <th></th>\n",
       "      <th></th>\n",
       "    </tr>\n",
       "  </thead>\n",
       "  <tbody>\n",
       "    <tr>\n",
       "      <th rowspan=\"2\" valign=\"top\">bar</th>\n",
       "      <th>one</th>\n",
       "      <td>-1.358925</td>\n",
       "      <td>-1.380228</td>\n",
       "    </tr>\n",
       "    <tr>\n",
       "      <th>two</th>\n",
       "      <td>0.016147</td>\n",
       "      <td>0.458244</td>\n",
       "    </tr>\n",
       "    <tr>\n",
       "      <th rowspan=\"2\" valign=\"top\">baz</th>\n",
       "      <th>one</th>\n",
       "      <td>-0.917716</td>\n",
       "      <td>0.903255</td>\n",
       "    </tr>\n",
       "    <tr>\n",
       "      <th>two</th>\n",
       "      <td>-1.872614</td>\n",
       "      <td>-1.585080</td>\n",
       "    </tr>\n",
       "  </tbody>\n",
       "</table>\n",
       "</div>"
      ],
      "text/plain": [
       "                     A         B\n",
       "first second                    \n",
       "bar   one    -1.358925 -1.380228\n",
       "      two     0.016147  0.458244\n",
       "baz   one    -0.917716  0.903255\n",
       "      two    -1.872614 -1.585080"
      ]
     },
     "execution_count": 16,
     "metadata": {},
     "output_type": "execute_result"
    }
   ],
   "source": [
    "stacked.unstack()"
   ]
  },
  {
   "cell_type": "code",
   "execution_count": 17,
   "id": "2fa1a2b9",
   "metadata": {
    "execution": {
     "iopub.execute_input": "2024-07-20T19:16:11.856093Z",
     "iopub.status.busy": "2024-07-20T19:16:11.855137Z",
     "iopub.status.idle": "2024-07-20T19:16:11.869299Z",
     "shell.execute_reply": "2024-07-20T19:16:11.868183Z"
    },
    "papermill": {
     "duration": 0.064896,
     "end_time": "2024-07-20T19:16:11.871757",
     "exception": false,
     "start_time": "2024-07-20T19:16:11.806861",
     "status": "completed"
    },
    "tags": []
   },
   "outputs": [
    {
     "data": {
      "text/html": [
       "<div>\n",
       "<style scoped>\n",
       "    .dataframe tbody tr th:only-of-type {\n",
       "        vertical-align: middle;\n",
       "    }\n",
       "\n",
       "    .dataframe tbody tr th {\n",
       "        vertical-align: top;\n",
       "    }\n",
       "\n",
       "    .dataframe thead th {\n",
       "        text-align: right;\n",
       "    }\n",
       "</style>\n",
       "<table border=\"1\" class=\"dataframe\">\n",
       "  <thead>\n",
       "    <tr style=\"text-align: right;\">\n",
       "      <th></th>\n",
       "      <th>second</th>\n",
       "      <th>one</th>\n",
       "      <th>two</th>\n",
       "    </tr>\n",
       "    <tr>\n",
       "      <th>first</th>\n",
       "      <th></th>\n",
       "      <th></th>\n",
       "      <th></th>\n",
       "    </tr>\n",
       "  </thead>\n",
       "  <tbody>\n",
       "    <tr>\n",
       "      <th rowspan=\"2\" valign=\"top\">bar</th>\n",
       "      <th>A</th>\n",
       "      <td>-1.358925</td>\n",
       "      <td>0.016147</td>\n",
       "    </tr>\n",
       "    <tr>\n",
       "      <th>B</th>\n",
       "      <td>-1.380228</td>\n",
       "      <td>0.458244</td>\n",
       "    </tr>\n",
       "    <tr>\n",
       "      <th rowspan=\"2\" valign=\"top\">baz</th>\n",
       "      <th>A</th>\n",
       "      <td>-0.917716</td>\n",
       "      <td>-1.872614</td>\n",
       "    </tr>\n",
       "    <tr>\n",
       "      <th>B</th>\n",
       "      <td>0.903255</td>\n",
       "      <td>-1.585080</td>\n",
       "    </tr>\n",
       "  </tbody>\n",
       "</table>\n",
       "</div>"
      ],
      "text/plain": [
       "second        one       two\n",
       "first                      \n",
       "bar   A -1.358925  0.016147\n",
       "      B -1.380228  0.458244\n",
       "baz   A -0.917716 -1.872614\n",
       "      B  0.903255 -1.585080"
      ]
     },
     "execution_count": 17,
     "metadata": {},
     "output_type": "execute_result"
    }
   ],
   "source": [
    "stacked.unstack(1)"
   ]
  },
  {
   "cell_type": "code",
   "execution_count": 18,
   "id": "aca4826a",
   "metadata": {
    "execution": {
     "iopub.execute_input": "2024-07-20T19:16:11.971393Z",
     "iopub.status.busy": "2024-07-20T19:16:11.970915Z",
     "iopub.status.idle": "2024-07-20T19:16:11.990548Z",
     "shell.execute_reply": "2024-07-20T19:16:11.989019Z"
    },
    "papermill": {
     "duration": 0.073343,
     "end_time": "2024-07-20T19:16:11.993279",
     "exception": false,
     "start_time": "2024-07-20T19:16:11.919936",
     "status": "completed"
    },
    "tags": []
   },
   "outputs": [
    {
     "data": {
      "text/html": [
       "<div>\n",
       "<style scoped>\n",
       "    .dataframe tbody tr th:only-of-type {\n",
       "        vertical-align: middle;\n",
       "    }\n",
       "\n",
       "    .dataframe tbody tr th {\n",
       "        vertical-align: top;\n",
       "    }\n",
       "\n",
       "    .dataframe thead th {\n",
       "        text-align: right;\n",
       "    }\n",
       "</style>\n",
       "<table border=\"1\" class=\"dataframe\">\n",
       "  <thead>\n",
       "    <tr style=\"text-align: right;\">\n",
       "      <th></th>\n",
       "      <th>A</th>\n",
       "      <th>B</th>\n",
       "      <th>C</th>\n",
       "      <th>D</th>\n",
       "      <th>E</th>\n",
       "    </tr>\n",
       "  </thead>\n",
       "  <tbody>\n",
       "    <tr>\n",
       "      <th>0</th>\n",
       "      <td>one</td>\n",
       "      <td>A</td>\n",
       "      <td>foo</td>\n",
       "      <td>-1.777885</td>\n",
       "      <td>-0.168020</td>\n",
       "    </tr>\n",
       "    <tr>\n",
       "      <th>1</th>\n",
       "      <td>one</td>\n",
       "      <td>B</td>\n",
       "      <td>foo</td>\n",
       "      <td>0.409217</td>\n",
       "      <td>0.502005</td>\n",
       "    </tr>\n",
       "    <tr>\n",
       "      <th>2</th>\n",
       "      <td>two</td>\n",
       "      <td>C</td>\n",
       "      <td>foo</td>\n",
       "      <td>-0.098634</td>\n",
       "      <td>0.238648</td>\n",
       "    </tr>\n",
       "    <tr>\n",
       "      <th>3</th>\n",
       "      <td>three</td>\n",
       "      <td>A</td>\n",
       "      <td>bar</td>\n",
       "      <td>-0.548190</td>\n",
       "      <td>-0.514785</td>\n",
       "    </tr>\n",
       "    <tr>\n",
       "      <th>4</th>\n",
       "      <td>one</td>\n",
       "      <td>B</td>\n",
       "      <td>bar</td>\n",
       "      <td>1.730446</td>\n",
       "      <td>1.070337</td>\n",
       "    </tr>\n",
       "    <tr>\n",
       "      <th>5</th>\n",
       "      <td>one</td>\n",
       "      <td>C</td>\n",
       "      <td>bar</td>\n",
       "      <td>0.163921</td>\n",
       "      <td>-1.324113</td>\n",
       "    </tr>\n",
       "    <tr>\n",
       "      <th>6</th>\n",
       "      <td>two</td>\n",
       "      <td>A</td>\n",
       "      <td>foo</td>\n",
       "      <td>-0.820180</td>\n",
       "      <td>0.239612</td>\n",
       "    </tr>\n",
       "    <tr>\n",
       "      <th>7</th>\n",
       "      <td>three</td>\n",
       "      <td>B</td>\n",
       "      <td>foo</td>\n",
       "      <td>-1.438440</td>\n",
       "      <td>0.148369</td>\n",
       "    </tr>\n",
       "    <tr>\n",
       "      <th>8</th>\n",
       "      <td>one</td>\n",
       "      <td>C</td>\n",
       "      <td>foo</td>\n",
       "      <td>0.475489</td>\n",
       "      <td>0.789678</td>\n",
       "    </tr>\n",
       "    <tr>\n",
       "      <th>9</th>\n",
       "      <td>one</td>\n",
       "      <td>A</td>\n",
       "      <td>bar</td>\n",
       "      <td>-0.257625</td>\n",
       "      <td>0.321902</td>\n",
       "    </tr>\n",
       "    <tr>\n",
       "      <th>10</th>\n",
       "      <td>two</td>\n",
       "      <td>B</td>\n",
       "      <td>bar</td>\n",
       "      <td>1.225759</td>\n",
       "      <td>-0.007518</td>\n",
       "    </tr>\n",
       "    <tr>\n",
       "      <th>11</th>\n",
       "      <td>three</td>\n",
       "      <td>C</td>\n",
       "      <td>bar</td>\n",
       "      <td>0.050847</td>\n",
       "      <td>0.191020</td>\n",
       "    </tr>\n",
       "  </tbody>\n",
       "</table>\n",
       "</div>"
      ],
      "text/plain": [
       "        A  B    C         D         E\n",
       "0     one  A  foo -1.777885 -0.168020\n",
       "1     one  B  foo  0.409217  0.502005\n",
       "2     two  C  foo -0.098634  0.238648\n",
       "3   three  A  bar -0.548190 -0.514785\n",
       "4     one  B  bar  1.730446  1.070337\n",
       "5     one  C  bar  0.163921 -1.324113\n",
       "6     two  A  foo -0.820180  0.239612\n",
       "7   three  B  foo -1.438440  0.148369\n",
       "8     one  C  foo  0.475489  0.789678\n",
       "9     one  A  bar -0.257625  0.321902\n",
       "10    two  B  bar  1.225759 -0.007518\n",
       "11  three  C  bar  0.050847  0.191020"
      ]
     },
     "execution_count": 18,
     "metadata": {},
     "output_type": "execute_result"
    }
   ],
   "source": [
    "df = pd.DataFrame({\n",
    "    \n",
    "\"A\": [\"one\", \"one\", \"two\", \"three\"] * 3,\n",
    "\"B\": [\"A\", \"B\", \"C\"] * 4,\n",
    "\"C\": [\"foo\", \"foo\", \"foo\", \"bar\", \"bar\", \"bar\"] * 2,\n",
    "\"D\": np.random.randn(12),\n",
    "\"E\": np.random.randn(12)\n",
    "    \n",
    "})\n",
    "df"
   ]
  },
  {
   "cell_type": "code",
   "execution_count": 19,
   "id": "0535dd93",
   "metadata": {
    "execution": {
     "iopub.execute_input": "2024-07-20T19:16:12.096486Z",
     "iopub.status.busy": "2024-07-20T19:16:12.095941Z",
     "iopub.status.idle": "2024-07-20T19:16:12.125958Z",
     "shell.execute_reply": "2024-07-20T19:16:12.124654Z"
    },
    "papermill": {
     "duration": 0.087657,
     "end_time": "2024-07-20T19:16:12.129393",
     "exception": false,
     "start_time": "2024-07-20T19:16:12.041736",
     "status": "completed"
    },
    "tags": []
   },
   "outputs": [
    {
     "data": {
      "text/html": [
       "<div>\n",
       "<style scoped>\n",
       "    .dataframe tbody tr th:only-of-type {\n",
       "        vertical-align: middle;\n",
       "    }\n",
       "\n",
       "    .dataframe tbody tr th {\n",
       "        vertical-align: top;\n",
       "    }\n",
       "\n",
       "    .dataframe thead th {\n",
       "        text-align: right;\n",
       "    }\n",
       "</style>\n",
       "<table border=\"1\" class=\"dataframe\">\n",
       "  <thead>\n",
       "    <tr style=\"text-align: right;\">\n",
       "      <th></th>\n",
       "      <th>C</th>\n",
       "      <th>bar</th>\n",
       "      <th>foo</th>\n",
       "    </tr>\n",
       "    <tr>\n",
       "      <th>A</th>\n",
       "      <th>B</th>\n",
       "      <th></th>\n",
       "      <th></th>\n",
       "    </tr>\n",
       "  </thead>\n",
       "  <tbody>\n",
       "    <tr>\n",
       "      <th rowspan=\"3\" valign=\"top\">one</th>\n",
       "      <th>A</th>\n",
       "      <td>-0.257625</td>\n",
       "      <td>-1.777885</td>\n",
       "    </tr>\n",
       "    <tr>\n",
       "      <th>B</th>\n",
       "      <td>1.730446</td>\n",
       "      <td>0.409217</td>\n",
       "    </tr>\n",
       "    <tr>\n",
       "      <th>C</th>\n",
       "      <td>0.163921</td>\n",
       "      <td>0.475489</td>\n",
       "    </tr>\n",
       "    <tr>\n",
       "      <th rowspan=\"3\" valign=\"top\">three</th>\n",
       "      <th>A</th>\n",
       "      <td>-0.548190</td>\n",
       "      <td>NaN</td>\n",
       "    </tr>\n",
       "    <tr>\n",
       "      <th>B</th>\n",
       "      <td>NaN</td>\n",
       "      <td>-1.438440</td>\n",
       "    </tr>\n",
       "    <tr>\n",
       "      <th>C</th>\n",
       "      <td>0.050847</td>\n",
       "      <td>NaN</td>\n",
       "    </tr>\n",
       "    <tr>\n",
       "      <th rowspan=\"3\" valign=\"top\">two</th>\n",
       "      <th>A</th>\n",
       "      <td>NaN</td>\n",
       "      <td>-0.820180</td>\n",
       "    </tr>\n",
       "    <tr>\n",
       "      <th>B</th>\n",
       "      <td>1.225759</td>\n",
       "      <td>NaN</td>\n",
       "    </tr>\n",
       "    <tr>\n",
       "      <th>C</th>\n",
       "      <td>NaN</td>\n",
       "      <td>-0.098634</td>\n",
       "    </tr>\n",
       "  </tbody>\n",
       "</table>\n",
       "</div>"
      ],
      "text/plain": [
       "C             bar       foo\n",
       "A     B                    \n",
       "one   A -0.257625 -1.777885\n",
       "      B  1.730446  0.409217\n",
       "      C  0.163921  0.475489\n",
       "three A -0.548190       NaN\n",
       "      B       NaN -1.438440\n",
       "      C  0.050847       NaN\n",
       "two   A       NaN -0.820180\n",
       "      B  1.225759       NaN\n",
       "      C       NaN -0.098634"
      ]
     },
     "execution_count": 19,
     "metadata": {},
     "output_type": "execute_result"
    }
   ],
   "source": [
    "pd.pivot_table(df, values=\"D\", index=[\"A\", \"B\"], columns=[\"C\"])"
   ]
  },
  {
   "cell_type": "code",
   "execution_count": 20,
   "id": "e24ffdfe",
   "metadata": {
    "execution": {
     "iopub.execute_input": "2024-07-20T19:16:12.235954Z",
     "iopub.status.busy": "2024-07-20T19:16:12.234942Z",
     "iopub.status.idle": "2024-07-20T19:16:12.259715Z",
     "shell.execute_reply": "2024-07-20T19:16:12.258207Z"
    },
    "papermill": {
     "duration": 0.080165,
     "end_time": "2024-07-20T19:16:12.262806",
     "exception": false,
     "start_time": "2024-07-20T19:16:12.182641",
     "status": "completed"
    },
    "tags": []
   },
   "outputs": [
    {
     "data": {
      "text/plain": [
       "2012-01-01    23612\n",
       "Freq: 5T, dtype: int64"
      ]
     },
     "execution_count": 20,
     "metadata": {},
     "output_type": "execute_result"
    }
   ],
   "source": [
    "rng = pd.date_range(\"1/1/2012\", periods=100, freq=\"S\")\n",
    "ts = pd.Series(np.random.randint(0, 500, len(rng)), index=rng)\n",
    "ts.resample(\"5Min\").sum()"
   ]
  },
  {
   "cell_type": "code",
   "execution_count": 21,
   "id": "6dacefe3",
   "metadata": {
    "execution": {
     "iopub.execute_input": "2024-07-20T19:16:12.364734Z",
     "iopub.status.busy": "2024-07-20T19:16:12.362925Z",
     "iopub.status.idle": "2024-07-20T19:16:12.376516Z",
     "shell.execute_reply": "2024-07-20T19:16:12.375359Z"
    },
    "papermill": {
     "duration": 0.066866,
     "end_time": "2024-07-20T19:16:12.379314",
     "exception": false,
     "start_time": "2024-07-20T19:16:12.312448",
     "status": "completed"
    },
    "tags": []
   },
   "outputs": [
    {
     "data": {
      "text/plain": [
       "2012-03-06   -1.383737\n",
       "2012-03-07   -1.016959\n",
       "2012-03-08    0.251642\n",
       "2012-03-09   -1.033933\n",
       "2012-03-10    0.319476\n",
       "Freq: D, dtype: float64"
      ]
     },
     "execution_count": 21,
     "metadata": {},
     "output_type": "execute_result"
    }
   ],
   "source": [
    "rng = pd.date_range(\"3/6/2012 00:00\", periods=5, freq=\"D\")\n",
    "ts = pd.Series(np.random.randn(len(rng)), rng)\n",
    "ts"
   ]
  },
  {
   "cell_type": "code",
   "execution_count": 22,
   "id": "10cc061c",
   "metadata": {
    "execution": {
     "iopub.execute_input": "2024-07-20T19:16:12.484142Z",
     "iopub.status.busy": "2024-07-20T19:16:12.483707Z",
     "iopub.status.idle": "2024-07-20T19:16:12.495506Z",
     "shell.execute_reply": "2024-07-20T19:16:12.493918Z"
    },
    "papermill": {
     "duration": 0.064955,
     "end_time": "2024-07-20T19:16:12.498277",
     "exception": false,
     "start_time": "2024-07-20T19:16:12.433322",
     "status": "completed"
    },
    "tags": []
   },
   "outputs": [
    {
     "data": {
      "text/plain": [
       "2012-03-06 00:00:00+00:00   -1.383737\n",
       "2012-03-07 00:00:00+00:00   -1.016959\n",
       "2012-03-08 00:00:00+00:00    0.251642\n",
       "2012-03-09 00:00:00+00:00   -1.033933\n",
       "2012-03-10 00:00:00+00:00    0.319476\n",
       "Freq: D, dtype: float64"
      ]
     },
     "execution_count": 22,
     "metadata": {},
     "output_type": "execute_result"
    }
   ],
   "source": [
    "ts_utc = ts.tz_localize(\"UTC\")\n",
    "ts_utc"
   ]
  },
  {
   "cell_type": "code",
   "execution_count": 23,
   "id": "091a3bae",
   "metadata": {
    "execution": {
     "iopub.execute_input": "2024-07-20T19:16:12.600578Z",
     "iopub.status.busy": "2024-07-20T19:16:12.600037Z",
     "iopub.status.idle": "2024-07-20T19:16:12.614602Z",
     "shell.execute_reply": "2024-07-20T19:16:12.612722Z"
    },
    "papermill": {
     "duration": 0.070157,
     "end_time": "2024-07-20T19:16:12.617667",
     "exception": false,
     "start_time": "2024-07-20T19:16:12.547510",
     "status": "completed"
    },
    "tags": []
   },
   "outputs": [
    {
     "data": {
      "text/plain": [
       "2012-01-31   -0.626548\n",
       "2012-02-29    1.714657\n",
       "2012-03-31   -0.968050\n",
       "2012-04-30   -0.240917\n",
       "2012-05-31    0.274155\n",
       "Freq: M, dtype: float64"
      ]
     },
     "execution_count": 23,
     "metadata": {},
     "output_type": "execute_result"
    }
   ],
   "source": [
    "rng = pd.date_range(\"1/1/2012\", periods=5, freq=\"M\")\n",
    "ts = pd.Series(np.random.randn(len(rng)), index=rng)\n",
    "ts"
   ]
  },
  {
   "cell_type": "code",
   "execution_count": 24,
   "id": "60df236d",
   "metadata": {
    "execution": {
     "iopub.execute_input": "2024-07-20T19:16:12.720854Z",
     "iopub.status.busy": "2024-07-20T19:16:12.720421Z",
     "iopub.status.idle": "2024-07-20T19:16:12.730802Z",
     "shell.execute_reply": "2024-07-20T19:16:12.729260Z"
    },
    "papermill": {
     "duration": 0.06444,
     "end_time": "2024-07-20T19:16:12.733448",
     "exception": false,
     "start_time": "2024-07-20T19:16:12.669008",
     "status": "completed"
    },
    "tags": []
   },
   "outputs": [
    {
     "data": {
      "text/plain": [
       "2012-01   -0.626548\n",
       "2012-02    1.714657\n",
       "2012-03   -0.968050\n",
       "2012-04   -0.240917\n",
       "2012-05    0.274155\n",
       "Freq: M, dtype: float64"
      ]
     },
     "execution_count": 24,
     "metadata": {},
     "output_type": "execute_result"
    }
   ],
   "source": [
    "ps = ts.to_period()\n",
    "ps"
   ]
  },
  {
   "cell_type": "code",
   "execution_count": 25,
   "id": "7729554f",
   "metadata": {
    "execution": {
     "iopub.execute_input": "2024-07-20T19:16:12.837019Z",
     "iopub.status.busy": "2024-07-20T19:16:12.836636Z",
     "iopub.status.idle": "2024-07-20T19:16:12.849419Z",
     "shell.execute_reply": "2024-07-20T19:16:12.848127Z"
    },
    "papermill": {
     "duration": 0.068804,
     "end_time": "2024-07-20T19:16:12.852071",
     "exception": false,
     "start_time": "2024-07-20T19:16:12.783267",
     "status": "completed"
    },
    "tags": []
   },
   "outputs": [
    {
     "data": {
      "text/plain": [
       "2012-01-01   -0.626548\n",
       "2012-02-01    1.714657\n",
       "2012-03-01   -0.968050\n",
       "2012-04-01   -0.240917\n",
       "2012-05-01    0.274155\n",
       "Freq: MS, dtype: float64"
      ]
     },
     "execution_count": 25,
     "metadata": {},
     "output_type": "execute_result"
    }
   ],
   "source": [
    "ps.to_timestamp()"
   ]
  },
  {
   "cell_type": "code",
   "execution_count": 26,
   "id": "6ea8bc3b",
   "metadata": {
    "execution": {
     "iopub.execute_input": "2024-07-20T19:16:12.953828Z",
     "iopub.status.busy": "2024-07-20T19:16:12.953401Z",
     "iopub.status.idle": "2024-07-20T19:16:12.967023Z",
     "shell.execute_reply": "2024-07-20T19:16:12.965851Z"
    },
    "papermill": {
     "duration": 0.06764,
     "end_time": "2024-07-20T19:16:12.969908",
     "exception": false,
     "start_time": "2024-07-20T19:16:12.902268",
     "status": "completed"
    },
    "tags": []
   },
   "outputs": [
    {
     "data": {
      "text/plain": [
       "1990-03-01 09:00   -0.006648\n",
       "1990-06-01 09:00    0.067221\n",
       "1990-09-01 09:00   -1.545026\n",
       "1990-12-01 09:00   -1.611580\n",
       "1991-03-01 09:00   -0.028255\n",
       "Freq: H, dtype: float64"
      ]
     },
     "execution_count": 26,
     "metadata": {},
     "output_type": "execute_result"
    }
   ],
   "source": [
    "prng = pd.period_range(\"1990Q1\", \"2000Q4\", freq=\"Q-NOV\")\n",
    "ts = pd.Series(np.random.randn(len(prng)), prng)\n",
    "ts.index = (prng.asfreq(\"M\", \"e\") + 1).asfreq(\"H\", \"s\") + 9\n",
    "ts.head()"
   ]
  },
  {
   "cell_type": "code",
   "execution_count": 27,
   "id": "22667188",
   "metadata": {
    "execution": {
     "iopub.execute_input": "2024-07-20T19:16:13.072780Z",
     "iopub.status.busy": "2024-07-20T19:16:13.072376Z",
     "iopub.status.idle": "2024-07-20T19:16:13.085713Z",
     "shell.execute_reply": "2024-07-20T19:16:13.084311Z"
    },
    "papermill": {
     "duration": 0.068018,
     "end_time": "2024-07-20T19:16:13.088468",
     "exception": false,
     "start_time": "2024-07-20T19:16:13.020450",
     "status": "completed"
    },
    "tags": []
   },
   "outputs": [
    {
     "data": {
      "text/html": [
       "<div>\n",
       "<style scoped>\n",
       "    .dataframe tbody tr th:only-of-type {\n",
       "        vertical-align: middle;\n",
       "    }\n",
       "\n",
       "    .dataframe tbody tr th {\n",
       "        vertical-align: top;\n",
       "    }\n",
       "\n",
       "    .dataframe thead th {\n",
       "        text-align: right;\n",
       "    }\n",
       "</style>\n",
       "<table border=\"1\" class=\"dataframe\">\n",
       "  <thead>\n",
       "    <tr style=\"text-align: right;\">\n",
       "      <th></th>\n",
       "      <th>id</th>\n",
       "      <th>raw_grade</th>\n",
       "    </tr>\n",
       "  </thead>\n",
       "  <tbody>\n",
       "    <tr>\n",
       "      <th>0</th>\n",
       "      <td>1</td>\n",
       "      <td>a</td>\n",
       "    </tr>\n",
       "    <tr>\n",
       "      <th>1</th>\n",
       "      <td>2</td>\n",
       "      <td>b</td>\n",
       "    </tr>\n",
       "    <tr>\n",
       "      <th>2</th>\n",
       "      <td>3</td>\n",
       "      <td>b</td>\n",
       "    </tr>\n",
       "    <tr>\n",
       "      <th>3</th>\n",
       "      <td>4</td>\n",
       "      <td>a</td>\n",
       "    </tr>\n",
       "    <tr>\n",
       "      <th>4</th>\n",
       "      <td>5</td>\n",
       "      <td>a</td>\n",
       "    </tr>\n",
       "  </tbody>\n",
       "</table>\n",
       "</div>"
      ],
      "text/plain": [
       "   id raw_grade\n",
       "0   1         a\n",
       "1   2         b\n",
       "2   3         b\n",
       "3   4         a\n",
       "4   5         a"
      ]
     },
     "execution_count": 27,
     "metadata": {},
     "output_type": "execute_result"
    }
   ],
   "source": [
    "df = pd.DataFrame({\"id\": [1, 2, 3, 4, 5, 6], \"raw_grade\": [\"a\", \"b\", \"b\", \"a\", \"a\", \"e\"]})\n",
    "df.head()"
   ]
  },
  {
   "cell_type": "code",
   "execution_count": 28,
   "id": "3555faff",
   "metadata": {
    "execution": {
     "iopub.execute_input": "2024-07-20T19:16:13.194768Z",
     "iopub.status.busy": "2024-07-20T19:16:13.194360Z",
     "iopub.status.idle": "2024-07-20T19:16:13.206146Z",
     "shell.execute_reply": "2024-07-20T19:16:13.204960Z"
    },
    "papermill": {
     "duration": 0.068031,
     "end_time": "2024-07-20T19:16:13.208689",
     "exception": false,
     "start_time": "2024-07-20T19:16:13.140658",
     "status": "completed"
    },
    "tags": []
   },
   "outputs": [
    {
     "data": {
      "text/plain": [
       "0    a\n",
       "1    b\n",
       "2    b\n",
       "3    a\n",
       "4    a\n",
       "5    e\n",
       "Name: grade, dtype: category\n",
       "Categories (3, object): ['a', 'b', 'e']"
      ]
     },
     "execution_count": 28,
     "metadata": {},
     "output_type": "execute_result"
    }
   ],
   "source": [
    "df[\"grade\"] = df[\"raw_grade\"].astype(\"category\")\n",
    "In [125]: df[\"grade\"]"
   ]
  },
  {
   "cell_type": "code",
   "execution_count": 29,
   "id": "639de9fe",
   "metadata": {
    "execution": {
     "iopub.execute_input": "2024-07-20T19:16:13.311378Z",
     "iopub.status.busy": "2024-07-20T19:16:13.310878Z",
     "iopub.status.idle": "2024-07-20T19:16:13.318782Z",
     "shell.execute_reply": "2024-07-20T19:16:13.317455Z"
    },
    "papermill": {
     "duration": 0.063552,
     "end_time": "2024-07-20T19:16:13.321861",
     "exception": false,
     "start_time": "2024-07-20T19:16:13.258309",
     "status": "completed"
    },
    "tags": []
   },
   "outputs": [
    {
     "name": "stderr",
     "output_type": "stream",
     "text": [
      "/tmp/ipykernel_19/2985790766.py:1: FutureWarning: Setting categories in-place is deprecated and will raise in a future version. Use rename_categories instead.\n",
      "  df[\"grade\"].cat.categories = [\"very good\", \"good\", \"very bad\"]\n"
     ]
    }
   ],
   "source": [
    "df[\"grade\"].cat.categories = [\"very good\", \"good\", \"very bad\"]"
   ]
  },
  {
   "cell_type": "code",
   "execution_count": 30,
   "id": "b07aba10",
   "metadata": {
    "execution": {
     "iopub.execute_input": "2024-07-20T19:16:13.425056Z",
     "iopub.status.busy": "2024-07-20T19:16:13.423863Z",
     "iopub.status.idle": "2024-07-20T19:16:13.436966Z",
     "shell.execute_reply": "2024-07-20T19:16:13.435634Z"
    },
    "papermill": {
     "duration": 0.0682,
     "end_time": "2024-07-20T19:16:13.439704",
     "exception": false,
     "start_time": "2024-07-20T19:16:13.371504",
     "status": "completed"
    },
    "tags": []
   },
   "outputs": [
    {
     "data": {
      "text/plain": [
       "0    very good\n",
       "1         good\n",
       "2         good\n",
       "3    very good\n",
       "4    very good\n",
       "5     very bad\n",
       "Name: grade, dtype: category\n",
       "Categories (5, object): ['very bad', 'bad', 'medium', 'good', 'very good']"
      ]
     },
     "execution_count": 30,
     "metadata": {},
     "output_type": "execute_result"
    }
   ],
   "source": [
    "df[\"grade\"] = df[\"grade\"].cat.set_categories([\"very bad\", \"bad\", \"medium\", \"good\", \"very good\"])\n",
    "\n",
    "df[\"grade\"]"
   ]
  },
  {
   "cell_type": "code",
   "execution_count": 31,
   "id": "1498d6d2",
   "metadata": {
    "execution": {
     "iopub.execute_input": "2024-07-20T19:16:13.544989Z",
     "iopub.status.busy": "2024-07-20T19:16:13.544214Z",
     "iopub.status.idle": "2024-07-20T19:16:13.557592Z",
     "shell.execute_reply": "2024-07-20T19:16:13.556479Z"
    },
    "papermill": {
     "duration": 0.068125,
     "end_time": "2024-07-20T19:16:13.560297",
     "exception": false,
     "start_time": "2024-07-20T19:16:13.492172",
     "status": "completed"
    },
    "tags": []
   },
   "outputs": [
    {
     "data": {
      "text/html": [
       "<div>\n",
       "<style scoped>\n",
       "    .dataframe tbody tr th:only-of-type {\n",
       "        vertical-align: middle;\n",
       "    }\n",
       "\n",
       "    .dataframe tbody tr th {\n",
       "        vertical-align: top;\n",
       "    }\n",
       "\n",
       "    .dataframe thead th {\n",
       "        text-align: right;\n",
       "    }\n",
       "</style>\n",
       "<table border=\"1\" class=\"dataframe\">\n",
       "  <thead>\n",
       "    <tr style=\"text-align: right;\">\n",
       "      <th></th>\n",
       "      <th>id</th>\n",
       "      <th>raw_grade</th>\n",
       "      <th>grade</th>\n",
       "    </tr>\n",
       "  </thead>\n",
       "  <tbody>\n",
       "    <tr>\n",
       "      <th>5</th>\n",
       "      <td>6</td>\n",
       "      <td>e</td>\n",
       "      <td>very bad</td>\n",
       "    </tr>\n",
       "    <tr>\n",
       "      <th>1</th>\n",
       "      <td>2</td>\n",
       "      <td>b</td>\n",
       "      <td>good</td>\n",
       "    </tr>\n",
       "    <tr>\n",
       "      <th>2</th>\n",
       "      <td>3</td>\n",
       "      <td>b</td>\n",
       "      <td>good</td>\n",
       "    </tr>\n",
       "    <tr>\n",
       "      <th>0</th>\n",
       "      <td>1</td>\n",
       "      <td>a</td>\n",
       "      <td>very good</td>\n",
       "    </tr>\n",
       "    <tr>\n",
       "      <th>3</th>\n",
       "      <td>4</td>\n",
       "      <td>a</td>\n",
       "      <td>very good</td>\n",
       "    </tr>\n",
       "    <tr>\n",
       "      <th>4</th>\n",
       "      <td>5</td>\n",
       "      <td>a</td>\n",
       "      <td>very good</td>\n",
       "    </tr>\n",
       "  </tbody>\n",
       "</table>\n",
       "</div>"
      ],
      "text/plain": [
       "   id raw_grade      grade\n",
       "5   6         e   very bad\n",
       "1   2         b       good\n",
       "2   3         b       good\n",
       "0   1         a  very good\n",
       "3   4         a  very good\n",
       "4   5         a  very good"
      ]
     },
     "execution_count": 31,
     "metadata": {},
     "output_type": "execute_result"
    }
   ],
   "source": [
    "df.sort_values(by=\"grade\")"
   ]
  },
  {
   "cell_type": "code",
   "execution_count": 32,
   "id": "99631d84",
   "metadata": {
    "execution": {
     "iopub.execute_input": "2024-07-20T19:16:13.662764Z",
     "iopub.status.busy": "2024-07-20T19:16:13.662334Z",
     "iopub.status.idle": "2024-07-20T19:16:13.672578Z",
     "shell.execute_reply": "2024-07-20T19:16:13.671400Z"
    },
    "papermill": {
     "duration": 0.065042,
     "end_time": "2024-07-20T19:16:13.675714",
     "exception": false,
     "start_time": "2024-07-20T19:16:13.610672",
     "status": "completed"
    },
    "tags": []
   },
   "outputs": [
    {
     "data": {
      "text/plain": [
       "grade\n",
       "very bad     1\n",
       "bad          0\n",
       "medium       0\n",
       "good         2\n",
       "very good    3\n",
       "dtype: int64"
      ]
     },
     "execution_count": 32,
     "metadata": {},
     "output_type": "execute_result"
    }
   ],
   "source": [
    "df.groupby(\"grade\").size()"
   ]
  },
  {
   "cell_type": "code",
   "execution_count": 33,
   "id": "3efc7b97",
   "metadata": {
    "execution": {
     "iopub.execute_input": "2024-07-20T19:16:13.781095Z",
     "iopub.status.busy": "2024-07-20T19:16:13.780685Z",
     "iopub.status.idle": "2024-07-20T19:16:13.786868Z",
     "shell.execute_reply": "2024-07-20T19:16:13.785570Z"
    },
    "papermill": {
     "duration": 0.062637,
     "end_time": "2024-07-20T19:16:13.789948",
     "exception": false,
     "start_time": "2024-07-20T19:16:13.727311",
     "status": "completed"
    },
    "tags": []
   },
   "outputs": [],
   "source": [
    "import matplotlib.pyplot as plt\n",
    "plt.close(\"all\")"
   ]
  },
  {
   "cell_type": "code",
   "execution_count": 34,
   "id": "6e8a146b",
   "metadata": {
    "execution": {
     "iopub.execute_input": "2024-07-20T19:16:13.895698Z",
     "iopub.status.busy": "2024-07-20T19:16:13.894600Z",
     "iopub.status.idle": "2024-07-20T19:16:14.345214Z",
     "shell.execute_reply": "2024-07-20T19:16:14.343785Z"
    },
    "papermill": {
     "duration": 0.506945,
     "end_time": "2024-07-20T19:16:14.348398",
     "exception": false,
     "start_time": "2024-07-20T19:16:13.841453",
     "status": "completed"
    },
    "tags": []
   },
   "outputs": [
    {
     "data": {
      "image/png": "[encoded data removed]",
      "text/plain": [
       "<Figure size 640x480 with 1 Axes>"
      ]
     },
     "metadata": {},
     "output_type": "display_data"
    }
   ],
   "source": [
    "ts = pd.Series(np.random.randn(1000), index=pd.date_range(\"1/1/2000\",periods=1000))\n",
    "ts = ts.cumsum()\n",
    "ts.plot();"
   ]
  },
  {
   "cell_type": "code",
   "execution_count": 35,
   "id": "b0c42aec",
   "metadata": {
    "execution": {
     "iopub.execute_input": "2024-07-20T19:16:14.452958Z",
     "iopub.status.busy": "2024-07-20T19:16:14.451896Z",
     "iopub.status.idle": "2024-07-20T19:16:15.130990Z",
     "shell.execute_reply": "2024-07-20T19:16:15.129327Z"
    },
    "papermill": {
     "duration": 0.735107,
     "end_time": "2024-07-20T19:16:15.134284",
     "exception": false,
     "start_time": "2024-07-20T19:16:14.399177",
     "status": "completed"
    },
    "tags": []
   },
   "outputs": [
    {
     "data": {
      "text/plain": [
       "<Figure size 640x480 with 0 Axes>"
      ]
     },
     "metadata": {},
     "output_type": "display_data"
    },
    {
     "data": {
      "image/png": "[encoded data removed]",
      "text/plain": [
       "<Figure size 640x480 with 1 Axes>"
      ]
     },
     "metadata": {},
     "output_type": "display_data"
    }
   ],
   "source": [
    "df = pd.DataFrame(np.random.randn(1000, 4), index=ts.index, columns=[\"A\", \"B\", \"C\", \"D\"])\n",
    "df = df.cumsum()\n",
    "plt.figure();\n",
    "df.plot();\n",
    "plt.legend(loc='best');"
   ]
  },
  {
   "cell_type": "code",
   "execution_count": 36,
   "id": "9054750c",
   "metadata": {
    "execution": {
     "iopub.execute_input": "2024-07-20T19:16:15.245859Z",
     "iopub.status.busy": "2024-07-20T19:16:15.245043Z",
     "iopub.status.idle": "2024-07-20T19:16:15.284057Z",
     "shell.execute_reply": "2024-07-20T19:16:15.282790Z"
    },
    "papermill": {
     "duration": 0.099457,
     "end_time": "2024-07-20T19:16:15.286813",
     "exception": false,
     "start_time": "2024-07-20T19:16:15.187356",
     "status": "completed"
    },
    "tags": []
   },
   "outputs": [
    {
     "data": {
      "text/html": [
       "<div>\n",
       "<style scoped>\n",
       "    .dataframe tbody tr th:only-of-type {\n",
       "        vertical-align: middle;\n",
       "    }\n",
       "\n",
       "    .dataframe tbody tr th {\n",
       "        vertical-align: top;\n",
       "    }\n",
       "\n",
       "    .dataframe thead th {\n",
       "        text-align: right;\n",
       "    }\n",
       "</style>\n",
       "<table border=\"1\" class=\"dataframe\">\n",
       "  <thead>\n",
       "    <tr style=\"text-align: right;\">\n",
       "      <th></th>\n",
       "      <th>Unnamed: 0</th>\n",
       "      <th>A</th>\n",
       "      <th>B</th>\n",
       "      <th>C</th>\n",
       "      <th>D</th>\n",
       "    </tr>\n",
       "  </thead>\n",
       "  <tbody>\n",
       "    <tr>\n",
       "      <th>0</th>\n",
       "      <td>2000-01-01</td>\n",
       "      <td>-0.028334</td>\n",
       "      <td>-1.382950</td>\n",
       "      <td>1.354942</td>\n",
       "      <td>-0.027108</td>\n",
       "    </tr>\n",
       "    <tr>\n",
       "      <th>1</th>\n",
       "      <td>2000-01-02</td>\n",
       "      <td>-1.841400</td>\n",
       "      <td>-1.728610</td>\n",
       "      <td>1.954460</td>\n",
       "      <td>0.074718</td>\n",
       "    </tr>\n",
       "    <tr>\n",
       "      <th>2</th>\n",
       "      <td>2000-01-03</td>\n",
       "      <td>-1.899842</td>\n",
       "      <td>-2.446917</td>\n",
       "      <td>2.606798</td>\n",
       "      <td>0.872316</td>\n",
       "    </tr>\n",
       "    <tr>\n",
       "      <th>3</th>\n",
       "      <td>2000-01-04</td>\n",
       "      <td>-2.893192</td>\n",
       "      <td>-2.870546</td>\n",
       "      <td>3.329014</td>\n",
       "      <td>1.253337</td>\n",
       "    </tr>\n",
       "    <tr>\n",
       "      <th>4</th>\n",
       "      <td>2000-01-05</td>\n",
       "      <td>-1.713214</td>\n",
       "      <td>-2.528506</td>\n",
       "      <td>3.163879</td>\n",
       "      <td>1.865465</td>\n",
       "    </tr>\n",
       "    <tr>\n",
       "      <th>...</th>\n",
       "      <td>...</td>\n",
       "      <td>...</td>\n",
       "      <td>...</td>\n",
       "      <td>...</td>\n",
       "      <td>...</td>\n",
       "    </tr>\n",
       "    <tr>\n",
       "      <th>995</th>\n",
       "      <td>2002-09-22</td>\n",
       "      <td>-9.920154</td>\n",
       "      <td>-39.053542</td>\n",
       "      <td>-10.344308</td>\n",
       "      <td>-5.056747</td>\n",
       "    </tr>\n",
       "    <tr>\n",
       "      <th>996</th>\n",
       "      <td>2002-09-23</td>\n",
       "      <td>-9.685915</td>\n",
       "      <td>-38.507028</td>\n",
       "      <td>-7.607717</td>\n",
       "      <td>-3.767316</td>\n",
       "    </tr>\n",
       "    <tr>\n",
       "      <th>997</th>\n",
       "      <td>2002-09-24</td>\n",
       "      <td>-6.322042</td>\n",
       "      <td>-37.719630</td>\n",
       "      <td>-6.892630</td>\n",
       "      <td>-3.519776</td>\n",
       "    </tr>\n",
       "    <tr>\n",
       "      <th>998</th>\n",
       "      <td>2002-09-25</td>\n",
       "      <td>-3.874548</td>\n",
       "      <td>-37.885341</td>\n",
       "      <td>-6.688575</td>\n",
       "      <td>-5.730785</td>\n",
       "    </tr>\n",
       "    <tr>\n",
       "      <th>999</th>\n",
       "      <td>2002-09-26</td>\n",
       "      <td>-4.266594</td>\n",
       "      <td>-37.018636</td>\n",
       "      <td>-4.287744</td>\n",
       "      <td>-4.234111</td>\n",
       "    </tr>\n",
       "  </tbody>\n",
       "</table>\n",
       "<p>1000 rows × 5 columns</p>\n",
       "</div>"
      ],
      "text/plain": [
       "     Unnamed: 0         A          B          C         D\n",
       "0    2000-01-01 -0.028334  -1.382950   1.354942 -0.027108\n",
       "1    2000-01-02 -1.841400  -1.728610   1.954460  0.074718\n",
       "2    2000-01-03 -1.899842  -2.446917   2.606798  0.872316\n",
       "3    2000-01-04 -2.893192  -2.870546   3.329014  1.253337\n",
       "4    2000-01-05 -1.713214  -2.528506   3.163879  1.865465\n",
       "..          ...       ...        ...        ...       ...\n",
       "995  2002-09-22 -9.920154 -39.053542 -10.344308 -5.056747\n",
       "996  2002-09-23 -9.685915 -38.507028  -7.607717 -3.767316\n",
       "997  2002-09-24 -6.322042 -37.719630  -6.892630 -3.519776\n",
       "998  2002-09-25 -3.874548 -37.885341  -6.688575 -5.730785\n",
       "999  2002-09-26 -4.266594 -37.018636  -4.287744 -4.234111\n",
       "\n",
       "[1000 rows x 5 columns]"
      ]
     },
     "execution_count": 36,
     "metadata": {},
     "output_type": "execute_result"
    }
   ],
   "source": [
    "df.to_csv(\"foo.csv\")\n",
    "pd.read_csv(\"foo.csv\")"
   ]
  },
  {
   "cell_type": "code",
   "execution_count": 37,
   "id": "5acc14d4",
   "metadata": {
    "execution": {
     "iopub.execute_input": "2024-07-20T19:16:15.397834Z",
     "iopub.status.busy": "2024-07-20T19:16:15.396951Z",
     "iopub.status.idle": "2024-07-20T19:16:15.648903Z",
     "shell.execute_reply": "2024-07-20T19:16:15.647650Z"
    },
    "papermill": {
     "duration": 0.31109,
     "end_time": "2024-07-20T19:16:15.651620",
     "exception": false,
     "start_time": "2024-07-20T19:16:15.340530",
     "status": "completed"
    },
    "tags": []
   },
   "outputs": [
    {
     "data": {
      "text/html": [
       "<div>\n",
       "<style scoped>\n",
       "    .dataframe tbody tr th:only-of-type {\n",
       "        vertical-align: middle;\n",
       "    }\n",
       "\n",
       "    .dataframe tbody tr th {\n",
       "        vertical-align: top;\n",
       "    }\n",
       "\n",
       "    .dataframe thead th {\n",
       "        text-align: right;\n",
       "    }\n",
       "</style>\n",
       "<table border=\"1\" class=\"dataframe\">\n",
       "  <thead>\n",
       "    <tr style=\"text-align: right;\">\n",
       "      <th></th>\n",
       "      <th>A</th>\n",
       "      <th>B</th>\n",
       "      <th>C</th>\n",
       "      <th>D</th>\n",
       "    </tr>\n",
       "  </thead>\n",
       "  <tbody>\n",
       "    <tr>\n",
       "      <th>2000-01-01</th>\n",
       "      <td>-0.028334</td>\n",
       "      <td>-1.382950</td>\n",
       "      <td>1.354942</td>\n",
       "      <td>-0.027108</td>\n",
       "    </tr>\n",
       "    <tr>\n",
       "      <th>2000-01-02</th>\n",
       "      <td>-1.841400</td>\n",
       "      <td>-1.728610</td>\n",
       "      <td>1.954460</td>\n",
       "      <td>0.074718</td>\n",
       "    </tr>\n",
       "    <tr>\n",
       "      <th>2000-01-03</th>\n",
       "      <td>-1.899842</td>\n",
       "      <td>-2.446917</td>\n",
       "      <td>2.606798</td>\n",
       "      <td>0.872316</td>\n",
       "    </tr>\n",
       "    <tr>\n",
       "      <th>2000-01-04</th>\n",
       "      <td>-2.893192</td>\n",
       "      <td>-2.870546</td>\n",
       "      <td>3.329014</td>\n",
       "      <td>1.253337</td>\n",
       "    </tr>\n",
       "    <tr>\n",
       "      <th>2000-01-05</th>\n",
       "      <td>-1.713214</td>\n",
       "      <td>-2.528506</td>\n",
       "      <td>3.163879</td>\n",
       "      <td>1.865465</td>\n",
       "    </tr>\n",
       "    <tr>\n",
       "      <th>...</th>\n",
       "      <td>...</td>\n",
       "      <td>...</td>\n",
       "      <td>...</td>\n",
       "      <td>...</td>\n",
       "    </tr>\n",
       "    <tr>\n",
       "      <th>2002-09-22</th>\n",
       "      <td>-9.920154</td>\n",
       "      <td>-39.053542</td>\n",
       "      <td>-10.344308</td>\n",
       "      <td>-5.056747</td>\n",
       "    </tr>\n",
       "    <tr>\n",
       "      <th>2002-09-23</th>\n",
       "      <td>-9.685915</td>\n",
       "      <td>-38.507028</td>\n",
       "      <td>-7.607717</td>\n",
       "      <td>-3.767316</td>\n",
       "    </tr>\n",
       "    <tr>\n",
       "      <th>2002-09-24</th>\n",
       "      <td>-6.322042</td>\n",
       "      <td>-37.719630</td>\n",
       "      <td>-6.892630</td>\n",
       "      <td>-3.519776</td>\n",
       "    </tr>\n",
       "    <tr>\n",
       "      <th>2002-09-25</th>\n",
       "      <td>-3.874548</td>\n",
       "      <td>-37.885341</td>\n",
       "      <td>-6.688575</td>\n",
       "      <td>-5.730785</td>\n",
       "    </tr>\n",
       "    <tr>\n",
       "      <th>2002-09-26</th>\n",
       "      <td>-4.266594</td>\n",
       "      <td>-37.018636</td>\n",
       "      <td>-4.287744</td>\n",
       "      <td>-4.234111</td>\n",
       "    </tr>\n",
       "  </tbody>\n",
       "</table>\n",
       "<p>1000 rows × 4 columns</p>\n",
       "</div>"
      ],
      "text/plain": [
       "                   A          B          C         D\n",
       "2000-01-01 -0.028334  -1.382950   1.354942 -0.027108\n",
       "2000-01-02 -1.841400  -1.728610   1.954460  0.074718\n",
       "2000-01-03 -1.899842  -2.446917   2.606798  0.872316\n",
       "2000-01-04 -2.893192  -2.870546   3.329014  1.253337\n",
       "2000-01-05 -1.713214  -2.528506   3.163879  1.865465\n",
       "...              ...        ...        ...       ...\n",
       "2002-09-22 -9.920154 -39.053542 -10.344308 -5.056747\n",
       "2002-09-23 -9.685915 -38.507028  -7.607717 -3.767316\n",
       "2002-09-24 -6.322042 -37.719630  -6.892630 -3.519776\n",
       "2002-09-25 -3.874548 -37.885341  -6.688575 -5.730785\n",
       "2002-09-26 -4.266594 -37.018636  -4.287744 -4.234111\n",
       "\n",
       "[1000 rows x 4 columns]"
      ]
     },
     "execution_count": 37,
     "metadata": {},
     "output_type": "execute_result"
    }
   ],
   "source": [
    "df.to_hdf(\"foo.h5\", \"df\")\n",
    "pd.read_hdf(\"foo.h5\", \"df\")"
   ]
  },
  {
   "cell_type": "code",
   "execution_count": 38,
   "id": "8097e883",
   "metadata": {
    "execution": {
     "iopub.execute_input": "2024-07-20T19:16:15.761492Z",
     "iopub.status.busy": "2024-07-20T19:16:15.760942Z",
     "iopub.status.idle": "2024-07-20T19:16:16.657841Z",
     "shell.execute_reply": "2024-07-20T19:16:16.656467Z"
    },
    "papermill": {
     "duration": 0.956217,
     "end_time": "2024-07-20T19:16:16.660891",
     "exception": false,
     "start_time": "2024-07-20T19:16:15.704674",
     "status": "completed"
    },
    "tags": []
   },
   "outputs": [
    {
     "data": {
      "text/html": [
       "<div>\n",
       "<style scoped>\n",
       "    .dataframe tbody tr th:only-of-type {\n",
       "        vertical-align: middle;\n",
       "    }\n",
       "\n",
       "    .dataframe tbody tr th {\n",
       "        vertical-align: top;\n",
       "    }\n",
       "\n",
       "    .dataframe thead th {\n",
       "        text-align: right;\n",
       "    }\n",
       "</style>\n",
       "<table border=\"1\" class=\"dataframe\">\n",
       "  <thead>\n",
       "    <tr style=\"text-align: right;\">\n",
       "      <th></th>\n",
       "      <th>Unnamed: 0</th>\n",
       "      <th>A</th>\n",
       "      <th>B</th>\n",
       "      <th>C</th>\n",
       "      <th>D</th>\n",
       "    </tr>\n",
       "  </thead>\n",
       "  <tbody>\n",
       "    <tr>\n",
       "      <th>0</th>\n",
       "      <td>2000-01-01</td>\n",
       "      <td>-0.028334</td>\n",
       "      <td>-1.382950</td>\n",
       "      <td>1.354942</td>\n",
       "      <td>-0.027108</td>\n",
       "    </tr>\n",
       "    <tr>\n",
       "      <th>1</th>\n",
       "      <td>2000-01-02</td>\n",
       "      <td>-1.841400</td>\n",
       "      <td>-1.728610</td>\n",
       "      <td>1.954460</td>\n",
       "      <td>0.074718</td>\n",
       "    </tr>\n",
       "    <tr>\n",
       "      <th>2</th>\n",
       "      <td>2000-01-03</td>\n",
       "      <td>-1.899842</td>\n",
       "      <td>-2.446917</td>\n",
       "      <td>2.606798</td>\n",
       "      <td>0.872316</td>\n",
       "    </tr>\n",
       "    <tr>\n",
       "      <th>3</th>\n",
       "      <td>2000-01-04</td>\n",
       "      <td>-2.893192</td>\n",
       "      <td>-2.870546</td>\n",
       "      <td>3.329014</td>\n",
       "      <td>1.253337</td>\n",
       "    </tr>\n",
       "    <tr>\n",
       "      <th>4</th>\n",
       "      <td>2000-01-05</td>\n",
       "      <td>-1.713214</td>\n",
       "      <td>-2.528506</td>\n",
       "      <td>3.163879</td>\n",
       "      <td>1.865465</td>\n",
       "    </tr>\n",
       "    <tr>\n",
       "      <th>...</th>\n",
       "      <td>...</td>\n",
       "      <td>...</td>\n",
       "      <td>...</td>\n",
       "      <td>...</td>\n",
       "      <td>...</td>\n",
       "    </tr>\n",
       "    <tr>\n",
       "      <th>995</th>\n",
       "      <td>2002-09-22</td>\n",
       "      <td>-9.920154</td>\n",
       "      <td>-39.053542</td>\n",
       "      <td>-10.344308</td>\n",
       "      <td>-5.056747</td>\n",
       "    </tr>\n",
       "    <tr>\n",
       "      <th>996</th>\n",
       "      <td>2002-09-23</td>\n",
       "      <td>-9.685915</td>\n",
       "      <td>-38.507028</td>\n",
       "      <td>-7.607717</td>\n",
       "      <td>-3.767316</td>\n",
       "    </tr>\n",
       "    <tr>\n",
       "      <th>997</th>\n",
       "      <td>2002-09-24</td>\n",
       "      <td>-6.322042</td>\n",
       "      <td>-37.719630</td>\n",
       "      <td>-6.892630</td>\n",
       "      <td>-3.519776</td>\n",
       "    </tr>\n",
       "    <tr>\n",
       "      <th>998</th>\n",
       "      <td>2002-09-25</td>\n",
       "      <td>-3.874548</td>\n",
       "      <td>-37.885341</td>\n",
       "      <td>-6.688575</td>\n",
       "      <td>-5.730785</td>\n",
       "    </tr>\n",
       "    <tr>\n",
       "      <th>999</th>\n",
       "      <td>2002-09-26</td>\n",
       "      <td>-4.266594</td>\n",
       "      <td>-37.018636</td>\n",
       "      <td>-4.287744</td>\n",
       "      <td>-4.234111</td>\n",
       "    </tr>\n",
       "  </tbody>\n",
       "</table>\n",
       "<p>1000 rows × 5 columns</p>\n",
       "</div>"
      ],
      "text/plain": [
       "    Unnamed: 0         A          B          C         D\n",
       "0   2000-01-01 -0.028334  -1.382950   1.354942 -0.027108\n",
       "1   2000-01-02 -1.841400  -1.728610   1.954460  0.074718\n",
       "2   2000-01-03 -1.899842  -2.446917   2.606798  0.872316\n",
       "3   2000-01-04 -2.893192  -2.870546   3.329014  1.253337\n",
       "4   2000-01-05 -1.713214  -2.528506   3.163879  1.865465\n",
       "..         ...       ...        ...        ...       ...\n",
       "995 2002-09-22 -9.920154 -39.053542 -10.344308 -5.056747\n",
       "996 2002-09-23 -9.685915 -38.507028  -7.607717 -3.767316\n",
       "997 2002-09-24 -6.322042 -37.719630  -6.892630 -3.519776\n",
       "998 2002-09-25 -3.874548 -37.885341  -6.688575 -5.730785\n",
       "999 2002-09-26 -4.266594 -37.018636  -4.287744 -4.234111\n",
       "\n",
       "[1000 rows x 5 columns]"
      ]
     },
     "execution_count": 38,
     "metadata": {},
     "output_type": "execute_result"
    }
   ],
   "source": [
    "df.to_excel(\"foo.xlsx\", sheet_name=\"Sheet1\")\n",
    "pd.read_excel(\"foo.xlsx\", \"Sheet1\", index_col=None, na_values=[\"NA\"])"
   ]
  },
  {
   "cell_type": "code",
   "execution_count": 39,
   "id": "3697cb15",
   "metadata": {
    "execution": {
     "iopub.execute_input": "2024-07-20T19:16:16.775719Z",
     "iopub.status.busy": "2024-07-20T19:16:16.774939Z",
     "iopub.status.idle": "2024-07-20T19:16:16.785123Z",
     "shell.execute_reply": "2024-07-20T19:16:16.783815Z"
    },
    "papermill": {
     "duration": 0.070154,
     "end_time": "2024-07-20T19:16:16.787710",
     "exception": false,
     "start_time": "2024-07-20T19:16:16.717556",
     "status": "completed"
    },
    "tags": []
   },
   "outputs": [
    {
     "data": {
      "text/plain": [
       "a    0.127538\n",
       "b   -1.753499\n",
       "c   -0.569498\n",
       "d    0.502888\n",
       "e   -0.844897\n",
       "dtype: float64"
      ]
     },
     "execution_count": 39,
     "metadata": {},
     "output_type": "execute_result"
    }
   ],
   "source": [
    "s = pd.Series(np.random.randn(5), index=[\"a\", \"b\", \"c\", \"d\", \"e\"])\n",
    "s"
   ]
  },
  {
   "cell_type": "code",
   "execution_count": 40,
   "id": "d85102bb",
   "metadata": {
    "execution": {
     "iopub.execute_input": "2024-07-20T19:16:16.899876Z",
     "iopub.status.busy": "2024-07-20T19:16:16.899478Z",
     "iopub.status.idle": "2024-07-20T19:16:16.908990Z",
     "shell.execute_reply": "2024-07-20T19:16:16.907798Z"
    },
    "papermill": {
     "duration": 0.067895,
     "end_time": "2024-07-20T19:16:16.911615",
     "exception": false,
     "start_time": "2024-07-20T19:16:16.843720",
     "status": "completed"
    },
    "tags": []
   },
   "outputs": [
    {
     "data": {
      "text/plain": [
       "b    1\n",
       "a    0\n",
       "c    2\n",
       "dtype: int64"
      ]
     },
     "execution_count": 40,
     "metadata": {},
     "output_type": "execute_result"
    }
   ],
   "source": [
    "d = {\"b\": 1, \"a\": 0, \"c\": 2}\n",
    "pd.Series(d)"
   ]
  },
  {
   "cell_type": "code",
   "execution_count": 41,
   "id": "05257af4",
   "metadata": {
    "execution": {
     "iopub.execute_input": "2024-07-20T19:16:17.024592Z",
     "iopub.status.busy": "2024-07-20T19:16:17.024146Z",
     "iopub.status.idle": "2024-07-20T19:16:17.034945Z",
     "shell.execute_reply": "2024-07-20T19:16:17.033584Z"
    },
    "papermill": {
     "duration": 0.071415,
     "end_time": "2024-07-20T19:16:17.037754",
     "exception": false,
     "start_time": "2024-07-20T19:16:16.966339",
     "status": "completed"
    },
    "tags": []
   },
   "outputs": [
    {
     "data": {
      "text/plain": [
       "a    0.0\n",
       "b    1.0\n",
       "c    2.0\n",
       "dtype: float64"
      ]
     },
     "execution_count": 41,
     "metadata": {},
     "output_type": "execute_result"
    }
   ],
   "source": [
    "d = {\"a\": 0.0, \"b\": 1.0, \"c\": 2.0}\n",
    "pd.Series(d)"
   ]
  },
  {
   "cell_type": "code",
   "execution_count": 42,
   "id": "733be2b1",
   "metadata": {
    "execution": {
     "iopub.execute_input": "2024-07-20T19:16:17.148138Z",
     "iopub.status.busy": "2024-07-20T19:16:17.147687Z",
     "iopub.status.idle": "2024-07-20T19:16:17.159029Z",
     "shell.execute_reply": "2024-07-20T19:16:17.157681Z"
    },
    "papermill": {
     "duration": 0.069529,
     "end_time": "2024-07-20T19:16:17.161864",
     "exception": false,
     "start_time": "2024-07-20T19:16:17.092335",
     "status": "completed"
    },
    "tags": []
   },
   "outputs": [
    {
     "data": {
      "text/plain": [
       "b    1.0\n",
       "c    2.0\n",
       "d    NaN\n",
       "a    0.0\n",
       "dtype: float64"
      ]
     },
     "execution_count": 42,
     "metadata": {},
     "output_type": "execute_result"
    }
   ],
   "source": [
    "pd.Series(d, index=[\"b\", \"c\", \"d\", \"a\"])"
   ]
  },
  {
   "cell_type": "code",
   "execution_count": 43,
   "id": "7362d54f",
   "metadata": {
    "execution": {
     "iopub.execute_input": "2024-07-20T19:16:17.275602Z",
     "iopub.status.busy": "2024-07-20T19:16:17.275127Z",
     "iopub.status.idle": "2024-07-20T19:16:17.286529Z",
     "shell.execute_reply": "2024-07-20T19:16:17.284801Z"
    },
    "papermill": {
     "duration": 0.071883,
     "end_time": "2024-07-20T19:16:17.289436",
     "exception": false,
     "start_time": "2024-07-20T19:16:17.217553",
     "status": "completed"
    },
    "tags": []
   },
   "outputs": [
    {
     "data": {
      "text/plain": [
       "a    5.0\n",
       "b    5.0\n",
       "c    5.0\n",
       "d    5.0\n",
       "e    5.0\n",
       "dtype: float64"
      ]
     },
     "execution_count": 43,
     "metadata": {},
     "output_type": "execute_result"
    }
   ],
   "source": [
    "pd.Series(5.0, index=[\"a\", \"b\", \"c\", \"d\", \"e\"])"
   ]
  },
  {
   "cell_type": "code",
   "execution_count": 44,
   "id": "47bd9a23",
   "metadata": {
    "execution": {
     "iopub.execute_input": "2024-07-20T19:16:17.403890Z",
     "iopub.status.busy": "2024-07-20T19:16:17.403427Z",
     "iopub.status.idle": "2024-07-20T19:16:17.412796Z",
     "shell.execute_reply": "2024-07-20T19:16:17.411484Z"
    },
    "papermill": {
     "duration": 0.06965,
     "end_time": "2024-07-20T19:16:17.415593",
     "exception": false,
     "start_time": "2024-07-20T19:16:17.345943",
     "status": "completed"
    },
    "tags": []
   },
   "outputs": [
    {
     "data": {
      "text/plain": [
       "0.1275378738786545"
      ]
     },
     "execution_count": 44,
     "metadata": {},
     "output_type": "execute_result"
    }
   ],
   "source": [
    "s[0]"
   ]
  },
  {
   "cell_type": "code",
   "execution_count": 45,
   "id": "59b2d36c",
   "metadata": {
    "execution": {
     "iopub.execute_input": "2024-07-20T19:16:17.529871Z",
     "iopub.status.busy": "2024-07-20T19:16:17.529077Z",
     "iopub.status.idle": "2024-07-20T19:16:17.538551Z",
     "shell.execute_reply": "2024-07-20T19:16:17.537034Z"
    },
    "papermill": {
     "duration": 0.069684,
     "end_time": "2024-07-20T19:16:17.541203",
     "exception": false,
     "start_time": "2024-07-20T19:16:17.471519",
     "status": "completed"
    },
    "tags": []
   },
   "outputs": [
    {
     "data": {
      "text/plain": [
       "a    0.127538\n",
       "b   -1.753499\n",
       "c   -0.569498\n",
       "dtype: float64"
      ]
     },
     "execution_count": 45,
     "metadata": {},
     "output_type": "execute_result"
    }
   ],
   "source": [
    "s[:3]"
   ]
  },
  {
   "cell_type": "code",
   "execution_count": 46,
   "id": "9e807a88",
   "metadata": {
    "execution": {
     "iopub.execute_input": "2024-07-20T19:16:17.654693Z",
     "iopub.status.busy": "2024-07-20T19:16:17.654289Z",
     "iopub.status.idle": "2024-07-20T19:16:17.666499Z",
     "shell.execute_reply": "2024-07-20T19:16:17.665184Z"
    },
    "papermill": {
     "duration": 0.071917,
     "end_time": "2024-07-20T19:16:17.669291",
     "exception": false,
     "start_time": "2024-07-20T19:16:17.597374",
     "status": "completed"
    },
    "tags": []
   },
   "outputs": [
    {
     "data": {
      "text/plain": [
       "a    0.127538\n",
       "d    0.502888\n",
       "dtype: float64"
      ]
     },
     "execution_count": 46,
     "metadata": {},
     "output_type": "execute_result"
    }
   ],
   "source": [
    "s[s > s.median()]"
   ]
  },
  {
   "cell_type": "code",
   "execution_count": 47,
   "id": "2b55023f",
   "metadata": {
    "execution": {
     "iopub.execute_input": "2024-07-20T19:16:17.783868Z",
     "iopub.status.busy": "2024-07-20T19:16:17.782908Z",
     "iopub.status.idle": "2024-07-20T19:16:17.792821Z",
     "shell.execute_reply": "2024-07-20T19:16:17.791469Z"
    },
    "papermill": {
     "duration": 0.069748,
     "end_time": "2024-07-20T19:16:17.795742",
     "exception": false,
     "start_time": "2024-07-20T19:16:17.725994",
     "status": "completed"
    },
    "tags": []
   },
   "outputs": [
    {
     "data": {
      "text/plain": [
       "e   -0.844897\n",
       "d    0.502888\n",
       "b   -1.753499\n",
       "dtype: float64"
      ]
     },
     "execution_count": 47,
     "metadata": {},
     "output_type": "execute_result"
    }
   ],
   "source": [
    "s[[4, 3, 1]]"
   ]
  },
  {
   "cell_type": "code",
   "execution_count": 48,
   "id": "cbbd2c1e",
   "metadata": {
    "execution": {
     "iopub.execute_input": "2024-07-20T19:16:17.908550Z",
     "iopub.status.busy": "2024-07-20T19:16:17.908149Z",
     "iopub.status.idle": "2024-07-20T19:16:17.918138Z",
     "shell.execute_reply": "2024-07-20T19:16:17.916692Z"
    },
    "papermill": {
     "duration": 0.069307,
     "end_time": "2024-07-20T19:16:17.920952",
     "exception": false,
     "start_time": "2024-07-20T19:16:17.851645",
     "status": "completed"
    },
    "tags": []
   },
   "outputs": [
    {
     "data": {
      "text/plain": [
       "a    1.136028\n",
       "b    0.173167\n",
       "c    0.565809\n",
       "d    1.653489\n",
       "e    0.429602\n",
       "dtype: float64"
      ]
     },
     "execution_count": 48,
     "metadata": {},
     "output_type": "execute_result"
    }
   ],
   "source": [
    "np.exp(s)"
   ]
  },
  {
   "cell_type": "code",
   "execution_count": 49,
   "id": "8b418147",
   "metadata": {
    "execution": {
     "iopub.execute_input": "2024-07-20T19:16:18.035486Z",
     "iopub.status.busy": "2024-07-20T19:16:18.035028Z",
     "iopub.status.idle": "2024-07-20T19:16:18.043225Z",
     "shell.execute_reply": "2024-07-20T19:16:18.041958Z"
    },
    "papermill": {
     "duration": 0.068481,
     "end_time": "2024-07-20T19:16:18.045935",
     "exception": false,
     "start_time": "2024-07-20T19:16:17.977454",
     "status": "completed"
    },
    "tags": []
   },
   "outputs": [
    {
     "data": {
      "text/plain": [
       "<PandasArray>\n",
       "[ 0.1275378738786545, -1.7534987167148526, -0.5694983705096484,\n",
       "  0.5028875643802583, -0.8448971838267484]\n",
       "Length: 5, dtype: float64"
      ]
     },
     "execution_count": 49,
     "metadata": {},
     "output_type": "execute_result"
    }
   ],
   "source": [
    "s.array"
   ]
  },
  {
   "cell_type": "code",
   "execution_count": 50,
   "id": "4c1484c6",
   "metadata": {
    "execution": {
     "iopub.execute_input": "2024-07-20T19:16:18.161358Z",
     "iopub.status.busy": "2024-07-20T19:16:18.160009Z",
     "iopub.status.idle": "2024-07-20T19:16:18.169057Z",
     "shell.execute_reply": "2024-07-20T19:16:18.167644Z"
    },
    "papermill": {
     "duration": 0.070048,
     "end_time": "2024-07-20T19:16:18.171743",
     "exception": false,
     "start_time": "2024-07-20T19:16:18.101695",
     "status": "completed"
    },
    "tags": []
   },
   "outputs": [
    {
     "data": {
      "text/plain": [
       "array([ 0.12753787, -1.75349872, -0.56949837,  0.50288756, -0.84489718])"
      ]
     },
     "execution_count": 50,
     "metadata": {},
     "output_type": "execute_result"
    }
   ],
   "source": [
    "s.to_numpy()"
   ]
  },
  {
   "cell_type": "code",
   "execution_count": 51,
   "id": "8e34eb63",
   "metadata": {
    "execution": {
     "iopub.execute_input": "2024-07-20T19:16:18.354755Z",
     "iopub.status.busy": "2024-07-20T19:16:18.353968Z",
     "iopub.status.idle": "2024-07-20T19:16:18.362017Z",
     "shell.execute_reply": "2024-07-20T19:16:18.360766Z"
    },
    "papermill": {
     "duration": 0.136277,
     "end_time": "2024-07-20T19:16:18.364802",
     "exception": false,
     "start_time": "2024-07-20T19:16:18.228525",
     "status": "completed"
    },
    "tags": []
   },
   "outputs": [
    {
     "data": {
      "text/plain": [
       "0.1275378738786545"
      ]
     },
     "execution_count": 51,
     "metadata": {},
     "output_type": "execute_result"
    }
   ],
   "source": [
    "s[\"a\"]"
   ]
  },
  {
   "cell_type": "code",
   "execution_count": 52,
   "id": "8f5f209a",
   "metadata": {
    "execution": {
     "iopub.execute_input": "2024-07-20T19:16:18.481712Z",
     "iopub.status.busy": "2024-07-20T19:16:18.481311Z",
     "iopub.status.idle": "2024-07-20T19:16:18.490263Z",
     "shell.execute_reply": "2024-07-20T19:16:18.488967Z"
    },
    "papermill": {
     "duration": 0.071454,
     "end_time": "2024-07-20T19:16:18.493026",
     "exception": false,
     "start_time": "2024-07-20T19:16:18.421572",
     "status": "completed"
    },
    "tags": []
   },
   "outputs": [
    {
     "data": {
      "text/plain": [
       "a     0.127538\n",
       "b    -1.753499\n",
       "c    -0.569498\n",
       "d     0.502888\n",
       "e    12.000000\n",
       "dtype: float64"
      ]
     },
     "execution_count": 52,
     "metadata": {},
     "output_type": "execute_result"
    }
   ],
   "source": [
    "s[\"e\"] = 12.0\n",
    "s"
   ]
  },
  {
   "cell_type": "code",
   "execution_count": 53,
   "id": "3f3d3198",
   "metadata": {
    "execution": {
     "iopub.execute_input": "2024-07-20T19:16:18.608902Z",
     "iopub.status.busy": "2024-07-20T19:16:18.608521Z",
     "iopub.status.idle": "2024-07-20T19:16:18.617317Z",
     "shell.execute_reply": "2024-07-20T19:16:18.616140Z"
    },
    "papermill": {
     "duration": 0.069592,
     "end_time": "2024-07-20T19:16:18.620127",
     "exception": false,
     "start_time": "2024-07-20T19:16:18.550535",
     "status": "completed"
    },
    "tags": []
   },
   "outputs": [
    {
     "data": {
      "text/plain": [
       "a         1.136028\n",
       "b         0.173167\n",
       "c         0.565809\n",
       "d         1.653489\n",
       "e    162754.791419\n",
       "dtype: float64"
      ]
     },
     "execution_count": 53,
     "metadata": {},
     "output_type": "execute_result"
    }
   ],
   "source": [
    "np.exp(s)"
   ]
  },
  {
   "cell_type": "code",
   "execution_count": 54,
   "id": "b7af8e19",
   "metadata": {
    "execution": {
     "iopub.execute_input": "2024-07-20T19:16:18.735943Z",
     "iopub.status.busy": "2024-07-20T19:16:18.735520Z",
     "iopub.status.idle": "2024-07-20T19:16:18.748321Z",
     "shell.execute_reply": "2024-07-20T19:16:18.747087Z"
    },
    "papermill": {
     "duration": 0.074448,
     "end_time": "2024-07-20T19:16:18.750977",
     "exception": false,
     "start_time": "2024-07-20T19:16:18.676529",
     "status": "completed"
    },
    "tags": []
   },
   "outputs": [
    {
     "data": {
      "text/plain": [
       "a         NaN\n",
       "b   -3.506997\n",
       "c   -1.138997\n",
       "d    1.005775\n",
       "e         NaN\n",
       "dtype: float64"
      ]
     },
     "execution_count": 54,
     "metadata": {},
     "output_type": "execute_result"
    }
   ],
   "source": [
    "s[1:] + s[:-1]"
   ]
  },
  {
   "cell_type": "code",
   "execution_count": 55,
   "id": "8064f9d1",
   "metadata": {
    "execution": {
     "iopub.execute_input": "2024-07-20T19:16:18.867318Z",
     "iopub.status.busy": "2024-07-20T19:16:18.866873Z",
     "iopub.status.idle": "2024-07-20T19:16:18.876660Z",
     "shell.execute_reply": "2024-07-20T19:16:18.875018Z"
    },
    "papermill": {
     "duration": 0.071091,
     "end_time": "2024-07-20T19:16:18.879637",
     "exception": false,
     "start_time": "2024-07-20T19:16:18.808546",
     "status": "completed"
    },
    "tags": []
   },
   "outputs": [
    {
     "data": {
      "text/plain": [
       "0   -0.620343\n",
       "1   -0.143638\n",
       "2    0.279272\n",
       "3   -0.003358\n",
       "4   -0.242285\n",
       "Name: something, dtype: float64"
      ]
     },
     "execution_count": 55,
     "metadata": {},
     "output_type": "execute_result"
    }
   ],
   "source": [
    "s = pd.Series(np.random.randn(5), name=\"something\")\n",
    "s"
   ]
  },
  {
   "cell_type": "code",
   "execution_count": 56,
   "id": "763c430c",
   "metadata": {
    "execution": {
     "iopub.execute_input": "2024-07-20T19:16:18.995486Z",
     "iopub.status.busy": "2024-07-20T19:16:18.995027Z",
     "iopub.status.idle": "2024-07-20T19:16:19.002842Z",
     "shell.execute_reply": "2024-07-20T19:16:19.001734Z"
    },
    "papermill": {
     "duration": 0.069576,
     "end_time": "2024-07-20T19:16:19.005870",
     "exception": false,
     "start_time": "2024-07-20T19:16:18.936294",
     "status": "completed"
    },
    "tags": []
   },
   "outputs": [
    {
     "data": {
      "text/plain": [
       "'different'"
      ]
     },
     "execution_count": 56,
     "metadata": {},
     "output_type": "execute_result"
    }
   ],
   "source": [
    "s2 = s.rename(\"different\")\n",
    "s2.name"
   ]
  },
  {
   "cell_type": "code",
   "execution_count": 57,
   "id": "2f754d3a",
   "metadata": {
    "execution": {
     "iopub.execute_input": "2024-07-20T19:16:19.125228Z",
     "iopub.status.busy": "2024-07-20T19:16:19.124802Z",
     "iopub.status.idle": "2024-07-20T19:16:19.141168Z",
     "shell.execute_reply": "2024-07-20T19:16:19.139879Z"
    },
    "papermill": {
     "duration": 0.078149,
     "end_time": "2024-07-20T19:16:19.143833",
     "exception": false,
     "start_time": "2024-07-20T19:16:19.065684",
     "status": "completed"
    },
    "tags": []
   },
   "outputs": [
    {
     "data": {
      "text/html": [
       "<div>\n",
       "<style scoped>\n",
       "    .dataframe tbody tr th:only-of-type {\n",
       "        vertical-align: middle;\n",
       "    }\n",
       "\n",
       "    .dataframe tbody tr th {\n",
       "        vertical-align: top;\n",
       "    }\n",
       "\n",
       "    .dataframe thead th {\n",
       "        text-align: right;\n",
       "    }\n",
       "</style>\n",
       "<table border=\"1\" class=\"dataframe\">\n",
       "  <thead>\n",
       "    <tr style=\"text-align: right;\">\n",
       "      <th></th>\n",
       "      <th>one</th>\n",
       "      <th>two</th>\n",
       "    </tr>\n",
       "  </thead>\n",
       "  <tbody>\n",
       "    <tr>\n",
       "      <th>a</th>\n",
       "      <td>1.0</td>\n",
       "      <td>1.0</td>\n",
       "    </tr>\n",
       "    <tr>\n",
       "      <th>b</th>\n",
       "      <td>2.0</td>\n",
       "      <td>2.0</td>\n",
       "    </tr>\n",
       "    <tr>\n",
       "      <th>c</th>\n",
       "      <td>3.0</td>\n",
       "      <td>3.0</td>\n",
       "    </tr>\n",
       "    <tr>\n",
       "      <th>d</th>\n",
       "      <td>NaN</td>\n",
       "      <td>4.0</td>\n",
       "    </tr>\n",
       "  </tbody>\n",
       "</table>\n",
       "</div>"
      ],
      "text/plain": [
       "   one  two\n",
       "a  1.0  1.0\n",
       "b  2.0  2.0\n",
       "c  3.0  3.0\n",
       "d  NaN  4.0"
      ]
     },
     "execution_count": 57,
     "metadata": {},
     "output_type": "execute_result"
    }
   ],
   "source": [
    "d = {\n",
    "\"one\": pd.Series([1.0, 2.0, 3.0], index=[\"a\", \"b\", \"c\"]),\n",
    "\"two\": pd.Series([1.0, 2.0, 3.0, 4.0], index=[\"a\", \"b\", \"c\", \"d\"]),\n",
    "}\n",
    "\n",
    "df = pd.DataFrame(d)\n",
    "df"
   ]
  },
  {
   "cell_type": "code",
   "execution_count": 58,
   "id": "41504163",
   "metadata": {
    "execution": {
     "iopub.execute_input": "2024-07-20T19:16:19.261623Z",
     "iopub.status.busy": "2024-07-20T19:16:19.261228Z",
     "iopub.status.idle": "2024-07-20T19:16:19.275344Z",
     "shell.execute_reply": "2024-07-20T19:16:19.274199Z"
    },
    "papermill": {
     "duration": 0.076888,
     "end_time": "2024-07-20T19:16:19.277816",
     "exception": false,
     "start_time": "2024-07-20T19:16:19.200928",
     "status": "completed"
    },
    "tags": []
   },
   "outputs": [
    {
     "data": {
      "text/html": [
       "<div>\n",
       "<style scoped>\n",
       "    .dataframe tbody tr th:only-of-type {\n",
       "        vertical-align: middle;\n",
       "    }\n",
       "\n",
       "    .dataframe tbody tr th {\n",
       "        vertical-align: top;\n",
       "    }\n",
       "\n",
       "    .dataframe thead th {\n",
       "        text-align: right;\n",
       "    }\n",
       "</style>\n",
       "<table border=\"1\" class=\"dataframe\">\n",
       "  <thead>\n",
       "    <tr style=\"text-align: right;\">\n",
       "      <th></th>\n",
       "      <th>one</th>\n",
       "      <th>two</th>\n",
       "    </tr>\n",
       "  </thead>\n",
       "  <tbody>\n",
       "    <tr>\n",
       "      <th>d</th>\n",
       "      <td>NaN</td>\n",
       "      <td>4.0</td>\n",
       "    </tr>\n",
       "    <tr>\n",
       "      <th>b</th>\n",
       "      <td>2.0</td>\n",
       "      <td>2.0</td>\n",
       "    </tr>\n",
       "    <tr>\n",
       "      <th>a</th>\n",
       "      <td>1.0</td>\n",
       "      <td>1.0</td>\n",
       "    </tr>\n",
       "  </tbody>\n",
       "</table>\n",
       "</div>"
      ],
      "text/plain": [
       "   one  two\n",
       "d  NaN  4.0\n",
       "b  2.0  2.0\n",
       "a  1.0  1.0"
      ]
     },
     "execution_count": 58,
     "metadata": {},
     "output_type": "execute_result"
    }
   ],
   "source": [
    "pd.DataFrame(d, index=[\"d\", \"b\", \"a\"])"
   ]
  },
  {
   "cell_type": "code",
   "execution_count": 59,
   "id": "1fd001ef",
   "metadata": {
    "execution": {
     "iopub.execute_input": "2024-07-20T19:16:19.394710Z",
     "iopub.status.busy": "2024-07-20T19:16:19.394262Z",
     "iopub.status.idle": "2024-07-20T19:16:19.409327Z",
     "shell.execute_reply": "2024-07-20T19:16:19.408063Z"
    },
    "papermill": {
     "duration": 0.075857,
     "end_time": "2024-07-20T19:16:19.411983",
     "exception": false,
     "start_time": "2024-07-20T19:16:19.336126",
     "status": "completed"
    },
    "tags": []
   },
   "outputs": [
    {
     "data": {
      "text/html": [
       "<div>\n",
       "<style scoped>\n",
       "    .dataframe tbody tr th:only-of-type {\n",
       "        vertical-align: middle;\n",
       "    }\n",
       "\n",
       "    .dataframe tbody tr th {\n",
       "        vertical-align: top;\n",
       "    }\n",
       "\n",
       "    .dataframe thead th {\n",
       "        text-align: right;\n",
       "    }\n",
       "</style>\n",
       "<table border=\"1\" class=\"dataframe\">\n",
       "  <thead>\n",
       "    <tr style=\"text-align: right;\">\n",
       "      <th></th>\n",
       "      <th>two</th>\n",
       "      <th>three</th>\n",
       "    </tr>\n",
       "  </thead>\n",
       "  <tbody>\n",
       "    <tr>\n",
       "      <th>d</th>\n",
       "      <td>4.0</td>\n",
       "      <td>NaN</td>\n",
       "    </tr>\n",
       "    <tr>\n",
       "      <th>b</th>\n",
       "      <td>2.0</td>\n",
       "      <td>NaN</td>\n",
       "    </tr>\n",
       "    <tr>\n",
       "      <th>a</th>\n",
       "      <td>1.0</td>\n",
       "      <td>NaN</td>\n",
       "    </tr>\n",
       "  </tbody>\n",
       "</table>\n",
       "</div>"
      ],
      "text/plain": [
       "   two three\n",
       "d  4.0   NaN\n",
       "b  2.0   NaN\n",
       "a  1.0   NaN"
      ]
     },
     "execution_count": 59,
     "metadata": {},
     "output_type": "execute_result"
    }
   ],
   "source": [
    "pd.DataFrame(d, index=[\"d\", \"b\", \"a\"], columns=[\"two\", \"three\"])"
   ]
  },
  {
   "cell_type": "code",
   "execution_count": 60,
   "id": "fec11947",
   "metadata": {
    "execution": {
     "iopub.execute_input": "2024-07-20T19:16:19.532173Z",
     "iopub.status.busy": "2024-07-20T19:16:19.531705Z",
     "iopub.status.idle": "2024-07-20T19:16:19.539738Z",
     "shell.execute_reply": "2024-07-20T19:16:19.538497Z"
    },
    "papermill": {
     "duration": 0.071655,
     "end_time": "2024-07-20T19:16:19.542326",
     "exception": false,
     "start_time": "2024-07-20T19:16:19.470671",
     "status": "completed"
    },
    "tags": []
   },
   "outputs": [
    {
     "data": {
      "text/plain": [
       "Index(['a', 'b', 'c', 'd'], dtype='object')"
      ]
     },
     "execution_count": 60,
     "metadata": {},
     "output_type": "execute_result"
    }
   ],
   "source": [
    "df.index"
   ]
  },
  {
   "cell_type": "code",
   "execution_count": 61,
   "id": "4c3e75a1",
   "metadata": {
    "execution": {
     "iopub.execute_input": "2024-07-20T19:16:19.662239Z",
     "iopub.status.busy": "2024-07-20T19:16:19.661786Z",
     "iopub.status.idle": "2024-07-20T19:16:19.669838Z",
     "shell.execute_reply": "2024-07-20T19:16:19.668388Z"
    },
    "papermill": {
     "duration": 0.072376,
     "end_time": "2024-07-20T19:16:19.672714",
     "exception": false,
     "start_time": "2024-07-20T19:16:19.600338",
     "status": "completed"
    },
    "tags": []
   },
   "outputs": [
    {
     "data": {
      "text/plain": [
       "Index(['one', 'two'], dtype='object')"
      ]
     },
     "execution_count": 61,
     "metadata": {},
     "output_type": "execute_result"
    }
   ],
   "source": [
    "df.columns"
   ]
  },
  {
   "cell_type": "code",
   "execution_count": 62,
   "id": "13a924ba",
   "metadata": {
    "execution": {
     "iopub.execute_input": "2024-07-20T19:16:19.795211Z",
     "iopub.status.busy": "2024-07-20T19:16:19.794722Z",
     "iopub.status.idle": "2024-07-20T19:16:19.809854Z",
     "shell.execute_reply": "2024-07-20T19:16:19.808306Z"
    },
    "papermill": {
     "duration": 0.080792,
     "end_time": "2024-07-20T19:16:19.812739",
     "exception": false,
     "start_time": "2024-07-20T19:16:19.731947",
     "status": "completed"
    },
    "tags": []
   },
   "outputs": [
    {
     "data": {
      "text/html": [
       "<div>\n",
       "<style scoped>\n",
       "    .dataframe tbody tr th:only-of-type {\n",
       "        vertical-align: middle;\n",
       "    }\n",
       "\n",
       "    .dataframe tbody tr th {\n",
       "        vertical-align: top;\n",
       "    }\n",
       "\n",
       "    .dataframe thead th {\n",
       "        text-align: right;\n",
       "    }\n",
       "</style>\n",
       "<table border=\"1\" class=\"dataframe\">\n",
       "  <thead>\n",
       "    <tr style=\"text-align: right;\">\n",
       "      <th></th>\n",
       "      <th>one</th>\n",
       "      <th>two</th>\n",
       "    </tr>\n",
       "  </thead>\n",
       "  <tbody>\n",
       "    <tr>\n",
       "      <th>0</th>\n",
       "      <td>1.0</td>\n",
       "      <td>4.0</td>\n",
       "    </tr>\n",
       "    <tr>\n",
       "      <th>1</th>\n",
       "      <td>2.0</td>\n",
       "      <td>3.0</td>\n",
       "    </tr>\n",
       "    <tr>\n",
       "      <th>2</th>\n",
       "      <td>3.0</td>\n",
       "      <td>2.0</td>\n",
       "    </tr>\n",
       "    <tr>\n",
       "      <th>3</th>\n",
       "      <td>4.0</td>\n",
       "      <td>1.0</td>\n",
       "    </tr>\n",
       "  </tbody>\n",
       "</table>\n",
       "</div>"
      ],
      "text/plain": [
       "   one  two\n",
       "0  1.0  4.0\n",
       "1  2.0  3.0\n",
       "2  3.0  2.0\n",
       "3  4.0  1.0"
      ]
     },
     "execution_count": 62,
     "metadata": {},
     "output_type": "execute_result"
    }
   ],
   "source": [
    "d = {\"one\": [1.0, 2.0, 3.0, 4.0], \"two\": [4.0, 3.0, 2.0, 1.0]}\n",
    "pd.DataFrame(d)"
   ]
  },
  {
   "cell_type": "code",
   "execution_count": 63,
   "id": "f58295c9",
   "metadata": {
    "execution": {
     "iopub.execute_input": "2024-07-20T19:16:19.933405Z",
     "iopub.status.busy": "2024-07-20T19:16:19.932952Z",
     "iopub.status.idle": "2024-07-20T19:16:19.946356Z",
     "shell.execute_reply": "2024-07-20T19:16:19.945154Z"
    },
    "papermill": {
     "duration": 0.076144,
     "end_time": "2024-07-20T19:16:19.948873",
     "exception": false,
     "start_time": "2024-07-20T19:16:19.872729",
     "status": "completed"
    },
    "tags": []
   },
   "outputs": [
    {
     "data": {
      "text/html": [
       "<div>\n",
       "<style scoped>\n",
       "    .dataframe tbody tr th:only-of-type {\n",
       "        vertical-align: middle;\n",
       "    }\n",
       "\n",
       "    .dataframe tbody tr th {\n",
       "        vertical-align: top;\n",
       "    }\n",
       "\n",
       "    .dataframe thead th {\n",
       "        text-align: right;\n",
       "    }\n",
       "</style>\n",
       "<table border=\"1\" class=\"dataframe\">\n",
       "  <thead>\n",
       "    <tr style=\"text-align: right;\">\n",
       "      <th></th>\n",
       "      <th>one</th>\n",
       "      <th>two</th>\n",
       "    </tr>\n",
       "  </thead>\n",
       "  <tbody>\n",
       "    <tr>\n",
       "      <th>a</th>\n",
       "      <td>1.0</td>\n",
       "      <td>4.0</td>\n",
       "    </tr>\n",
       "    <tr>\n",
       "      <th>b</th>\n",
       "      <td>2.0</td>\n",
       "      <td>3.0</td>\n",
       "    </tr>\n",
       "    <tr>\n",
       "      <th>c</th>\n",
       "      <td>3.0</td>\n",
       "      <td>2.0</td>\n",
       "    </tr>\n",
       "    <tr>\n",
       "      <th>d</th>\n",
       "      <td>4.0</td>\n",
       "      <td>1.0</td>\n",
       "    </tr>\n",
       "  </tbody>\n",
       "</table>\n",
       "</div>"
      ],
      "text/plain": [
       "   one  two\n",
       "a  1.0  4.0\n",
       "b  2.0  3.0\n",
       "c  3.0  2.0\n",
       "d  4.0  1.0"
      ]
     },
     "execution_count": 63,
     "metadata": {},
     "output_type": "execute_result"
    }
   ],
   "source": [
    "pd.DataFrame(d, index=[\"a\", \"b\", \"c\", \"d\"])"
   ]
  },
  {
   "cell_type": "code",
   "execution_count": 64,
   "id": "afcc8cee",
   "metadata": {
    "execution": {
     "iopub.execute_input": "2024-07-20T19:16:20.071100Z",
     "iopub.status.busy": "2024-07-20T19:16:20.070680Z",
     "iopub.status.idle": "2024-07-20T19:16:20.085231Z",
     "shell.execute_reply": "2024-07-20T19:16:20.083690Z"
    },
    "papermill": {
     "duration": 0.080778,
     "end_time": "2024-07-20T19:16:20.088464",
     "exception": false,
     "start_time": "2024-07-20T19:16:20.007686",
     "status": "completed"
    },
    "tags": []
   },
   "outputs": [
    {
     "data": {
      "text/html": [
       "<div>\n",
       "<style scoped>\n",
       "    .dataframe tbody tr th:only-of-type {\n",
       "        vertical-align: middle;\n",
       "    }\n",
       "\n",
       "    .dataframe tbody tr th {\n",
       "        vertical-align: top;\n",
       "    }\n",
       "\n",
       "    .dataframe thead th {\n",
       "        text-align: right;\n",
       "    }\n",
       "</style>\n",
       "<table border=\"1\" class=\"dataframe\">\n",
       "  <thead>\n",
       "    <tr style=\"text-align: right;\">\n",
       "      <th></th>\n",
       "      <th>A</th>\n",
       "      <th>B</th>\n",
       "      <th>C</th>\n",
       "    </tr>\n",
       "  </thead>\n",
       "  <tbody>\n",
       "    <tr>\n",
       "      <th>0</th>\n",
       "      <td>1</td>\n",
       "      <td>2.0</td>\n",
       "      <td>b'Hello'</td>\n",
       "    </tr>\n",
       "    <tr>\n",
       "      <th>1</th>\n",
       "      <td>2</td>\n",
       "      <td>3.0</td>\n",
       "      <td>b'World'</td>\n",
       "    </tr>\n",
       "  </tbody>\n",
       "</table>\n",
       "</div>"
      ],
      "text/plain": [
       "   A    B         C\n",
       "0  1  2.0  b'Hello'\n",
       "1  2  3.0  b'World'"
      ]
     },
     "execution_count": 64,
     "metadata": {},
     "output_type": "execute_result"
    }
   ],
   "source": [
    "data = np.zeros((2,), dtype=[(\"A\", \"i4\"), (\"B\", \"f4\"), (\"C\", \"a10\")])\n",
    "data[:] = [(1, 2.0, \"Hello\"), (2, 3.0, \"World\")]\n",
    "pd.DataFrame(data)"
   ]
  },
  {
   "cell_type": "code",
   "execution_count": 65,
   "id": "588cc0a9",
   "metadata": {
    "execution": {
     "iopub.execute_input": "2024-07-20T19:16:20.209815Z",
     "iopub.status.busy": "2024-07-20T19:16:20.209382Z",
     "iopub.status.idle": "2024-07-20T19:16:20.222718Z",
     "shell.execute_reply": "2024-07-20T19:16:20.221543Z"
    },
    "papermill": {
     "duration": 0.077703,
     "end_time": "2024-07-20T19:16:20.225217",
     "exception": false,
     "start_time": "2024-07-20T19:16:20.147514",
     "status": "completed"
    },
    "tags": []
   },
   "outputs": [
    {
     "data": {
      "text/html": [
       "<div>\n",
       "<style scoped>\n",
       "    .dataframe tbody tr th:only-of-type {\n",
       "        vertical-align: middle;\n",
       "    }\n",
       "\n",
       "    .dataframe tbody tr th {\n",
       "        vertical-align: top;\n",
       "    }\n",
       "\n",
       "    .dataframe thead th {\n",
       "        text-align: right;\n",
       "    }\n",
       "</style>\n",
       "<table border=\"1\" class=\"dataframe\">\n",
       "  <thead>\n",
       "    <tr style=\"text-align: right;\">\n",
       "      <th></th>\n",
       "      <th>A</th>\n",
       "      <th>B</th>\n",
       "      <th>C</th>\n",
       "    </tr>\n",
       "  </thead>\n",
       "  <tbody>\n",
       "    <tr>\n",
       "      <th>first</th>\n",
       "      <td>1</td>\n",
       "      <td>2.0</td>\n",
       "      <td>b'Hello'</td>\n",
       "    </tr>\n",
       "    <tr>\n",
       "      <th>second</th>\n",
       "      <td>2</td>\n",
       "      <td>3.0</td>\n",
       "      <td>b'World'</td>\n",
       "    </tr>\n",
       "  </tbody>\n",
       "</table>\n",
       "</div>"
      ],
      "text/plain": [
       "        A    B         C\n",
       "first   1  2.0  b'Hello'\n",
       "second  2  3.0  b'World'"
      ]
     },
     "execution_count": 65,
     "metadata": {},
     "output_type": "execute_result"
    }
   ],
   "source": [
    "pd.DataFrame(data, index=[\"first\", \"second\"])"
   ]
  },
  {
   "cell_type": "code",
   "execution_count": 66,
   "id": "ae2f4e1c",
   "metadata": {
    "execution": {
     "iopub.execute_input": "2024-07-20T19:16:20.350509Z",
     "iopub.status.busy": "2024-07-20T19:16:20.349906Z",
     "iopub.status.idle": "2024-07-20T19:16:20.363934Z",
     "shell.execute_reply": "2024-07-20T19:16:20.362678Z"
    },
    "papermill": {
     "duration": 0.078505,
     "end_time": "2024-07-20T19:16:20.366662",
     "exception": false,
     "start_time": "2024-07-20T19:16:20.288157",
     "status": "completed"
    },
    "tags": []
   },
   "outputs": [
    {
     "data": {
      "text/html": [
       "<div>\n",
       "<style scoped>\n",
       "    .dataframe tbody tr th:only-of-type {\n",
       "        vertical-align: middle;\n",
       "    }\n",
       "\n",
       "    .dataframe tbody tr th {\n",
       "        vertical-align: top;\n",
       "    }\n",
       "\n",
       "    .dataframe thead th {\n",
       "        text-align: right;\n",
       "    }\n",
       "</style>\n",
       "<table border=\"1\" class=\"dataframe\">\n",
       "  <thead>\n",
       "    <tr style=\"text-align: right;\">\n",
       "      <th></th>\n",
       "      <th>C</th>\n",
       "      <th>A</th>\n",
       "      <th>B</th>\n",
       "    </tr>\n",
       "  </thead>\n",
       "  <tbody>\n",
       "    <tr>\n",
       "      <th>0</th>\n",
       "      <td>b'Hello'</td>\n",
       "      <td>1</td>\n",
       "      <td>2.0</td>\n",
       "    </tr>\n",
       "    <tr>\n",
       "      <th>1</th>\n",
       "      <td>b'World'</td>\n",
       "      <td>2</td>\n",
       "      <td>3.0</td>\n",
       "    </tr>\n",
       "  </tbody>\n",
       "</table>\n",
       "</div>"
      ],
      "text/plain": [
       "          C  A    B\n",
       "0  b'Hello'  1  2.0\n",
       "1  b'World'  2  3.0"
      ]
     },
     "execution_count": 66,
     "metadata": {},
     "output_type": "execute_result"
    }
   ],
   "source": [
    "pd.DataFrame(data, columns=[\"C\", \"A\", \"B\"])"
   ]
  },
  {
   "cell_type": "code",
   "execution_count": 67,
   "id": "163f01d0",
   "metadata": {
    "execution": {
     "iopub.execute_input": "2024-07-20T19:16:20.491066Z",
     "iopub.status.busy": "2024-07-20T19:16:20.490632Z",
     "iopub.status.idle": "2024-07-20T19:16:20.503908Z",
     "shell.execute_reply": "2024-07-20T19:16:20.502726Z"
    },
    "papermill": {
     "duration": 0.076489,
     "end_time": "2024-07-20T19:16:20.506456",
     "exception": false,
     "start_time": "2024-07-20T19:16:20.429967",
     "status": "completed"
    },
    "tags": []
   },
   "outputs": [
    {
     "data": {
      "text/html": [
       "<div>\n",
       "<style scoped>\n",
       "    .dataframe tbody tr th:only-of-type {\n",
       "        vertical-align: middle;\n",
       "    }\n",
       "\n",
       "    .dataframe tbody tr th {\n",
       "        vertical-align: top;\n",
       "    }\n",
       "\n",
       "    .dataframe thead th {\n",
       "        text-align: right;\n",
       "    }\n",
       "</style>\n",
       "<table border=\"1\" class=\"dataframe\">\n",
       "  <thead>\n",
       "    <tr style=\"text-align: right;\">\n",
       "      <th></th>\n",
       "      <th>a</th>\n",
       "      <th>b</th>\n",
       "      <th>c</th>\n",
       "    </tr>\n",
       "  </thead>\n",
       "  <tbody>\n",
       "    <tr>\n",
       "      <th>0</th>\n",
       "      <td>1</td>\n",
       "      <td>2</td>\n",
       "      <td>NaN</td>\n",
       "    </tr>\n",
       "    <tr>\n",
       "      <th>1</th>\n",
       "      <td>5</td>\n",
       "      <td>10</td>\n",
       "      <td>20.0</td>\n",
       "    </tr>\n",
       "  </tbody>\n",
       "</table>\n",
       "</div>"
      ],
      "text/plain": [
       "   a   b     c\n",
       "0  1   2   NaN\n",
       "1  5  10  20.0"
      ]
     },
     "execution_count": 67,
     "metadata": {},
     "output_type": "execute_result"
    }
   ],
   "source": [
    "data2 = [{\"a\": 1, \"b\": 2}, {\"a\": 5, \"b\": 10, \"c\": 20}]\n",
    "pd.DataFrame(data2)"
   ]
  },
  {
   "cell_type": "code",
   "execution_count": 68,
   "id": "4cb4522e",
   "metadata": {
    "execution": {
     "iopub.execute_input": "2024-07-20T19:16:20.646193Z",
     "iopub.status.busy": "2024-07-20T19:16:20.645670Z",
     "iopub.status.idle": "2024-07-20T19:16:20.662610Z",
     "shell.execute_reply": "2024-07-20T19:16:20.659870Z"
    },
    "papermill": {
     "duration": 0.10142,
     "end_time": "2024-07-20T19:16:20.668652",
     "exception": false,
     "start_time": "2024-07-20T19:16:20.567232",
     "status": "completed"
    },
    "tags": []
   },
   "outputs": [
    {
     "data": {
      "text/html": [
       "<div>\n",
       "<style scoped>\n",
       "    .dataframe tbody tr th:only-of-type {\n",
       "        vertical-align: middle;\n",
       "    }\n",
       "\n",
       "    .dataframe tbody tr th {\n",
       "        vertical-align: top;\n",
       "    }\n",
       "\n",
       "    .dataframe thead th {\n",
       "        text-align: right;\n",
       "    }\n",
       "</style>\n",
       "<table border=\"1\" class=\"dataframe\">\n",
       "  <thead>\n",
       "    <tr style=\"text-align: right;\">\n",
       "      <th></th>\n",
       "      <th>a</th>\n",
       "      <th>b</th>\n",
       "      <th>c</th>\n",
       "    </tr>\n",
       "  </thead>\n",
       "  <tbody>\n",
       "    <tr>\n",
       "      <th>first</th>\n",
       "      <td>1</td>\n",
       "      <td>2</td>\n",
       "      <td>NaN</td>\n",
       "    </tr>\n",
       "    <tr>\n",
       "      <th>second</th>\n",
       "      <td>5</td>\n",
       "      <td>10</td>\n",
       "      <td>20.0</td>\n",
       "    </tr>\n",
       "  </tbody>\n",
       "</table>\n",
       "</div>"
      ],
      "text/plain": [
       "        a   b     c\n",
       "first   1   2   NaN\n",
       "second  5  10  20.0"
      ]
     },
     "execution_count": 68,
     "metadata": {},
     "output_type": "execute_result"
    }
   ],
   "source": [
    "pd.DataFrame(data2, index=[\"first\", \"second\"])"
   ]
  },
  {
   "cell_type": "code",
   "execution_count": 69,
   "id": "5ceab3f6",
   "metadata": {
    "execution": {
     "iopub.execute_input": "2024-07-20T19:16:20.804345Z",
     "iopub.status.busy": "2024-07-20T19:16:20.803815Z",
     "iopub.status.idle": "2024-07-20T19:16:20.819660Z",
     "shell.execute_reply": "2024-07-20T19:16:20.817720Z"
    },
    "papermill": {
     "duration": 0.090202,
     "end_time": "2024-07-20T19:16:20.823090",
     "exception": false,
     "start_time": "2024-07-20T19:16:20.732888",
     "status": "completed"
    },
    "tags": []
   },
   "outputs": [
    {
     "data": {
      "text/html": [
       "<div>\n",
       "<style scoped>\n",
       "    .dataframe tbody tr th:only-of-type {\n",
       "        vertical-align: middle;\n",
       "    }\n",
       "\n",
       "    .dataframe tbody tr th {\n",
       "        vertical-align: top;\n",
       "    }\n",
       "\n",
       "    .dataframe thead th {\n",
       "        text-align: right;\n",
       "    }\n",
       "</style>\n",
       "<table border=\"1\" class=\"dataframe\">\n",
       "  <thead>\n",
       "    <tr style=\"text-align: right;\">\n",
       "      <th></th>\n",
       "      <th>a</th>\n",
       "      <th>b</th>\n",
       "    </tr>\n",
       "  </thead>\n",
       "  <tbody>\n",
       "    <tr>\n",
       "      <th>0</th>\n",
       "      <td>1</td>\n",
       "      <td>2</td>\n",
       "    </tr>\n",
       "    <tr>\n",
       "      <th>1</th>\n",
       "      <td>5</td>\n",
       "      <td>10</td>\n",
       "    </tr>\n",
       "  </tbody>\n",
       "</table>\n",
       "</div>"
      ],
      "text/plain": [
       "   a   b\n",
       "0  1   2\n",
       "1  5  10"
      ]
     },
     "execution_count": 69,
     "metadata": {},
     "output_type": "execute_result"
    }
   ],
   "source": [
    "pd.DataFrame(data2, columns=[\"a\", \"b\"])"
   ]
  },
  {
   "cell_type": "code",
   "execution_count": 70,
   "id": "02fe4da2",
   "metadata": {
    "execution": {
     "iopub.execute_input": "2024-07-20T19:16:20.959806Z",
     "iopub.status.busy": "2024-07-20T19:16:20.958628Z",
     "iopub.status.idle": "2024-07-20T19:16:20.987695Z",
     "shell.execute_reply": "2024-07-20T19:16:20.986308Z"
    },
    "papermill": {
     "duration": 0.10086,
     "end_time": "2024-07-20T19:16:20.990457",
     "exception": false,
     "start_time": "2024-07-20T19:16:20.889597",
     "status": "completed"
    },
    "tags": []
   },
   "outputs": [
    {
     "data": {
      "text/html": [
       "<div>\n",
       "<style scoped>\n",
       "    .dataframe tbody tr th:only-of-type {\n",
       "        vertical-align: middle;\n",
       "    }\n",
       "\n",
       "    .dataframe tbody tr th {\n",
       "        vertical-align: top;\n",
       "    }\n",
       "\n",
       "    .dataframe thead tr th {\n",
       "        text-align: left;\n",
       "    }\n",
       "</style>\n",
       "<table border=\"1\" class=\"dataframe\">\n",
       "  <thead>\n",
       "    <tr>\n",
       "      <th></th>\n",
       "      <th></th>\n",
       "      <th colspan=\"3\" halign=\"left\">a</th>\n",
       "      <th colspan=\"2\" halign=\"left\">b</th>\n",
       "    </tr>\n",
       "    <tr>\n",
       "      <th></th>\n",
       "      <th></th>\n",
       "      <th>b</th>\n",
       "      <th>a</th>\n",
       "      <th>c</th>\n",
       "      <th>a</th>\n",
       "      <th>b</th>\n",
       "    </tr>\n",
       "  </thead>\n",
       "  <tbody>\n",
       "    <tr>\n",
       "      <th rowspan=\"3\" valign=\"top\">A</th>\n",
       "      <th>B</th>\n",
       "      <td>1.0</td>\n",
       "      <td>4.0</td>\n",
       "      <td>5.0</td>\n",
       "      <td>8.0</td>\n",
       "      <td>10.0</td>\n",
       "    </tr>\n",
       "    <tr>\n",
       "      <th>C</th>\n",
       "      <td>2.0</td>\n",
       "      <td>3.0</td>\n",
       "      <td>6.0</td>\n",
       "      <td>7.0</td>\n",
       "      <td>NaN</td>\n",
       "    </tr>\n",
       "    <tr>\n",
       "      <th>D</th>\n",
       "      <td>NaN</td>\n",
       "      <td>NaN</td>\n",
       "      <td>NaN</td>\n",
       "      <td>NaN</td>\n",
       "      <td>9.0</td>\n",
       "    </tr>\n",
       "  </tbody>\n",
       "</table>\n",
       "</div>"
      ],
      "text/plain": [
       "       a              b      \n",
       "       b    a    c    a     b\n",
       "A B  1.0  4.0  5.0  8.0  10.0\n",
       "  C  2.0  3.0  6.0  7.0   NaN\n",
       "  D  NaN  NaN  NaN  NaN   9.0"
      ]
     },
     "execution_count": 70,
     "metadata": {},
     "output_type": "execute_result"
    }
   ],
   "source": [
    "pd.DataFrame({\n",
    "    \n",
    "(\"a\", \"b\"): {(\"A\", \"B\"): 1, (\"A\", \"C\"): 2},\n",
    "(\"a\", \"a\"): {(\"A\", \"C\"): 3, (\"A\", \"B\"): 4},\n",
    "(\"a\", \"c\"): {(\"A\", \"B\"): 5, (\"A\", \"C\"): 6},\n",
    "(\"b\", \"a\"): {(\"A\", \"C\"): 7, (\"A\", \"B\"): 8},\n",
    "(\"b\", \"b\"): {(\"A\", \"D\"): 9, (\"A\", \"B\"): 10}\n",
    "    \n",
    "})"
   ]
  },
  {
   "cell_type": "code",
   "execution_count": 71,
   "id": "d2d0cc68",
   "metadata": {
    "execution": {
     "iopub.execute_input": "2024-07-20T19:16:21.121912Z",
     "iopub.status.busy": "2024-07-20T19:16:21.121199Z",
     "iopub.status.idle": "2024-07-20T19:16:21.135339Z",
     "shell.execute_reply": "2024-07-20T19:16:21.133880Z"
    },
    "papermill": {
     "duration": 0.08666,
     "end_time": "2024-07-20T19:16:21.138842",
     "exception": false,
     "start_time": "2024-07-20T19:16:21.052182",
     "status": "completed"
    },
    "tags": []
   },
   "outputs": [
    {
     "data": {
      "text/html": [
       "<div>\n",
       "<style scoped>\n",
       "    .dataframe tbody tr th:only-of-type {\n",
       "        vertical-align: middle;\n",
       "    }\n",
       "\n",
       "    .dataframe tbody tr th {\n",
       "        vertical-align: top;\n",
       "    }\n",
       "\n",
       "    .dataframe thead th {\n",
       "        text-align: right;\n",
       "    }\n",
       "</style>\n",
       "<table border=\"1\" class=\"dataframe\">\n",
       "  <thead>\n",
       "    <tr style=\"text-align: right;\">\n",
       "      <th></th>\n",
       "      <th>x</th>\n",
       "      <th>y</th>\n",
       "    </tr>\n",
       "  </thead>\n",
       "  <tbody>\n",
       "    <tr>\n",
       "      <th>0</th>\n",
       "      <td>0</td>\n",
       "      <td>0</td>\n",
       "    </tr>\n",
       "    <tr>\n",
       "      <th>1</th>\n",
       "      <td>0</td>\n",
       "      <td>3</td>\n",
       "    </tr>\n",
       "    <tr>\n",
       "      <th>2</th>\n",
       "      <td>2</td>\n",
       "      <td>3</td>\n",
       "    </tr>\n",
       "  </tbody>\n",
       "</table>\n",
       "</div>"
      ],
      "text/plain": [
       "   x  y\n",
       "0  0  0\n",
       "1  0  3\n",
       "2  2  3"
      ]
     },
     "execution_count": 71,
     "metadata": {},
     "output_type": "execute_result"
    }
   ],
   "source": [
    "from collections import namedtuple\n",
    "Point = namedtuple(\"Point\", \"x y\")\n",
    "pd.DataFrame([Point(0, 0), Point(0, 3), (2, 3)])"
   ]
  },
  {
   "cell_type": "code",
   "execution_count": 72,
   "id": "09989715",
   "metadata": {
    "execution": {
     "iopub.execute_input": "2024-07-20T19:16:21.297097Z",
     "iopub.status.busy": "2024-07-20T19:16:21.295665Z",
     "iopub.status.idle": "2024-07-20T19:16:21.302586Z",
     "shell.execute_reply": "2024-07-20T19:16:21.301386Z"
    },
    "papermill": {
     "duration": 0.080441,
     "end_time": "2024-07-20T19:16:21.305376",
     "exception": false,
     "start_time": "2024-07-20T19:16:21.224935",
     "status": "completed"
    },
    "tags": []
   },
   "outputs": [],
   "source": [
    "Point3D = namedtuple(\"Point3D\", \"x y z\")"
   ]
  },
  {
   "cell_type": "code",
   "execution_count": 73,
   "id": "73db5715",
   "metadata": {
    "execution": {
     "iopub.execute_input": "2024-07-20T19:16:21.438499Z",
     "iopub.status.busy": "2024-07-20T19:16:21.437973Z",
     "iopub.status.idle": "2024-07-20T19:16:21.453546Z",
     "shell.execute_reply": "2024-07-20T19:16:21.452310Z"
    },
    "papermill": {
     "duration": 0.082305,
     "end_time": "2024-07-20T19:16:21.456071",
     "exception": false,
     "start_time": "2024-07-20T19:16:21.373766",
     "status": "completed"
    },
    "tags": []
   },
   "outputs": [
    {
     "data": {
      "text/html": [
       "<div>\n",
       "<style scoped>\n",
       "    .dataframe tbody tr th:only-of-type {\n",
       "        vertical-align: middle;\n",
       "    }\n",
       "\n",
       "    .dataframe tbody tr th {\n",
       "        vertical-align: top;\n",
       "    }\n",
       "\n",
       "    .dataframe thead th {\n",
       "        text-align: right;\n",
       "    }\n",
       "</style>\n",
       "<table border=\"1\" class=\"dataframe\">\n",
       "  <thead>\n",
       "    <tr style=\"text-align: right;\">\n",
       "      <th></th>\n",
       "      <th>x</th>\n",
       "      <th>y</th>\n",
       "      <th>z</th>\n",
       "    </tr>\n",
       "  </thead>\n",
       "  <tbody>\n",
       "    <tr>\n",
       "      <th>0</th>\n",
       "      <td>0</td>\n",
       "      <td>0</td>\n",
       "      <td>0.0</td>\n",
       "    </tr>\n",
       "    <tr>\n",
       "      <th>1</th>\n",
       "      <td>0</td>\n",
       "      <td>3</td>\n",
       "      <td>5.0</td>\n",
       "    </tr>\n",
       "    <tr>\n",
       "      <th>2</th>\n",
       "      <td>2</td>\n",
       "      <td>3</td>\n",
       "      <td>NaN</td>\n",
       "    </tr>\n",
       "  </tbody>\n",
       "</table>\n",
       "</div>"
      ],
      "text/plain": [
       "   x  y    z\n",
       "0  0  0  0.0\n",
       "1  0  3  5.0\n",
       "2  2  3  NaN"
      ]
     },
     "execution_count": 73,
     "metadata": {},
     "output_type": "execute_result"
    }
   ],
   "source": [
    "pd.DataFrame([Point3D(0, 0, 0), Point3D(0, 3, 5), Point(2, 3)])"
   ]
  },
  {
   "cell_type": "code",
   "execution_count": 74,
   "id": "d4d7822a",
   "metadata": {
    "execution": {
     "iopub.execute_input": "2024-07-20T19:16:21.585711Z",
     "iopub.status.busy": "2024-07-20T19:16:21.585038Z",
     "iopub.status.idle": "2024-07-20T19:16:21.601482Z",
     "shell.execute_reply": "2024-07-20T19:16:21.600073Z"
    },
    "papermill": {
     "duration": 0.085586,
     "end_time": "2024-07-20T19:16:21.604192",
     "exception": false,
     "start_time": "2024-07-20T19:16:21.518606",
     "status": "completed"
    },
    "tags": []
   },
   "outputs": [
    {
     "data": {
      "text/html": [
       "<div>\n",
       "<style scoped>\n",
       "    .dataframe tbody tr th:only-of-type {\n",
       "        vertical-align: middle;\n",
       "    }\n",
       "\n",
       "    .dataframe tbody tr th {\n",
       "        vertical-align: top;\n",
       "    }\n",
       "\n",
       "    .dataframe thead th {\n",
       "        text-align: right;\n",
       "    }\n",
       "</style>\n",
       "<table border=\"1\" class=\"dataframe\">\n",
       "  <thead>\n",
       "    <tr style=\"text-align: right;\">\n",
       "      <th></th>\n",
       "      <th>x</th>\n",
       "      <th>y</th>\n",
       "    </tr>\n",
       "  </thead>\n",
       "  <tbody>\n",
       "    <tr>\n",
       "      <th>0</th>\n",
       "      <td>0</td>\n",
       "      <td>0</td>\n",
       "    </tr>\n",
       "    <tr>\n",
       "      <th>1</th>\n",
       "      <td>0</td>\n",
       "      <td>3</td>\n",
       "    </tr>\n",
       "    <tr>\n",
       "      <th>2</th>\n",
       "      <td>2</td>\n",
       "      <td>3</td>\n",
       "    </tr>\n",
       "  </tbody>\n",
       "</table>\n",
       "</div>"
      ],
      "text/plain": [
       "   x  y\n",
       "0  0  0\n",
       "1  0  3\n",
       "2  2  3"
      ]
     },
     "execution_count": 74,
     "metadata": {},
     "output_type": "execute_result"
    }
   ],
   "source": [
    "from dataclasses import make_dataclass\n",
    "Point = make_dataclass(\"Point\", [(\"x\", int), (\"y\", int)])\n",
    "pd.DataFrame([Point(0, 0), Point(0, 3), Point(2, 3)])"
   ]
  },
  {
   "cell_type": "code",
   "execution_count": 75,
   "id": "b7026cbd",
   "metadata": {
    "execution": {
     "iopub.execute_input": "2024-07-20T19:16:21.732040Z",
     "iopub.status.busy": "2024-07-20T19:16:21.731517Z",
     "iopub.status.idle": "2024-07-20T19:16:21.745665Z",
     "shell.execute_reply": "2024-07-20T19:16:21.744348Z"
    },
    "papermill": {
     "duration": 0.080324,
     "end_time": "2024-07-20T19:16:21.748515",
     "exception": false,
     "start_time": "2024-07-20T19:16:21.668191",
     "status": "completed"
    },
    "tags": []
   },
   "outputs": [
    {
     "data": {
      "text/html": [
       "<div>\n",
       "<style scoped>\n",
       "    .dataframe tbody tr th:only-of-type {\n",
       "        vertical-align: middle;\n",
       "    }\n",
       "\n",
       "    .dataframe tbody tr th {\n",
       "        vertical-align: top;\n",
       "    }\n",
       "\n",
       "    .dataframe thead th {\n",
       "        text-align: right;\n",
       "    }\n",
       "</style>\n",
       "<table border=\"1\" class=\"dataframe\">\n",
       "  <thead>\n",
       "    <tr style=\"text-align: right;\">\n",
       "      <th></th>\n",
       "      <th>A</th>\n",
       "      <th>B</th>\n",
       "    </tr>\n",
       "  </thead>\n",
       "  <tbody>\n",
       "    <tr>\n",
       "      <th>0</th>\n",
       "      <td>1</td>\n",
       "      <td>4</td>\n",
       "    </tr>\n",
       "    <tr>\n",
       "      <th>1</th>\n",
       "      <td>2</td>\n",
       "      <td>5</td>\n",
       "    </tr>\n",
       "    <tr>\n",
       "      <th>2</th>\n",
       "      <td>3</td>\n",
       "      <td>6</td>\n",
       "    </tr>\n",
       "  </tbody>\n",
       "</table>\n",
       "</div>"
      ],
      "text/plain": [
       "   A  B\n",
       "0  1  4\n",
       "1  2  5\n",
       "2  3  6"
      ]
     },
     "execution_count": 75,
     "metadata": {},
     "output_type": "execute_result"
    }
   ],
   "source": [
    "pd.DataFrame.from_dict(dict([(\"A\", [1, 2, 3]), (\"B\", [4, 5, 6])]))"
   ]
  },
  {
   "cell_type": "code",
   "execution_count": 76,
   "id": "25ce0b43",
   "metadata": {
    "execution": {
     "iopub.execute_input": "2024-07-20T19:16:21.879271Z",
     "iopub.status.busy": "2024-07-20T19:16:21.877953Z",
     "iopub.status.idle": "2024-07-20T19:16:21.891936Z",
     "shell.execute_reply": "2024-07-20T19:16:21.890693Z"
    },
    "papermill": {
     "duration": 0.081445,
     "end_time": "2024-07-20T19:16:21.894531",
     "exception": false,
     "start_time": "2024-07-20T19:16:21.813086",
     "status": "completed"
    },
    "tags": []
   },
   "outputs": [
    {
     "data": {
      "text/html": [
       "<div>\n",
       "<style scoped>\n",
       "    .dataframe tbody tr th:only-of-type {\n",
       "        vertical-align: middle;\n",
       "    }\n",
       "\n",
       "    .dataframe tbody tr th {\n",
       "        vertical-align: top;\n",
       "    }\n",
       "\n",
       "    .dataframe thead th {\n",
       "        text-align: right;\n",
       "    }\n",
       "</style>\n",
       "<table border=\"1\" class=\"dataframe\">\n",
       "  <thead>\n",
       "    <tr style=\"text-align: right;\">\n",
       "      <th></th>\n",
       "      <th>one</th>\n",
       "      <th>two</th>\n",
       "      <th>three</th>\n",
       "    </tr>\n",
       "  </thead>\n",
       "  <tbody>\n",
       "    <tr>\n",
       "      <th>A</th>\n",
       "      <td>1</td>\n",
       "      <td>2</td>\n",
       "      <td>3</td>\n",
       "    </tr>\n",
       "    <tr>\n",
       "      <th>B</th>\n",
       "      <td>4</td>\n",
       "      <td>5</td>\n",
       "      <td>6</td>\n",
       "    </tr>\n",
       "  </tbody>\n",
       "</table>\n",
       "</div>"
      ],
      "text/plain": [
       "   one  two  three\n",
       "A    1    2      3\n",
       "B    4    5      6"
      ]
     },
     "execution_count": 76,
     "metadata": {},
     "output_type": "execute_result"
    }
   ],
   "source": [
    "pd.DataFrame.from_dict(\n",
    "dict([(\"A\", [1, 2, 3]), (\"B\", [4, 5, 6])]),\n",
    "orient=\"index\",\n",
    "columns=[\"one\", \"two\", \"three\"],\n",
    ")"
   ]
  },
  {
   "cell_type": "code",
   "execution_count": 77,
   "id": "6452f6d2",
   "metadata": {
    "execution": {
     "iopub.execute_input": "2024-07-20T19:16:22.021053Z",
     "iopub.status.busy": "2024-07-20T19:16:22.020402Z",
     "iopub.status.idle": "2024-07-20T19:16:22.035797Z",
     "shell.execute_reply": "2024-07-20T19:16:22.034368Z"
    },
    "papermill": {
     "duration": 0.082156,
     "end_time": "2024-07-20T19:16:22.038708",
     "exception": false,
     "start_time": "2024-07-20T19:16:21.956552",
     "status": "completed"
    },
    "tags": []
   },
   "outputs": [
    {
     "data": {
      "text/html": [
       "<div>\n",
       "<style scoped>\n",
       "    .dataframe tbody tr th:only-of-type {\n",
       "        vertical-align: middle;\n",
       "    }\n",
       "\n",
       "    .dataframe tbody tr th {\n",
       "        vertical-align: top;\n",
       "    }\n",
       "\n",
       "    .dataframe thead th {\n",
       "        text-align: right;\n",
       "    }\n",
       "</style>\n",
       "<table border=\"1\" class=\"dataframe\">\n",
       "  <thead>\n",
       "    <tr style=\"text-align: right;\">\n",
       "      <th></th>\n",
       "      <th>A</th>\n",
       "      <th>B</th>\n",
       "    </tr>\n",
       "    <tr>\n",
       "      <th>C</th>\n",
       "      <th></th>\n",
       "      <th></th>\n",
       "    </tr>\n",
       "  </thead>\n",
       "  <tbody>\n",
       "    <tr>\n",
       "      <th>b'Hello'</th>\n",
       "      <td>1</td>\n",
       "      <td>2.0</td>\n",
       "    </tr>\n",
       "    <tr>\n",
       "      <th>b'World'</th>\n",
       "      <td>2</td>\n",
       "      <td>3.0</td>\n",
       "    </tr>\n",
       "  </tbody>\n",
       "</table>\n",
       "</div>"
      ],
      "text/plain": [
       "          A    B\n",
       "C               \n",
       "b'Hello'  1  2.0\n",
       "b'World'  2  3.0"
      ]
     },
     "execution_count": 77,
     "metadata": {},
     "output_type": "execute_result"
    }
   ],
   "source": [
    "pd.DataFrame.from_records(data, index=\"C\")"
   ]
  },
  {
   "cell_type": "code",
   "execution_count": 78,
   "id": "445dbd8e",
   "metadata": {
    "execution": {
     "iopub.execute_input": "2024-07-20T19:16:22.172062Z",
     "iopub.status.busy": "2024-07-20T19:16:22.171657Z",
     "iopub.status.idle": "2024-07-20T19:16:22.189683Z",
     "shell.execute_reply": "2024-07-20T19:16:22.188456Z"
    },
    "papermill": {
     "duration": 0.086117,
     "end_time": "2024-07-20T19:16:22.192473",
     "exception": false,
     "start_time": "2024-07-20T19:16:22.106356",
     "status": "completed"
    },
    "tags": []
   },
   "outputs": [
    {
     "data": {
      "text/html": [
       "<div>\n",
       "<style scoped>\n",
       "    .dataframe tbody tr th:only-of-type {\n",
       "        vertical-align: middle;\n",
       "    }\n",
       "\n",
       "    .dataframe tbody tr th {\n",
       "        vertical-align: top;\n",
       "    }\n",
       "\n",
       "    .dataframe thead th {\n",
       "        text-align: right;\n",
       "    }\n",
       "</style>\n",
       "<table border=\"1\" class=\"dataframe\">\n",
       "  <thead>\n",
       "    <tr style=\"text-align: right;\">\n",
       "      <th></th>\n",
       "      <th>one</th>\n",
       "      <th>two</th>\n",
       "      <th>three</th>\n",
       "      <th>flag</th>\n",
       "    </tr>\n",
       "  </thead>\n",
       "  <tbody>\n",
       "    <tr>\n",
       "      <th>a</th>\n",
       "      <td>1.0</td>\n",
       "      <td>1.0</td>\n",
       "      <td>1.0</td>\n",
       "      <td>False</td>\n",
       "    </tr>\n",
       "    <tr>\n",
       "      <th>b</th>\n",
       "      <td>2.0</td>\n",
       "      <td>2.0</td>\n",
       "      <td>4.0</td>\n",
       "      <td>False</td>\n",
       "    </tr>\n",
       "    <tr>\n",
       "      <th>c</th>\n",
       "      <td>3.0</td>\n",
       "      <td>3.0</td>\n",
       "      <td>9.0</td>\n",
       "      <td>True</td>\n",
       "    </tr>\n",
       "    <tr>\n",
       "      <th>d</th>\n",
       "      <td>NaN</td>\n",
       "      <td>4.0</td>\n",
       "      <td>NaN</td>\n",
       "      <td>False</td>\n",
       "    </tr>\n",
       "  </tbody>\n",
       "</table>\n",
       "</div>"
      ],
      "text/plain": [
       "   one  two  three   flag\n",
       "a  1.0  1.0    1.0  False\n",
       "b  2.0  2.0    4.0  False\n",
       "c  3.0  3.0    9.0   True\n",
       "d  NaN  4.0    NaN  False"
      ]
     },
     "execution_count": 78,
     "metadata": {},
     "output_type": "execute_result"
    }
   ],
   "source": [
    "df[\"three\"] = df[\"one\"] * df[\"two\"]\n",
    "df[\"flag\"] = df[\"one\"] > 2\n",
    "df"
   ]
  },
  {
   "cell_type": "code",
   "execution_count": 79,
   "id": "1dc3cfc6",
   "metadata": {
    "execution": {
     "iopub.execute_input": "2024-07-20T19:16:22.318293Z",
     "iopub.status.busy": "2024-07-20T19:16:22.317867Z",
     "iopub.status.idle": "2024-07-20T19:16:22.331273Z",
     "shell.execute_reply": "2024-07-20T19:16:22.329988Z"
    },
    "papermill": {
     "duration": 0.079391,
     "end_time": "2024-07-20T19:16:22.333943",
     "exception": false,
     "start_time": "2024-07-20T19:16:22.254552",
     "status": "completed"
    },
    "tags": []
   },
   "outputs": [
    {
     "data": {
      "text/html": [
       "<div>\n",
       "<style scoped>\n",
       "    .dataframe tbody tr th:only-of-type {\n",
       "        vertical-align: middle;\n",
       "    }\n",
       "\n",
       "    .dataframe tbody tr th {\n",
       "        vertical-align: top;\n",
       "    }\n",
       "\n",
       "    .dataframe thead th {\n",
       "        text-align: right;\n",
       "    }\n",
       "</style>\n",
       "<table border=\"1\" class=\"dataframe\">\n",
       "  <thead>\n",
       "    <tr style=\"text-align: right;\">\n",
       "      <th></th>\n",
       "      <th>one</th>\n",
       "      <th>flag</th>\n",
       "    </tr>\n",
       "  </thead>\n",
       "  <tbody>\n",
       "    <tr>\n",
       "      <th>a</th>\n",
       "      <td>1.0</td>\n",
       "      <td>False</td>\n",
       "    </tr>\n",
       "    <tr>\n",
       "      <th>b</th>\n",
       "      <td>2.0</td>\n",
       "      <td>False</td>\n",
       "    </tr>\n",
       "    <tr>\n",
       "      <th>c</th>\n",
       "      <td>3.0</td>\n",
       "      <td>True</td>\n",
       "    </tr>\n",
       "    <tr>\n",
       "      <th>d</th>\n",
       "      <td>NaN</td>\n",
       "      <td>False</td>\n",
       "    </tr>\n",
       "  </tbody>\n",
       "</table>\n",
       "</div>"
      ],
      "text/plain": [
       "   one   flag\n",
       "a  1.0  False\n",
       "b  2.0  False\n",
       "c  3.0   True\n",
       "d  NaN  False"
      ]
     },
     "execution_count": 79,
     "metadata": {},
     "output_type": "execute_result"
    }
   ],
   "source": [
    "del df[\"two\"]\n",
    "three = df.pop(\"three\")\n",
    "df"
   ]
  },
  {
   "cell_type": "code",
   "execution_count": 80,
   "id": "640b58fa",
   "metadata": {
    "execution": {
     "iopub.execute_input": "2024-07-20T19:16:22.460363Z",
     "iopub.status.busy": "2024-07-20T19:16:22.459658Z",
     "iopub.status.idle": "2024-07-20T19:16:22.473480Z",
     "shell.execute_reply": "2024-07-20T19:16:22.472387Z"
    },
    "papermill": {
     "duration": 0.080317,
     "end_time": "2024-07-20T19:16:22.475970",
     "exception": false,
     "start_time": "2024-07-20T19:16:22.395653",
     "status": "completed"
    },
    "tags": []
   },
   "outputs": [
    {
     "data": {
      "text/html": [
       "<div>\n",
       "<style scoped>\n",
       "    .dataframe tbody tr th:only-of-type {\n",
       "        vertical-align: middle;\n",
       "    }\n",
       "\n",
       "    .dataframe tbody tr th {\n",
       "        vertical-align: top;\n",
       "    }\n",
       "\n",
       "    .dataframe thead th {\n",
       "        text-align: right;\n",
       "    }\n",
       "</style>\n",
       "<table border=\"1\" class=\"dataframe\">\n",
       "  <thead>\n",
       "    <tr style=\"text-align: right;\">\n",
       "      <th></th>\n",
       "      <th>one</th>\n",
       "      <th>flag</th>\n",
       "      <th>foo</th>\n",
       "    </tr>\n",
       "  </thead>\n",
       "  <tbody>\n",
       "    <tr>\n",
       "      <th>a</th>\n",
       "      <td>1.0</td>\n",
       "      <td>False</td>\n",
       "      <td>bar</td>\n",
       "    </tr>\n",
       "    <tr>\n",
       "      <th>b</th>\n",
       "      <td>2.0</td>\n",
       "      <td>False</td>\n",
       "      <td>bar</td>\n",
       "    </tr>\n",
       "    <tr>\n",
       "      <th>c</th>\n",
       "      <td>3.0</td>\n",
       "      <td>True</td>\n",
       "      <td>bar</td>\n",
       "    </tr>\n",
       "    <tr>\n",
       "      <th>d</th>\n",
       "      <td>NaN</td>\n",
       "      <td>False</td>\n",
       "      <td>bar</td>\n",
       "    </tr>\n",
       "  </tbody>\n",
       "</table>\n",
       "</div>"
      ],
      "text/plain": [
       "   one   flag  foo\n",
       "a  1.0  False  bar\n",
       "b  2.0  False  bar\n",
       "c  3.0   True  bar\n",
       "d  NaN  False  bar"
      ]
     },
     "execution_count": 80,
     "metadata": {},
     "output_type": "execute_result"
    }
   ],
   "source": [
    "df[\"foo\"] = \"bar\"\n",
    "df"
   ]
  },
  {
   "cell_type": "code",
   "execution_count": 81,
   "id": "1caaece1",
   "metadata": {
    "execution": {
     "iopub.execute_input": "2024-07-20T19:16:22.606057Z",
     "iopub.status.busy": "2024-07-20T19:16:22.605641Z",
     "iopub.status.idle": "2024-07-20T19:16:22.620261Z",
     "shell.execute_reply": "2024-07-20T19:16:22.619144Z"
    },
    "papermill": {
     "duration": 0.082869,
     "end_time": "2024-07-20T19:16:22.622851",
     "exception": false,
     "start_time": "2024-07-20T19:16:22.539982",
     "status": "completed"
    },
    "tags": []
   },
   "outputs": [
    {
     "data": {
      "text/html": [
       "<div>\n",
       "<style scoped>\n",
       "    .dataframe tbody tr th:only-of-type {\n",
       "        vertical-align: middle;\n",
       "    }\n",
       "\n",
       "    .dataframe tbody tr th {\n",
       "        vertical-align: top;\n",
       "    }\n",
       "\n",
       "    .dataframe thead th {\n",
       "        text-align: right;\n",
       "    }\n",
       "</style>\n",
       "<table border=\"1\" class=\"dataframe\">\n",
       "  <thead>\n",
       "    <tr style=\"text-align: right;\">\n",
       "      <th></th>\n",
       "      <th>one</th>\n",
       "      <th>flag</th>\n",
       "      <th>foo</th>\n",
       "      <th>one_trunc</th>\n",
       "    </tr>\n",
       "  </thead>\n",
       "  <tbody>\n",
       "    <tr>\n",
       "      <th>a</th>\n",
       "      <td>1.0</td>\n",
       "      <td>False</td>\n",
       "      <td>bar</td>\n",
       "      <td>1.0</td>\n",
       "    </tr>\n",
       "    <tr>\n",
       "      <th>b</th>\n",
       "      <td>2.0</td>\n",
       "      <td>False</td>\n",
       "      <td>bar</td>\n",
       "      <td>2.0</td>\n",
       "    </tr>\n",
       "    <tr>\n",
       "      <th>c</th>\n",
       "      <td>3.0</td>\n",
       "      <td>True</td>\n",
       "      <td>bar</td>\n",
       "      <td>NaN</td>\n",
       "    </tr>\n",
       "    <tr>\n",
       "      <th>d</th>\n",
       "      <td>NaN</td>\n",
       "      <td>False</td>\n",
       "      <td>bar</td>\n",
       "      <td>NaN</td>\n",
       "    </tr>\n",
       "  </tbody>\n",
       "</table>\n",
       "</div>"
      ],
      "text/plain": [
       "   one   flag  foo  one_trunc\n",
       "a  1.0  False  bar        1.0\n",
       "b  2.0  False  bar        2.0\n",
       "c  3.0   True  bar        NaN\n",
       "d  NaN  False  bar        NaN"
      ]
     },
     "execution_count": 81,
     "metadata": {},
     "output_type": "execute_result"
    }
   ],
   "source": [
    "df[\"one_trunc\"] = df[\"one\"][:2]\n",
    "df"
   ]
  },
  {
   "cell_type": "code",
   "execution_count": 82,
   "id": "4e71cda6",
   "metadata": {
    "execution": {
     "iopub.execute_input": "2024-07-20T19:16:22.753798Z",
     "iopub.status.busy": "2024-07-20T19:16:22.753382Z",
     "iopub.status.idle": "2024-07-20T19:16:22.770059Z",
     "shell.execute_reply": "2024-07-20T19:16:22.768834Z"
    },
    "papermill": {
     "duration": 0.084842,
     "end_time": "2024-07-20T19:16:22.773035",
     "exception": false,
     "start_time": "2024-07-20T19:16:22.688193",
     "status": "completed"
    },
    "tags": []
   },
   "outputs": [
    {
     "data": {
      "text/html": [
       "<div>\n",
       "<style scoped>\n",
       "    .dataframe tbody tr th:only-of-type {\n",
       "        vertical-align: middle;\n",
       "    }\n",
       "\n",
       "    .dataframe tbody tr th {\n",
       "        vertical-align: top;\n",
       "    }\n",
       "\n",
       "    .dataframe thead th {\n",
       "        text-align: right;\n",
       "    }\n",
       "</style>\n",
       "<table border=\"1\" class=\"dataframe\">\n",
       "  <thead>\n",
       "    <tr style=\"text-align: right;\">\n",
       "      <th></th>\n",
       "      <th>one</th>\n",
       "      <th>bar</th>\n",
       "      <th>flag</th>\n",
       "      <th>foo</th>\n",
       "      <th>one_trunc</th>\n",
       "    </tr>\n",
       "  </thead>\n",
       "  <tbody>\n",
       "    <tr>\n",
       "      <th>a</th>\n",
       "      <td>1.0</td>\n",
       "      <td>1.0</td>\n",
       "      <td>False</td>\n",
       "      <td>bar</td>\n",
       "      <td>1.0</td>\n",
       "    </tr>\n",
       "    <tr>\n",
       "      <th>b</th>\n",
       "      <td>2.0</td>\n",
       "      <td>2.0</td>\n",
       "      <td>False</td>\n",
       "      <td>bar</td>\n",
       "      <td>2.0</td>\n",
       "    </tr>\n",
       "    <tr>\n",
       "      <th>c</th>\n",
       "      <td>3.0</td>\n",
       "      <td>3.0</td>\n",
       "      <td>True</td>\n",
       "      <td>bar</td>\n",
       "      <td>NaN</td>\n",
       "    </tr>\n",
       "    <tr>\n",
       "      <th>d</th>\n",
       "      <td>NaN</td>\n",
       "      <td>NaN</td>\n",
       "      <td>False</td>\n",
       "      <td>bar</td>\n",
       "      <td>NaN</td>\n",
       "    </tr>\n",
       "  </tbody>\n",
       "</table>\n",
       "</div>"
      ],
      "text/plain": [
       "   one  bar   flag  foo  one_trunc\n",
       "a  1.0  1.0  False  bar        1.0\n",
       "b  2.0  2.0  False  bar        2.0\n",
       "c  3.0  3.0   True  bar        NaN\n",
       "d  NaN  NaN  False  bar        NaN"
      ]
     },
     "execution_count": 82,
     "metadata": {},
     "output_type": "execute_result"
    }
   ],
   "source": [
    "df.insert(1, \"bar\", df[\"one\"])\n",
    "df"
   ]
  },
  {
   "cell_type": "code",
   "execution_count": 83,
   "id": "d90c6be8",
   "metadata": {
    "execution": {
     "iopub.execute_input": "2024-07-20T19:16:22.901554Z",
     "iopub.status.busy": "2024-07-20T19:16:22.901147Z",
     "iopub.status.idle": "2024-07-20T19:16:22.935626Z",
     "shell.execute_reply": "2024-07-20T19:16:22.934212Z"
    },
    "papermill": {
     "duration": 0.102744,
     "end_time": "2024-07-20T19:16:22.938721",
     "exception": false,
     "start_time": "2024-07-20T19:16:22.835977",
     "status": "completed"
    },
    "tags": []
   },
   "outputs": [
    {
     "data": {
      "text/html": [
       "<div>\n",
       "<style scoped>\n",
       "    .dataframe tbody tr th:only-of-type {\n",
       "        vertical-align: middle;\n",
       "    }\n",
       "\n",
       "    .dataframe tbody tr th {\n",
       "        vertical-align: top;\n",
       "    }\n",
       "\n",
       "    .dataframe thead th {\n",
       "        text-align: right;\n",
       "    }\n",
       "</style>\n",
       "<table border=\"1\" class=\"dataframe\">\n",
       "  <thead>\n",
       "    <tr style=\"text-align: right;\">\n",
       "      <th></th>\n",
       "      <th>Id</th>\n",
       "      <th>SepalLengthCm</th>\n",
       "      <th>SepalWidthCm</th>\n",
       "      <th>PetalLengthCm</th>\n",
       "      <th>PetalWidthCm</th>\n",
       "      <th>Species</th>\n",
       "    </tr>\n",
       "  </thead>\n",
       "  <tbody>\n",
       "    <tr>\n",
       "      <th>0</th>\n",
       "      <td>1</td>\n",
       "      <td>5.1</td>\n",
       "      <td>3.5</td>\n",
       "      <td>1.4</td>\n",
       "      <td>0.2</td>\n",
       "      <td>Iris-setosa</td>\n",
       "    </tr>\n",
       "    <tr>\n",
       "      <th>1</th>\n",
       "      <td>2</td>\n",
       "      <td>4.9</td>\n",
       "      <td>3.0</td>\n",
       "      <td>1.4</td>\n",
       "      <td>0.2</td>\n",
       "      <td>Iris-setosa</td>\n",
       "    </tr>\n",
       "    <tr>\n",
       "      <th>2</th>\n",
       "      <td>3</td>\n",
       "      <td>4.7</td>\n",
       "      <td>3.2</td>\n",
       "      <td>1.3</td>\n",
       "      <td>0.2</td>\n",
       "      <td>Iris-setosa</td>\n",
       "    </tr>\n",
       "    <tr>\n",
       "      <th>3</th>\n",
       "      <td>4</td>\n",
       "      <td>4.6</td>\n",
       "      <td>3.1</td>\n",
       "      <td>1.5</td>\n",
       "      <td>0.2</td>\n",
       "      <td>Iris-setosa</td>\n",
       "    </tr>\n",
       "    <tr>\n",
       "      <th>4</th>\n",
       "      <td>5</td>\n",
       "      <td>5.0</td>\n",
       "      <td>3.6</td>\n",
       "      <td>1.4</td>\n",
       "      <td>0.2</td>\n",
       "      <td>Iris-setosa</td>\n",
       "    </tr>\n",
       "  </tbody>\n",
       "</table>\n",
       "</div>"
      ],
      "text/plain": [
       "   Id  SepalLengthCm  SepalWidthCm  PetalLengthCm  PetalWidthCm      Species\n",
       "0   1            5.1           3.5            1.4           0.2  Iris-setosa\n",
       "1   2            4.9           3.0            1.4           0.2  Iris-setosa\n",
       "2   3            4.7           3.2            1.3           0.2  Iris-setosa\n",
       "3   4            4.6           3.1            1.5           0.2  Iris-setosa\n",
       "4   5            5.0           3.6            1.4           0.2  Iris-setosa"
      ]
     },
     "execution_count": 83,
     "metadata": {},
     "output_type": "execute_result"
    }
   ],
   "source": [
    "iris = pd.read_csv(\"/kaggle/input/iris/Iris.csv\")\n",
    "iris.head()"
   ]
  },
  {
   "cell_type": "code",
   "execution_count": 84,
   "id": "b854b321",
   "metadata": {
    "execution": {
     "iopub.execute_input": "2024-07-20T19:16:23.067584Z",
     "iopub.status.busy": "2024-07-20T19:16:23.067049Z",
     "iopub.status.idle": "2024-07-20T19:16:23.086359Z",
     "shell.execute_reply": "2024-07-20T19:16:23.085171Z"
    },
    "papermill": {
     "duration": 0.086884,
     "end_time": "2024-07-20T19:16:23.089009",
     "exception": false,
     "start_time": "2024-07-20T19:16:23.002125",
     "status": "completed"
    },
    "tags": []
   },
   "outputs": [
    {
     "data": {
      "text/html": [
       "<div>\n",
       "<style scoped>\n",
       "    .dataframe tbody tr th:only-of-type {\n",
       "        vertical-align: middle;\n",
       "    }\n",
       "\n",
       "    .dataframe tbody tr th {\n",
       "        vertical-align: top;\n",
       "    }\n",
       "\n",
       "    .dataframe thead th {\n",
       "        text-align: right;\n",
       "    }\n",
       "</style>\n",
       "<table border=\"1\" class=\"dataframe\">\n",
       "  <thead>\n",
       "    <tr style=\"text-align: right;\">\n",
       "      <th></th>\n",
       "      <th>Id</th>\n",
       "      <th>SepalLengthCm</th>\n",
       "      <th>SepalWidthCm</th>\n",
       "      <th>PetalLengthCm</th>\n",
       "      <th>PetalWidthCm</th>\n",
       "      <th>Species</th>\n",
       "      <th>sepal_ratio</th>\n",
       "    </tr>\n",
       "  </thead>\n",
       "  <tbody>\n",
       "    <tr>\n",
       "      <th>0</th>\n",
       "      <td>1</td>\n",
       "      <td>5.1</td>\n",
       "      <td>3.5</td>\n",
       "      <td>1.4</td>\n",
       "      <td>0.2</td>\n",
       "      <td>Iris-setosa</td>\n",
       "      <td>0.686275</td>\n",
       "    </tr>\n",
       "    <tr>\n",
       "      <th>1</th>\n",
       "      <td>2</td>\n",
       "      <td>4.9</td>\n",
       "      <td>3.0</td>\n",
       "      <td>1.4</td>\n",
       "      <td>0.2</td>\n",
       "      <td>Iris-setosa</td>\n",
       "      <td>0.612245</td>\n",
       "    </tr>\n",
       "    <tr>\n",
       "      <th>2</th>\n",
       "      <td>3</td>\n",
       "      <td>4.7</td>\n",
       "      <td>3.2</td>\n",
       "      <td>1.3</td>\n",
       "      <td>0.2</td>\n",
       "      <td>Iris-setosa</td>\n",
       "      <td>0.680851</td>\n",
       "    </tr>\n",
       "    <tr>\n",
       "      <th>3</th>\n",
       "      <td>4</td>\n",
       "      <td>4.6</td>\n",
       "      <td>3.1</td>\n",
       "      <td>1.5</td>\n",
       "      <td>0.2</td>\n",
       "      <td>Iris-setosa</td>\n",
       "      <td>0.673913</td>\n",
       "    </tr>\n",
       "    <tr>\n",
       "      <th>4</th>\n",
       "      <td>5</td>\n",
       "      <td>5.0</td>\n",
       "      <td>3.6</td>\n",
       "      <td>1.4</td>\n",
       "      <td>0.2</td>\n",
       "      <td>Iris-setosa</td>\n",
       "      <td>0.720000</td>\n",
       "    </tr>\n",
       "  </tbody>\n",
       "</table>\n",
       "</div>"
      ],
      "text/plain": [
       "   Id  SepalLengthCm  SepalWidthCm  PetalLengthCm  PetalWidthCm      Species  \\\n",
       "0   1            5.1           3.5            1.4           0.2  Iris-setosa   \n",
       "1   2            4.9           3.0            1.4           0.2  Iris-setosa   \n",
       "2   3            4.7           3.2            1.3           0.2  Iris-setosa   \n",
       "3   4            4.6           3.1            1.5           0.2  Iris-setosa   \n",
       "4   5            5.0           3.6            1.4           0.2  Iris-setosa   \n",
       "\n",
       "   sepal_ratio  \n",
       "0     0.686275  \n",
       "1     0.612245  \n",
       "2     0.680851  \n",
       "3     0.673913  \n",
       "4     0.720000  "
      ]
     },
     "execution_count": 84,
     "metadata": {},
     "output_type": "execute_result"
    }
   ],
   "source": [
    "iris.assign(sepal_ratio=iris[\"SepalWidthCm\"] / iris[\"SepalLengthCm\"]).head()"
   ]
  },
  {
   "cell_type": "code",
   "execution_count": 85,
   "id": "2233613f",
   "metadata": {
    "execution": {
     "iopub.execute_input": "2024-07-20T19:16:23.220816Z",
     "iopub.status.busy": "2024-07-20T19:16:23.220349Z",
     "iopub.status.idle": "2024-07-20T19:16:23.239262Z",
     "shell.execute_reply": "2024-07-20T19:16:23.238122Z"
    },
    "papermill": {
     "duration": 0.08707,
     "end_time": "2024-07-20T19:16:23.241919",
     "exception": false,
     "start_time": "2024-07-20T19:16:23.154849",
     "status": "completed"
    },
    "tags": []
   },
   "outputs": [
    {
     "data": {
      "text/html": [
       "<div>\n",
       "<style scoped>\n",
       "    .dataframe tbody tr th:only-of-type {\n",
       "        vertical-align: middle;\n",
       "    }\n",
       "\n",
       "    .dataframe tbody tr th {\n",
       "        vertical-align: top;\n",
       "    }\n",
       "\n",
       "    .dataframe thead th {\n",
       "        text-align: right;\n",
       "    }\n",
       "</style>\n",
       "<table border=\"1\" class=\"dataframe\">\n",
       "  <thead>\n",
       "    <tr style=\"text-align: right;\">\n",
       "      <th></th>\n",
       "      <th>Id</th>\n",
       "      <th>SepalLengthCm</th>\n",
       "      <th>SepalWidthCm</th>\n",
       "      <th>PetalLengthCm</th>\n",
       "      <th>PetalWidthCm</th>\n",
       "      <th>Species</th>\n",
       "      <th>sepal_ratio</th>\n",
       "    </tr>\n",
       "  </thead>\n",
       "  <tbody>\n",
       "    <tr>\n",
       "      <th>0</th>\n",
       "      <td>1</td>\n",
       "      <td>5.1</td>\n",
       "      <td>3.5</td>\n",
       "      <td>1.4</td>\n",
       "      <td>0.2</td>\n",
       "      <td>Iris-setosa</td>\n",
       "      <td>0.686275</td>\n",
       "    </tr>\n",
       "    <tr>\n",
       "      <th>1</th>\n",
       "      <td>2</td>\n",
       "      <td>4.9</td>\n",
       "      <td>3.0</td>\n",
       "      <td>1.4</td>\n",
       "      <td>0.2</td>\n",
       "      <td>Iris-setosa</td>\n",
       "      <td>0.612245</td>\n",
       "    </tr>\n",
       "    <tr>\n",
       "      <th>2</th>\n",
       "      <td>3</td>\n",
       "      <td>4.7</td>\n",
       "      <td>3.2</td>\n",
       "      <td>1.3</td>\n",
       "      <td>0.2</td>\n",
       "      <td>Iris-setosa</td>\n",
       "      <td>0.680851</td>\n",
       "    </tr>\n",
       "    <tr>\n",
       "      <th>3</th>\n",
       "      <td>4</td>\n",
       "      <td>4.6</td>\n",
       "      <td>3.1</td>\n",
       "      <td>1.5</td>\n",
       "      <td>0.2</td>\n",
       "      <td>Iris-setosa</td>\n",
       "      <td>0.673913</td>\n",
       "    </tr>\n",
       "    <tr>\n",
       "      <th>4</th>\n",
       "      <td>5</td>\n",
       "      <td>5.0</td>\n",
       "      <td>3.6</td>\n",
       "      <td>1.4</td>\n",
       "      <td>0.2</td>\n",
       "      <td>Iris-setosa</td>\n",
       "      <td>0.720000</td>\n",
       "    </tr>\n",
       "  </tbody>\n",
       "</table>\n",
       "</div>"
      ],
      "text/plain": [
       "   Id  SepalLengthCm  SepalWidthCm  PetalLengthCm  PetalWidthCm      Species  \\\n",
       "0   1            5.1           3.5            1.4           0.2  Iris-setosa   \n",
       "1   2            4.9           3.0            1.4           0.2  Iris-setosa   \n",
       "2   3            4.7           3.2            1.3           0.2  Iris-setosa   \n",
       "3   4            4.6           3.1            1.5           0.2  Iris-setosa   \n",
       "4   5            5.0           3.6            1.4           0.2  Iris-setosa   \n",
       "\n",
       "   sepal_ratio  \n",
       "0     0.686275  \n",
       "1     0.612245  \n",
       "2     0.680851  \n",
       "3     0.673913  \n",
       "4     0.720000  "
      ]
     },
     "execution_count": 85,
     "metadata": {},
     "output_type": "execute_result"
    }
   ],
   "source": [
    "iris.assign(sepal_ratio=lambda x: (x[\"SepalWidthCm\"] / x[\"SepalLengthCm\"])).head()"
   ]
  },
  {
   "cell_type": "code",
   "execution_count": 86,
   "id": "188aa281",
   "metadata": {
    "execution": {
     "iopub.execute_input": "2024-07-20T19:16:23.373280Z",
     "iopub.status.busy": "2024-07-20T19:16:23.372856Z",
     "iopub.status.idle": "2024-07-20T19:16:23.667462Z",
     "shell.execute_reply": "2024-07-20T19:16:23.666154Z"
    },
    "papermill": {
     "duration": 0.362929,
     "end_time": "2024-07-20T19:16:23.670240",
     "exception": false,
     "start_time": "2024-07-20T19:16:23.307311",
     "status": "completed"
    },
    "tags": []
   },
   "outputs": [
    {
     "data": {
      "image/png": "[encoded data removed]",
      "text/plain": [
       "<Figure size 640x480 with 1 Axes>"
      ]
     },
     "metadata": {},
     "output_type": "display_data"
    }
   ],
   "source": [
    "(iris.query(\"SepalLengthCm > 5\").assign(\n",
    "SepalRatio=lambda x: x.SepalWidthCm / x.SepalLengthCm,\n",
    "PetalRatio=lambda x: x.PetalWidthCm / x.PetalLengthCm,\n",
    ").plot(kind=\"scatter\", x=\"SepalRatio\", y=\"PetalRatio\"));"
   ]
  },
  {
   "cell_type": "code",
   "execution_count": 87,
   "id": "2c26848b",
   "metadata": {
    "execution": {
     "iopub.execute_input": "2024-07-20T19:16:23.801090Z",
     "iopub.status.busy": "2024-07-20T19:16:23.800658Z",
     "iopub.status.idle": "2024-07-20T19:16:23.817899Z",
     "shell.execute_reply": "2024-07-20T19:16:23.816552Z"
    },
    "papermill": {
     "duration": 0.08602,
     "end_time": "2024-07-20T19:16:23.820860",
     "exception": false,
     "start_time": "2024-07-20T19:16:23.734840",
     "status": "completed"
    },
    "tags": []
   },
   "outputs": [
    {
     "data": {
      "text/html": [
       "<div>\n",
       "<style scoped>\n",
       "    .dataframe tbody tr th:only-of-type {\n",
       "        vertical-align: middle;\n",
       "    }\n",
       "\n",
       "    .dataframe tbody tr th {\n",
       "        vertical-align: top;\n",
       "    }\n",
       "\n",
       "    .dataframe thead th {\n",
       "        text-align: right;\n",
       "    }\n",
       "</style>\n",
       "<table border=\"1\" class=\"dataframe\">\n",
       "  <thead>\n",
       "    <tr style=\"text-align: right;\">\n",
       "      <th></th>\n",
       "      <th>A</th>\n",
       "      <th>B</th>\n",
       "      <th>C</th>\n",
       "      <th>D</th>\n",
       "    </tr>\n",
       "  </thead>\n",
       "  <tbody>\n",
       "    <tr>\n",
       "      <th>0</th>\n",
       "      <td>1</td>\n",
       "      <td>4</td>\n",
       "      <td>5</td>\n",
       "      <td>6</td>\n",
       "    </tr>\n",
       "    <tr>\n",
       "      <th>1</th>\n",
       "      <td>2</td>\n",
       "      <td>5</td>\n",
       "      <td>7</td>\n",
       "      <td>9</td>\n",
       "    </tr>\n",
       "    <tr>\n",
       "      <th>2</th>\n",
       "      <td>3</td>\n",
       "      <td>6</td>\n",
       "      <td>9</td>\n",
       "      <td>12</td>\n",
       "    </tr>\n",
       "  </tbody>\n",
       "</table>\n",
       "</div>"
      ],
      "text/plain": [
       "   A  B  C   D\n",
       "0  1  4  5   6\n",
       "1  2  5  7   9\n",
       "2  3  6  9  12"
      ]
     },
     "execution_count": 87,
     "metadata": {},
     "output_type": "execute_result"
    }
   ],
   "source": [
    "dfa = pd.DataFrame({\"A\": [1, 2, 3], \"B\": [4, 5, 6]})\n",
    "dfa.assign(C=lambda x: x[\"A\"] + x[\"B\"], D=lambda x: x[\"A\"] + x[\"C\"])"
   ]
  },
  {
   "cell_type": "code",
   "execution_count": 88,
   "id": "9e57f214",
   "metadata": {
    "execution": {
     "iopub.execute_input": "2024-07-20T19:16:23.954896Z",
     "iopub.status.busy": "2024-07-20T19:16:23.954423Z",
     "iopub.status.idle": "2024-07-20T19:16:23.975335Z",
     "shell.execute_reply": "2024-07-20T19:16:23.974181Z"
    },
    "papermill": {
     "duration": 0.090733,
     "end_time": "2024-07-20T19:16:23.977963",
     "exception": false,
     "start_time": "2024-07-20T19:16:23.887230",
     "status": "completed"
    },
    "tags": []
   },
   "outputs": [
    {
     "data": {
      "text/html": [
       "<div>\n",
       "<style scoped>\n",
       "    .dataframe tbody tr th:only-of-type {\n",
       "        vertical-align: middle;\n",
       "    }\n",
       "\n",
       "    .dataframe tbody tr th {\n",
       "        vertical-align: top;\n",
       "    }\n",
       "\n",
       "    .dataframe thead th {\n",
       "        text-align: right;\n",
       "    }\n",
       "</style>\n",
       "<table border=\"1\" class=\"dataframe\">\n",
       "  <thead>\n",
       "    <tr style=\"text-align: right;\">\n",
       "      <th></th>\n",
       "      <th>A</th>\n",
       "      <th>B</th>\n",
       "      <th>C</th>\n",
       "      <th>D</th>\n",
       "    </tr>\n",
       "  </thead>\n",
       "  <tbody>\n",
       "    <tr>\n",
       "      <th>0</th>\n",
       "      <td>-0.241415</td>\n",
       "      <td>0.021818</td>\n",
       "      <td>0.486589</td>\n",
       "      <td>NaN</td>\n",
       "    </tr>\n",
       "    <tr>\n",
       "      <th>1</th>\n",
       "      <td>2.284769</td>\n",
       "      <td>0.001866</td>\n",
       "      <td>2.533489</td>\n",
       "      <td>NaN</td>\n",
       "    </tr>\n",
       "    <tr>\n",
       "      <th>2</th>\n",
       "      <td>1.078524</td>\n",
       "      <td>0.670461</td>\n",
       "      <td>-0.587653</td>\n",
       "      <td>NaN</td>\n",
       "    </tr>\n",
       "    <tr>\n",
       "      <th>3</th>\n",
       "      <td>1.261065</td>\n",
       "      <td>-0.217166</td>\n",
       "      <td>0.337972</td>\n",
       "      <td>NaN</td>\n",
       "    </tr>\n",
       "    <tr>\n",
       "      <th>4</th>\n",
       "      <td>-0.654643</td>\n",
       "      <td>-0.922537</td>\n",
       "      <td>-1.677240</td>\n",
       "      <td>NaN</td>\n",
       "    </tr>\n",
       "    <tr>\n",
       "      <th>5</th>\n",
       "      <td>-0.869590</td>\n",
       "      <td>-0.921381</td>\n",
       "      <td>-2.640811</td>\n",
       "      <td>NaN</td>\n",
       "    </tr>\n",
       "    <tr>\n",
       "      <th>6</th>\n",
       "      <td>0.584160</td>\n",
       "      <td>0.868525</td>\n",
       "      <td>-1.141987</td>\n",
       "      <td>NaN</td>\n",
       "    </tr>\n",
       "    <tr>\n",
       "      <th>7</th>\n",
       "      <td>NaN</td>\n",
       "      <td>NaN</td>\n",
       "      <td>NaN</td>\n",
       "      <td>NaN</td>\n",
       "    </tr>\n",
       "    <tr>\n",
       "      <th>8</th>\n",
       "      <td>NaN</td>\n",
       "      <td>NaN</td>\n",
       "      <td>NaN</td>\n",
       "      <td>NaN</td>\n",
       "    </tr>\n",
       "    <tr>\n",
       "      <th>9</th>\n",
       "      <td>NaN</td>\n",
       "      <td>NaN</td>\n",
       "      <td>NaN</td>\n",
       "      <td>NaN</td>\n",
       "    </tr>\n",
       "  </tbody>\n",
       "</table>\n",
       "</div>"
      ],
      "text/plain": [
       "          A         B         C   D\n",
       "0 -0.241415  0.021818  0.486589 NaN\n",
       "1  2.284769  0.001866  2.533489 NaN\n",
       "2  1.078524  0.670461 -0.587653 NaN\n",
       "3  1.261065 -0.217166  0.337972 NaN\n",
       "4 -0.654643 -0.922537 -1.677240 NaN\n",
       "5 -0.869590 -0.921381 -2.640811 NaN\n",
       "6  0.584160  0.868525 -1.141987 NaN\n",
       "7       NaN       NaN       NaN NaN\n",
       "8       NaN       NaN       NaN NaN\n",
       "9       NaN       NaN       NaN NaN"
      ]
     },
     "execution_count": 88,
     "metadata": {},
     "output_type": "execute_result"
    }
   ],
   "source": [
    "df = pd.DataFrame(np.random.randn(10, 4), columns=[\"A\", \"B\", \"C\", \"D\"])\n",
    "df2 = pd.DataFrame(np.random.randn(7, 3), columns=[\"A\", \"B\", \"C\"])\n",
    "df + df2"
   ]
  },
  {
   "cell_type": "code",
   "execution_count": 89,
   "id": "24d2c795",
   "metadata": {
    "execution": {
     "iopub.execute_input": "2024-07-20T19:16:24.108976Z",
     "iopub.status.busy": "2024-07-20T19:16:24.108527Z",
     "iopub.status.idle": "2024-07-20T19:16:24.122445Z",
     "shell.execute_reply": "2024-07-20T19:16:24.121176Z"
    },
    "papermill": {
     "duration": 0.082767,
     "end_time": "2024-07-20T19:16:24.125016",
     "exception": false,
     "start_time": "2024-07-20T19:16:24.042249",
     "status": "completed"
    },
    "tags": []
   },
   "outputs": [
    {
     "data": {
      "text/html": [
       "<div>\n",
       "<style scoped>\n",
       "    .dataframe tbody tr th:only-of-type {\n",
       "        vertical-align: middle;\n",
       "    }\n",
       "\n",
       "    .dataframe tbody tr th {\n",
       "        vertical-align: top;\n",
       "    }\n",
       "\n",
       "    .dataframe thead th {\n",
       "        text-align: right;\n",
       "    }\n",
       "</style>\n",
       "<table border=\"1\" class=\"dataframe\">\n",
       "  <thead>\n",
       "    <tr style=\"text-align: right;\">\n",
       "      <th></th>\n",
       "      <th>a</th>\n",
       "      <th>b</th>\n",
       "    </tr>\n",
       "  </thead>\n",
       "  <tbody>\n",
       "    <tr>\n",
       "      <th>0</th>\n",
       "      <td>False</td>\n",
       "      <td>False</td>\n",
       "    </tr>\n",
       "    <tr>\n",
       "      <th>1</th>\n",
       "      <td>False</td>\n",
       "      <td>True</td>\n",
       "    </tr>\n",
       "    <tr>\n",
       "      <th>2</th>\n",
       "      <td>True</td>\n",
       "      <td>False</td>\n",
       "    </tr>\n",
       "  </tbody>\n",
       "</table>\n",
       "</div>"
      ],
      "text/plain": [
       "       a      b\n",
       "0  False  False\n",
       "1  False   True\n",
       "2   True  False"
      ]
     },
     "execution_count": 89,
     "metadata": {},
     "output_type": "execute_result"
    }
   ],
   "source": [
    "df1 = pd.DataFrame({\"a\": [1, 0, 1], \"b\": [0, 1, 1]}, dtype=bool)\n",
    "df2 = pd.DataFrame({\"a\": [0, 1, 1], \"b\": [1, 1, 0]}, dtype=bool)\n",
    "df1 & df2"
   ]
  },
  {
   "cell_type": "code",
   "execution_count": 90,
   "id": "ef1e42ac",
   "metadata": {
    "execution": {
     "iopub.execute_input": "2024-07-20T19:16:24.256932Z",
     "iopub.status.busy": "2024-07-20T19:16:24.256514Z",
     "iopub.status.idle": "2024-07-20T19:16:24.268062Z",
     "shell.execute_reply": "2024-07-20T19:16:24.266907Z"
    },
    "papermill": {
     "duration": 0.079455,
     "end_time": "2024-07-20T19:16:24.270798",
     "exception": false,
     "start_time": "2024-07-20T19:16:24.191343",
     "status": "completed"
    },
    "tags": []
   },
   "outputs": [
    {
     "data": {
      "text/html": [
       "<div>\n",
       "<style scoped>\n",
       "    .dataframe tbody tr th:only-of-type {\n",
       "        vertical-align: middle;\n",
       "    }\n",
       "\n",
       "    .dataframe tbody tr th {\n",
       "        vertical-align: top;\n",
       "    }\n",
       "\n",
       "    .dataframe thead th {\n",
       "        text-align: right;\n",
       "    }\n",
       "</style>\n",
       "<table border=\"1\" class=\"dataframe\">\n",
       "  <thead>\n",
       "    <tr style=\"text-align: right;\">\n",
       "      <th></th>\n",
       "      <th>a</th>\n",
       "      <th>b</th>\n",
       "    </tr>\n",
       "  </thead>\n",
       "  <tbody>\n",
       "    <tr>\n",
       "      <th>0</th>\n",
       "      <td>True</td>\n",
       "      <td>True</td>\n",
       "    </tr>\n",
       "    <tr>\n",
       "      <th>1</th>\n",
       "      <td>True</td>\n",
       "      <td>True</td>\n",
       "    </tr>\n",
       "    <tr>\n",
       "      <th>2</th>\n",
       "      <td>True</td>\n",
       "      <td>True</td>\n",
       "    </tr>\n",
       "  </tbody>\n",
       "</table>\n",
       "</div>"
      ],
      "text/plain": [
       "      a     b\n",
       "0  True  True\n",
       "1  True  True\n",
       "2  True  True"
      ]
     },
     "execution_count": 90,
     "metadata": {},
     "output_type": "execute_result"
    }
   ],
   "source": [
    "df1 | df2"
   ]
  },
  {
   "cell_type": "code",
   "execution_count": 91,
   "id": "e6a4eb68",
   "metadata": {
    "execution": {
     "iopub.execute_input": "2024-07-20T19:16:24.402497Z",
     "iopub.status.busy": "2024-07-20T19:16:24.402060Z",
     "iopub.status.idle": "2024-07-20T19:16:24.414251Z",
     "shell.execute_reply": "2024-07-20T19:16:24.412850Z"
    },
    "papermill": {
     "duration": 0.081899,
     "end_time": "2024-07-20T19:16:24.417282",
     "exception": false,
     "start_time": "2024-07-20T19:16:24.335383",
     "status": "completed"
    },
    "tags": []
   },
   "outputs": [
    {
     "data": {
      "text/html": [
       "<div>\n",
       "<style scoped>\n",
       "    .dataframe tbody tr th:only-of-type {\n",
       "        vertical-align: middle;\n",
       "    }\n",
       "\n",
       "    .dataframe tbody tr th {\n",
       "        vertical-align: top;\n",
       "    }\n",
       "\n",
       "    .dataframe thead th {\n",
       "        text-align: right;\n",
       "    }\n",
       "</style>\n",
       "<table border=\"1\" class=\"dataframe\">\n",
       "  <thead>\n",
       "    <tr style=\"text-align: right;\">\n",
       "      <th></th>\n",
       "      <th>a</th>\n",
       "      <th>b</th>\n",
       "    </tr>\n",
       "  </thead>\n",
       "  <tbody>\n",
       "    <tr>\n",
       "      <th>0</th>\n",
       "      <td>True</td>\n",
       "      <td>True</td>\n",
       "    </tr>\n",
       "    <tr>\n",
       "      <th>1</th>\n",
       "      <td>True</td>\n",
       "      <td>False</td>\n",
       "    </tr>\n",
       "    <tr>\n",
       "      <th>2</th>\n",
       "      <td>False</td>\n",
       "      <td>True</td>\n",
       "    </tr>\n",
       "  </tbody>\n",
       "</table>\n",
       "</div>"
      ],
      "text/plain": [
       "       a      b\n",
       "0   True   True\n",
       "1   True  False\n",
       "2  False   True"
      ]
     },
     "execution_count": 91,
     "metadata": {},
     "output_type": "execute_result"
    }
   ],
   "source": [
    "df1 ^ df2"
   ]
  },
  {
   "cell_type": "code",
   "execution_count": 92,
   "id": "cb467a54",
   "metadata": {
    "execution": {
     "iopub.execute_input": "2024-07-20T19:16:24.551209Z",
     "iopub.status.busy": "2024-07-20T19:16:24.550488Z",
     "iopub.status.idle": "2024-07-20T19:16:24.560930Z",
     "shell.execute_reply": "2024-07-20T19:16:24.559915Z"
    },
    "papermill": {
     "duration": 0.08098,
     "end_time": "2024-07-20T19:16:24.563506",
     "exception": false,
     "start_time": "2024-07-20T19:16:24.482526",
     "status": "completed"
    },
    "tags": []
   },
   "outputs": [
    {
     "data": {
      "text/html": [
       "<div>\n",
       "<style scoped>\n",
       "    .dataframe tbody tr th:only-of-type {\n",
       "        vertical-align: middle;\n",
       "    }\n",
       "\n",
       "    .dataframe tbody tr th {\n",
       "        vertical-align: top;\n",
       "    }\n",
       "\n",
       "    .dataframe thead th {\n",
       "        text-align: right;\n",
       "    }\n",
       "</style>\n",
       "<table border=\"1\" class=\"dataframe\">\n",
       "  <thead>\n",
       "    <tr style=\"text-align: right;\">\n",
       "      <th></th>\n",
       "      <th>a</th>\n",
       "      <th>b</th>\n",
       "    </tr>\n",
       "  </thead>\n",
       "  <tbody>\n",
       "    <tr>\n",
       "      <th>0</th>\n",
       "      <td>False</td>\n",
       "      <td>True</td>\n",
       "    </tr>\n",
       "    <tr>\n",
       "      <th>1</th>\n",
       "      <td>True</td>\n",
       "      <td>False</td>\n",
       "    </tr>\n",
       "    <tr>\n",
       "      <th>2</th>\n",
       "      <td>False</td>\n",
       "      <td>False</td>\n",
       "    </tr>\n",
       "  </tbody>\n",
       "</table>\n",
       "</div>"
      ],
      "text/plain": [
       "       a      b\n",
       "0  False   True\n",
       "1   True  False\n",
       "2  False  False"
      ]
     },
     "execution_count": 92,
     "metadata": {},
     "output_type": "execute_result"
    }
   ],
   "source": [
    "-df1"
   ]
  },
  {
   "cell_type": "code",
   "execution_count": 93,
   "id": "2118d0b1",
   "metadata": {
    "execution": {
     "iopub.execute_input": "2024-07-20T19:16:24.698811Z",
     "iopub.status.busy": "2024-07-20T19:16:24.698402Z",
     "iopub.status.idle": "2024-07-20T19:16:24.714421Z",
     "shell.execute_reply": "2024-07-20T19:16:24.713161Z"
    },
    "papermill": {
     "duration": 0.087002,
     "end_time": "2024-07-20T19:16:24.716893",
     "exception": false,
     "start_time": "2024-07-20T19:16:24.629891",
     "status": "completed"
    },
    "tags": []
   },
   "outputs": [
    {
     "data": {
      "text/html": [
       "<div>\n",
       "<style scoped>\n",
       "    .dataframe tbody tr th:only-of-type {\n",
       "        vertical-align: middle;\n",
       "    }\n",
       "\n",
       "    .dataframe tbody tr th {\n",
       "        vertical-align: top;\n",
       "    }\n",
       "\n",
       "    .dataframe thead th {\n",
       "        text-align: right;\n",
       "    }\n",
       "</style>\n",
       "<table border=\"1\" class=\"dataframe\">\n",
       "  <thead>\n",
       "    <tr style=\"text-align: right;\">\n",
       "      <th></th>\n",
       "      <th>A</th>\n",
       "      <th>B</th>\n",
       "      <th>C</th>\n",
       "      <th>D</th>\n",
       "    </tr>\n",
       "  </thead>\n",
       "  <tbody>\n",
       "    <tr>\n",
       "      <th>0</th>\n",
       "      <td>0.404334</td>\n",
       "      <td>0.966255</td>\n",
       "      <td>0.650460</td>\n",
       "      <td>0.679763</td>\n",
       "    </tr>\n",
       "    <tr>\n",
       "      <th>1</th>\n",
       "      <td>5.870467</td>\n",
       "      <td>0.973921</td>\n",
       "      <td>6.570585</td>\n",
       "      <td>1.820460</td>\n",
       "    </tr>\n",
       "    <tr>\n",
       "      <th>2</th>\n",
       "      <td>3.716597</td>\n",
       "      <td>1.198841</td>\n",
       "      <td>2.877488</td>\n",
       "      <td>1.041327</td>\n",
       "    </tr>\n",
       "    <tr>\n",
       "      <th>3</th>\n",
       "      <td>3.854584</td>\n",
       "      <td>0.559365</td>\n",
       "      <td>0.236875</td>\n",
       "      <td>1.419878</td>\n",
       "    </tr>\n",
       "    <tr>\n",
       "      <th>4</th>\n",
       "      <td>1.066649</td>\n",
       "      <td>1.143716</td>\n",
       "      <td>0.166570</td>\n",
       "      <td>11.269816</td>\n",
       "    </tr>\n",
       "    <tr>\n",
       "      <th>5</th>\n",
       "      <td>0.566746</td>\n",
       "      <td>1.471748</td>\n",
       "      <td>0.247501</td>\n",
       "      <td>4.605709</td>\n",
       "    </tr>\n",
       "    <tr>\n",
       "      <th>6</th>\n",
       "      <td>1.303385</td>\n",
       "      <td>2.872217</td>\n",
       "      <td>0.476577</td>\n",
       "      <td>0.607883</td>\n",
       "    </tr>\n",
       "    <tr>\n",
       "      <th>7</th>\n",
       "      <td>1.792288</td>\n",
       "      <td>0.694953</td>\n",
       "      <td>3.907077</td>\n",
       "      <td>2.115258</td>\n",
       "    </tr>\n",
       "    <tr>\n",
       "      <th>8</th>\n",
       "      <td>1.065894</td>\n",
       "      <td>1.681661</td>\n",
       "      <td>0.368831</td>\n",
       "      <td>1.090402</td>\n",
       "    </tr>\n",
       "    <tr>\n",
       "      <th>9</th>\n",
       "      <td>0.496760</td>\n",
       "      <td>1.044754</td>\n",
       "      <td>0.511318</td>\n",
       "      <td>0.379025</td>\n",
       "    </tr>\n",
       "  </tbody>\n",
       "</table>\n",
       "</div>"
      ],
      "text/plain": [
       "          A         B         C          D\n",
       "0  0.404334  0.966255  0.650460   0.679763\n",
       "1  5.870467  0.973921  6.570585   1.820460\n",
       "2  3.716597  1.198841  2.877488   1.041327\n",
       "3  3.854584  0.559365  0.236875   1.419878\n",
       "4  1.066649  1.143716  0.166570  11.269816\n",
       "5  0.566746  1.471748  0.247501   4.605709\n",
       "6  1.303385  2.872217  0.476577   0.607883\n",
       "7  1.792288  0.694953  3.907077   2.115258\n",
       "8  1.065894  1.681661  0.368831   1.090402\n",
       "9  0.496760  1.044754  0.511318   0.379025"
      ]
     },
     "execution_count": 93,
     "metadata": {},
     "output_type": "execute_result"
    }
   ],
   "source": [
    "np.exp(df)"
   ]
  },
  {
   "cell_type": "code",
   "execution_count": 94,
   "id": "e554e3fc",
   "metadata": {
    "execution": {
     "iopub.execute_input": "2024-07-20T19:16:24.852188Z",
     "iopub.status.busy": "2024-07-20T19:16:24.851773Z",
     "iopub.status.idle": "2024-07-20T19:16:24.861808Z",
     "shell.execute_reply": "2024-07-20T19:16:24.860534Z"
    },
    "papermill": {
     "duration": 0.081647,
     "end_time": "2024-07-20T19:16:24.864418",
     "exception": false,
     "start_time": "2024-07-20T19:16:24.782771",
     "status": "completed"
    },
    "tags": []
   },
   "outputs": [
    {
     "data": {
      "text/plain": [
       "0     2.718282\n",
       "1     7.389056\n",
       "2    20.085537\n",
       "3    54.598150\n",
       "dtype: float64"
      ]
     },
     "execution_count": 94,
     "metadata": {},
     "output_type": "execute_result"
    }
   ],
   "source": [
    "ser = pd.Series([1, 2, 3, 4])\n",
    "np.exp(ser)"
   ]
  },
  {
   "cell_type": "code",
   "execution_count": 95,
   "id": "6a07f2be",
   "metadata": {
    "execution": {
     "iopub.execute_input": "2024-07-20T19:16:24.999544Z",
     "iopub.status.busy": "2024-07-20T19:16:24.999141Z",
     "iopub.status.idle": "2024-07-20T19:16:25.011452Z",
     "shell.execute_reply": "2024-07-20T19:16:25.010027Z"
    },
    "papermill": {
     "duration": 0.081861,
     "end_time": "2024-07-20T19:16:25.014139",
     "exception": false,
     "start_time": "2024-07-20T19:16:24.932278",
     "status": "completed"
    },
    "tags": []
   },
   "outputs": [
    {
     "data": {
      "text/plain": [
       "a    1\n",
       "b    2\n",
       "c    3\n",
       "dtype: int64"
      ]
     },
     "execution_count": 95,
     "metadata": {},
     "output_type": "execute_result"
    }
   ],
   "source": [
    "ser1 = pd.Series([1, 2, 3], index=[\"a\", \"b\", \"c\"])\n",
    "ser2 = pd.Series([1, 3, 5], index=[\"b\", \"a\", \"c\"])\n",
    "ser1"
   ]
  },
  {
   "cell_type": "code",
   "execution_count": 96,
   "id": "2aa1be51",
   "metadata": {
    "execution": {
     "iopub.execute_input": "2024-07-20T19:16:25.148896Z",
     "iopub.status.busy": "2024-07-20T19:16:25.148457Z",
     "iopub.status.idle": "2024-07-20T19:16:25.158555Z",
     "shell.execute_reply": "2024-07-20T19:16:25.157299Z"
    },
    "papermill": {
     "duration": 0.081109,
     "end_time": "2024-07-20T19:16:25.161678",
     "exception": false,
     "start_time": "2024-07-20T19:16:25.080569",
     "status": "completed"
    },
    "tags": []
   },
   "outputs": [
    {
     "data": {
      "text/plain": [
       "a    1\n",
       "b    0\n",
       "c    3\n",
       "dtype: int64"
      ]
     },
     "execution_count": 96,
     "metadata": {},
     "output_type": "execute_result"
    }
   ],
   "source": [
    "np.remainder(ser1, ser2)"
   ]
  },
  {
   "cell_type": "code",
   "execution_count": 97,
   "id": "136bfb30",
   "metadata": {
    "execution": {
     "iopub.execute_input": "2024-07-20T19:16:25.300332Z",
     "iopub.status.busy": "2024-07-20T19:16:25.299881Z",
     "iopub.status.idle": "2024-07-20T19:16:25.311787Z",
     "shell.execute_reply": "2024-07-20T19:16:25.310503Z"
    },
    "papermill": {
     "duration": 0.085801,
     "end_time": "2024-07-20T19:16:25.314818",
     "exception": false,
     "start_time": "2024-07-20T19:16:25.229017",
     "status": "completed"
    },
    "tags": []
   },
   "outputs": [
    {
     "data": {
      "text/plain": [
       "a    NaN\n",
       "b    0.0\n",
       "c    3.0\n",
       "d    NaN\n",
       "dtype: float64"
      ]
     },
     "execution_count": 97,
     "metadata": {},
     "output_type": "execute_result"
    }
   ],
   "source": [
    "ser3 = pd.Series([2, 4, 6], index=[\"b\", \"c\", \"d\"])\n",
    "np.remainder(ser1, ser3)"
   ]
  },
  {
   "cell_type": "code",
   "execution_count": 98,
   "id": "26db408c",
   "metadata": {
    "execution": {
     "iopub.execute_input": "2024-07-20T19:16:25.455201Z",
     "iopub.status.busy": "2024-07-20T19:16:25.454748Z",
     "iopub.status.idle": "2024-07-20T19:16:25.464784Z",
     "shell.execute_reply": "2024-07-20T19:16:25.463458Z"
    },
    "papermill": {
     "duration": 0.085063,
     "end_time": "2024-07-20T19:16:25.467547",
     "exception": false,
     "start_time": "2024-07-20T19:16:25.382484",
     "status": "completed"
    },
    "tags": []
   },
   "outputs": [
    {
     "data": {
      "text/plain": [
       "0    4\n",
       "1    5\n",
       "2    6\n",
       "dtype: int64"
      ]
     },
     "execution_count": 98,
     "metadata": {},
     "output_type": "execute_result"
    }
   ],
   "source": [
    "ser = pd.Series([1, 2, 3])\n",
    "idx = pd.Index([4, 5, 6])\n",
    "np.maximum(ser, idx)"
   ]
  },
  {
   "cell_type": "code",
   "execution_count": 99,
   "id": "98aa2f34",
   "metadata": {
    "execution": {
     "iopub.execute_input": "2024-07-20T19:16:25.602710Z",
     "iopub.status.busy": "2024-07-20T19:16:25.602286Z",
     "iopub.status.idle": "2024-07-20T19:16:25.621711Z",
     "shell.execute_reply": "2024-07-20T19:16:25.620446Z"
    },
    "papermill": {
     "duration": 0.090786,
     "end_time": "2024-07-20T19:16:25.624201",
     "exception": false,
     "start_time": "2024-07-20T19:16:25.533415",
     "status": "completed"
    },
    "tags": []
   },
   "outputs": [
    {
     "data": {
      "text/html": [
       "<div>\n",
       "<style scoped>\n",
       "    .dataframe tbody tr th:only-of-type {\n",
       "        vertical-align: middle;\n",
       "    }\n",
       "\n",
       "    .dataframe tbody tr th {\n",
       "        vertical-align: top;\n",
       "    }\n",
       "\n",
       "    .dataframe thead th {\n",
       "        text-align: right;\n",
       "    }\n",
       "</style>\n",
       "<table border=\"1\" class=\"dataframe\">\n",
       "  <thead>\n",
       "    <tr style=\"text-align: right;\">\n",
       "      <th></th>\n",
       "      <th>0</th>\n",
       "      <th>1</th>\n",
       "      <th>2</th>\n",
       "      <th>3</th>\n",
       "      <th>4</th>\n",
       "      <th>5</th>\n",
       "      <th>6</th>\n",
       "      <th>7</th>\n",
       "      <th>8</th>\n",
       "      <th>9</th>\n",
       "      <th>10</th>\n",
       "      <th>11</th>\n",
       "    </tr>\n",
       "  </thead>\n",
       "  <tbody>\n",
       "    <tr>\n",
       "      <th>0</th>\n",
       "      <td>1.662870</td>\n",
       "      <td>-1.779301</td>\n",
       "      <td>-1.187802</td>\n",
       "      <td>0.195185</td>\n",
       "      <td>0.600667</td>\n",
       "      <td>-2.289641</td>\n",
       "      <td>0.092790</td>\n",
       "      <td>1.222335</td>\n",
       "      <td>0.567605</td>\n",
       "      <td>0.139840</td>\n",
       "      <td>1.110909</td>\n",
       "      <td>0.328790</td>\n",
       "    </tr>\n",
       "    <tr>\n",
       "      <th>1</th>\n",
       "      <td>1.350621</td>\n",
       "      <td>1.077888</td>\n",
       "      <td>-1.055744</td>\n",
       "      <td>-0.405750</td>\n",
       "      <td>-1.448090</td>\n",
       "      <td>-0.404262</td>\n",
       "      <td>-1.702477</td>\n",
       "      <td>0.416208</td>\n",
       "      <td>-2.368847</td>\n",
       "      <td>-0.531691</td>\n",
       "      <td>-1.594011</td>\n",
       "      <td>1.133153</td>\n",
       "    </tr>\n",
       "    <tr>\n",
       "      <th>2</th>\n",
       "      <td>0.888262</td>\n",
       "      <td>-0.261351</td>\n",
       "      <td>2.144140</td>\n",
       "      <td>-0.107626</td>\n",
       "      <td>-1.011809</td>\n",
       "      <td>-0.190956</td>\n",
       "      <td>-0.132447</td>\n",
       "      <td>0.415201</td>\n",
       "      <td>-0.060077</td>\n",
       "      <td>0.823205</td>\n",
       "      <td>1.147252</td>\n",
       "      <td>0.595219</td>\n",
       "    </tr>\n",
       "  </tbody>\n",
       "</table>\n",
       "</div>"
      ],
      "text/plain": [
       "         0         1         2         3         4         5         6   \\\n",
       "0  1.662870 -1.779301 -1.187802  0.195185  0.600667 -2.289641  0.092790   \n",
       "1  1.350621  1.077888 -1.055744 -0.405750 -1.448090 -0.404262 -1.702477   \n",
       "2  0.888262 -0.261351  2.144140 -0.107626 -1.011809 -0.190956 -0.132447   \n",
       "\n",
       "         7         8         9         10        11  \n",
       "0  1.222335  0.567605  0.139840  1.110909  0.328790  \n",
       "1  0.416208 -2.368847 -0.531691 -1.594011  1.133153  \n",
       "2  0.415201 -0.060077  0.823205  1.147252  0.595219  "
      ]
     },
     "execution_count": 99,
     "metadata": {},
     "output_type": "execute_result"
    }
   ],
   "source": [
    "pd.DataFrame(np.random.randn(3, 12))"
   ]
  },
  {
   "cell_type": "code",
   "execution_count": 100,
   "id": "ca656f11",
   "metadata": {
    "execution": {
     "iopub.execute_input": "2024-07-20T19:16:25.763340Z",
     "iopub.status.busy": "2024-07-20T19:16:25.762056Z",
     "iopub.status.idle": "2024-07-20T19:16:25.782271Z",
     "shell.execute_reply": "2024-07-20T19:16:25.781093Z"
    },
    "papermill": {
     "duration": 0.092713,
     "end_time": "2024-07-20T19:16:25.784902",
     "exception": false,
     "start_time": "2024-07-20T19:16:25.692189",
     "status": "completed"
    },
    "tags": []
   },
   "outputs": [
    {
     "data": {
      "text/html": [
       "<div>\n",
       "<style scoped>\n",
       "    .dataframe tbody tr th:only-of-type {\n",
       "        vertical-align: middle;\n",
       "    }\n",
       "\n",
       "    .dataframe tbody tr th {\n",
       "        vertical-align: top;\n",
       "    }\n",
       "\n",
       "    .dataframe thead th {\n",
       "        text-align: right;\n",
       "    }\n",
       "</style>\n",
       "<table border=\"1\" class=\"dataframe\">\n",
       "  <thead>\n",
       "    <tr style=\"text-align: right;\">\n",
       "      <th></th>\n",
       "      <th>0</th>\n",
       "      <th>1</th>\n",
       "      <th>2</th>\n",
       "      <th>3</th>\n",
       "      <th>4</th>\n",
       "      <th>5</th>\n",
       "      <th>6</th>\n",
       "      <th>7</th>\n",
       "      <th>8</th>\n",
       "      <th>9</th>\n",
       "      <th>10</th>\n",
       "      <th>11</th>\n",
       "    </tr>\n",
       "  </thead>\n",
       "  <tbody>\n",
       "    <tr>\n",
       "      <th>0</th>\n",
       "      <td>0.356177</td>\n",
       "      <td>-0.595257</td>\n",
       "      <td>-0.238585</td>\n",
       "      <td>1.049686</td>\n",
       "      <td>0.721124</td>\n",
       "      <td>-0.899853</td>\n",
       "      <td>0.371608</td>\n",
       "      <td>0.022147</td>\n",
       "      <td>0.432217</td>\n",
       "      <td>-0.732194</td>\n",
       "      <td>0.701162</td>\n",
       "      <td>-0.879283</td>\n",
       "    </tr>\n",
       "    <tr>\n",
       "      <th>1</th>\n",
       "      <td>1.050280</td>\n",
       "      <td>0.575136</td>\n",
       "      <td>0.518858</td>\n",
       "      <td>-0.742168</td>\n",
       "      <td>-0.658549</td>\n",
       "      <td>0.336616</td>\n",
       "      <td>-0.657468</td>\n",
       "      <td>0.287630</td>\n",
       "      <td>-0.454640</td>\n",
       "      <td>0.168260</td>\n",
       "      <td>-0.696984</td>\n",
       "      <td>0.692678</td>\n",
       "    </tr>\n",
       "    <tr>\n",
       "      <th>2</th>\n",
       "      <td>-0.744530</td>\n",
       "      <td>0.489430</td>\n",
       "      <td>0.205030</td>\n",
       "      <td>0.019272</td>\n",
       "      <td>1.891128</td>\n",
       "      <td>-0.578666</td>\n",
       "      <td>0.033061</td>\n",
       "      <td>0.679092</td>\n",
       "      <td>1.322176</td>\n",
       "      <td>-0.728209</td>\n",
       "      <td>1.819453</td>\n",
       "      <td>-0.115580</td>\n",
       "    </tr>\n",
       "  </tbody>\n",
       "</table>\n",
       "</div>"
      ],
      "text/plain": [
       "         0         1         2   \\\n",
       "0  0.356177 -0.595257 -0.238585   \n",
       "1  1.050280  0.575136  0.518858   \n",
       "2 -0.744530  0.489430  0.205030   \n",
       "\n",
       "         3         4         5   \\\n",
       "0  1.049686  0.721124 -0.899853   \n",
       "1 -0.742168 -0.658549  0.336616   \n",
       "2  0.019272  1.891128 -0.578666   \n",
       "\n",
       "         6         7         8   \\\n",
       "0  0.371608  0.022147  0.432217   \n",
       "1 -0.657468  0.287630 -0.454640   \n",
       "2  0.033061  0.679092  1.322176   \n",
       "\n",
       "         9         10        11  \n",
       "0 -0.732194  0.701162 -0.879283  \n",
       "1  0.168260 -0.696984  0.692678  \n",
       "2 -0.728209  1.819453 -0.115580  "
      ]
     },
     "execution_count": 100,
     "metadata": {},
     "output_type": "execute_result"
    }
   ],
   "source": [
    "pd.set_option(\"display.width\", 40) # default is 80\n",
    "pd.DataFrame(np.random.randn(3, 12))"
   ]
  },
  {
   "cell_type": "code",
   "execution_count": 101,
   "id": "21e8da76",
   "metadata": {
    "execution": {
     "iopub.execute_input": "2024-07-20T19:16:25.922621Z",
     "iopub.status.busy": "2024-07-20T19:16:25.922207Z",
     "iopub.status.idle": "2024-07-20T19:16:25.935449Z",
     "shell.execute_reply": "2024-07-20T19:16:25.934211Z"
    },
    "papermill": {
     "duration": 0.083923,
     "end_time": "2024-07-20T19:16:25.938046",
     "exception": false,
     "start_time": "2024-07-20T19:16:25.854123",
     "status": "completed"
    },
    "tags": []
   },
   "outputs": [
    {
     "data": {
      "text/html": [
       "<div>\n",
       "<style scoped>\n",
       "    .dataframe tbody tr th:only-of-type {\n",
       "        vertical-align: middle;\n",
       "    }\n",
       "\n",
       "    .dataframe tbody tr th {\n",
       "        vertical-align: top;\n",
       "    }\n",
       "\n",
       "    .dataframe thead th {\n",
       "        text-align: right;\n",
       "    }\n",
       "</style>\n",
       "<table border=\"1\" class=\"dataframe\">\n",
       "  <thead>\n",
       "    <tr style=\"text-align: right;\">\n",
       "      <th></th>\n",
       "      <th>filename</th>\n",
       "      <th>path</th>\n",
       "    </tr>\n",
       "  </thead>\n",
       "  <tbody>\n",
       "    <tr>\n",
       "      <th>0</th>\n",
       "      <td>filename_01</td>\n",
       "      <td>media/user_name/storage/fo...</td>\n",
       "    </tr>\n",
       "    <tr>\n",
       "      <th>1</th>\n",
       "      <td>filename_02</td>\n",
       "      <td>media/user_name/storage/fo...</td>\n",
       "    </tr>\n",
       "  </tbody>\n",
       "</table>\n",
       "</div>"
      ],
      "text/plain": [
       "      filename  \\\n",
       "0  filename_01   \n",
       "1  filename_02   \n",
       "\n",
       "                            path  \n",
       "0  media/user_name/storage/fo...  \n",
       "1  media/user_name/storage/fo...  "
      ]
     },
     "execution_count": 101,
     "metadata": {},
     "output_type": "execute_result"
    }
   ],
   "source": [
    "datafile = {\n",
    "\"filename\": [\"filename_01\", \"filename_02\"],\n",
    "\"path\": [\n",
    "\"media/user_name/storage/folder_01/filename_01\",\n",
    "\"media/user_name/storage/folder_02/filename_02\",]\n",
    "}\n",
    "\n",
    "pd.set_option(\"display.max_colwidth\", 30)\n",
    "pd.DataFrame(datafile)"
   ]
  },
  {
   "cell_type": "code",
   "execution_count": 102,
   "id": "885b80fd",
   "metadata": {
    "execution": {
     "iopub.execute_input": "2024-07-20T19:16:26.076277Z",
     "iopub.status.busy": "2024-07-20T19:16:26.075820Z",
     "iopub.status.idle": "2024-07-20T19:16:26.088029Z",
     "shell.execute_reply": "2024-07-20T19:16:26.086827Z"
    },
    "papermill": {
     "duration": 0.084331,
     "end_time": "2024-07-20T19:16:26.090935",
     "exception": false,
     "start_time": "2024-07-20T19:16:26.006604",
     "status": "completed"
    },
    "tags": []
   },
   "outputs": [
    {
     "data": {
      "text/html": [
       "<div>\n",
       "<style scoped>\n",
       "    .dataframe tbody tr th:only-of-type {\n",
       "        vertical-align: middle;\n",
       "    }\n",
       "\n",
       "    .dataframe tbody tr th {\n",
       "        vertical-align: top;\n",
       "    }\n",
       "\n",
       "    .dataframe thead th {\n",
       "        text-align: right;\n",
       "    }\n",
       "</style>\n",
       "<table border=\"1\" class=\"dataframe\">\n",
       "  <thead>\n",
       "    <tr style=\"text-align: right;\">\n",
       "      <th></th>\n",
       "      <th>filename</th>\n",
       "      <th>path</th>\n",
       "    </tr>\n",
       "  </thead>\n",
       "  <tbody>\n",
       "    <tr>\n",
       "      <th>0</th>\n",
       "      <td>filename_01</td>\n",
       "      <td>media/user_name/storage/folder_01/filename_01</td>\n",
       "    </tr>\n",
       "    <tr>\n",
       "      <th>1</th>\n",
       "      <td>filename_02</td>\n",
       "      <td>media/user_name/storage/folder_02/filename_02</td>\n",
       "    </tr>\n",
       "  </tbody>\n",
       "</table>\n",
       "</div>"
      ],
      "text/plain": [
       "      filename  \\\n",
       "0  filename_01   \n",
       "1  filename_02   \n",
       "\n",
       "                                            path  \n",
       "0  media/user_name/storage/folder_01/filename_01  \n",
       "1  media/user_name/storage/folder_02/filename_02  "
      ]
     },
     "execution_count": 102,
     "metadata": {},
     "output_type": "execute_result"
    }
   ],
   "source": [
    "pd.set_option(\"display.max_colwidth\", 100)\n",
    "pd.DataFrame(datafile)"
   ]
  },
  {
   "cell_type": "code",
   "execution_count": 103,
   "id": "38d2cee9",
   "metadata": {
    "execution": {
     "iopub.execute_input": "2024-07-20T19:16:26.229496Z",
     "iopub.status.busy": "2024-07-20T19:16:26.229068Z",
     "iopub.status.idle": "2024-07-20T19:16:26.241654Z",
     "shell.execute_reply": "2024-07-20T19:16:26.240545Z"
    },
    "papermill": {
     "duration": 0.084277,
     "end_time": "2024-07-20T19:16:26.244252",
     "exception": false,
     "start_time": "2024-07-20T19:16:26.159975",
     "status": "completed"
    },
    "tags": []
   },
   "outputs": [
    {
     "data": {
      "text/html": [
       "<div>\n",
       "<style scoped>\n",
       "    .dataframe tbody tr th:only-of-type {\n",
       "        vertical-align: middle;\n",
       "    }\n",
       "\n",
       "    .dataframe tbody tr th {\n",
       "        vertical-align: top;\n",
       "    }\n",
       "\n",
       "    .dataframe thead th {\n",
       "        text-align: right;\n",
       "    }\n",
       "</style>\n",
       "<table border=\"1\" class=\"dataframe\">\n",
       "  <thead>\n",
       "    <tr style=\"text-align: right;\">\n",
       "      <th></th>\n",
       "      <th>foo1</th>\n",
       "      <th>foo2</th>\n",
       "    </tr>\n",
       "  </thead>\n",
       "  <tbody>\n",
       "    <tr>\n",
       "      <th>0</th>\n",
       "      <td>-0.906954</td>\n",
       "      <td>0.045565</td>\n",
       "    </tr>\n",
       "    <tr>\n",
       "      <th>1</th>\n",
       "      <td>-1.904452</td>\n",
       "      <td>0.329333</td>\n",
       "    </tr>\n",
       "    <tr>\n",
       "      <th>2</th>\n",
       "      <td>1.561317</td>\n",
       "      <td>1.655682</td>\n",
       "    </tr>\n",
       "    <tr>\n",
       "      <th>3</th>\n",
       "      <td>-0.841218</td>\n",
       "      <td>-0.173388</td>\n",
       "    </tr>\n",
       "    <tr>\n",
       "      <th>4</th>\n",
       "      <td>-0.632575</td>\n",
       "      <td>1.358439</td>\n",
       "    </tr>\n",
       "  </tbody>\n",
       "</table>\n",
       "</div>"
      ],
      "text/plain": [
       "       foo1      foo2\n",
       "0 -0.906954  0.045565\n",
       "1 -1.904452  0.329333\n",
       "2  1.561317  1.655682\n",
       "3 -0.841218 -0.173388\n",
       "4 -0.632575  1.358439"
      ]
     },
     "execution_count": 103,
     "metadata": {},
     "output_type": "execute_result"
    }
   ],
   "source": [
    "df = pd.DataFrame({\"foo1\": np.random.randn(5), \"foo2\": np.random.randn(5)})\n",
    "df"
   ]
  },
  {
   "cell_type": "code",
   "execution_count": 104,
   "id": "387fbc09",
   "metadata": {
    "execution": {
     "iopub.execute_input": "2024-07-20T19:16:26.382096Z",
     "iopub.status.busy": "2024-07-20T19:16:26.381674Z",
     "iopub.status.idle": "2024-07-20T19:16:26.390468Z",
     "shell.execute_reply": "2024-07-20T19:16:26.389290Z"
    },
    "papermill": {
     "duration": 0.080985,
     "end_time": "2024-07-20T19:16:26.393004",
     "exception": false,
     "start_time": "2024-07-20T19:16:26.312019",
     "status": "completed"
    },
    "tags": []
   },
   "outputs": [],
   "source": [
    "index = pd.date_range(\"1/1/2000\", periods=8)\n",
    "s = pd.Series(np.random.randn(5), index=[\"a\", \"b\", \"c\", \"d\", \"e\"])\n",
    "df = pd.DataFrame(np.random.randn(8, 3), index=index, columns=[\"A\", \"B\", \"C\"])"
   ]
  },
  {
   "cell_type": "code",
   "execution_count": 105,
   "id": "9eb62bc3",
   "metadata": {
    "execution": {
     "iopub.execute_input": "2024-07-20T19:16:26.529230Z",
     "iopub.status.busy": "2024-07-20T19:16:26.528823Z",
     "iopub.status.idle": "2024-07-20T19:16:26.538138Z",
     "shell.execute_reply": "2024-07-20T19:16:26.536908Z"
    },
    "papermill": {
     "duration": 0.080537,
     "end_time": "2024-07-20T19:16:26.540740",
     "exception": false,
     "start_time": "2024-07-20T19:16:26.460203",
     "status": "completed"
    },
    "tags": []
   },
   "outputs": [
    {
     "data": {
      "text/plain": [
       "0    1.539574\n",
       "1    0.136040\n",
       "2    0.822875\n",
       "3    0.256639\n",
       "4   -3.028717\n",
       "dtype: float64"
      ]
     },
     "execution_count": 105,
     "metadata": {},
     "output_type": "execute_result"
    }
   ],
   "source": [
    "long_series = pd.Series(np.random.randn(1000))\n",
    "long_series.head()"
   ]
  },
  {
   "cell_type": "code",
   "execution_count": 106,
   "id": "db8d43dd",
   "metadata": {
    "execution": {
     "iopub.execute_input": "2024-07-20T19:16:26.680524Z",
     "iopub.status.busy": "2024-07-20T19:16:26.680066Z",
     "iopub.status.idle": "2024-07-20T19:16:26.692730Z",
     "shell.execute_reply": "2024-07-20T19:16:26.691499Z"
    },
    "papermill": {
     "duration": 0.084898,
     "end_time": "2024-07-20T19:16:26.695313",
     "exception": false,
     "start_time": "2024-07-20T19:16:26.610415",
     "status": "completed"
    },
    "tags": []
   },
   "outputs": [
    {
     "data": {
      "text/html": [
       "<div>\n",
       "<style scoped>\n",
       "    .dataframe tbody tr th:only-of-type {\n",
       "        vertical-align: middle;\n",
       "    }\n",
       "\n",
       "    .dataframe tbody tr th {\n",
       "        vertical-align: top;\n",
       "    }\n",
       "\n",
       "    .dataframe thead th {\n",
       "        text-align: right;\n",
       "    }\n",
       "</style>\n",
       "<table border=\"1\" class=\"dataframe\">\n",
       "  <thead>\n",
       "    <tr style=\"text-align: right;\">\n",
       "      <th></th>\n",
       "      <th>A</th>\n",
       "      <th>B</th>\n",
       "      <th>C</th>\n",
       "    </tr>\n",
       "  </thead>\n",
       "  <tbody>\n",
       "    <tr>\n",
       "      <th>2000-01-01</th>\n",
       "      <td>0.136817</td>\n",
       "      <td>1.521723</td>\n",
       "      <td>1.694820</td>\n",
       "    </tr>\n",
       "    <tr>\n",
       "      <th>2000-01-02</th>\n",
       "      <td>-0.006485</td>\n",
       "      <td>1.243043</td>\n",
       "      <td>-0.170536</td>\n",
       "    </tr>\n",
       "  </tbody>\n",
       "</table>\n",
       "</div>"
      ],
      "text/plain": [
       "                   A         B  \\\n",
       "2000-01-01  0.136817  1.521723   \n",
       "2000-01-02 -0.006485  1.243043   \n",
       "\n",
       "                   C  \n",
       "2000-01-01  1.694820  \n",
       "2000-01-02 -0.170536  "
      ]
     },
     "execution_count": 106,
     "metadata": {},
     "output_type": "execute_result"
    }
   ],
   "source": [
    "df[:2]"
   ]
  },
  {
   "cell_type": "code",
   "execution_count": 107,
   "id": "1e6f5bb4",
   "metadata": {
    "execution": {
     "iopub.execute_input": "2024-07-20T19:16:26.837271Z",
     "iopub.status.busy": "2024-07-20T19:16:26.836138Z",
     "iopub.status.idle": "2024-07-20T19:16:26.850208Z",
     "shell.execute_reply": "2024-07-20T19:16:26.849067Z"
    },
    "papermill": {
     "duration": 0.087488,
     "end_time": "2024-07-20T19:16:26.852838",
     "exception": false,
     "start_time": "2024-07-20T19:16:26.765350",
     "status": "completed"
    },
    "tags": []
   },
   "outputs": [
    {
     "data": {
      "text/html": [
       "<div>\n",
       "<style scoped>\n",
       "    .dataframe tbody tr th:only-of-type {\n",
       "        vertical-align: middle;\n",
       "    }\n",
       "\n",
       "    .dataframe tbody tr th {\n",
       "        vertical-align: top;\n",
       "    }\n",
       "\n",
       "    .dataframe thead th {\n",
       "        text-align: right;\n",
       "    }\n",
       "</style>\n",
       "<table border=\"1\" class=\"dataframe\">\n",
       "  <thead>\n",
       "    <tr style=\"text-align: right;\">\n",
       "      <th></th>\n",
       "      <th>a</th>\n",
       "      <th>b</th>\n",
       "      <th>c</th>\n",
       "    </tr>\n",
       "  </thead>\n",
       "  <tbody>\n",
       "    <tr>\n",
       "      <th>2000-01-01</th>\n",
       "      <td>0.136817</td>\n",
       "      <td>1.521723</td>\n",
       "      <td>1.694820</td>\n",
       "    </tr>\n",
       "    <tr>\n",
       "      <th>2000-01-02</th>\n",
       "      <td>-0.006485</td>\n",
       "      <td>1.243043</td>\n",
       "      <td>-0.170536</td>\n",
       "    </tr>\n",
       "    <tr>\n",
       "      <th>2000-01-03</th>\n",
       "      <td>1.536105</td>\n",
       "      <td>0.099296</td>\n",
       "      <td>0.753435</td>\n",
       "    </tr>\n",
       "    <tr>\n",
       "      <th>2000-01-04</th>\n",
       "      <td>0.268871</td>\n",
       "      <td>-0.455022</td>\n",
       "      <td>-1.486370</td>\n",
       "    </tr>\n",
       "    <tr>\n",
       "      <th>2000-01-05</th>\n",
       "      <td>-1.491998</td>\n",
       "      <td>-1.318507</td>\n",
       "      <td>-2.235330</td>\n",
       "    </tr>\n",
       "    <tr>\n",
       "      <th>2000-01-06</th>\n",
       "      <td>0.631134</td>\n",
       "      <td>1.707711</td>\n",
       "      <td>0.021565</td>\n",
       "    </tr>\n",
       "    <tr>\n",
       "      <th>2000-01-07</th>\n",
       "      <td>-0.647449</td>\n",
       "      <td>-1.422492</td>\n",
       "      <td>-1.081269</td>\n",
       "    </tr>\n",
       "    <tr>\n",
       "      <th>2000-01-08</th>\n",
       "      <td>-0.973952</td>\n",
       "      <td>1.197755</td>\n",
       "      <td>-0.696390</td>\n",
       "    </tr>\n",
       "  </tbody>\n",
       "</table>\n",
       "</div>"
      ],
      "text/plain": [
       "                   a         b  \\\n",
       "2000-01-01  0.136817  1.521723   \n",
       "2000-01-02 -0.006485  1.243043   \n",
       "2000-01-03  1.536105  0.099296   \n",
       "2000-01-04  0.268871 -0.455022   \n",
       "2000-01-05 -1.491998 -1.318507   \n",
       "2000-01-06  0.631134  1.707711   \n",
       "2000-01-07 -0.647449 -1.422492   \n",
       "2000-01-08 -0.973952  1.197755   \n",
       "\n",
       "                   c  \n",
       "2000-01-01  1.694820  \n",
       "2000-01-02 -0.170536  \n",
       "2000-01-03  0.753435  \n",
       "2000-01-04 -1.486370  \n",
       "2000-01-05 -2.235330  \n",
       "2000-01-06  0.021565  \n",
       "2000-01-07 -1.081269  \n",
       "2000-01-08 -0.696390  "
      ]
     },
     "execution_count": 107,
     "metadata": {},
     "output_type": "execute_result"
    }
   ],
   "source": [
    "df.columns = [x.lower() for x in df.columns]\n",
    "df"
   ]
  },
  {
   "cell_type": "code",
   "execution_count": 108,
   "id": "a40ec271",
   "metadata": {
    "execution": {
     "iopub.execute_input": "2024-07-20T19:16:26.994144Z",
     "iopub.status.busy": "2024-07-20T19:16:26.993705Z",
     "iopub.status.idle": "2024-07-20T19:16:27.001307Z",
     "shell.execute_reply": "2024-07-20T19:16:27.000075Z"
    },
    "papermill": {
     "duration": 0.082812,
     "end_time": "2024-07-20T19:16:27.003985",
     "exception": false,
     "start_time": "2024-07-20T19:16:26.921173",
     "status": "completed"
    },
    "tags": []
   },
   "outputs": [
    {
     "data": {
      "text/plain": [
       "<PandasArray>\n",
       "[-0.16301249506661783,\n",
       "  -0.3990937109118798,\n",
       "  0.12221625648689939,\n",
       "   1.1539186443253713,\n",
       "  0.16166367763217654]\n",
       "Length: 5, dtype: float64"
      ]
     },
     "execution_count": 108,
     "metadata": {},
     "output_type": "execute_result"
    }
   ],
   "source": [
    "s.array"
   ]
  },
  {
   "cell_type": "code",
   "execution_count": 109,
   "id": "0a380738",
   "metadata": {
    "execution": {
     "iopub.execute_input": "2024-07-20T19:16:27.144830Z",
     "iopub.status.busy": "2024-07-20T19:16:27.143951Z",
     "iopub.status.idle": "2024-07-20T19:16:27.151726Z",
     "shell.execute_reply": "2024-07-20T19:16:27.150580Z"
    },
    "papermill": {
     "duration": 0.082114,
     "end_time": "2024-07-20T19:16:27.154674",
     "exception": false,
     "start_time": "2024-07-20T19:16:27.072560",
     "status": "completed"
    },
    "tags": []
   },
   "outputs": [
    {
     "data": {
      "text/plain": [
       "<PandasArray>\n",
       "['a', 'b', 'c', 'd', 'e']\n",
       "Length: 5, dtype: object"
      ]
     },
     "execution_count": 109,
     "metadata": {},
     "output_type": "execute_result"
    }
   ],
   "source": [
    "s.index.array"
   ]
  },
  {
   "cell_type": "code",
   "execution_count": 110,
   "id": "fb99135d",
   "metadata": {
    "execution": {
     "iopub.execute_input": "2024-07-20T19:16:27.295641Z",
     "iopub.status.busy": "2024-07-20T19:16:27.295257Z",
     "iopub.status.idle": "2024-07-20T19:16:27.303796Z",
     "shell.execute_reply": "2024-07-20T19:16:27.302587Z"
    },
    "papermill": {
     "duration": 0.082547,
     "end_time": "2024-07-20T19:16:27.306559",
     "exception": false,
     "start_time": "2024-07-20T19:16:27.224012",
     "status": "completed"
    },
    "tags": []
   },
   "outputs": [
    {
     "data": {
      "text/plain": [
       "array([-0.1630125 , -0.39909371,  0.12221626,  1.15391864,  0.16166368])"
      ]
     },
     "execution_count": 110,
     "metadata": {},
     "output_type": "execute_result"
    }
   ],
   "source": [
    "s.to_numpy()"
   ]
  },
  {
   "cell_type": "code",
   "execution_count": 111,
   "id": "7afffe88",
   "metadata": {
    "execution": {
     "iopub.execute_input": "2024-07-20T19:16:27.447342Z",
     "iopub.status.busy": "2024-07-20T19:16:27.446893Z",
     "iopub.status.idle": "2024-07-20T19:16:27.454822Z",
     "shell.execute_reply": "2024-07-20T19:16:27.453651Z"
    },
    "papermill": {
     "duration": 0.081907,
     "end_time": "2024-07-20T19:16:27.457513",
     "exception": false,
     "start_time": "2024-07-20T19:16:27.375606",
     "status": "completed"
    },
    "tags": []
   },
   "outputs": [
    {
     "data": {
      "text/plain": [
       "array([-0.1630125 , -0.39909371,  0.12221626,  1.15391864,  0.16166368])"
      ]
     },
     "execution_count": 111,
     "metadata": {},
     "output_type": "execute_result"
    }
   ],
   "source": [
    "np.asarray(s)"
   ]
  },
  {
   "cell_type": "code",
   "execution_count": 112,
   "id": "c27a07f2",
   "metadata": {
    "execution": {
     "iopub.execute_input": "2024-07-20T19:16:27.600489Z",
     "iopub.status.busy": "2024-07-20T19:16:27.600084Z",
     "iopub.status.idle": "2024-07-20T19:16:27.661740Z",
     "shell.execute_reply": "2024-07-20T19:16:27.660570Z"
    },
    "papermill": {
     "duration": 0.138001,
     "end_time": "2024-07-20T19:16:27.664402",
     "exception": false,
     "start_time": "2024-07-20T19:16:27.526401",
     "status": "completed"
    },
    "tags": []
   },
   "outputs": [
    {
     "data": {
      "text/plain": [
       "array([Timestamp('2000-01-01 00:00:00+0100', tz='CET'),\n",
       "       Timestamp('2000-01-02 00:00:00+0100', tz='CET')], dtype=object)"
      ]
     },
     "execution_count": 112,
     "metadata": {},
     "output_type": "execute_result"
    }
   ],
   "source": [
    "ser = pd.Series(pd.date_range(\"2000\", periods=2, tz=\"CET\"))\n",
    "ser.to_numpy(dtype=object)"
   ]
  },
  {
   "cell_type": "code",
   "execution_count": 113,
   "id": "2e5847bb",
   "metadata": {
    "execution": {
     "iopub.execute_input": "2024-07-20T19:16:27.810180Z",
     "iopub.status.busy": "2024-07-20T19:16:27.809735Z",
     "iopub.status.idle": "2024-07-20T19:16:27.815528Z",
     "shell.execute_reply": "2024-07-20T19:16:27.814149Z"
    },
    "papermill": {
     "duration": 0.082673,
     "end_time": "2024-07-20T19:16:27.818236",
     "exception": false,
     "start_time": "2024-07-20T19:16:27.735563",
     "status": "completed"
    },
    "tags": []
   },
   "outputs": [],
   "source": [
    "pd.set_option(\"compute.use_bottleneck\", False)\n",
    "pd.set_option(\"compute.use_numexpr\", False)"
   ]
  },
  {
   "cell_type": "code",
   "execution_count": 114,
   "id": "0558aa0d",
   "metadata": {
    "execution": {
     "iopub.execute_input": "2024-07-20T19:16:27.962516Z",
     "iopub.status.busy": "2024-07-20T19:16:27.962001Z",
     "iopub.status.idle": "2024-07-20T19:16:27.978864Z",
     "shell.execute_reply": "2024-07-20T19:16:27.977661Z"
    },
    "papermill": {
     "duration": 0.091666,
     "end_time": "2024-07-20T19:16:27.981616",
     "exception": false,
     "start_time": "2024-07-20T19:16:27.889950",
     "status": "completed"
    },
    "tags": []
   },
   "outputs": [
    {
     "data": {
      "text/html": [
       "<div>\n",
       "<style scoped>\n",
       "    .dataframe tbody tr th:only-of-type {\n",
       "        vertical-align: middle;\n",
       "    }\n",
       "\n",
       "    .dataframe tbody tr th {\n",
       "        vertical-align: top;\n",
       "    }\n",
       "\n",
       "    .dataframe thead th {\n",
       "        text-align: right;\n",
       "    }\n",
       "</style>\n",
       "<table border=\"1\" class=\"dataframe\">\n",
       "  <thead>\n",
       "    <tr style=\"text-align: right;\">\n",
       "      <th></th>\n",
       "      <th>one</th>\n",
       "      <th>two</th>\n",
       "      <th>three</th>\n",
       "    </tr>\n",
       "  </thead>\n",
       "  <tbody>\n",
       "    <tr>\n",
       "      <th>a</th>\n",
       "      <td>0.125106</td>\n",
       "      <td>0.133597</td>\n",
       "      <td>NaN</td>\n",
       "    </tr>\n",
       "    <tr>\n",
       "      <th>b</th>\n",
       "      <td>-1.473745</td>\n",
       "      <td>-0.495953</td>\n",
       "      <td>-0.791605</td>\n",
       "    </tr>\n",
       "    <tr>\n",
       "      <th>c</th>\n",
       "      <td>-0.294726</td>\n",
       "      <td>1.388725</td>\n",
       "      <td>-0.641793</td>\n",
       "    </tr>\n",
       "    <tr>\n",
       "      <th>d</th>\n",
       "      <td>NaN</td>\n",
       "      <td>1.259341</td>\n",
       "      <td>0.532810</td>\n",
       "    </tr>\n",
       "  </tbody>\n",
       "</table>\n",
       "</div>"
      ],
      "text/plain": [
       "        one       two     three\n",
       "a  0.125106  0.133597       NaN\n",
       "b -1.473745 -0.495953 -0.791605\n",
       "c -0.294726  1.388725 -0.641793\n",
       "d       NaN  1.259341  0.532810"
      ]
     },
     "execution_count": 114,
     "metadata": {},
     "output_type": "execute_result"
    }
   ],
   "source": [
    "df = pd.DataFrame({\n",
    "\"one\": pd.Series(np.random.randn(3), index=[\"a\", \"b\", \"c\"]),\n",
    "\"two\": pd.Series(np.random.randn(4), index=[\"a\", \"b\", \"c\", \"d\"]),\n",
    "\"three\": pd.Series(np.random.randn(3), index=[\"b\", \"c\", \"d\"]),\n",
    "})\n",
    "\n",
    "df"
   ]
  },
  {
   "cell_type": "code",
   "execution_count": 115,
   "id": "c567cbec",
   "metadata": {
    "execution": {
     "iopub.execute_input": "2024-07-20T19:16:28.121451Z",
     "iopub.status.busy": "2024-07-20T19:16:28.121003Z",
     "iopub.status.idle": "2024-07-20T19:16:28.135639Z",
     "shell.execute_reply": "2024-07-20T19:16:28.134438Z"
    },
    "papermill": {
     "duration": 0.088055,
     "end_time": "2024-07-20T19:16:28.138619",
     "exception": false,
     "start_time": "2024-07-20T19:16:28.050564",
     "status": "completed"
    },
    "tags": []
   },
   "outputs": [
    {
     "data": {
      "text/html": [
       "<div>\n",
       "<style scoped>\n",
       "    .dataframe tbody tr th:only-of-type {\n",
       "        vertical-align: middle;\n",
       "    }\n",
       "\n",
       "    .dataframe tbody tr th {\n",
       "        vertical-align: top;\n",
       "    }\n",
       "\n",
       "    .dataframe thead th {\n",
       "        text-align: right;\n",
       "    }\n",
       "</style>\n",
       "<table border=\"1\" class=\"dataframe\">\n",
       "  <thead>\n",
       "    <tr style=\"text-align: right;\">\n",
       "      <th></th>\n",
       "      <th>one</th>\n",
       "      <th>two</th>\n",
       "      <th>three</th>\n",
       "    </tr>\n",
       "  </thead>\n",
       "  <tbody>\n",
       "    <tr>\n",
       "      <th>a</th>\n",
       "      <td>1.598851</td>\n",
       "      <td>0.629550</td>\n",
       "      <td>NaN</td>\n",
       "    </tr>\n",
       "    <tr>\n",
       "      <th>b</th>\n",
       "      <td>0.000000</td>\n",
       "      <td>0.000000</td>\n",
       "      <td>0.000000</td>\n",
       "    </tr>\n",
       "    <tr>\n",
       "      <th>c</th>\n",
       "      <td>1.179019</td>\n",
       "      <td>1.884678</td>\n",
       "      <td>0.149812</td>\n",
       "    </tr>\n",
       "    <tr>\n",
       "      <th>d</th>\n",
       "      <td>NaN</td>\n",
       "      <td>1.755294</td>\n",
       "      <td>1.324415</td>\n",
       "    </tr>\n",
       "  </tbody>\n",
       "</table>\n",
       "</div>"
      ],
      "text/plain": [
       "        one       two     three\n",
       "a  1.598851  0.629550       NaN\n",
       "b  0.000000  0.000000  0.000000\n",
       "c  1.179019  1.884678  0.149812\n",
       "d       NaN  1.755294  1.324415"
      ]
     },
     "execution_count": 115,
     "metadata": {},
     "output_type": "execute_result"
    }
   ],
   "source": [
    "row = df.iloc[1]\n",
    "column = df[\"two\"]\n",
    "df.sub(row, axis=\"columns\")"
   ]
  },
  {
   "cell_type": "code",
   "execution_count": 116,
   "id": "9723d198",
   "metadata": {
    "execution": {
     "iopub.execute_input": "2024-07-20T19:16:28.282462Z",
     "iopub.status.busy": "2024-07-20T19:16:28.280998Z",
     "iopub.status.idle": "2024-07-20T19:16:28.294921Z",
     "shell.execute_reply": "2024-07-20T19:16:28.293751Z"
    },
    "papermill": {
     "duration": 0.087561,
     "end_time": "2024-07-20T19:16:28.297580",
     "exception": false,
     "start_time": "2024-07-20T19:16:28.210019",
     "status": "completed"
    },
    "tags": []
   },
   "outputs": [
    {
     "data": {
      "text/html": [
       "<div>\n",
       "<style scoped>\n",
       "    .dataframe tbody tr th:only-of-type {\n",
       "        vertical-align: middle;\n",
       "    }\n",
       "\n",
       "    .dataframe tbody tr th {\n",
       "        vertical-align: top;\n",
       "    }\n",
       "\n",
       "    .dataframe thead th {\n",
       "        text-align: right;\n",
       "    }\n",
       "</style>\n",
       "<table border=\"1\" class=\"dataframe\">\n",
       "  <thead>\n",
       "    <tr style=\"text-align: right;\">\n",
       "      <th></th>\n",
       "      <th>one</th>\n",
       "      <th>two</th>\n",
       "      <th>three</th>\n",
       "    </tr>\n",
       "  </thead>\n",
       "  <tbody>\n",
       "    <tr>\n",
       "      <th>a</th>\n",
       "      <td>1.598851</td>\n",
       "      <td>0.629550</td>\n",
       "      <td>NaN</td>\n",
       "    </tr>\n",
       "    <tr>\n",
       "      <th>b</th>\n",
       "      <td>0.000000</td>\n",
       "      <td>0.000000</td>\n",
       "      <td>0.000000</td>\n",
       "    </tr>\n",
       "    <tr>\n",
       "      <th>c</th>\n",
       "      <td>1.179019</td>\n",
       "      <td>1.884678</td>\n",
       "      <td>0.149812</td>\n",
       "    </tr>\n",
       "    <tr>\n",
       "      <th>d</th>\n",
       "      <td>NaN</td>\n",
       "      <td>1.755294</td>\n",
       "      <td>1.324415</td>\n",
       "    </tr>\n",
       "  </tbody>\n",
       "</table>\n",
       "</div>"
      ],
      "text/plain": [
       "        one       two     three\n",
       "a  1.598851  0.629550       NaN\n",
       "b  0.000000  0.000000  0.000000\n",
       "c  1.179019  1.884678  0.149812\n",
       "d       NaN  1.755294  1.324415"
      ]
     },
     "execution_count": 116,
     "metadata": {},
     "output_type": "execute_result"
    }
   ],
   "source": [
    "df.sub(row, axis=1)"
   ]
  },
  {
   "cell_type": "code",
   "execution_count": 117,
   "id": "ad9ca9f6",
   "metadata": {
    "execution": {
     "iopub.execute_input": "2024-07-20T19:16:28.505865Z",
     "iopub.status.busy": "2024-07-20T19:16:28.505295Z",
     "iopub.status.idle": "2024-07-20T19:16:28.519309Z",
     "shell.execute_reply": "2024-07-20T19:16:28.518034Z"
    },
    "papermill": {
     "duration": 0.08861,
     "end_time": "2024-07-20T19:16:28.521869",
     "exception": false,
     "start_time": "2024-07-20T19:16:28.433259",
     "status": "completed"
    },
    "tags": []
   },
   "outputs": [
    {
     "data": {
      "text/html": [
       "<div>\n",
       "<style scoped>\n",
       "    .dataframe tbody tr th:only-of-type {\n",
       "        vertical-align: middle;\n",
       "    }\n",
       "\n",
       "    .dataframe tbody tr th {\n",
       "        vertical-align: top;\n",
       "    }\n",
       "\n",
       "    .dataframe thead th {\n",
       "        text-align: right;\n",
       "    }\n",
       "</style>\n",
       "<table border=\"1\" class=\"dataframe\">\n",
       "  <thead>\n",
       "    <tr style=\"text-align: right;\">\n",
       "      <th></th>\n",
       "      <th>one</th>\n",
       "      <th>two</th>\n",
       "      <th>three</th>\n",
       "    </tr>\n",
       "  </thead>\n",
       "  <tbody>\n",
       "    <tr>\n",
       "      <th>a</th>\n",
       "      <td>-0.008491</td>\n",
       "      <td>0.0</td>\n",
       "      <td>NaN</td>\n",
       "    </tr>\n",
       "    <tr>\n",
       "      <th>b</th>\n",
       "      <td>-0.977792</td>\n",
       "      <td>0.0</td>\n",
       "      <td>-0.295652</td>\n",
       "    </tr>\n",
       "    <tr>\n",
       "      <th>c</th>\n",
       "      <td>-1.683451</td>\n",
       "      <td>0.0</td>\n",
       "      <td>-2.030518</td>\n",
       "    </tr>\n",
       "    <tr>\n",
       "      <th>d</th>\n",
       "      <td>NaN</td>\n",
       "      <td>0.0</td>\n",
       "      <td>-0.726531</td>\n",
       "    </tr>\n",
       "  </tbody>\n",
       "</table>\n",
       "</div>"
      ],
      "text/plain": [
       "        one  two     three\n",
       "a -0.008491  0.0       NaN\n",
       "b -0.977792  0.0 -0.295652\n",
       "c -1.683451  0.0 -2.030518\n",
       "d       NaN  0.0 -0.726531"
      ]
     },
     "execution_count": 117,
     "metadata": {},
     "output_type": "execute_result"
    }
   ],
   "source": [
    "df.sub(column, axis=\"index\")"
   ]
  },
  {
   "cell_type": "code",
   "execution_count": 118,
   "id": "a6cd798e",
   "metadata": {
    "execution": {
     "iopub.execute_input": "2024-07-20T19:16:28.667333Z",
     "iopub.status.busy": "2024-07-20T19:16:28.666841Z",
     "iopub.status.idle": "2024-07-20T19:16:28.680477Z",
     "shell.execute_reply": "2024-07-20T19:16:28.679215Z"
    },
    "papermill": {
     "duration": 0.089522,
     "end_time": "2024-07-20T19:16:28.683359",
     "exception": false,
     "start_time": "2024-07-20T19:16:28.593837",
     "status": "completed"
    },
    "tags": []
   },
   "outputs": [
    {
     "data": {
      "text/html": [
       "<div>\n",
       "<style scoped>\n",
       "    .dataframe tbody tr th:only-of-type {\n",
       "        vertical-align: middle;\n",
       "    }\n",
       "\n",
       "    .dataframe tbody tr th {\n",
       "        vertical-align: top;\n",
       "    }\n",
       "\n",
       "    .dataframe thead th {\n",
       "        text-align: right;\n",
       "    }\n",
       "</style>\n",
       "<table border=\"1\" class=\"dataframe\">\n",
       "  <thead>\n",
       "    <tr style=\"text-align: right;\">\n",
       "      <th></th>\n",
       "      <th>one</th>\n",
       "      <th>two</th>\n",
       "      <th>three</th>\n",
       "    </tr>\n",
       "  </thead>\n",
       "  <tbody>\n",
       "    <tr>\n",
       "      <th>a</th>\n",
       "      <td>-0.008491</td>\n",
       "      <td>0.0</td>\n",
       "      <td>NaN</td>\n",
       "    </tr>\n",
       "    <tr>\n",
       "      <th>b</th>\n",
       "      <td>-0.977792</td>\n",
       "      <td>0.0</td>\n",
       "      <td>-0.295652</td>\n",
       "    </tr>\n",
       "    <tr>\n",
       "      <th>c</th>\n",
       "      <td>-1.683451</td>\n",
       "      <td>0.0</td>\n",
       "      <td>-2.030518</td>\n",
       "    </tr>\n",
       "    <tr>\n",
       "      <th>d</th>\n",
       "      <td>NaN</td>\n",
       "      <td>0.0</td>\n",
       "      <td>-0.726531</td>\n",
       "    </tr>\n",
       "  </tbody>\n",
       "</table>\n",
       "</div>"
      ],
      "text/plain": [
       "        one  two     three\n",
       "a -0.008491  0.0       NaN\n",
       "b -0.977792  0.0 -0.295652\n",
       "c -1.683451  0.0 -2.030518\n",
       "d       NaN  0.0 -0.726531"
      ]
     },
     "execution_count": 118,
     "metadata": {},
     "output_type": "execute_result"
    }
   ],
   "source": [
    "df.sub(column, axis=0)"
   ]
  },
  {
   "cell_type": "code",
   "execution_count": 119,
   "id": "421a4fcf",
   "metadata": {
    "execution": {
     "iopub.execute_input": "2024-07-20T19:16:28.830253Z",
     "iopub.status.busy": "2024-07-20T19:16:28.829788Z",
     "iopub.status.idle": "2024-07-20T19:16:28.849254Z",
     "shell.execute_reply": "2024-07-20T19:16:28.848021Z"
    },
    "papermill": {
     "duration": 0.095796,
     "end_time": "2024-07-20T19:16:28.852407",
     "exception": false,
     "start_time": "2024-07-20T19:16:28.756611",
     "status": "completed"
    },
    "tags": []
   },
   "outputs": [
    {
     "data": {
      "text/html": [
       "<div>\n",
       "<style scoped>\n",
       "    .dataframe tbody tr th:only-of-type {\n",
       "        vertical-align: middle;\n",
       "    }\n",
       "\n",
       "    .dataframe tbody tr th {\n",
       "        vertical-align: top;\n",
       "    }\n",
       "\n",
       "    .dataframe thead th {\n",
       "        text-align: right;\n",
       "    }\n",
       "</style>\n",
       "<table border=\"1\" class=\"dataframe\">\n",
       "  <thead>\n",
       "    <tr style=\"text-align: right;\">\n",
       "      <th></th>\n",
       "      <th></th>\n",
       "      <th>one</th>\n",
       "      <th>two</th>\n",
       "      <th>three</th>\n",
       "    </tr>\n",
       "    <tr>\n",
       "      <th>first</th>\n",
       "      <th>second</th>\n",
       "      <th></th>\n",
       "      <th></th>\n",
       "      <th></th>\n",
       "    </tr>\n",
       "  </thead>\n",
       "  <tbody>\n",
       "    <tr>\n",
       "      <th rowspan=\"3\" valign=\"top\">1</th>\n",
       "      <th>a</th>\n",
       "      <td>-0.008491</td>\n",
       "      <td>0.000000</td>\n",
       "      <td>NaN</td>\n",
       "    </tr>\n",
       "    <tr>\n",
       "      <th>b</th>\n",
       "      <td>-0.977792</td>\n",
       "      <td>0.000000</td>\n",
       "      <td>-0.295652</td>\n",
       "    </tr>\n",
       "    <tr>\n",
       "      <th>c</th>\n",
       "      <td>-1.683451</td>\n",
       "      <td>0.000000</td>\n",
       "      <td>-2.030518</td>\n",
       "    </tr>\n",
       "    <tr>\n",
       "      <th>2</th>\n",
       "      <th>a</th>\n",
       "      <td>NaN</td>\n",
       "      <td>1.125743</td>\n",
       "      <td>0.399212</td>\n",
       "    </tr>\n",
       "  </tbody>\n",
       "</table>\n",
       "</div>"
      ],
      "text/plain": [
       "                   one       two  \\\n",
       "first second                       \n",
       "1     a      -0.008491  0.000000   \n",
       "      b      -0.977792  0.000000   \n",
       "      c      -1.683451  0.000000   \n",
       "2     a            NaN  1.125743   \n",
       "\n",
       "                 three  \n",
       "first second            \n",
       "1     a            NaN  \n",
       "      b      -0.295652  \n",
       "      c      -2.030518  \n",
       "2     a       0.399212  "
      ]
     },
     "execution_count": 119,
     "metadata": {},
     "output_type": "execute_result"
    }
   ],
   "source": [
    "dfmi = df.copy()\n",
    "In [27]: dfmi.index = pd.MultiIndex.from_tuples(\n",
    "[(1, \"a\"), (1, \"b\"), (1, \"c\"), (2, \"a\")], names=[\"first\", \"second\"]\n",
    ")\n",
    "\n",
    "dfmi.sub(column, axis=0, level=\"second\")"
   ]
  },
  {
   "cell_type": "code",
   "execution_count": 120,
   "id": "c33157d9",
   "metadata": {
    "execution": {
     "iopub.execute_input": "2024-07-20T19:16:28.995822Z",
     "iopub.status.busy": "2024-07-20T19:16:28.995400Z",
     "iopub.status.idle": "2024-07-20T19:16:29.004693Z",
     "shell.execute_reply": "2024-07-20T19:16:29.003219Z"
    },
    "papermill": {
     "duration": 0.08378,
     "end_time": "2024-07-20T19:16:29.007508",
     "exception": false,
     "start_time": "2024-07-20T19:16:28.923728",
     "status": "completed"
    },
    "tags": []
   },
   "outputs": [
    {
     "data": {
      "text/plain": [
       "0    0\n",
       "1    1\n",
       "2    2\n",
       "3    3\n",
       "4    4\n",
       "5    5\n",
       "6    6\n",
       "7    7\n",
       "8    8\n",
       "9    9\n",
       "dtype: int64"
      ]
     },
     "execution_count": 120,
     "metadata": {},
     "output_type": "execute_result"
    }
   ],
   "source": [
    "pd.Series(np.arange(10))"
   ]
  },
  {
   "cell_type": "code",
   "execution_count": 121,
   "id": "6c14fac4",
   "metadata": {
    "execution": {
     "iopub.execute_input": "2024-07-20T19:16:29.154285Z",
     "iopub.status.busy": "2024-07-20T19:16:29.153819Z",
     "iopub.status.idle": "2024-07-20T19:16:29.167776Z",
     "shell.execute_reply": "2024-07-20T19:16:29.166546Z"
    },
    "papermill": {
     "duration": 0.090151,
     "end_time": "2024-07-20T19:16:29.170224",
     "exception": false,
     "start_time": "2024-07-20T19:16:29.080073",
     "status": "completed"
    },
    "tags": []
   },
   "outputs": [
    {
     "data": {
      "text/html": [
       "<div>\n",
       "<style scoped>\n",
       "    .dataframe tbody tr th:only-of-type {\n",
       "        vertical-align: middle;\n",
       "    }\n",
       "\n",
       "    .dataframe tbody tr th {\n",
       "        vertical-align: top;\n",
       "    }\n",
       "\n",
       "    .dataframe thead th {\n",
       "        text-align: right;\n",
       "    }\n",
       "</style>\n",
       "<table border=\"1\" class=\"dataframe\">\n",
       "  <thead>\n",
       "    <tr style=\"text-align: right;\">\n",
       "      <th></th>\n",
       "      <th>one</th>\n",
       "      <th>two</th>\n",
       "      <th>three</th>\n",
       "    </tr>\n",
       "  </thead>\n",
       "  <tbody>\n",
       "    <tr>\n",
       "      <th>a</th>\n",
       "      <td>0.0</td>\n",
       "      <td>0.0</td>\n",
       "      <td>NaN</td>\n",
       "    </tr>\n",
       "    <tr>\n",
       "      <th>b</th>\n",
       "      <td>-1.0</td>\n",
       "      <td>-1.0</td>\n",
       "      <td>-1.0</td>\n",
       "    </tr>\n",
       "    <tr>\n",
       "      <th>c</th>\n",
       "      <td>-1.0</td>\n",
       "      <td>0.0</td>\n",
       "      <td>-1.0</td>\n",
       "    </tr>\n",
       "    <tr>\n",
       "      <th>d</th>\n",
       "      <td>NaN</td>\n",
       "      <td>0.0</td>\n",
       "      <td>0.0</td>\n",
       "    </tr>\n",
       "  </tbody>\n",
       "</table>\n",
       "</div>"
      ],
      "text/plain": [
       "   one  two  three\n",
       "a  0.0  0.0    NaN\n",
       "b -1.0 -1.0   -1.0\n",
       "c -1.0  0.0   -1.0\n",
       "d  NaN  0.0    0.0"
      ]
     },
     "execution_count": 121,
     "metadata": {},
     "output_type": "execute_result"
    }
   ],
   "source": [
    "div, rem = divmod(df,3)\n",
    "div"
   ]
  },
  {
   "cell_type": "code",
   "execution_count": 122,
   "id": "21638061",
   "metadata": {
    "execution": {
     "iopub.execute_input": "2024-07-20T19:16:29.315907Z",
     "iopub.status.busy": "2024-07-20T19:16:29.315493Z",
     "iopub.status.idle": "2024-07-20T19:16:29.323796Z",
     "shell.execute_reply": "2024-07-20T19:16:29.322649Z"
    },
    "papermill": {
     "duration": 0.084392,
     "end_time": "2024-07-20T19:16:29.326426",
     "exception": false,
     "start_time": "2024-07-20T19:16:29.242034",
     "status": "completed"
    },
    "tags": []
   },
   "outputs": [
    {
     "data": {
      "text/plain": [
       "Int64Index([0, 1, 2, 3, 4, 5, 6, 7, 8,\n",
       "            9],\n",
       "           dtype='int64')"
      ]
     },
     "execution_count": 122,
     "metadata": {},
     "output_type": "execute_result"
    }
   ],
   "source": [
    "idx = pd.Index(np.arange(10))\n",
    "idx"
   ]
  },
  {
   "cell_type": "code",
   "execution_count": 123,
   "id": "782bbd75",
   "metadata": {
    "execution": {
     "iopub.execute_input": "2024-07-20T19:16:29.473312Z",
     "iopub.status.busy": "2024-07-20T19:16:29.472257Z",
     "iopub.status.idle": "2024-07-20T19:16:29.481116Z",
     "shell.execute_reply": "2024-07-20T19:16:29.479836Z"
    },
    "papermill": {
     "duration": 0.084013,
     "end_time": "2024-07-20T19:16:29.483853",
     "exception": false,
     "start_time": "2024-07-20T19:16:29.399840",
     "status": "completed"
    },
    "tags": []
   },
   "outputs": [
    {
     "data": {
      "text/plain": [
       "Int64Index([0, 0, 0, 1, 1, 1, 2, 2, 2,\n",
       "            3],\n",
       "           dtype='int64')"
      ]
     },
     "execution_count": 123,
     "metadata": {},
     "output_type": "execute_result"
    }
   ],
   "source": [
    "div, rem = divmod(idx, 3)\n",
    "div"
   ]
  },
  {
   "cell_type": "code",
   "execution_count": 124,
   "id": "bb437691",
   "metadata": {
    "execution": {
     "iopub.execute_input": "2024-07-20T19:16:29.632120Z",
     "iopub.status.busy": "2024-07-20T19:16:29.631673Z",
     "iopub.status.idle": "2024-07-20T19:16:29.644610Z",
     "shell.execute_reply": "2024-07-20T19:16:29.643228Z"
    },
    "papermill": {
     "duration": 0.090414,
     "end_time": "2024-07-20T19:16:29.647208",
     "exception": false,
     "start_time": "2024-07-20T19:16:29.556794",
     "status": "completed"
    },
    "tags": []
   },
   "outputs": [
    {
     "data": {
      "text/html": [
       "<div>\n",
       "<style scoped>\n",
       "    .dataframe tbody tr th:only-of-type {\n",
       "        vertical-align: middle;\n",
       "    }\n",
       "\n",
       "    .dataframe tbody tr th {\n",
       "        vertical-align: top;\n",
       "    }\n",
       "\n",
       "    .dataframe thead th {\n",
       "        text-align: right;\n",
       "    }\n",
       "</style>\n",
       "<table border=\"1\" class=\"dataframe\">\n",
       "  <thead>\n",
       "    <tr style=\"text-align: right;\">\n",
       "      <th></th>\n",
       "      <th>one</th>\n",
       "      <th>two</th>\n",
       "      <th>three</th>\n",
       "    </tr>\n",
       "  </thead>\n",
       "  <tbody>\n",
       "    <tr>\n",
       "      <th>a</th>\n",
       "      <td>False</td>\n",
       "      <td>False</td>\n",
       "      <td>False</td>\n",
       "    </tr>\n",
       "    <tr>\n",
       "      <th>b</th>\n",
       "      <td>False</td>\n",
       "      <td>False</td>\n",
       "      <td>False</td>\n",
       "    </tr>\n",
       "    <tr>\n",
       "      <th>c</th>\n",
       "      <td>False</td>\n",
       "      <td>False</td>\n",
       "      <td>False</td>\n",
       "    </tr>\n",
       "    <tr>\n",
       "      <th>d</th>\n",
       "      <td>False</td>\n",
       "      <td>False</td>\n",
       "      <td>False</td>\n",
       "    </tr>\n",
       "  </tbody>\n",
       "</table>\n",
       "</div>"
      ],
      "text/plain": [
       "     one    two  three\n",
       "a  False  False  False\n",
       "b  False  False  False\n",
       "c  False  False  False\n",
       "d  False  False  False"
      ]
     },
     "execution_count": 124,
     "metadata": {},
     "output_type": "execute_result"
    }
   ],
   "source": [
    "df.gt(df)"
   ]
  },
  {
   "cell_type": "code",
   "execution_count": 125,
   "id": "3004dd13",
   "metadata": {
    "execution": {
     "iopub.execute_input": "2024-07-20T19:16:29.796381Z",
     "iopub.status.busy": "2024-07-20T19:16:29.795922Z",
     "iopub.status.idle": "2024-07-20T19:16:29.806404Z",
     "shell.execute_reply": "2024-07-20T19:16:29.805179Z"
    },
    "papermill": {
     "duration": 0.088562,
     "end_time": "2024-07-20T19:16:29.809087",
     "exception": false,
     "start_time": "2024-07-20T19:16:29.720525",
     "status": "completed"
    },
    "tags": []
   },
   "outputs": [
    {
     "data": {
      "text/plain": [
       "one      False\n",
       "two      False\n",
       "three    False\n",
       "dtype: bool"
      ]
     },
     "execution_count": 125,
     "metadata": {},
     "output_type": "execute_result"
    }
   ],
   "source": [
    "(df > 0).all()"
   ]
  },
  {
   "cell_type": "code",
   "execution_count": 126,
   "id": "93f59888",
   "metadata": {
    "execution": {
     "iopub.execute_input": "2024-07-20T19:16:29.955008Z",
     "iopub.status.busy": "2024-07-20T19:16:29.954622Z",
     "iopub.status.idle": "2024-07-20T19:16:29.964320Z",
     "shell.execute_reply": "2024-07-20T19:16:29.963146Z"
    },
    "papermill": {
     "duration": 0.085156,
     "end_time": "2024-07-20T19:16:29.966995",
     "exception": false,
     "start_time": "2024-07-20T19:16:29.881839",
     "status": "completed"
    },
    "tags": []
   },
   "outputs": [
    {
     "data": {
      "text/plain": [
       "one      True\n",
       "two      True\n",
       "three    True\n",
       "dtype: bool"
      ]
     },
     "execution_count": 126,
     "metadata": {},
     "output_type": "execute_result"
    }
   ],
   "source": [
    "(df > 0).any()"
   ]
  },
  {
   "cell_type": "code",
   "execution_count": 127,
   "id": "55be4d6e",
   "metadata": {
    "execution": {
     "iopub.execute_input": "2024-07-20T19:16:30.113752Z",
     "iopub.status.busy": "2024-07-20T19:16:30.113375Z",
     "iopub.status.idle": "2024-07-20T19:16:30.122799Z",
     "shell.execute_reply": "2024-07-20T19:16:30.121616Z"
    },
    "papermill": {
     "duration": 0.085169,
     "end_time": "2024-07-20T19:16:30.125496",
     "exception": false,
     "start_time": "2024-07-20T19:16:30.040327",
     "status": "completed"
    },
    "tags": []
   },
   "outputs": [
    {
     "data": {
      "text/plain": [
       "True"
      ]
     },
     "execution_count": 127,
     "metadata": {},
     "output_type": "execute_result"
    }
   ],
   "source": [
    "(df > 0).any().any()"
   ]
  },
  {
   "cell_type": "code",
   "execution_count": 128,
   "id": "cc54796e",
   "metadata": {
    "execution": {
     "iopub.execute_input": "2024-07-20T19:16:30.272244Z",
     "iopub.status.busy": "2024-07-20T19:16:30.271784Z",
     "iopub.status.idle": "2024-07-20T19:16:30.285079Z",
     "shell.execute_reply": "2024-07-20T19:16:30.283589Z"
    },
    "papermill": {
     "duration": 0.090331,
     "end_time": "2024-07-20T19:16:30.288160",
     "exception": false,
     "start_time": "2024-07-20T19:16:30.197829",
     "status": "completed"
    },
    "tags": []
   },
   "outputs": [
    {
     "data": {
      "text/plain": [
       "True"
      ]
     },
     "execution_count": 128,
     "metadata": {},
     "output_type": "execute_result"
    }
   ],
   "source": [
    "pd.DataFrame(columns=list(\"ABC\")).empty"
   ]
  },
  {
   "cell_type": "code",
   "execution_count": 129,
   "id": "16cce9b4",
   "metadata": {
    "execution": {
     "iopub.execute_input": "2024-07-20T19:16:30.441326Z",
     "iopub.status.busy": "2024-07-20T19:16:30.440903Z",
     "iopub.status.idle": "2024-07-20T19:16:30.451559Z",
     "shell.execute_reply": "2024-07-20T19:16:30.450477Z"
    },
    "papermill": {
     "duration": 0.090198,
     "end_time": "2024-07-20T19:16:30.454073",
     "exception": false,
     "start_time": "2024-07-20T19:16:30.363875",
     "status": "completed"
    },
    "tags": []
   },
   "outputs": [
    {
     "data": {
      "text/plain": [
       "one      False\n",
       "two       True\n",
       "three    False\n",
       "dtype: bool"
      ]
     },
     "execution_count": 129,
     "metadata": {},
     "output_type": "execute_result"
    }
   ],
   "source": [
    "(df + df == df * 2).all()"
   ]
  },
  {
   "cell_type": "code",
   "execution_count": 130,
   "id": "4ee6e4ca",
   "metadata": {
    "execution": {
     "iopub.execute_input": "2024-07-20T19:16:30.608064Z",
     "iopub.status.busy": "2024-07-20T19:16:30.607643Z",
     "iopub.status.idle": "2024-07-20T19:16:30.617531Z",
     "shell.execute_reply": "2024-07-20T19:16:30.615690Z"
    },
    "papermill": {
     "duration": 0.094675,
     "end_time": "2024-07-20T19:16:30.621022",
     "exception": false,
     "start_time": "2024-07-20T19:16:30.526347",
     "status": "completed"
    },
    "tags": []
   },
   "outputs": [
    {
     "data": {
      "text/plain": [
       "True"
      ]
     },
     "execution_count": 130,
     "metadata": {},
     "output_type": "execute_result"
    }
   ],
   "source": [
    "(df + df).equals(df * 2)"
   ]
  },
  {
   "cell_type": "code",
   "execution_count": 131,
   "id": "827866af",
   "metadata": {
    "execution": {
     "iopub.execute_input": "2024-07-20T19:16:30.785428Z",
     "iopub.status.busy": "2024-07-20T19:16:30.784875Z",
     "iopub.status.idle": "2024-07-20T19:16:30.796061Z",
     "shell.execute_reply": "2024-07-20T19:16:30.794694Z"
    },
    "papermill": {
     "duration": 0.089616,
     "end_time": "2024-07-20T19:16:30.798580",
     "exception": false,
     "start_time": "2024-07-20T19:16:30.708964",
     "status": "completed"
    },
    "tags": []
   },
   "outputs": [
    {
     "data": {
      "text/plain": [
       "False"
      ]
     },
     "execution_count": 131,
     "metadata": {},
     "output_type": "execute_result"
    }
   ],
   "source": [
    "df1 = pd.DataFrame({\"col\": [\"foo\", 0, np.nan]})\n",
    "df2 = pd.DataFrame({\"col\": [np.nan, 0, \"foo\"]}, index=[2, 1, 0])\n",
    "df1.equals(df2)"
   ]
  },
  {
   "cell_type": "code",
   "execution_count": 132,
   "id": "7ff26f45",
   "metadata": {
    "execution": {
     "iopub.execute_input": "2024-07-20T19:16:30.946997Z",
     "iopub.status.busy": "2024-07-20T19:16:30.946561Z",
     "iopub.status.idle": "2024-07-20T19:16:30.956309Z",
     "shell.execute_reply": "2024-07-20T19:16:30.955168Z"
    },
    "papermill": {
     "duration": 0.085768,
     "end_time": "2024-07-20T19:16:30.958990",
     "exception": false,
     "start_time": "2024-07-20T19:16:30.873222",
     "status": "completed"
    },
    "tags": []
   },
   "outputs": [
    {
     "data": {
      "text/plain": [
       "0     True\n",
       "1    False\n",
       "2    False\n",
       "dtype: bool"
      ]
     },
     "execution_count": 132,
     "metadata": {},
     "output_type": "execute_result"
    }
   ],
   "source": [
    "pd.Series([\"foo\", \"bar\", \"baz\"]) == \"foo\""
   ]
  },
  {
   "cell_type": "code",
   "execution_count": 133,
   "id": "031ef72a",
   "metadata": {
    "execution": {
     "iopub.execute_input": "2024-07-20T19:16:31.107512Z",
     "iopub.status.busy": "2024-07-20T19:16:31.107041Z",
     "iopub.status.idle": "2024-07-20T19:16:31.115365Z",
     "shell.execute_reply": "2024-07-20T19:16:31.114262Z"
    },
    "papermill": {
     "duration": 0.085772,
     "end_time": "2024-07-20T19:16:31.117985",
     "exception": false,
     "start_time": "2024-07-20T19:16:31.032213",
     "status": "completed"
    },
    "tags": []
   },
   "outputs": [
    {
     "data": {
      "text/plain": [
       "array([ True, False, False])"
      ]
     },
     "execution_count": 133,
     "metadata": {},
     "output_type": "execute_result"
    }
   ],
   "source": [
    "pd.Index([\"foo\", \"bar\", \"baz\"]) == \"foo\""
   ]
  },
  {
   "cell_type": "code",
   "execution_count": 134,
   "id": "8a7e3c74",
   "metadata": {
    "execution": {
     "iopub.execute_input": "2024-07-20T19:16:31.266687Z",
     "iopub.status.busy": "2024-07-20T19:16:31.266233Z",
     "iopub.status.idle": "2024-07-20T19:16:31.275761Z",
     "shell.execute_reply": "2024-07-20T19:16:31.274621Z"
    },
    "papermill": {
     "duration": 0.086821,
     "end_time": "2024-07-20T19:16:31.278359",
     "exception": false,
     "start_time": "2024-07-20T19:16:31.191538",
     "status": "completed"
    },
    "tags": []
   },
   "outputs": [
    {
     "data": {
      "text/plain": [
       "0     True\n",
       "1     True\n",
       "2    False\n",
       "dtype: bool"
      ]
     },
     "execution_count": 134,
     "metadata": {},
     "output_type": "execute_result"
    }
   ],
   "source": [
    "pd.Series([\"foo\", \"bar\", \"baz\"]) == pd.Index([\"foo\", \"bar\", \"qux\"])"
   ]
  },
  {
   "cell_type": "code",
   "execution_count": 135,
   "id": "792db815",
   "metadata": {
    "execution": {
     "iopub.execute_input": "2024-07-20T19:16:31.426578Z",
     "iopub.status.busy": "2024-07-20T19:16:31.426128Z",
     "iopub.status.idle": "2024-07-20T19:16:31.435556Z",
     "shell.execute_reply": "2024-07-20T19:16:31.434432Z"
    },
    "papermill": {
     "duration": 0.087481,
     "end_time": "2024-07-20T19:16:31.438241",
     "exception": false,
     "start_time": "2024-07-20T19:16:31.350760",
     "status": "completed"
    },
    "tags": []
   },
   "outputs": [
    {
     "data": {
      "text/plain": [
       "0     True\n",
       "1     True\n",
       "2    False\n",
       "dtype: bool"
      ]
     },
     "execution_count": 135,
     "metadata": {},
     "output_type": "execute_result"
    }
   ],
   "source": [
    "pd.Series([\"foo\", \"bar\", \"baz\"]) == np.array([\"foo\", \"bar\", \"qux\"])"
   ]
  },
  {
   "cell_type": "code",
   "execution_count": 136,
   "id": "46da83ab",
   "metadata": {
    "execution": {
     "iopub.execute_input": "2024-07-20T19:16:31.588361Z",
     "iopub.status.busy": "2024-07-20T19:16:31.587935Z",
     "iopub.status.idle": "2024-07-20T19:16:31.595669Z",
     "shell.execute_reply": "2024-07-20T19:16:31.594526Z"
    },
    "papermill": {
     "duration": 0.086052,
     "end_time": "2024-07-20T19:16:31.598376",
     "exception": false,
     "start_time": "2024-07-20T19:16:31.512324",
     "status": "completed"
    },
    "tags": []
   },
   "outputs": [
    {
     "data": {
      "text/plain": [
       "array([False,  True, False])"
      ]
     },
     "execution_count": 136,
     "metadata": {},
     "output_type": "execute_result"
    }
   ],
   "source": [
    "np.array([1, 2, 3]) == np.array([2])"
   ]
  },
  {
   "cell_type": "code",
   "execution_count": 137,
   "id": "88d77f05",
   "metadata": {
    "execution": {
     "iopub.execute_input": "2024-07-20T19:16:31.750265Z",
     "iopub.status.busy": "2024-07-20T19:16:31.749806Z",
     "iopub.status.idle": "2024-07-20T19:16:31.766249Z",
     "shell.execute_reply": "2024-07-20T19:16:31.765072Z"
    },
    "papermill": {
     "duration": 0.09482,
     "end_time": "2024-07-20T19:16:31.768839",
     "exception": false,
     "start_time": "2024-07-20T19:16:31.674019",
     "status": "completed"
    },
    "tags": []
   },
   "outputs": [
    {
     "data": {
      "text/html": [
       "<div>\n",
       "<style scoped>\n",
       "    .dataframe tbody tr th:only-of-type {\n",
       "        vertical-align: middle;\n",
       "    }\n",
       "\n",
       "    .dataframe tbody tr th {\n",
       "        vertical-align: top;\n",
       "    }\n",
       "\n",
       "    .dataframe thead th {\n",
       "        text-align: right;\n",
       "    }\n",
       "</style>\n",
       "<table border=\"1\" class=\"dataframe\">\n",
       "  <thead>\n",
       "    <tr style=\"text-align: right;\">\n",
       "      <th></th>\n",
       "      <th>A</th>\n",
       "      <th>B</th>\n",
       "    </tr>\n",
       "  </thead>\n",
       "  <tbody>\n",
       "    <tr>\n",
       "      <th>0</th>\n",
       "      <td>1.0</td>\n",
       "      <td>NaN</td>\n",
       "    </tr>\n",
       "    <tr>\n",
       "      <th>1</th>\n",
       "      <td>NaN</td>\n",
       "      <td>2.0</td>\n",
       "    </tr>\n",
       "    <tr>\n",
       "      <th>2</th>\n",
       "      <td>3.0</td>\n",
       "      <td>3.0</td>\n",
       "    </tr>\n",
       "    <tr>\n",
       "      <th>3</th>\n",
       "      <td>5.0</td>\n",
       "      <td>NaN</td>\n",
       "    </tr>\n",
       "    <tr>\n",
       "      <th>4</th>\n",
       "      <td>NaN</td>\n",
       "      <td>6.0</td>\n",
       "    </tr>\n",
       "  </tbody>\n",
       "</table>\n",
       "</div>"
      ],
      "text/plain": [
       "     A    B\n",
       "0  1.0  NaN\n",
       "1  NaN  2.0\n",
       "2  3.0  3.0\n",
       "3  5.0  NaN\n",
       "4  NaN  6.0"
      ]
     },
     "execution_count": 137,
     "metadata": {},
     "output_type": "execute_result"
    }
   ],
   "source": [
    "df1 = pd.DataFrame(\n",
    "{\"A\": [1.0, np.nan, 3.0, 5.0, np.nan], \"B\": [np.nan, 2.0, 3.0, np.nan, 6.0]}\n",
    ")\n",
    "\n",
    "df2 = pd.DataFrame({\n",
    "\"A\": [5.0, 2.0, 4.0, np.nan, 3.0, 7.0],\n",
    "\"B\": [np.nan, np.nan, 3.0, 4.0, 6.0, 8.0],\n",
    "})\n",
    "\n",
    "df1"
   ]
  },
  {
   "cell_type": "code",
   "execution_count": 138,
   "id": "e27ab049",
   "metadata": {
    "execution": {
     "iopub.execute_input": "2024-07-20T19:16:31.920840Z",
     "iopub.status.busy": "2024-07-20T19:16:31.920363Z",
     "iopub.status.idle": "2024-07-20T19:16:31.937011Z",
     "shell.execute_reply": "2024-07-20T19:16:31.935749Z"
    },
    "papermill": {
     "duration": 0.095915,
     "end_time": "2024-07-20T19:16:31.939866",
     "exception": false,
     "start_time": "2024-07-20T19:16:31.843951",
     "status": "completed"
    },
    "tags": []
   },
   "outputs": [
    {
     "data": {
      "text/html": [
       "<div>\n",
       "<style scoped>\n",
       "    .dataframe tbody tr th:only-of-type {\n",
       "        vertical-align: middle;\n",
       "    }\n",
       "\n",
       "    .dataframe tbody tr th {\n",
       "        vertical-align: top;\n",
       "    }\n",
       "\n",
       "    .dataframe thead th {\n",
       "        text-align: right;\n",
       "    }\n",
       "</style>\n",
       "<table border=\"1\" class=\"dataframe\">\n",
       "  <thead>\n",
       "    <tr style=\"text-align: right;\">\n",
       "      <th></th>\n",
       "      <th>A</th>\n",
       "      <th>B</th>\n",
       "    </tr>\n",
       "  </thead>\n",
       "  <tbody>\n",
       "    <tr>\n",
       "      <th>0</th>\n",
       "      <td>1.0</td>\n",
       "      <td>NaN</td>\n",
       "    </tr>\n",
       "    <tr>\n",
       "      <th>1</th>\n",
       "      <td>2.0</td>\n",
       "      <td>2.0</td>\n",
       "    </tr>\n",
       "    <tr>\n",
       "      <th>2</th>\n",
       "      <td>3.0</td>\n",
       "      <td>3.0</td>\n",
       "    </tr>\n",
       "    <tr>\n",
       "      <th>3</th>\n",
       "      <td>5.0</td>\n",
       "      <td>4.0</td>\n",
       "    </tr>\n",
       "    <tr>\n",
       "      <th>4</th>\n",
       "      <td>3.0</td>\n",
       "      <td>6.0</td>\n",
       "    </tr>\n",
       "    <tr>\n",
       "      <th>5</th>\n",
       "      <td>7.0</td>\n",
       "      <td>8.0</td>\n",
       "    </tr>\n",
       "  </tbody>\n",
       "</table>\n",
       "</div>"
      ],
      "text/plain": [
       "     A    B\n",
       "0  1.0  NaN\n",
       "1  2.0  2.0\n",
       "2  3.0  3.0\n",
       "3  5.0  4.0\n",
       "4  3.0  6.0\n",
       "5  7.0  8.0"
      ]
     },
     "execution_count": 138,
     "metadata": {},
     "output_type": "execute_result"
    }
   ],
   "source": [
    "df1.combine_first(df2)"
   ]
  },
  {
   "cell_type": "code",
   "execution_count": 139,
   "id": "a208524b",
   "metadata": {
    "execution": {
     "iopub.execute_input": "2024-07-20T19:16:32.091963Z",
     "iopub.status.busy": "2024-07-20T19:16:32.091522Z",
     "iopub.status.idle": "2024-07-20T19:16:32.108069Z",
     "shell.execute_reply": "2024-07-20T19:16:32.106739Z"
    },
    "papermill": {
     "duration": 0.096572,
     "end_time": "2024-07-20T19:16:32.111050",
     "exception": false,
     "start_time": "2024-07-20T19:16:32.014478",
     "status": "completed"
    },
    "tags": []
   },
   "outputs": [
    {
     "data": {
      "text/html": [
       "<div>\n",
       "<style scoped>\n",
       "    .dataframe tbody tr th:only-of-type {\n",
       "        vertical-align: middle;\n",
       "    }\n",
       "\n",
       "    .dataframe tbody tr th {\n",
       "        vertical-align: top;\n",
       "    }\n",
       "\n",
       "    .dataframe thead th {\n",
       "        text-align: right;\n",
       "    }\n",
       "</style>\n",
       "<table border=\"1\" class=\"dataframe\">\n",
       "  <thead>\n",
       "    <tr style=\"text-align: right;\">\n",
       "      <th></th>\n",
       "      <th>A</th>\n",
       "      <th>B</th>\n",
       "    </tr>\n",
       "  </thead>\n",
       "  <tbody>\n",
       "    <tr>\n",
       "      <th>0</th>\n",
       "      <td>1.0</td>\n",
       "      <td>NaN</td>\n",
       "    </tr>\n",
       "    <tr>\n",
       "      <th>1</th>\n",
       "      <td>2.0</td>\n",
       "      <td>2.0</td>\n",
       "    </tr>\n",
       "    <tr>\n",
       "      <th>2</th>\n",
       "      <td>3.0</td>\n",
       "      <td>3.0</td>\n",
       "    </tr>\n",
       "    <tr>\n",
       "      <th>3</th>\n",
       "      <td>5.0</td>\n",
       "      <td>4.0</td>\n",
       "    </tr>\n",
       "    <tr>\n",
       "      <th>4</th>\n",
       "      <td>3.0</td>\n",
       "      <td>6.0</td>\n",
       "    </tr>\n",
       "    <tr>\n",
       "      <th>5</th>\n",
       "      <td>7.0</td>\n",
       "      <td>8.0</td>\n",
       "    </tr>\n",
       "  </tbody>\n",
       "</table>\n",
       "</div>"
      ],
      "text/plain": [
       "     A    B\n",
       "0  1.0  NaN\n",
       "1  2.0  2.0\n",
       "2  3.0  3.0\n",
       "3  5.0  4.0\n",
       "4  3.0  6.0\n",
       "5  7.0  8.0"
      ]
     },
     "execution_count": 139,
     "metadata": {},
     "output_type": "execute_result"
    }
   ],
   "source": [
    "def combiner(x, y):\n",
    "    return np.where(pd.isna(x), y, x)\n",
    "df1.combine(df2, combiner)"
   ]
  },
  {
   "cell_type": "code",
   "execution_count": 140,
   "id": "f60c3ab5",
   "metadata": {
    "execution": {
     "iopub.execute_input": "2024-07-20T19:16:32.264224Z",
     "iopub.status.busy": "2024-07-20T19:16:32.263818Z",
     "iopub.status.idle": "2024-07-20T19:16:32.274544Z",
     "shell.execute_reply": "2024-07-20T19:16:32.273471Z"
    },
    "papermill": {
     "duration": 0.090188,
     "end_time": "2024-07-20T19:16:32.277075",
     "exception": false,
     "start_time": "2024-07-20T19:16:32.186887",
     "status": "completed"
    },
    "tags": []
   },
   "outputs": [
    {
     "data": {
      "text/plain": [
       "one          NaN\n",
       "two      2.28571\n",
       "three        NaN\n",
       "dtype: float64"
      ]
     },
     "execution_count": 140,
     "metadata": {},
     "output_type": "execute_result"
    }
   ],
   "source": [
    "df.sum(0, skipna=False)"
   ]
  },
  {
   "cell_type": "code",
   "execution_count": 141,
   "id": "a4ae7e00",
   "metadata": {
    "execution": {
     "iopub.execute_input": "2024-07-20T19:16:32.430386Z",
     "iopub.status.busy": "2024-07-20T19:16:32.429897Z",
     "iopub.status.idle": "2024-07-20T19:16:32.439745Z",
     "shell.execute_reply": "2024-07-20T19:16:32.438651Z"
    },
    "papermill": {
     "duration": 0.090526,
     "end_time": "2024-07-20T19:16:32.442289",
     "exception": false,
     "start_time": "2024-07-20T19:16:32.351763",
     "status": "completed"
    },
    "tags": []
   },
   "outputs": [
    {
     "data": {
      "text/plain": [
       "a    0.258704\n",
       "b   -2.761303\n",
       "c    0.452206\n",
       "d    1.792151\n",
       "dtype: float64"
      ]
     },
     "execution_count": 141,
     "metadata": {},
     "output_type": "execute_result"
    }
   ],
   "source": [
    "df.sum(axis=1, skipna=True)"
   ]
  },
  {
   "cell_type": "code",
   "execution_count": 142,
   "id": "21c90cb7",
   "metadata": {
    "execution": {
     "iopub.execute_input": "2024-07-20T19:16:32.594456Z",
     "iopub.status.busy": "2024-07-20T19:16:32.594030Z",
     "iopub.status.idle": "2024-07-20T19:16:32.607772Z",
     "shell.execute_reply": "2024-07-20T19:16:32.606143Z"
    },
    "papermill": {
     "duration": 0.093757,
     "end_time": "2024-07-20T19:16:32.610561",
     "exception": false,
     "start_time": "2024-07-20T19:16:32.516804",
     "status": "completed"
    },
    "tags": []
   },
   "outputs": [
    {
     "data": {
      "text/plain": [
       "one      1.0\n",
       "two      1.0\n",
       "three    1.0\n",
       "dtype: float64"
      ]
     },
     "execution_count": 142,
     "metadata": {},
     "output_type": "execute_result"
    }
   ],
   "source": [
    "ts_stand = (df - df.mean()) / df.std()\n",
    "ts_stand.std()"
   ]
  },
  {
   "cell_type": "code",
   "execution_count": 143,
   "id": "7b77ab18",
   "metadata": {
    "execution": {
     "iopub.execute_input": "2024-07-20T19:16:32.769120Z",
     "iopub.status.busy": "2024-07-20T19:16:32.768672Z",
     "iopub.status.idle": "2024-07-20T19:16:32.781093Z",
     "shell.execute_reply": "2024-07-20T19:16:32.779872Z"
    },
    "papermill": {
     "duration": 0.096628,
     "end_time": "2024-07-20T19:16:32.783676",
     "exception": false,
     "start_time": "2024-07-20T19:16:32.687048",
     "status": "completed"
    },
    "tags": []
   },
   "outputs": [
    {
     "data": {
      "text/plain": [
       "a    1.0\n",
       "b    1.0\n",
       "c    1.0\n",
       "d    1.0\n",
       "dtype: float64"
      ]
     },
     "execution_count": 143,
     "metadata": {},
     "output_type": "execute_result"
    }
   ],
   "source": [
    "xs_stand = df.sub(df.mean(1), axis=0).div(df.std(1), axis=0)\n",
    "xs_stand.std(1)"
   ]
  },
  {
   "cell_type": "code",
   "execution_count": 144,
   "id": "681a8880",
   "metadata": {
    "execution": {
     "iopub.execute_input": "2024-07-20T19:16:32.937183Z",
     "iopub.status.busy": "2024-07-20T19:16:32.936723Z",
     "iopub.status.idle": "2024-07-20T19:16:32.945945Z",
     "shell.execute_reply": "2024-07-20T19:16:32.944596Z"
    },
    "papermill": {
     "duration": 0.088926,
     "end_time": "2024-07-20T19:16:32.948529",
     "exception": false,
     "start_time": "2024-07-20T19:16:32.859603",
     "status": "completed"
    },
    "tags": []
   },
   "outputs": [
    {
     "data": {
      "text/plain": [
       "-0.5477882202756625"
      ]
     },
     "execution_count": 144,
     "metadata": {},
     "output_type": "execute_result"
    }
   ],
   "source": [
    "np.mean(df[\"one\"])"
   ]
  },
  {
   "cell_type": "code",
   "execution_count": 145,
   "id": "b2f8d8d9",
   "metadata": {
    "execution": {
     "iopub.execute_input": "2024-07-20T19:16:33.102409Z",
     "iopub.status.busy": "2024-07-20T19:16:33.101979Z",
     "iopub.status.idle": "2024-07-20T19:16:33.111128Z",
     "shell.execute_reply": "2024-07-20T19:16:33.109666Z"
    },
    "papermill": {
     "duration": 0.090881,
     "end_time": "2024-07-20T19:16:33.113836",
     "exception": false,
     "start_time": "2024-07-20T19:16:33.022955",
     "status": "completed"
    },
    "tags": []
   },
   "outputs": [
    {
     "data": {
      "text/plain": [
       "nan"
      ]
     },
     "execution_count": 145,
     "metadata": {},
     "output_type": "execute_result"
    }
   ],
   "source": [
    "np.mean(df[\"one\"].to_numpy())"
   ]
  },
  {
   "cell_type": "code",
   "execution_count": 146,
   "id": "6a31f279",
   "metadata": {
    "execution": {
     "iopub.execute_input": "2024-07-20T19:16:33.272990Z",
     "iopub.status.busy": "2024-07-20T19:16:33.272471Z",
     "iopub.status.idle": "2024-07-20T19:16:33.282430Z",
     "shell.execute_reply": "2024-07-20T19:16:33.281069Z"
    },
    "papermill": {
     "duration": 0.091471,
     "end_time": "2024-07-20T19:16:33.285201",
     "exception": false,
     "start_time": "2024-07-20T19:16:33.193730",
     "status": "completed"
    },
    "tags": []
   },
   "outputs": [
    {
     "data": {
      "text/plain": [
       "11"
      ]
     },
     "execution_count": 146,
     "metadata": {},
     "output_type": "execute_result"
    }
   ],
   "source": [
    "series = pd.Series(np.random.randn(500))\n",
    "series[20:500] = np.nan\n",
    "series[10:20] = 5\n",
    "series.nunique()"
   ]
  },
  {
   "cell_type": "code",
   "execution_count": 147,
   "id": "231a073e",
   "metadata": {
    "execution": {
     "iopub.execute_input": "2024-07-20T19:16:33.441877Z",
     "iopub.status.busy": "2024-07-20T19:16:33.441281Z",
     "iopub.status.idle": "2024-07-20T19:16:33.457351Z",
     "shell.execute_reply": "2024-07-20T19:16:33.456127Z"
    },
    "papermill": {
     "duration": 0.097108,
     "end_time": "2024-07-20T19:16:33.460086",
     "exception": false,
     "start_time": "2024-07-20T19:16:33.362978",
     "status": "completed"
    },
    "tags": []
   },
   "outputs": [
    {
     "data": {
      "text/plain": [
       "count    500.000000\n",
       "mean      -0.031699\n",
       "std        0.970918\n",
       "min       -3.456387\n",
       "25%       -0.649686\n",
       "50%       -0.002142\n",
       "75%        0.601006\n",
       "max        3.199794\n",
       "dtype: float64"
      ]
     },
     "execution_count": 147,
     "metadata": {},
     "output_type": "execute_result"
    }
   ],
   "source": [
    "series = pd.Series(np.random.randn(1000))\n",
    "series[::2] = np.nan\n",
    "series.describe()"
   ]
  },
  {
   "cell_type": "code",
   "execution_count": 148,
   "id": "8621b2fb",
   "metadata": {
    "execution": {
     "iopub.execute_input": "2024-07-20T19:16:33.618304Z",
     "iopub.status.busy": "2024-07-20T19:16:33.617887Z",
     "iopub.status.idle": "2024-07-20T19:16:33.652888Z",
     "shell.execute_reply": "2024-07-20T19:16:33.651638Z"
    },
    "papermill": {
     "duration": 0.11823,
     "end_time": "2024-07-20T19:16:33.655779",
     "exception": false,
     "start_time": "2024-07-20T19:16:33.537549",
     "status": "completed"
    },
    "tags": []
   },
   "outputs": [
    {
     "data": {
      "text/html": [
       "<div>\n",
       "<style scoped>\n",
       "    .dataframe tbody tr th:only-of-type {\n",
       "        vertical-align: middle;\n",
       "    }\n",
       "\n",
       "    .dataframe tbody tr th {\n",
       "        vertical-align: top;\n",
       "    }\n",
       "\n",
       "    .dataframe thead th {\n",
       "        text-align: right;\n",
       "    }\n",
       "</style>\n",
       "<table border=\"1\" class=\"dataframe\">\n",
       "  <thead>\n",
       "    <tr style=\"text-align: right;\">\n",
       "      <th></th>\n",
       "      <th>a</th>\n",
       "      <th>b</th>\n",
       "      <th>c</th>\n",
       "      <th>d</th>\n",
       "      <th>e</th>\n",
       "    </tr>\n",
       "  </thead>\n",
       "  <tbody>\n",
       "    <tr>\n",
       "      <th>count</th>\n",
       "      <td>500.000000</td>\n",
       "      <td>500.000000</td>\n",
       "      <td>500.000000</td>\n",
       "      <td>500.000000</td>\n",
       "      <td>500.000000</td>\n",
       "    </tr>\n",
       "    <tr>\n",
       "      <th>mean</th>\n",
       "      <td>-0.000306</td>\n",
       "      <td>0.021413</td>\n",
       "      <td>0.128667</td>\n",
       "      <td>0.064873</td>\n",
       "      <td>0.041193</td>\n",
       "    </tr>\n",
       "    <tr>\n",
       "      <th>std</th>\n",
       "      <td>0.976245</td>\n",
       "      <td>1.049156</td>\n",
       "      <td>1.029158</td>\n",
       "      <td>0.978178</td>\n",
       "      <td>0.999724</td>\n",
       "    </tr>\n",
       "    <tr>\n",
       "      <th>min</th>\n",
       "      <td>-2.802847</td>\n",
       "      <td>-3.256928</td>\n",
       "      <td>-3.292894</td>\n",
       "      <td>-2.855787</td>\n",
       "      <td>-2.703263</td>\n",
       "    </tr>\n",
       "    <tr>\n",
       "      <th>25%</th>\n",
       "      <td>-0.598263</td>\n",
       "      <td>-0.684308</td>\n",
       "      <td>-0.557607</td>\n",
       "      <td>-0.570076</td>\n",
       "      <td>-0.594972</td>\n",
       "    </tr>\n",
       "    <tr>\n",
       "      <th>50%</th>\n",
       "      <td>-0.051723</td>\n",
       "      <td>0.021613</td>\n",
       "      <td>0.175735</td>\n",
       "      <td>0.087114</td>\n",
       "      <td>0.033099</td>\n",
       "    </tr>\n",
       "    <tr>\n",
       "      <th>75%</th>\n",
       "      <td>0.654742</td>\n",
       "      <td>0.724492</td>\n",
       "      <td>0.836842</td>\n",
       "      <td>0.751838</td>\n",
       "      <td>0.670477</td>\n",
       "    </tr>\n",
       "    <tr>\n",
       "      <th>max</th>\n",
       "      <td>3.254276</td>\n",
       "      <td>2.681099</td>\n",
       "      <td>2.914642</td>\n",
       "      <td>2.843842</td>\n",
       "      <td>2.886641</td>\n",
       "    </tr>\n",
       "  </tbody>\n",
       "</table>\n",
       "</div>"
      ],
      "text/plain": [
       "                a           b  \\\n",
       "count  500.000000  500.000000   \n",
       "mean    -0.000306    0.021413   \n",
       "std      0.976245    1.049156   \n",
       "min     -2.802847   -3.256928   \n",
       "25%     -0.598263   -0.684308   \n",
       "50%     -0.051723    0.021613   \n",
       "75%      0.654742    0.724492   \n",
       "max      3.254276    2.681099   \n",
       "\n",
       "                c           d  \\\n",
       "count  500.000000  500.000000   \n",
       "mean     0.128667    0.064873   \n",
       "std      1.029158    0.978178   \n",
       "min     -3.292894   -2.855787   \n",
       "25%     -0.557607   -0.570076   \n",
       "50%      0.175735    0.087114   \n",
       "75%      0.836842    0.751838   \n",
       "max      2.914642    2.843842   \n",
       "\n",
       "                e  \n",
       "count  500.000000  \n",
       "mean     0.041193  \n",
       "std      0.999724  \n",
       "min     -2.703263  \n",
       "25%     -0.594972  \n",
       "50%      0.033099  \n",
       "75%      0.670477  \n",
       "max      2.886641  "
      ]
     },
     "execution_count": 148,
     "metadata": {},
     "output_type": "execute_result"
    }
   ],
   "source": [
    "frame = pd.DataFrame(np.random.randn(1000, 5), columns=[\"a\", \"b\", \"c\", \"d\", \"e\"])\n",
    "frame.iloc[::2] = np.nan\n",
    "frame.describe()"
   ]
  },
  {
   "cell_type": "code",
   "execution_count": 149,
   "id": "1770638c",
   "metadata": {
    "execution": {
     "iopub.execute_input": "2024-07-20T19:16:33.816570Z",
     "iopub.status.busy": "2024-07-20T19:16:33.816052Z",
     "iopub.status.idle": "2024-07-20T19:16:33.830193Z",
     "shell.execute_reply": "2024-07-20T19:16:33.828680Z"
    },
    "papermill": {
     "duration": 0.099234,
     "end_time": "2024-07-20T19:16:33.832981",
     "exception": false,
     "start_time": "2024-07-20T19:16:33.733747",
     "status": "completed"
    },
    "tags": []
   },
   "outputs": [
    {
     "data": {
      "text/plain": [
       "count    500.000000\n",
       "mean      -0.031699\n",
       "std        0.970918\n",
       "min       -3.456387\n",
       "5%        -1.637616\n",
       "25%       -0.649686\n",
       "50%       -0.002142\n",
       "75%        0.601006\n",
       "95%        1.474151\n",
       "max        3.199794\n",
       "dtype: float64"
      ]
     },
     "execution_count": 149,
     "metadata": {},
     "output_type": "execute_result"
    }
   ],
   "source": [
    "series.describe(percentiles=[0.05, 0.25, 0.75, 0.95])"
   ]
  },
  {
   "cell_type": "code",
   "execution_count": 150,
   "id": "3f67960b",
   "metadata": {
    "execution": {
     "iopub.execute_input": "2024-07-20T19:16:33.993862Z",
     "iopub.status.busy": "2024-07-20T19:16:33.993467Z",
     "iopub.status.idle": "2024-07-20T19:16:34.005541Z",
     "shell.execute_reply": "2024-07-20T19:16:34.004214Z"
    },
    "papermill": {
     "duration": 0.096325,
     "end_time": "2024-07-20T19:16:34.008546",
     "exception": false,
     "start_time": "2024-07-20T19:16:33.912221",
     "status": "completed"
    },
    "tags": []
   },
   "outputs": [
    {
     "data": {
      "text/plain": [
       "count     9\n",
       "unique    4\n",
       "top       a\n",
       "freq      5\n",
       "dtype: object"
      ]
     },
     "execution_count": 150,
     "metadata": {},
     "output_type": "execute_result"
    }
   ],
   "source": [
    "s = pd.Series([\"a\", \"a\", \"b\", \"b\", \"a\", \"a\", np.nan, \"c\", \"d\", \"a\"])\n",
    "s.describe()"
   ]
  }
 ],
 "metadata": {
  "kaggle": {
   "accelerator": "none",
   "dataSources": [
    {
     "datasetId": 19,
     "sourceId": 420,
     "sourceType": "datasetVersion"
    }
   ],
   "dockerImageVersionId": 30527,
   "isGpuEnabled": false,
   "isInternetEnabled": true,
   "language": "python",
   "sourceType": "notebook"
  },
  "kernelspec": {
   "display_name": "Python 3",
   "language": "python",
   "name": "python3"
  },
  "language_info": {
   "codemirror_mode": {
    "name": "ipython",
    "version": 3
   },
   "file_extension": ".py",
   "mimetype": "text/x-python",
   "name": "python",
   "nbconvert_exporter": "python",
   "pygments_lexer": "ipython3",
   "version": "3.10.12"
  },
  "papermill": {
   "default_parameters": {},
   "duration": 39.71061,
   "end_time": "2024-07-20T19:16:35.112246",
   "environment_variables": {},
   "exception": null,
   "input_path": "__notebook__.ipynb",
   "output_path": "__notebook__.ipynb",
   "parameters": {},
   "start_time": "2024-07-20T19:15:55.401636",
   "version": "2.4.0"
  }
 },
 "nbformat": 4,
 "nbformat_minor": 5
}
