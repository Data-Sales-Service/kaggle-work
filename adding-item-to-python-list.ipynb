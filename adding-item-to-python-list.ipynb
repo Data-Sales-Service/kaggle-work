{
 "cells": [
  {
   "cell_type": "markdown",
   "id": "8aa5bc3f",
   "metadata": {
    "_cell_guid": "b1076dfc-b9ad-4769-8c92-a6c4dae69d19",
    "_uuid": "8f2839f25d086af736a60e9eeb907d3b93b6e0e5",
    "papermill": {
     "duration": 0.003855,
     "end_time": "2023-02-12T00:01:42.793740",
     "exception": false,
     "start_time": "2023-02-12T00:01:42.789885",
     "status": "completed"
    },
    "tags": []
   },
   "source": [
    "# Adding Item to Python List\n",
    "There are three ways to add new items to a list in Python:"
   ]
  },
  {
   "cell_type": "markdown",
   "id": "97cbdab5",
   "metadata": {
    "papermill": {
     "duration": 0.002492,
     "end_time": "2023-02-12T00:01:42.799366",
     "exception": false,
     "start_time": "2023-02-12T00:01:42.796874",
     "status": "completed"
    },
    "tags": []
   },
   "source": [
    "## 1. The \"+=\" operator:\n",
    "The \"+=\" operator can be used to extend a list by concatenating it with another list. For example:"
   ]
  },
  {
   "cell_type": "code",
   "execution_count": 1,
   "id": "257a2b6c",
   "metadata": {
    "execution": {
     "iopub.execute_input": "2023-02-12T00:01:42.806657Z",
     "iopub.status.busy": "2023-02-12T00:01:42.806224Z",
     "iopub.status.idle": "2023-02-12T00:01:42.818030Z",
     "shell.execute_reply": "2023-02-12T00:01:42.817128Z"
    },
    "papermill": {
     "duration": 0.018029,
     "end_time": "2023-02-12T00:01:42.820057",
     "exception": false,
     "start_time": "2023-02-12T00:01:42.802028",
     "status": "completed"
    },
    "tags": []
   },
   "outputs": [
    {
     "name": "stdout",
     "output_type": "stream",
     "text": [
      "[1, 2, 3, 4, 5, 6]\n"
     ]
    }
   ],
   "source": [
    "list1 = [1, 2, 3]\n",
    "list2 = [4, 5, 6]\n",
    "list1 += list2\n",
    "print(list1)  # [1, 2, 3, 4, 5, 6]"
   ]
  },
  {
   "cell_type": "markdown",
   "id": "62d304f2",
   "metadata": {
    "papermill": {
     "duration": 0.002574,
     "end_time": "2023-02-12T00:01:42.825536",
     "exception": false,
     "start_time": "2023-02-12T00:01:42.822962",
     "status": "completed"
    },
    "tags": []
   },
   "source": [
    "This method is fast for concatenating two lists, but it creates a new list object each time you use it. If you are concatenating many lists, this method may become slow."
   ]
  },
  {
   "cell_type": "markdown",
   "id": "059ec159",
   "metadata": {
    "papermill": {
     "duration": 0.002404,
     "end_time": "2023-02-12T00:01:42.830618",
     "exception": false,
     "start_time": "2023-02-12T00:01:42.828214",
     "status": "completed"
    },
    "tags": []
   },
   "source": [
    "# 2. The append method: \n",
    "The append method adds a single item to the end of the list. For example:"
   ]
  },
  {
   "cell_type": "code",
   "execution_count": 2,
   "id": "72e04be0",
   "metadata": {
    "execution": {
     "iopub.execute_input": "2023-02-12T00:01:42.838780Z",
     "iopub.status.busy": "2023-02-12T00:01:42.837403Z",
     "iopub.status.idle": "2023-02-12T00:01:42.843540Z",
     "shell.execute_reply": "2023-02-12T00:01:42.842332Z"
    },
    "papermill": {
     "duration": 0.013225,
     "end_time": "2023-02-12T00:01:42.846573",
     "exception": false,
     "start_time": "2023-02-12T00:01:42.833348",
     "status": "completed"
    },
    "tags": []
   },
   "outputs": [
    {
     "name": "stdout",
     "output_type": "stream",
     "text": [
      "[1, 2, 3, 4]\n"
     ]
    }
   ],
   "source": [
    "list1 = [1, 2, 3]\n",
    "list1.append(4)\n",
    "print(list1)  # [1, 2, 3, 4]"
   ]
  },
  {
   "cell_type": "markdown",
   "id": "6a8f4502",
   "metadata": {
    "papermill": {
     "duration": 0.002769,
     "end_time": "2023-02-12T00:01:42.852449",
     "exception": false,
     "start_time": "2023-02-12T00:01:42.849680",
     "status": "completed"
    },
    "tags": []
   },
   "source": [
    "This method is fast for adding a single item to the list, but it becomes slow if you are adding many items to the list, because it has to resize the list and copy its elements each time you use it."
   ]
  },
  {
   "cell_type": "markdown",
   "id": "d27a23f4",
   "metadata": {
    "papermill": {
     "duration": 0.002474,
     "end_time": "2023-02-12T00:01:42.857782",
     "exception": false,
     "start_time": "2023-02-12T00:01:42.855308",
     "status": "completed"
    },
    "tags": []
   },
   "source": [
    "# 3. The extend method:\n",
    "The extend method extends a list by concatenating it with another iterable, such as a list or a tuple. For example:"
   ]
  },
  {
   "cell_type": "code",
   "execution_count": 3,
   "id": "5246259a",
   "metadata": {
    "execution": {
     "iopub.execute_input": "2023-02-12T00:01:42.865213Z",
     "iopub.status.busy": "2023-02-12T00:01:42.864840Z",
     "iopub.status.idle": "2023-02-12T00:01:42.871211Z",
     "shell.execute_reply": "2023-02-12T00:01:42.869336Z"
    },
    "papermill": {
     "duration": 0.013194,
     "end_time": "2023-02-12T00:01:42.873735",
     "exception": false,
     "start_time": "2023-02-12T00:01:42.860541",
     "status": "completed"
    },
    "tags": []
   },
   "outputs": [
    {
     "name": "stdout",
     "output_type": "stream",
     "text": [
      "[1, 2, 3, 4, 5, 6]\n"
     ]
    }
   ],
   "source": [
    "list1 = [1, 2, 3]\n",
    "list2 = [4, 5, 6]\n",
    "list1.extend(list2)\n",
    "print(list1)  # [1, 2, 3, 4, 5, 6]"
   ]
  },
  {
   "cell_type": "markdown",
   "id": "10bcf8c0",
   "metadata": {
    "papermill": {
     "duration": 0.002812,
     "end_time": "2023-02-12T00:01:42.879744",
     "exception": false,
     "start_time": "2023-02-12T00:01:42.876932",
     "status": "completed"
    },
    "tags": []
   },
   "source": [
    "This method is faster than the += operator for concatenating many items to a list, because it does not create a new list object each time you use it. However, it may still be slow if you are concatenating many large lists."
   ]
  },
  {
   "cell_type": "markdown",
   "id": "5a61ad25",
   "metadata": {
    "papermill": {
     "duration": 0.002481,
     "end_time": "2023-02-12T00:01:42.885085",
     "exception": false,
     "start_time": "2023-02-12T00:01:42.882604",
     "status": "completed"
    },
    "tags": []
   },
   "source": [
    "**In general, if you are concatenating two or three small lists, the += operator is a good choice. If you are concatenating many lists, or if you are concatenating large lists, the extend method is a better choice. If you are adding a single item to a list, the append method is the best choice.**"
   ]
  },
  {
   "cell_type": "code",
   "execution_count": null,
   "id": "d858c709",
   "metadata": {
    "papermill": {
     "duration": 0.002628,
     "end_time": "2023-02-12T00:01:42.890573",
     "exception": false,
     "start_time": "2023-02-12T00:01:42.887945",
     "status": "completed"
    },
    "tags": []
   },
   "outputs": [],
   "source": []
  }
 ],
 "metadata": {
  "kernelspec": {
   "display_name": "Python 3",
   "language": "python",
   "name": "python3"
  },
  "language_info": {
   "codemirror_mode": {
    "name": "ipython",
    "version": 3
   },
   "file_extension": ".py",
   "mimetype": "text/x-python",
   "name": "python",
   "nbconvert_exporter": "python",
   "pygments_lexer": "ipython3",
   "version": "3.7.12"
  },
  "papermill": {
   "default_parameters": {},
   "duration": 8.466386,
   "end_time": "2023-02-12T00:01:43.617530",
   "environment_variables": {},
   "exception": null,
   "input_path": "__notebook__.ipynb",
   "output_path": "__notebook__.ipynb",
   "parameters": {},
   "start_time": "2023-02-12T00:01:35.151144",
   "version": "2.3.4"
  }
 },
 "nbformat": 4,
 "nbformat_minor": 5
}
