{
 "cells": [
  {
   "cell_type": "markdown",
   "id": "4b1d01da",
   "metadata": {
    "papermill": {
     "duration": 0.016142,
     "end_time": "2022-06-11T14:17:43.425926",
     "exception": false,
     "start_time": "2022-06-11T14:17:43.409784",
     "status": "completed"
    },
    "tags": []
   },
   "source": [
    "### Loading Liberaties"
   ]
  },
  {
   "cell_type": "code",
   "execution_count": 1,
   "id": "2078f23a",
   "metadata": {
    "execution": {
     "iopub.execute_input": "2022-06-11T14:17:43.459902Z",
     "iopub.status.busy": "2022-06-11T14:17:43.458682Z",
     "iopub.status.idle": "2022-06-11T14:17:44.429062Z",
     "shell.execute_reply": "2022-06-11T14:17:44.428317Z",
     "shell.execute_reply.started": "2022-06-11T14:15:51.886617Z"
    },
    "papermill": {
     "duration": 0.988864,
     "end_time": "2022-06-11T14:17:44.429240",
     "exception": false,
     "start_time": "2022-06-11T14:17:43.440376",
     "status": "completed"
    },
    "tags": []
   },
   "outputs": [],
   "source": [
    "import pandas as pd\n",
    "import numpy as np\n",
    "import seaborn as sns\n",
    "import matplotlib.pyplot as plt"
   ]
  },
  {
   "cell_type": "markdown",
   "id": "0afab5e6",
   "metadata": {
    "papermill": {
     "duration": 0.014433,
     "end_time": "2022-06-11T14:17:44.458080",
     "exception": false,
     "start_time": "2022-06-11T14:17:44.443647",
     "status": "completed"
    },
    "tags": []
   },
   "source": [
    "Loading users and followers data"
   ]
  },
  {
   "cell_type": "code",
   "execution_count": 2,
   "id": "305f7a31",
   "metadata": {
    "_cell_guid": "b1076dfc-b9ad-4769-8c92-a6c4dae69d19",
    "_uuid": "8f2839f25d086af736a60e9eeb907d3b93b6e0e5",
    "execution": {
     "iopub.execute_input": "2022-06-11T14:17:44.492222Z",
     "iopub.status.busy": "2022-06-11T14:17:44.491466Z",
     "iopub.status.idle": "2022-06-11T14:18:10.399468Z",
     "shell.execute_reply": "2022-06-11T14:18:10.398887Z"
    },
    "papermill": {
     "duration": 25.927201,
     "end_time": "2022-06-11T14:18:10.399622",
     "exception": false,
     "start_time": "2022-06-11T14:17:44.472421",
     "status": "completed"
    },
    "tags": []
   },
   "outputs": [],
   "source": [
    "users = pd.read_csv(\"../input/d/kaggle/meta-kaggle/Users.csv\")\n",
    "followers = pd.read_csv('../input/d/kaggle/meta-kaggle/UserFollowers.csv')"
   ]
  },
  {
   "cell_type": "code",
   "execution_count": 3,
   "id": "40094307",
   "metadata": {
    "execution": {
     "iopub.execute_input": "2022-06-11T14:18:10.433831Z",
     "iopub.status.busy": "2022-06-11T14:18:10.433149Z",
     "iopub.status.idle": "2022-06-11T14:18:10.435384Z",
     "shell.execute_reply": "2022-06-11T14:18:10.435841Z"
    },
    "papermill": {
     "duration": 0.021335,
     "end_time": "2022-06-11T14:18:10.436001",
     "exception": false,
     "start_time": "2022-06-11T14:18:10.414666",
     "status": "completed"
    },
    "tags": []
   },
   "outputs": [],
   "source": [
    "path = \"../input/d/kaggle/meta-kaggle/\""
   ]
  },
  {
   "cell_type": "code",
   "execution_count": 4,
   "id": "2b93ea12",
   "metadata": {
    "_cell_guid": "b1076dfc-b9ad-4769-8c92-a6c4dae69d19",
    "_uuid": "8f2839f25d086af736a60e9eeb907d3b93b6e0e5",
    "execution": {
     "iopub.execute_input": "2022-06-11T14:18:10.469181Z",
     "iopub.status.busy": "2022-06-11T14:18:10.468582Z",
     "iopub.status.idle": "2022-06-11T14:18:12.725868Z",
     "shell.execute_reply": "2022-06-11T14:18:12.725312Z"
    },
    "papermill": {
     "duration": 2.275561,
     "end_time": "2022-06-11T14:18:12.726006",
     "exception": false,
     "start_time": "2022-06-11T14:18:10.450445",
     "status": "completed"
    },
    "tags": []
   },
   "outputs": [],
   "source": [
    "kernalvotes = pd.read_csv('../input/d/kaggle/meta-kaggle/KernelVotes.csv')"
   ]
  },
  {
   "cell_type": "code",
   "execution_count": 5,
   "id": "9aab26c5",
   "metadata": {
    "execution": {
     "iopub.execute_input": "2022-06-11T14:18:14.470034Z",
     "iopub.status.busy": "2022-06-11T14:18:14.468661Z",
     "iopub.status.idle": "2022-06-11T14:18:14.973619Z",
     "shell.execute_reply": "2022-06-11T14:18:14.973084Z"
    },
    "papermill": {
     "duration": 2.233226,
     "end_time": "2022-06-11T14:18:14.973767",
     "exception": false,
     "start_time": "2022-06-11T14:18:12.740541",
     "status": "completed"
    },
    "tags": []
   },
   "outputs": [
    {
     "data": {
      "text/html": [
       "<div>\n",
       "<style scoped>\n",
       "    .dataframe tbody tr th:only-of-type {\n",
       "        vertical-align: middle;\n",
       "    }\n",
       "\n",
       "    .dataframe tbody tr th {\n",
       "        vertical-align: top;\n",
       "    }\n",
       "\n",
       "    .dataframe thead th {\n",
       "        text-align: right;\n",
       "    }\n",
       "</style>\n",
       "<table border=\"1\" class=\"dataframe\">\n",
       "  <thead>\n",
       "    <tr style=\"text-align: right;\">\n",
       "      <th></th>\n",
       "      <th>DisplayName</th>\n",
       "      <th>UserName</th>\n",
       "    </tr>\n",
       "  </thead>\n",
       "  <tbody>\n",
       "    <tr>\n",
       "      <th>0</th>\n",
       "      <td>NaN</td>\n",
       "      <td>NaN</td>\n",
       "    </tr>\n",
       "    <tr>\n",
       "      <th>1</th>\n",
       "      <td>NaN</td>\n",
       "      <td>NaN</td>\n",
       "    </tr>\n",
       "    <tr>\n",
       "      <th>2</th>\n",
       "      <td>NaN</td>\n",
       "      <td>NaN</td>\n",
       "    </tr>\n",
       "    <tr>\n",
       "      <th>3</th>\n",
       "      <td>NaN</td>\n",
       "      <td>NaN</td>\n",
       "    </tr>\n",
       "    <tr>\n",
       "      <th>4</th>\n",
       "      <td>NaN</td>\n",
       "      <td>NaN</td>\n",
       "    </tr>\n",
       "  </tbody>\n",
       "</table>\n",
       "</div>"
      ],
      "text/plain": [
       "  DisplayName UserName\n",
       "0         NaN      NaN\n",
       "1         NaN      NaN\n",
       "2         NaN      NaN\n",
       "3         NaN      NaN\n",
       "4         NaN      NaN"
      ]
     },
     "execution_count": 5,
     "metadata": {},
     "output_type": "execute_result"
    }
   ],
   "source": [
    "users[[\"DisplayName\",\"UserName\"]].where(users['UserName']==\"muhammedtausif\").head()"
   ]
  },
  {
   "cell_type": "code",
   "execution_count": 6,
   "id": "8d3c7ba8",
   "metadata": {
    "execution": {
     "iopub.execute_input": "2022-06-11T14:18:16.450784Z",
     "iopub.status.busy": "2022-06-11T14:18:16.450062Z",
     "iopub.status.idle": "2022-06-11T14:18:16.482709Z",
     "shell.execute_reply": "2022-06-11T14:18:16.483161Z"
    },
    "papermill": {
     "duration": 1.494181,
     "end_time": "2022-06-11T14:18:16.483363",
     "exception": false,
     "start_time": "2022-06-11T14:18:14.989182",
     "status": "completed"
    },
    "tags": []
   },
   "outputs": [
    {
     "data": {
      "text/html": [
       "<div>\n",
       "<style scoped>\n",
       "    .dataframe tbody tr th:only-of-type {\n",
       "        vertical-align: middle;\n",
       "    }\n",
       "\n",
       "    .dataframe tbody tr th {\n",
       "        vertical-align: top;\n",
       "    }\n",
       "\n",
       "    .dataframe thead th {\n",
       "        text-align: right;\n",
       "    }\n",
       "</style>\n",
       "<table border=\"1\" class=\"dataframe\">\n",
       "  <thead>\n",
       "    <tr style=\"text-align: right;\">\n",
       "      <th></th>\n",
       "      <th>Id</th>\n",
       "      <th>UserName</th>\n",
       "      <th>DisplayName</th>\n",
       "      <th>RegisterDate</th>\n",
       "      <th>PerformanceTier</th>\n",
       "    </tr>\n",
       "  </thead>\n",
       "  <tbody>\n",
       "    <tr>\n",
       "      <th>3693088</th>\n",
       "      <td>4034364</td>\n",
       "      <td>muhammedtausif</td>\n",
       "      <td>Muhammed Tausif</td>\n",
       "      <td>11/14/2019</td>\n",
       "      <td>2</td>\n",
       "    </tr>\n",
       "  </tbody>\n",
       "</table>\n",
       "</div>"
      ],
      "text/plain": [
       "              Id        UserName      DisplayName RegisterDate  \\\n",
       "3693088  4034364  muhammedtausif  Muhammed Tausif   11/14/2019   \n",
       "\n",
       "         PerformanceTier  \n",
       "3693088                2  "
      ]
     },
     "execution_count": 6,
     "metadata": {},
     "output_type": "execute_result"
    }
   ],
   "source": [
    "df = users\n",
    "df.loc[df['UserName'] == 'muhammedtausif']"
   ]
  },
  {
   "cell_type": "code",
   "execution_count": 7,
   "id": "563aefa8",
   "metadata": {
    "execution": {
     "iopub.execute_input": "2022-06-11T14:18:16.519312Z",
     "iopub.status.busy": "2022-06-11T14:18:16.518672Z",
     "iopub.status.idle": "2022-06-11T14:18:16.539454Z",
     "shell.execute_reply": "2022-06-11T14:18:16.540001Z"
    },
    "papermill": {
     "duration": 0.041217,
     "end_time": "2022-06-11T14:18:16.540171",
     "exception": false,
     "start_time": "2022-06-11T14:18:16.498954",
     "status": "completed"
    },
    "tags": []
   },
   "outputs": [
    {
     "data": {
      "text/html": [
       "<div>\n",
       "<style scoped>\n",
       "    .dataframe tbody tr th:only-of-type {\n",
       "        vertical-align: middle;\n",
       "    }\n",
       "\n",
       "    .dataframe tbody tr th {\n",
       "        vertical-align: top;\n",
       "    }\n",
       "\n",
       "    .dataframe thead th {\n",
       "        text-align: right;\n",
       "    }\n",
       "</style>\n",
       "<table border=\"1\" class=\"dataframe\">\n",
       "  <thead>\n",
       "    <tr style=\"text-align: right;\">\n",
       "      <th></th>\n",
       "      <th>Id</th>\n",
       "      <th>UserId</th>\n",
       "      <th>KernelVersionId</th>\n",
       "      <th>VoteDate</th>\n",
       "    </tr>\n",
       "  </thead>\n",
       "  <tbody>\n",
       "    <tr>\n",
       "      <th>2116198</th>\n",
       "      <td>3498519</td>\n",
       "      <td>4034364</td>\n",
       "      <td>5552423</td>\n",
       "      <td>04/05/2022</td>\n",
       "    </tr>\n",
       "    <tr>\n",
       "      <th>2116544</th>\n",
       "      <td>3557146</td>\n",
       "      <td>4034364</td>\n",
       "      <td>10431564</td>\n",
       "      <td>04/24/2022</td>\n",
       "    </tr>\n",
       "    <tr>\n",
       "      <th>2121294</th>\n",
       "      <td>3491820</td>\n",
       "      <td>4034364</td>\n",
       "      <td>81262312</td>\n",
       "      <td>04/03/2022</td>\n",
       "    </tr>\n",
       "    <tr>\n",
       "      <th>2123073</th>\n",
       "      <td>3498573</td>\n",
       "      <td>4034364</td>\n",
       "      <td>48249495</td>\n",
       "      <td>04/05/2022</td>\n",
       "    </tr>\n",
       "    <tr>\n",
       "      <th>2123675</th>\n",
       "      <td>3601923</td>\n",
       "      <td>4034364</td>\n",
       "      <td>41875008</td>\n",
       "      <td>05/09/2022</td>\n",
       "    </tr>\n",
       "    <tr>\n",
       "      <th>...</th>\n",
       "      <td>...</td>\n",
       "      <td>...</td>\n",
       "      <td>...</td>\n",
       "      <td>...</td>\n",
       "    </tr>\n",
       "    <tr>\n",
       "      <th>2585175</th>\n",
       "      <td>3494830</td>\n",
       "      <td>4034364</td>\n",
       "      <td>92095256</td>\n",
       "      <td>04/04/2022</td>\n",
       "    </tr>\n",
       "    <tr>\n",
       "      <th>2585348</th>\n",
       "      <td>3494724</td>\n",
       "      <td>4034364</td>\n",
       "      <td>92108330</td>\n",
       "      <td>04/04/2022</td>\n",
       "    </tr>\n",
       "    <tr>\n",
       "      <th>2585565</th>\n",
       "      <td>3494819</td>\n",
       "      <td>4034364</td>\n",
       "      <td>92066884</td>\n",
       "      <td>04/04/2022</td>\n",
       "    </tr>\n",
       "    <tr>\n",
       "      <th>2585628</th>\n",
       "      <td>3639036</td>\n",
       "      <td>4034364</td>\n",
       "      <td>96230330</td>\n",
       "      <td>05/21/2022</td>\n",
       "    </tr>\n",
       "    <tr>\n",
       "      <th>2585824</th>\n",
       "      <td>3636709</td>\n",
       "      <td>4034364</td>\n",
       "      <td>96147150</td>\n",
       "      <td>05/21/2022</td>\n",
       "    </tr>\n",
       "  </tbody>\n",
       "</table>\n",
       "<p>636 rows × 4 columns</p>\n",
       "</div>"
      ],
      "text/plain": [
       "              Id   UserId  KernelVersionId    VoteDate\n",
       "2116198  3498519  4034364          5552423  04/05/2022\n",
       "2116544  3557146  4034364         10431564  04/24/2022\n",
       "2121294  3491820  4034364         81262312  04/03/2022\n",
       "2123073  3498573  4034364         48249495  04/05/2022\n",
       "2123675  3601923  4034364         41875008  05/09/2022\n",
       "...          ...      ...              ...         ...\n",
       "2585175  3494830  4034364         92095256  04/04/2022\n",
       "2585348  3494724  4034364         92108330  04/04/2022\n",
       "2585565  3494819  4034364         92066884  04/04/2022\n",
       "2585628  3639036  4034364         96230330  05/21/2022\n",
       "2585824  3636709  4034364         96147150  05/21/2022\n",
       "\n",
       "[636 rows x 4 columns]"
      ]
     },
     "execution_count": 7,
     "metadata": {},
     "output_type": "execute_result"
    }
   ],
   "source": [
    "df = kernalvotes\n",
    "df.loc[df['UserId'] == 4034364]"
   ]
  },
  {
   "cell_type": "code",
   "execution_count": 8,
   "id": "04257028",
   "metadata": {
    "execution": {
     "iopub.execute_input": "2022-06-11T14:18:16.578212Z",
     "iopub.status.busy": "2022-06-11T14:18:16.577580Z",
     "iopub.status.idle": "2022-06-11T14:18:17.472461Z",
     "shell.execute_reply": "2022-06-11T14:18:17.471515Z"
    },
    "papermill": {
     "duration": 0.916106,
     "end_time": "2022-06-11T14:18:17.472620",
     "exception": false,
     "start_time": "2022-06-11T14:18:16.556514",
     "status": "completed"
    },
    "tags": []
   },
   "outputs": [
    {
     "data": {
      "text/plain": [
       "9942702"
      ]
     },
     "execution_count": 8,
     "metadata": {},
     "output_type": "execute_result"
    }
   ],
   "source": [
    "users['Id'].nunique()"
   ]
  },
  {
   "cell_type": "markdown",
   "id": "928f3821",
   "metadata": {
    "papermill": {
     "duration": 0.016467,
     "end_time": "2022-06-11T14:18:17.506071",
     "exception": false,
     "start_time": "2022-06-11T14:18:17.489604",
     "status": "completed"
    },
    "tags": []
   },
   "source": []
  },
  {
   "cell_type": "markdown",
   "id": "d671a603",
   "metadata": {
    "papermill": {
     "duration": 0.016352,
     "end_time": "2022-06-11T14:18:17.539103",
     "exception": false,
     "start_time": "2022-06-11T14:18:17.522751",
     "status": "completed"
    },
    "tags": []
   },
   "source": [
    "Total Number of kagglers being followed"
   ]
  },
  {
   "cell_type": "code",
   "execution_count": 9,
   "id": "576dc0f0",
   "metadata": {
    "execution": {
     "iopub.execute_input": "2022-06-11T14:18:17.579006Z",
     "iopub.status.busy": "2022-06-11T14:18:17.577992Z",
     "iopub.status.idle": "2022-06-11T14:18:17.599864Z",
     "shell.execute_reply": "2022-06-11T14:18:17.600353Z"
    },
    "papermill": {
     "duration": 0.044515,
     "end_time": "2022-06-11T14:18:17.600537",
     "exception": false,
     "start_time": "2022-06-11T14:18:17.556022",
     "status": "completed"
    },
    "tags": []
   },
   "outputs": [
    {
     "data": {
      "text/plain": [
       "155056"
      ]
     },
     "execution_count": 9,
     "metadata": {},
     "output_type": "execute_result"
    }
   ],
   "source": [
    "len(followers['FollowingUserId'].unique())"
   ]
  },
  {
   "cell_type": "markdown",
   "id": "bcbde16f",
   "metadata": {
    "papermill": {
     "duration": 0.01678,
     "end_time": "2022-06-11T14:18:17.634567",
     "exception": false,
     "start_time": "2022-06-11T14:18:17.617787",
     "status": "completed"
    },
    "tags": []
   },
   "source": []
  },
  {
   "cell_type": "markdown",
   "id": "6b1e6076",
   "metadata": {
    "papermill": {
     "duration": 0.016833,
     "end_time": "2022-06-11T14:18:17.668437",
     "exception": false,
     "start_time": "2022-06-11T14:18:17.651604",
     "status": "completed"
    },
    "tags": []
   },
   "source": [
    "Total users following some one"
   ]
  },
  {
   "cell_type": "code",
   "execution_count": 10,
   "id": "d2bdd7ad",
   "metadata": {
    "execution": {
     "iopub.execute_input": "2022-06-11T14:18:17.705579Z",
     "iopub.status.busy": "2022-06-11T14:18:17.704955Z",
     "iopub.status.idle": "2022-06-11T14:18:17.730901Z",
     "shell.execute_reply": "2022-06-11T14:18:17.731524Z"
    },
    "papermill": {
     "duration": 0.046228,
     "end_time": "2022-06-11T14:18:17.731702",
     "exception": false,
     "start_time": "2022-06-11T14:18:17.685474",
     "status": "completed"
    },
    "tags": []
   },
   "outputs": [
    {
     "data": {
      "text/plain": [
       "304881"
      ]
     },
     "execution_count": 10,
     "metadata": {},
     "output_type": "execute_result"
    }
   ],
   "source": [
    "len(followers.UserId.unique())"
   ]
  },
  {
   "cell_type": "markdown",
   "id": "dc0b46ad",
   "metadata": {
    "papermill": {
     "duration": 0.017232,
     "end_time": "2022-06-11T14:18:17.766622",
     "exception": false,
     "start_time": "2022-06-11T14:18:17.749390",
     "status": "completed"
    },
    "tags": []
   },
   "source": [
    "### Top 5 Kagglers being Followed"
   ]
  },
  {
   "cell_type": "code",
   "execution_count": 11,
   "id": "efcdf164",
   "metadata": {
    "execution": {
     "iopub.execute_input": "2022-06-11T14:18:17.805350Z",
     "iopub.status.busy": "2022-06-11T14:18:17.804720Z",
     "iopub.status.idle": "2022-06-11T14:18:17.889277Z",
     "shell.execute_reply": "2022-06-11T14:18:17.888742Z"
    },
    "papermill": {
     "duration": 0.104984,
     "end_time": "2022-06-11T14:18:17.889431",
     "exception": false,
     "start_time": "2022-06-11T14:18:17.784447",
     "status": "completed"
    },
    "tags": []
   },
   "outputs": [
    {
     "data": {
      "text/plain": [
       "FollowingUserId\n",
       "9028        8307\n",
       "417337      8476\n",
       "4476084     8560\n",
       "1014468     8690\n",
       "1162990     8839\n",
       "54836      10650\n",
       "1723677    11387\n",
       "708283     13159\n",
       "71388      13670\n",
       "5309       16645\n",
       "dtype: int64"
      ]
     },
     "execution_count": 11,
     "metadata": {},
     "output_type": "execute_result"
    }
   ],
   "source": [
    "followers.groupby('FollowingUserId').size().sort_values().tail(10)"
   ]
  },
  {
   "cell_type": "markdown",
   "id": "e07dc346",
   "metadata": {
    "papermill": {
     "duration": 0.017964,
     "end_time": "2022-06-11T14:18:17.925764",
     "exception": false,
     "start_time": "2022-06-11T14:18:17.907800",
     "status": "completed"
    },
    "tags": []
   },
   "source": []
  },
  {
   "cell_type": "code",
   "execution_count": 12,
   "id": "dcd68b9c",
   "metadata": {
    "execution": {
     "iopub.execute_input": "2022-06-11T14:18:17.965658Z",
     "iopub.status.busy": "2022-06-11T14:18:17.964991Z",
     "iopub.status.idle": "2022-06-11T14:19:39.018904Z",
     "shell.execute_reply": "2022-06-11T14:19:39.019485Z"
    },
    "papermill": {
     "duration": 81.075716,
     "end_time": "2022-06-11T14:19:39.019828",
     "exception": false,
     "start_time": "2022-06-11T14:18:17.944112",
     "status": "completed"
    },
    "tags": []
   },
   "outputs": [
    {
     "data": {
      "text/html": [
       "<div>\n",
       "<style scoped>\n",
       "    .dataframe tbody tr th:only-of-type {\n",
       "        vertical-align: middle;\n",
       "    }\n",
       "\n",
       "    .dataframe tbody tr th {\n",
       "        vertical-align: top;\n",
       "    }\n",
       "\n",
       "    .dataframe thead th {\n",
       "        text-align: right;\n",
       "    }\n",
       "</style>\n",
       "<table border=\"1\" class=\"dataframe\">\n",
       "  <thead>\n",
       "    <tr style=\"text-align: right;\">\n",
       "      <th></th>\n",
       "      <th>Id</th>\n",
       "      <th>UserId</th>\n",
       "      <th>AchievementType</th>\n",
       "      <th>Tier</th>\n",
       "      <th>TierAchievementDate</th>\n",
       "      <th>Points</th>\n",
       "      <th>CurrentRanking</th>\n",
       "      <th>HighestRanking</th>\n",
       "      <th>TotalGold</th>\n",
       "      <th>TotalSilver</th>\n",
       "      <th>TotalBronze</th>\n",
       "    </tr>\n",
       "  </thead>\n",
       "  <tbody>\n",
       "    <tr>\n",
       "      <th>14772352</th>\n",
       "      <td>142309632</td>\n",
       "      <td>4034364</td>\n",
       "      <td>Datasets</td>\n",
       "      <td>2</td>\n",
       "      <td>04/11/2022</td>\n",
       "      <td>106</td>\n",
       "      <td>116.0</td>\n",
       "      <td>114.0</td>\n",
       "      <td>0</td>\n",
       "      <td>1</td>\n",
       "      <td>10</td>\n",
       "    </tr>\n",
       "    <tr>\n",
       "      <th>14772353</th>\n",
       "      <td>142308903</td>\n",
       "      <td>4034364</td>\n",
       "      <td>Discussion</td>\n",
       "      <td>2</td>\n",
       "      <td>03/12/2022</td>\n",
       "      <td>614</td>\n",
       "      <td>90.0</td>\n",
       "      <td>90.0</td>\n",
       "      <td>6</td>\n",
       "      <td>14</td>\n",
       "      <td>383</td>\n",
       "    </tr>\n",
       "    <tr>\n",
       "      <th>14772354</th>\n",
       "      <td>142308178</td>\n",
       "      <td>4034364</td>\n",
       "      <td>Scripts</td>\n",
       "      <td>2</td>\n",
       "      <td>04/06/2022</td>\n",
       "      <td>209</td>\n",
       "      <td>405.0</td>\n",
       "      <td>403.0</td>\n",
       "      <td>0</td>\n",
       "      <td>1</td>\n",
       "      <td>23</td>\n",
       "    </tr>\n",
       "    <tr>\n",
       "      <th>14772355</th>\n",
       "      <td>142307453</td>\n",
       "      <td>4034364</td>\n",
       "      <td>Competitions</td>\n",
       "      <td>1</td>\n",
       "      <td>02/16/2022</td>\n",
       "      <td>0</td>\n",
       "      <td>NaN</td>\n",
       "      <td>NaN</td>\n",
       "      <td>0</td>\n",
       "      <td>0</td>\n",
       "      <td>0</td>\n",
       "    </tr>\n",
       "  </tbody>\n",
       "</table>\n",
       "</div>"
      ],
      "text/plain": [
       "                 Id   UserId AchievementType  Tier TierAchievementDate  \\\n",
       "14772352  142309632  4034364        Datasets     2          04/11/2022   \n",
       "14772353  142308903  4034364      Discussion     2          03/12/2022   \n",
       "14772354  142308178  4034364         Scripts     2          04/06/2022   \n",
       "14772355  142307453  4034364    Competitions     1          02/16/2022   \n",
       "\n",
       "          Points  CurrentRanking  HighestRanking  TotalGold  TotalSilver  \\\n",
       "14772352     106           116.0           114.0          0            1   \n",
       "14772353     614            90.0            90.0          6           14   \n",
       "14772354     209           405.0           403.0          0            1   \n",
       "14772355       0             NaN             NaN          0            0   \n",
       "\n",
       "          TotalBronze  \n",
       "14772352           10  \n",
       "14772353          383  \n",
       "14772354           23  \n",
       "14772355            0  "
      ]
     },
     "execution_count": 12,
     "metadata": {},
     "output_type": "execute_result"
    }
   ],
   "source": [
    "usera = pd.read_csv(path+'UserAchievements.csv')\n",
    "df = usera\n",
    "df.loc[df['UserId'] == 4034364]"
   ]
  },
  {
   "cell_type": "code",
   "execution_count": 13,
   "id": "94309a6f",
   "metadata": {
    "execution": {
     "iopub.execute_input": "2022-06-11T14:19:40.767450Z",
     "iopub.status.busy": "2022-06-11T14:19:40.766697Z",
     "iopub.status.idle": "2022-06-11T14:19:40.778961Z",
     "shell.execute_reply": "2022-06-11T14:19:40.778387Z"
    },
    "papermill": {
     "duration": 1.740466,
     "end_time": "2022-06-11T14:19:40.779114",
     "exception": false,
     "start_time": "2022-06-11T14:19:39.038648",
     "status": "completed"
    },
    "tags": []
   },
   "outputs": [
    {
     "data": {
      "text/html": [
       "<div>\n",
       "<style scoped>\n",
       "    .dataframe tbody tr th:only-of-type {\n",
       "        vertical-align: middle;\n",
       "    }\n",
       "\n",
       "    .dataframe tbody tr th {\n",
       "        vertical-align: top;\n",
       "    }\n",
       "\n",
       "    .dataframe thead th {\n",
       "        text-align: right;\n",
       "    }\n",
       "</style>\n",
       "<table border=\"1\" class=\"dataframe\">\n",
       "  <thead>\n",
       "    <tr style=\"text-align: right;\">\n",
       "      <th></th>\n",
       "      <th>Id</th>\n",
       "      <th>UserName</th>\n",
       "      <th>DisplayName</th>\n",
       "      <th>RegisterDate</th>\n",
       "      <th>PerformanceTier</th>\n",
       "    </tr>\n",
       "  </thead>\n",
       "  <tbody>\n",
       "    <tr>\n",
       "      <th>8827214</th>\n",
       "      <td>9590174</td>\n",
       "      <td>surajjha101</td>\n",
       "      <td>Suraj Jha</td>\n",
       "      <td>02/06/2022</td>\n",
       "      <td>4</td>\n",
       "    </tr>\n",
       "  </tbody>\n",
       "</table>\n",
       "</div>"
      ],
      "text/plain": [
       "              Id     UserName DisplayName RegisterDate  PerformanceTier\n",
       "8827214  9590174  surajjha101   Suraj Jha   02/06/2022                4"
      ]
     },
     "execution_count": 13,
     "metadata": {},
     "output_type": "execute_result"
    }
   ],
   "source": [
    "users.loc[users['UserName'] == 'surajjha101']"
   ]
  },
  {
   "cell_type": "code",
   "execution_count": 14,
   "id": "63435f45",
   "metadata": {
    "execution": {
     "iopub.execute_input": "2022-06-11T14:19:40.833744Z",
     "iopub.status.busy": "2022-06-11T14:19:40.832680Z",
     "iopub.status.idle": "2022-06-11T14:19:40.865098Z",
     "shell.execute_reply": "2022-06-11T14:19:40.864468Z"
    },
    "papermill": {
     "duration": 0.066476,
     "end_time": "2022-06-11T14:19:40.865235",
     "exception": false,
     "start_time": "2022-06-11T14:19:40.798759",
     "status": "completed"
    },
    "tags": []
   },
   "outputs": [
    {
     "data": {
      "text/html": [
       "<div>\n",
       "<style scoped>\n",
       "    .dataframe tbody tr th:only-of-type {\n",
       "        vertical-align: middle;\n",
       "    }\n",
       "\n",
       "    .dataframe tbody tr th {\n",
       "        vertical-align: top;\n",
       "    }\n",
       "\n",
       "    .dataframe thead th {\n",
       "        text-align: right;\n",
       "    }\n",
       "</style>\n",
       "<table border=\"1\" class=\"dataframe\">\n",
       "  <thead>\n",
       "    <tr style=\"text-align: right;\">\n",
       "      <th></th>\n",
       "      <th>Id</th>\n",
       "      <th>UserId</th>\n",
       "      <th>AchievementType</th>\n",
       "      <th>Tier</th>\n",
       "      <th>TierAchievementDate</th>\n",
       "      <th>Points</th>\n",
       "      <th>CurrentRanking</th>\n",
       "      <th>HighestRanking</th>\n",
       "      <th>TotalGold</th>\n",
       "      <th>TotalSilver</th>\n",
       "      <th>TotalBronze</th>\n",
       "    </tr>\n",
       "  </thead>\n",
       "  <tbody>\n",
       "    <tr>\n",
       "      <th>14772352</th>\n",
       "      <td>142309632</td>\n",
       "      <td>4034364</td>\n",
       "      <td>Datasets</td>\n",
       "      <td>2</td>\n",
       "      <td>04/11/2022</td>\n",
       "      <td>106</td>\n",
       "      <td>116.0</td>\n",
       "      <td>114.0</td>\n",
       "      <td>0</td>\n",
       "      <td>1</td>\n",
       "      <td>10</td>\n",
       "    </tr>\n",
       "    <tr>\n",
       "      <th>14772353</th>\n",
       "      <td>142308903</td>\n",
       "      <td>4034364</td>\n",
       "      <td>Discussion</td>\n",
       "      <td>2</td>\n",
       "      <td>03/12/2022</td>\n",
       "      <td>614</td>\n",
       "      <td>90.0</td>\n",
       "      <td>90.0</td>\n",
       "      <td>6</td>\n",
       "      <td>14</td>\n",
       "      <td>383</td>\n",
       "    </tr>\n",
       "    <tr>\n",
       "      <th>14772354</th>\n",
       "      <td>142308178</td>\n",
       "      <td>4034364</td>\n",
       "      <td>Scripts</td>\n",
       "      <td>2</td>\n",
       "      <td>04/06/2022</td>\n",
       "      <td>209</td>\n",
       "      <td>405.0</td>\n",
       "      <td>403.0</td>\n",
       "      <td>0</td>\n",
       "      <td>1</td>\n",
       "      <td>23</td>\n",
       "    </tr>\n",
       "    <tr>\n",
       "      <th>14772355</th>\n",
       "      <td>142307453</td>\n",
       "      <td>4034364</td>\n",
       "      <td>Competitions</td>\n",
       "      <td>1</td>\n",
       "      <td>02/16/2022</td>\n",
       "      <td>0</td>\n",
       "      <td>NaN</td>\n",
       "      <td>NaN</td>\n",
       "      <td>0</td>\n",
       "      <td>0</td>\n",
       "      <td>0</td>\n",
       "    </tr>\n",
       "  </tbody>\n",
       "</table>\n",
       "</div>"
      ],
      "text/plain": [
       "                 Id   UserId AchievementType  Tier TierAchievementDate  \\\n",
       "14772352  142309632  4034364        Datasets     2          04/11/2022   \n",
       "14772353  142308903  4034364      Discussion     2          03/12/2022   \n",
       "14772354  142308178  4034364         Scripts     2          04/06/2022   \n",
       "14772355  142307453  4034364    Competitions     1          02/16/2022   \n",
       "\n",
       "          Points  CurrentRanking  HighestRanking  TotalGold  TotalSilver  \\\n",
       "14772352     106           116.0           114.0          0            1   \n",
       "14772353     614            90.0            90.0          6           14   \n",
       "14772354     209           405.0           403.0          0            1   \n",
       "14772355       0             NaN             NaN          0            0   \n",
       "\n",
       "          TotalBronze  \n",
       "14772352           10  \n",
       "14772353          383  \n",
       "14772354           23  \n",
       "14772355            0  "
      ]
     },
     "execution_count": 14,
     "metadata": {},
     "output_type": "execute_result"
    }
   ],
   "source": [
    "df.loc[df['UserId'] == 4034364]"
   ]
  }
 ],
 "metadata": {
  "kernelspec": {
   "display_name": "Python 3",
   "language": "python",
   "name": "python3"
  },
  "language_info": {
   "codemirror_mode": {
    "name": "ipython",
    "version": 3
   },
   "file_extension": ".py",
   "mimetype": "text/x-python",
   "name": "python",
   "nbconvert_exporter": "python",
   "pygments_lexer": "ipython3",
   "version": "3.7.10"
  },
  "papermill": {
   "default_parameters": {},
   "duration": 128.864668,
   "end_time": "2022-06-11T14:19:43.829138",
   "environment_variables": {},
   "exception": null,
   "input_path": "__notebook__.ipynb",
   "output_path": "__notebook__.ipynb",
   "parameters": {},
   "start_time": "2022-06-11T14:17:34.964470",
   "version": "2.3.3"
  }
 },
 "nbformat": 4,
 "nbformat_minor": 5
}
